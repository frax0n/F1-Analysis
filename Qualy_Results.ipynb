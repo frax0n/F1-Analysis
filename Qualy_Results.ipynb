{
  "nbformat": 4,
  "nbformat_minor": 5,
  "metadata": {
    "kernelspec": {
      "display_name": "Python 3",
      "language": "python",
      "name": "python3"
    },
    "language_info": {
      "codemirror_mode": {
        "name": "ipython",
        "version": 3
      },
      "file_extension": ".py",
      "mimetype": "text/x-python",
      "name": "python",
      "nbconvert_exporter": "python",
      "pygments_lexer": "ipython3",
      "version": "3.8.8"
    },
    "toc": {
      "base_numbering": 1,
      "nav_menu": {},
      "number_sections": true,
      "sideBar": true,
      "skip_h1_title": false,
      "title_cell": "Table of Contents",
      "title_sidebar": "Contents",
      "toc_cell": false,
      "toc_position": {
        "height": "calc(100% - 180px)",
        "left": "10px",
        "top": "150px",
        "width": "303.812px"
      },
      "toc_section_display": true,
      "toc_window_display": true
    },
    "varInspector": {
      "cols": {
        "lenName": 16,
        "lenType": 16,
        "lenVar": 40
      },
      "kernels_config": {
        "python": {
          "delete_cmd_postfix": "",
          "delete_cmd_prefix": "del ",
          "library": "var_list.py",
          "varRefreshCmd": "print(var_dic_list())"
        },
        "r": {
          "delete_cmd_postfix": ") ",
          "delete_cmd_prefix": "rm(",
          "library": "var_list.r",
          "varRefreshCmd": "cat(var_dic_list()) "
        }
      },
      "types_to_exclude": [
        "module",
        "function",
        "builtin_function_or_method",
        "instance",
        "_Feature"
      ],
      "window_display": false
    },
    "colab": {
      "name": "Qualy_Results.ipynb",
      "provenance": []
    },
    "accelerator": "GPU"
  },
  "cells": [
    {
      "cell_type": "markdown",
      "metadata": {
        "id": "1863eb3b"
      },
      "source": [
        "# Working with the dataset"
      ],
      "id": "1863eb3b"
    },
    {
      "cell_type": "code",
      "metadata": {
        "id": "149f2d31"
      },
      "source": [
        "import pandas as pd\n",
        "import numpy as np\n",
        "pd.set_option(\"display.max_columns\", None)\n",
        "#pd.set_option('display.max_rows', None)"
      ],
      "id": "149f2d31",
      "execution_count": 1,
      "outputs": []
    },
    {
      "cell_type": "code",
      "metadata": {
        "id": "fda81325"
      },
      "source": [
        "import plotly.graph_objects as go\n",
        "import seaborn as sns\n",
        "import plotly.express as px\n",
        "import plotly.io as pio\n",
        "import matplotlib.pyplot as plt\n",
        "pio.templates.default = \"plotly_dark\""
      ],
      "id": "fda81325",
      "execution_count": 2,
      "outputs": []
    },
    {
      "cell_type": "code",
      "metadata": {
        "id": "f80269d9"
      },
      "source": [
        "circuits=pd.read_csv('https://raw.githubusercontent.com/frax0n/F1-Analysis/Frax/datasets/circuits.csv')\n",
        "constructor_results=pd.read_csv('https://raw.githubusercontent.com/frax0n/F1-Analysis/Frax/datasets/constructor_results.csv')\n",
        "constructor_standings=pd.read_csv('https://raw.githubusercontent.com/frax0n/F1-Analysis/Frax/datasets/constructor_standings.csv')\n",
        "constructors=pd.read_csv('https://raw.githubusercontent.com/frax0n/F1-Analysis/Frax/datasets/constructors.csv')\n",
        "driver_standings=pd.read_csv('https://raw.githubusercontent.com/frax0n/F1-Analysis/Frax/datasets/driver_standings.csv')\n",
        "drivers=pd.read_csv('https://raw.githubusercontent.com/frax0n/F1-Analysis/Frax/datasets/drivers.csv')\n",
        "lap_times=pd.read_csv('https://raw.githubusercontent.com/frax0n/F1-Analysis/Frax/datasets/lap_times.csv')\n",
        "pit_stops=pd.read_csv('https://raw.githubusercontent.com/frax0n/F1-Analysis/Frax/datasets/pit_stops.csv')\n",
        "qualifying=pd.read_csv('https://raw.githubusercontent.com/frax0n/F1-Analysis/Frax/datasets/qualifying.csv')\n",
        "races=pd.read_csv('https://raw.githubusercontent.com/frax0n/F1-Analysis/Frax/datasets/races.csv')\n",
        "results=pd.read_csv('https://raw.githubusercontent.com/frax0n/F1-Analysis/Frax/datasets/results.csv')\n",
        "seasons=pd.read_csv('https://raw.githubusercontent.com/frax0n/F1-Analysis/Frax/datasets/seasons.csv')\n",
        "status=pd.read_csv('https://raw.githubusercontent.com/frax0n/F1-Analysis/Frax/datasets/status.csv')"
      ],
      "id": "f80269d9",
      "execution_count": 3,
      "outputs": []
    },
    {
      "cell_type": "code",
      "metadata": {
        "id": "3cb6ee9d"
      },
      "source": [
        "TH_races=races.loc[races['year']>=2014]"
      ],
      "id": "3cb6ee9d",
      "execution_count": 4,
      "outputs": []
    },
    {
      "cell_type": "code",
      "metadata": {
        "id": "a6fb7e3f"
      },
      "source": [
        "qualifying=qualifying.rename(columns={\"position\":\"qualifying_pos\"})"
      ],
      "id": "a6fb7e3f",
      "execution_count": 5,
      "outputs": []
    },
    {
      "cell_type": "code",
      "metadata": {
        "id": "b3da6b22"
      },
      "source": [
        "qualifying=qualifying.replace(\"\\\\N\",np.nan)"
      ],
      "id": "b3da6b22",
      "execution_count": 6,
      "outputs": []
    },
    {
      "cell_type": "code",
      "metadata": {
        "id": "b7470dde"
      },
      "source": [
        "qualifying['q1']=pd.to_datetime(qualifying['q1'],format=\"%M:%S.%f\")\n",
        "qualifying['q2']=pd.to_datetime(qualifying['q2'],format=\"%M:%S.%f\")\n",
        "qualifying['q3']=pd.to_datetime(qualifying['q3'],format=\"%M:%S.%f\")"
      ],
      "id": "b7470dde",
      "execution_count": 7,
      "outputs": []
    },
    {
      "cell_type": "code",
      "metadata": {
        "scrolled": false,
        "id": "34084877"
      },
      "source": [
        "qualifying['q1_s']=qualifying['q1'].dt.minute*60+qualifying['q1'].dt.second+qualifying['q1'].dt.microsecond*0.000001\n",
        "qualifying['q2_s']=qualifying['q2'].dt.minute*60+qualifying['q2'].dt.second+qualifying['q2'].dt.microsecond*0.000001\n",
        "qualifying['q3_s']=qualifying['q3'].dt.minute*60+qualifying['q3'].dt.second+qualifying['q3'].dt.microsecond*0.000001"
      ],
      "id": "34084877",
      "execution_count": 8,
      "outputs": []
    },
    {
      "cell_type": "code",
      "metadata": {
        "id": "78e39565"
      },
      "source": [
        "qualifying.drop(columns=['q1', 'q2', 'q3'],inplace=True)"
      ],
      "id": "78e39565",
      "execution_count": 9,
      "outputs": []
    },
    {
      "cell_type": "code",
      "metadata": {
        "id": "5dd80bad"
      },
      "source": [
        "qualifying['q1min']=qualifying['q1_s']\n",
        "qualifying['q2min']=qualifying['q2_s']\n",
        "qualifying['q3min']=qualifying['q3_s']"
      ],
      "id": "5dd80bad",
      "execution_count": 10,
      "outputs": []
    },
    {
      "cell_type": "code",
      "metadata": {
        "id": "9062dd36"
      },
      "source": [
        "qualifying=qualifying.merge(qualifying.groupby('raceId').aggregate({'q1min':'min','q2min':'min','q3min':'min'}),left_on='raceId',right_on='raceId')"
      ],
      "id": "9062dd36",
      "execution_count": 11,
      "outputs": []
    },
    {
      "cell_type": "code",
      "metadata": {
        "id": "6fba595a"
      },
      "source": [
        "qualifying=qualifying.rename(columns={\"q1min_y\":\"q1min\",\"q2min_y\":\"q2min\",\"q3min_y\":\"q3min\"})"
      ],
      "id": "6fba595a",
      "execution_count": 12,
      "outputs": []
    },
    {
      "cell_type": "code",
      "metadata": {
        "id": "40f2cae6"
      },
      "source": [
        "qualifying.drop(columns=['q1min_x','q2min_x','q3min_x'],inplace=True)"
      ],
      "id": "40f2cae6",
      "execution_count": 13,
      "outputs": []
    },
    {
      "cell_type": "code",
      "metadata": {
        "id": "237b6bf8"
      },
      "source": [
        "qualifying['q1_delta']=qualifying['q1min']\n",
        "qualifying['q2_delta']=qualifying['q2min']\n",
        "qualifying['q3_delta']=qualifying['q3min']"
      ],
      "id": "237b6bf8",
      "execution_count": 14,
      "outputs": []
    },
    {
      "cell_type": "code",
      "metadata": {
        "id": "a25c2486"
      },
      "source": [
        "qualifying['q1_delta']=qualifying['q1_s']-qualifying['q1min']\n",
        "qualifying['q2_delta']=qualifying['q2_s']-qualifying['q2min']\n",
        "qualifying['q3_delta']=qualifying['q3_s']-qualifying['q3min']"
      ],
      "id": "a25c2486",
      "execution_count": 15,
      "outputs": []
    },
    {
      "cell_type": "code",
      "metadata": {
        "id": "ddc22fdf",
        "outputId": "a15924ac-aca4-4e59-f223-344e6b8ca8b8",
        "colab": {
          "base_uri": "https://localhost:8080/"
        }
      },
      "source": [
        "qualifying.columns"
      ],
      "id": "ddc22fdf",
      "execution_count": 16,
      "outputs": [
        {
          "output_type": "execute_result",
          "data": {
            "text/plain": [
              "Index(['qualifyId', 'raceId', 'driverId', 'constructorId', 'number',\n",
              "       'qualifying_pos', 'q1_s', 'q2_s', 'q3_s', 'q1min', 'q2min', 'q3min',\n",
              "       'q1_delta', 'q2_delta', 'q3_delta'],\n",
              "      dtype='object')"
            ]
          },
          "metadata": {
            "tags": []
          },
          "execution_count": 16
        }
      ]
    },
    {
      "cell_type": "code",
      "metadata": {
        "id": "8d40cc0e"
      },
      "source": [
        "qualifyingq1=qualifying[['qualifyId', 'raceId', 'driverId', 'constructorId', 'number',\n",
        "       'qualifying_pos','q1_s','q1_delta']]\n",
        "qualifyingq2=qualifying[['qualifyId', 'raceId', 'driverId', 'constructorId', 'number',\n",
        "       'qualifying_pos','q2_s','q2_delta']]\n",
        "\n",
        "qualifyingq3=qualifying[['qualifyId', 'raceId', 'driverId', 'constructorId', 'number',\n",
        "       'qualifying_pos','q3_s','q3_delta']]\n"
      ],
      "id": "8d40cc0e",
      "execution_count": 17,
      "outputs": []
    },
    {
      "cell_type": "code",
      "metadata": {
        "id": "b31edbb6",
        "outputId": "92f62b7e-842d-4d04-a2a1-fea971533d3a",
        "colab": {
          "base_uri": "https://localhost:8080/"
        }
      },
      "source": [
        "results_temp=results[['resultId', 'raceId', 'driverId', 'constructorId','position','statusId','rank']]\n",
        "results_temp.rename(columns={'rank':'driverRanking','position':'final_position',},inplace=True)"
      ],
      "id": "b31edbb6",
      "execution_count": 18,
      "outputs": [
        {
          "output_type": "stream",
          "text": [
            "/usr/local/lib/python3.7/dist-packages/pandas/core/frame.py:4308: SettingWithCopyWarning:\n",
            "\n",
            "\n",
            "A value is trying to be set on a copy of a slice from a DataFrame\n",
            "\n",
            "See the caveats in the documentation: https://pandas.pydata.org/pandas-docs/stable/user_guide/indexing.html#returning-a-view-versus-a-copy\n",
            "\n"
          ],
          "name": "stderr"
        }
      ]
    },
    {
      "cell_type": "code",
      "metadata": {
        "id": "d36fd61a"
      },
      "source": [
        "TH_races_temp=TH_races[['raceId','year','circuitId']]"
      ],
      "id": "d36fd61a",
      "execution_count": 19,
      "outputs": []
    },
    {
      "cell_type": "code",
      "metadata": {
        "id": "70274c0e",
        "outputId": "54eac9ad-91b3-4386-bf8d-13879d875a4e",
        "colab": {
          "base_uri": "https://localhost:8080/",
          "height": 318
        }
      },
      "source": [
        "constructor_standings_temp=constructor_standings[['constructorStandingsId', 'raceId', 'constructorId','position']]\n",
        "constructor_standings_temp.rename(columns={'position':'constructor_ranking'},inplace=True)\n",
        "constructor_standings_temp.head()"
      ],
      "id": "70274c0e",
      "execution_count": 20,
      "outputs": [
        {
          "output_type": "stream",
          "text": [
            "/usr/local/lib/python3.7/dist-packages/pandas/core/frame.py:4308: SettingWithCopyWarning:\n",
            "\n",
            "\n",
            "A value is trying to be set on a copy of a slice from a DataFrame\n",
            "\n",
            "See the caveats in the documentation: https://pandas.pydata.org/pandas-docs/stable/user_guide/indexing.html#returning-a-view-versus-a-copy\n",
            "\n"
          ],
          "name": "stderr"
        },
        {
          "output_type": "execute_result",
          "data": {
            "text/html": [
              "<div>\n",
              "<style scoped>\n",
              "    .dataframe tbody tr th:only-of-type {\n",
              "        vertical-align: middle;\n",
              "    }\n",
              "\n",
              "    .dataframe tbody tr th {\n",
              "        vertical-align: top;\n",
              "    }\n",
              "\n",
              "    .dataframe thead th {\n",
              "        text-align: right;\n",
              "    }\n",
              "</style>\n",
              "<table border=\"1\" class=\"dataframe\">\n",
              "  <thead>\n",
              "    <tr style=\"text-align: right;\">\n",
              "      <th></th>\n",
              "      <th>constructorStandingsId</th>\n",
              "      <th>raceId</th>\n",
              "      <th>constructorId</th>\n",
              "      <th>constructor_ranking</th>\n",
              "    </tr>\n",
              "  </thead>\n",
              "  <tbody>\n",
              "    <tr>\n",
              "      <th>0</th>\n",
              "      <td>1</td>\n",
              "      <td>18</td>\n",
              "      <td>1</td>\n",
              "      <td>1</td>\n",
              "    </tr>\n",
              "    <tr>\n",
              "      <th>1</th>\n",
              "      <td>2</td>\n",
              "      <td>18</td>\n",
              "      <td>2</td>\n",
              "      <td>3</td>\n",
              "    </tr>\n",
              "    <tr>\n",
              "      <th>2</th>\n",
              "      <td>3</td>\n",
              "      <td>18</td>\n",
              "      <td>3</td>\n",
              "      <td>2</td>\n",
              "    </tr>\n",
              "    <tr>\n",
              "      <th>3</th>\n",
              "      <td>4</td>\n",
              "      <td>18</td>\n",
              "      <td>4</td>\n",
              "      <td>4</td>\n",
              "    </tr>\n",
              "    <tr>\n",
              "      <th>4</th>\n",
              "      <td>5</td>\n",
              "      <td>18</td>\n",
              "      <td>5</td>\n",
              "      <td>5</td>\n",
              "    </tr>\n",
              "  </tbody>\n",
              "</table>\n",
              "</div>"
            ],
            "text/plain": [
              "   constructorStandingsId  raceId  constructorId  constructor_ranking\n",
              "0                       1      18              1                    1\n",
              "1                       2      18              2                    3\n",
              "2                       3      18              3                    2\n",
              "3                       4      18              4                    4\n",
              "4                       5      18              5                    5"
            ]
          },
          "metadata": {
            "tags": []
          },
          "execution_count": 20
        }
      ]
    },
    {
      "cell_type": "code",
      "metadata": {
        "id": "8529335d",
        "outputId": "80d11922-b02d-42f5-9abd-5787bd12cbb0",
        "colab": {
          "base_uri": "https://localhost:8080/",
          "height": 195
        }
      },
      "source": [
        "pit_stops_temp=pit_stops.drop(columns=['time','duration'])\n",
        "pit_stops_temp.head()"
      ],
      "id": "8529335d",
      "execution_count": 21,
      "outputs": [
        {
          "output_type": "execute_result",
          "data": {
            "text/html": [
              "<div>\n",
              "<style scoped>\n",
              "    .dataframe tbody tr th:only-of-type {\n",
              "        vertical-align: middle;\n",
              "    }\n",
              "\n",
              "    .dataframe tbody tr th {\n",
              "        vertical-align: top;\n",
              "    }\n",
              "\n",
              "    .dataframe thead th {\n",
              "        text-align: right;\n",
              "    }\n",
              "</style>\n",
              "<table border=\"1\" class=\"dataframe\">\n",
              "  <thead>\n",
              "    <tr style=\"text-align: right;\">\n",
              "      <th></th>\n",
              "      <th>raceId</th>\n",
              "      <th>driverId</th>\n",
              "      <th>stop</th>\n",
              "      <th>lap</th>\n",
              "      <th>milliseconds</th>\n",
              "    </tr>\n",
              "  </thead>\n",
              "  <tbody>\n",
              "    <tr>\n",
              "      <th>0</th>\n",
              "      <td>841</td>\n",
              "      <td>153</td>\n",
              "      <td>1</td>\n",
              "      <td>1</td>\n",
              "      <td>26898</td>\n",
              "    </tr>\n",
              "    <tr>\n",
              "      <th>1</th>\n",
              "      <td>841</td>\n",
              "      <td>30</td>\n",
              "      <td>1</td>\n",
              "      <td>1</td>\n",
              "      <td>25021</td>\n",
              "    </tr>\n",
              "    <tr>\n",
              "      <th>2</th>\n",
              "      <td>841</td>\n",
              "      <td>17</td>\n",
              "      <td>1</td>\n",
              "      <td>11</td>\n",
              "      <td>23426</td>\n",
              "    </tr>\n",
              "    <tr>\n",
              "      <th>3</th>\n",
              "      <td>841</td>\n",
              "      <td>4</td>\n",
              "      <td>1</td>\n",
              "      <td>12</td>\n",
              "      <td>23251</td>\n",
              "    </tr>\n",
              "    <tr>\n",
              "      <th>4</th>\n",
              "      <td>841</td>\n",
              "      <td>13</td>\n",
              "      <td>1</td>\n",
              "      <td>13</td>\n",
              "      <td>23842</td>\n",
              "    </tr>\n",
              "  </tbody>\n",
              "</table>\n",
              "</div>"
            ],
            "text/plain": [
              "   raceId  driverId  stop  lap  milliseconds\n",
              "0     841       153     1    1         26898\n",
              "1     841        30     1    1         25021\n",
              "2     841        17     1   11         23426\n",
              "3     841         4     1   12         23251\n",
              "4     841        13     1   13         23842"
            ]
          },
          "metadata": {
            "tags": []
          },
          "execution_count": 21
        }
      ]
    },
    {
      "cell_type": "code",
      "metadata": {
        "id": "524f04a9"
      },
      "source": [
        "temp=qualifyingq2\n",
        "temp=temp.dropna()\n",
        "qualifyingq2=temp\n"
      ],
      "id": "524f04a9",
      "execution_count": 22,
      "outputs": []
    },
    {
      "cell_type": "code",
      "metadata": {
        "id": "b2678456"
      },
      "source": [
        "temp=qualifyingq3\n",
        "temp=temp.dropna()\n",
        "qualifyingq3=temp\n"
      ],
      "id": "b2678456",
      "execution_count": 23,
      "outputs": []
    },
    {
      "cell_type": "code",
      "metadata": {
        "id": "45306346",
        "outputId": "11a3401e-7a9e-46f7-afd2-d29cf2629d07",
        "colab": {
          "base_uri": "https://localhost:8080/",
          "height": 215
        }
      },
      "source": [
        "q1=qualifyingq1.merge(results_temp,left_on=['raceId','driverId','constructorId'],right_on=['raceId','driverId','constructorId'])\n",
        "q1=q1.merge(constructor_standings_temp,left_on=['raceId','constructorId'],right_on=['raceId','constructorId'])\n",
        "q1=q1.merge(TH_races_temp,left_on=['raceId'],right_on=['raceId'])\n",
        "q1=q1.merge(pit_stops_temp,left_on=['raceId','driverId'],right_on=['raceId','driverId'])\n",
        "q1=q1.loc[(q1['statusId']==1) | (q1['statusId']==11) | (q1['statusId']==12)]\n",
        "q1.head()"
      ],
      "id": "45306346",
      "execution_count": 24,
      "outputs": [
        {
          "output_type": "execute_result",
          "data": {
            "text/html": [
              "<div>\n",
              "<style scoped>\n",
              "    .dataframe tbody tr th:only-of-type {\n",
              "        vertical-align: middle;\n",
              "    }\n",
              "\n",
              "    .dataframe tbody tr th {\n",
              "        vertical-align: top;\n",
              "    }\n",
              "\n",
              "    .dataframe thead th {\n",
              "        text-align: right;\n",
              "    }\n",
              "</style>\n",
              "<table border=\"1\" class=\"dataframe\">\n",
              "  <thead>\n",
              "    <tr style=\"text-align: right;\">\n",
              "      <th></th>\n",
              "      <th>qualifyId</th>\n",
              "      <th>raceId</th>\n",
              "      <th>driverId</th>\n",
              "      <th>constructorId</th>\n",
              "      <th>number</th>\n",
              "      <th>qualifying_pos</th>\n",
              "      <th>q1_s</th>\n",
              "      <th>q1_delta</th>\n",
              "      <th>resultId</th>\n",
              "      <th>final_position</th>\n",
              "      <th>statusId</th>\n",
              "      <th>driverRanking</th>\n",
              "      <th>constructorStandingsId</th>\n",
              "      <th>constructor_ranking</th>\n",
              "      <th>year</th>\n",
              "      <th>circuitId</th>\n",
              "      <th>stop</th>\n",
              "      <th>lap</th>\n",
              "      <th>milliseconds</th>\n",
              "    </tr>\n",
              "  </thead>\n",
              "  <tbody>\n",
              "    <tr>\n",
              "      <th>0</th>\n",
              "      <td>5862</td>\n",
              "      <td>900</td>\n",
              "      <td>3</td>\n",
              "      <td>131</td>\n",
              "      <td>6</td>\n",
              "      <td>3</td>\n",
              "      <td>92.564</td>\n",
              "      <td>1.789</td>\n",
              "      <td>22130</td>\n",
              "      <td>1</td>\n",
              "      <td>1</td>\n",
              "      <td>1</td>\n",
              "      <td>25931</td>\n",
              "      <td>2</td>\n",
              "      <td>2014</td>\n",
              "      <td>1</td>\n",
              "      <td>1</td>\n",
              "      <td>12</td>\n",
              "      <td>24331</td>\n",
              "    </tr>\n",
              "    <tr>\n",
              "      <th>1</th>\n",
              "      <td>5862</td>\n",
              "      <td>900</td>\n",
              "      <td>3</td>\n",
              "      <td>131</td>\n",
              "      <td>6</td>\n",
              "      <td>3</td>\n",
              "      <td>92.564</td>\n",
              "      <td>1.789</td>\n",
              "      <td>22130</td>\n",
              "      <td>1</td>\n",
              "      <td>1</td>\n",
              "      <td>1</td>\n",
              "      <td>25931</td>\n",
              "      <td>2</td>\n",
              "      <td>2014</td>\n",
              "      <td>1</td>\n",
              "      <td>2</td>\n",
              "      <td>38</td>\n",
              "      <td>23673</td>\n",
              "    </tr>\n",
              "    <tr>\n",
              "      <th>4</th>\n",
              "      <td>5863</td>\n",
              "      <td>900</td>\n",
              "      <td>825</td>\n",
              "      <td>1</td>\n",
              "      <td>20</td>\n",
              "      <td>4</td>\n",
              "      <td>90.949</td>\n",
              "      <td>0.174</td>\n",
              "      <td>22131</td>\n",
              "      <td>2</td>\n",
              "      <td>1</td>\n",
              "      <td>6</td>\n",
              "      <td>25932</td>\n",
              "      <td>1</td>\n",
              "      <td>2014</td>\n",
              "      <td>1</td>\n",
              "      <td>1</td>\n",
              "      <td>12</td>\n",
              "      <td>23150</td>\n",
              "    </tr>\n",
              "    <tr>\n",
              "      <th>5</th>\n",
              "      <td>5863</td>\n",
              "      <td>900</td>\n",
              "      <td>825</td>\n",
              "      <td>1</td>\n",
              "      <td>20</td>\n",
              "      <td>4</td>\n",
              "      <td>90.949</td>\n",
              "      <td>0.174</td>\n",
              "      <td>22131</td>\n",
              "      <td>2</td>\n",
              "      <td>1</td>\n",
              "      <td>6</td>\n",
              "      <td>25932</td>\n",
              "      <td>1</td>\n",
              "      <td>2014</td>\n",
              "      <td>1</td>\n",
              "      <td>2</td>\n",
              "      <td>37</td>\n",
              "      <td>22273</td>\n",
              "    </tr>\n",
              "    <tr>\n",
              "      <th>6</th>\n",
              "      <td>5870</td>\n",
              "      <td>900</td>\n",
              "      <td>18</td>\n",
              "      <td>1</td>\n",
              "      <td>22</td>\n",
              "      <td>11</td>\n",
              "      <td>91.396</td>\n",
              "      <td>0.621</td>\n",
              "      <td>22132</td>\n",
              "      <td>3</td>\n",
              "      <td>1</td>\n",
              "      <td>5</td>\n",
              "      <td>25932</td>\n",
              "      <td>1</td>\n",
              "      <td>2014</td>\n",
              "      <td>1</td>\n",
              "      <td>1</td>\n",
              "      <td>11</td>\n",
              "      <td>22411</td>\n",
              "    </tr>\n",
              "  </tbody>\n",
              "</table>\n",
              "</div>"
            ],
            "text/plain": [
              "   qualifyId  raceId  driverId  constructorId  number  qualifying_pos    q1_s  \\\n",
              "0       5862     900         3            131       6               3  92.564   \n",
              "1       5862     900         3            131       6               3  92.564   \n",
              "4       5863     900       825              1      20               4  90.949   \n",
              "5       5863     900       825              1      20               4  90.949   \n",
              "6       5870     900        18              1      22              11  91.396   \n",
              "\n",
              "   q1_delta  resultId final_position  statusId driverRanking  \\\n",
              "0     1.789     22130              1         1             1   \n",
              "1     1.789     22130              1         1             1   \n",
              "4     0.174     22131              2         1             6   \n",
              "5     0.174     22131              2         1             6   \n",
              "6     0.621     22132              3         1             5   \n",
              "\n",
              "   constructorStandingsId  constructor_ranking  year  circuitId  stop  lap  \\\n",
              "0                   25931                    2  2014          1     1   12   \n",
              "1                   25931                    2  2014          1     2   38   \n",
              "4                   25932                    1  2014          1     1   12   \n",
              "5                   25932                    1  2014          1     2   37   \n",
              "6                   25932                    1  2014          1     1   11   \n",
              "\n",
              "   milliseconds  \n",
              "0         24331  \n",
              "1         23673  \n",
              "4         23150  \n",
              "5         22273  \n",
              "6         22411  "
            ]
          },
          "metadata": {
            "tags": []
          },
          "execution_count": 24
        }
      ]
    },
    {
      "cell_type": "code",
      "metadata": {
        "id": "c50944cf"
      },
      "source": [
        "q2=qualifyingq2.merge(results_temp,left_on=['raceId','driverId','constructorId'],right_on=['raceId','driverId','constructorId'])\n",
        "q2=q2.merge(constructor_standings_temp,left_on=['raceId','constructorId'],right_on=['raceId','constructorId'])\n",
        "q2=q2.merge(TH_races_temp,left_on=['raceId'],right_on=['raceId'])\n",
        "q2=q2.merge(pit_stops_temp,left_on=['raceId','driverId'],right_on=['raceId','driverId'])\n",
        "q2=q2.loc[(q2['statusId']==1) | (q2['statusId']==11) | (q2['statusId']==12)]"
      ],
      "id": "c50944cf",
      "execution_count": 25,
      "outputs": []
    },
    {
      "cell_type": "code",
      "metadata": {
        "id": "bbd0dddf"
      },
      "source": [
        "q3=qualifyingq3.merge(results_temp,left_on=['raceId','driverId','constructorId'],right_on=['raceId','driverId','constructorId'])\n",
        "q3=q3.merge(constructor_standings_temp,left_on=['raceId','constructorId'],right_on=['raceId','constructorId'])\n",
        "q3=q3.merge(TH_races_temp,left_on=['raceId'],right_on=['raceId'])\n",
        "q3=q3.merge(pit_stops_temp,left_on=['raceId','driverId'],right_on=['raceId','driverId'])\n",
        "q3=q3.loc[(q3['statusId']==1) | (q3['statusId']==11) | (q3['statusId']==12)]"
      ],
      "id": "bbd0dddf",
      "execution_count": 26,
      "outputs": []
    },
    {
      "cell_type": "markdown",
      "metadata": {
        "id": "4dbc1145"
      },
      "source": [
        "# Machine Learning"
      ],
      "id": "4dbc1145"
    },
    {
      "cell_type": "code",
      "metadata": {
        "id": "61e2fcfa"
      },
      "source": [
        "from sklearn import model_selection\n",
        "from sklearn.linear_model import LinearRegression, Ridge, Lasso, ElasticNet\n",
        "from sklearn.neighbors import KNeighborsRegressor\n",
        "from sklearn.tree import DecisionTreeRegressor\n",
        "from sklearn.tree import DecisionTreeClassifier\n",
        "from sklearn.ensemble  import RandomForestClassifier\n",
        "from sklearn.svm import SVR\n",
        "from sklearn.ensemble import RandomForestRegressor\n",
        "from sklearn.ensemble import ExtraTreesClassifier\n",
        "from sklearn.metrics import mean_squared_error, r2_score\n",
        "from sklearn.model_selection import train_test_split\n",
        "from sklearn.svm import SVR\n",
        "from sklearn.metrics import precision_score, recall_score, f1_score, accuracy_score\n",
        "from sklearn.metrics import mean_squared_error, r2_score, mean_absolute_error\n",
        "import plotly.express as px\n",
        "import plotly.graph_objects as go\n",
        "from sklearn.metrics import mean_absolute_error\n",
        "from sklearn.preprocessing import StandardScaler\n",
        "import pandas as pd\n",
        "import numpy as np\n",
        "from sklearn.model_selection import train_test_split\n",
        "import plotly.graph_objects as go\n",
        "from sklearn.metrics import accuracy_score\n",
        "from sklearn.metrics import average_precision_score\n",
        "from sklearn.metrics import precision_recall_curve\n",
        "from sklearn.metrics import plot_precision_recall_curve\n",
        "import matplotlib.pyplot as plt\n",
        "from sklearn import svm"
      ],
      "id": "61e2fcfa",
      "execution_count": 27,
      "outputs": []
    },
    {
      "cell_type": "code",
      "metadata": {
        "scrolled": false,
        "id": "41cf1531"
      },
      "source": [
        "q1.drop(columns=['qualifyId','resultId','constructorStandingsId','raceId'],inplace=True)\n",
        "q2.drop(columns=['qualifyId','resultId','constructorStandingsId','raceId'],inplace=True)\n",
        "q3.drop(columns=['qualifyId','resultId','constructorStandingsId','raceId'],inplace=True)"
      ],
      "id": "41cf1531",
      "execution_count": 28,
      "outputs": []
    },
    {
      "cell_type": "code",
      "metadata": {
        "id": "edff72ee"
      },
      "source": [
        "q1['final_position']=q1['final_position'].astype(int)\n",
        "q1['driverRanking']=q1['driverRanking'].astype(int)\n",
        "q2['final_position']=q2['final_position'].astype(int)\n",
        "q2['driverRanking']=q2['driverRanking'].astype(int)\n",
        "q3['final_position']=q3['final_position'].astype(int)\n",
        "q3['driverRanking']=q3['driverRanking'].astype(int)"
      ],
      "id": "edff72ee",
      "execution_count": 29,
      "outputs": []
    },
    {
      "cell_type": "code",
      "metadata": {
        "id": "e4696226"
      },
      "source": [
        "test2=q2.merge(q1[['q1_s','q1_delta','driverId', 'constructorId', 'number','year', 'circuitId', 'stop', 'lap',\n",
        "                   'milliseconds']],left_on=['driverId', 'constructorId', 'number','year', 'circuitId', 'stop', 'lap',\n",
        "                   'milliseconds'],right_on=['driverId', 'constructorId', 'number','year', 'circuitId', 'stop', 'lap',\n",
        "                   'milliseconds'])\n",
        "test3=q3.merge(test2[['q1_s','q1_delta','driverId', 'constructorId', 'number','year', 'circuitId', 'stop', 'lap',\n",
        "                   'milliseconds','q2_s','q2_delta']],\n",
        "              left_on=['driverId', 'constructorId', 'number','year', 'circuitId', 'stop', 'lap',\n",
        "                   'milliseconds'],\n",
        "              right_on=['driverId', 'constructorId', 'number','year', 'circuitId', 'stop', 'lap',\n",
        "                   'milliseconds'])"
      ],
      "id": "e4696226",
      "execution_count": 30,
      "outputs": []
    },
    {
      "cell_type": "code",
      "metadata": {
        "id": "9cfc5c99"
      },
      "source": [
        "test=q1"
      ],
      "id": "9cfc5c99",
      "execution_count": 31,
      "outputs": []
    },
    {
      "cell_type": "code",
      "metadata": {
        "id": "6e6fd5af"
      },
      "source": [
        "#test=pd.get_dummies(q1,columns=['driverId','constructorId','circuitId'])\n",
        "#test2=pd.get_dummies(test2,columns=['driverId','constructorId','circuitId'])\n",
        "#test3=pd.get_dummies(test3,columns=['driverId','constructorId','circuitId'])"
      ],
      "id": "6e6fd5af",
      "execution_count": 32,
      "outputs": []
    },
    {
      "cell_type": "code",
      "metadata": {
        "id": "c748a930"
      },
      "source": [
        "test=test.dropna()\n",
        "test2=test2.dropna()\n",
        "test3=test3.dropna()"
      ],
      "id": "c748a930",
      "execution_count": 33,
      "outputs": []
    },
    {
      "cell_type": "code",
      "metadata": {
        "id": "9abea1fa"
      },
      "source": [
        "X_train, X_test, y_train, y_test = train_test_split(test.drop(columns=['final_position','qualifying_pos','number','statusId']), test['final_position'], test_size = 0.25, random_state=8)\n",
        "X_train_2, X_test_2, y_train_2, y_test_2 = train_test_split(test2.drop(columns=['final_position','qualifying_pos','number','statusId']), test2['final_position'], test_size = 0.25, random_state=8)\n",
        "X_train_3, X_test_3, y_train_3, y_test_3 = train_test_split(test3.drop(columns=['final_position','qualifying_pos','number','statusId']), test3['final_position'], test_size = 0.25, random_state=8)"
      ],
      "id": "9abea1fa",
      "execution_count": 34,
      "outputs": []
    },
    {
      "cell_type": "markdown",
      "metadata": {
        "id": "8d2b6bbf"
      },
      "source": [
        "## Decision Tree"
      ],
      "id": "8d2b6bbf"
    },
    {
      "cell_type": "code",
      "metadata": {
        "deletable": false,
        "editable": false,
        "run_control": {
          "frozen": true
        },
        "id": "a72d1714",
        "outputId": "692730a8-80bb-48f4-b120-b010fdeb1ea8",
        "colab": {
          "base_uri": "https://localhost:8080/"
        }
      },
      "source": [
        "decision_tree=DecisionTreeClassifier()\n",
        "param_grid={\n",
        "    \"criterion\":['gini','entropy'],\n",
        "    \"max_depth\":[107],\n",
        "    \"max_features\":['auto','sqrt','log2',''],\n",
        "    \"random_state\":np.arange(1,10)   \n",
        "}\n",
        "test_model=model_selection.GridSearchCV(estimator=decision_tree,param_grid=param_grid,\n",
        "                                       scoring='accuracy',verbose=10)\n",
        "test_model.fit(X_train_2,y_train_2)\n",
        "print(test_model.best_score_)\n",
        "print(test_model.best_estimator_.get_params())\n"
      ],
      "id": "a72d1714",
      "execution_count": 35,
      "outputs": [
        {
          "output_type": "stream",
          "text": [
            "Fitting 5 folds for each of 72 candidates, totalling 360 fits\n",
            "[CV] criterion=gini, max_depth=107, max_features=auto, random_state=1 \n",
            "[CV]  criterion=gini, max_depth=107, max_features=auto, random_state=1, score=0.520, total=   0.0s\n",
            "[CV] criterion=gini, max_depth=107, max_features=auto, random_state=1 \n",
            "[CV]  criterion=gini, max_depth=107, max_features=auto, random_state=1, score=0.542, total=   0.0s\n",
            "[CV] criterion=gini, max_depth=107, max_features=auto, random_state=1 \n",
            "[CV]  criterion=gini, max_depth=107, max_features=auto, random_state=1, score=0.536, total=   0.0s\n",
            "[CV] criterion=gini, max_depth=107, max_features=auto, random_state=1 \n",
            "[CV]  criterion=gini, max_depth=107, max_features=auto, random_state=1, score=0.516, total=   0.0s\n",
            "[CV] criterion=gini, max_depth=107, max_features=auto, random_state=1 \n",
            "[CV]  criterion=gini, max_depth=107, max_features=auto, random_state=1, score=0.501, total=   0.0s\n",
            "[CV] criterion=gini, max_depth=107, max_features=auto, random_state=2 \n",
            "[CV]  criterion=gini, max_depth=107, max_features=auto, random_state=2, score=0.536, total=   0.0s\n",
            "[CV] criterion=gini, max_depth=107, max_features=auto, random_state=2 \n",
            "[CV]  criterion=gini, max_depth=107, max_features=auto, random_state=2, score=0.420, total=   0.0s\n",
            "[CV] criterion=gini, max_depth=107, max_features=auto, random_state=2 \n",
            "[CV]  criterion=gini, max_depth=107, max_features=auto, random_state=2, score=0.496, total=   0.0s\n",
            "[CV] criterion=gini, max_depth=107, max_features=auto, random_state=2 \n",
            "[CV]  criterion=gini, max_depth=107, max_features=auto, random_state=2, score=0.532, total=   0.0s\n",
            "[CV] criterion=gini, max_depth=107, max_features=auto, random_state=2 \n",
            "[CV]  criterion=gini, max_depth=107, max_features=auto, random_state=2, score=0.507, total=   0.0s\n",
            "[CV] criterion=gini, max_depth=107, max_features=auto, random_state=3 \n",
            "[CV]  criterion=gini, max_depth=107, max_features=auto, random_state=3, score=0.522, total=   0.0s\n",
            "[CV] criterion=gini, max_depth=107, max_features=auto, random_state=3 \n",
            "[CV]  criterion=gini, max_depth=107, max_features=auto, random_state=3, score=0.522, total=   0.0s\n",
            "[CV] criterion=gini, max_depth=107, max_features=auto, random_state=3 \n",
            "[CV]  criterion=gini, max_depth=107, max_features=auto, random_state=3, score=0.510, total=   0.0s\n",
            "[CV] criterion=gini, max_depth=107, max_features=auto, random_state=3 \n",
            "[CV]  criterion=gini, max_depth=107, max_features=auto, random_state=3, score=0.550, total=   0.0s\n",
            "[CV] criterion=gini, max_depth=107, max_features=auto, random_state=3 \n",
            "[CV]  criterion=gini, max_depth=107, max_features=auto, random_state=3, score=0.557, total=   0.0s\n",
            "[CV] criterion=gini, max_depth=107, max_features=auto, random_state=4 \n",
            "[CV]  criterion=gini, max_depth=107, max_features=auto, random_state=4, score=0.542, total=   0.0s\n",
            "[CV] criterion=gini, max_depth=107, max_features=auto, random_state=4 \n",
            "[CV]  criterion=gini, max_depth=107, max_features=auto, random_state=4, score=0.538, total=   0.0s\n",
            "[CV] criterion=gini, max_depth=107, max_features=auto, random_state=4 \n"
          ],
          "name": "stdout"
        },
        {
          "output_type": "stream",
          "text": [
            "[Parallel(n_jobs=1)]: Using backend SequentialBackend with 1 concurrent workers.\n",
            "[Parallel(n_jobs=1)]: Done   1 out of   1 | elapsed:    0.0s remaining:    0.0s\n",
            "[Parallel(n_jobs=1)]: Done   2 out of   2 | elapsed:    0.0s remaining:    0.0s\n",
            "[Parallel(n_jobs=1)]: Done   3 out of   3 | elapsed:    0.0s remaining:    0.0s\n",
            "[Parallel(n_jobs=1)]: Done   4 out of   4 | elapsed:    0.0s remaining:    0.0s\n",
            "[Parallel(n_jobs=1)]: Done   5 out of   5 | elapsed:    0.0s remaining:    0.0s\n",
            "[Parallel(n_jobs=1)]: Done   6 out of   6 | elapsed:    0.1s remaining:    0.0s\n",
            "[Parallel(n_jobs=1)]: Done   7 out of   7 | elapsed:    0.1s remaining:    0.0s\n",
            "[Parallel(n_jobs=1)]: Done   8 out of   8 | elapsed:    0.1s remaining:    0.0s\n",
            "[Parallel(n_jobs=1)]: Done   9 out of   9 | elapsed:    0.1s remaining:    0.0s\n"
          ],
          "name": "stderr"
        },
        {
          "output_type": "stream",
          "text": [
            "[CV]  criterion=gini, max_depth=107, max_features=auto, random_state=4, score=0.516, total=   0.0s\n",
            "[CV] criterion=gini, max_depth=107, max_features=auto, random_state=4 \n",
            "[CV]  criterion=gini, max_depth=107, max_features=auto, random_state=4, score=0.538, total=   0.0s\n",
            "[CV] criterion=gini, max_depth=107, max_features=auto, random_state=4 \n",
            "[CV]  criterion=gini, max_depth=107, max_features=auto, random_state=4, score=0.535, total=   0.0s\n",
            "[CV] criterion=gini, max_depth=107, max_features=auto, random_state=5 \n",
            "[CV]  criterion=gini, max_depth=107, max_features=auto, random_state=5, score=0.574, total=   0.0s\n",
            "[CV] criterion=gini, max_depth=107, max_features=auto, random_state=5 \n",
            "[CV]  criterion=gini, max_depth=107, max_features=auto, random_state=5, score=0.540, total=   0.0s\n",
            "[CV] criterion=gini, max_depth=107, max_features=auto, random_state=5 \n",
            "[CV]  criterion=gini, max_depth=107, max_features=auto, random_state=5, score=0.506, total=   0.0s\n",
            "[CV] criterion=gini, max_depth=107, max_features=auto, random_state=5 \n",
            "[CV]  criterion=gini, max_depth=107, max_features=auto, random_state=5, score=0.560, total=   0.0s\n",
            "[CV] criterion=gini, max_depth=107, max_features=auto, random_state=5 \n",
            "[CV]  criterion=gini, max_depth=107, max_features=auto, random_state=5, score=0.553, total=   0.0s\n",
            "[CV] criterion=gini, max_depth=107, max_features=auto, random_state=6 \n",
            "[CV]  criterion=gini, max_depth=107, max_features=auto, random_state=6, score=0.496, total=   0.0s\n",
            "[CV] criterion=gini, max_depth=107, max_features=auto, random_state=6 \n",
            "[CV]  criterion=gini, max_depth=107, max_features=auto, random_state=6, score=0.544, total=   0.0s\n",
            "[CV] criterion=gini, max_depth=107, max_features=auto, random_state=6 \n",
            "[CV]  criterion=gini, max_depth=107, max_features=auto, random_state=6, score=0.514, total=   0.0s\n",
            "[CV] criterion=gini, max_depth=107, max_features=auto, random_state=6 \n",
            "[CV]  criterion=gini, max_depth=107, max_features=auto, random_state=6, score=0.508, total=   0.0s\n",
            "[CV] criterion=gini, max_depth=107, max_features=auto, random_state=6 \n",
            "[CV]  criterion=gini, max_depth=107, max_features=auto, random_state=6, score=0.555, total=   0.0s\n",
            "[CV] criterion=gini, max_depth=107, max_features=auto, random_state=7 \n",
            "[CV]  criterion=gini, max_depth=107, max_features=auto, random_state=7, score=0.526, total=   0.0s\n",
            "[CV] criterion=gini, max_depth=107, max_features=auto, random_state=7 \n",
            "[CV]  criterion=gini, max_depth=107, max_features=auto, random_state=7, score=0.540, total=   0.0s\n",
            "[CV] criterion=gini, max_depth=107, max_features=auto, random_state=7 \n",
            "[CV]  criterion=gini, max_depth=107, max_features=auto, random_state=7, score=0.474, total=   0.0s\n",
            "[CV] criterion=gini, max_depth=107, max_features=auto, random_state=7 \n",
            "[CV]  criterion=gini, max_depth=107, max_features=auto, random_state=7, score=0.534, total=   0.0s\n",
            "[CV] criterion=gini, max_depth=107, max_features=auto, random_state=7 \n",
            "[CV]  criterion=gini, max_depth=107, max_features=auto, random_state=7, score=0.475, total=   0.0s\n",
            "[CV] criterion=gini, max_depth=107, max_features=auto, random_state=8 \n",
            "[CV]  criterion=gini, max_depth=107, max_features=auto, random_state=8, score=0.526, total=   0.0s\n",
            "[CV] criterion=gini, max_depth=107, max_features=auto, random_state=8 \n",
            "[CV]  criterion=gini, max_depth=107, max_features=auto, random_state=8, score=0.532, total=   0.0s\n",
            "[CV] criterion=gini, max_depth=107, max_features=auto, random_state=8 \n",
            "[CV]  criterion=gini, max_depth=107, max_features=auto, random_state=8, score=0.554, total=   0.0s\n",
            "[CV] criterion=gini, max_depth=107, max_features=auto, random_state=8 \n",
            "[CV]  criterion=gini, max_depth=107, max_features=auto, random_state=8, score=0.534, total=   0.0s\n",
            "[CV] criterion=gini, max_depth=107, max_features=auto, random_state=8 \n",
            "[CV]  criterion=gini, max_depth=107, max_features=auto, random_state=8, score=0.525, total=   0.0s\n",
            "[CV] criterion=gini, max_depth=107, max_features=auto, random_state=9 \n",
            "[CV]  criterion=gini, max_depth=107, max_features=auto, random_state=9, score=0.528, total=   0.0s\n",
            "[CV] criterion=gini, max_depth=107, max_features=auto, random_state=9 \n",
            "[CV]  criterion=gini, max_depth=107, max_features=auto, random_state=9, score=0.558, total=   0.0s\n",
            "[CV] criterion=gini, max_depth=107, max_features=auto, random_state=9 \n",
            "[CV]  criterion=gini, max_depth=107, max_features=auto, random_state=9, score=0.508, total=   0.0s\n",
            "[CV] criterion=gini, max_depth=107, max_features=auto, random_state=9 \n",
            "[CV]  criterion=gini, max_depth=107, max_features=auto, random_state=9, score=0.542, total=   0.0s\n",
            "[CV] criterion=gini, max_depth=107, max_features=auto, random_state=9 \n",
            "[CV]  criterion=gini, max_depth=107, max_features=auto, random_state=9, score=0.549, total=   0.0s\n",
            "[CV] criterion=gini, max_depth=107, max_features=sqrt, random_state=1 \n",
            "[CV]  criterion=gini, max_depth=107, max_features=sqrt, random_state=1, score=0.520, total=   0.0s\n",
            "[CV] criterion=gini, max_depth=107, max_features=sqrt, random_state=1 \n",
            "[CV]  criterion=gini, max_depth=107, max_features=sqrt, random_state=1, score=0.542, total=   0.0s\n",
            "[CV] criterion=gini, max_depth=107, max_features=sqrt, random_state=1 \n",
            "[CV]  criterion=gini, max_depth=107, max_features=sqrt, random_state=1, score=0.536, total=   0.0s\n",
            "[CV] criterion=gini, max_depth=107, max_features=sqrt, random_state=1 \n",
            "[CV]  criterion=gini, max_depth=107, max_features=sqrt, random_state=1, score=0.516, total=   0.0s\n",
            "[CV] criterion=gini, max_depth=107, max_features=sqrt, random_state=1 \n",
            "[CV]  criterion=gini, max_depth=107, max_features=sqrt, random_state=1, score=0.501, total=   0.0s\n",
            "[CV] criterion=gini, max_depth=107, max_features=sqrt, random_state=2 \n",
            "[CV]  criterion=gini, max_depth=107, max_features=sqrt, random_state=2, score=0.536, total=   0.0s\n",
            "[CV] criterion=gini, max_depth=107, max_features=sqrt, random_state=2 \n",
            "[CV]  criterion=gini, max_depth=107, max_features=sqrt, random_state=2, score=0.420, total=   0.0s\n",
            "[CV] criterion=gini, max_depth=107, max_features=sqrt, random_state=2 \n",
            "[CV]  criterion=gini, max_depth=107, max_features=sqrt, random_state=2, score=0.496, total=   0.0s\n",
            "[CV] criterion=gini, max_depth=107, max_features=sqrt, random_state=2 \n",
            "[CV]  criterion=gini, max_depth=107, max_features=sqrt, random_state=2, score=0.532, total=   0.0s\n",
            "[CV] criterion=gini, max_depth=107, max_features=sqrt, random_state=2 \n",
            "[CV]  criterion=gini, max_depth=107, max_features=sqrt, random_state=2, score=0.507, total=   0.0s\n",
            "[CV] criterion=gini, max_depth=107, max_features=sqrt, random_state=3 \n",
            "[CV]  criterion=gini, max_depth=107, max_features=sqrt, random_state=3, score=0.522, total=   0.0s\n",
            "[CV] criterion=gini, max_depth=107, max_features=sqrt, random_state=3 \n",
            "[CV]  criterion=gini, max_depth=107, max_features=sqrt, random_state=3, score=0.522, total=   0.0s\n",
            "[CV] criterion=gini, max_depth=107, max_features=sqrt, random_state=3 \n",
            "[CV]  criterion=gini, max_depth=107, max_features=sqrt, random_state=3, score=0.510, total=   0.0s\n",
            "[CV] criterion=gini, max_depth=107, max_features=sqrt, random_state=3 \n",
            "[CV]  criterion=gini, max_depth=107, max_features=sqrt, random_state=3, score=0.550, total=   0.0s\n",
            "[CV] criterion=gini, max_depth=107, max_features=sqrt, random_state=3 \n",
            "[CV]  criterion=gini, max_depth=107, max_features=sqrt, random_state=3, score=0.557, total=   0.0s\n",
            "[CV] criterion=gini, max_depth=107, max_features=sqrt, random_state=4 \n",
            "[CV]  criterion=gini, max_depth=107, max_features=sqrt, random_state=4, score=0.542, total=   0.0s\n",
            "[CV] criterion=gini, max_depth=107, max_features=sqrt, random_state=4 \n",
            "[CV]  criterion=gini, max_depth=107, max_features=sqrt, random_state=4, score=0.538, total=   0.0s\n",
            "[CV] criterion=gini, max_depth=107, max_features=sqrt, random_state=4 \n",
            "[CV]  criterion=gini, max_depth=107, max_features=sqrt, random_state=4, score=0.516, total=   0.0s\n",
            "[CV] criterion=gini, max_depth=107, max_features=sqrt, random_state=4 \n",
            "[CV]  criterion=gini, max_depth=107, max_features=sqrt, random_state=4, score=0.538, total=   0.0s\n",
            "[CV] criterion=gini, max_depth=107, max_features=sqrt, random_state=4 \n",
            "[CV]  criterion=gini, max_depth=107, max_features=sqrt, random_state=4, score=0.535, total=   0.0s\n",
            "[CV] criterion=gini, max_depth=107, max_features=sqrt, random_state=5 \n",
            "[CV]  criterion=gini, max_depth=107, max_features=sqrt, random_state=5, score=0.574, total=   0.0s\n",
            "[CV] criterion=gini, max_depth=107, max_features=sqrt, random_state=5 \n",
            "[CV]  criterion=gini, max_depth=107, max_features=sqrt, random_state=5, score=0.540, total=   0.0s\n",
            "[CV] criterion=gini, max_depth=107, max_features=sqrt, random_state=5 \n",
            "[CV]  criterion=gini, max_depth=107, max_features=sqrt, random_state=5, score=0.506, total=   0.0s\n",
            "[CV] criterion=gini, max_depth=107, max_features=sqrt, random_state=5 \n",
            "[CV]  criterion=gini, max_depth=107, max_features=sqrt, random_state=5, score=0.560, total=   0.0s\n",
            "[CV] criterion=gini, max_depth=107, max_features=sqrt, random_state=5 \n",
            "[CV]  criterion=gini, max_depth=107, max_features=sqrt, random_state=5, score=0.553, total=   0.0s\n",
            "[CV] criterion=gini, max_depth=107, max_features=sqrt, random_state=6 \n",
            "[CV]  criterion=gini, max_depth=107, max_features=sqrt, random_state=6, score=0.496, total=   0.0s\n",
            "[CV] criterion=gini, max_depth=107, max_features=sqrt, random_state=6 \n",
            "[CV]  criterion=gini, max_depth=107, max_features=sqrt, random_state=6, score=0.544, total=   0.0s\n",
            "[CV] criterion=gini, max_depth=107, max_features=sqrt, random_state=6 \n",
            "[CV]  criterion=gini, max_depth=107, max_features=sqrt, random_state=6, score=0.514, total=   0.0s\n",
            "[CV] criterion=gini, max_depth=107, max_features=sqrt, random_state=6 \n",
            "[CV]  criterion=gini, max_depth=107, max_features=sqrt, random_state=6, score=0.508, total=   0.0s\n",
            "[CV] criterion=gini, max_depth=107, max_features=sqrt, random_state=6 \n",
            "[CV]  criterion=gini, max_depth=107, max_features=sqrt, random_state=6, score=0.555, total=   0.0s\n",
            "[CV] criterion=gini, max_depth=107, max_features=sqrt, random_state=7 \n",
            "[CV]  criterion=gini, max_depth=107, max_features=sqrt, random_state=7, score=0.526, total=   0.0s\n",
            "[CV] criterion=gini, max_depth=107, max_features=sqrt, random_state=7 \n",
            "[CV]  criterion=gini, max_depth=107, max_features=sqrt, random_state=7, score=0.540, total=   0.0s\n",
            "[CV] criterion=gini, max_depth=107, max_features=sqrt, random_state=7 \n",
            "[CV]  criterion=gini, max_depth=107, max_features=sqrt, random_state=7, score=0.474, total=   0.0s\n",
            "[CV] criterion=gini, max_depth=107, max_features=sqrt, random_state=7 \n",
            "[CV]  criterion=gini, max_depth=107, max_features=sqrt, random_state=7, score=0.534, total=   0.0s\n",
            "[CV] criterion=gini, max_depth=107, max_features=sqrt, random_state=7 \n",
            "[CV]  criterion=gini, max_depth=107, max_features=sqrt, random_state=7, score=0.475, total=   0.0s\n",
            "[CV] criterion=gini, max_depth=107, max_features=sqrt, random_state=8 \n",
            "[CV]  criterion=gini, max_depth=107, max_features=sqrt, random_state=8, score=0.526, total=   0.0s\n",
            "[CV] criterion=gini, max_depth=107, max_features=sqrt, random_state=8 \n",
            "[CV]  criterion=gini, max_depth=107, max_features=sqrt, random_state=8, score=0.532, total=   0.0s\n",
            "[CV] criterion=gini, max_depth=107, max_features=sqrt, random_state=8 \n",
            "[CV]  criterion=gini, max_depth=107, max_features=sqrt, random_state=8, score=0.554, total=   0.0s\n",
            "[CV] criterion=gini, max_depth=107, max_features=sqrt, random_state=8 \n",
            "[CV]  criterion=gini, max_depth=107, max_features=sqrt, random_state=8, score=0.534, total=   0.0s\n",
            "[CV] criterion=gini, max_depth=107, max_features=sqrt, random_state=8 \n",
            "[CV]  criterion=gini, max_depth=107, max_features=sqrt, random_state=8, score=0.525, total=   0.0s\n",
            "[CV] criterion=gini, max_depth=107, max_features=sqrt, random_state=9 \n",
            "[CV]  criterion=gini, max_depth=107, max_features=sqrt, random_state=9, score=0.528, total=   0.0s\n",
            "[CV] criterion=gini, max_depth=107, max_features=sqrt, random_state=9 \n",
            "[CV]  criterion=gini, max_depth=107, max_features=sqrt, random_state=9, score=0.558, total=   0.0s\n",
            "[CV] criterion=gini, max_depth=107, max_features=sqrt, random_state=9 \n",
            "[CV]  criterion=gini, max_depth=107, max_features=sqrt, random_state=9, score=0.508, total=   0.0s\n",
            "[CV] criterion=gini, max_depth=107, max_features=sqrt, random_state=9 \n",
            "[CV]  criterion=gini, max_depth=107, max_features=sqrt, random_state=9, score=0.542, total=   0.0s\n",
            "[CV] criterion=gini, max_depth=107, max_features=sqrt, random_state=9 \n",
            "[CV]  criterion=gini, max_depth=107, max_features=sqrt, random_state=9, score=0.549, total=   0.0s\n",
            "[CV] criterion=gini, max_depth=107, max_features=log2, random_state=1 \n",
            "[CV]  criterion=gini, max_depth=107, max_features=log2, random_state=1, score=0.520, total=   0.0s\n",
            "[CV] criterion=gini, max_depth=107, max_features=log2, random_state=1 \n",
            "[CV]  criterion=gini, max_depth=107, max_features=log2, random_state=1, score=0.542, total=   0.0s\n",
            "[CV] criterion=gini, max_depth=107, max_features=log2, random_state=1 \n",
            "[CV]  criterion=gini, max_depth=107, max_features=log2, random_state=1, score=0.536, total=   0.0s\n",
            "[CV] criterion=gini, max_depth=107, max_features=log2, random_state=1 \n",
            "[CV]  criterion=gini, max_depth=107, max_features=log2, random_state=1, score=0.516, total=   0.0s\n",
            "[CV] criterion=gini, max_depth=107, max_features=log2, random_state=1 \n",
            "[CV]  criterion=gini, max_depth=107, max_features=log2, random_state=1, score=0.501, total=   0.0s\n",
            "[CV] criterion=gini, max_depth=107, max_features=log2, random_state=2 \n",
            "[CV]  criterion=gini, max_depth=107, max_features=log2, random_state=2, score=0.536, total=   0.0s\n",
            "[CV] criterion=gini, max_depth=107, max_features=log2, random_state=2 \n",
            "[CV]  criterion=gini, max_depth=107, max_features=log2, random_state=2, score=0.420, total=   0.0s\n",
            "[CV] criterion=gini, max_depth=107, max_features=log2, random_state=2 \n",
            "[CV]  criterion=gini, max_depth=107, max_features=log2, random_state=2, score=0.496, total=   0.0s\n",
            "[CV] criterion=gini, max_depth=107, max_features=log2, random_state=2 \n",
            "[CV]  criterion=gini, max_depth=107, max_features=log2, random_state=2, score=0.532, total=   0.0s\n",
            "[CV] criterion=gini, max_depth=107, max_features=log2, random_state=2 \n",
            "[CV]  criterion=gini, max_depth=107, max_features=log2, random_state=2, score=0.507, total=   0.0s\n",
            "[CV] criterion=gini, max_depth=107, max_features=log2, random_state=3 \n",
            "[CV]  criterion=gini, max_depth=107, max_features=log2, random_state=3, score=0.522, total=   0.0s\n",
            "[CV] criterion=gini, max_depth=107, max_features=log2, random_state=3 \n",
            "[CV]  criterion=gini, max_depth=107, max_features=log2, random_state=3, score=0.522, total=   0.0s\n",
            "[CV] criterion=gini, max_depth=107, max_features=log2, random_state=3 \n",
            "[CV]  criterion=gini, max_depth=107, max_features=log2, random_state=3, score=0.510, total=   0.0s\n",
            "[CV] criterion=gini, max_depth=107, max_features=log2, random_state=3 \n",
            "[CV]  criterion=gini, max_depth=107, max_features=log2, random_state=3, score=0.550, total=   0.0s\n",
            "[CV] criterion=gini, max_depth=107, max_features=log2, random_state=3 \n",
            "[CV]  criterion=gini, max_depth=107, max_features=log2, random_state=3, score=0.557, total=   0.0s\n",
            "[CV] criterion=gini, max_depth=107, max_features=log2, random_state=4 \n",
            "[CV]  criterion=gini, max_depth=107, max_features=log2, random_state=4, score=0.542, total=   0.0s\n",
            "[CV] criterion=gini, max_depth=107, max_features=log2, random_state=4 \n",
            "[CV]  criterion=gini, max_depth=107, max_features=log2, random_state=4, score=0.538, total=   0.0s\n",
            "[CV] criterion=gini, max_depth=107, max_features=log2, random_state=4 \n",
            "[CV]  criterion=gini, max_depth=107, max_features=log2, random_state=4, score=0.516, total=   0.0s\n",
            "[CV] criterion=gini, max_depth=107, max_features=log2, random_state=4 \n",
            "[CV]  criterion=gini, max_depth=107, max_features=log2, random_state=4, score=0.538, total=   0.0s\n",
            "[CV] criterion=gini, max_depth=107, max_features=log2, random_state=4 \n",
            "[CV]  criterion=gini, max_depth=107, max_features=log2, random_state=4, score=0.535, total=   0.0s\n",
            "[CV] criterion=gini, max_depth=107, max_features=log2, random_state=5 \n",
            "[CV]  criterion=gini, max_depth=107, max_features=log2, random_state=5, score=0.574, total=   0.0s\n",
            "[CV] criterion=gini, max_depth=107, max_features=log2, random_state=5 \n",
            "[CV]  criterion=gini, max_depth=107, max_features=log2, random_state=5, score=0.540, total=   0.0s\n",
            "[CV] criterion=gini, max_depth=107, max_features=log2, random_state=5 \n",
            "[CV]  criterion=gini, max_depth=107, max_features=log2, random_state=5, score=0.506, total=   0.0s\n",
            "[CV] criterion=gini, max_depth=107, max_features=log2, random_state=5 \n",
            "[CV]  criterion=gini, max_depth=107, max_features=log2, random_state=5, score=0.560, total=   0.0s\n",
            "[CV] criterion=gini, max_depth=107, max_features=log2, random_state=5 \n",
            "[CV]  criterion=gini, max_depth=107, max_features=log2, random_state=5, score=0.553, total=   0.0s\n",
            "[CV] criterion=gini, max_depth=107, max_features=log2, random_state=6 \n",
            "[CV]  criterion=gini, max_depth=107, max_features=log2, random_state=6, score=0.496, total=   0.0s\n",
            "[CV] criterion=gini, max_depth=107, max_features=log2, random_state=6 \n",
            "[CV]  criterion=gini, max_depth=107, max_features=log2, random_state=6, score=0.544, total=   0.0s\n",
            "[CV] criterion=gini, max_depth=107, max_features=log2, random_state=6 \n",
            "[CV]  criterion=gini, max_depth=107, max_features=log2, random_state=6, score=0.514, total=   0.0s\n",
            "[CV] criterion=gini, max_depth=107, max_features=log2, random_state=6 \n",
            "[CV]  criterion=gini, max_depth=107, max_features=log2, random_state=6, score=0.508, total=   0.0s\n",
            "[CV] criterion=gini, max_depth=107, max_features=log2, random_state=6 \n",
            "[CV]  criterion=gini, max_depth=107, max_features=log2, random_state=6, score=0.555, total=   0.0s\n",
            "[CV] criterion=gini, max_depth=107, max_features=log2, random_state=7 \n",
            "[CV]  criterion=gini, max_depth=107, max_features=log2, random_state=7, score=0.526, total=   0.0s\n",
            "[CV] criterion=gini, max_depth=107, max_features=log2, random_state=7 \n",
            "[CV]  criterion=gini, max_depth=107, max_features=log2, random_state=7, score=0.540, total=   0.0s\n",
            "[CV] criterion=gini, max_depth=107, max_features=log2, random_state=7 \n",
            "[CV]  criterion=gini, max_depth=107, max_features=log2, random_state=7, score=0.474, total=   0.0s\n",
            "[CV] criterion=gini, max_depth=107, max_features=log2, random_state=7 \n",
            "[CV]  criterion=gini, max_depth=107, max_features=log2, random_state=7, score=0.534, total=   0.0s\n",
            "[CV] criterion=gini, max_depth=107, max_features=log2, random_state=7 \n",
            "[CV]  criterion=gini, max_depth=107, max_features=log2, random_state=7, score=0.475, total=   0.0s\n",
            "[CV] criterion=gini, max_depth=107, max_features=log2, random_state=8 \n",
            "[CV]  criterion=gini, max_depth=107, max_features=log2, random_state=8, score=0.526, total=   0.0s\n",
            "[CV] criterion=gini, max_depth=107, max_features=log2, random_state=8 \n",
            "[CV]  criterion=gini, max_depth=107, max_features=log2, random_state=8, score=0.532, total=   0.0s\n",
            "[CV] criterion=gini, max_depth=107, max_features=log2, random_state=8 \n",
            "[CV]  criterion=gini, max_depth=107, max_features=log2, random_state=8, score=0.554, total=   0.0s\n",
            "[CV] criterion=gini, max_depth=107, max_features=log2, random_state=8 \n",
            "[CV]  criterion=gini, max_depth=107, max_features=log2, random_state=8, score=0.534, total=   0.0s\n",
            "[CV] criterion=gini, max_depth=107, max_features=log2, random_state=8 \n",
            "[CV]  criterion=gini, max_depth=107, max_features=log2, random_state=8, score=0.525, total=   0.0s\n",
            "[CV] criterion=gini, max_depth=107, max_features=log2, random_state=9 \n",
            "[CV]  criterion=gini, max_depth=107, max_features=log2, random_state=9, score=0.528, total=   0.0s\n",
            "[CV] criterion=gini, max_depth=107, max_features=log2, random_state=9 \n",
            "[CV]  criterion=gini, max_depth=107, max_features=log2, random_state=9, score=0.558, total=   0.0s\n",
            "[CV] criterion=gini, max_depth=107, max_features=log2, random_state=9 \n",
            "[CV]  criterion=gini, max_depth=107, max_features=log2, random_state=9, score=0.508, total=   0.0s\n",
            "[CV] criterion=gini, max_depth=107, max_features=log2, random_state=9 \n",
            "[CV]  criterion=gini, max_depth=107, max_features=log2, random_state=9, score=0.542, total=   0.0s\n",
            "[CV] criterion=gini, max_depth=107, max_features=log2, random_state=9 \n",
            "[CV]  criterion=gini, max_depth=107, max_features=log2, random_state=9, score=0.549, total=   0.0s\n",
            "[CV] criterion=gini, max_depth=107, max_features=, random_state=1 ....\n",
            "[CV]  criterion=gini, max_depth=107, max_features=, random_state=1, score=nan, total=   0.0s\n",
            "[CV] criterion=gini, max_depth=107, max_features=, random_state=1 ....\n",
            "[CV]  criterion=gini, max_depth=107, max_features=, random_state=1, score=nan, total=   0.0s\n",
            "[CV] criterion=gini, max_depth=107, max_features=, random_state=1 ....\n",
            "[CV]  criterion=gini, max_depth=107, max_features=, random_state=1, score=nan, total=   0.0s\n",
            "[CV] criterion=gini, max_depth=107, max_features=, random_state=1 ....\n",
            "[CV]  criterion=gini, max_depth=107, max_features=, random_state=1, score=nan, total=   0.0s\n",
            "[CV] criterion=gini, max_depth=107, max_features=, random_state=1 ....\n",
            "[CV]  criterion=gini, max_depth=107, max_features=, random_state=1, score=nan, total=   0.0s\n",
            "[CV] criterion=gini, max_depth=107, max_features=, random_state=2 ....\n",
            "[CV]  criterion=gini, max_depth=107, max_features=, random_state=2, score=nan, total=   0.0s\n",
            "[CV] criterion=gini, max_depth=107, max_features=, random_state=2 ....\n",
            "[CV]  criterion=gini, max_depth=107, max_features=, random_state=2, score=nan, total=   0.0s\n",
            "[CV] criterion=gini, max_depth=107, max_features=, random_state=2 ....\n",
            "[CV]  criterion=gini, max_depth=107, max_features=, random_state=2, score=nan, total=   0.0s\n",
            "[CV] criterion=gini, max_depth=107, max_features=, random_state=2 ....\n",
            "[CV]  criterion=gini, max_depth=107, max_features=, random_state=2, score=nan, total=   0.0s\n",
            "[CV] criterion=gini, max_depth=107, max_features=, random_state=2 ....\n",
            "[CV]  criterion=gini, max_depth=107, max_features=, random_state=2, score=nan, total=   0.0s\n",
            "[CV] criterion=gini, max_depth=107, max_features=, random_state=3 ....\n",
            "[CV]  criterion=gini, max_depth=107, max_features=, random_state=3, score=nan, total=   0.0s\n",
            "[CV] criterion=gini, max_depth=107, max_features=, random_state=3 ....\n",
            "[CV]  criterion=gini, max_depth=107, max_features=, random_state=3, score=nan, total=   0.0s\n",
            "[CV] criterion=gini, max_depth=107, max_features=, random_state=3 ....\n",
            "[CV]  criterion=gini, max_depth=107, max_features=, random_state=3, score=nan, total=   0.0s\n",
            "[CV] criterion=gini, max_depth=107, max_features=, random_state=3 ....\n",
            "[CV]  criterion=gini, max_depth=107, max_features=, random_state=3, score=nan, total=   0.0s\n",
            "[CV] criterion=gini, max_depth=107, max_features=, random_state=3 ....\n",
            "[CV]  criterion=gini, max_depth=107, max_features=, random_state=3, score=nan, total=   0.0s\n",
            "[CV] criterion=gini, max_depth=107, max_features=, random_state=4 ....\n",
            "[CV]  criterion=gini, max_depth=107, max_features=, random_state=4, score=nan, total=   0.0s\n",
            "[CV] criterion=gini, max_depth=107, max_features=, random_state=4 ....\n"
          ],
          "name": "stdout"
        },
        {
          "output_type": "stream",
          "text": [
            "/usr/local/lib/python3.7/dist-packages/sklearn/model_selection/_validation.py:536: FitFailedWarning:\n",
            "\n",
            "Estimator fit failed. The score on this train-test partition for these parameters will be set to nan. Details: \n",
            "ValueError: Invalid value for max_features. Allowed string values are 'auto', 'sqrt' or 'log2'.\n",
            "\n",
            "\n",
            "/usr/local/lib/python3.7/dist-packages/sklearn/model_selection/_validation.py:536: FitFailedWarning:\n",
            "\n",
            "Estimator fit failed. The score on this train-test partition for these parameters will be set to nan. Details: \n",
            "ValueError: Invalid value for max_features. Allowed string values are 'auto', 'sqrt' or 'log2'.\n",
            "\n",
            "\n",
            "/usr/local/lib/python3.7/dist-packages/sklearn/model_selection/_validation.py:536: FitFailedWarning:\n",
            "\n",
            "Estimator fit failed. The score on this train-test partition for these parameters will be set to nan. Details: \n",
            "ValueError: Invalid value for max_features. Allowed string values are 'auto', 'sqrt' or 'log2'.\n",
            "\n",
            "\n",
            "/usr/local/lib/python3.7/dist-packages/sklearn/model_selection/_validation.py:536: FitFailedWarning:\n",
            "\n",
            "Estimator fit failed. The score on this train-test partition for these parameters will be set to nan. Details: \n",
            "ValueError: Invalid value for max_features. Allowed string values are 'auto', 'sqrt' or 'log2'.\n",
            "\n",
            "\n",
            "/usr/local/lib/python3.7/dist-packages/sklearn/model_selection/_validation.py:536: FitFailedWarning:\n",
            "\n",
            "Estimator fit failed. The score on this train-test partition for these parameters will be set to nan. Details: \n",
            "ValueError: Invalid value for max_features. Allowed string values are 'auto', 'sqrt' or 'log2'.\n",
            "\n",
            "\n",
            "/usr/local/lib/python3.7/dist-packages/sklearn/model_selection/_validation.py:536: FitFailedWarning:\n",
            "\n",
            "Estimator fit failed. The score on this train-test partition for these parameters will be set to nan. Details: \n",
            "ValueError: Invalid value for max_features. Allowed string values are 'auto', 'sqrt' or 'log2'.\n",
            "\n",
            "\n",
            "/usr/local/lib/python3.7/dist-packages/sklearn/model_selection/_validation.py:536: FitFailedWarning:\n",
            "\n",
            "Estimator fit failed. The score on this train-test partition for these parameters will be set to nan. Details: \n",
            "ValueError: Invalid value for max_features. Allowed string values are 'auto', 'sqrt' or 'log2'.\n",
            "\n",
            "\n",
            "/usr/local/lib/python3.7/dist-packages/sklearn/model_selection/_validation.py:536: FitFailedWarning:\n",
            "\n",
            "Estimator fit failed. The score on this train-test partition for these parameters will be set to nan. Details: \n",
            "ValueError: Invalid value for max_features. Allowed string values are 'auto', 'sqrt' or 'log2'.\n",
            "\n",
            "\n",
            "/usr/local/lib/python3.7/dist-packages/sklearn/model_selection/_validation.py:536: FitFailedWarning:\n",
            "\n",
            "Estimator fit failed. The score on this train-test partition for these parameters will be set to nan. Details: \n",
            "ValueError: Invalid value for max_features. Allowed string values are 'auto', 'sqrt' or 'log2'.\n",
            "\n",
            "\n",
            "/usr/local/lib/python3.7/dist-packages/sklearn/model_selection/_validation.py:536: FitFailedWarning:\n",
            "\n",
            "Estimator fit failed. The score on this train-test partition for these parameters will be set to nan. Details: \n",
            "ValueError: Invalid value for max_features. Allowed string values are 'auto', 'sqrt' or 'log2'.\n",
            "\n",
            "\n",
            "/usr/local/lib/python3.7/dist-packages/sklearn/model_selection/_validation.py:536: FitFailedWarning:\n",
            "\n",
            "Estimator fit failed. The score on this train-test partition for these parameters will be set to nan. Details: \n",
            "ValueError: Invalid value for max_features. Allowed string values are 'auto', 'sqrt' or 'log2'.\n",
            "\n",
            "\n",
            "/usr/local/lib/python3.7/dist-packages/sklearn/model_selection/_validation.py:536: FitFailedWarning:\n",
            "\n",
            "Estimator fit failed. The score on this train-test partition for these parameters will be set to nan. Details: \n",
            "ValueError: Invalid value for max_features. Allowed string values are 'auto', 'sqrt' or 'log2'.\n",
            "\n",
            "\n",
            "/usr/local/lib/python3.7/dist-packages/sklearn/model_selection/_validation.py:536: FitFailedWarning:\n",
            "\n",
            "Estimator fit failed. The score on this train-test partition for these parameters will be set to nan. Details: \n",
            "ValueError: Invalid value for max_features. Allowed string values are 'auto', 'sqrt' or 'log2'.\n",
            "\n",
            "\n",
            "/usr/local/lib/python3.7/dist-packages/sklearn/model_selection/_validation.py:536: FitFailedWarning:\n",
            "\n",
            "Estimator fit failed. The score on this train-test partition for these parameters will be set to nan. Details: \n",
            "ValueError: Invalid value for max_features. Allowed string values are 'auto', 'sqrt' or 'log2'.\n",
            "\n",
            "\n",
            "/usr/local/lib/python3.7/dist-packages/sklearn/model_selection/_validation.py:536: FitFailedWarning:\n",
            "\n",
            "Estimator fit failed. The score on this train-test partition for these parameters will be set to nan. Details: \n",
            "ValueError: Invalid value for max_features. Allowed string values are 'auto', 'sqrt' or 'log2'.\n",
            "\n",
            "\n",
            "/usr/local/lib/python3.7/dist-packages/sklearn/model_selection/_validation.py:536: FitFailedWarning:\n",
            "\n",
            "Estimator fit failed. The score on this train-test partition for these parameters will be set to nan. Details: \n",
            "ValueError: Invalid value for max_features. Allowed string values are 'auto', 'sqrt' or 'log2'.\n",
            "\n",
            "\n",
            "/usr/local/lib/python3.7/dist-packages/sklearn/model_selection/_validation.py:536: FitFailedWarning:\n",
            "\n",
            "Estimator fit failed. The score on this train-test partition for these parameters will be set to nan. Details: \n",
            "ValueError: Invalid value for max_features. Allowed string values are 'auto', 'sqrt' or 'log2'.\n",
            "\n",
            "\n",
            "/usr/local/lib/python3.7/dist-packages/sklearn/model_selection/_validation.py:536: FitFailedWarning:\n",
            "\n",
            "Estimator fit failed. The score on this train-test partition for these parameters will be set to nan. Details: \n",
            "ValueError: Invalid value for max_features. Allowed string values are 'auto', 'sqrt' or 'log2'.\n",
            "\n",
            "\n",
            "/usr/local/lib/python3.7/dist-packages/sklearn/model_selection/_validation.py:536: FitFailedWarning:\n",
            "\n",
            "Estimator fit failed. The score on this train-test partition for these parameters will be set to nan. Details: \n",
            "ValueError: Invalid value for max_features. Allowed string values are 'auto', 'sqrt' or 'log2'.\n",
            "\n",
            "\n",
            "/usr/local/lib/python3.7/dist-packages/sklearn/model_selection/_validation.py:536: FitFailedWarning:\n",
            "\n",
            "Estimator fit failed. The score on this train-test partition for these parameters will be set to nan. Details: \n",
            "ValueError: Invalid value for max_features. Allowed string values are 'auto', 'sqrt' or 'log2'.\n",
            "\n",
            "\n",
            "/usr/local/lib/python3.7/dist-packages/sklearn/model_selection/_validation.py:536: FitFailedWarning:\n",
            "\n",
            "Estimator fit failed. The score on this train-test partition for these parameters will be set to nan. Details: \n",
            "ValueError: Invalid value for max_features. Allowed string values are 'auto', 'sqrt' or 'log2'.\n",
            "\n",
            "\n",
            "/usr/local/lib/python3.7/dist-packages/sklearn/model_selection/_validation.py:536: FitFailedWarning:\n",
            "\n",
            "Estimator fit failed. The score on this train-test partition for these parameters will be set to nan. Details: \n",
            "ValueError: Invalid value for max_features. Allowed string values are 'auto', 'sqrt' or 'log2'.\n",
            "\n",
            "\n",
            "/usr/local/lib/python3.7/dist-packages/sklearn/model_selection/_validation.py:536: FitFailedWarning:\n",
            "\n",
            "Estimator fit failed. The score on this train-test partition for these parameters will be set to nan. Details: \n",
            "ValueError: Invalid value for max_features. Allowed string values are 'auto', 'sqrt' or 'log2'.\n",
            "\n",
            "\n",
            "/usr/local/lib/python3.7/dist-packages/sklearn/model_selection/_validation.py:536: FitFailedWarning:\n",
            "\n",
            "Estimator fit failed. The score on this train-test partition for these parameters will be set to nan. Details: \n",
            "ValueError: Invalid value for max_features. Allowed string values are 'auto', 'sqrt' or 'log2'.\n",
            "\n",
            "\n",
            "/usr/local/lib/python3.7/dist-packages/sklearn/model_selection/_validation.py:536: FitFailedWarning:\n",
            "\n",
            "Estimator fit failed. The score on this train-test partition for these parameters will be set to nan. Details: \n",
            "ValueError: Invalid value for max_features. Allowed string values are 'auto', 'sqrt' or 'log2'.\n",
            "\n",
            "\n",
            "/usr/local/lib/python3.7/dist-packages/sklearn/model_selection/_validation.py:536: FitFailedWarning:\n",
            "\n",
            "Estimator fit failed. The score on this train-test partition for these parameters will be set to nan. Details: \n",
            "ValueError: Invalid value for max_features. Allowed string values are 'auto', 'sqrt' or 'log2'.\n",
            "\n",
            "\n",
            "/usr/local/lib/python3.7/dist-packages/sklearn/model_selection/_validation.py:536: FitFailedWarning:\n",
            "\n",
            "Estimator fit failed. The score on this train-test partition for these parameters will be set to nan. Details: \n",
            "ValueError: Invalid value for max_features. Allowed string values are 'auto', 'sqrt' or 'log2'.\n",
            "\n",
            "\n",
            "/usr/local/lib/python3.7/dist-packages/sklearn/model_selection/_validation.py:536: FitFailedWarning:\n",
            "\n",
            "Estimator fit failed. The score on this train-test partition for these parameters will be set to nan. Details: \n",
            "ValueError: Invalid value for max_features. Allowed string values are 'auto', 'sqrt' or 'log2'.\n",
            "\n",
            "\n",
            "/usr/local/lib/python3.7/dist-packages/sklearn/model_selection/_validation.py:536: FitFailedWarning:\n",
            "\n",
            "Estimator fit failed. The score on this train-test partition for these parameters will be set to nan. Details: \n",
            "ValueError: Invalid value for max_features. Allowed string values are 'auto', 'sqrt' or 'log2'.\n",
            "\n",
            "\n",
            "/usr/local/lib/python3.7/dist-packages/sklearn/model_selection/_validation.py:536: FitFailedWarning:\n",
            "\n",
            "Estimator fit failed. The score on this train-test partition for these parameters will be set to nan. Details: \n",
            "ValueError: Invalid value for max_features. Allowed string values are 'auto', 'sqrt' or 'log2'.\n",
            "\n",
            "\n",
            "/usr/local/lib/python3.7/dist-packages/sklearn/model_selection/_validation.py:536: FitFailedWarning:\n",
            "\n",
            "Estimator fit failed. The score on this train-test partition for these parameters will be set to nan. Details: \n",
            "ValueError: Invalid value for max_features. Allowed string values are 'auto', 'sqrt' or 'log2'.\n",
            "\n",
            "\n",
            "/usr/local/lib/python3.7/dist-packages/sklearn/model_selection/_validation.py:536: FitFailedWarning:\n",
            "\n",
            "Estimator fit failed. The score on this train-test partition for these parameters will be set to nan. Details: \n",
            "ValueError: Invalid value for max_features. Allowed string values are 'auto', 'sqrt' or 'log2'.\n",
            "\n",
            "\n",
            "/usr/local/lib/python3.7/dist-packages/sklearn/model_selection/_validation.py:536: FitFailedWarning:\n",
            "\n",
            "Estimator fit failed. The score on this train-test partition for these parameters will be set to nan. Details: \n",
            "ValueError: Invalid value for max_features. Allowed string values are 'auto', 'sqrt' or 'log2'.\n",
            "\n",
            "\n",
            "/usr/local/lib/python3.7/dist-packages/sklearn/model_selection/_validation.py:536: FitFailedWarning:\n",
            "\n",
            "Estimator fit failed. The score on this train-test partition for these parameters will be set to nan. Details: \n",
            "ValueError: Invalid value for max_features. Allowed string values are 'auto', 'sqrt' or 'log2'.\n",
            "\n",
            "\n",
            "/usr/local/lib/python3.7/dist-packages/sklearn/model_selection/_validation.py:536: FitFailedWarning:\n",
            "\n",
            "Estimator fit failed. The score on this train-test partition for these parameters will be set to nan. Details: \n",
            "ValueError: Invalid value for max_features. Allowed string values are 'auto', 'sqrt' or 'log2'.\n",
            "\n",
            "\n",
            "/usr/local/lib/python3.7/dist-packages/sklearn/model_selection/_validation.py:536: FitFailedWarning:\n",
            "\n",
            "Estimator fit failed. The score on this train-test partition for these parameters will be set to nan. Details: \n",
            "ValueError: Invalid value for max_features. Allowed string values are 'auto', 'sqrt' or 'log2'.\n",
            "\n",
            "\n",
            "/usr/local/lib/python3.7/dist-packages/sklearn/model_selection/_validation.py:536: FitFailedWarning:\n",
            "\n",
            "Estimator fit failed. The score on this train-test partition for these parameters will be set to nan. Details: \n",
            "ValueError: Invalid value for max_features. Allowed string values are 'auto', 'sqrt' or 'log2'.\n",
            "\n",
            "\n",
            "/usr/local/lib/python3.7/dist-packages/sklearn/model_selection/_validation.py:536: FitFailedWarning:\n",
            "\n",
            "Estimator fit failed. The score on this train-test partition for these parameters will be set to nan. Details: \n",
            "ValueError: Invalid value for max_features. Allowed string values are 'auto', 'sqrt' or 'log2'.\n",
            "\n",
            "\n",
            "/usr/local/lib/python3.7/dist-packages/sklearn/model_selection/_validation.py:536: FitFailedWarning:\n",
            "\n",
            "Estimator fit failed. The score on this train-test partition for these parameters will be set to nan. Details: \n",
            "ValueError: Invalid value for max_features. Allowed string values are 'auto', 'sqrt' or 'log2'.\n",
            "\n",
            "\n",
            "/usr/local/lib/python3.7/dist-packages/sklearn/model_selection/_validation.py:536: FitFailedWarning:\n",
            "\n",
            "Estimator fit failed. The score on this train-test partition for these parameters will be set to nan. Details: \n",
            "ValueError: Invalid value for max_features. Allowed string values are 'auto', 'sqrt' or 'log2'.\n",
            "\n",
            "\n",
            "/usr/local/lib/python3.7/dist-packages/sklearn/model_selection/_validation.py:536: FitFailedWarning:\n",
            "\n",
            "Estimator fit failed. The score on this train-test partition for these parameters will be set to nan. Details: \n",
            "ValueError: Invalid value for max_features. Allowed string values are 'auto', 'sqrt' or 'log2'.\n",
            "\n",
            "\n",
            "/usr/local/lib/python3.7/dist-packages/sklearn/model_selection/_validation.py:536: FitFailedWarning:\n",
            "\n",
            "Estimator fit failed. The score on this train-test partition for these parameters will be set to nan. Details: \n",
            "ValueError: Invalid value for max_features. Allowed string values are 'auto', 'sqrt' or 'log2'.\n",
            "\n",
            "\n",
            "/usr/local/lib/python3.7/dist-packages/sklearn/model_selection/_validation.py:536: FitFailedWarning:\n",
            "\n",
            "Estimator fit failed. The score on this train-test partition for these parameters will be set to nan. Details: \n",
            "ValueError: Invalid value for max_features. Allowed string values are 'auto', 'sqrt' or 'log2'.\n",
            "\n",
            "\n",
            "/usr/local/lib/python3.7/dist-packages/sklearn/model_selection/_validation.py:536: FitFailedWarning:\n",
            "\n",
            "Estimator fit failed. The score on this train-test partition for these parameters will be set to nan. Details: \n",
            "ValueError: Invalid value for max_features. Allowed string values are 'auto', 'sqrt' or 'log2'.\n",
            "\n",
            "\n",
            "/usr/local/lib/python3.7/dist-packages/sklearn/model_selection/_validation.py:536: FitFailedWarning:\n",
            "\n",
            "Estimator fit failed. The score on this train-test partition for these parameters will be set to nan. Details: \n",
            "ValueError: Invalid value for max_features. Allowed string values are 'auto', 'sqrt' or 'log2'.\n",
            "\n",
            "\n"
          ],
          "name": "stderr"
        },
        {
          "output_type": "stream",
          "text": [
            "[CV]  criterion=gini, max_depth=107, max_features=, random_state=4, score=nan, total=   0.0s\n",
            "[CV] criterion=gini, max_depth=107, max_features=, random_state=4 ....\n",
            "[CV]  criterion=gini, max_depth=107, max_features=, random_state=4, score=nan, total=   0.0s\n",
            "[CV] criterion=gini, max_depth=107, max_features=, random_state=4 ....\n",
            "[CV]  criterion=gini, max_depth=107, max_features=, random_state=4, score=nan, total=   0.0s\n",
            "[CV] criterion=gini, max_depth=107, max_features=, random_state=4 ....\n",
            "[CV]  criterion=gini, max_depth=107, max_features=, random_state=4, score=nan, total=   0.0s\n",
            "[CV] criterion=gini, max_depth=107, max_features=, random_state=5 ....\n",
            "[CV]  criterion=gini, max_depth=107, max_features=, random_state=5, score=nan, total=   0.0s\n",
            "[CV] criterion=gini, max_depth=107, max_features=, random_state=5 ....\n",
            "[CV]  criterion=gini, max_depth=107, max_features=, random_state=5, score=nan, total=   0.0s\n",
            "[CV] criterion=gini, max_depth=107, max_features=, random_state=5 ....\n",
            "[CV]  criterion=gini, max_depth=107, max_features=, random_state=5, score=nan, total=   0.0s\n",
            "[CV] criterion=gini, max_depth=107, max_features=, random_state=5 ....\n",
            "[CV]  criterion=gini, max_depth=107, max_features=, random_state=5, score=nan, total=   0.0s\n",
            "[CV] criterion=gini, max_depth=107, max_features=, random_state=5 ....\n",
            "[CV]  criterion=gini, max_depth=107, max_features=, random_state=5, score=nan, total=   0.0s\n",
            "[CV] criterion=gini, max_depth=107, max_features=, random_state=6 ....\n",
            "[CV]  criterion=gini, max_depth=107, max_features=, random_state=6, score=nan, total=   0.0s\n",
            "[CV] criterion=gini, max_depth=107, max_features=, random_state=6 ....\n",
            "[CV]  criterion=gini, max_depth=107, max_features=, random_state=6, score=nan, total=   0.0s\n",
            "[CV] criterion=gini, max_depth=107, max_features=, random_state=6 ....\n",
            "[CV]  criterion=gini, max_depth=107, max_features=, random_state=6, score=nan, total=   0.0s\n",
            "[CV] criterion=gini, max_depth=107, max_features=, random_state=6 ....\n",
            "[CV]  criterion=gini, max_depth=107, max_features=, random_state=6, score=nan, total=   0.0s\n",
            "[CV] criterion=gini, max_depth=107, max_features=, random_state=6 ....\n",
            "[CV]  criterion=gini, max_depth=107, max_features=, random_state=6, score=nan, total=   0.0s\n",
            "[CV] criterion=gini, max_depth=107, max_features=, random_state=7 ....\n",
            "[CV]  criterion=gini, max_depth=107, max_features=, random_state=7, score=nan, total=   0.0s\n",
            "[CV] criterion=gini, max_depth=107, max_features=, random_state=7 ....\n",
            "[CV]  criterion=gini, max_depth=107, max_features=, random_state=7, score=nan, total=   0.0s\n",
            "[CV] criterion=gini, max_depth=107, max_features=, random_state=7 ....\n",
            "[CV]  criterion=gini, max_depth=107, max_features=, random_state=7, score=nan, total=   0.0s\n",
            "[CV] criterion=gini, max_depth=107, max_features=, random_state=7 ....\n",
            "[CV]  criterion=gini, max_depth=107, max_features=, random_state=7, score=nan, total=   0.0s\n",
            "[CV] criterion=gini, max_depth=107, max_features=, random_state=7 ....\n",
            "[CV]  criterion=gini, max_depth=107, max_features=, random_state=7, score=nan, total=   0.0s\n",
            "[CV] criterion=gini, max_depth=107, max_features=, random_state=8 ....\n",
            "[CV]  criterion=gini, max_depth=107, max_features=, random_state=8, score=nan, total=   0.0s\n",
            "[CV] criterion=gini, max_depth=107, max_features=, random_state=8 ....\n",
            "[CV]  criterion=gini, max_depth=107, max_features=, random_state=8, score=nan, total=   0.0s\n",
            "[CV] criterion=gini, max_depth=107, max_features=, random_state=8 ....\n",
            "[CV]  criterion=gini, max_depth=107, max_features=, random_state=8, score=nan, total=   0.0s\n",
            "[CV] criterion=gini, max_depth=107, max_features=, random_state=8 ....\n",
            "[CV]  criterion=gini, max_depth=107, max_features=, random_state=8, score=nan, total=   0.0s\n",
            "[CV] criterion=gini, max_depth=107, max_features=, random_state=8 ....\n",
            "[CV]  criterion=gini, max_depth=107, max_features=, random_state=8, score=nan, total=   0.0s\n",
            "[CV] criterion=gini, max_depth=107, max_features=, random_state=9 ....\n",
            "[CV]  criterion=gini, max_depth=107, max_features=, random_state=9, score=nan, total=   0.0s\n",
            "[CV] criterion=gini, max_depth=107, max_features=, random_state=9 ....\n",
            "[CV]  criterion=gini, max_depth=107, max_features=, random_state=9, score=nan, total=   0.0s\n",
            "[CV] criterion=gini, max_depth=107, max_features=, random_state=9 ....\n",
            "[CV]  criterion=gini, max_depth=107, max_features=, random_state=9, score=nan, total=   0.0s\n",
            "[CV] criterion=gini, max_depth=107, max_features=, random_state=9 ....\n",
            "[CV]  criterion=gini, max_depth=107, max_features=, random_state=9, score=nan, total=   0.0s\n",
            "[CV] criterion=gini, max_depth=107, max_features=, random_state=9 ....\n",
            "[CV]  criterion=gini, max_depth=107, max_features=, random_state=9, score=nan, total=   0.0s\n",
            "[CV] criterion=entropy, max_depth=107, max_features=auto, random_state=1 \n",
            "[CV]  criterion=entropy, max_depth=107, max_features=auto, random_state=1, score=0.552, total=   0.0s\n",
            "[CV] criterion=entropy, max_depth=107, max_features=auto, random_state=1 \n",
            "[CV]  criterion=entropy, max_depth=107, max_features=auto, random_state=1, score=0.550, total=   0.0s\n",
            "[CV] criterion=entropy, max_depth=107, max_features=auto, random_state=1 \n",
            "[CV]  criterion=entropy, max_depth=107, max_features=auto, random_state=1, score=0.382, total=   0.0s\n",
            "[CV] criterion=entropy, max_depth=107, max_features=auto, random_state=1 \n",
            "[CV]  criterion=entropy, max_depth=107, max_features=auto, random_state=1, score=0.504, total=   0.0s\n",
            "[CV] criterion=entropy, max_depth=107, max_features=auto, random_state=1 \n",
            "[CV]  criterion=entropy, max_depth=107, max_features=auto, random_state=1, score=0.539, total=   0.0s\n",
            "[CV] criterion=entropy, max_depth=107, max_features=auto, random_state=2 \n",
            "[CV]  criterion=entropy, max_depth=107, max_features=auto, random_state=2, score=0.512, total=   0.0s\n",
            "[CV] criterion=entropy, max_depth=107, max_features=auto, random_state=2 \n",
            "[CV]  criterion=entropy, max_depth=107, max_features=auto, random_state=2, score=0.376, total=   0.0s\n",
            "[CV] criterion=entropy, max_depth=107, max_features=auto, random_state=2 \n",
            "[CV]  criterion=entropy, max_depth=107, max_features=auto, random_state=2, score=0.388, total=   0.0s\n",
            "[CV] criterion=entropy, max_depth=107, max_features=auto, random_state=2 \n",
            "[CV]  criterion=entropy, max_depth=107, max_features=auto, random_state=2, score=0.556, total=   0.0s\n",
            "[CV] criterion=entropy, max_depth=107, max_features=auto, random_state=2 \n",
            "[CV]  criterion=entropy, max_depth=107, max_features=auto, random_state=2, score=0.557, total=   0.0s\n",
            "[CV] criterion=entropy, max_depth=107, max_features=auto, random_state=3 \n",
            "[CV]  criterion=entropy, max_depth=107, max_features=auto, random_state=3, score=0.526, total=   0.0s\n",
            "[CV] criterion=entropy, max_depth=107, max_features=auto, random_state=3 \n",
            "[CV]  criterion=entropy, max_depth=107, max_features=auto, random_state=3, score=0.546, total=   0.0s\n",
            "[CV] criterion=entropy, max_depth=107, max_features=auto, random_state=3 \n",
            "[CV]  criterion=entropy, max_depth=107, max_features=auto, random_state=3, score=0.532, total=   0.0s\n",
            "[CV] criterion=entropy, max_depth=107, max_features=auto, random_state=3 \n",
            "[CV]  criterion=entropy, max_depth=107, max_features=auto, random_state=3, score=0.534, total=   0.0s\n",
            "[CV] criterion=entropy, max_depth=107, max_features=auto, random_state=3 \n",
            "[CV]  criterion=entropy, max_depth=107, max_features=auto, random_state=3, score=0.531, total=   0.0s\n",
            "[CV] criterion=entropy, max_depth=107, max_features=auto, random_state=4 \n",
            "[CV]  criterion=entropy, max_depth=107, max_features=auto, random_state=4, score=0.538, total=   0.0s\n",
            "[CV] criterion=entropy, max_depth=107, max_features=auto, random_state=4 \n",
            "[CV]  criterion=entropy, max_depth=107, max_features=auto, random_state=4, score=0.558, total=   0.0s\n",
            "[CV] criterion=entropy, max_depth=107, max_features=auto, random_state=4 \n",
            "[CV]  criterion=entropy, max_depth=107, max_features=auto, random_state=4, score=0.548, total=   0.0s\n",
            "[CV] criterion=entropy, max_depth=107, max_features=auto, random_state=4 \n",
            "[CV]  criterion=entropy, max_depth=107, max_features=auto, random_state=4, score=0.582, total=   0.0s\n",
            "[CV] criterion=entropy, max_depth=107, max_features=auto, random_state=4 \n",
            "[CV]  criterion=entropy, max_depth=107, max_features=auto, random_state=4, score=0.549, total=   0.0s\n",
            "[CV] criterion=entropy, max_depth=107, max_features=auto, random_state=5 \n",
            "[CV]  criterion=entropy, max_depth=107, max_features=auto, random_state=5, score=0.506, total=   0.0s\n",
            "[CV] criterion=entropy, max_depth=107, max_features=auto, random_state=5 \n",
            "[CV]  criterion=entropy, max_depth=107, max_features=auto, random_state=5, score=0.472, total=   0.0s\n",
            "[CV] criterion=entropy, max_depth=107, max_features=auto, random_state=5 \n",
            "[CV]  criterion=entropy, max_depth=107, max_features=auto, random_state=5, score=0.492, total=   0.0s\n",
            "[CV] criterion=entropy, max_depth=107, max_features=auto, random_state=5 \n",
            "[CV]  criterion=entropy, max_depth=107, max_features=auto, random_state=5, score=0.542, total=   0.0s\n",
            "[CV] criterion=entropy, max_depth=107, max_features=auto, random_state=5 \n",
            "[CV]  criterion=entropy, max_depth=107, max_features=auto, random_state=5, score=0.531, total=   0.0s\n",
            "[CV] criterion=entropy, max_depth=107, max_features=auto, random_state=6 \n",
            "[CV]  criterion=entropy, max_depth=107, max_features=auto, random_state=6, score=0.504, total=   0.0s\n",
            "[CV] criterion=entropy, max_depth=107, max_features=auto, random_state=6 \n",
            "[CV]  criterion=entropy, max_depth=107, max_features=auto, random_state=6, score=0.576, total=   0.0s\n",
            "[CV] criterion=entropy, max_depth=107, max_features=auto, random_state=6 \n",
            "[CV]  criterion=entropy, max_depth=107, max_features=auto, random_state=6, score=0.532, total=   0.0s\n",
            "[CV] criterion=entropy, max_depth=107, max_features=auto, random_state=6 \n",
            "[CV]  criterion=entropy, max_depth=107, max_features=auto, random_state=6, score=0.532, total=   0.0s\n",
            "[CV] criterion=entropy, max_depth=107, max_features=auto, random_state=6 \n",
            "[CV]  criterion=entropy, max_depth=107, max_features=auto, random_state=6, score=0.557, total=   0.0s\n",
            "[CV] criterion=entropy, max_depth=107, max_features=auto, random_state=7 \n",
            "[CV]  criterion=entropy, max_depth=107, max_features=auto, random_state=7, score=0.528, total=   0.0s\n",
            "[CV] criterion=entropy, max_depth=107, max_features=auto, random_state=7 \n",
            "[CV]  criterion=entropy, max_depth=107, max_features=auto, random_state=7, score=0.542, total=   0.0s\n",
            "[CV] criterion=entropy, max_depth=107, max_features=auto, random_state=7 \n",
            "[CV]  criterion=entropy, max_depth=107, max_features=auto, random_state=7, score=0.496, total=   0.0s\n",
            "[CV] criterion=entropy, max_depth=107, max_features=auto, random_state=7 \n",
            "[CV]  criterion=entropy, max_depth=107, max_features=auto, random_state=7, score=0.576, total=   0.0s\n",
            "[CV] criterion=entropy, max_depth=107, max_features=auto, random_state=7 \n",
            "[CV]  criterion=entropy, max_depth=107, max_features=auto, random_state=7, score=0.545, total=   0.0s\n",
            "[CV] criterion=entropy, max_depth=107, max_features=auto, random_state=8 \n",
            "[CV]  criterion=entropy, max_depth=107, max_features=auto, random_state=8, score=0.546, total=   0.0s\n",
            "[CV] criterion=entropy, max_depth=107, max_features=auto, random_state=8 \n",
            "[CV]  criterion=entropy, max_depth=107, max_features=auto, random_state=8, score=0.544, total=   0.0s\n",
            "[CV] criterion=entropy, max_depth=107, max_features=auto, random_state=8 \n",
            "[CV]  criterion=entropy, max_depth=107, max_features=auto, random_state=8, score=0.572, total=   0.0s\n",
            "[CV] criterion=entropy, max_depth=107, max_features=auto, random_state=8 \n",
            "[CV]  criterion=entropy, max_depth=107, max_features=auto, random_state=8, score=0.560, total=   0.0s\n",
            "[CV] criterion=entropy, max_depth=107, max_features=auto, random_state=8 \n",
            "[CV]  criterion=entropy, max_depth=107, max_features=auto, random_state=8, score=0.559, total=   0.0s\n",
            "[CV] criterion=entropy, max_depth=107, max_features=auto, random_state=9 \n",
            "[CV]  criterion=entropy, max_depth=107, max_features=auto, random_state=9, score=0.554, total=   0.0s\n",
            "[CV] criterion=entropy, max_depth=107, max_features=auto, random_state=9 \n",
            "[CV]  criterion=entropy, max_depth=107, max_features=auto, random_state=9, score=0.534, total=   0.0s\n",
            "[CV] criterion=entropy, max_depth=107, max_features=auto, random_state=9 \n",
            "[CV]  criterion=entropy, max_depth=107, max_features=auto, random_state=9, score=0.552, total=   0.0s\n",
            "[CV] criterion=entropy, max_depth=107, max_features=auto, random_state=9 \n",
            "[CV]  criterion=entropy, max_depth=107, max_features=auto, random_state=9, score=0.568, total=   0.0s\n",
            "[CV] criterion=entropy, max_depth=107, max_features=auto, random_state=9 \n",
            "[CV]  criterion=entropy, max_depth=107, max_features=auto, random_state=9, score=0.553, total=   0.0s\n",
            "[CV] criterion=entropy, max_depth=107, max_features=sqrt, random_state=1 \n",
            "[CV]  criterion=entropy, max_depth=107, max_features=sqrt, random_state=1, score=0.552, total=   0.0s\n",
            "[CV] criterion=entropy, max_depth=107, max_features=sqrt, random_state=1 \n",
            "[CV]  criterion=entropy, max_depth=107, max_features=sqrt, random_state=1, score=0.550, total=   0.0s\n",
            "[CV] criterion=entropy, max_depth=107, max_features=sqrt, random_state=1 \n",
            "[CV]  criterion=entropy, max_depth=107, max_features=sqrt, random_state=1, score=0.382, total=   0.0s\n",
            "[CV] criterion=entropy, max_depth=107, max_features=sqrt, random_state=1 \n",
            "[CV]  criterion=entropy, max_depth=107, max_features=sqrt, random_state=1, score=0.504, total=   0.0s\n",
            "[CV] criterion=entropy, max_depth=107, max_features=sqrt, random_state=1 \n",
            "[CV]  criterion=entropy, max_depth=107, max_features=sqrt, random_state=1, score=0.539, total=   0.0s\n",
            "[CV] criterion=entropy, max_depth=107, max_features=sqrt, random_state=2 \n",
            "[CV]  criterion=entropy, max_depth=107, max_features=sqrt, random_state=2, score=0.512, total=   0.0s\n",
            "[CV] criterion=entropy, max_depth=107, max_features=sqrt, random_state=2 \n",
            "[CV]  criterion=entropy, max_depth=107, max_features=sqrt, random_state=2, score=0.376, total=   0.0s\n",
            "[CV] criterion=entropy, max_depth=107, max_features=sqrt, random_state=2 \n",
            "[CV]  criterion=entropy, max_depth=107, max_features=sqrt, random_state=2, score=0.388, total=   0.0s\n",
            "[CV] criterion=entropy, max_depth=107, max_features=sqrt, random_state=2 \n",
            "[CV]  criterion=entropy, max_depth=107, max_features=sqrt, random_state=2, score=0.556, total=   0.0s\n",
            "[CV] criterion=entropy, max_depth=107, max_features=sqrt, random_state=2 \n",
            "[CV]  criterion=entropy, max_depth=107, max_features=sqrt, random_state=2, score=0.557, total=   0.0s\n",
            "[CV] criterion=entropy, max_depth=107, max_features=sqrt, random_state=3 \n",
            "[CV]  criterion=entropy, max_depth=107, max_features=sqrt, random_state=3, score=0.526, total=   0.0s\n",
            "[CV] criterion=entropy, max_depth=107, max_features=sqrt, random_state=3 \n",
            "[CV]  criterion=entropy, max_depth=107, max_features=sqrt, random_state=3, score=0.546, total=   0.0s\n",
            "[CV] criterion=entropy, max_depth=107, max_features=sqrt, random_state=3 \n",
            "[CV]  criterion=entropy, max_depth=107, max_features=sqrt, random_state=3, score=0.532, total=   0.0s\n",
            "[CV] criterion=entropy, max_depth=107, max_features=sqrt, random_state=3 \n",
            "[CV]  criterion=entropy, max_depth=107, max_features=sqrt, random_state=3, score=0.534, total=   0.0s\n",
            "[CV] criterion=entropy, max_depth=107, max_features=sqrt, random_state=3 \n",
            "[CV]  criterion=entropy, max_depth=107, max_features=sqrt, random_state=3, score=0.531, total=   0.0s\n",
            "[CV] criterion=entropy, max_depth=107, max_features=sqrt, random_state=4 \n",
            "[CV]  criterion=entropy, max_depth=107, max_features=sqrt, random_state=4, score=0.538, total=   0.0s\n",
            "[CV] criterion=entropy, max_depth=107, max_features=sqrt, random_state=4 \n",
            "[CV]  criterion=entropy, max_depth=107, max_features=sqrt, random_state=4, score=0.558, total=   0.0s\n",
            "[CV] criterion=entropy, max_depth=107, max_features=sqrt, random_state=4 \n",
            "[CV]  criterion=entropy, max_depth=107, max_features=sqrt, random_state=4, score=0.548, total=   0.0s\n",
            "[CV] criterion=entropy, max_depth=107, max_features=sqrt, random_state=4 \n",
            "[CV]  criterion=entropy, max_depth=107, max_features=sqrt, random_state=4, score=0.582, total=   0.0s\n",
            "[CV] criterion=entropy, max_depth=107, max_features=sqrt, random_state=4 \n",
            "[CV]  criterion=entropy, max_depth=107, max_features=sqrt, random_state=4, score=0.549, total=   0.0s\n",
            "[CV] criterion=entropy, max_depth=107, max_features=sqrt, random_state=5 \n",
            "[CV]  criterion=entropy, max_depth=107, max_features=sqrt, random_state=5, score=0.506, total=   0.0s\n",
            "[CV] criterion=entropy, max_depth=107, max_features=sqrt, random_state=5 \n",
            "[CV]  criterion=entropy, max_depth=107, max_features=sqrt, random_state=5, score=0.472, total=   0.0s\n",
            "[CV] criterion=entropy, max_depth=107, max_features=sqrt, random_state=5 \n",
            "[CV]  criterion=entropy, max_depth=107, max_features=sqrt, random_state=5, score=0.492, total=   0.0s\n",
            "[CV] criterion=entropy, max_depth=107, max_features=sqrt, random_state=5 \n",
            "[CV]  criterion=entropy, max_depth=107, max_features=sqrt, random_state=5, score=0.542, total=   0.0s\n",
            "[CV] criterion=entropy, max_depth=107, max_features=sqrt, random_state=5 \n",
            "[CV]  criterion=entropy, max_depth=107, max_features=sqrt, random_state=5, score=0.531, total=   0.0s\n",
            "[CV] criterion=entropy, max_depth=107, max_features=sqrt, random_state=6 \n",
            "[CV]  criterion=entropy, max_depth=107, max_features=sqrt, random_state=6, score=0.504, total=   0.0s\n",
            "[CV] criterion=entropy, max_depth=107, max_features=sqrt, random_state=6 \n",
            "[CV]  criterion=entropy, max_depth=107, max_features=sqrt, random_state=6, score=0.576, total=   0.0s\n",
            "[CV] criterion=entropy, max_depth=107, max_features=sqrt, random_state=6 \n",
            "[CV]  criterion=entropy, max_depth=107, max_features=sqrt, random_state=6, score=0.532, total=   0.0s\n",
            "[CV] criterion=entropy, max_depth=107, max_features=sqrt, random_state=6 \n",
            "[CV]  criterion=entropy, max_depth=107, max_features=sqrt, random_state=6, score=0.532, total=   0.0s\n",
            "[CV] criterion=entropy, max_depth=107, max_features=sqrt, random_state=6 \n",
            "[CV]  criterion=entropy, max_depth=107, max_features=sqrt, random_state=6, score=0.557, total=   0.0s\n",
            "[CV] criterion=entropy, max_depth=107, max_features=sqrt, random_state=7 \n",
            "[CV]  criterion=entropy, max_depth=107, max_features=sqrt, random_state=7, score=0.528, total=   0.0s\n",
            "[CV] criterion=entropy, max_depth=107, max_features=sqrt, random_state=7 \n",
            "[CV]  criterion=entropy, max_depth=107, max_features=sqrt, random_state=7, score=0.542, total=   0.0s\n",
            "[CV] criterion=entropy, max_depth=107, max_features=sqrt, random_state=7 \n",
            "[CV]  criterion=entropy, max_depth=107, max_features=sqrt, random_state=7, score=0.496, total=   0.0s\n",
            "[CV] criterion=entropy, max_depth=107, max_features=sqrt, random_state=7 \n",
            "[CV]  criterion=entropy, max_depth=107, max_features=sqrt, random_state=7, score=0.576, total=   0.0s\n",
            "[CV] criterion=entropy, max_depth=107, max_features=sqrt, random_state=7 \n",
            "[CV]  criterion=entropy, max_depth=107, max_features=sqrt, random_state=7, score=0.545, total=   0.0s\n",
            "[CV] criterion=entropy, max_depth=107, max_features=sqrt, random_state=8 \n",
            "[CV]  criterion=entropy, max_depth=107, max_features=sqrt, random_state=8, score=0.546, total=   0.0s\n",
            "[CV] criterion=entropy, max_depth=107, max_features=sqrt, random_state=8 \n",
            "[CV]  criterion=entropy, max_depth=107, max_features=sqrt, random_state=8, score=0.544, total=   0.0s\n",
            "[CV] criterion=entropy, max_depth=107, max_features=sqrt, random_state=8 \n",
            "[CV]  criterion=entropy, max_depth=107, max_features=sqrt, random_state=8, score=0.572, total=   0.0s\n",
            "[CV] criterion=entropy, max_depth=107, max_features=sqrt, random_state=8 \n",
            "[CV]  criterion=entropy, max_depth=107, max_features=sqrt, random_state=8, score=0.560, total=   0.0s\n",
            "[CV] criterion=entropy, max_depth=107, max_features=sqrt, random_state=8 \n",
            "[CV]  criterion=entropy, max_depth=107, max_features=sqrt, random_state=8, score=0.559, total=   0.0s\n",
            "[CV] criterion=entropy, max_depth=107, max_features=sqrt, random_state=9 \n",
            "[CV]  criterion=entropy, max_depth=107, max_features=sqrt, random_state=9, score=0.554, total=   0.0s\n",
            "[CV] criterion=entropy, max_depth=107, max_features=sqrt, random_state=9 \n",
            "[CV]  criterion=entropy, max_depth=107, max_features=sqrt, random_state=9, score=0.534, total=   0.0s\n",
            "[CV] criterion=entropy, max_depth=107, max_features=sqrt, random_state=9 \n",
            "[CV]  criterion=entropy, max_depth=107, max_features=sqrt, random_state=9, score=0.552, total=   0.0s\n",
            "[CV] criterion=entropy, max_depth=107, max_features=sqrt, random_state=9 \n",
            "[CV]  criterion=entropy, max_depth=107, max_features=sqrt, random_state=9, score=0.568, total=   0.0s\n",
            "[CV] criterion=entropy, max_depth=107, max_features=sqrt, random_state=9 \n",
            "[CV]  criterion=entropy, max_depth=107, max_features=sqrt, random_state=9, score=0.553, total=   0.0s\n",
            "[CV] criterion=entropy, max_depth=107, max_features=log2, random_state=1 \n",
            "[CV]  criterion=entropy, max_depth=107, max_features=log2, random_state=1, score=0.552, total=   0.0s\n",
            "[CV] criterion=entropy, max_depth=107, max_features=log2, random_state=1 \n",
            "[CV]  criterion=entropy, max_depth=107, max_features=log2, random_state=1, score=0.550, total=   0.0s\n",
            "[CV] criterion=entropy, max_depth=107, max_features=log2, random_state=1 \n",
            "[CV]  criterion=entropy, max_depth=107, max_features=log2, random_state=1, score=0.382, total=   0.0s\n",
            "[CV] criterion=entropy, max_depth=107, max_features=log2, random_state=1 \n",
            "[CV]  criterion=entropy, max_depth=107, max_features=log2, random_state=1, score=0.504, total=   0.0s\n",
            "[CV] criterion=entropy, max_depth=107, max_features=log2, random_state=1 \n",
            "[CV]  criterion=entropy, max_depth=107, max_features=log2, random_state=1, score=0.539, total=   0.0s\n",
            "[CV] criterion=entropy, max_depth=107, max_features=log2, random_state=2 \n",
            "[CV]  criterion=entropy, max_depth=107, max_features=log2, random_state=2, score=0.512, total=   0.0s\n",
            "[CV] criterion=entropy, max_depth=107, max_features=log2, random_state=2 \n",
            "[CV]  criterion=entropy, max_depth=107, max_features=log2, random_state=2, score=0.376, total=   0.0s\n",
            "[CV] criterion=entropy, max_depth=107, max_features=log2, random_state=2 \n",
            "[CV]  criterion=entropy, max_depth=107, max_features=log2, random_state=2, score=0.388, total=   0.0s\n",
            "[CV] criterion=entropy, max_depth=107, max_features=log2, random_state=2 \n",
            "[CV]  criterion=entropy, max_depth=107, max_features=log2, random_state=2, score=0.556, total=   0.0s\n",
            "[CV] criterion=entropy, max_depth=107, max_features=log2, random_state=2 \n",
            "[CV]  criterion=entropy, max_depth=107, max_features=log2, random_state=2, score=0.557, total=   0.0s\n",
            "[CV] criterion=entropy, max_depth=107, max_features=log2, random_state=3 \n",
            "[CV]  criterion=entropy, max_depth=107, max_features=log2, random_state=3, score=0.526, total=   0.0s\n",
            "[CV] criterion=entropy, max_depth=107, max_features=log2, random_state=3 \n",
            "[CV]  criterion=entropy, max_depth=107, max_features=log2, random_state=3, score=0.546, total=   0.0s\n",
            "[CV] criterion=entropy, max_depth=107, max_features=log2, random_state=3 \n",
            "[CV]  criterion=entropy, max_depth=107, max_features=log2, random_state=3, score=0.532, total=   0.0s\n",
            "[CV] criterion=entropy, max_depth=107, max_features=log2, random_state=3 \n",
            "[CV]  criterion=entropy, max_depth=107, max_features=log2, random_state=3, score=0.534, total=   0.0s\n",
            "[CV] criterion=entropy, max_depth=107, max_features=log2, random_state=3 \n",
            "[CV]  criterion=entropy, max_depth=107, max_features=log2, random_state=3, score=0.531, total=   0.0s\n",
            "[CV] criterion=entropy, max_depth=107, max_features=log2, random_state=4 \n",
            "[CV]  criterion=entropy, max_depth=107, max_features=log2, random_state=4, score=0.538, total=   0.0s\n",
            "[CV] criterion=entropy, max_depth=107, max_features=log2, random_state=4 \n",
            "[CV]  criterion=entropy, max_depth=107, max_features=log2, random_state=4, score=0.558, total=   0.0s\n",
            "[CV] criterion=entropy, max_depth=107, max_features=log2, random_state=4 \n",
            "[CV]  criterion=entropy, max_depth=107, max_features=log2, random_state=4, score=0.548, total=   0.0s\n",
            "[CV] criterion=entropy, max_depth=107, max_features=log2, random_state=4 \n",
            "[CV]  criterion=entropy, max_depth=107, max_features=log2, random_state=4, score=0.582, total=   0.0s\n",
            "[CV] criterion=entropy, max_depth=107, max_features=log2, random_state=4 \n",
            "[CV]  criterion=entropy, max_depth=107, max_features=log2, random_state=4, score=0.549, total=   0.0s\n",
            "[CV] criterion=entropy, max_depth=107, max_features=log2, random_state=5 \n",
            "[CV]  criterion=entropy, max_depth=107, max_features=log2, random_state=5, score=0.506, total=   0.0s\n",
            "[CV] criterion=entropy, max_depth=107, max_features=log2, random_state=5 \n",
            "[CV]  criterion=entropy, max_depth=107, max_features=log2, random_state=5, score=0.472, total=   0.0s\n",
            "[CV] criterion=entropy, max_depth=107, max_features=log2, random_state=5 \n",
            "[CV]  criterion=entropy, max_depth=107, max_features=log2, random_state=5, score=0.492, total=   0.0s\n",
            "[CV] criterion=entropy, max_depth=107, max_features=log2, random_state=5 \n",
            "[CV]  criterion=entropy, max_depth=107, max_features=log2, random_state=5, score=0.542, total=   0.0s\n",
            "[CV] criterion=entropy, max_depth=107, max_features=log2, random_state=5 \n",
            "[CV]  criterion=entropy, max_depth=107, max_features=log2, random_state=5, score=0.531, total=   0.0s\n",
            "[CV] criterion=entropy, max_depth=107, max_features=log2, random_state=6 \n",
            "[CV]  criterion=entropy, max_depth=107, max_features=log2, random_state=6, score=0.504, total=   0.0s\n",
            "[CV] criterion=entropy, max_depth=107, max_features=log2, random_state=6 \n",
            "[CV]  criterion=entropy, max_depth=107, max_features=log2, random_state=6, score=0.576, total=   0.0s\n",
            "[CV] criterion=entropy, max_depth=107, max_features=log2, random_state=6 \n",
            "[CV]  criterion=entropy, max_depth=107, max_features=log2, random_state=6, score=0.532, total=   0.0s\n",
            "[CV] criterion=entropy, max_depth=107, max_features=log2, random_state=6 \n",
            "[CV]  criterion=entropy, max_depth=107, max_features=log2, random_state=6, score=0.532, total=   0.0s\n",
            "[CV] criterion=entropy, max_depth=107, max_features=log2, random_state=6 \n",
            "[CV]  criterion=entropy, max_depth=107, max_features=log2, random_state=6, score=0.557, total=   0.0s\n",
            "[CV] criterion=entropy, max_depth=107, max_features=log2, random_state=7 \n",
            "[CV]  criterion=entropy, max_depth=107, max_features=log2, random_state=7, score=0.528, total=   0.0s\n",
            "[CV] criterion=entropy, max_depth=107, max_features=log2, random_state=7 \n",
            "[CV]  criterion=entropy, max_depth=107, max_features=log2, random_state=7, score=0.542, total=   0.0s\n",
            "[CV] criterion=entropy, max_depth=107, max_features=log2, random_state=7 \n",
            "[CV]  criterion=entropy, max_depth=107, max_features=log2, random_state=7, score=0.496, total=   0.0s\n",
            "[CV] criterion=entropy, max_depth=107, max_features=log2, random_state=7 \n",
            "[CV]  criterion=entropy, max_depth=107, max_features=log2, random_state=7, score=0.576, total=   0.0s\n",
            "[CV] criterion=entropy, max_depth=107, max_features=log2, random_state=7 \n",
            "[CV]  criterion=entropy, max_depth=107, max_features=log2, random_state=7, score=0.545, total=   0.0s\n",
            "[CV] criterion=entropy, max_depth=107, max_features=log2, random_state=8 \n",
            "[CV]  criterion=entropy, max_depth=107, max_features=log2, random_state=8, score=0.546, total=   0.0s\n",
            "[CV] criterion=entropy, max_depth=107, max_features=log2, random_state=8 \n",
            "[CV]  criterion=entropy, max_depth=107, max_features=log2, random_state=8, score=0.544, total=   0.0s\n",
            "[CV] criterion=entropy, max_depth=107, max_features=log2, random_state=8 \n",
            "[CV]  criterion=entropy, max_depth=107, max_features=log2, random_state=8, score=0.572, total=   0.0s\n",
            "[CV] criterion=entropy, max_depth=107, max_features=log2, random_state=8 \n",
            "[CV]  criterion=entropy, max_depth=107, max_features=log2, random_state=8, score=0.560, total=   0.0s\n",
            "[CV] criterion=entropy, max_depth=107, max_features=log2, random_state=8 \n",
            "[CV]  criterion=entropy, max_depth=107, max_features=log2, random_state=8, score=0.559, total=   0.0s\n",
            "[CV] criterion=entropy, max_depth=107, max_features=log2, random_state=9 \n",
            "[CV]  criterion=entropy, max_depth=107, max_features=log2, random_state=9, score=0.554, total=   0.0s\n",
            "[CV] criterion=entropy, max_depth=107, max_features=log2, random_state=9 \n",
            "[CV]  criterion=entropy, max_depth=107, max_features=log2, random_state=9, score=0.534, total=   0.0s\n",
            "[CV] criterion=entropy, max_depth=107, max_features=log2, random_state=9 \n",
            "[CV]  criterion=entropy, max_depth=107, max_features=log2, random_state=9, score=0.552, total=   0.0s\n",
            "[CV] criterion=entropy, max_depth=107, max_features=log2, random_state=9 \n",
            "[CV]  criterion=entropy, max_depth=107, max_features=log2, random_state=9, score=0.568, total=   0.0s\n",
            "[CV] criterion=entropy, max_depth=107, max_features=log2, random_state=9 \n",
            "[CV]  criterion=entropy, max_depth=107, max_features=log2, random_state=9, score=0.553, total=   0.0s\n",
            "[CV] criterion=entropy, max_depth=107, max_features=, random_state=1 .\n",
            "[CV]  criterion=entropy, max_depth=107, max_features=, random_state=1, score=nan, total=   0.0s\n",
            "[CV] criterion=entropy, max_depth=107, max_features=, random_state=1 .\n",
            "[CV]  criterion=entropy, max_depth=107, max_features=, random_state=1, score=nan, total=   0.0s\n",
            "[CV] criterion=entropy, max_depth=107, max_features=, random_state=1 .\n",
            "[CV]  criterion=entropy, max_depth=107, max_features=, random_state=1, score=nan, total=   0.0s\n",
            "[CV] criterion=entropy, max_depth=107, max_features=, random_state=1 .\n",
            "[CV]  criterion=entropy, max_depth=107, max_features=, random_state=1, score=nan, total=   0.0s\n",
            "[CV] criterion=entropy, max_depth=107, max_features=, random_state=1 .\n",
            "[CV]  criterion=entropy, max_depth=107, max_features=, random_state=1, score=nan, total=   0.0s\n",
            "[CV] criterion=entropy, max_depth=107, max_features=, random_state=2 .\n",
            "[CV]  criterion=entropy, max_depth=107, max_features=, random_state=2, score=nan, total=   0.0s\n",
            "[CV] criterion=entropy, max_depth=107, max_features=, random_state=2 .\n",
            "[CV]  criterion=entropy, max_depth=107, max_features=, random_state=2, score=nan, total=   0.0s\n",
            "[CV] criterion=entropy, max_depth=107, max_features=, random_state=2 .\n",
            "[CV]  criterion=entropy, max_depth=107, max_features=, random_state=2, score=nan, total=   0.0s\n",
            "[CV] criterion=entropy, max_depth=107, max_features=, random_state=2 .\n",
            "[CV]  criterion=entropy, max_depth=107, max_features=, random_state=2, score=nan, total=   0.0s\n",
            "[CV] criterion=entropy, max_depth=107, max_features=, random_state=2 .\n",
            "[CV]  criterion=entropy, max_depth=107, max_features=, random_state=2, score=nan, total=   0.0s\n",
            "[CV] criterion=entropy, max_depth=107, max_features=, random_state=3 .\n",
            "[CV]  criterion=entropy, max_depth=107, max_features=, random_state=3, score=nan, total=   0.0s\n",
            "[CV] criterion=entropy, max_depth=107, max_features=, random_state=3 .\n",
            "[CV]  criterion=entropy, max_depth=107, max_features=, random_state=3, score=nan, total=   0.0s\n",
            "[CV] criterion=entropy, max_depth=107, max_features=, random_state=3 .\n",
            "[CV]  criterion=entropy, max_depth=107, max_features=, random_state=3, score=nan, total=   0.0s\n",
            "[CV] criterion=entropy, max_depth=107, max_features=, random_state=3 .\n",
            "[CV]  criterion=entropy, max_depth=107, max_features=, random_state=3, score=nan, total=   0.0s\n",
            "[CV] criterion=entropy, max_depth=107, max_features=, random_state=3 .\n",
            "[CV]  criterion=entropy, max_depth=107, max_features=, random_state=3, score=nan, total=   0.0s\n",
            "[CV] criterion=entropy, max_depth=107, max_features=, random_state=4 .\n",
            "[CV]  criterion=entropy, max_depth=107, max_features=, random_state=4, score=nan, total=   0.0s\n",
            "[CV] criterion=entropy, max_depth=107, max_features=, random_state=4 .\n",
            "[CV]  criterion=entropy, max_depth=107, max_features=, random_state=4, score=nan, total=   0.0s\n",
            "[CV] criterion=entropy, max_depth=107, max_features=, random_state=4 .\n",
            "[CV]  criterion=entropy, max_depth=107, max_features=, random_state=4, score=nan, total=   0.0s\n",
            "[CV] criterion=entropy, max_depth=107, max_features=, random_state=4 .\n",
            "[CV]  criterion=entropy, max_depth=107, max_features=, random_state=4, score=nan, total=   0.0s\n",
            "[CV] criterion=entropy, max_depth=107, max_features=, random_state=4 .\n",
            "[CV]  criterion=entropy, max_depth=107, max_features=, random_state=4, score=nan, total=   0.0s\n",
            "[CV] criterion=entropy, max_depth=107, max_features=, random_state=5 .\n",
            "[CV]  criterion=entropy, max_depth=107, max_features=, random_state=5, score=nan, total=   0.0s\n",
            "[CV] criterion=entropy, max_depth=107, max_features=, random_state=5 .\n",
            "[CV]  criterion=entropy, max_depth=107, max_features=, random_state=5, score=nan, total=   0.0s\n",
            "[CV] criterion=entropy, max_depth=107, max_features=, random_state=5 .\n",
            "[CV]  criterion=entropy, max_depth=107, max_features=, random_state=5, score=nan, total=   0.0s\n",
            "[CV] criterion=entropy, max_depth=107, max_features=, random_state=5 .\n",
            "[CV]  criterion=entropy, max_depth=107, max_features=, random_state=5, score=nan, total=   0.0s\n",
            "[CV] criterion=entropy, max_depth=107, max_features=, random_state=5 .\n",
            "[CV]  criterion=entropy, max_depth=107, max_features=, random_state=5, score=nan, total=   0.0s\n",
            "[CV] criterion=entropy, max_depth=107, max_features=, random_state=6 .\n",
            "[CV]  criterion=entropy, max_depth=107, max_features=, random_state=6, score=nan, total=   0.0s\n",
            "[CV] criterion=entropy, max_depth=107, max_features=, random_state=6 .\n",
            "[CV]  criterion=entropy, max_depth=107, max_features=, random_state=6, score=nan, total=   0.0s\n",
            "[CV] criterion=entropy, max_depth=107, max_features=, random_state=6 .\n",
            "[CV]  criterion=entropy, max_depth=107, max_features=, random_state=6, score=nan, total=   0.0s\n",
            "[CV] criterion=entropy, max_depth=107, max_features=, random_state=6 .\n",
            "[CV]  criterion=entropy, max_depth=107, max_features=, random_state=6, score=nan, total=   0.0s\n",
            "[CV] criterion=entropy, max_depth=107, max_features=, random_state=6 .\n",
            "[CV]  criterion=entropy, max_depth=107, max_features=, random_state=6, score=nan, total=   0.0s\n",
            "[CV] criterion=entropy, max_depth=107, max_features=, random_state=7 .\n",
            "[CV]  criterion=entropy, max_depth=107, max_features=, random_state=7, score=nan, total=   0.0s\n",
            "[CV] criterion=entropy, max_depth=107, max_features=, random_state=7 .\n",
            "[CV]  criterion=entropy, max_depth=107, max_features=, random_state=7, score=nan, total=   0.0s\n",
            "[CV] criterion=entropy, max_depth=107, max_features=, random_state=7 .\n",
            "[CV]  criterion=entropy, max_depth=107, max_features=, random_state=7, score=nan, total=   0.0s\n",
            "[CV] criterion=entropy, max_depth=107, max_features=, random_state=7 .\n",
            "[CV]  criterion=entropy, max_depth=107, max_features=, random_state=7, score=nan, total=   0.0s\n",
            "[CV] criterion=entropy, max_depth=107, max_features=, random_state=7 .\n",
            "[CV]  criterion=entropy, max_depth=107, max_features=, random_state=7, score=nan, total=   0.0s\n",
            "[CV] criterion=entropy, max_depth=107, max_features=, random_state=8 .\n",
            "[CV]  criterion=entropy, max_depth=107, max_features=, random_state=8, score=nan, total=   0.0s\n",
            "[CV] criterion=entropy, max_depth=107, max_features=, random_state=8 .\n",
            "[CV]  criterion=entropy, max_depth=107, max_features=, random_state=8, score=nan, total=   0.0s\n",
            "[CV] criterion=entropy, max_depth=107, max_features=, random_state=8 .\n",
            "[CV]  criterion=entropy, max_depth=107, max_features=, random_state=8, score=nan, total=   0.0s\n",
            "[CV] criterion=entropy, max_depth=107, max_features=, random_state=8 .\n",
            "[CV]  criterion=entropy, max_depth=107, max_features=, random_state=8, score=nan, total=   0.0s\n",
            "[CV] criterion=entropy, max_depth=107, max_features=, random_state=8 .\n",
            "[CV]  criterion=entropy, max_depth=107, max_features=, random_state=8, score=nan, total=   0.0s\n",
            "[CV] criterion=entropy, max_depth=107, max_features=, random_state=9 .\n",
            "[CV]  criterion=entropy, max_depth=107, max_features=, random_state=9, score=nan, total=   0.0s\n",
            "[CV] criterion=entropy, max_depth=107, max_features=, random_state=9 .\n",
            "[CV]  criterion=entropy, max_depth=107, max_features=, random_state=9, score=nan, total=   0.0s\n",
            "[CV] criterion=entropy, max_depth=107, max_features=, random_state=9 .\n",
            "[CV]  criterion=entropy, max_depth=107, max_features=, random_state=9, score=nan, total=   0.0s\n",
            "[CV] criterion=entropy, max_depth=107, max_features=, random_state=9 .\n",
            "[CV]  criterion=entropy, max_depth=107, max_features=, random_state=9, score=nan, total=   0.0s\n",
            "[CV] criterion=entropy, max_depth=107, max_features=, random_state=9 .\n",
            "[CV]  criterion=entropy, max_depth=107, max_features=, random_state=9, score=nan, total=   0.0s\n",
            "0.5562236472945892\n",
            "{'ccp_alpha': 0.0, 'class_weight': None, 'criterion': 'entropy', 'max_depth': 107, 'max_features': 'auto', 'max_leaf_nodes': None, 'min_impurity_decrease': 0.0, 'min_impurity_split': None, 'min_samples_leaf': 1, 'min_samples_split': 2, 'min_weight_fraction_leaf': 0.0, 'presort': 'deprecated', 'random_state': 8, 'splitter': 'best'}\n"
          ],
          "name": "stdout"
        },
        {
          "output_type": "stream",
          "text": [
            "/usr/local/lib/python3.7/dist-packages/sklearn/model_selection/_validation.py:536: FitFailedWarning:\n",
            "\n",
            "Estimator fit failed. The score on this train-test partition for these parameters will be set to nan. Details: \n",
            "ValueError: Invalid value for max_features. Allowed string values are 'auto', 'sqrt' or 'log2'.\n",
            "\n",
            "\n",
            "/usr/local/lib/python3.7/dist-packages/sklearn/model_selection/_validation.py:536: FitFailedWarning:\n",
            "\n",
            "Estimator fit failed. The score on this train-test partition for these parameters will be set to nan. Details: \n",
            "ValueError: Invalid value for max_features. Allowed string values are 'auto', 'sqrt' or 'log2'.\n",
            "\n",
            "\n",
            "/usr/local/lib/python3.7/dist-packages/sklearn/model_selection/_validation.py:536: FitFailedWarning:\n",
            "\n",
            "Estimator fit failed. The score on this train-test partition for these parameters will be set to nan. Details: \n",
            "ValueError: Invalid value for max_features. Allowed string values are 'auto', 'sqrt' or 'log2'.\n",
            "\n",
            "\n",
            "/usr/local/lib/python3.7/dist-packages/sklearn/model_selection/_validation.py:536: FitFailedWarning:\n",
            "\n",
            "Estimator fit failed. The score on this train-test partition for these parameters will be set to nan. Details: \n",
            "ValueError: Invalid value for max_features. Allowed string values are 'auto', 'sqrt' or 'log2'.\n",
            "\n",
            "\n",
            "/usr/local/lib/python3.7/dist-packages/sklearn/model_selection/_validation.py:536: FitFailedWarning:\n",
            "\n",
            "Estimator fit failed. The score on this train-test partition for these parameters will be set to nan. Details: \n",
            "ValueError: Invalid value for max_features. Allowed string values are 'auto', 'sqrt' or 'log2'.\n",
            "\n",
            "\n",
            "/usr/local/lib/python3.7/dist-packages/sklearn/model_selection/_validation.py:536: FitFailedWarning:\n",
            "\n",
            "Estimator fit failed. The score on this train-test partition for these parameters will be set to nan. Details: \n",
            "ValueError: Invalid value for max_features. Allowed string values are 'auto', 'sqrt' or 'log2'.\n",
            "\n",
            "\n",
            "/usr/local/lib/python3.7/dist-packages/sklearn/model_selection/_validation.py:536: FitFailedWarning:\n",
            "\n",
            "Estimator fit failed. The score on this train-test partition for these parameters will be set to nan. Details: \n",
            "ValueError: Invalid value for max_features. Allowed string values are 'auto', 'sqrt' or 'log2'.\n",
            "\n",
            "\n",
            "/usr/local/lib/python3.7/dist-packages/sklearn/model_selection/_validation.py:536: FitFailedWarning:\n",
            "\n",
            "Estimator fit failed. The score on this train-test partition for these parameters will be set to nan. Details: \n",
            "ValueError: Invalid value for max_features. Allowed string values are 'auto', 'sqrt' or 'log2'.\n",
            "\n",
            "\n",
            "/usr/local/lib/python3.7/dist-packages/sklearn/model_selection/_validation.py:536: FitFailedWarning:\n",
            "\n",
            "Estimator fit failed. The score on this train-test partition for these parameters will be set to nan. Details: \n",
            "ValueError: Invalid value for max_features. Allowed string values are 'auto', 'sqrt' or 'log2'.\n",
            "\n",
            "\n",
            "/usr/local/lib/python3.7/dist-packages/sklearn/model_selection/_validation.py:536: FitFailedWarning:\n",
            "\n",
            "Estimator fit failed. The score on this train-test partition for these parameters will be set to nan. Details: \n",
            "ValueError: Invalid value for max_features. Allowed string values are 'auto', 'sqrt' or 'log2'.\n",
            "\n",
            "\n",
            "/usr/local/lib/python3.7/dist-packages/sklearn/model_selection/_validation.py:536: FitFailedWarning:\n",
            "\n",
            "Estimator fit failed. The score on this train-test partition for these parameters will be set to nan. Details: \n",
            "ValueError: Invalid value for max_features. Allowed string values are 'auto', 'sqrt' or 'log2'.\n",
            "\n",
            "\n",
            "/usr/local/lib/python3.7/dist-packages/sklearn/model_selection/_validation.py:536: FitFailedWarning:\n",
            "\n",
            "Estimator fit failed. The score on this train-test partition for these parameters will be set to nan. Details: \n",
            "ValueError: Invalid value for max_features. Allowed string values are 'auto', 'sqrt' or 'log2'.\n",
            "\n",
            "\n",
            "/usr/local/lib/python3.7/dist-packages/sklearn/model_selection/_validation.py:536: FitFailedWarning:\n",
            "\n",
            "Estimator fit failed. The score on this train-test partition for these parameters will be set to nan. Details: \n",
            "ValueError: Invalid value for max_features. Allowed string values are 'auto', 'sqrt' or 'log2'.\n",
            "\n",
            "\n",
            "/usr/local/lib/python3.7/dist-packages/sklearn/model_selection/_validation.py:536: FitFailedWarning:\n",
            "\n",
            "Estimator fit failed. The score on this train-test partition for these parameters will be set to nan. Details: \n",
            "ValueError: Invalid value for max_features. Allowed string values are 'auto', 'sqrt' or 'log2'.\n",
            "\n",
            "\n",
            "/usr/local/lib/python3.7/dist-packages/sklearn/model_selection/_validation.py:536: FitFailedWarning:\n",
            "\n",
            "Estimator fit failed. The score on this train-test partition for these parameters will be set to nan. Details: \n",
            "ValueError: Invalid value for max_features. Allowed string values are 'auto', 'sqrt' or 'log2'.\n",
            "\n",
            "\n",
            "/usr/local/lib/python3.7/dist-packages/sklearn/model_selection/_validation.py:536: FitFailedWarning:\n",
            "\n",
            "Estimator fit failed. The score on this train-test partition for these parameters will be set to nan. Details: \n",
            "ValueError: Invalid value for max_features. Allowed string values are 'auto', 'sqrt' or 'log2'.\n",
            "\n",
            "\n",
            "/usr/local/lib/python3.7/dist-packages/sklearn/model_selection/_validation.py:536: FitFailedWarning:\n",
            "\n",
            "Estimator fit failed. The score on this train-test partition for these parameters will be set to nan. Details: \n",
            "ValueError: Invalid value for max_features. Allowed string values are 'auto', 'sqrt' or 'log2'.\n",
            "\n",
            "\n",
            "/usr/local/lib/python3.7/dist-packages/sklearn/model_selection/_validation.py:536: FitFailedWarning:\n",
            "\n",
            "Estimator fit failed. The score on this train-test partition for these parameters will be set to nan. Details: \n",
            "ValueError: Invalid value for max_features. Allowed string values are 'auto', 'sqrt' or 'log2'.\n",
            "\n",
            "\n",
            "/usr/local/lib/python3.7/dist-packages/sklearn/model_selection/_validation.py:536: FitFailedWarning:\n",
            "\n",
            "Estimator fit failed. The score on this train-test partition for these parameters will be set to nan. Details: \n",
            "ValueError: Invalid value for max_features. Allowed string values are 'auto', 'sqrt' or 'log2'.\n",
            "\n",
            "\n",
            "/usr/local/lib/python3.7/dist-packages/sklearn/model_selection/_validation.py:536: FitFailedWarning:\n",
            "\n",
            "Estimator fit failed. The score on this train-test partition for these parameters will be set to nan. Details: \n",
            "ValueError: Invalid value for max_features. Allowed string values are 'auto', 'sqrt' or 'log2'.\n",
            "\n",
            "\n",
            "/usr/local/lib/python3.7/dist-packages/sklearn/model_selection/_validation.py:536: FitFailedWarning:\n",
            "\n",
            "Estimator fit failed. The score on this train-test partition for these parameters will be set to nan. Details: \n",
            "ValueError: Invalid value for max_features. Allowed string values are 'auto', 'sqrt' or 'log2'.\n",
            "\n",
            "\n",
            "/usr/local/lib/python3.7/dist-packages/sklearn/model_selection/_validation.py:536: FitFailedWarning:\n",
            "\n",
            "Estimator fit failed. The score on this train-test partition for these parameters will be set to nan. Details: \n",
            "ValueError: Invalid value for max_features. Allowed string values are 'auto', 'sqrt' or 'log2'.\n",
            "\n",
            "\n",
            "/usr/local/lib/python3.7/dist-packages/sklearn/model_selection/_validation.py:536: FitFailedWarning:\n",
            "\n",
            "Estimator fit failed. The score on this train-test partition for these parameters will be set to nan. Details: \n",
            "ValueError: Invalid value for max_features. Allowed string values are 'auto', 'sqrt' or 'log2'.\n",
            "\n",
            "\n",
            "/usr/local/lib/python3.7/dist-packages/sklearn/model_selection/_validation.py:536: FitFailedWarning:\n",
            "\n",
            "Estimator fit failed. The score on this train-test partition for these parameters will be set to nan. Details: \n",
            "ValueError: Invalid value for max_features. Allowed string values are 'auto', 'sqrt' or 'log2'.\n",
            "\n",
            "\n",
            "/usr/local/lib/python3.7/dist-packages/sklearn/model_selection/_validation.py:536: FitFailedWarning:\n",
            "\n",
            "Estimator fit failed. The score on this train-test partition for these parameters will be set to nan. Details: \n",
            "ValueError: Invalid value for max_features. Allowed string values are 'auto', 'sqrt' or 'log2'.\n",
            "\n",
            "\n",
            "/usr/local/lib/python3.7/dist-packages/sklearn/model_selection/_validation.py:536: FitFailedWarning:\n",
            "\n",
            "Estimator fit failed. The score on this train-test partition for these parameters will be set to nan. Details: \n",
            "ValueError: Invalid value for max_features. Allowed string values are 'auto', 'sqrt' or 'log2'.\n",
            "\n",
            "\n",
            "/usr/local/lib/python3.7/dist-packages/sklearn/model_selection/_validation.py:536: FitFailedWarning:\n",
            "\n",
            "Estimator fit failed. The score on this train-test partition for these parameters will be set to nan. Details: \n",
            "ValueError: Invalid value for max_features. Allowed string values are 'auto', 'sqrt' or 'log2'.\n",
            "\n",
            "\n",
            "/usr/local/lib/python3.7/dist-packages/sklearn/model_selection/_validation.py:536: FitFailedWarning:\n",
            "\n",
            "Estimator fit failed. The score on this train-test partition for these parameters will be set to nan. Details: \n",
            "ValueError: Invalid value for max_features. Allowed string values are 'auto', 'sqrt' or 'log2'.\n",
            "\n",
            "\n",
            "/usr/local/lib/python3.7/dist-packages/sklearn/model_selection/_validation.py:536: FitFailedWarning:\n",
            "\n",
            "Estimator fit failed. The score on this train-test partition for these parameters will be set to nan. Details: \n",
            "ValueError: Invalid value for max_features. Allowed string values are 'auto', 'sqrt' or 'log2'.\n",
            "\n",
            "\n",
            "/usr/local/lib/python3.7/dist-packages/sklearn/model_selection/_validation.py:536: FitFailedWarning:\n",
            "\n",
            "Estimator fit failed. The score on this train-test partition for these parameters will be set to nan. Details: \n",
            "ValueError: Invalid value for max_features. Allowed string values are 'auto', 'sqrt' or 'log2'.\n",
            "\n",
            "\n",
            "/usr/local/lib/python3.7/dist-packages/sklearn/model_selection/_validation.py:536: FitFailedWarning:\n",
            "\n",
            "Estimator fit failed. The score on this train-test partition for these parameters will be set to nan. Details: \n",
            "ValueError: Invalid value for max_features. Allowed string values are 'auto', 'sqrt' or 'log2'.\n",
            "\n",
            "\n",
            "/usr/local/lib/python3.7/dist-packages/sklearn/model_selection/_validation.py:536: FitFailedWarning:\n",
            "\n",
            "Estimator fit failed. The score on this train-test partition for these parameters will be set to nan. Details: \n",
            "ValueError: Invalid value for max_features. Allowed string values are 'auto', 'sqrt' or 'log2'.\n",
            "\n",
            "\n",
            "/usr/local/lib/python3.7/dist-packages/sklearn/model_selection/_validation.py:536: FitFailedWarning:\n",
            "\n",
            "Estimator fit failed. The score on this train-test partition for these parameters will be set to nan. Details: \n",
            "ValueError: Invalid value for max_features. Allowed string values are 'auto', 'sqrt' or 'log2'.\n",
            "\n",
            "\n",
            "/usr/local/lib/python3.7/dist-packages/sklearn/model_selection/_validation.py:536: FitFailedWarning:\n",
            "\n",
            "Estimator fit failed. The score on this train-test partition for these parameters will be set to nan. Details: \n",
            "ValueError: Invalid value for max_features. Allowed string values are 'auto', 'sqrt' or 'log2'.\n",
            "\n",
            "\n",
            "/usr/local/lib/python3.7/dist-packages/sklearn/model_selection/_validation.py:536: FitFailedWarning:\n",
            "\n",
            "Estimator fit failed. The score on this train-test partition for these parameters will be set to nan. Details: \n",
            "ValueError: Invalid value for max_features. Allowed string values are 'auto', 'sqrt' or 'log2'.\n",
            "\n",
            "\n",
            "/usr/local/lib/python3.7/dist-packages/sklearn/model_selection/_validation.py:536: FitFailedWarning:\n",
            "\n",
            "Estimator fit failed. The score on this train-test partition for these parameters will be set to nan. Details: \n",
            "ValueError: Invalid value for max_features. Allowed string values are 'auto', 'sqrt' or 'log2'.\n",
            "\n",
            "\n",
            "/usr/local/lib/python3.7/dist-packages/sklearn/model_selection/_validation.py:536: FitFailedWarning:\n",
            "\n",
            "Estimator fit failed. The score on this train-test partition for these parameters will be set to nan. Details: \n",
            "ValueError: Invalid value for max_features. Allowed string values are 'auto', 'sqrt' or 'log2'.\n",
            "\n",
            "\n",
            "/usr/local/lib/python3.7/dist-packages/sklearn/model_selection/_validation.py:536: FitFailedWarning:\n",
            "\n",
            "Estimator fit failed. The score on this train-test partition for these parameters will be set to nan. Details: \n",
            "ValueError: Invalid value for max_features. Allowed string values are 'auto', 'sqrt' or 'log2'.\n",
            "\n",
            "\n",
            "/usr/local/lib/python3.7/dist-packages/sklearn/model_selection/_validation.py:536: FitFailedWarning:\n",
            "\n",
            "Estimator fit failed. The score on this train-test partition for these parameters will be set to nan. Details: \n",
            "ValueError: Invalid value for max_features. Allowed string values are 'auto', 'sqrt' or 'log2'.\n",
            "\n",
            "\n",
            "/usr/local/lib/python3.7/dist-packages/sklearn/model_selection/_validation.py:536: FitFailedWarning:\n",
            "\n",
            "Estimator fit failed. The score on this train-test partition for these parameters will be set to nan. Details: \n",
            "ValueError: Invalid value for max_features. Allowed string values are 'auto', 'sqrt' or 'log2'.\n",
            "\n",
            "\n",
            "/usr/local/lib/python3.7/dist-packages/sklearn/model_selection/_validation.py:536: FitFailedWarning:\n",
            "\n",
            "Estimator fit failed. The score on this train-test partition for these parameters will be set to nan. Details: \n",
            "ValueError: Invalid value for max_features. Allowed string values are 'auto', 'sqrt' or 'log2'.\n",
            "\n",
            "\n",
            "/usr/local/lib/python3.7/dist-packages/sklearn/model_selection/_validation.py:536: FitFailedWarning:\n",
            "\n",
            "Estimator fit failed. The score on this train-test partition for these parameters will be set to nan. Details: \n",
            "ValueError: Invalid value for max_features. Allowed string values are 'auto', 'sqrt' or 'log2'.\n",
            "\n",
            "\n",
            "/usr/local/lib/python3.7/dist-packages/sklearn/model_selection/_validation.py:536: FitFailedWarning:\n",
            "\n",
            "Estimator fit failed. The score on this train-test partition for these parameters will be set to nan. Details: \n",
            "ValueError: Invalid value for max_features. Allowed string values are 'auto', 'sqrt' or 'log2'.\n",
            "\n",
            "\n",
            "/usr/local/lib/python3.7/dist-packages/sklearn/model_selection/_validation.py:536: FitFailedWarning:\n",
            "\n",
            "Estimator fit failed. The score on this train-test partition for these parameters will be set to nan. Details: \n",
            "ValueError: Invalid value for max_features. Allowed string values are 'auto', 'sqrt' or 'log2'.\n",
            "\n",
            "\n",
            "/usr/local/lib/python3.7/dist-packages/sklearn/model_selection/_validation.py:536: FitFailedWarning:\n",
            "\n",
            "Estimator fit failed. The score on this train-test partition for these parameters will be set to nan. Details: \n",
            "ValueError: Invalid value for max_features. Allowed string values are 'auto', 'sqrt' or 'log2'.\n",
            "\n",
            "\n",
            "[Parallel(n_jobs=1)]: Done 360 out of 360 | elapsed:    4.5s finished\n"
          ],
          "name": "stderr"
        }
      ]
    },
    {
      "cell_type": "code",
      "metadata": {
        "id": "17a0602b"
      },
      "source": [
        "dtree = DecisionTreeClassifier(max_depth=107, random_state=9,max_features='auto')\n",
        "dtree_2 = DecisionTreeClassifier(max_depth=107, random_state=9)\n",
        "dtree_3 = DecisionTreeClassifier(max_depth=107, random_state=9)\n",
        "dtree.fit(X_train, y_train)\n",
        "dtree_2.fit(X_train_2, y_train_2)\n",
        "dtree_3.fit(X_train_3, y_train_3)\n",
        "dtq1= dtree.predict(X_train)\n",
        "dq1 = dtree.predict(X_test)\n",
        "dtq2= dtree_2.predict(X_train_2)\n",
        "dq2 = dtree_2.predict(X_test_2)\n",
        "dtq3= dtree_3.predict(X_train_3)\n",
        "dq3 = dtree_3.predict(X_test_3)"
      ],
      "id": "17a0602b",
      "execution_count": 36,
      "outputs": []
    },
    {
      "cell_type": "code",
      "metadata": {
        "id": "458216b9",
        "outputId": "ee8b46ac-ce05-4eac-ec02-d3348d2a02a8",
        "colab": {
          "base_uri": "https://localhost:8080/"
        }
      },
      "source": [
        "print('Accuracy via prediction on training set q1: ', accuracy_score(y_train, dtq1))\n",
        "print('Accuracy via prediction on test set q1: ', accuracy_score(y_test, dq1))\n",
        "print('Accuracy via prediction on training set q2: ', accuracy_score(y_train_2, dtq2))\n",
        "print('Accuracy via prediction on test set q2: ', accuracy_score(y_test_2, dq2))\n",
        "print('Accuracy via prediction on training set q3: ', r2_score(y_train_3, dtq3))\n",
        "print('Accuracy via prediction on test set q3: ', accuracy_score(y_test_3, dq3))"
      ],
      "id": "458216b9",
      "execution_count": 37,
      "outputs": [
        {
          "output_type": "stream",
          "text": [
            "Accuracy via prediction on training set q1:  1.0\n",
            "Accuracy via prediction on test set q1:  0.44514388489208634\n",
            "Accuracy via prediction on training set q2:  1.0\n",
            "Accuracy via prediction on test set q2:  0.5966386554621849\n",
            "Accuracy via prediction on training set q3:  1.0\n",
            "Accuracy via prediction on test set q3:  0.7005347593582888\n"
          ],
          "name": "stdout"
        }
      ]
    },
    {
      "cell_type": "code",
      "metadata": {
        "id": "369473f6",
        "outputId": "c5338ee7-256a-4877-ca75-730e97184812",
        "colab": {
          "base_uri": "https://localhost:8080/",
          "height": 413
        }
      },
      "source": [
        "from sklearn.metrics import confusion_matrix  \n",
        "import seaborn as sn\n",
        "fig,axes=plt.subplots(1,3,figsize=(25,6))\n",
        "dif1=y_test-dq1\n",
        "sn.kdeplot(dif1,ax=axes[0])\n",
        "axes[0].set_title('Q1')\n",
        "dif2=y_test_2-dq2\n",
        "sn.kdeplot(dif2,ax=axes[1])\n",
        "axes[1].set_title('Q2')\n",
        "dif3=y_test_3-dq3\n",
        "sn.kdeplot(dif3,ax=axes[2])\n",
        "axes[2].set_title('Q3')"
      ],
      "id": "369473f6",
      "execution_count": 38,
      "outputs": [
        {
          "output_type": "execute_result",
          "data": {
            "text/plain": [
              "Text(0.5, 1.0, 'Q3')"
            ]
          },
          "metadata": {
            "tags": []
          },
          "execution_count": 38
        },
        {
          "output_type": "display_data",
          "data": {
            "image/png": "[encoded data removed]",
            "text/plain": [
              "<Figure size 1800x432 with 3 Axes>"
            ]
          },
          "metadata": {
            "tags": [],
            "needs_background": "light"
          }
        }
      ]
    },
    {
      "cell_type": "code",
      "metadata": {
        "scrolled": true,
        "id": "a3dd3621",
        "outputId": "f7815733-99fa-4a89-9a4f-7a8db3ece902",
        "colab": {
          "base_uri": "https://localhost:8080/",
          "height": 1000
        }
      },
      "source": [
        "fig,axes=plt.subplots(3,2,figsize=(15,18))\n",
        "cm = pd.DataFrame(confusion_matrix(y_test, dq1))\n",
        "sn.heatmap(cm,ax=axes[0,0], vmin=0,vmax=70 )\n",
        "cm1 = pd.DataFrame(confusion_matrix(y_test, y_test))\n",
        "sn.heatmap(cm1,ax=axes[0,1], vmin=0,vmax=70 )\n",
        "cm3 = pd.DataFrame(confusion_matrix(y_test_2, dq2))\n",
        "sn.heatmap(cm3,ax=axes[1,0], vmin=0,vmax=70 )\n",
        "cm4 = pd.DataFrame(confusion_matrix(y_test_2, y_test_2))\n",
        "sn.heatmap(cm4,ax=axes[1,1], vmin=0,vmax=70 )\n",
        "cm5 = pd.DataFrame(confusion_matrix(y_test_3, dq3))\n",
        "sn.heatmap(cm5,ax=axes[2,0], vmin=0,vmax=70 )\n",
        "cm6 = pd.DataFrame(confusion_matrix(y_test_3, y_test_3))\n",
        "sn.heatmap(cm6,ax=axes[2,1], vmin=0,vmax=70 )\n"
      ],
      "id": "a3dd3621",
      "execution_count": 39,
      "outputs": [
        {
          "output_type": "execute_result",
          "data": {
            "text/plain": [
              "<matplotlib.axes._subplots.AxesSubplot at 0x7f7d46292790>"
            ]
          },
          "metadata": {
            "tags": []
          },
          "execution_count": 39
        },
        {
          "output_type": "display_data",
          "data": {
            "image/png": "[encoded data removed]",
            "text/plain": [
              "<Figure size 1080x1296 with 12 Axes>"
            ]
          },
          "metadata": {
            "tags": [],
            "needs_background": "light"
          }
        }
      ]
    },
    {
      "cell_type": "markdown",
      "metadata": {
        "id": "9687d16a"
      },
      "source": [
        "## RandomForest"
      ],
      "id": "9687d16a"
    },
    {
      "cell_type": "code",
      "metadata": {
        "deletable": false,
        "editable": false,
        "run_control": {
          "frozen": true
        },
        "id": "003cd510",
        "outputId": "a7ebed74-b607-4b54-d529-577085cdb2d3",
        "colab": {
          "base_uri": "https://localhost:8080/",
          "height": 1000
        }
      },
      "source": [
        "random_forest=RandomForestClassifier()\n",
        "param_grid={\n",
        "    \"criterion\":['gini','entropy'],\n",
        "    \"max_depth\":[107],\n",
        "    'n_estimators':[100,200,300,400,500],\n",
        "    \"max_features\":['auto','sqrt','log2'],\n",
        "    'min_impurity_decrease':[0,0.05,0.1,0.15],\n",
        "    \"random_state\":[1]   \n",
        "}\n",
        "test_model=model_selection.GridSearchCV(estimator=random_forest,param_grid=param_grid,\n",
        "                                       scoring='accuracy',verbose=10)\n",
        "test_model.fit(X_train_2,y_train_2)\n",
        "print(test_model.best_score_)\n",
        "print(test_model.best_estimator_.get_params())"
      ],
      "id": "003cd510",
      "execution_count": 40,
      "outputs": [
        {
          "output_type": "stream",
          "text": [
            "Fitting 5 folds for each of 120 candidates, totalling 600 fits\n",
            "[CV] criterion=gini, max_depth=107, max_features=auto, min_impurity_decrease=0, n_estimators=100, random_state=1 \n"
          ],
          "name": "stdout"
        },
        {
          "output_type": "stream",
          "text": [
            "[Parallel(n_jobs=1)]: Using backend SequentialBackend with 1 concurrent workers.\n"
          ],
          "name": "stderr"
        },
        {
          "output_type": "stream",
          "text": [
            "[CV]  criterion=gini, max_depth=107, max_features=auto, min_impurity_decrease=0, n_estimators=100, random_state=1, score=0.654, total=   0.6s\n",
            "[CV] criterion=gini, max_depth=107, max_features=auto, min_impurity_decrease=0, n_estimators=100, random_state=1 \n"
          ],
          "name": "stdout"
        },
        {
          "output_type": "stream",
          "text": [
            "[Parallel(n_jobs=1)]: Done   1 out of   1 | elapsed:    0.6s remaining:    0.0s\n"
          ],
          "name": "stderr"
        },
        {
          "output_type": "stream",
          "text": [
            "[CV]  criterion=gini, max_depth=107, max_features=auto, min_impurity_decrease=0, n_estimators=100, random_state=1, score=0.674, total=   0.5s\n",
            "[CV] criterion=gini, max_depth=107, max_features=auto, min_impurity_decrease=0, n_estimators=100, random_state=1 \n"
          ],
          "name": "stdout"
        },
        {
          "output_type": "stream",
          "text": [
            "[Parallel(n_jobs=1)]: Done   2 out of   2 | elapsed:    1.1s remaining:    0.0s\n"
          ],
          "name": "stderr"
        },
        {
          "output_type": "stream",
          "text": [
            "[CV]  criterion=gini, max_depth=107, max_features=auto, min_impurity_decrease=0, n_estimators=100, random_state=1, score=0.674, total=   0.5s\n",
            "[CV] criterion=gini, max_depth=107, max_features=auto, min_impurity_decrease=0, n_estimators=100, random_state=1 \n"
          ],
          "name": "stdout"
        },
        {
          "output_type": "stream",
          "text": [
            "[Parallel(n_jobs=1)]: Done   3 out of   3 | elapsed:    1.6s remaining:    0.0s\n"
          ],
          "name": "stderr"
        },
        {
          "output_type": "stream",
          "text": [
            "[CV]  criterion=gini, max_depth=107, max_features=auto, min_impurity_decrease=0, n_estimators=100, random_state=1, score=0.664, total=   0.5s\n",
            "[CV] criterion=gini, max_depth=107, max_features=auto, min_impurity_decrease=0, n_estimators=100, random_state=1 \n"
          ],
          "name": "stdout"
        },
        {
          "output_type": "stream",
          "text": [
            "[Parallel(n_jobs=1)]: Done   4 out of   4 | elapsed:    2.1s remaining:    0.0s\n"
          ],
          "name": "stderr"
        },
        {
          "output_type": "stream",
          "text": [
            "[CV]  criterion=gini, max_depth=107, max_features=auto, min_impurity_decrease=0, n_estimators=100, random_state=1, score=0.651, total=   0.5s\n",
            "[CV] criterion=gini, max_depth=107, max_features=auto, min_impurity_decrease=0, n_estimators=200, random_state=1 \n"
          ],
          "name": "stdout"
        },
        {
          "output_type": "stream",
          "text": [
            "[Parallel(n_jobs=1)]: Done   5 out of   5 | elapsed:    2.7s remaining:    0.0s\n"
          ],
          "name": "stderr"
        },
        {
          "output_type": "stream",
          "text": [
            "[CV]  criterion=gini, max_depth=107, max_features=auto, min_impurity_decrease=0, n_estimators=200, random_state=1, score=0.658, total=   1.1s\n",
            "[CV] criterion=gini, max_depth=107, max_features=auto, min_impurity_decrease=0, n_estimators=200, random_state=1 \n"
          ],
          "name": "stdout"
        },
        {
          "output_type": "stream",
          "text": [
            "[Parallel(n_jobs=1)]: Done   6 out of   6 | elapsed:    3.7s remaining:    0.0s\n"
          ],
          "name": "stderr"
        },
        {
          "output_type": "stream",
          "text": [
            "[CV]  criterion=gini, max_depth=107, max_features=auto, min_impurity_decrease=0, n_estimators=200, random_state=1, score=0.692, total=   1.0s\n",
            "[CV] criterion=gini, max_depth=107, max_features=auto, min_impurity_decrease=0, n_estimators=200, random_state=1 \n"
          ],
          "name": "stdout"
        },
        {
          "output_type": "stream",
          "text": [
            "[Parallel(n_jobs=1)]: Done   7 out of   7 | elapsed:    4.8s remaining:    0.0s\n"
          ],
          "name": "stderr"
        },
        {
          "output_type": "stream",
          "text": [
            "[CV]  criterion=gini, max_depth=107, max_features=auto, min_impurity_decrease=0, n_estimators=200, random_state=1, score=0.676, total=   1.1s\n",
            "[CV] criterion=gini, max_depth=107, max_features=auto, min_impurity_decrease=0, n_estimators=200, random_state=1 \n"
          ],
          "name": "stdout"
        },
        {
          "output_type": "stream",
          "text": [
            "[Parallel(n_jobs=1)]: Done   8 out of   8 | elapsed:    5.8s remaining:    0.0s\n"
          ],
          "name": "stderr"
        },
        {
          "output_type": "stream",
          "text": [
            "[CV]  criterion=gini, max_depth=107, max_features=auto, min_impurity_decrease=0, n_estimators=200, random_state=1, score=0.670, total=   1.0s\n",
            "[CV] criterion=gini, max_depth=107, max_features=auto, min_impurity_decrease=0, n_estimators=200, random_state=1 \n"
          ],
          "name": "stdout"
        },
        {
          "output_type": "stream",
          "text": [
            "[Parallel(n_jobs=1)]: Done   9 out of   9 | elapsed:    6.9s remaining:    0.0s\n"
          ],
          "name": "stderr"
        },
        {
          "output_type": "stream",
          "text": [
            "[CV]  criterion=gini, max_depth=107, max_features=auto, min_impurity_decrease=0, n_estimators=200, random_state=1, score=0.651, total=   1.1s\n",
            "[CV] criterion=gini, max_depth=107, max_features=auto, min_impurity_decrease=0, n_estimators=300, random_state=1 \n",
            "[CV]  criterion=gini, max_depth=107, max_features=auto, min_impurity_decrease=0, n_estimators=300, random_state=1, score=0.668, total=   1.6s\n",
            "[CV] criterion=gini, max_depth=107, max_features=auto, min_impurity_decrease=0, n_estimators=300, random_state=1 \n",
            "[CV]  criterion=gini, max_depth=107, max_features=auto, min_impurity_decrease=0, n_estimators=300, random_state=1, score=0.682, total=   1.6s\n",
            "[CV] criterion=gini, max_depth=107, max_features=auto, min_impurity_decrease=0, n_estimators=300, random_state=1 \n",
            "[CV]  criterion=gini, max_depth=107, max_features=auto, min_impurity_decrease=0, n_estimators=300, random_state=1, score=0.684, total=   1.5s\n",
            "[CV] criterion=gini, max_depth=107, max_features=auto, min_impurity_decrease=0, n_estimators=300, random_state=1 \n",
            "[CV]  criterion=gini, max_depth=107, max_features=auto, min_impurity_decrease=0, n_estimators=300, random_state=1, score=0.666, total=   1.6s\n",
            "[CV] criterion=gini, max_depth=107, max_features=auto, min_impurity_decrease=0, n_estimators=300, random_state=1 \n",
            "[CV]  criterion=gini, max_depth=107, max_features=auto, min_impurity_decrease=0, n_estimators=300, random_state=1, score=0.659, total=   1.5s\n",
            "[CV] criterion=gini, max_depth=107, max_features=auto, min_impurity_decrease=0, n_estimators=400, random_state=1 \n",
            "[CV]  criterion=gini, max_depth=107, max_features=auto, min_impurity_decrease=0, n_estimators=400, random_state=1, score=0.672, total=   2.1s\n",
            "[CV] criterion=gini, max_depth=107, max_features=auto, min_impurity_decrease=0, n_estimators=400, random_state=1 \n",
            "[CV]  criterion=gini, max_depth=107, max_features=auto, min_impurity_decrease=0, n_estimators=400, random_state=1, score=0.690, total=   2.1s\n",
            "[CV] criterion=gini, max_depth=107, max_features=auto, min_impurity_decrease=0, n_estimators=400, random_state=1 \n",
            "[CV]  criterion=gini, max_depth=107, max_features=auto, min_impurity_decrease=0, n_estimators=400, random_state=1, score=0.688, total=   2.0s\n",
            "[CV] criterion=gini, max_depth=107, max_features=auto, min_impurity_decrease=0, n_estimators=400, random_state=1 \n",
            "[CV]  criterion=gini, max_depth=107, max_features=auto, min_impurity_decrease=0, n_estimators=400, random_state=1, score=0.670, total=   2.0s\n",
            "[CV] criterion=gini, max_depth=107, max_features=auto, min_impurity_decrease=0, n_estimators=400, random_state=1 \n",
            "[CV]  criterion=gini, max_depth=107, max_features=auto, min_impurity_decrease=0, n_estimators=400, random_state=1, score=0.661, total=   2.0s\n",
            "[CV] criterion=gini, max_depth=107, max_features=auto, min_impurity_decrease=0, n_estimators=500, random_state=1 \n",
            "[CV]  criterion=gini, max_depth=107, max_features=auto, min_impurity_decrease=0, n_estimators=500, random_state=1, score=0.672, total=   2.6s\n",
            "[CV] criterion=gini, max_depth=107, max_features=auto, min_impurity_decrease=0, n_estimators=500, random_state=1 \n",
            "[CV]  criterion=gini, max_depth=107, max_features=auto, min_impurity_decrease=0, n_estimators=500, random_state=1, score=0.688, total=   2.5s\n",
            "[CV] criterion=gini, max_depth=107, max_features=auto, min_impurity_decrease=0, n_estimators=500, random_state=1 \n",
            "[CV]  criterion=gini, max_depth=107, max_features=auto, min_impurity_decrease=0, n_estimators=500, random_state=1, score=0.694, total=   2.7s\n",
            "[CV] criterion=gini, max_depth=107, max_features=auto, min_impurity_decrease=0, n_estimators=500, random_state=1 \n",
            "[CV]  criterion=gini, max_depth=107, max_features=auto, min_impurity_decrease=0, n_estimators=500, random_state=1, score=0.672, total=   2.8s\n",
            "[CV] criterion=gini, max_depth=107, max_features=auto, min_impurity_decrease=0, n_estimators=500, random_state=1 \n",
            "[CV]  criterion=gini, max_depth=107, max_features=auto, min_impurity_decrease=0, n_estimators=500, random_state=1, score=0.667, total=   2.8s\n",
            "[CV] criterion=gini, max_depth=107, max_features=auto, min_impurity_decrease=0.05, n_estimators=100, random_state=1 \n",
            "[CV]  criterion=gini, max_depth=107, max_features=auto, min_impurity_decrease=0.05, n_estimators=100, random_state=1, score=0.082, total=   0.2s\n",
            "[CV] criterion=gini, max_depth=107, max_features=auto, min_impurity_decrease=0.05, n_estimators=100, random_state=1 \n",
            "[CV]  criterion=gini, max_depth=107, max_features=auto, min_impurity_decrease=0.05, n_estimators=100, random_state=1, score=0.082, total=   0.2s\n",
            "[CV] criterion=gini, max_depth=107, max_features=auto, min_impurity_decrease=0.05, n_estimators=100, random_state=1 \n",
            "[CV]  criterion=gini, max_depth=107, max_features=auto, min_impurity_decrease=0.05, n_estimators=100, random_state=1, score=0.082, total=   0.2s\n",
            "[CV] criterion=gini, max_depth=107, max_features=auto, min_impurity_decrease=0.05, n_estimators=100, random_state=1 \n",
            "[CV]  criterion=gini, max_depth=107, max_features=auto, min_impurity_decrease=0.05, n_estimators=100, random_state=1, score=0.082, total=   0.2s\n",
            "[CV] criterion=gini, max_depth=107, max_features=auto, min_impurity_decrease=0.05, n_estimators=100, random_state=1 \n",
            "[CV]  criterion=gini, max_depth=107, max_features=auto, min_impurity_decrease=0.05, n_estimators=100, random_state=1, score=0.084, total=   0.2s\n",
            "[CV] criterion=gini, max_depth=107, max_features=auto, min_impurity_decrease=0.05, n_estimators=200, random_state=1 \n",
            "[CV]  criterion=gini, max_depth=107, max_features=auto, min_impurity_decrease=0.05, n_estimators=200, random_state=1, score=0.082, total=   0.4s\n",
            "[CV] criterion=gini, max_depth=107, max_features=auto, min_impurity_decrease=0.05, n_estimators=200, random_state=1 \n",
            "[CV]  criterion=gini, max_depth=107, max_features=auto, min_impurity_decrease=0.05, n_estimators=200, random_state=1, score=0.082, total=   0.4s\n",
            "[CV] criterion=gini, max_depth=107, max_features=auto, min_impurity_decrease=0.05, n_estimators=200, random_state=1 \n",
            "[CV]  criterion=gini, max_depth=107, max_features=auto, min_impurity_decrease=0.05, n_estimators=200, random_state=1, score=0.082, total=   0.4s\n",
            "[CV] criterion=gini, max_depth=107, max_features=auto, min_impurity_decrease=0.05, n_estimators=200, random_state=1 \n",
            "[CV]  criterion=gini, max_depth=107, max_features=auto, min_impurity_decrease=0.05, n_estimators=200, random_state=1, score=0.082, total=   0.4s\n",
            "[CV] criterion=gini, max_depth=107, max_features=auto, min_impurity_decrease=0.05, n_estimators=200, random_state=1 \n",
            "[CV]  criterion=gini, max_depth=107, max_features=auto, min_impurity_decrease=0.05, n_estimators=200, random_state=1, score=0.084, total=   0.4s\n",
            "[CV] criterion=gini, max_depth=107, max_features=auto, min_impurity_decrease=0.05, n_estimators=300, random_state=1 \n",
            "[CV]  criterion=gini, max_depth=107, max_features=auto, min_impurity_decrease=0.05, n_estimators=300, random_state=1, score=0.082, total=   0.5s\n",
            "[CV] criterion=gini, max_depth=107, max_features=auto, min_impurity_decrease=0.05, n_estimators=300, random_state=1 \n",
            "[CV]  criterion=gini, max_depth=107, max_features=auto, min_impurity_decrease=0.05, n_estimators=300, random_state=1, score=0.082, total=   0.5s\n",
            "[CV] criterion=gini, max_depth=107, max_features=auto, min_impurity_decrease=0.05, n_estimators=300, random_state=1 \n",
            "[CV]  criterion=gini, max_depth=107, max_features=auto, min_impurity_decrease=0.05, n_estimators=300, random_state=1, score=0.082, total=   0.5s\n",
            "[CV] criterion=gini, max_depth=107, max_features=auto, min_impurity_decrease=0.05, n_estimators=300, random_state=1 \n",
            "[CV]  criterion=gini, max_depth=107, max_features=auto, min_impurity_decrease=0.05, n_estimators=300, random_state=1, score=0.082, total=   0.5s\n",
            "[CV] criterion=gini, max_depth=107, max_features=auto, min_impurity_decrease=0.05, n_estimators=300, random_state=1 \n",
            "[CV]  criterion=gini, max_depth=107, max_features=auto, min_impurity_decrease=0.05, n_estimators=300, random_state=1, score=0.084, total=   0.5s\n",
            "[CV] criterion=gini, max_depth=107, max_features=auto, min_impurity_decrease=0.05, n_estimators=400, random_state=1 \n",
            "[CV]  criterion=gini, max_depth=107, max_features=auto, min_impurity_decrease=0.05, n_estimators=400, random_state=1, score=0.082, total=   0.7s\n",
            "[CV] criterion=gini, max_depth=107, max_features=auto, min_impurity_decrease=0.05, n_estimators=400, random_state=1 \n",
            "[CV]  criterion=gini, max_depth=107, max_features=auto, min_impurity_decrease=0.05, n_estimators=400, random_state=1, score=0.082, total=   0.7s\n",
            "[CV] criterion=gini, max_depth=107, max_features=auto, min_impurity_decrease=0.05, n_estimators=400, random_state=1 \n",
            "[CV]  criterion=gini, max_depth=107, max_features=auto, min_impurity_decrease=0.05, n_estimators=400, random_state=1, score=0.082, total=   0.7s\n",
            "[CV] criterion=gini, max_depth=107, max_features=auto, min_impurity_decrease=0.05, n_estimators=400, random_state=1 \n",
            "[CV]  criterion=gini, max_depth=107, max_features=auto, min_impurity_decrease=0.05, n_estimators=400, random_state=1, score=0.082, total=   0.7s\n",
            "[CV] criterion=gini, max_depth=107, max_features=auto, min_impurity_decrease=0.05, n_estimators=400, random_state=1 \n",
            "[CV]  criterion=gini, max_depth=107, max_features=auto, min_impurity_decrease=0.05, n_estimators=400, random_state=1, score=0.084, total=   0.7s\n",
            "[CV] criterion=gini, max_depth=107, max_features=auto, min_impurity_decrease=0.05, n_estimators=500, random_state=1 \n",
            "[CV]  criterion=gini, max_depth=107, max_features=auto, min_impurity_decrease=0.05, n_estimators=500, random_state=1, score=0.082, total=   0.9s\n",
            "[CV] criterion=gini, max_depth=107, max_features=auto, min_impurity_decrease=0.05, n_estimators=500, random_state=1 \n",
            "[CV]  criterion=gini, max_depth=107, max_features=auto, min_impurity_decrease=0.05, n_estimators=500, random_state=1, score=0.082, total=   0.9s\n",
            "[CV] criterion=gini, max_depth=107, max_features=auto, min_impurity_decrease=0.05, n_estimators=500, random_state=1 \n",
            "[CV]  criterion=gini, max_depth=107, max_features=auto, min_impurity_decrease=0.05, n_estimators=500, random_state=1, score=0.082, total=   0.9s\n",
            "[CV] criterion=gini, max_depth=107, max_features=auto, min_impurity_decrease=0.05, n_estimators=500, random_state=1 \n",
            "[CV]  criterion=gini, max_depth=107, max_features=auto, min_impurity_decrease=0.05, n_estimators=500, random_state=1, score=0.082, total=   0.9s\n",
            "[CV] criterion=gini, max_depth=107, max_features=auto, min_impurity_decrease=0.05, n_estimators=500, random_state=1 \n",
            "[CV]  criterion=gini, max_depth=107, max_features=auto, min_impurity_decrease=0.05, n_estimators=500, random_state=1, score=0.084, total=   0.9s\n",
            "[CV] criterion=gini, max_depth=107, max_features=auto, min_impurity_decrease=0.1, n_estimators=100, random_state=1 \n",
            "[CV]  criterion=gini, max_depth=107, max_features=auto, min_impurity_decrease=0.1, n_estimators=100, random_state=1, score=0.082, total=   0.2s\n",
            "[CV] criterion=gini, max_depth=107, max_features=auto, min_impurity_decrease=0.1, n_estimators=100, random_state=1 \n",
            "[CV]  criterion=gini, max_depth=107, max_features=auto, min_impurity_decrease=0.1, n_estimators=100, random_state=1, score=0.082, total=   0.2s\n",
            "[CV] criterion=gini, max_depth=107, max_features=auto, min_impurity_decrease=0.1, n_estimators=100, random_state=1 \n",
            "[CV]  criterion=gini, max_depth=107, max_features=auto, min_impurity_decrease=0.1, n_estimators=100, random_state=1, score=0.082, total=   0.2s\n",
            "[CV] criterion=gini, max_depth=107, max_features=auto, min_impurity_decrease=0.1, n_estimators=100, random_state=1 \n",
            "[CV]  criterion=gini, max_depth=107, max_features=auto, min_impurity_decrease=0.1, n_estimators=100, random_state=1, score=0.082, total=   0.2s\n",
            "[CV] criterion=gini, max_depth=107, max_features=auto, min_impurity_decrease=0.1, n_estimators=100, random_state=1 \n",
            "[CV]  criterion=gini, max_depth=107, max_features=auto, min_impurity_decrease=0.1, n_estimators=100, random_state=1, score=0.084, total=   0.2s\n",
            "[CV] criterion=gini, max_depth=107, max_features=auto, min_impurity_decrease=0.1, n_estimators=200, random_state=1 \n",
            "[CV]  criterion=gini, max_depth=107, max_features=auto, min_impurity_decrease=0.1, n_estimators=200, random_state=1, score=0.082, total=   0.4s\n",
            "[CV] criterion=gini, max_depth=107, max_features=auto, min_impurity_decrease=0.1, n_estimators=200, random_state=1 \n",
            "[CV]  criterion=gini, max_depth=107, max_features=auto, min_impurity_decrease=0.1, n_estimators=200, random_state=1, score=0.082, total=   0.4s\n",
            "[CV] criterion=gini, max_depth=107, max_features=auto, min_impurity_decrease=0.1, n_estimators=200, random_state=1 \n",
            "[CV]  criterion=gini, max_depth=107, max_features=auto, min_impurity_decrease=0.1, n_estimators=200, random_state=1, score=0.082, total=   0.4s\n",
            "[CV] criterion=gini, max_depth=107, max_features=auto, min_impurity_decrease=0.1, n_estimators=200, random_state=1 \n",
            "[CV]  criterion=gini, max_depth=107, max_features=auto, min_impurity_decrease=0.1, n_estimators=200, random_state=1, score=0.082, total=   0.4s\n",
            "[CV] criterion=gini, max_depth=107, max_features=auto, min_impurity_decrease=0.1, n_estimators=200, random_state=1 \n",
            "[CV]  criterion=gini, max_depth=107, max_features=auto, min_impurity_decrease=0.1, n_estimators=200, random_state=1, score=0.084, total=   0.4s\n",
            "[CV] criterion=gini, max_depth=107, max_features=auto, min_impurity_decrease=0.1, n_estimators=300, random_state=1 \n",
            "[CV]  criterion=gini, max_depth=107, max_features=auto, min_impurity_decrease=0.1, n_estimators=300, random_state=1, score=0.082, total=   0.5s\n",
            "[CV] criterion=gini, max_depth=107, max_features=auto, min_impurity_decrease=0.1, n_estimators=300, random_state=1 \n",
            "[CV]  criterion=gini, max_depth=107, max_features=auto, min_impurity_decrease=0.1, n_estimators=300, random_state=1, score=0.082, total=   0.5s\n",
            "[CV] criterion=gini, max_depth=107, max_features=auto, min_impurity_decrease=0.1, n_estimators=300, random_state=1 \n",
            "[CV]  criterion=gini, max_depth=107, max_features=auto, min_impurity_decrease=0.1, n_estimators=300, random_state=1, score=0.082, total=   0.5s\n",
            "[CV] criterion=gini, max_depth=107, max_features=auto, min_impurity_decrease=0.1, n_estimators=300, random_state=1 \n",
            "[CV]  criterion=gini, max_depth=107, max_features=auto, min_impurity_decrease=0.1, n_estimators=300, random_state=1, score=0.082, total=   0.5s\n",
            "[CV] criterion=gini, max_depth=107, max_features=auto, min_impurity_decrease=0.1, n_estimators=300, random_state=1 \n",
            "[CV]  criterion=gini, max_depth=107, max_features=auto, min_impurity_decrease=0.1, n_estimators=300, random_state=1, score=0.084, total=   0.5s\n",
            "[CV] criterion=gini, max_depth=107, max_features=auto, min_impurity_decrease=0.1, n_estimators=400, random_state=1 \n",
            "[CV]  criterion=gini, max_depth=107, max_features=auto, min_impurity_decrease=0.1, n_estimators=400, random_state=1, score=0.082, total=   0.7s\n",
            "[CV] criterion=gini, max_depth=107, max_features=auto, min_impurity_decrease=0.1, n_estimators=400, random_state=1 \n",
            "[CV]  criterion=gini, max_depth=107, max_features=auto, min_impurity_decrease=0.1, n_estimators=400, random_state=1, score=0.082, total=   0.7s\n",
            "[CV] criterion=gini, max_depth=107, max_features=auto, min_impurity_decrease=0.1, n_estimators=400, random_state=1 \n",
            "[CV]  criterion=gini, max_depth=107, max_features=auto, min_impurity_decrease=0.1, n_estimators=400, random_state=1, score=0.082, total=   0.7s\n",
            "[CV] criterion=gini, max_depth=107, max_features=auto, min_impurity_decrease=0.1, n_estimators=400, random_state=1 \n",
            "[CV]  criterion=gini, max_depth=107, max_features=auto, min_impurity_decrease=0.1, n_estimators=400, random_state=1, score=0.082, total=   0.7s\n",
            "[CV] criterion=gini, max_depth=107, max_features=auto, min_impurity_decrease=0.1, n_estimators=400, random_state=1 \n",
            "[CV]  criterion=gini, max_depth=107, max_features=auto, min_impurity_decrease=0.1, n_estimators=400, random_state=1, score=0.084, total=   0.7s\n",
            "[CV] criterion=gini, max_depth=107, max_features=auto, min_impurity_decrease=0.1, n_estimators=500, random_state=1 \n",
            "[CV]  criterion=gini, max_depth=107, max_features=auto, min_impurity_decrease=0.1, n_estimators=500, random_state=1, score=0.082, total=   0.8s\n",
            "[CV] criterion=gini, max_depth=107, max_features=auto, min_impurity_decrease=0.1, n_estimators=500, random_state=1 \n",
            "[CV]  criterion=gini, max_depth=107, max_features=auto, min_impurity_decrease=0.1, n_estimators=500, random_state=1, score=0.082, total=   0.8s\n",
            "[CV] criterion=gini, max_depth=107, max_features=auto, min_impurity_decrease=0.1, n_estimators=500, random_state=1 \n",
            "[CV]  criterion=gini, max_depth=107, max_features=auto, min_impurity_decrease=0.1, n_estimators=500, random_state=1, score=0.082, total=   0.8s\n",
            "[CV] criterion=gini, max_depth=107, max_features=auto, min_impurity_decrease=0.1, n_estimators=500, random_state=1 \n",
            "[CV]  criterion=gini, max_depth=107, max_features=auto, min_impurity_decrease=0.1, n_estimators=500, random_state=1, score=0.082, total=   0.8s\n",
            "[CV] criterion=gini, max_depth=107, max_features=auto, min_impurity_decrease=0.1, n_estimators=500, random_state=1 \n",
            "[CV]  criterion=gini, max_depth=107, max_features=auto, min_impurity_decrease=0.1, n_estimators=500, random_state=1, score=0.084, total=   0.9s\n",
            "[CV] criterion=gini, max_depth=107, max_features=auto, min_impurity_decrease=0.15, n_estimators=100, random_state=1 \n",
            "[CV]  criterion=gini, max_depth=107, max_features=auto, min_impurity_decrease=0.15, n_estimators=100, random_state=1, score=0.082, total=   0.2s\n",
            "[CV] criterion=gini, max_depth=107, max_features=auto, min_impurity_decrease=0.15, n_estimators=100, random_state=1 \n",
            "[CV]  criterion=gini, max_depth=107, max_features=auto, min_impurity_decrease=0.15, n_estimators=100, random_state=1, score=0.082, total=   0.2s\n",
            "[CV] criterion=gini, max_depth=107, max_features=auto, min_impurity_decrease=0.15, n_estimators=100, random_state=1 \n",
            "[CV]  criterion=gini, max_depth=107, max_features=auto, min_impurity_decrease=0.15, n_estimators=100, random_state=1, score=0.082, total=   0.2s\n",
            "[CV] criterion=gini, max_depth=107, max_features=auto, min_impurity_decrease=0.15, n_estimators=100, random_state=1 \n",
            "[CV]  criterion=gini, max_depth=107, max_features=auto, min_impurity_decrease=0.15, n_estimators=100, random_state=1, score=0.082, total=   0.2s\n",
            "[CV] criterion=gini, max_depth=107, max_features=auto, min_impurity_decrease=0.15, n_estimators=100, random_state=1 \n",
            "[CV]  criterion=gini, max_depth=107, max_features=auto, min_impurity_decrease=0.15, n_estimators=100, random_state=1, score=0.084, total=   0.2s\n",
            "[CV] criterion=gini, max_depth=107, max_features=auto, min_impurity_decrease=0.15, n_estimators=200, random_state=1 \n",
            "[CV]  criterion=gini, max_depth=107, max_features=auto, min_impurity_decrease=0.15, n_estimators=200, random_state=1, score=0.082, total=   0.4s\n",
            "[CV] criterion=gini, max_depth=107, max_features=auto, min_impurity_decrease=0.15, n_estimators=200, random_state=1 \n",
            "[CV]  criterion=gini, max_depth=107, max_features=auto, min_impurity_decrease=0.15, n_estimators=200, random_state=1, score=0.082, total=   0.4s\n",
            "[CV] criterion=gini, max_depth=107, max_features=auto, min_impurity_decrease=0.15, n_estimators=200, random_state=1 \n",
            "[CV]  criterion=gini, max_depth=107, max_features=auto, min_impurity_decrease=0.15, n_estimators=200, random_state=1, score=0.082, total=   0.4s\n",
            "[CV] criterion=gini, max_depth=107, max_features=auto, min_impurity_decrease=0.15, n_estimators=200, random_state=1 \n",
            "[CV]  criterion=gini, max_depth=107, max_features=auto, min_impurity_decrease=0.15, n_estimators=200, random_state=1, score=0.082, total=   0.4s\n",
            "[CV] criterion=gini, max_depth=107, max_features=auto, min_impurity_decrease=0.15, n_estimators=200, random_state=1 \n",
            "[CV]  criterion=gini, max_depth=107, max_features=auto, min_impurity_decrease=0.15, n_estimators=200, random_state=1, score=0.084, total=   0.4s\n",
            "[CV] criterion=gini, max_depth=107, max_features=auto, min_impurity_decrease=0.15, n_estimators=300, random_state=1 \n",
            "[CV]  criterion=gini, max_depth=107, max_features=auto, min_impurity_decrease=0.15, n_estimators=300, random_state=1, score=0.082, total=   0.5s\n",
            "[CV] criterion=gini, max_depth=107, max_features=auto, min_impurity_decrease=0.15, n_estimators=300, random_state=1 \n",
            "[CV]  criterion=gini, max_depth=107, max_features=auto, min_impurity_decrease=0.15, n_estimators=300, random_state=1, score=0.082, total=   0.5s\n",
            "[CV] criterion=gini, max_depth=107, max_features=auto, min_impurity_decrease=0.15, n_estimators=300, random_state=1 \n",
            "[CV]  criterion=gini, max_depth=107, max_features=auto, min_impurity_decrease=0.15, n_estimators=300, random_state=1, score=0.082, total=   0.5s\n",
            "[CV] criterion=gini, max_depth=107, max_features=auto, min_impurity_decrease=0.15, n_estimators=300, random_state=1 \n",
            "[CV]  criterion=gini, max_depth=107, max_features=auto, min_impurity_decrease=0.15, n_estimators=300, random_state=1, score=0.082, total=   0.5s\n",
            "[CV] criterion=gini, max_depth=107, max_features=auto, min_impurity_decrease=0.15, n_estimators=300, random_state=1 \n",
            "[CV]  criterion=gini, max_depth=107, max_features=auto, min_impurity_decrease=0.15, n_estimators=300, random_state=1, score=0.084, total=   0.5s\n",
            "[CV] criterion=gini, max_depth=107, max_features=auto, min_impurity_decrease=0.15, n_estimators=400, random_state=1 \n",
            "[CV]  criterion=gini, max_depth=107, max_features=auto, min_impurity_decrease=0.15, n_estimators=400, random_state=1, score=0.082, total=   0.7s\n",
            "[CV] criterion=gini, max_depth=107, max_features=auto, min_impurity_decrease=0.15, n_estimators=400, random_state=1 \n",
            "[CV]  criterion=gini, max_depth=107, max_features=auto, min_impurity_decrease=0.15, n_estimators=400, random_state=1, score=0.082, total=   0.7s\n",
            "[CV] criterion=gini, max_depth=107, max_features=auto, min_impurity_decrease=0.15, n_estimators=400, random_state=1 \n",
            "[CV]  criterion=gini, max_depth=107, max_features=auto, min_impurity_decrease=0.15, n_estimators=400, random_state=1, score=0.082, total=   0.7s\n",
            "[CV] criterion=gini, max_depth=107, max_features=auto, min_impurity_decrease=0.15, n_estimators=400, random_state=1 \n",
            "[CV]  criterion=gini, max_depth=107, max_features=auto, min_impurity_decrease=0.15, n_estimators=400, random_state=1, score=0.082, total=   0.7s\n",
            "[CV] criterion=gini, max_depth=107, max_features=auto, min_impurity_decrease=0.15, n_estimators=400, random_state=1 \n",
            "[CV]  criterion=gini, max_depth=107, max_features=auto, min_impurity_decrease=0.15, n_estimators=400, random_state=1, score=0.084, total=   0.7s\n",
            "[CV] criterion=gini, max_depth=107, max_features=auto, min_impurity_decrease=0.15, n_estimators=500, random_state=1 \n",
            "[CV]  criterion=gini, max_depth=107, max_features=auto, min_impurity_decrease=0.15, n_estimators=500, random_state=1, score=0.082, total=   0.9s\n",
            "[CV] criterion=gini, max_depth=107, max_features=auto, min_impurity_decrease=0.15, n_estimators=500, random_state=1 \n",
            "[CV]  criterion=gini, max_depth=107, max_features=auto, min_impurity_decrease=0.15, n_estimators=500, random_state=1, score=0.082, total=   0.9s\n",
            "[CV] criterion=gini, max_depth=107, max_features=auto, min_impurity_decrease=0.15, n_estimators=500, random_state=1 \n",
            "[CV]  criterion=gini, max_depth=107, max_features=auto, min_impurity_decrease=0.15, n_estimators=500, random_state=1, score=0.082, total=   0.9s\n",
            "[CV] criterion=gini, max_depth=107, max_features=auto, min_impurity_decrease=0.15, n_estimators=500, random_state=1 \n",
            "[CV]  criterion=gini, max_depth=107, max_features=auto, min_impurity_decrease=0.15, n_estimators=500, random_state=1, score=0.082, total=   0.9s\n",
            "[CV] criterion=gini, max_depth=107, max_features=auto, min_impurity_decrease=0.15, n_estimators=500, random_state=1 \n",
            "[CV]  criterion=gini, max_depth=107, max_features=auto, min_impurity_decrease=0.15, n_estimators=500, random_state=1, score=0.084, total=   0.9s\n",
            "[CV] criterion=gini, max_depth=107, max_features=sqrt, min_impurity_decrease=0, n_estimators=100, random_state=1 \n",
            "[CV]  criterion=gini, max_depth=107, max_features=sqrt, min_impurity_decrease=0, n_estimators=100, random_state=1, score=0.654, total=   0.6s\n",
            "[CV] criterion=gini, max_depth=107, max_features=sqrt, min_impurity_decrease=0, n_estimators=100, random_state=1 \n",
            "[CV]  criterion=gini, max_depth=107, max_features=sqrt, min_impurity_decrease=0, n_estimators=100, random_state=1, score=0.674, total=   0.6s\n",
            "[CV] criterion=gini, max_depth=107, max_features=sqrt, min_impurity_decrease=0, n_estimators=100, random_state=1 \n",
            "[CV]  criterion=gini, max_depth=107, max_features=sqrt, min_impurity_decrease=0, n_estimators=100, random_state=1, score=0.674, total=   0.6s\n",
            "[CV] criterion=gini, max_depth=107, max_features=sqrt, min_impurity_decrease=0, n_estimators=100, random_state=1 \n",
            "[CV]  criterion=gini, max_depth=107, max_features=sqrt, min_impurity_decrease=0, n_estimators=100, random_state=1, score=0.664, total=   0.6s\n",
            "[CV] criterion=gini, max_depth=107, max_features=sqrt, min_impurity_decrease=0, n_estimators=100, random_state=1 \n",
            "[CV]  criterion=gini, max_depth=107, max_features=sqrt, min_impurity_decrease=0, n_estimators=100, random_state=1, score=0.651, total=   0.6s\n",
            "[CV] criterion=gini, max_depth=107, max_features=sqrt, min_impurity_decrease=0, n_estimators=200, random_state=1 \n"
          ],
          "name": "stdout"
        },
        {
          "output_type": "error",
          "ename": "KeyboardInterrupt",
          "evalue": "ignored",
          "traceback": [
            "\u001b[0;31m---------------------------------------------------------------------------\u001b[0m",
            "\u001b[0;31mKeyboardInterrupt\u001b[0m                         Traceback (most recent call last)",
            "\u001b[0;32m<ipython-input-40-ba5299bd3eea>\u001b[0m in \u001b[0;36m<module>\u001b[0;34m()\u001b[0m\n\u001b[1;32m     10\u001b[0m test_model=model_selection.GridSearchCV(estimator=random_forest,param_grid=param_grid,\n\u001b[1;32m     11\u001b[0m                                        scoring='accuracy',verbose=10)\n\u001b[0;32m---> 12\u001b[0;31m \u001b[0mtest_model\u001b[0m\u001b[0;34m.\u001b[0m\u001b[0mfit\u001b[0m\u001b[0;34m(\u001b[0m\u001b[0mX_train_2\u001b[0m\u001b[0;34m,\u001b[0m\u001b[0my_train_2\u001b[0m\u001b[0;34m)\u001b[0m\u001b[0;34m\u001b[0m\u001b[0;34m\u001b[0m\u001b[0m\n\u001b[0m\u001b[1;32m     13\u001b[0m \u001b[0mprint\u001b[0m\u001b[0;34m(\u001b[0m\u001b[0mtest_model\u001b[0m\u001b[0;34m.\u001b[0m\u001b[0mbest_score_\u001b[0m\u001b[0;34m)\u001b[0m\u001b[0;34m\u001b[0m\u001b[0;34m\u001b[0m\u001b[0m\n\u001b[1;32m     14\u001b[0m \u001b[0mprint\u001b[0m\u001b[0;34m(\u001b[0m\u001b[0mtest_model\u001b[0m\u001b[0;34m.\u001b[0m\u001b[0mbest_estimator_\u001b[0m\u001b[0;34m.\u001b[0m\u001b[0mget_params\u001b[0m\u001b[0;34m(\u001b[0m\u001b[0;34m)\u001b[0m\u001b[0;34m)\u001b[0m\u001b[0;34m\u001b[0m\u001b[0;34m\u001b[0m\u001b[0m\n",
            "\u001b[0;32m/usr/local/lib/python3.7/dist-packages/sklearn/model_selection/_search.py\u001b[0m in \u001b[0;36mfit\u001b[0;34m(self, X, y, groups, **fit_params)\u001b[0m\n\u001b[1;32m    708\u001b[0m                 \u001b[0;32mreturn\u001b[0m \u001b[0mresults\u001b[0m\u001b[0;34m\u001b[0m\u001b[0;34m\u001b[0m\u001b[0m\n\u001b[1;32m    709\u001b[0m \u001b[0;34m\u001b[0m\u001b[0m\n\u001b[0;32m--> 710\u001b[0;31m             \u001b[0mself\u001b[0m\u001b[0;34m.\u001b[0m\u001b[0m_run_search\u001b[0m\u001b[0;34m(\u001b[0m\u001b[0mevaluate_candidates\u001b[0m\u001b[0;34m)\u001b[0m\u001b[0;34m\u001b[0m\u001b[0;34m\u001b[0m\u001b[0m\n\u001b[0m\u001b[1;32m    711\u001b[0m \u001b[0;34m\u001b[0m\u001b[0m\n\u001b[1;32m    712\u001b[0m         \u001b[0;31m# For multi-metric evaluation, store the best_index_, best_params_ and\u001b[0m\u001b[0;34m\u001b[0m\u001b[0;34m\u001b[0m\u001b[0;34m\u001b[0m\u001b[0m\n",
            "\u001b[0;32m/usr/local/lib/python3.7/dist-packages/sklearn/model_selection/_search.py\u001b[0m in \u001b[0;36m_run_search\u001b[0;34m(self, evaluate_candidates)\u001b[0m\n\u001b[1;32m   1149\u001b[0m     \u001b[0;32mdef\u001b[0m \u001b[0m_run_search\u001b[0m\u001b[0;34m(\u001b[0m\u001b[0mself\u001b[0m\u001b[0;34m,\u001b[0m \u001b[0mevaluate_candidates\u001b[0m\u001b[0;34m)\u001b[0m\u001b[0;34m:\u001b[0m\u001b[0;34m\u001b[0m\u001b[0;34m\u001b[0m\u001b[0m\n\u001b[1;32m   1150\u001b[0m         \u001b[0;34m\"\"\"Search all candidates in param_grid\"\"\"\u001b[0m\u001b[0;34m\u001b[0m\u001b[0;34m\u001b[0m\u001b[0m\n\u001b[0;32m-> 1151\u001b[0;31m         \u001b[0mevaluate_candidates\u001b[0m\u001b[0;34m(\u001b[0m\u001b[0mParameterGrid\u001b[0m\u001b[0;34m(\u001b[0m\u001b[0mself\u001b[0m\u001b[0;34m.\u001b[0m\u001b[0mparam_grid\u001b[0m\u001b[0;34m)\u001b[0m\u001b[0;34m)\u001b[0m\u001b[0;34m\u001b[0m\u001b[0;34m\u001b[0m\u001b[0m\n\u001b[0m\u001b[1;32m   1152\u001b[0m \u001b[0;34m\u001b[0m\u001b[0m\n\u001b[1;32m   1153\u001b[0m \u001b[0;34m\u001b[0m\u001b[0m\n",
            "\u001b[0;32m/usr/local/lib/python3.7/dist-packages/sklearn/model_selection/_search.py\u001b[0m in \u001b[0;36mevaluate_candidates\u001b[0;34m(candidate_params)\u001b[0m\n\u001b[1;32m    687\u001b[0m                                \u001b[0;32mfor\u001b[0m \u001b[0mparameters\u001b[0m\u001b[0;34m,\u001b[0m \u001b[0;34m(\u001b[0m\u001b[0mtrain\u001b[0m\u001b[0;34m,\u001b[0m \u001b[0mtest\u001b[0m\u001b[0;34m)\u001b[0m\u001b[0;34m\u001b[0m\u001b[0;34m\u001b[0m\u001b[0m\n\u001b[1;32m    688\u001b[0m                                in product(candidate_params,\n\u001b[0;32m--> 689\u001b[0;31m                                           cv.split(X, y, groups)))\n\u001b[0m\u001b[1;32m    690\u001b[0m \u001b[0;34m\u001b[0m\u001b[0m\n\u001b[1;32m    691\u001b[0m                 \u001b[0;32mif\u001b[0m \u001b[0mlen\u001b[0m\u001b[0;34m(\u001b[0m\u001b[0mout\u001b[0m\u001b[0;34m)\u001b[0m \u001b[0;34m<\u001b[0m \u001b[0;36m1\u001b[0m\u001b[0;34m:\u001b[0m\u001b[0;34m\u001b[0m\u001b[0;34m\u001b[0m\u001b[0m\n",
            "\u001b[0;32m/usr/local/lib/python3.7/dist-packages/joblib/parallel.py\u001b[0m in \u001b[0;36m__call__\u001b[0;34m(self, iterable)\u001b[0m\n\u001b[1;32m   1042\u001b[0m                 \u001b[0mself\u001b[0m\u001b[0;34m.\u001b[0m\u001b[0m_iterating\u001b[0m \u001b[0;34m=\u001b[0m \u001b[0mself\u001b[0m\u001b[0;34m.\u001b[0m\u001b[0m_original_iterator\u001b[0m \u001b[0;32mis\u001b[0m \u001b[0;32mnot\u001b[0m \u001b[0;32mNone\u001b[0m\u001b[0;34m\u001b[0m\u001b[0;34m\u001b[0m\u001b[0m\n\u001b[1;32m   1043\u001b[0m \u001b[0;34m\u001b[0m\u001b[0m\n\u001b[0;32m-> 1044\u001b[0;31m             \u001b[0;32mwhile\u001b[0m \u001b[0mself\u001b[0m\u001b[0;34m.\u001b[0m\u001b[0mdispatch_one_batch\u001b[0m\u001b[0;34m(\u001b[0m\u001b[0miterator\u001b[0m\u001b[0;34m)\u001b[0m\u001b[0;34m:\u001b[0m\u001b[0;34m\u001b[0m\u001b[0;34m\u001b[0m\u001b[0m\n\u001b[0m\u001b[1;32m   1045\u001b[0m                 \u001b[0;32mpass\u001b[0m\u001b[0;34m\u001b[0m\u001b[0;34m\u001b[0m\u001b[0m\n\u001b[1;32m   1046\u001b[0m \u001b[0;34m\u001b[0m\u001b[0m\n",
            "\u001b[0;32m/usr/local/lib/python3.7/dist-packages/joblib/parallel.py\u001b[0m in \u001b[0;36mdispatch_one_batch\u001b[0;34m(self, iterator)\u001b[0m\n\u001b[1;32m    857\u001b[0m                 \u001b[0;32mreturn\u001b[0m \u001b[0;32mFalse\u001b[0m\u001b[0;34m\u001b[0m\u001b[0;34m\u001b[0m\u001b[0m\n\u001b[1;32m    858\u001b[0m             \u001b[0;32melse\u001b[0m\u001b[0;34m:\u001b[0m\u001b[0;34m\u001b[0m\u001b[0;34m\u001b[0m\u001b[0m\n\u001b[0;32m--> 859\u001b[0;31m                 \u001b[0mself\u001b[0m\u001b[0;34m.\u001b[0m\u001b[0m_dispatch\u001b[0m\u001b[0;34m(\u001b[0m\u001b[0mtasks\u001b[0m\u001b[0;34m)\u001b[0m\u001b[0;34m\u001b[0m\u001b[0;34m\u001b[0m\u001b[0m\n\u001b[0m\u001b[1;32m    860\u001b[0m                 \u001b[0;32mreturn\u001b[0m \u001b[0;32mTrue\u001b[0m\u001b[0;34m\u001b[0m\u001b[0;34m\u001b[0m\u001b[0m\n\u001b[1;32m    861\u001b[0m \u001b[0;34m\u001b[0m\u001b[0m\n",
            "\u001b[0;32m/usr/local/lib/python3.7/dist-packages/joblib/parallel.py\u001b[0m in \u001b[0;36m_dispatch\u001b[0;34m(self, batch)\u001b[0m\n\u001b[1;32m    775\u001b[0m         \u001b[0;32mwith\u001b[0m \u001b[0mself\u001b[0m\u001b[0;34m.\u001b[0m\u001b[0m_lock\u001b[0m\u001b[0;34m:\u001b[0m\u001b[0;34m\u001b[0m\u001b[0;34m\u001b[0m\u001b[0m\n\u001b[1;32m    776\u001b[0m             \u001b[0mjob_idx\u001b[0m \u001b[0;34m=\u001b[0m \u001b[0mlen\u001b[0m\u001b[0;34m(\u001b[0m\u001b[0mself\u001b[0m\u001b[0;34m.\u001b[0m\u001b[0m_jobs\u001b[0m\u001b[0;34m)\u001b[0m\u001b[0;34m\u001b[0m\u001b[0;34m\u001b[0m\u001b[0m\n\u001b[0;32m--> 777\u001b[0;31m             \u001b[0mjob\u001b[0m \u001b[0;34m=\u001b[0m \u001b[0mself\u001b[0m\u001b[0;34m.\u001b[0m\u001b[0m_backend\u001b[0m\u001b[0;34m.\u001b[0m\u001b[0mapply_async\u001b[0m\u001b[0;34m(\u001b[0m\u001b[0mbatch\u001b[0m\u001b[0;34m,\u001b[0m \u001b[0mcallback\u001b[0m\u001b[0;34m=\u001b[0m\u001b[0mcb\u001b[0m\u001b[0;34m)\u001b[0m\u001b[0;34m\u001b[0m\u001b[0;34m\u001b[0m\u001b[0m\n\u001b[0m\u001b[1;32m    778\u001b[0m             \u001b[0;31m# A job can complete so quickly than its callback is\u001b[0m\u001b[0;34m\u001b[0m\u001b[0;34m\u001b[0m\u001b[0;34m\u001b[0m\u001b[0m\n\u001b[1;32m    779\u001b[0m             \u001b[0;31m# called before we get here, causing self._jobs to\u001b[0m\u001b[0;34m\u001b[0m\u001b[0;34m\u001b[0m\u001b[0;34m\u001b[0m\u001b[0m\n",
            "\u001b[0;32m/usr/local/lib/python3.7/dist-packages/joblib/_parallel_backends.py\u001b[0m in \u001b[0;36mapply_async\u001b[0;34m(self, func, callback)\u001b[0m\n\u001b[1;32m    206\u001b[0m     \u001b[0;32mdef\u001b[0m \u001b[0mapply_async\u001b[0m\u001b[0;34m(\u001b[0m\u001b[0mself\u001b[0m\u001b[0;34m,\u001b[0m \u001b[0mfunc\u001b[0m\u001b[0;34m,\u001b[0m \u001b[0mcallback\u001b[0m\u001b[0;34m=\u001b[0m\u001b[0;32mNone\u001b[0m\u001b[0;34m)\u001b[0m\u001b[0;34m:\u001b[0m\u001b[0;34m\u001b[0m\u001b[0;34m\u001b[0m\u001b[0m\n\u001b[1;32m    207\u001b[0m         \u001b[0;34m\"\"\"Schedule a func to be run\"\"\"\u001b[0m\u001b[0;34m\u001b[0m\u001b[0;34m\u001b[0m\u001b[0m\n\u001b[0;32m--> 208\u001b[0;31m         \u001b[0mresult\u001b[0m \u001b[0;34m=\u001b[0m \u001b[0mImmediateResult\u001b[0m\u001b[0;34m(\u001b[0m\u001b[0mfunc\u001b[0m\u001b[0;34m)\u001b[0m\u001b[0;34m\u001b[0m\u001b[0;34m\u001b[0m\u001b[0m\n\u001b[0m\u001b[1;32m    209\u001b[0m         \u001b[0;32mif\u001b[0m \u001b[0mcallback\u001b[0m\u001b[0;34m:\u001b[0m\u001b[0;34m\u001b[0m\u001b[0;34m\u001b[0m\u001b[0m\n\u001b[1;32m    210\u001b[0m             \u001b[0mcallback\u001b[0m\u001b[0;34m(\u001b[0m\u001b[0mresult\u001b[0m\u001b[0;34m)\u001b[0m\u001b[0;34m\u001b[0m\u001b[0;34m\u001b[0m\u001b[0m\n",
            "\u001b[0;32m/usr/local/lib/python3.7/dist-packages/joblib/_parallel_backends.py\u001b[0m in \u001b[0;36m__init__\u001b[0;34m(self, batch)\u001b[0m\n\u001b[1;32m    570\u001b[0m         \u001b[0;31m# Don't delay the application, to avoid keeping the input\u001b[0m\u001b[0;34m\u001b[0m\u001b[0;34m\u001b[0m\u001b[0;34m\u001b[0m\u001b[0m\n\u001b[1;32m    571\u001b[0m         \u001b[0;31m# arguments in memory\u001b[0m\u001b[0;34m\u001b[0m\u001b[0;34m\u001b[0m\u001b[0;34m\u001b[0m\u001b[0m\n\u001b[0;32m--> 572\u001b[0;31m         \u001b[0mself\u001b[0m\u001b[0;34m.\u001b[0m\u001b[0mresults\u001b[0m \u001b[0;34m=\u001b[0m \u001b[0mbatch\u001b[0m\u001b[0;34m(\u001b[0m\u001b[0;34m)\u001b[0m\u001b[0;34m\u001b[0m\u001b[0;34m\u001b[0m\u001b[0m\n\u001b[0m\u001b[1;32m    573\u001b[0m \u001b[0;34m\u001b[0m\u001b[0m\n\u001b[1;32m    574\u001b[0m     \u001b[0;32mdef\u001b[0m \u001b[0mget\u001b[0m\u001b[0;34m(\u001b[0m\u001b[0mself\u001b[0m\u001b[0;34m)\u001b[0m\u001b[0;34m:\u001b[0m\u001b[0;34m\u001b[0m\u001b[0;34m\u001b[0m\u001b[0m\n",
            "\u001b[0;32m/usr/local/lib/python3.7/dist-packages/joblib/parallel.py\u001b[0m in \u001b[0;36m__call__\u001b[0;34m(self)\u001b[0m\n\u001b[1;32m    261\u001b[0m         \u001b[0;32mwith\u001b[0m \u001b[0mparallel_backend\u001b[0m\u001b[0;34m(\u001b[0m\u001b[0mself\u001b[0m\u001b[0;34m.\u001b[0m\u001b[0m_backend\u001b[0m\u001b[0;34m,\u001b[0m \u001b[0mn_jobs\u001b[0m\u001b[0;34m=\u001b[0m\u001b[0mself\u001b[0m\u001b[0;34m.\u001b[0m\u001b[0m_n_jobs\u001b[0m\u001b[0;34m)\u001b[0m\u001b[0;34m:\u001b[0m\u001b[0;34m\u001b[0m\u001b[0;34m\u001b[0m\u001b[0m\n\u001b[1;32m    262\u001b[0m             return [func(*args, **kwargs)\n\u001b[0;32m--> 263\u001b[0;31m                     for func, args, kwargs in self.items]\n\u001b[0m\u001b[1;32m    264\u001b[0m \u001b[0;34m\u001b[0m\u001b[0m\n\u001b[1;32m    265\u001b[0m     \u001b[0;32mdef\u001b[0m \u001b[0m__reduce__\u001b[0m\u001b[0;34m(\u001b[0m\u001b[0mself\u001b[0m\u001b[0;34m)\u001b[0m\u001b[0;34m:\u001b[0m\u001b[0;34m\u001b[0m\u001b[0;34m\u001b[0m\u001b[0m\n",
            "\u001b[0;32m/usr/local/lib/python3.7/dist-packages/joblib/parallel.py\u001b[0m in \u001b[0;36m<listcomp>\u001b[0;34m(.0)\u001b[0m\n\u001b[1;32m    261\u001b[0m         \u001b[0;32mwith\u001b[0m \u001b[0mparallel_backend\u001b[0m\u001b[0;34m(\u001b[0m\u001b[0mself\u001b[0m\u001b[0;34m.\u001b[0m\u001b[0m_backend\u001b[0m\u001b[0;34m,\u001b[0m \u001b[0mn_jobs\u001b[0m\u001b[0;34m=\u001b[0m\u001b[0mself\u001b[0m\u001b[0;34m.\u001b[0m\u001b[0m_n_jobs\u001b[0m\u001b[0;34m)\u001b[0m\u001b[0;34m:\u001b[0m\u001b[0;34m\u001b[0m\u001b[0;34m\u001b[0m\u001b[0m\n\u001b[1;32m    262\u001b[0m             return [func(*args, **kwargs)\n\u001b[0;32m--> 263\u001b[0;31m                     for func, args, kwargs in self.items]\n\u001b[0m\u001b[1;32m    264\u001b[0m \u001b[0;34m\u001b[0m\u001b[0m\n\u001b[1;32m    265\u001b[0m     \u001b[0;32mdef\u001b[0m \u001b[0m__reduce__\u001b[0m\u001b[0;34m(\u001b[0m\u001b[0mself\u001b[0m\u001b[0;34m)\u001b[0m\u001b[0;34m:\u001b[0m\u001b[0;34m\u001b[0m\u001b[0;34m\u001b[0m\u001b[0m\n",
            "\u001b[0;32m/usr/local/lib/python3.7/dist-packages/sklearn/model_selection/_validation.py\u001b[0m in \u001b[0;36m_fit_and_score\u001b[0;34m(estimator, X, y, scorer, train, test, verbose, parameters, fit_params, return_train_score, return_parameters, return_n_test_samples, return_times, return_estimator, error_score)\u001b[0m\n\u001b[1;32m    513\u001b[0m             \u001b[0mestimator\u001b[0m\u001b[0;34m.\u001b[0m\u001b[0mfit\u001b[0m\u001b[0;34m(\u001b[0m\u001b[0mX_train\u001b[0m\u001b[0;34m,\u001b[0m \u001b[0;34m**\u001b[0m\u001b[0mfit_params\u001b[0m\u001b[0;34m)\u001b[0m\u001b[0;34m\u001b[0m\u001b[0;34m\u001b[0m\u001b[0m\n\u001b[1;32m    514\u001b[0m         \u001b[0;32melse\u001b[0m\u001b[0;34m:\u001b[0m\u001b[0;34m\u001b[0m\u001b[0;34m\u001b[0m\u001b[0m\n\u001b[0;32m--> 515\u001b[0;31m             \u001b[0mestimator\u001b[0m\u001b[0;34m.\u001b[0m\u001b[0mfit\u001b[0m\u001b[0;34m(\u001b[0m\u001b[0mX_train\u001b[0m\u001b[0;34m,\u001b[0m \u001b[0my_train\u001b[0m\u001b[0;34m,\u001b[0m \u001b[0;34m**\u001b[0m\u001b[0mfit_params\u001b[0m\u001b[0;34m)\u001b[0m\u001b[0;34m\u001b[0m\u001b[0;34m\u001b[0m\u001b[0m\n\u001b[0m\u001b[1;32m    516\u001b[0m \u001b[0;34m\u001b[0m\u001b[0m\n\u001b[1;32m    517\u001b[0m     \u001b[0;32mexcept\u001b[0m \u001b[0mException\u001b[0m \u001b[0;32mas\u001b[0m \u001b[0me\u001b[0m\u001b[0;34m:\u001b[0m\u001b[0;34m\u001b[0m\u001b[0;34m\u001b[0m\u001b[0m\n",
            "\u001b[0;32m/usr/local/lib/python3.7/dist-packages/sklearn/ensemble/_forest.py\u001b[0m in \u001b[0;36mfit\u001b[0;34m(self, X, y, sample_weight)\u001b[0m\n\u001b[1;32m    381\u001b[0m                     \u001b[0mverbose\u001b[0m\u001b[0;34m=\u001b[0m\u001b[0mself\u001b[0m\u001b[0;34m.\u001b[0m\u001b[0mverbose\u001b[0m\u001b[0;34m,\u001b[0m \u001b[0mclass_weight\u001b[0m\u001b[0;34m=\u001b[0m\u001b[0mself\u001b[0m\u001b[0;34m.\u001b[0m\u001b[0mclass_weight\u001b[0m\u001b[0;34m,\u001b[0m\u001b[0;34m\u001b[0m\u001b[0;34m\u001b[0m\u001b[0m\n\u001b[1;32m    382\u001b[0m                     n_samples_bootstrap=n_samples_bootstrap)\n\u001b[0;32m--> 383\u001b[0;31m                 for i, t in enumerate(trees))\n\u001b[0m\u001b[1;32m    384\u001b[0m \u001b[0;34m\u001b[0m\u001b[0m\n\u001b[1;32m    385\u001b[0m             \u001b[0;31m# Collect newly grown trees\u001b[0m\u001b[0;34m\u001b[0m\u001b[0;34m\u001b[0m\u001b[0;34m\u001b[0m\u001b[0m\n",
            "\u001b[0;32m/usr/local/lib/python3.7/dist-packages/joblib/parallel.py\u001b[0m in \u001b[0;36m__call__\u001b[0;34m(self, iterable)\u001b[0m\n\u001b[1;32m   1042\u001b[0m                 \u001b[0mself\u001b[0m\u001b[0;34m.\u001b[0m\u001b[0m_iterating\u001b[0m \u001b[0;34m=\u001b[0m \u001b[0mself\u001b[0m\u001b[0;34m.\u001b[0m\u001b[0m_original_iterator\u001b[0m \u001b[0;32mis\u001b[0m \u001b[0;32mnot\u001b[0m \u001b[0;32mNone\u001b[0m\u001b[0;34m\u001b[0m\u001b[0;34m\u001b[0m\u001b[0m\n\u001b[1;32m   1043\u001b[0m \u001b[0;34m\u001b[0m\u001b[0m\n\u001b[0;32m-> 1044\u001b[0;31m             \u001b[0;32mwhile\u001b[0m \u001b[0mself\u001b[0m\u001b[0;34m.\u001b[0m\u001b[0mdispatch_one_batch\u001b[0m\u001b[0;34m(\u001b[0m\u001b[0miterator\u001b[0m\u001b[0;34m)\u001b[0m\u001b[0;34m:\u001b[0m\u001b[0;34m\u001b[0m\u001b[0;34m\u001b[0m\u001b[0m\n\u001b[0m\u001b[1;32m   1045\u001b[0m                 \u001b[0;32mpass\u001b[0m\u001b[0;34m\u001b[0m\u001b[0;34m\u001b[0m\u001b[0m\n\u001b[1;32m   1046\u001b[0m \u001b[0;34m\u001b[0m\u001b[0m\n",
            "\u001b[0;32m/usr/local/lib/python3.7/dist-packages/joblib/parallel.py\u001b[0m in \u001b[0;36mdispatch_one_batch\u001b[0;34m(self, iterator)\u001b[0m\n\u001b[1;32m    857\u001b[0m                 \u001b[0;32mreturn\u001b[0m \u001b[0;32mFalse\u001b[0m\u001b[0;34m\u001b[0m\u001b[0;34m\u001b[0m\u001b[0m\n\u001b[1;32m    858\u001b[0m             \u001b[0;32melse\u001b[0m\u001b[0;34m:\u001b[0m\u001b[0;34m\u001b[0m\u001b[0;34m\u001b[0m\u001b[0m\n\u001b[0;32m--> 859\u001b[0;31m                 \u001b[0mself\u001b[0m\u001b[0;34m.\u001b[0m\u001b[0m_dispatch\u001b[0m\u001b[0;34m(\u001b[0m\u001b[0mtasks\u001b[0m\u001b[0;34m)\u001b[0m\u001b[0;34m\u001b[0m\u001b[0;34m\u001b[0m\u001b[0m\n\u001b[0m\u001b[1;32m    860\u001b[0m                 \u001b[0;32mreturn\u001b[0m \u001b[0;32mTrue\u001b[0m\u001b[0;34m\u001b[0m\u001b[0;34m\u001b[0m\u001b[0m\n\u001b[1;32m    861\u001b[0m \u001b[0;34m\u001b[0m\u001b[0m\n",
            "\u001b[0;32m/usr/local/lib/python3.7/dist-packages/joblib/parallel.py\u001b[0m in \u001b[0;36m_dispatch\u001b[0;34m(self, batch)\u001b[0m\n\u001b[1;32m    775\u001b[0m         \u001b[0;32mwith\u001b[0m \u001b[0mself\u001b[0m\u001b[0;34m.\u001b[0m\u001b[0m_lock\u001b[0m\u001b[0;34m:\u001b[0m\u001b[0;34m\u001b[0m\u001b[0;34m\u001b[0m\u001b[0m\n\u001b[1;32m    776\u001b[0m             \u001b[0mjob_idx\u001b[0m \u001b[0;34m=\u001b[0m \u001b[0mlen\u001b[0m\u001b[0;34m(\u001b[0m\u001b[0mself\u001b[0m\u001b[0;34m.\u001b[0m\u001b[0m_jobs\u001b[0m\u001b[0;34m)\u001b[0m\u001b[0;34m\u001b[0m\u001b[0;34m\u001b[0m\u001b[0m\n\u001b[0;32m--> 777\u001b[0;31m             \u001b[0mjob\u001b[0m \u001b[0;34m=\u001b[0m \u001b[0mself\u001b[0m\u001b[0;34m.\u001b[0m\u001b[0m_backend\u001b[0m\u001b[0;34m.\u001b[0m\u001b[0mapply_async\u001b[0m\u001b[0;34m(\u001b[0m\u001b[0mbatch\u001b[0m\u001b[0;34m,\u001b[0m \u001b[0mcallback\u001b[0m\u001b[0;34m=\u001b[0m\u001b[0mcb\u001b[0m\u001b[0;34m)\u001b[0m\u001b[0;34m\u001b[0m\u001b[0;34m\u001b[0m\u001b[0m\n\u001b[0m\u001b[1;32m    778\u001b[0m             \u001b[0;31m# A job can complete so quickly than its callback is\u001b[0m\u001b[0;34m\u001b[0m\u001b[0;34m\u001b[0m\u001b[0;34m\u001b[0m\u001b[0m\n\u001b[1;32m    779\u001b[0m             \u001b[0;31m# called before we get here, causing self._jobs to\u001b[0m\u001b[0;34m\u001b[0m\u001b[0;34m\u001b[0m\u001b[0;34m\u001b[0m\u001b[0m\n",
            "\u001b[0;32m/usr/local/lib/python3.7/dist-packages/joblib/_parallel_backends.py\u001b[0m in \u001b[0;36mapply_async\u001b[0;34m(self, func, callback)\u001b[0m\n\u001b[1;32m    206\u001b[0m     \u001b[0;32mdef\u001b[0m \u001b[0mapply_async\u001b[0m\u001b[0;34m(\u001b[0m\u001b[0mself\u001b[0m\u001b[0;34m,\u001b[0m \u001b[0mfunc\u001b[0m\u001b[0;34m,\u001b[0m \u001b[0mcallback\u001b[0m\u001b[0;34m=\u001b[0m\u001b[0;32mNone\u001b[0m\u001b[0;34m)\u001b[0m\u001b[0;34m:\u001b[0m\u001b[0;34m\u001b[0m\u001b[0;34m\u001b[0m\u001b[0m\n\u001b[1;32m    207\u001b[0m         \u001b[0;34m\"\"\"Schedule a func to be run\"\"\"\u001b[0m\u001b[0;34m\u001b[0m\u001b[0;34m\u001b[0m\u001b[0m\n\u001b[0;32m--> 208\u001b[0;31m         \u001b[0mresult\u001b[0m \u001b[0;34m=\u001b[0m \u001b[0mImmediateResult\u001b[0m\u001b[0;34m(\u001b[0m\u001b[0mfunc\u001b[0m\u001b[0;34m)\u001b[0m\u001b[0;34m\u001b[0m\u001b[0;34m\u001b[0m\u001b[0m\n\u001b[0m\u001b[1;32m    209\u001b[0m         \u001b[0;32mif\u001b[0m \u001b[0mcallback\u001b[0m\u001b[0;34m:\u001b[0m\u001b[0;34m\u001b[0m\u001b[0;34m\u001b[0m\u001b[0m\n\u001b[1;32m    210\u001b[0m             \u001b[0mcallback\u001b[0m\u001b[0;34m(\u001b[0m\u001b[0mresult\u001b[0m\u001b[0;34m)\u001b[0m\u001b[0;34m\u001b[0m\u001b[0;34m\u001b[0m\u001b[0m\n",
            "\u001b[0;32m/usr/local/lib/python3.7/dist-packages/joblib/_parallel_backends.py\u001b[0m in \u001b[0;36m__init__\u001b[0;34m(self, batch)\u001b[0m\n\u001b[1;32m    570\u001b[0m         \u001b[0;31m# Don't delay the application, to avoid keeping the input\u001b[0m\u001b[0;34m\u001b[0m\u001b[0;34m\u001b[0m\u001b[0;34m\u001b[0m\u001b[0m\n\u001b[1;32m    571\u001b[0m         \u001b[0;31m# arguments in memory\u001b[0m\u001b[0;34m\u001b[0m\u001b[0;34m\u001b[0m\u001b[0;34m\u001b[0m\u001b[0m\n\u001b[0;32m--> 572\u001b[0;31m         \u001b[0mself\u001b[0m\u001b[0;34m.\u001b[0m\u001b[0mresults\u001b[0m \u001b[0;34m=\u001b[0m \u001b[0mbatch\u001b[0m\u001b[0;34m(\u001b[0m\u001b[0;34m)\u001b[0m\u001b[0;34m\u001b[0m\u001b[0;34m\u001b[0m\u001b[0m\n\u001b[0m\u001b[1;32m    573\u001b[0m \u001b[0;34m\u001b[0m\u001b[0m\n\u001b[1;32m    574\u001b[0m     \u001b[0;32mdef\u001b[0m \u001b[0mget\u001b[0m\u001b[0;34m(\u001b[0m\u001b[0mself\u001b[0m\u001b[0;34m)\u001b[0m\u001b[0;34m:\u001b[0m\u001b[0;34m\u001b[0m\u001b[0;34m\u001b[0m\u001b[0m\n",
            "\u001b[0;32m/usr/local/lib/python3.7/dist-packages/joblib/parallel.py\u001b[0m in \u001b[0;36m__call__\u001b[0;34m(self)\u001b[0m\n\u001b[1;32m    261\u001b[0m         \u001b[0;32mwith\u001b[0m \u001b[0mparallel_backend\u001b[0m\u001b[0;34m(\u001b[0m\u001b[0mself\u001b[0m\u001b[0;34m.\u001b[0m\u001b[0m_backend\u001b[0m\u001b[0;34m,\u001b[0m \u001b[0mn_jobs\u001b[0m\u001b[0;34m=\u001b[0m\u001b[0mself\u001b[0m\u001b[0;34m.\u001b[0m\u001b[0m_n_jobs\u001b[0m\u001b[0;34m)\u001b[0m\u001b[0;34m:\u001b[0m\u001b[0;34m\u001b[0m\u001b[0;34m\u001b[0m\u001b[0m\n\u001b[1;32m    262\u001b[0m             return [func(*args, **kwargs)\n\u001b[0;32m--> 263\u001b[0;31m                     for func, args, kwargs in self.items]\n\u001b[0m\u001b[1;32m    264\u001b[0m \u001b[0;34m\u001b[0m\u001b[0m\n\u001b[1;32m    265\u001b[0m     \u001b[0;32mdef\u001b[0m \u001b[0m__reduce__\u001b[0m\u001b[0;34m(\u001b[0m\u001b[0mself\u001b[0m\u001b[0;34m)\u001b[0m\u001b[0;34m:\u001b[0m\u001b[0;34m\u001b[0m\u001b[0;34m\u001b[0m\u001b[0m\n",
            "\u001b[0;32m/usr/local/lib/python3.7/dist-packages/joblib/parallel.py\u001b[0m in \u001b[0;36m<listcomp>\u001b[0;34m(.0)\u001b[0m\n\u001b[1;32m    261\u001b[0m         \u001b[0;32mwith\u001b[0m \u001b[0mparallel_backend\u001b[0m\u001b[0;34m(\u001b[0m\u001b[0mself\u001b[0m\u001b[0;34m.\u001b[0m\u001b[0m_backend\u001b[0m\u001b[0;34m,\u001b[0m \u001b[0mn_jobs\u001b[0m\u001b[0;34m=\u001b[0m\u001b[0mself\u001b[0m\u001b[0;34m.\u001b[0m\u001b[0m_n_jobs\u001b[0m\u001b[0;34m)\u001b[0m\u001b[0;34m:\u001b[0m\u001b[0;34m\u001b[0m\u001b[0;34m\u001b[0m\u001b[0m\n\u001b[1;32m    262\u001b[0m             return [func(*args, **kwargs)\n\u001b[0;32m--> 263\u001b[0;31m                     for func, args, kwargs in self.items]\n\u001b[0m\u001b[1;32m    264\u001b[0m \u001b[0;34m\u001b[0m\u001b[0m\n\u001b[1;32m    265\u001b[0m     \u001b[0;32mdef\u001b[0m \u001b[0m__reduce__\u001b[0m\u001b[0;34m(\u001b[0m\u001b[0mself\u001b[0m\u001b[0;34m)\u001b[0m\u001b[0;34m:\u001b[0m\u001b[0;34m\u001b[0m\u001b[0;34m\u001b[0m\u001b[0m\n",
            "\u001b[0;32m/usr/local/lib/python3.7/dist-packages/sklearn/ensemble/_forest.py\u001b[0m in \u001b[0;36m_parallel_build_trees\u001b[0;34m(tree, forest, X, y, sample_weight, tree_idx, n_trees, verbose, class_weight, n_samples_bootstrap)\u001b[0m\n\u001b[1;32m    163\u001b[0m             \u001b[0mcurr_sample_weight\u001b[0m \u001b[0;34m*=\u001b[0m \u001b[0mcompute_sample_weight\u001b[0m\u001b[0;34m(\u001b[0m\u001b[0;34m'balanced'\u001b[0m\u001b[0;34m,\u001b[0m \u001b[0my\u001b[0m\u001b[0;34m,\u001b[0m \u001b[0mindices\u001b[0m\u001b[0;34m)\u001b[0m\u001b[0;34m\u001b[0m\u001b[0;34m\u001b[0m\u001b[0m\n\u001b[1;32m    164\u001b[0m \u001b[0;34m\u001b[0m\u001b[0m\n\u001b[0;32m--> 165\u001b[0;31m         \u001b[0mtree\u001b[0m\u001b[0;34m.\u001b[0m\u001b[0mfit\u001b[0m\u001b[0;34m(\u001b[0m\u001b[0mX\u001b[0m\u001b[0;34m,\u001b[0m \u001b[0my\u001b[0m\u001b[0;34m,\u001b[0m \u001b[0msample_weight\u001b[0m\u001b[0;34m=\u001b[0m\u001b[0mcurr_sample_weight\u001b[0m\u001b[0;34m,\u001b[0m \u001b[0mcheck_input\u001b[0m\u001b[0;34m=\u001b[0m\u001b[0;32mFalse\u001b[0m\u001b[0;34m)\u001b[0m\u001b[0;34m\u001b[0m\u001b[0;34m\u001b[0m\u001b[0m\n\u001b[0m\u001b[1;32m    166\u001b[0m     \u001b[0;32melse\u001b[0m\u001b[0;34m:\u001b[0m\u001b[0;34m\u001b[0m\u001b[0;34m\u001b[0m\u001b[0m\n\u001b[1;32m    167\u001b[0m         \u001b[0mtree\u001b[0m\u001b[0;34m.\u001b[0m\u001b[0mfit\u001b[0m\u001b[0;34m(\u001b[0m\u001b[0mX\u001b[0m\u001b[0;34m,\u001b[0m \u001b[0my\u001b[0m\u001b[0;34m,\u001b[0m \u001b[0msample_weight\u001b[0m\u001b[0;34m=\u001b[0m\u001b[0msample_weight\u001b[0m\u001b[0;34m,\u001b[0m \u001b[0mcheck_input\u001b[0m\u001b[0;34m=\u001b[0m\u001b[0;32mFalse\u001b[0m\u001b[0;34m)\u001b[0m\u001b[0;34m\u001b[0m\u001b[0;34m\u001b[0m\u001b[0m\n",
            "\u001b[0;32m/usr/local/lib/python3.7/dist-packages/sklearn/tree/_classes.py\u001b[0m in \u001b[0;36mfit\u001b[0;34m(self, X, y, sample_weight, check_input, X_idx_sorted)\u001b[0m\n\u001b[1;32m    875\u001b[0m             \u001b[0msample_weight\u001b[0m\u001b[0;34m=\u001b[0m\u001b[0msample_weight\u001b[0m\u001b[0;34m,\u001b[0m\u001b[0;34m\u001b[0m\u001b[0;34m\u001b[0m\u001b[0m\n\u001b[1;32m    876\u001b[0m             \u001b[0mcheck_input\u001b[0m\u001b[0;34m=\u001b[0m\u001b[0mcheck_input\u001b[0m\u001b[0;34m,\u001b[0m\u001b[0;34m\u001b[0m\u001b[0;34m\u001b[0m\u001b[0m\n\u001b[0;32m--> 877\u001b[0;31m             X_idx_sorted=X_idx_sorted)\n\u001b[0m\u001b[1;32m    878\u001b[0m         \u001b[0;32mreturn\u001b[0m \u001b[0mself\u001b[0m\u001b[0;34m\u001b[0m\u001b[0;34m\u001b[0m\u001b[0m\n\u001b[1;32m    879\u001b[0m \u001b[0;34m\u001b[0m\u001b[0m\n",
            "\u001b[0;32m/usr/local/lib/python3.7/dist-packages/sklearn/tree/_classes.py\u001b[0m in \u001b[0;36mfit\u001b[0;34m(self, X, y, sample_weight, check_input, X_idx_sorted)\u001b[0m\n\u001b[1;32m    365\u001b[0m                                            min_impurity_split)\n\u001b[1;32m    366\u001b[0m \u001b[0;34m\u001b[0m\u001b[0m\n\u001b[0;32m--> 367\u001b[0;31m         \u001b[0mbuilder\u001b[0m\u001b[0;34m.\u001b[0m\u001b[0mbuild\u001b[0m\u001b[0;34m(\u001b[0m\u001b[0mself\u001b[0m\u001b[0;34m.\u001b[0m\u001b[0mtree_\u001b[0m\u001b[0;34m,\u001b[0m \u001b[0mX\u001b[0m\u001b[0;34m,\u001b[0m \u001b[0my\u001b[0m\u001b[0;34m,\u001b[0m \u001b[0msample_weight\u001b[0m\u001b[0;34m,\u001b[0m \u001b[0mX_idx_sorted\u001b[0m\u001b[0;34m)\u001b[0m\u001b[0;34m\u001b[0m\u001b[0;34m\u001b[0m\u001b[0m\n\u001b[0m\u001b[1;32m    368\u001b[0m \u001b[0;34m\u001b[0m\u001b[0m\n\u001b[1;32m    369\u001b[0m         \u001b[0;32mif\u001b[0m \u001b[0mself\u001b[0m\u001b[0;34m.\u001b[0m\u001b[0mn_outputs_\u001b[0m \u001b[0;34m==\u001b[0m \u001b[0;36m1\u001b[0m \u001b[0;32mand\u001b[0m \u001b[0mis_classifier\u001b[0m\u001b[0;34m(\u001b[0m\u001b[0mself\u001b[0m\u001b[0;34m)\u001b[0m\u001b[0;34m:\u001b[0m\u001b[0;34m\u001b[0m\u001b[0;34m\u001b[0m\u001b[0m\n",
            "\u001b[0;31mKeyboardInterrupt\u001b[0m: "
          ]
        }
      ]
    },
    {
      "cell_type": "code",
      "metadata": {
        "id": "02c9db47"
      },
      "source": [
        "rf=RandomForestClassifier(max_depth=107,random_state=8)\n",
        "rf_2=RandomForestClassifier(max_depth=107,random_state=8)\n",
        "rf_3=RandomForestClassifier(max_depth=107,random_state=8)\n",
        "rf.fit(X_train, y_train)\n",
        "rf_2.fit(X_train_2, y_train_2)\n",
        "rf_3.fit(X_train_3, y_train_3)\n",
        "rtq1= rf.predict(X_train)\n",
        "rq1 = rf.predict(X_test)\n",
        "rtq2= rf_2.predict(X_train_2)\n",
        "rq2 = rf_2.predict(X_test_2)\n",
        "rtq3= rf_3.predict(X_train_3)\n",
        "rq3 = rf_3.predict(X_test_3)"
      ],
      "id": "02c9db47",
      "execution_count": 41,
      "outputs": []
    },
    {
      "cell_type": "code",
      "metadata": {
        "id": "5001afab",
        "outputId": "4e1db407-aa9a-46ad-a593-0c6de305af8b",
        "colab": {
          "base_uri": "https://localhost:8080/"
        }
      },
      "source": [
        "print('Accuracy via prediction on training set q1: ', accuracy_score(y_train, rtq1))\n",
        "print('Accuracy via prediction on test set q1: ', accuracy_score(y_test, rq1))\n",
        "print('Accuracy via prediction on training set q2: ', accuracy_score(y_train_2, rtq2))\n",
        "print('Accuracy via prediction on test set q2: ', accuracy_score(y_test_2, rq2))\n",
        "print('Accuracy via prediction on training set q3: ', r2_score(y_train_3, rtq3))\n",
        "print('Accuracy via prediction on test set q3: ', accuracy_score(y_test_3, rq3))"
      ],
      "id": "5001afab",
      "execution_count": 42,
      "outputs": [
        {
          "output_type": "stream",
          "text": [
            "Accuracy via prediction on training set q1:  1.0\n",
            "Accuracy via prediction on test set q1:  0.6798561151079137\n",
            "Accuracy via prediction on training set q2:  1.0\n",
            "Accuracy via prediction on test set q2:  0.6986794717887155\n",
            "Accuracy via prediction on training set q3:  1.0\n",
            "Accuracy via prediction on test set q3:  0.786096256684492\n"
          ],
          "name": "stdout"
        }
      ]
    },
    {
      "cell_type": "code",
      "metadata": {
        "id": "2d448943",
        "outputId": "04586cc9-3bf4-40cb-e4db-4b715b679884",
        "colab": {
          "base_uri": "https://localhost:8080/",
          "height": 414
        }
      },
      "source": [
        "from sklearn.metrics import confusion_matrix  \n",
        "import seaborn as sn\n",
        "fig,axes=plt.subplots(1,3,figsize=(25,6))\n",
        "dif1=y_test-rq1\n",
        "sn.kdeplot(dif1,ax=axes[0])\n",
        "axes[0].set_title('Q1')\n",
        "dif2=y_test_2-rq2\n",
        "sn.kdeplot(dif2,ax=axes[1])\n",
        "axes[1].set_title('Q2')\n",
        "dif3=y_test_3-rq3\n",
        "sn.kdeplot(dif3,ax=axes[2])\n",
        "axes[2].set_title('Q3')"
      ],
      "id": "2d448943",
      "execution_count": 43,
      "outputs": [
        {
          "output_type": "execute_result",
          "data": {
            "text/plain": [
              "Text(0.5, 1.0, 'Q3')"
            ]
          },
          "metadata": {
            "tags": []
          },
          "execution_count": 43
        },
        {
          "output_type": "display_data",
          "data": {
            "image/png": "[encoded data removed]",
            "text/plain": [
              "<Figure size 1800x432 with 3 Axes>"
            ]
          },
          "metadata": {
            "tags": [],
            "needs_background": "light"
          }
        }
      ]
    },
    {
      "cell_type": "code",
      "metadata": {
        "scrolled": true,
        "id": "ac605080",
        "outputId": "d4ad39c9-0a82-47de-f2d9-bc8234aad69d",
        "colab": {
          "base_uri": "https://localhost:8080/",
          "height": 1000
        }
      },
      "source": [
        "fig,axes=plt.subplots(3,2,figsize=(15,18))\n",
        "cm = pd.DataFrame(confusion_matrix(y_test, rq1))\n",
        "sn.heatmap(cm,ax=axes[0,0])\n",
        "cm1 = pd.DataFrame(confusion_matrix(y_test, y_test))\n",
        "sn.heatmap(cm1,ax=axes[0,1])\n",
        "cm3 = pd.DataFrame(confusion_matrix(y_test_2, rq2))\n",
        "sn.heatmap(cm3,ax=axes[1,0])\n",
        "cm4 = pd.DataFrame(confusion_matrix(y_test_2, y_test_2))\n",
        "sn.heatmap(cm4,ax=axes[1,1])\n",
        "cm5 = pd.DataFrame(confusion_matrix(y_test_3, rq3))\n",
        "sn.heatmap(cm5,ax=axes[2,0])\n",
        "cm6 = pd.DataFrame(confusion_matrix(y_test_3, y_test_3))\n",
        "sn.heatmap(cm6,ax=axes[2,1])\n"
      ],
      "id": "ac605080",
      "execution_count": 44,
      "outputs": [
        {
          "output_type": "execute_result",
          "data": {
            "text/plain": [
              "<matplotlib.axes._subplots.AxesSubplot at 0x7f7d3d1f6a90>"
            ]
          },
          "metadata": {
            "tags": []
          },
          "execution_count": 44
        },
        {
          "output_type": "display_data",
          "data": {
            "image/png": "[encoded data removed]",
            "text/plain": [
              "<Figure size 1080x1296 with 12 Axes>"
            ]
          },
          "metadata": {
            "tags": [],
            "needs_background": "light"
          }
        }
      ]
    },
    {
      "cell_type": "markdown",
      "metadata": {
        "id": "07a7cc92"
      },
      "source": [
        "## Extra Trees"
      ],
      "id": "07a7cc92"
    },
    {
      "cell_type": "code",
      "metadata": {
        "id": "8c462824"
      },
      "source": [
        "etc=ExtraTreesClassifier(max_depth=107)\n",
        "etc_2=ExtraTreesClassifier(max_depth=107)\n",
        "etc_3=ExtraTreesClassifier(max_depth=107)\n",
        "etc.fit(X_train, y_train)\n",
        "etc_2.fit(X_train_2, y_train_2)\n",
        "etc_3.fit(X_train_3, y_train_3)\n",
        "etq1= rf.predict(X_train)\n",
        "eq1 = rf.predict(X_test)\n",
        "etq2= rf_2.predict(X_train_2)\n",
        "eq2 = rf_2.predict(X_test_2)\n",
        "etq3= rf_3.predict(X_train_3)\n",
        "eq3 = rf_3.predict(X_test_3)"
      ],
      "id": "8c462824",
      "execution_count": 45,
      "outputs": []
    },
    {
      "cell_type": "code",
      "metadata": {
        "id": "44573296",
        "outputId": "c78731e6-6cb8-4ab7-af28-0f0886081562",
        "colab": {
          "base_uri": "https://localhost:8080/"
        }
      },
      "source": [
        "print('Accuracy via prediction on training set q1: ', accuracy_score(y_train, etq1))\n",
        "print('Accuracy via prediction on test set q1: ', accuracy_score(y_test, eq1))\n",
        "print('Accuracy via prediction on training set q2: ', accuracy_score(y_train_2, etq2))\n",
        "print('Accuracy via prediction on test set q2: ', accuracy_score(y_test_2, eq2))\n",
        "print('Accuracy via prediction on training set q3: ', r2_score(y_train_3, etq3))\n",
        "print('Accuracy via prediction on test set q3: ', accuracy_score(y_test_3, eq3))"
      ],
      "id": "44573296",
      "execution_count": 46,
      "outputs": [
        {
          "output_type": "stream",
          "text": [
            "Accuracy via prediction on training set q1:  1.0\n",
            "Accuracy via prediction on test set q1:  0.6798561151079137\n",
            "Accuracy via prediction on training set q2:  1.0\n",
            "Accuracy via prediction on test set q2:  0.6986794717887155\n",
            "Accuracy via prediction on training set q3:  1.0\n",
            "Accuracy via prediction on test set q3:  0.786096256684492\n"
          ],
          "name": "stdout"
        }
      ]
    },
    {
      "cell_type": "markdown",
      "metadata": {
        "id": "e77aaed9"
      },
      "source": [
        "## SVM"
      ],
      "id": "e77aaed9"
    },
    {
      "cell_type": "code",
      "metadata": {
        "id": "82d88980"
      },
      "source": [
        "clf = svm.SVC()\n",
        "param_grid={\n",
        "    \"kernel\":[ 'rbf', 'sigmoid'],\n",
        "    \"degree\":[3,4,5],\n",
        "    \"C\":(1,20),\n",
        "    \"decision_function_shape\":['ovo','ovr']\n",
        "}"
      ],
      "id": "82d88980",
      "execution_count": null,
      "outputs": []
    },
    {
      "cell_type": "code",
      "metadata": {
        "deletable": false,
        "editable": false,
        "run_control": {
          "frozen": true
        },
        "id": "4deed5de"
      },
      "source": [
        "s_vm=model_selection.GridSearchCV(estimator=clf,param_grid=param_grid,scoring=\"accuracy\",verbose=10,cv=5,n_jobs=1)\n",
        "s_vm.fit(X_train_2,y_train_2)\n",
        "print(s_vm.best_score_)\n",
        "print(s_vm.best_estimator_.get_params())"
      ],
      "id": "4deed5de",
      "execution_count": null,
      "outputs": []
    },
    {
      "cell_type": "code",
      "metadata": {
        "id": "baf610c5"
      },
      "source": [
        "clf.fit(X_train, y_train)\n",
        "tr3=clf.predict(X_train)\n",
        "y3=clf.predict(X_test)"
      ],
      "id": "baf610c5",
      "execution_count": null,
      "outputs": []
    },
    {
      "cell_type": "code",
      "metadata": {
        "id": "48fdd7d0"
      },
      "source": [
        "print('R squared via prediction on training set: ', r2_score(y_train, tr3))\n",
        "print('R squared via prediction on test set: ', r2_score(y_test, y3))"
      ],
      "id": "48fdd7d0",
      "execution_count": null,
      "outputs": []
    },
    {
      "cell_type": "code",
      "metadata": {
        "id": "5e2ca704"
      },
      "source": [
        "difference=y_test-y3\n",
        "sns.kdeplot(difference)"
      ],
      "id": "5e2ca704",
      "execution_count": null,
      "outputs": []
    },
    {
      "cell_type": "code",
      "metadata": {
        "scrolled": true,
        "id": "014d8064"
      },
      "source": [
        "from sklearn.metrics import confusion_matrix  \n",
        "import seaborn as sn\n",
        "fig,axes=plt.subplots(1,2,figsize=(15,6))\n",
        "cm = pd.DataFrame(confusion_matrix(y_test, y3))\n",
        "sn.heatmap(cm,ax=axes[0])\n",
        "cm1 = pd.DataFrame(confusion_matrix(y_test, y_test))\n",
        "sn.heatmap(cm1,ax=axes[1])\n",
        "score = accuracy_score(y_test, y3)\n",
        "score"
      ],
      "id": "014d8064",
      "execution_count": null,
      "outputs": []
    },
    {
      "cell_type": "markdown",
      "metadata": {
        "heading_collapsed": true,
        "id": "ddd9182c"
      },
      "source": [
        "## HyperOpt"
      ],
      "id": "ddd9182c"
    },
    {
      "cell_type": "code",
      "metadata": {
        "id": "5lEJjulubW3D",
        "outputId": "63fcf09a-c03e-4de6-b5b0-ecbb76f5ae91",
        "colab": {
          "base_uri": "https://localhost:8080/"
        }
      },
      "source": [
        "!pip install git+https://github.com/hyperopt/hyperopt-sklearn"
      ],
      "id": "5lEJjulubW3D",
      "execution_count": 50,
      "outputs": [
        {
          "output_type": "stream",
          "text": [
            "Collecting git+https://github.com/hyperopt/hyperopt-sklearn\n",
            "  Cloning https://github.com/hyperopt/hyperopt-sklearn to /tmp/pip-req-build-pmd_3sra\n",
            "  Running command git clone -q https://github.com/hyperopt/hyperopt-sklearn /tmp/pip-req-build-pmd_3sra\n",
            "Requirement already satisfied: hyperopt in /usr/local/lib/python3.7/dist-packages (from hpsklearn==0.0.3) (0.1.2)\n",
            "Collecting nose\n",
            "  Downloading nose-1.3.7-py3-none-any.whl (154 kB)\n",
            "\u001b[K     |████████████████████████████████| 154 kB 8.3 MB/s \n",
            "\u001b[?25hRequirement already satisfied: numpy in /usr/local/lib/python3.7/dist-packages (from hpsklearn==0.0.3) (1.19.5)\n",
            "Requirement already satisfied: scikit-learn in /usr/local/lib/python3.7/dist-packages (from hpsklearn==0.0.3) (0.22.2.post1)\n",
            "Requirement already satisfied: scipy in /usr/local/lib/python3.7/dist-packages (from hpsklearn==0.0.3) (1.4.1)\n",
            "Requirement already satisfied: tqdm in /usr/local/lib/python3.7/dist-packages (from hyperopt->hpsklearn==0.0.3) (4.41.1)\n",
            "Requirement already satisfied: networkx in /usr/local/lib/python3.7/dist-packages (from hyperopt->hpsklearn==0.0.3) (2.5.1)\n",
            "Requirement already satisfied: six in /usr/local/lib/python3.7/dist-packages (from hyperopt->hpsklearn==0.0.3) (1.15.0)\n",
            "Requirement already satisfied: future in /usr/local/lib/python3.7/dist-packages (from hyperopt->hpsklearn==0.0.3) (0.16.0)\n",
            "Requirement already satisfied: pymongo in /usr/local/lib/python3.7/dist-packages (from hyperopt->hpsklearn==0.0.3) (3.11.4)\n",
            "Requirement already satisfied: decorator<5,>=4.3 in /usr/local/lib/python3.7/dist-packages (from networkx->hyperopt->hpsklearn==0.0.3) (4.4.2)\n",
            "Requirement already satisfied: joblib>=0.11 in /usr/local/lib/python3.7/dist-packages (from scikit-learn->hpsklearn==0.0.3) (1.0.1)\n",
            "Building wheels for collected packages: hpsklearn\n",
            "  Building wheel for hpsklearn (setup.py) ... \u001b[?25l\u001b[?25hdone\n",
            "  Created wheel for hpsklearn: filename=hpsklearn-0.0.3-py3-none-any.whl size=27011 sha256=2a4d73acd56b8aba1c81952a0426b8b3a4bc96ce5a411f6873b3a094dbada4c5\n",
            "  Stored in directory: /tmp/pip-ephem-wheel-cache-vqleq309/wheels/4b/06/53/c35e360ca94aa0ab93518bf53abe5fb270c95dbe56b8e2e76b\n",
            "Successfully built hpsklearn\n",
            "Installing collected packages: nose, hpsklearn\n",
            "Successfully installed hpsklearn-0.0.3 nose-1.3.7\n"
          ],
          "name": "stdout"
        }
      ]
    },
    {
      "cell_type": "code",
      "metadata": {
        "deletable": false,
        "editable": false,
        "hidden": true,
        "run_control": {
          "frozen": true
        },
        "id": "880c4158",
        "outputId": "55430236-3f26-4a60-ef36-80c56c5d28d5",
        "colab": {
          "base_uri": "https://localhost:8080/"
        }
      },
      "source": [
        "from sklearn.datasets import make_classification\n",
        "from sklearn.model_selection import train_test_split\n",
        "from hpsklearn import HyperoptEstimator\n",
        "from hpsklearn import any_classifier\n",
        "from hpsklearn import any_preprocessing\n",
        "from hyperopt import tpe\n",
        "from hpsklearn import random_forest,svc,knn,extra_trees"
      ],
      "id": "880c4158",
      "execution_count": 51,
      "outputs": [
        {
          "output_type": "stream",
          "text": [
            "WARN: OMP_NUM_THREADS=None =>\n",
            "... If you are using openblas if you are using openblas set OMP_NUM_THREADS=1 or risk subprocess calls hanging indefinitely\n"
          ],
          "name": "stdout"
        }
      ]
    },
    {
      "cell_type": "code",
      "metadata": {
        "deletable": false,
        "editable": false,
        "hidden": true,
        "run_control": {
          "frozen": true
        },
        "id": "eb6bf173"
      },
      "source": [
        "model = HyperoptEstimator(classifier=any_classifier('clf'), preprocessing=any_preprocessing('pre'), algo=tpe.suggest, trial_timeout=30)"
      ],
      "id": "eb6bf173",
      "execution_count": 52,
      "outputs": []
    },
    {
      "cell_type": "code",
      "metadata": {
        "deletable": false,
        "editable": false,
        "hidden": true,
        "run_control": {
          "frozen": true
        },
        "id": "7ee8fa09"
      },
      "source": [
        "X_train = np.asarray(X_train).astype(np.float32)\n",
        "y_train=np.asarray(y_train).astype(np.float32)\n",
        "X_test = np.asarray(X_test).astype(np.float32)\n",
        "y_test=np.asarray(y_test).astype(np.float32)"
      ],
      "id": "7ee8fa09",
      "execution_count": 53,
      "outputs": []
    },
    {
      "cell_type": "code",
      "metadata": {
        "deletable": false,
        "editable": false,
        "hidden": true,
        "run_control": {
          "frozen": true
        },
        "id": "84b8fede",
        "outputId": "f0ca32a4-badb-4620-ca77-fa509ad3c5d9",
        "colab": {
          "base_uri": "https://localhost:8080/"
        }
      },
      "source": [
        "model.fit(X_train, y_train)\n",
        "# summarize performance\n",
        "acc = model.score(X_test, y_test)\n",
        "print(\"Accuracy: %.3f\" % acc)\n",
        "# summarize the best model\n",
        "print(model.best_model())"
      ],
      "id": "84b8fede",
      "execution_count": 54,
      "outputs": [
        {
          "output_type": "stream",
          "text": [
            "100%|██████████| 1/1 [00:29<00:00, 29.66s/it, best loss: 0.7661169415292354]\n",
            "100%|██████████| 1/1 [00:30<00:00, 30.11s/it, best loss: 0.7661169415292354]\n",
            "100%|██████████| 1/1 [00:00<00:00,  8.81it/s, best loss: 0.7481259370314843]\n",
            "100%|██████████| 1/1 [00:30<00:00, 30.24s/it, best loss: 0.7481259370314843]\n",
            "100%|██████████| 1/1 [00:00<00:00,  1.60it/s, best loss: 0.7481259370314843]\n",
            "100%|██████████| 1/1 [00:00<00:00,  1.39it/s, best loss: 0.7481259370314843]\n",
            "100%|██████████| 1/1 [00:00<00:00,  1.04it/s, best loss: 0.7481259370314843]\n",
            "100%|██████████| 1/1 [00:30<00:00, 30.09s/it, best loss: 0.7481259370314843]\n",
            "100%|██████████| 1/1 [00:04<00:00,  4.98s/it, best loss: 0.5367316341829085]\n",
            "100%|██████████| 1/1 [00:00<00:00,  8.71it/s, best loss: 0.5367316341829085]\n",
            "Accuracy: 0.522\n",
            "{'learner': ExtraTreesClassifier(bootstrap=False, ccp_alpha=0.0, class_weight=None,\n",
            "                     criterion='gini', max_depth=None,\n",
            "                     max_features=0.17072140485094556, max_leaf_nodes=None,\n",
            "                     max_samples=None, min_impurity_decrease=0.0,\n",
            "                     min_impurity_split=None, min_samples_leaf=1,\n",
            "                     min_samples_split=2, min_weight_fraction_leaf=0.0,\n",
            "                     n_estimators=622, n_jobs=1, oob_score=False,\n",
            "                     random_state=0, verbose=False, warm_start=False), 'preprocs': (StandardScaler(copy=True, with_mean=True, with_std=True),), 'ex_preprocs': ()}\n"
          ],
          "name": "stdout"
        }
      ]
    },
    {
      "cell_type": "code",
      "metadata": {
        "deletable": false,
        "editable": false,
        "hidden": true,
        "run_control": {
          "frozen": true
        },
        "id": "7eb71e1a",
        "outputId": "45ace826-6bd1-4c95-dede-ef0351e31ec4",
        "colab": {
          "base_uri": "https://localhost:8080/"
        }
      },
      "source": [
        "y4 = model.predict(X_test)\n",
        "acc = accuracy_score(y_test, y4)\n",
        "print(\"Accuracy: %.3f\" % acc)"
      ],
      "id": "7eb71e1a",
      "execution_count": 55,
      "outputs": [
        {
          "output_type": "stream",
          "text": [
            "Accuracy: 0.522\n"
          ],
          "name": "stdout"
        }
      ]
    },
    {
      "cell_type": "code",
      "metadata": {
        "deletable": false,
        "editable": false,
        "hidden": true,
        "run_control": {
          "frozen": true
        },
        "id": "f79662f6",
        "outputId": "f656cf66-2313-4f5a-d42a-809d72a4f3e6",
        "colab": {
          "base_uri": "https://localhost:8080/",
          "height": 282
        }
      },
      "source": [
        "difference=y_test-y4\n",
        "sns.kdeplot(difference)"
      ],
      "id": "f79662f6",
      "execution_count": 56,
      "outputs": [
        {
          "output_type": "execute_result",
          "data": {
            "text/plain": [
              "<matplotlib.axes._subplots.AxesSubplot at 0x7f7d3b98c690>"
            ]
          },
          "metadata": {
            "tags": []
          },
          "execution_count": 56
        },
        {
          "output_type": "display_data",
          "data": {
            "image/png": "[encoded data removed]",
            "text/plain": [
              "<Figure size 432x288 with 1 Axes>"
            ]
          },
          "metadata": {
            "tags": [],
            "needs_background": "light"
          }
        }
      ]
    },
    {
      "cell_type": "code",
      "metadata": {
        "deletable": false,
        "editable": false,
        "hidden": true,
        "run_control": {
          "frozen": true
        },
        "scrolled": true,
        "id": "9e637ae4",
        "outputId": "ca19b892-a76b-40ae-8c0d-c2b27cc3a761",
        "colab": {
          "base_uri": "https://localhost:8080/",
          "height": 392
        }
      },
      "source": [
        "from sklearn.metrics import confusion_matrix  \n",
        "import seaborn as sn\n",
        "fig,axes=plt.subplots(1,2,figsize=(15,6))\n",
        "cm = pd.DataFrame(confusion_matrix(y_test, y4))\n",
        "sn.heatmap(cm,ax=axes[0])\n",
        "cm1 = pd.DataFrame(confusion_matrix(y_test, y_test))\n",
        "sn.heatmap(cm1,ax=axes[1])\n",
        "score = accuracy_score(y_test, y4)\n",
        "score"
      ],
      "id": "9e637ae4",
      "execution_count": 57,
      "outputs": [
        {
          "output_type": "execute_result",
          "data": {
            "text/plain": [
              "0.5215827338129496"
            ]
          },
          "metadata": {
            "tags": []
          },
          "execution_count": 57
        },
        {
          "output_type": "display_data",
          "data": {
            "image/png": "[encoded data removed]",
            "text/plain": [
              "<Figure size 1080x432 with 4 Axes>"
            ]
          },
          "metadata": {
            "tags": [],
            "needs_background": "light"
          }
        }
      ]
    },
    {
      "cell_type": "markdown",
      "metadata": {
        "id": "9612897e"
      },
      "source": [
        "# ANN"
      ],
      "id": "9612897e"
    },
    {
      "cell_type": "code",
      "metadata": {
        "id": "b8525540"
      },
      "source": [
        "import tensorflow as tf\n",
        "from tensorflow.keras.layers import Input, Dense, Activation, Dropout\n",
        "from tensorflow.keras.models import Model\n",
        "import keras\n",
        "from keras.models import Sequential\n",
        "from keras.layers import Dense\n",
        "from sklearn.preprocessing import StandardScaler"
      ],
      "id": "b8525540",
      "execution_count": 58,
      "outputs": []
    },
    {
      "cell_type": "markdown",
      "metadata": {
        "id": "522c9df2"
      },
      "source": [
        "## Q1 "
      ],
      "id": "522c9df2"
    },
    {
      "cell_type": "code",
      "metadata": {
        "id": "26e63547"
      },
      "source": [
        "X_train = np.asarray(X_train).astype(np.float32)\n",
        "X_test = np.asarray(X_test).astype(np.float32)\n",
        "sc = StandardScaler()\n",
        "X_train = sc.fit_transform(X_train)\n",
        "X_test = sc.transform(X_test)"
      ],
      "id": "26e63547",
      "execution_count": 59,
      "outputs": []
    },
    {
      "cell_type": "code",
      "metadata": {
        "id": "ab0daf2c",
        "outputId": "95f006d6-cdc7-4ecd-bc68-4e0c0dabe83a",
        "colab": {
          "base_uri": "https://localhost:8080/"
        }
      },
      "source": [
        "X_train.shape"
      ],
      "id": "ab0daf2c",
      "execution_count": 60,
      "outputs": [
        {
          "output_type": "execute_result",
          "data": {
            "text/plain": [
              "(3333, 11)"
            ]
          },
          "metadata": {
            "tags": []
          },
          "execution_count": 60
        }
      ]
    },
    {
      "cell_type": "code",
      "metadata": {
        "id": "77ab33bd"
      },
      "source": [
        "y_train=pd.get_dummies(y_train)"
      ],
      "id": "77ab33bd",
      "execution_count": 61,
      "outputs": []
    },
    {
      "cell_type": "code",
      "metadata": {
        "id": "489d933b"
      },
      "source": [
        "ann = tf.keras.models.Sequential()\n",
        "ann.add(tf.keras.layers.Dense(103, activation='relu', input_shape=[X_train.shape[1],]))\n",
        "ann.add(tf.keras.layers.Dense(1024, activation='relu'))\n",
        "ann.add(tf.keras.layers.Dense(1024, activation='relu'))\n",
        "ann.add(tf.keras.layers.Dense(512, activation='relu'))\n",
        "ann.add(tf.keras.layers.Dense(256, activation='relu'))\n",
        "ann.add(tf.keras.layers.Dense(22, activation='softmax'))"
      ],
      "id": "489d933b",
      "execution_count": 62,
      "outputs": []
    },
    {
      "cell_type": "code",
      "metadata": {
        "id": "7a0fbf1a",
        "outputId": "2c5c0c6d-06dd-443d-861f-efc1c81f906b",
        "colab": {
          "base_uri": "https://localhost:8080/"
        }
      },
      "source": [
        "ann.compile(loss='categorical_crossentropy', optimizer='adam', metrics=['accuracy'])\n",
        "ann.summary()"
      ],
      "id": "7a0fbf1a",
      "execution_count": 63,
      "outputs": [
        {
          "output_type": "stream",
          "text": [
            "Model: \"sequential\"\n",
            "_________________________________________________________________\n",
            "Layer (type)                 Output Shape              Param #   \n",
            "=================================================================\n",
            "dense (Dense)                (None, 103)               1236      \n",
            "_________________________________________________________________\n",
            "dense_1 (Dense)              (None, 1024)              106496    \n",
            "_________________________________________________________________\n",
            "dense_2 (Dense)              (None, 1024)              1049600   \n",
            "_________________________________________________________________\n",
            "dense_3 (Dense)              (None, 512)               524800    \n",
            "_________________________________________________________________\n",
            "dense_4 (Dense)              (None, 256)               131328    \n",
            "_________________________________________________________________\n",
            "dense_5 (Dense)              (None, 22)                5654      \n",
            "=================================================================\n",
            "Total params: 1,819,114\n",
            "Trainable params: 1,819,114\n",
            "Non-trainable params: 0\n",
            "_________________________________________________________________\n"
          ],
          "name": "stdout"
        }
      ]
    },
    {
      "cell_type": "code",
      "metadata": {
        "id": "f519f07d",
        "outputId": "19058bff-0bd6-47f8-8065-c91522806c0f",
        "colab": {
          "base_uri": "https://localhost:8080/"
        }
      },
      "source": [
        "ann.fit(X_train, y_train, epochs=100)"
      ],
      "id": "f519f07d",
      "execution_count": 64,
      "outputs": [
        {
          "output_type": "stream",
          "text": [
            "Epoch 1/100\n",
            "105/105 [==============================] - 4s 3ms/step - loss: 2.5629 - accuracy: 0.1329\n",
            "Epoch 2/100\n",
            "105/105 [==============================] - 0s 3ms/step - loss: 2.3651 - accuracy: 0.1818\n",
            "Epoch 3/100\n",
            "105/105 [==============================] - 0s 3ms/step - loss: 2.3013 - accuracy: 0.1833\n",
            "Epoch 4/100\n",
            "105/105 [==============================] - 0s 3ms/step - loss: 2.2354 - accuracy: 0.2160\n",
            "Epoch 5/100\n",
            "105/105 [==============================] - 0s 3ms/step - loss: 2.1813 - accuracy: 0.2235\n",
            "Epoch 6/100\n",
            "105/105 [==============================] - 0s 3ms/step - loss: 2.1042 - accuracy: 0.2475\n",
            "Epoch 7/100\n",
            "105/105 [==============================] - 0s 3ms/step - loss: 2.0333 - accuracy: 0.2730\n",
            "Epoch 8/100\n",
            "105/105 [==============================] - 0s 3ms/step - loss: 1.9337 - accuracy: 0.3072\n",
            "Epoch 9/100\n",
            "105/105 [==============================] - 0s 3ms/step - loss: 1.8423 - accuracy: 0.3396\n",
            "Epoch 10/100\n",
            "105/105 [==============================] - 0s 3ms/step - loss: 1.7410 - accuracy: 0.3822\n",
            "Epoch 11/100\n",
            "105/105 [==============================] - 0s 3ms/step - loss: 1.6152 - accuracy: 0.4290\n",
            "Epoch 12/100\n",
            "105/105 [==============================] - 0s 3ms/step - loss: 1.5331 - accuracy: 0.4479\n",
            "Epoch 13/100\n",
            "105/105 [==============================] - 0s 3ms/step - loss: 1.4222 - accuracy: 0.4821\n",
            "Epoch 14/100\n",
            "105/105 [==============================] - 0s 3ms/step - loss: 1.3105 - accuracy: 0.5329\n",
            "Epoch 15/100\n",
            "105/105 [==============================] - 0s 3ms/step - loss: 1.1903 - accuracy: 0.5740\n",
            "Epoch 16/100\n",
            "105/105 [==============================] - 0s 3ms/step - loss: 1.0511 - accuracy: 0.6205\n",
            "Epoch 17/100\n",
            "105/105 [==============================] - 0s 3ms/step - loss: 1.0068 - accuracy: 0.6343\n",
            "Epoch 18/100\n",
            "105/105 [==============================] - 0s 3ms/step - loss: 0.8721 - accuracy: 0.6895\n",
            "Epoch 19/100\n",
            "105/105 [==============================] - 0s 3ms/step - loss: 0.7724 - accuracy: 0.7255\n",
            "Epoch 20/100\n",
            "105/105 [==============================] - 0s 3ms/step - loss: 0.6576 - accuracy: 0.7594\n",
            "Epoch 21/100\n",
            "105/105 [==============================] - 0s 3ms/step - loss: 0.6259 - accuracy: 0.7720\n",
            "Epoch 22/100\n",
            "105/105 [==============================] - 0s 3ms/step - loss: 0.6194 - accuracy: 0.7795\n",
            "Epoch 23/100\n",
            "105/105 [==============================] - 0s 3ms/step - loss: 0.5630 - accuracy: 0.7957\n",
            "Epoch 24/100\n",
            "105/105 [==============================] - 0s 3ms/step - loss: 0.4170 - accuracy: 0.8506\n",
            "Epoch 25/100\n",
            "105/105 [==============================] - 0s 3ms/step - loss: 0.3932 - accuracy: 0.8566\n",
            "Epoch 26/100\n",
            "105/105 [==============================] - 0s 3ms/step - loss: 0.3946 - accuracy: 0.8635\n",
            "Epoch 27/100\n",
            "105/105 [==============================] - 0s 3ms/step - loss: 0.3883 - accuracy: 0.8650\n",
            "Epoch 28/100\n",
            "105/105 [==============================] - 0s 3ms/step - loss: 0.3802 - accuracy: 0.8770\n",
            "Epoch 29/100\n",
            "105/105 [==============================] - 0s 3ms/step - loss: 0.2666 - accuracy: 0.9055\n",
            "Epoch 30/100\n",
            "105/105 [==============================] - 0s 3ms/step - loss: 0.2088 - accuracy: 0.9298\n",
            "Epoch 31/100\n",
            "105/105 [==============================] - 0s 3ms/step - loss: 0.2389 - accuracy: 0.9193\n",
            "Epoch 32/100\n",
            "105/105 [==============================] - 0s 3ms/step - loss: 0.3247 - accuracy: 0.8995\n",
            "Epoch 33/100\n",
            "105/105 [==============================] - 0s 3ms/step - loss: 0.2151 - accuracy: 0.9274\n",
            "Epoch 34/100\n",
            "105/105 [==============================] - 0s 3ms/step - loss: 0.2175 - accuracy: 0.9286\n",
            "Epoch 35/100\n",
            "105/105 [==============================] - 0s 3ms/step - loss: 0.1445 - accuracy: 0.9529\n",
            "Epoch 36/100\n",
            "105/105 [==============================] - 0s 3ms/step - loss: 0.1341 - accuracy: 0.9520\n",
            "Epoch 37/100\n",
            "105/105 [==============================] - 0s 3ms/step - loss: 0.1311 - accuracy: 0.9562\n",
            "Epoch 38/100\n",
            "105/105 [==============================] - 0s 3ms/step - loss: 0.1494 - accuracy: 0.9499\n",
            "Epoch 39/100\n",
            "105/105 [==============================] - 0s 3ms/step - loss: 0.1708 - accuracy: 0.9406\n",
            "Epoch 40/100\n",
            "105/105 [==============================] - 0s 3ms/step - loss: 0.2782 - accuracy: 0.9088\n",
            "Epoch 41/100\n",
            "105/105 [==============================] - 0s 3ms/step - loss: 0.2788 - accuracy: 0.9208\n",
            "Epoch 42/100\n",
            "105/105 [==============================] - 0s 3ms/step - loss: 0.1550 - accuracy: 0.9508\n",
            "Epoch 43/100\n",
            "105/105 [==============================] - 0s 3ms/step - loss: 0.1649 - accuracy: 0.9526\n",
            "Epoch 44/100\n",
            "105/105 [==============================] - 0s 3ms/step - loss: 0.1354 - accuracy: 0.9607\n",
            "Epoch 45/100\n",
            "105/105 [==============================] - 0s 3ms/step - loss: 0.1885 - accuracy: 0.9433\n",
            "Epoch 46/100\n",
            "105/105 [==============================] - 0s 3ms/step - loss: 0.1354 - accuracy: 0.9574\n",
            "Epoch 47/100\n",
            "105/105 [==============================] - 0s 3ms/step - loss: 0.1195 - accuracy: 0.9631\n",
            "Epoch 48/100\n",
            "105/105 [==============================] - 0s 3ms/step - loss: 0.1036 - accuracy: 0.9709\n",
            "Epoch 49/100\n",
            "105/105 [==============================] - 0s 3ms/step - loss: 0.1172 - accuracy: 0.9682\n",
            "Epoch 50/100\n",
            "105/105 [==============================] - 0s 3ms/step - loss: 0.0901 - accuracy: 0.9706\n",
            "Epoch 51/100\n",
            "105/105 [==============================] - 0s 3ms/step - loss: 0.1718 - accuracy: 0.9523\n",
            "Epoch 52/100\n",
            "105/105 [==============================] - 0s 3ms/step - loss: 0.0847 - accuracy: 0.9754\n",
            "Epoch 53/100\n",
            "105/105 [==============================] - 0s 3ms/step - loss: 0.0649 - accuracy: 0.9814\n",
            "Epoch 54/100\n",
            "105/105 [==============================] - 0s 3ms/step - loss: 0.0569 - accuracy: 0.9820\n",
            "Epoch 55/100\n",
            "105/105 [==============================] - 0s 3ms/step - loss: 0.0573 - accuracy: 0.9826\n",
            "Epoch 56/100\n",
            "105/105 [==============================] - 0s 3ms/step - loss: 0.0645 - accuracy: 0.9802\n",
            "Epoch 57/100\n",
            "105/105 [==============================] - 0s 3ms/step - loss: 0.0880 - accuracy: 0.9739\n",
            "Epoch 58/100\n",
            "105/105 [==============================] - 0s 3ms/step - loss: 0.1787 - accuracy: 0.9508\n",
            "Epoch 59/100\n",
            "105/105 [==============================] - 0s 3ms/step - loss: 0.2599 - accuracy: 0.9187\n",
            "Epoch 60/100\n",
            "105/105 [==============================] - 0s 3ms/step - loss: 0.2172 - accuracy: 0.9391\n",
            "Epoch 61/100\n",
            "105/105 [==============================] - 0s 3ms/step - loss: 0.1602 - accuracy: 0.9583\n",
            "Epoch 62/100\n",
            "105/105 [==============================] - 0s 3ms/step - loss: 0.1236 - accuracy: 0.9649\n",
            "Epoch 63/100\n",
            "105/105 [==============================] - 0s 3ms/step - loss: 0.0872 - accuracy: 0.9739\n",
            "Epoch 64/100\n",
            "105/105 [==============================] - 0s 3ms/step - loss: 0.1256 - accuracy: 0.9694\n",
            "Epoch 65/100\n",
            "105/105 [==============================] - 0s 3ms/step - loss: 0.0665 - accuracy: 0.9814\n",
            "Epoch 66/100\n",
            "105/105 [==============================] - 0s 3ms/step - loss: 0.0860 - accuracy: 0.9769\n",
            "Epoch 67/100\n",
            "105/105 [==============================] - 0s 3ms/step - loss: 0.0752 - accuracy: 0.9769\n",
            "Epoch 68/100\n",
            "105/105 [==============================] - 0s 3ms/step - loss: 0.0599 - accuracy: 0.9814\n",
            "Epoch 69/100\n",
            "105/105 [==============================] - 0s 3ms/step - loss: 0.0993 - accuracy: 0.9706\n",
            "Epoch 70/100\n",
            "105/105 [==============================] - 0s 3ms/step - loss: 0.0774 - accuracy: 0.9805\n",
            "Epoch 71/100\n",
            "105/105 [==============================] - 0s 3ms/step - loss: 0.0672 - accuracy: 0.9823\n",
            "Epoch 72/100\n",
            "105/105 [==============================] - 0s 3ms/step - loss: 0.0597 - accuracy: 0.9814\n",
            "Epoch 73/100\n",
            "105/105 [==============================] - 0s 3ms/step - loss: 0.1394 - accuracy: 0.9637\n",
            "Epoch 74/100\n",
            "105/105 [==============================] - 0s 3ms/step - loss: 0.2106 - accuracy: 0.9412\n",
            "Epoch 75/100\n",
            "105/105 [==============================] - 0s 3ms/step - loss: 0.1330 - accuracy: 0.9613\n",
            "Epoch 76/100\n",
            "105/105 [==============================] - 0s 3ms/step - loss: 0.1751 - accuracy: 0.9499\n",
            "Epoch 77/100\n",
            "105/105 [==============================] - 0s 3ms/step - loss: 0.1696 - accuracy: 0.9583\n",
            "Epoch 78/100\n",
            "105/105 [==============================] - 0s 3ms/step - loss: 0.1015 - accuracy: 0.9715\n",
            "Epoch 79/100\n",
            "105/105 [==============================] - 0s 3ms/step - loss: 0.0940 - accuracy: 0.9787\n",
            "Epoch 80/100\n",
            "105/105 [==============================] - 0s 3ms/step - loss: 0.0577 - accuracy: 0.9856\n",
            "Epoch 81/100\n",
            "105/105 [==============================] - 0s 3ms/step - loss: 0.0484 - accuracy: 0.9880\n",
            "Epoch 82/100\n",
            "105/105 [==============================] - 0s 3ms/step - loss: 0.0695 - accuracy: 0.9838\n",
            "Epoch 83/100\n",
            "105/105 [==============================] - 0s 3ms/step - loss: 0.0446 - accuracy: 0.9883\n",
            "Epoch 84/100\n",
            "105/105 [==============================] - 0s 3ms/step - loss: 0.0382 - accuracy: 0.9886\n",
            "Epoch 85/100\n",
            "105/105 [==============================] - 0s 3ms/step - loss: 0.0937 - accuracy: 0.9748\n",
            "Epoch 86/100\n",
            "105/105 [==============================] - 0s 3ms/step - loss: 0.1406 - accuracy: 0.9610\n",
            "Epoch 87/100\n",
            "105/105 [==============================] - 0s 3ms/step - loss: 0.1193 - accuracy: 0.9667\n",
            "Epoch 88/100\n",
            "105/105 [==============================] - 0s 3ms/step - loss: 0.0759 - accuracy: 0.9757\n",
            "Epoch 89/100\n",
            "105/105 [==============================] - 0s 3ms/step - loss: 0.0630 - accuracy: 0.9811\n",
            "Epoch 90/100\n",
            "105/105 [==============================] - 0s 3ms/step - loss: 0.0984 - accuracy: 0.9739\n",
            "Epoch 91/100\n",
            "105/105 [==============================] - 0s 3ms/step - loss: 0.0788 - accuracy: 0.9772\n",
            "Epoch 92/100\n",
            "105/105 [==============================] - 0s 3ms/step - loss: 0.0862 - accuracy: 0.9754\n",
            "Epoch 93/100\n",
            "105/105 [==============================] - 0s 3ms/step - loss: 0.0467 - accuracy: 0.9886\n",
            "Epoch 94/100\n",
            "105/105 [==============================] - 0s 3ms/step - loss: 0.0281 - accuracy: 0.9913\n",
            "Epoch 95/100\n",
            "105/105 [==============================] - 0s 3ms/step - loss: 0.0402 - accuracy: 0.9871\n",
            "Epoch 96/100\n",
            "105/105 [==============================] - 0s 3ms/step - loss: 0.0464 - accuracy: 0.9877\n",
            "Epoch 97/100\n",
            "105/105 [==============================] - 0s 3ms/step - loss: 0.0578 - accuracy: 0.9850\n",
            "Epoch 98/100\n",
            "105/105 [==============================] - 0s 3ms/step - loss: 0.0556 - accuracy: 0.9874\n",
            "Epoch 99/100\n",
            "105/105 [==============================] - 0s 3ms/step - loss: 0.1091 - accuracy: 0.9724\n",
            "Epoch 100/100\n",
            "105/105 [==============================] - 0s 3ms/step - loss: 0.2540 - accuracy: 0.9283\n"
          ],
          "name": "stdout"
        },
        {
          "output_type": "execute_result",
          "data": {
            "text/plain": [
              "<tensorflow.python.keras.callbacks.History at 0x7f7ce0376910>"
            ]
          },
          "metadata": {
            "tags": []
          },
          "execution_count": 64
        }
      ]
    },
    {
      "cell_type": "code",
      "metadata": {
        "id": "347655bc"
      },
      "source": [
        "y_pred = ann.predict(X_test)\n",
        "\n",
        "y_pred_train=ann.predict(X_train)\n"
      ],
      "id": "347655bc",
      "execution_count": 65,
      "outputs": []
    },
    {
      "cell_type": "code",
      "metadata": {
        "id": "606c677a"
      },
      "source": [
        "predictions=[0]*y_pred.shape[0]\n",
        "\n",
        "for i in range(y_pred.shape[0]):\n",
        "    predictions[i]=np.argmax(y_pred[i])+1"
      ],
      "id": "606c677a",
      "execution_count": 66,
      "outputs": []
    },
    {
      "cell_type": "code",
      "metadata": {
        "id": "cfb9ba3b",
        "outputId": "010adb82-9312-486d-d729-7eafd4f38914",
        "colab": {
          "base_uri": "https://localhost:8080/"
        }
      },
      "source": [
        "\n",
        "print('R squared via prediction on test set: ', accuracy_score(y_test,predictions))"
      ],
      "id": "cfb9ba3b",
      "execution_count": 67,
      "outputs": [
        {
          "output_type": "stream",
          "text": [
            "R squared via prediction on test set:  0.4685251798561151\n"
          ],
          "name": "stdout"
        }
      ]
    },
    {
      "cell_type": "markdown",
      "metadata": {
        "id": "cd149912"
      },
      "source": [
        "## Q2"
      ],
      "id": "cd149912"
    },
    {
      "cell_type": "code",
      "metadata": {
        "id": "b2c9efe6"
      },
      "source": [
        "X_train = np.asarray(X_train_2).astype(np.float32)\n",
        "X_test = np.asarray(X_test_2).astype(np.float32)\n",
        "sc = StandardScaler()\n",
        "X_train = sc.fit_transform(X_train)\n",
        "X_test = sc.transform(X_test)"
      ],
      "id": "b2c9efe6",
      "execution_count": 68,
      "outputs": []
    },
    {
      "cell_type": "code",
      "metadata": {
        "id": "7c22bcfa"
      },
      "source": [
        "y_train=pd.get_dummies(y_train_2)"
      ],
      "id": "7c22bcfa",
      "execution_count": 69,
      "outputs": []
    },
    {
      "cell_type": "code",
      "metadata": {
        "id": "1fb4fbfc"
      },
      "source": [
        "ann = tf.keras.models.Sequential()\n",
        "ann.add(tf.keras.layers.Dense(103, activation='relu', input_shape=[X_train.shape[1],]))\n",
        "ann.add(tf.keras.layers.Dense(1024, activation='relu'))\n",
        "ann.add(tf.keras.layers.Dense(1024, activation='relu'))\n",
        "ann.add(tf.keras.layers.Dense(512, activation='relu'))\n",
        "ann.add(tf.keras.layers.Dense(256, activation='relu'))\n",
        "ann.add(tf.keras.layers.Dense(20, activation='softmax'))"
      ],
      "id": "1fb4fbfc",
      "execution_count": 70,
      "outputs": []
    },
    {
      "cell_type": "code",
      "metadata": {
        "scrolled": true,
        "id": "12cc7e14",
        "outputId": "788a0272-fdcf-46d5-87b6-9ff438d1e10a",
        "colab": {
          "base_uri": "https://localhost:8080/"
        }
      },
      "source": [
        "ann.compile(loss='categorical_crossentropy', optimizer='adam', metrics=['accuracy'])\n",
        "ann.summary()"
      ],
      "id": "12cc7e14",
      "execution_count": 71,
      "outputs": [
        {
          "output_type": "stream",
          "text": [
            "Model: \"sequential_1\"\n",
            "_________________________________________________________________\n",
            "Layer (type)                 Output Shape              Param #   \n",
            "=================================================================\n",
            "dense_6 (Dense)              (None, 103)               1442      \n",
            "_________________________________________________________________\n",
            "dense_7 (Dense)              (None, 1024)              106496    \n",
            "_________________________________________________________________\n",
            "dense_8 (Dense)              (None, 1024)              1049600   \n",
            "_________________________________________________________________\n",
            "dense_9 (Dense)              (None, 512)               524800    \n",
            "_________________________________________________________________\n",
            "dense_10 (Dense)             (None, 256)               131328    \n",
            "_________________________________________________________________\n",
            "dense_11 (Dense)             (None, 20)                5140      \n",
            "=================================================================\n",
            "Total params: 1,818,806\n",
            "Trainable params: 1,818,806\n",
            "Non-trainable params: 0\n",
            "_________________________________________________________________\n"
          ],
          "name": "stdout"
        }
      ]
    },
    {
      "cell_type": "code",
      "metadata": {
        "scrolled": true,
        "id": "6dd505ba",
        "outputId": "fafab96e-3f41-4252-b287-21aefde8232d",
        "colab": {
          "base_uri": "https://localhost:8080/"
        }
      },
      "source": [
        "ann.fit(X_train, y_train, epochs=100)"
      ],
      "id": "6dd505ba",
      "execution_count": 72,
      "outputs": [
        {
          "output_type": "stream",
          "text": [
            "Epoch 1/100\n",
            "79/79 [==============================] - 1s 3ms/step - loss: 2.4938 - accuracy: 0.1553\n",
            "Epoch 2/100\n",
            "79/79 [==============================] - 0s 3ms/step - loss: 2.3027 - accuracy: 0.1881\n",
            "Epoch 3/100\n",
            "79/79 [==============================] - 0s 3ms/step - loss: 2.2447 - accuracy: 0.1965\n",
            "Epoch 4/100\n",
            "79/79 [==============================] - 0s 3ms/step - loss: 2.1756 - accuracy: 0.2289\n",
            "Epoch 5/100\n",
            "79/79 [==============================] - 0s 3ms/step - loss: 2.1093 - accuracy: 0.2573\n",
            "Epoch 6/100\n",
            "79/79 [==============================] - 0s 3ms/step - loss: 2.0189 - accuracy: 0.2845\n",
            "Epoch 7/100\n",
            "79/79 [==============================] - 0s 3ms/step - loss: 1.9322 - accuracy: 0.3029\n",
            "Epoch 8/100\n",
            "79/79 [==============================] - 0s 3ms/step - loss: 1.8327 - accuracy: 0.3449\n",
            "Epoch 9/100\n",
            "79/79 [==============================] - 0s 3ms/step - loss: 1.7316 - accuracy: 0.3798\n",
            "Epoch 10/100\n",
            "79/79 [==============================] - 0s 3ms/step - loss: 1.6638 - accuracy: 0.4046\n",
            "Epoch 11/100\n",
            "79/79 [==============================] - 0s 3ms/step - loss: 1.5066 - accuracy: 0.4554\n",
            "Epoch 12/100\n",
            "79/79 [==============================] - 0s 3ms/step - loss: 1.3938 - accuracy: 0.4946\n",
            "Epoch 13/100\n",
            "79/79 [==============================] - 0s 3ms/step - loss: 1.2630 - accuracy: 0.5426\n",
            "Epoch 14/100\n",
            "79/79 [==============================] - 0s 3ms/step - loss: 1.1205 - accuracy: 0.5942\n",
            "Epoch 15/100\n",
            "79/79 [==============================] - 0s 3ms/step - loss: 1.0279 - accuracy: 0.6335\n",
            "Epoch 16/100\n",
            "79/79 [==============================] - 0s 3ms/step - loss: 0.8984 - accuracy: 0.6835\n",
            "Epoch 17/100\n",
            "79/79 [==============================] - 0s 3ms/step - loss: 0.8476 - accuracy: 0.7023\n",
            "Epoch 18/100\n",
            "79/79 [==============================] - 0s 3ms/step - loss: 0.7079 - accuracy: 0.7431\n",
            "Epoch 19/100\n",
            "79/79 [==============================] - 0s 3ms/step - loss: 0.7262 - accuracy: 0.7531\n",
            "Epoch 20/100\n",
            "79/79 [==============================] - 0s 3ms/step - loss: 0.5881 - accuracy: 0.8043\n",
            "Epoch 21/100\n",
            "79/79 [==============================] - 0s 3ms/step - loss: 0.5395 - accuracy: 0.8155\n",
            "Epoch 22/100\n",
            "79/79 [==============================] - 0s 3ms/step - loss: 0.5343 - accuracy: 0.8143\n",
            "Epoch 23/100\n",
            "79/79 [==============================] - 0s 3ms/step - loss: 0.3811 - accuracy: 0.8727\n",
            "Epoch 24/100\n",
            "79/79 [==============================] - 0s 3ms/step - loss: 0.3210 - accuracy: 0.8936\n",
            "Epoch 25/100\n",
            "79/79 [==============================] - 0s 3ms/step - loss: 0.2658 - accuracy: 0.9136\n",
            "Epoch 26/100\n",
            "79/79 [==============================] - 0s 3ms/step - loss: 0.2825 - accuracy: 0.8988\n",
            "Epoch 27/100\n",
            "79/79 [==============================] - 0s 3ms/step - loss: 0.2179 - accuracy: 0.9324\n",
            "Epoch 28/100\n",
            "79/79 [==============================] - 0s 3ms/step - loss: 0.2436 - accuracy: 0.9240\n",
            "Epoch 29/100\n",
            "79/79 [==============================] - 0s 3ms/step - loss: 0.2874 - accuracy: 0.9044\n",
            "Epoch 30/100\n",
            "79/79 [==============================] - 0s 3ms/step - loss: 0.3247 - accuracy: 0.8936\n",
            "Epoch 31/100\n",
            "79/79 [==============================] - 0s 3ms/step - loss: 0.2704 - accuracy: 0.9184\n",
            "Epoch 32/100\n",
            "79/79 [==============================] - 0s 3ms/step - loss: 0.1774 - accuracy: 0.9448\n",
            "Epoch 33/100\n",
            "79/79 [==============================] - 0s 3ms/step - loss: 0.1598 - accuracy: 0.9508\n",
            "Epoch 34/100\n",
            "79/79 [==============================] - 0s 3ms/step - loss: 0.1223 - accuracy: 0.9640\n",
            "Epoch 35/100\n",
            "79/79 [==============================] - 0s 3ms/step - loss: 0.1245 - accuracy: 0.9592\n",
            "Epoch 36/100\n",
            "79/79 [==============================] - 0s 3ms/step - loss: 0.1180 - accuracy: 0.9664\n",
            "Epoch 37/100\n",
            "79/79 [==============================] - 0s 3ms/step - loss: 0.0672 - accuracy: 0.9772\n",
            "Epoch 38/100\n",
            "79/79 [==============================] - 0s 3ms/step - loss: 0.0447 - accuracy: 0.9852\n",
            "Epoch 39/100\n",
            "79/79 [==============================] - 0s 3ms/step - loss: 0.0520 - accuracy: 0.9844\n",
            "Epoch 40/100\n",
            "79/79 [==============================] - 0s 3ms/step - loss: 0.0565 - accuracy: 0.9832\n",
            "Epoch 41/100\n",
            "79/79 [==============================] - 0s 3ms/step - loss: 0.0322 - accuracy: 0.9904\n",
            "Epoch 42/100\n",
            "79/79 [==============================] - 0s 3ms/step - loss: 0.0435 - accuracy: 0.9892\n",
            "Epoch 43/100\n",
            "79/79 [==============================] - 0s 3ms/step - loss: 0.0407 - accuracy: 0.9896\n",
            "Epoch 44/100\n",
            "79/79 [==============================] - 0s 3ms/step - loss: 0.0661 - accuracy: 0.9820\n",
            "Epoch 45/100\n",
            "79/79 [==============================] - 0s 3ms/step - loss: 0.1128 - accuracy: 0.9668\n",
            "Epoch 46/100\n",
            "79/79 [==============================] - 0s 3ms/step - loss: 0.3533 - accuracy: 0.9008\n",
            "Epoch 47/100\n",
            "79/79 [==============================] - 0s 3ms/step - loss: 0.3211 - accuracy: 0.8952\n",
            "Epoch 48/100\n",
            "79/79 [==============================] - 0s 3ms/step - loss: 0.2045 - accuracy: 0.9440\n",
            "Epoch 49/100\n",
            "79/79 [==============================] - 0s 3ms/step - loss: 0.1230 - accuracy: 0.9632\n",
            "Epoch 50/100\n",
            "79/79 [==============================] - 0s 3ms/step - loss: 0.0935 - accuracy: 0.9708\n",
            "Epoch 51/100\n",
            "79/79 [==============================] - 0s 3ms/step - loss: 0.0742 - accuracy: 0.9824\n",
            "Epoch 52/100\n",
            "79/79 [==============================] - 0s 3ms/step - loss: 0.0612 - accuracy: 0.9804\n",
            "Epoch 53/100\n",
            "79/79 [==============================] - 0s 3ms/step - loss: 0.1430 - accuracy: 0.9656\n",
            "Epoch 54/100\n",
            "79/79 [==============================] - 0s 3ms/step - loss: 0.0993 - accuracy: 0.9708\n",
            "Epoch 55/100\n",
            "79/79 [==============================] - 0s 3ms/step - loss: 0.1028 - accuracy: 0.9748\n",
            "Epoch 56/100\n",
            "79/79 [==============================] - 0s 3ms/step - loss: 0.0833 - accuracy: 0.9796\n",
            "Epoch 57/100\n",
            "79/79 [==============================] - 0s 3ms/step - loss: 0.0920 - accuracy: 0.9720\n",
            "Epoch 58/100\n",
            "79/79 [==============================] - 0s 3ms/step - loss: 0.0780 - accuracy: 0.9780\n",
            "Epoch 59/100\n",
            "79/79 [==============================] - 0s 3ms/step - loss: 0.0582 - accuracy: 0.9840\n",
            "Epoch 60/100\n",
            "79/79 [==============================] - 0s 3ms/step - loss: 0.1178 - accuracy: 0.9712\n",
            "Epoch 61/100\n",
            "79/79 [==============================] - 0s 3ms/step - loss: 0.2057 - accuracy: 0.9428\n",
            "Epoch 62/100\n",
            "79/79 [==============================] - 0s 3ms/step - loss: 0.1464 - accuracy: 0.9568\n",
            "Epoch 63/100\n",
            "79/79 [==============================] - 0s 3ms/step - loss: 0.0879 - accuracy: 0.9732\n",
            "Epoch 64/100\n",
            "79/79 [==============================] - 0s 3ms/step - loss: 0.0575 - accuracy: 0.9836\n",
            "Epoch 65/100\n",
            "79/79 [==============================] - 0s 3ms/step - loss: 0.0328 - accuracy: 0.9912\n",
            "Epoch 66/100\n",
            "79/79 [==============================] - 0s 3ms/step - loss: 0.0279 - accuracy: 0.9936\n",
            "Epoch 67/100\n",
            "79/79 [==============================] - 0s 3ms/step - loss: 0.0195 - accuracy: 0.9944\n",
            "Epoch 68/100\n",
            "79/79 [==============================] - 0s 3ms/step - loss: 0.0588 - accuracy: 0.9860\n",
            "Epoch 69/100\n",
            "79/79 [==============================] - 0s 3ms/step - loss: 0.0469 - accuracy: 0.9864\n",
            "Epoch 70/100\n",
            "79/79 [==============================] - 0s 3ms/step - loss: 0.0434 - accuracy: 0.9868\n",
            "Epoch 71/100\n",
            "79/79 [==============================] - 0s 3ms/step - loss: 0.0867 - accuracy: 0.9744\n",
            "Epoch 72/100\n",
            "79/79 [==============================] - 0s 3ms/step - loss: 0.1207 - accuracy: 0.9668\n",
            "Epoch 73/100\n",
            "79/79 [==============================] - 0s 3ms/step - loss: 0.1500 - accuracy: 0.9604\n",
            "Epoch 74/100\n",
            "79/79 [==============================] - 0s 3ms/step - loss: 0.2539 - accuracy: 0.9332\n",
            "Epoch 75/100\n",
            "79/79 [==============================] - 0s 3ms/step - loss: 0.2005 - accuracy: 0.9460\n",
            "Epoch 76/100\n",
            "79/79 [==============================] - 0s 3ms/step - loss: 0.0916 - accuracy: 0.9752\n",
            "Epoch 77/100\n",
            "79/79 [==============================] - 0s 3ms/step - loss: 0.0406 - accuracy: 0.9904\n",
            "Epoch 78/100\n",
            "79/79 [==============================] - 0s 3ms/step - loss: 0.0306 - accuracy: 0.9928\n",
            "Epoch 79/100\n",
            "79/79 [==============================] - 0s 3ms/step - loss: 0.0279 - accuracy: 0.9952\n",
            "Epoch 80/100\n",
            "79/79 [==============================] - 0s 4ms/step - loss: 0.0147 - accuracy: 0.9960\n",
            "Epoch 81/100\n",
            "79/79 [==============================] - 0s 3ms/step - loss: 0.0152 - accuracy: 0.9952\n",
            "Epoch 82/100\n",
            "79/79 [==============================] - 0s 3ms/step - loss: 0.0108 - accuracy: 0.9968\n",
            "Epoch 83/100\n",
            "79/79 [==============================] - 0s 3ms/step - loss: 0.0084 - accuracy: 0.9968\n",
            "Epoch 84/100\n",
            "79/79 [==============================] - 0s 3ms/step - loss: 0.0078 - accuracy: 0.9968\n",
            "Epoch 85/100\n",
            "79/79 [==============================] - 0s 3ms/step - loss: 0.0254 - accuracy: 0.9944\n",
            "Epoch 86/100\n",
            "79/79 [==============================] - 0s 3ms/step - loss: 0.0999 - accuracy: 0.9772\n",
            "Epoch 87/100\n",
            "79/79 [==============================] - 0s 3ms/step - loss: 0.1629 - accuracy: 0.9604\n",
            "Epoch 88/100\n",
            "79/79 [==============================] - 0s 3ms/step - loss: 0.1180 - accuracy: 0.9708\n",
            "Epoch 89/100\n",
            "79/79 [==============================] - 0s 3ms/step - loss: 0.0796 - accuracy: 0.9788\n",
            "Epoch 90/100\n",
            "79/79 [==============================] - 0s 3ms/step - loss: 0.0460 - accuracy: 0.9872\n",
            "Epoch 91/100\n",
            "79/79 [==============================] - 0s 3ms/step - loss: 0.0786 - accuracy: 0.9852\n",
            "Epoch 92/100\n",
            "79/79 [==============================] - 0s 3ms/step - loss: 0.0516 - accuracy: 0.9876\n",
            "Epoch 93/100\n",
            "79/79 [==============================] - 0s 3ms/step - loss: 0.0812 - accuracy: 0.9820\n",
            "Epoch 94/100\n",
            "79/79 [==============================] - 0s 3ms/step - loss: 0.1053 - accuracy: 0.9768\n",
            "Epoch 95/100\n",
            "79/79 [==============================] - 0s 3ms/step - loss: 0.1211 - accuracy: 0.9724\n",
            "Epoch 96/100\n",
            "79/79 [==============================] - 0s 3ms/step - loss: 0.0745 - accuracy: 0.9796\n",
            "Epoch 97/100\n",
            "79/79 [==============================] - 0s 3ms/step - loss: 0.0953 - accuracy: 0.9760\n",
            "Epoch 98/100\n",
            "79/79 [==============================] - 0s 3ms/step - loss: 0.0954 - accuracy: 0.9732\n",
            "Epoch 99/100\n",
            "79/79 [==============================] - 0s 3ms/step - loss: 0.1003 - accuracy: 0.9760\n",
            "Epoch 100/100\n",
            "79/79 [==============================] - 0s 3ms/step - loss: 0.0545 - accuracy: 0.9804\n"
          ],
          "name": "stdout"
        },
        {
          "output_type": "execute_result",
          "data": {
            "text/plain": [
              "<tensorflow.python.keras.callbacks.History at 0x7f7ce00309d0>"
            ]
          },
          "metadata": {
            "tags": []
          },
          "execution_count": 72
        }
      ]
    },
    {
      "cell_type": "code",
      "metadata": {
        "id": "2f765f5a"
      },
      "source": [
        "y_pred = ann.predict(X_test)\n",
        "y_pred_train=ann.predict(X_train)"
      ],
      "id": "2f765f5a",
      "execution_count": 73,
      "outputs": []
    },
    {
      "cell_type": "code",
      "metadata": {
        "id": "35c76446"
      },
      "source": [
        "test_predictions=[0]*y_pred.shape[0]\n",
        "for i in range(y_pred.shape[0]):\n",
        "    test_predictions[i]=np.argmax(y_pred[i])+1\n",
        "train_predictions=[0]*y_pred_train.shape[0]\n",
        "for i in range(y_pred_train.shape[0]):\n",
        "    train_predictions[i]=np.argmax(y_pred_train[i])+1"
      ],
      "id": "35c76446",
      "execution_count": 74,
      "outputs": []
    },
    {
      "cell_type": "code",
      "metadata": {
        "id": "d43a4a42",
        "outputId": "f1b42fed-84e3-41cd-d971-7fc32e067826",
        "colab": {
          "base_uri": "https://localhost:8080/"
        }
      },
      "source": [
        "print('Accuracy via prediction on test set: ', accuracy_score(y_test_2,test_predictions))\n",
        "print('Accuracy via prediction on test set: ', accuracy_score(y_train_2,train_predictions))"
      ],
      "id": "d43a4a42",
      "execution_count": 75,
      "outputs": [
        {
          "output_type": "stream",
          "text": [
            "Accuracy via prediction on test set:  0.5690276110444178\n",
            "Accuracy via prediction on test set:  0.9939975990396158\n"
          ],
          "name": "stdout"
        }
      ]
    },
    {
      "cell_type": "markdown",
      "metadata": {
        "id": "9c0988d4"
      },
      "source": [
        "## Q3 "
      ],
      "id": "9c0988d4"
    },
    {
      "cell_type": "code",
      "metadata": {
        "id": "f1a21659"
      },
      "source": [
        "X_train = np.asarray(X_train_3).astype(np.float32)\n",
        "X_test = np.asarray(X_test_3).astype(np.float32)\n",
        "sc = StandardScaler()\n",
        "X_train = sc.fit_transform(X_train)\n",
        "X_test = sc.transform(X_test)"
      ],
      "id": "f1a21659",
      "execution_count": 76,
      "outputs": []
    },
    {
      "cell_type": "code",
      "metadata": {
        "id": "054a4f40"
      },
      "source": [
        "y_train=pd.get_dummies(y_train_3)"
      ],
      "id": "054a4f40",
      "execution_count": 77,
      "outputs": []
    },
    {
      "cell_type": "code",
      "metadata": {
        "id": "62975565"
      },
      "source": [
        "ann = tf.keras.models.Sequential()\n",
        "ann.add(tf.keras.layers.Dense(103, activation='relu', input_shape=[X_train.shape[1],]))\n",
        "ann.add(tf.keras.layers.Dense(1024, activation='relu'))\n",
        "ann.add(tf.keras.layers.Dense(1024, activation='relu'))\n",
        "ann.add(tf.keras.layers.Dense(512, activation='relu'))\n",
        "ann.add(tf.keras.layers.Dense(256, activation='relu'))\n",
        "ann.add(tf.keras.layers.Dense(19, activation='softmax'))"
      ],
      "id": "62975565",
      "execution_count": 78,
      "outputs": []
    },
    {
      "cell_type": "code",
      "metadata": {
        "id": "dbca67ea",
        "outputId": "c3f9be28-8674-4348-c335-fb5fdc08d2d3",
        "colab": {
          "base_uri": "https://localhost:8080/"
        }
      },
      "source": [
        "ann.compile(loss='categorical_crossentropy', optimizer='adam', metrics=['accuracy'])\n",
        "ann.summary()"
      ],
      "id": "dbca67ea",
      "execution_count": 79,
      "outputs": [
        {
          "output_type": "stream",
          "text": [
            "Model: \"sequential_2\"\n",
            "_________________________________________________________________\n",
            "Layer (type)                 Output Shape              Param #   \n",
            "=================================================================\n",
            "dense_12 (Dense)             (None, 103)               1648      \n",
            "_________________________________________________________________\n",
            "dense_13 (Dense)             (None, 1024)              106496    \n",
            "_________________________________________________________________\n",
            "dense_14 (Dense)             (None, 1024)              1049600   \n",
            "_________________________________________________________________\n",
            "dense_15 (Dense)             (None, 512)               524800    \n",
            "_________________________________________________________________\n",
            "dense_16 (Dense)             (None, 256)               131328    \n",
            "_________________________________________________________________\n",
            "dense_17 (Dense)             (None, 19)                4883      \n",
            "=================================================================\n",
            "Total params: 1,818,755\n",
            "Trainable params: 1,818,755\n",
            "Non-trainable params: 0\n",
            "_________________________________________________________________\n"
          ],
          "name": "stdout"
        }
      ]
    },
    {
      "cell_type": "code",
      "metadata": {
        "id": "87f75356",
        "outputId": "109fd80f-e1fe-4a74-daa7-61bbe6eb9c11",
        "colab": {
          "base_uri": "https://localhost:8080/"
        }
      },
      "source": [
        "ann.fit(X_train, y_train, epochs=75)"
      ],
      "id": "87f75356",
      "execution_count": 84,
      "outputs": [
        {
          "output_type": "stream",
          "text": [
            "Epoch 1/75\n",
            "53/53 [==============================] - 0s 3ms/step - loss: 0.2349 - accuracy: 0.9173\n",
            "Epoch 2/75\n",
            "53/53 [==============================] - 0s 3ms/step - loss: 0.1920 - accuracy: 0.9346\n",
            "Epoch 3/75\n",
            "53/53 [==============================] - 0s 3ms/step - loss: 0.1710 - accuracy: 0.9488\n",
            "Epoch 4/75\n",
            "53/53 [==============================] - 0s 3ms/step - loss: 0.0988 - accuracy: 0.9673\n",
            "Epoch 5/75\n",
            "53/53 [==============================] - 0s 3ms/step - loss: 0.1039 - accuracy: 0.9643\n",
            "Epoch 6/75\n",
            "53/53 [==============================] - 0s 3ms/step - loss: 0.1275 - accuracy: 0.9590\n",
            "Epoch 7/75\n",
            "53/53 [==============================] - 0s 3ms/step - loss: 0.1686 - accuracy: 0.9441\n",
            "Epoch 8/75\n",
            "53/53 [==============================] - 0s 3ms/step - loss: 0.1385 - accuracy: 0.9530\n",
            "Epoch 9/75\n",
            "53/53 [==============================] - 0s 3ms/step - loss: 0.1699 - accuracy: 0.9518\n",
            "Epoch 10/75\n",
            "53/53 [==============================] - 0s 3ms/step - loss: 0.1371 - accuracy: 0.9572\n",
            "Epoch 11/75\n",
            "53/53 [==============================] - 0s 3ms/step - loss: 0.1145 - accuracy: 0.9649\n",
            "Epoch 12/75\n",
            "53/53 [==============================] - 0s 3ms/step - loss: 0.1126 - accuracy: 0.9709\n",
            "Epoch 13/75\n",
            "53/53 [==============================] - 0s 3ms/step - loss: 0.1198 - accuracy: 0.9691\n",
            "Epoch 14/75\n",
            "53/53 [==============================] - 0s 3ms/step - loss: 0.1294 - accuracy: 0.9601\n",
            "Epoch 15/75\n",
            "53/53 [==============================] - 0s 3ms/step - loss: 0.0921 - accuracy: 0.9726\n",
            "Epoch 16/75\n",
            "53/53 [==============================] - 0s 3ms/step - loss: 0.0749 - accuracy: 0.9756\n",
            "Epoch 17/75\n",
            "53/53 [==============================] - 0s 3ms/step - loss: 0.0613 - accuracy: 0.9827\n",
            "Epoch 18/75\n",
            "53/53 [==============================] - 0s 3ms/step - loss: 0.0322 - accuracy: 0.9917\n",
            "Epoch 19/75\n",
            "53/53 [==============================] - 0s 3ms/step - loss: 0.0385 - accuracy: 0.9911\n",
            "Epoch 20/75\n",
            "53/53 [==============================] - 0s 3ms/step - loss: 0.0420 - accuracy: 0.9863\n",
            "Epoch 21/75\n",
            "53/53 [==============================] - 0s 3ms/step - loss: 0.0165 - accuracy: 0.9964\n",
            "Epoch 22/75\n",
            "53/53 [==============================] - 0s 3ms/step - loss: 0.0045 - accuracy: 1.0000\n",
            "Epoch 23/75\n",
            "53/53 [==============================] - 0s 3ms/step - loss: 0.0029 - accuracy: 0.9994\n",
            "Epoch 24/75\n",
            "53/53 [==============================] - 0s 3ms/step - loss: 0.0019 - accuracy: 0.9994\n",
            "Epoch 25/75\n",
            "53/53 [==============================] - 0s 3ms/step - loss: 9.5120e-04 - accuracy: 1.0000\n",
            "Epoch 26/75\n",
            "53/53 [==============================] - 0s 3ms/step - loss: 5.5067e-04 - accuracy: 1.0000\n",
            "Epoch 27/75\n",
            "53/53 [==============================] - 0s 3ms/step - loss: 4.1291e-04 - accuracy: 1.0000\n",
            "Epoch 28/75\n",
            "53/53 [==============================] - 0s 3ms/step - loss: 3.3249e-04 - accuracy: 1.0000\n",
            "Epoch 29/75\n",
            "53/53 [==============================] - 0s 3ms/step - loss: 2.8003e-04 - accuracy: 1.0000\n",
            "Epoch 30/75\n",
            "53/53 [==============================] - 0s 3ms/step - loss: 2.4522e-04 - accuracy: 1.0000\n",
            "Epoch 31/75\n",
            "53/53 [==============================] - 0s 3ms/step - loss: 1.9521e-04 - accuracy: 1.0000\n",
            "Epoch 32/75\n",
            "53/53 [==============================] - 0s 3ms/step - loss: 1.6650e-04 - accuracy: 1.0000\n",
            "Epoch 33/75\n",
            "53/53 [==============================] - 0s 3ms/step - loss: 1.4410e-04 - accuracy: 1.0000\n",
            "Epoch 34/75\n",
            "53/53 [==============================] - 0s 3ms/step - loss: 1.1727e-04 - accuracy: 1.0000\n",
            "Epoch 35/75\n",
            "53/53 [==============================] - 0s 3ms/step - loss: 1.0006e-04 - accuracy: 1.0000\n",
            "Epoch 36/75\n",
            "53/53 [==============================] - 0s 3ms/step - loss: 9.0619e-05 - accuracy: 1.0000\n",
            "Epoch 37/75\n",
            "53/53 [==============================] - 0s 3ms/step - loss: 7.6356e-05 - accuracy: 1.0000\n",
            "Epoch 38/75\n",
            "53/53 [==============================] - 0s 3ms/step - loss: 6.8435e-05 - accuracy: 1.0000\n",
            "Epoch 39/75\n",
            "53/53 [==============================] - 0s 3ms/step - loss: 6.3444e-05 - accuracy: 1.0000\n",
            "Epoch 40/75\n",
            "53/53 [==============================] - 0s 3ms/step - loss: 5.4247e-05 - accuracy: 1.0000\n",
            "Epoch 41/75\n",
            "53/53 [==============================] - 0s 3ms/step - loss: 4.9259e-05 - accuracy: 1.0000\n",
            "Epoch 42/75\n",
            "53/53 [==============================] - 0s 3ms/step - loss: 4.4796e-05 - accuracy: 1.0000\n",
            "Epoch 43/75\n",
            "53/53 [==============================] - 0s 3ms/step - loss: 4.1090e-05 - accuracy: 1.0000\n",
            "Epoch 44/75\n",
            "53/53 [==============================] - 0s 3ms/step - loss: 3.7923e-05 - accuracy: 1.0000\n",
            "Epoch 45/75\n",
            "53/53 [==============================] - 0s 3ms/step - loss: 3.4732e-05 - accuracy: 1.0000\n",
            "Epoch 46/75\n",
            "53/53 [==============================] - 0s 3ms/step - loss: 3.2001e-05 - accuracy: 1.0000\n",
            "Epoch 47/75\n",
            "53/53 [==============================] - 0s 3ms/step - loss: 2.9768e-05 - accuracy: 1.0000\n",
            "Epoch 48/75\n",
            "53/53 [==============================] - 0s 3ms/step - loss: 2.7908e-05 - accuracy: 1.0000\n",
            "Epoch 49/75\n",
            "53/53 [==============================] - 0s 3ms/step - loss: 2.6252e-05 - accuracy: 1.0000\n",
            "Epoch 50/75\n",
            "53/53 [==============================] - 0s 3ms/step - loss: 2.4080e-05 - accuracy: 1.0000\n",
            "Epoch 51/75\n",
            "53/53 [==============================] - 0s 3ms/step - loss: 2.2739e-05 - accuracy: 1.0000\n",
            "Epoch 52/75\n",
            "53/53 [==============================] - 0s 3ms/step - loss: 2.1160e-05 - accuracy: 1.0000\n",
            "Epoch 53/75\n",
            "53/53 [==============================] - 0s 3ms/step - loss: 2.0029e-05 - accuracy: 1.0000\n",
            "Epoch 54/75\n",
            "53/53 [==============================] - 0s 3ms/step - loss: 1.8817e-05 - accuracy: 1.0000\n",
            "Epoch 55/75\n",
            "53/53 [==============================] - 0s 3ms/step - loss: 1.7712e-05 - accuracy: 1.0000\n",
            "Epoch 56/75\n",
            "53/53 [==============================] - 0s 3ms/step - loss: 1.6587e-05 - accuracy: 1.0000\n",
            "Epoch 57/75\n",
            "53/53 [==============================] - 0s 3ms/step - loss: 1.6011e-05 - accuracy: 1.0000\n",
            "Epoch 58/75\n",
            "53/53 [==============================] - 0s 3ms/step - loss: 1.4923e-05 - accuracy: 1.0000\n",
            "Epoch 59/75\n",
            "53/53 [==============================] - 0s 3ms/step - loss: 1.4122e-05 - accuracy: 1.0000\n",
            "Epoch 60/75\n",
            "53/53 [==============================] - 0s 3ms/step - loss: 1.3593e-05 - accuracy: 1.0000\n",
            "Epoch 61/75\n",
            "53/53 [==============================] - 0s 3ms/step - loss: 1.2737e-05 - accuracy: 1.0000\n",
            "Epoch 62/75\n",
            "53/53 [==============================] - 0s 3ms/step - loss: 1.2077e-05 - accuracy: 1.0000\n",
            "Epoch 63/75\n",
            "53/53 [==============================] - 0s 3ms/step - loss: 1.1622e-05 - accuracy: 1.0000\n",
            "Epoch 64/75\n",
            "53/53 [==============================] - 0s 3ms/step - loss: 1.1056e-05 - accuracy: 1.0000\n",
            "Epoch 65/75\n",
            "53/53 [==============================] - 0s 3ms/step - loss: 1.0597e-05 - accuracy: 1.0000\n",
            "Epoch 66/75\n",
            "53/53 [==============================] - 0s 3ms/step - loss: 1.0036e-05 - accuracy: 1.0000\n",
            "Epoch 67/75\n",
            "53/53 [==============================] - 0s 3ms/step - loss: 9.6089e-06 - accuracy: 1.0000\n",
            "Epoch 68/75\n",
            "53/53 [==============================] - 0s 3ms/step - loss: 9.1979e-06 - accuracy: 1.0000\n",
            "Epoch 69/75\n",
            "53/53 [==============================] - 0s 3ms/step - loss: 8.8279e-06 - accuracy: 1.0000\n",
            "Epoch 70/75\n",
            "53/53 [==============================] - 0s 3ms/step - loss: 8.4383e-06 - accuracy: 1.0000\n",
            "Epoch 71/75\n",
            "53/53 [==============================] - 0s 3ms/step - loss: 8.0685e-06 - accuracy: 1.0000\n",
            "Epoch 72/75\n",
            "53/53 [==============================] - 0s 3ms/step - loss: 7.6858e-06 - accuracy: 1.0000\n",
            "Epoch 73/75\n",
            "53/53 [==============================] - 0s 3ms/step - loss: 7.4179e-06 - accuracy: 1.0000\n",
            "Epoch 74/75\n",
            "53/53 [==============================] - 0s 3ms/step - loss: 7.0424e-06 - accuracy: 1.0000\n",
            "Epoch 75/75\n",
            "53/53 [==============================] - 0s 3ms/step - loss: 6.8701e-06 - accuracy: 1.0000\n"
          ],
          "name": "stdout"
        },
        {
          "output_type": "execute_result",
          "data": {
            "text/plain": [
              "<tensorflow.python.keras.callbacks.History at 0x7f7c925fdb50>"
            ]
          },
          "metadata": {
            "tags": []
          },
          "execution_count": 84
        }
      ]
    },
    {
      "cell_type": "code",
      "metadata": {
        "id": "da4175ff"
      },
      "source": [
        "y_pred=ann.predict(X_test)\n",
        "y_pred_train=ann.predict(X_train)"
      ],
      "id": "da4175ff",
      "execution_count": 85,
      "outputs": []
    },
    {
      "cell_type": "code",
      "metadata": {
        "id": "730b4ac2"
      },
      "source": [
        "test_predictions=[0]*y_pred.shape[0]\n",
        "for i in range(y_pred.shape[0]):\n",
        "    test_predictions[i]=np.argmax(y_pred[i])+1\n",
        "train_predictions=[0]*y_pred_train.shape[0]\n",
        "for i in range(y_pred_train.shape[0]):\n",
        "    train_predictions[i]=np.argmax(y_pred_train[i])+1"
      ],
      "id": "730b4ac2",
      "execution_count": 86,
      "outputs": []
    },
    {
      "cell_type": "code",
      "metadata": {
        "scrolled": false,
        "id": "3a4a8c48",
        "outputId": "3e7e3b89-0575-4097-df02-7668d0087cd7",
        "colab": {
          "base_uri": "https://localhost:8080/"
        }
      },
      "source": [
        "print('Accuracy via prediction on test set: ', accuracy_score(y_test_3,test_predictions))\n",
        "print('Accuracy via prediction on test set: ', accuracy_score(y_train_3,train_predictions))"
      ],
      "id": "3a4a8c48",
      "execution_count": 87,
      "outputs": [
        {
          "output_type": "stream",
          "text": [
            "Accuracy via prediction on test set:  0.5757575757575758\n",
            "Accuracy via prediction on test set:  0.9970255800118977\n"
          ],
          "name": "stdout"
        }
      ]
    }
  ]
}