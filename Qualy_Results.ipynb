{
 "cells": [
  {
   "cell_type": "code",
   "execution_count": 1,
   "id": "149f2d31",
   "metadata": {},
   "outputs": [],
   "source": [
    "import pandas as pd\n",
    "import numpy as np\n",
    "pd.set_option(\"display.max_columns\", None)\n",
    "#pd.set_option('display.max_rows', None)"
   ]
  },
  {
   "cell_type": "code",
   "execution_count": 2,
   "id": "fda81325",
   "metadata": {},
   "outputs": [],
   "source": [
    "import plotly.graph_objects as go\n",
    "import seaborn as sns\n",
    "import plotly.express as px\n",
    "import plotly.io as pio\n",
    "import matplotlib.pyplot as plt\n",
    "pio.templates.default = \"plotly_dark\""
   ]
  },
  {
   "cell_type": "code",
   "execution_count": 3,
   "id": "f80269d9",
   "metadata": {},
   "outputs": [],
   "source": [
    "circuits=pd.read_csv('circuits.csv')\n",
    "constructor_results=pd.read_csv('constructor_results.csv')\n",
    "constructor_standings=pd.read_csv('constructor_standings.csv')\n",
    "constructors=pd.read_csv('constructors.csv')\n",
    "driver_standings=pd.read_csv('driver_standings.csv')\n",
    "drivers=pd.read_csv('drivers.csv')\n",
    "lap_times=pd.read_csv('lap_times.csv')\n",
    "pit_stops=pd.read_csv('pit_stops.csv')\n",
    "qualifying=pd.read_csv('qualifying.csv')\n",
    "races=pd.read_csv('races.csv')\n",
    "results=pd.read_csv('results.csv')\n",
    "seasons=pd.read_csv('seasons.csv')\n",
    "status=pd.read_csv('status.csv')"
   ]
  },
  {
   "cell_type": "code",
   "execution_count": 4,
   "id": "3cb6ee9d",
   "metadata": {},
   "outputs": [],
   "source": [
    "TH_races=races.loc[races['year']>=2014]"
   ]
  },
  {
   "cell_type": "code",
   "execution_count": 5,
   "id": "a6fb7e3f",
   "metadata": {},
   "outputs": [],
   "source": [
    "qualifying=qualifying.rename(columns={\"position\":\"qualifying_pos\"})"
   ]
  },
  {
   "cell_type": "code",
   "execution_count": 6,
   "id": "b3da6b22",
   "metadata": {},
   "outputs": [],
   "source": [
    "qualifying=qualifying.replace(\"\\\\N\",np.nan)"
   ]
  },
  {
   "cell_type": "code",
   "execution_count": 7,
   "id": "b7470dde",
   "metadata": {},
   "outputs": [],
   "source": [
    "qualifying['q1']=pd.to_datetime(qualifying['q1'],format=\"%M:%S.%f\")\n",
    "qualifying['q2']=pd.to_datetime(qualifying['q2'],format=\"%M:%S.%f\")\n",
    "qualifying['q3']=pd.to_datetime(qualifying['q3'],format=\"%M:%S.%f\")"
   ]
  },
  {
   "cell_type": "code",
   "execution_count": 8,
   "id": "34084877",
   "metadata": {
    "scrolled": false
   },
   "outputs": [],
   "source": [
    "qualifying['q1_s']=qualifying['q1'].dt.minute*60+qualifying['q1'].dt.second+qualifying['q1'].dt.microsecond*0.000001\n",
    "qualifying['q2_s']=qualifying['q2'].dt.minute*60+qualifying['q2'].dt.second+qualifying['q2'].dt.microsecond*0.000001\n",
    "qualifying['q3_s']=qualifying['q3'].dt.minute*60+qualifying['q3'].dt.second+qualifying['q3'].dt.microsecond*0.000001"
   ]
  },
  {
   "cell_type": "code",
   "execution_count": 9,
   "id": "78e39565",
   "metadata": {},
   "outputs": [],
   "source": [
    "qualifying.drop(columns=['q1', 'q2', 'q3'],inplace=True)"
   ]
  },
  {
   "cell_type": "code",
   "execution_count": 10,
   "id": "5dd80bad",
   "metadata": {},
   "outputs": [],
   "source": [
    "qualifying['q1min']=qualifying['q1_s']\n",
    "qualifying['q2min']=qualifying['q2_s']\n",
    "qualifying['q3min']=qualifying['q3_s']"
   ]
  },
  {
   "cell_type": "code",
   "execution_count": 11,
   "id": "9062dd36",
   "metadata": {},
   "outputs": [],
   "source": [
    "qualifying=qualifying.merge(qualifying.groupby('raceId').aggregate({'q1min':'min','q2min':'min','q3min':'min'}),left_on='raceId',right_on='raceId')"
   ]
  },
  {
   "cell_type": "code",
   "execution_count": 12,
   "id": "6fba595a",
   "metadata": {},
   "outputs": [],
   "source": [
    "qualifying=qualifying.rename(columns={\"q1min_y\":\"q1min\",\"q2min_y\":\"q2min\",\"q3min_y\":\"q3min\"})"
   ]
  },
  {
   "cell_type": "code",
   "execution_count": 13,
   "id": "40f2cae6",
   "metadata": {},
   "outputs": [],
   "source": [
    "qualifying.drop(columns=['q1min_x','q2min_x','q3min_x'],inplace=True)"
   ]
  },
  {
   "cell_type": "code",
   "execution_count": 14,
   "id": "237b6bf8",
   "metadata": {},
   "outputs": [],
   "source": [
    "qualifying['q1_delta']=qualifying['q1min']\n",
    "qualifying['q2_delta']=qualifying['q2min']\n",
    "qualifying['q3_delta']=qualifying['q3min']"
   ]
  },
  {
   "cell_type": "code",
   "execution_count": 15,
   "id": "a25c2486",
   "metadata": {},
   "outputs": [],
   "source": [
    "qualifying['q1_delta']=qualifying['q1_s']-qualifying['q1min']\n",
    "qualifying['q2_delta']=qualifying['q2_s']-qualifying['q2min']\n",
    "qualifying['q3_delta']=qualifying['q3_s']-qualifying['q3min']"
   ]
  },
  {
   "cell_type": "code",
   "execution_count": 16,
   "id": "ddc22fdf",
   "metadata": {},
   "outputs": [
    {
     "data": {
      "text/plain": [
       "Index(['qualifyId', 'raceId', 'driverId', 'constructorId', 'number',\n",
       "       'qualifying_pos', 'q1_s', 'q2_s', 'q3_s', 'q1min', 'q2min', 'q3min',\n",
       "       'q1_delta', 'q2_delta', 'q3_delta'],\n",
       "      dtype='object')"
      ]
     },
     "execution_count": 16,
     "metadata": {},
     "output_type": "execute_result"
    }
   ],
   "source": [
    "qualifying.columns"
   ]
  },
  {
   "cell_type": "code",
   "execution_count": 17,
   "id": "8d40cc0e",
   "metadata": {},
   "outputs": [],
   "source": [
    "qualifyingq1=qualifying[['qualifyId', 'raceId', 'driverId', 'constructorId', 'number',\n",
    "       'qualifying_pos','q1_s','q1_delta']]\n",
    "qualifyingq2=qualifying[['qualifyId', 'raceId', 'driverId', 'constructorId', 'number',\n",
    "       'qualifying_pos','q2_s','q2_delta']]\n",
    "\n",
    "qualifyingq3=qualifying[['qualifyId', 'raceId', 'driverId', 'constructorId', 'number',\n",
    "       'qualifying_pos','q3_s','q3_delta']]\n"
   ]
  },
  {
   "cell_type": "code",
   "execution_count": 18,
   "id": "b31edbb6",
   "metadata": {},
   "outputs": [
    {
     "name": "stderr",
     "output_type": "stream",
     "text": [
      "C:\\ProgramData\\Anaconda3\\lib\\site-packages\\pandas\\core\\frame.py:4441: SettingWithCopyWarning: \n",
      "A value is trying to be set on a copy of a slice from a DataFrame\n",
      "\n",
      "See the caveats in the documentation: https://pandas.pydata.org/pandas-docs/stable/user_guide/indexing.html#returning-a-view-versus-a-copy\n",
      "  return super().rename(\n"
     ]
    }
   ],
   "source": [
    "results_temp=results[['resultId', 'raceId', 'driverId', 'constructorId','position','statusId','rank']]\n",
    "results_temp.rename(columns={'rank':'driverRanking','position':'final_position',},inplace=True)"
   ]
  },
  {
   "cell_type": "code",
   "execution_count": 19,
   "id": "d36fd61a",
   "metadata": {},
   "outputs": [],
   "source": [
    "TH_races_temp=TH_races[['raceId','year','circuitId']]"
   ]
  },
  {
   "cell_type": "code",
   "execution_count": 20,
   "id": "70274c0e",
   "metadata": {},
   "outputs": [
    {
     "data": {
      "text/html": [
       "<div>\n",
       "<style scoped>\n",
       "    .dataframe tbody tr th:only-of-type {\n",
       "        vertical-align: middle;\n",
       "    }\n",
       "\n",
       "    .dataframe tbody tr th {\n",
       "        vertical-align: top;\n",
       "    }\n",
       "\n",
       "    .dataframe thead th {\n",
       "        text-align: right;\n",
       "    }\n",
       "</style>\n",
       "<table border=\"1\" class=\"dataframe\">\n",
       "  <thead>\n",
       "    <tr style=\"text-align: right;\">\n",
       "      <th></th>\n",
       "      <th>constructorStandingsId</th>\n",
       "      <th>raceId</th>\n",
       "      <th>constructorId</th>\n",
       "      <th>constructor_ranking</th>\n",
       "    </tr>\n",
       "  </thead>\n",
       "  <tbody>\n",
       "    <tr>\n",
       "      <th>0</th>\n",
       "      <td>1</td>\n",
       "      <td>18</td>\n",
       "      <td>1</td>\n",
       "      <td>1</td>\n",
       "    </tr>\n",
       "    <tr>\n",
       "      <th>1</th>\n",
       "      <td>2</td>\n",
       "      <td>18</td>\n",
       "      <td>2</td>\n",
       "      <td>3</td>\n",
       "    </tr>\n",
       "    <tr>\n",
       "      <th>2</th>\n",
       "      <td>3</td>\n",
       "      <td>18</td>\n",
       "      <td>3</td>\n",
       "      <td>2</td>\n",
       "    </tr>\n",
       "    <tr>\n",
       "      <th>3</th>\n",
       "      <td>4</td>\n",
       "      <td>18</td>\n",
       "      <td>4</td>\n",
       "      <td>4</td>\n",
       "    </tr>\n",
       "    <tr>\n",
       "      <th>4</th>\n",
       "      <td>5</td>\n",
       "      <td>18</td>\n",
       "      <td>5</td>\n",
       "      <td>5</td>\n",
       "    </tr>\n",
       "  </tbody>\n",
       "</table>\n",
       "</div>"
      ],
      "text/plain": [
       "   constructorStandingsId  raceId  constructorId  constructor_ranking\n",
       "0                       1      18              1                    1\n",
       "1                       2      18              2                    3\n",
       "2                       3      18              3                    2\n",
       "3                       4      18              4                    4\n",
       "4                       5      18              5                    5"
      ]
     },
     "execution_count": 20,
     "metadata": {},
     "output_type": "execute_result"
    }
   ],
   "source": [
    "constructor_standings_temp=constructor_standings[['constructorStandingsId', 'raceId', 'constructorId','position']]\n",
    "constructor_standings_temp.rename(columns={'position':'constructor_ranking'},inplace=True)\n",
    "constructor_standings_temp.head()"
   ]
  },
  {
   "cell_type": "code",
   "execution_count": 21,
   "id": "8529335d",
   "metadata": {},
   "outputs": [
    {
     "data": {
      "text/html": [
       "<div>\n",
       "<style scoped>\n",
       "    .dataframe tbody tr th:only-of-type {\n",
       "        vertical-align: middle;\n",
       "    }\n",
       "\n",
       "    .dataframe tbody tr th {\n",
       "        vertical-align: top;\n",
       "    }\n",
       "\n",
       "    .dataframe thead th {\n",
       "        text-align: right;\n",
       "    }\n",
       "</style>\n",
       "<table border=\"1\" class=\"dataframe\">\n",
       "  <thead>\n",
       "    <tr style=\"text-align: right;\">\n",
       "      <th></th>\n",
       "      <th>raceId</th>\n",
       "      <th>driverId</th>\n",
       "      <th>stop</th>\n",
       "      <th>lap</th>\n",
       "      <th>milliseconds</th>\n",
       "    </tr>\n",
       "  </thead>\n",
       "  <tbody>\n",
       "    <tr>\n",
       "      <th>0</th>\n",
       "      <td>841</td>\n",
       "      <td>153</td>\n",
       "      <td>1</td>\n",
       "      <td>1</td>\n",
       "      <td>26898</td>\n",
       "    </tr>\n",
       "    <tr>\n",
       "      <th>1</th>\n",
       "      <td>841</td>\n",
       "      <td>30</td>\n",
       "      <td>1</td>\n",
       "      <td>1</td>\n",
       "      <td>25021</td>\n",
       "    </tr>\n",
       "    <tr>\n",
       "      <th>2</th>\n",
       "      <td>841</td>\n",
       "      <td>17</td>\n",
       "      <td>1</td>\n",
       "      <td>11</td>\n",
       "      <td>23426</td>\n",
       "    </tr>\n",
       "    <tr>\n",
       "      <th>3</th>\n",
       "      <td>841</td>\n",
       "      <td>4</td>\n",
       "      <td>1</td>\n",
       "      <td>12</td>\n",
       "      <td>23251</td>\n",
       "    </tr>\n",
       "    <tr>\n",
       "      <th>4</th>\n",
       "      <td>841</td>\n",
       "      <td>13</td>\n",
       "      <td>1</td>\n",
       "      <td>13</td>\n",
       "      <td>23842</td>\n",
       "    </tr>\n",
       "  </tbody>\n",
       "</table>\n",
       "</div>"
      ],
      "text/plain": [
       "   raceId  driverId  stop  lap  milliseconds\n",
       "0     841       153     1    1         26898\n",
       "1     841        30     1    1         25021\n",
       "2     841        17     1   11         23426\n",
       "3     841         4     1   12         23251\n",
       "4     841        13     1   13         23842"
      ]
     },
     "execution_count": 21,
     "metadata": {},
     "output_type": "execute_result"
    }
   ],
   "source": [
    "pit_stops_temp=pit_stops.drop(columns=['time','duration'])\n",
    "pit_stops_temp.head()"
   ]
  },
  {
   "cell_type": "code",
   "execution_count": 22,
   "id": "524f04a9",
   "metadata": {},
   "outputs": [],
   "source": [
    "temp=qualifyingq2\n",
    "temp=temp.dropna()\n",
    "qualifyingq2=temp\n"
   ]
  },
  {
   "cell_type": "code",
   "execution_count": 23,
   "id": "b2678456",
   "metadata": {},
   "outputs": [],
   "source": [
    "temp=qualifyingq3\n",
    "temp=temp.dropna()\n",
    "qualifyingq3=temp\n"
   ]
  },
  {
   "cell_type": "code",
   "execution_count": 24,
   "id": "45306346",
   "metadata": {},
   "outputs": [
    {
     "data": {
      "text/html": [
       "<div>\n",
       "<style scoped>\n",
       "    .dataframe tbody tr th:only-of-type {\n",
       "        vertical-align: middle;\n",
       "    }\n",
       "\n",
       "    .dataframe tbody tr th {\n",
       "        vertical-align: top;\n",
       "    }\n",
       "\n",
       "    .dataframe thead th {\n",
       "        text-align: right;\n",
       "    }\n",
       "</style>\n",
       "<table border=\"1\" class=\"dataframe\">\n",
       "  <thead>\n",
       "    <tr style=\"text-align: right;\">\n",
       "      <th></th>\n",
       "      <th>qualifyId</th>\n",
       "      <th>raceId</th>\n",
       "      <th>driverId</th>\n",
       "      <th>constructorId</th>\n",
       "      <th>number</th>\n",
       "      <th>qualifying_pos</th>\n",
       "      <th>q1_s</th>\n",
       "      <th>q1_delta</th>\n",
       "      <th>resultId</th>\n",
       "      <th>final_position</th>\n",
       "      <th>statusId</th>\n",
       "      <th>driverRanking</th>\n",
       "      <th>constructorStandingsId</th>\n",
       "      <th>constructor_ranking</th>\n",
       "      <th>year</th>\n",
       "      <th>circuitId</th>\n",
       "      <th>stop</th>\n",
       "      <th>lap</th>\n",
       "      <th>milliseconds</th>\n",
       "    </tr>\n",
       "  </thead>\n",
       "  <tbody>\n",
       "    <tr>\n",
       "      <th>0</th>\n",
       "      <td>5862</td>\n",
       "      <td>900</td>\n",
       "      <td>3</td>\n",
       "      <td>131</td>\n",
       "      <td>6</td>\n",
       "      <td>3</td>\n",
       "      <td>92.564</td>\n",
       "      <td>1.789</td>\n",
       "      <td>22130</td>\n",
       "      <td>1</td>\n",
       "      <td>1</td>\n",
       "      <td>1</td>\n",
       "      <td>25931</td>\n",
       "      <td>2</td>\n",
       "      <td>2014</td>\n",
       "      <td>1</td>\n",
       "      <td>1</td>\n",
       "      <td>12</td>\n",
       "      <td>24331</td>\n",
       "    </tr>\n",
       "    <tr>\n",
       "      <th>1</th>\n",
       "      <td>5862</td>\n",
       "      <td>900</td>\n",
       "      <td>3</td>\n",
       "      <td>131</td>\n",
       "      <td>6</td>\n",
       "      <td>3</td>\n",
       "      <td>92.564</td>\n",
       "      <td>1.789</td>\n",
       "      <td>22130</td>\n",
       "      <td>1</td>\n",
       "      <td>1</td>\n",
       "      <td>1</td>\n",
       "      <td>25931</td>\n",
       "      <td>2</td>\n",
       "      <td>2014</td>\n",
       "      <td>1</td>\n",
       "      <td>2</td>\n",
       "      <td>38</td>\n",
       "      <td>23673</td>\n",
       "    </tr>\n",
       "    <tr>\n",
       "      <th>4</th>\n",
       "      <td>5863</td>\n",
       "      <td>900</td>\n",
       "      <td>825</td>\n",
       "      <td>1</td>\n",
       "      <td>20</td>\n",
       "      <td>4</td>\n",
       "      <td>90.949</td>\n",
       "      <td>0.174</td>\n",
       "      <td>22131</td>\n",
       "      <td>2</td>\n",
       "      <td>1</td>\n",
       "      <td>6</td>\n",
       "      <td>25932</td>\n",
       "      <td>1</td>\n",
       "      <td>2014</td>\n",
       "      <td>1</td>\n",
       "      <td>1</td>\n",
       "      <td>12</td>\n",
       "      <td>23150</td>\n",
       "    </tr>\n",
       "    <tr>\n",
       "      <th>5</th>\n",
       "      <td>5863</td>\n",
       "      <td>900</td>\n",
       "      <td>825</td>\n",
       "      <td>1</td>\n",
       "      <td>20</td>\n",
       "      <td>4</td>\n",
       "      <td>90.949</td>\n",
       "      <td>0.174</td>\n",
       "      <td>22131</td>\n",
       "      <td>2</td>\n",
       "      <td>1</td>\n",
       "      <td>6</td>\n",
       "      <td>25932</td>\n",
       "      <td>1</td>\n",
       "      <td>2014</td>\n",
       "      <td>1</td>\n",
       "      <td>2</td>\n",
       "      <td>37</td>\n",
       "      <td>22273</td>\n",
       "    </tr>\n",
       "    <tr>\n",
       "      <th>6</th>\n",
       "      <td>5870</td>\n",
       "      <td>900</td>\n",
       "      <td>18</td>\n",
       "      <td>1</td>\n",
       "      <td>22</td>\n",
       "      <td>11</td>\n",
       "      <td>91.396</td>\n",
       "      <td>0.621</td>\n",
       "      <td>22132</td>\n",
       "      <td>3</td>\n",
       "      <td>1</td>\n",
       "      <td>5</td>\n",
       "      <td>25932</td>\n",
       "      <td>1</td>\n",
       "      <td>2014</td>\n",
       "      <td>1</td>\n",
       "      <td>1</td>\n",
       "      <td>11</td>\n",
       "      <td>22411</td>\n",
       "    </tr>\n",
       "  </tbody>\n",
       "</table>\n",
       "</div>"
      ],
      "text/plain": [
       "   qualifyId  raceId  driverId  constructorId  number  qualifying_pos    q1_s  \\\n",
       "0       5862     900         3            131       6               3  92.564   \n",
       "1       5862     900         3            131       6               3  92.564   \n",
       "4       5863     900       825              1      20               4  90.949   \n",
       "5       5863     900       825              1      20               4  90.949   \n",
       "6       5870     900        18              1      22              11  91.396   \n",
       "\n",
       "   q1_delta  resultId final_position  statusId driverRanking  \\\n",
       "0     1.789     22130              1         1             1   \n",
       "1     1.789     22130              1         1             1   \n",
       "4     0.174     22131              2         1             6   \n",
       "5     0.174     22131              2         1             6   \n",
       "6     0.621     22132              3         1             5   \n",
       "\n",
       "   constructorStandingsId  constructor_ranking  year  circuitId  stop  lap  \\\n",
       "0                   25931                    2  2014          1     1   12   \n",
       "1                   25931                    2  2014          1     2   38   \n",
       "4                   25932                    1  2014          1     1   12   \n",
       "5                   25932                    1  2014          1     2   37   \n",
       "6                   25932                    1  2014          1     1   11   \n",
       "\n",
       "   milliseconds  \n",
       "0         24331  \n",
       "1         23673  \n",
       "4         23150  \n",
       "5         22273  \n",
       "6         22411  "
      ]
     },
     "execution_count": 24,
     "metadata": {},
     "output_type": "execute_result"
    }
   ],
   "source": [
    "q1=qualifyingq1.merge(results_temp,left_on=['raceId','driverId','constructorId'],right_on=['raceId','driverId','constructorId'])\n",
    "q1=q1.merge(constructor_standings_temp,left_on=['raceId','constructorId'],right_on=['raceId','constructorId'])\n",
    "q1=q1.merge(TH_races_temp,left_on=['raceId'],right_on=['raceId'])\n",
    "q1=q1.merge(pit_stops_temp,left_on=['raceId','driverId'],right_on=['raceId','driverId'])\n",
    "q1=q1.loc[(q1['statusId']==1) | (q1['statusId']==11) | (q1['statusId']==12)]\n",
    "q1.head()"
   ]
  },
  {
   "cell_type": "code",
   "execution_count": 25,
   "id": "c50944cf",
   "metadata": {},
   "outputs": [],
   "source": [
    "q2=qualifyingq2.merge(results_temp,left_on=['raceId','driverId','constructorId'],right_on=['raceId','driverId','constructorId'])\n",
    "q2=q2.merge(constructor_standings_temp,left_on=['raceId','constructorId'],right_on=['raceId','constructorId'])\n",
    "q2=q2.merge(TH_races_temp,left_on=['raceId'],right_on=['raceId'])\n",
    "q2=q2.merge(pit_stops_temp,left_on=['raceId','driverId'],right_on=['raceId','driverId'])\n",
    "q2=q2.loc[(q2['statusId']==1) | (q2['statusId']==11) | (q2['statusId']==12)]"
   ]
  },
  {
   "cell_type": "code",
   "execution_count": 26,
   "id": "bbd0dddf",
   "metadata": {},
   "outputs": [],
   "source": [
    "q3=qualifyingq3.merge(results_temp,left_on=['raceId','driverId','constructorId'],right_on=['raceId','driverId','constructorId'])\n",
    "q3=q3.merge(constructor_standings_temp,left_on=['raceId','constructorId'],right_on=['raceId','constructorId'])\n",
    "q3=q3.merge(TH_races_temp,left_on=['raceId'],right_on=['raceId'])\n",
    "q3=q3.merge(pit_stops_temp,left_on=['raceId','driverId'],right_on=['raceId','driverId'])\n",
    "q3=q3.loc[(q3['statusId']==1) | (q3['statusId']==11) | (q3['statusId']==12)]"
   ]
  },
  {
   "cell_type": "markdown",
   "id": "4dbc1145",
   "metadata": {},
   "source": [
    "# Machine Learning"
   ]
  },
  {
   "cell_type": "code",
   "execution_count": 27,
   "id": "61e2fcfa",
   "metadata": {},
   "outputs": [],
   "source": [
    "from sklearn import model_selection\n",
    "from sklearn.linear_model import LinearRegression, Ridge, Lasso, ElasticNet\n",
    "from sklearn.neighbors import KNeighborsRegressor\n",
    "from sklearn.tree import DecisionTreeRegressor\n",
    "from sklearn.tree import DecisionTreeClassifier\n",
    "from sklearn.ensemble  import RandomForestClassifier\n",
    "from sklearn.svm import SVR\n",
    "from sklearn.ensemble import RandomForestRegressor\n",
    "from sklearn.ensemble import ExtraTreesClassifier\n",
    "from sklearn.metrics import mean_squared_error, r2_score\n",
    "from sklearn.model_selection import train_test_split\n",
    "from sklearn.svm import SVR\n",
    "from sklearn.metrics import precision_score, recall_score, f1_score, accuracy_score\n",
    "from sklearn.metrics import mean_squared_error, r2_score, mean_absolute_error\n",
    "import plotly.express as px\n",
    "import plotly.graph_objects as go\n",
    "from sklearn.metrics import mean_absolute_error\n",
    "from sklearn.preprocessing import StandardScaler\n",
    "import pandas as pd\n",
    "import numpy as np\n",
    "from sklearn.model_selection import train_test_split\n",
    "import plotly.graph_objects as go\n",
    "from sklearn.metrics import accuracy_score\n",
    "from sklearn.metrics import average_precision_score\n",
    "from sklearn.metrics import precision_recall_curve\n",
    "from sklearn.metrics import plot_precision_recall_curve\n",
    "import matplotlib.pyplot as plt\n",
    "from sklearn import svm"
   ]
  },
  {
   "cell_type": "code",
   "execution_count": 28,
   "id": "41cf1531",
   "metadata": {
    "scrolled": false
   },
   "outputs": [],
   "source": [
    "q1.drop(columns=['qualifyId','resultId','constructorStandingsId','raceId'],inplace=True)\n",
    "q2.drop(columns=['qualifyId','resultId','constructorStandingsId','raceId'],inplace=True)\n",
    "q3.drop(columns=['qualifyId','resultId','constructorStandingsId','raceId'],inplace=True)"
   ]
  },
  {
   "cell_type": "code",
   "execution_count": 29,
   "id": "edff72ee",
   "metadata": {},
   "outputs": [],
   "source": [
    "q1['final_position']=q1['final_position'].astype(int)\n",
    "q1['driverRanking']=q1['driverRanking'].astype(int)\n",
    "q2['final_position']=q2['final_position'].astype(int)\n",
    "q2['driverRanking']=q2['driverRanking'].astype(int)\n",
    "q3['final_position']=q3['final_position'].astype(int)\n",
    "q3['driverRanking']=q3['driverRanking'].astype(int)"
   ]
  },
  {
   "cell_type": "code",
   "execution_count": 30,
   "id": "e4696226",
   "metadata": {},
   "outputs": [],
   "source": [
    "test2=q2.merge(q1[['q1_s','q1_delta','driverId', 'constructorId', 'number','year', 'circuitId', 'stop', 'lap',\n",
    "                   'milliseconds']],left_on=['driverId', 'constructorId', 'number','year', 'circuitId', 'stop', 'lap',\n",
    "                   'milliseconds'],right_on=['driverId', 'constructorId', 'number','year', 'circuitId', 'stop', 'lap',\n",
    "                   'milliseconds'])\n",
    "test3=q3.merge(test2[['q1_s','q1_delta','driverId', 'constructorId', 'number','year', 'circuitId', 'stop', 'lap',\n",
    "                   'milliseconds','q2_s','q2_delta']],\n",
    "              left_on=['driverId', 'constructorId', 'number','year', 'circuitId', 'stop', 'lap',\n",
    "                   'milliseconds'],\n",
    "              right_on=['driverId', 'constructorId', 'number','year', 'circuitId', 'stop', 'lap',\n",
    "                   'milliseconds'])"
   ]
  },
  {
   "cell_type": "code",
   "execution_count": null,
   "id": "9cfc5c99",
   "metadata": {},
   "outputs": [],
   "source": []
  },
  {
   "cell_type": "code",
   "execution_count": 31,
   "id": "6e6fd5af",
   "metadata": {},
   "outputs": [],
   "source": [
    "test=pd.get_dummies(q1,columns=['driverId','constructorId','circuitId'])\n",
    "test2=pd.get_dummies(test2,columns=['driverId','constructorId','circuitId'])\n",
    "test3=pd.get_dummies(test3,columns=['driverId','constructorId','circuitId'])"
   ]
  },
  {
   "cell_type": "code",
   "execution_count": 32,
   "id": "c748a930",
   "metadata": {},
   "outputs": [],
   "source": [
    "test=test.dropna()\n",
    "test2=test2.dropna()\n",
    "test3=test3.dropna()"
   ]
  },
  {
   "cell_type": "code",
   "execution_count": 33,
   "id": "9abea1fa",
   "metadata": {},
   "outputs": [],
   "source": [
    "X_train, X_test, y_train, y_test = train_test_split(test.drop(columns=['final_position','qualifying_pos','number','statusId']), test['final_position'], test_size = 0.25, random_state=8)\n",
    "X_train_2, X_test_2, y_train_2, y_test_2 = train_test_split(test2.drop(columns=['final_position','qualifying_pos','number','statusId']), test2['final_position'], test_size = 0.25, random_state=8)\n",
    "X_train_3, X_test_3, y_train_3, y_test_3 = train_test_split(test3.drop(columns=['final_position','qualifying_pos','number','statusId']), test3['final_position'], test_size = 0.25, random_state=8)"
   ]
  },
  {
   "cell_type": "markdown",
   "id": "8d2b6bbf",
   "metadata": {},
   "source": [
    "## Decision Tree"
   ]
  },
  {
   "cell_type": "code",
   "execution_count": 34,
   "id": "a72d1714",
   "metadata": {
    "deletable": false,
    "editable": false,
    "run_control": {
     "frozen": true
    }
   },
   "outputs": [
    {
     "name": "stdout",
     "output_type": "stream",
     "text": [
      "Fitting 5 folds for each of 72 candidates, totalling 360 fits\n",
      "[CV] criterion=gini, max_depth=107, max_features=auto, random_state=1 \n",
      "[CV]  criterion=gini, max_depth=107, max_features=auto, random_state=1, score=0.534, total=   0.0s\n",
      "[CV] criterion=gini, max_depth=107, max_features=auto, random_state=1 \n",
      "[CV]  criterion=gini, max_depth=107, max_features=auto, random_state=1, score=0.538, total=   0.0s\n",
      "[CV] criterion=gini, max_depth=107, max_features=auto, random_state=1 \n",
      "[CV]  criterion=gini, max_depth=107, max_features=auto, random_state=1, score=0.532, total=   0.0s\n",
      "[CV] criterion=gini, max_depth=107, max_features=auto, random_state=1 \n",
      "[CV]  criterion=gini, max_depth=107, max_features=auto, random_state=1, score=0.506, total=   0.0s\n",
      "[CV] criterion=gini, max_depth=107, max_features=auto, random_state=1 \n",
      "[CV]  criterion=gini, max_depth=107, max_features=auto, random_state=1, score=0.551, total=   0.0s\n",
      "[CV] criterion=gini, max_depth=107, max_features=auto, random_state=2 \n",
      "[CV]  criterion=gini, max_depth=107, max_features=auto, random_state=2, score=0.554, total=   0.0s\n",
      "[CV] criterion=gini, max_depth=107, max_features=auto, random_state=2 \n",
      "[CV]  criterion=gini, max_depth=107, max_features=auto, random_state=2, score=0.494, total=   0.0s\n",
      "[CV] criterion=gini, max_depth=107, max_features=auto, random_state=2 \n",
      "[CV]  criterion=gini, max_depth=107, max_features=auto, random_state=2, score=0.548, total=   0.0s\n",
      "[CV] criterion=gini, max_depth=107, max_features=auto, random_state=2 \n",
      "[CV]  criterion=gini, max_depth=107, max_features=auto, random_state=2, score=0.540, total=   0.0s\n",
      "[CV] criterion=gini, max_depth=107, max_features=auto, random_state=2 \n",
      "[CV]  criterion=gini, max_depth=107, max_features=auto, random_state=2, score=0.521, total=   0.0s\n",
      "[CV] criterion=gini, max_depth=107, max_features=auto, random_state=3 \n"
     ]
    },
    {
     "name": "stderr",
     "output_type": "stream",
     "text": [
      "[Parallel(n_jobs=1)]: Using backend SequentialBackend with 1 concurrent workers.\n",
      "[Parallel(n_jobs=1)]: Done   1 out of   1 | elapsed:    0.0s remaining:    0.0s\n",
      "[Parallel(n_jobs=1)]: Done   2 out of   2 | elapsed:    0.0s remaining:    0.0s\n",
      "[Parallel(n_jobs=1)]: Done   3 out of   3 | elapsed:    0.0s remaining:    0.0s\n",
      "[Parallel(n_jobs=1)]: Done   4 out of   4 | elapsed:    0.0s remaining:    0.0s\n",
      "[Parallel(n_jobs=1)]: Done   5 out of   5 | elapsed:    0.0s remaining:    0.0s\n",
      "[Parallel(n_jobs=1)]: Done   6 out of   6 | elapsed:    0.0s remaining:    0.0s\n",
      "[Parallel(n_jobs=1)]: Done   7 out of   7 | elapsed:    0.0s remaining:    0.0s\n",
      "[Parallel(n_jobs=1)]: Done   8 out of   8 | elapsed:    0.0s remaining:    0.0s\n",
      "[Parallel(n_jobs=1)]: Done   9 out of   9 | elapsed:    0.1s remaining:    0.0s\n"
     ]
    },
    {
     "name": "stdout",
     "output_type": "stream",
     "text": [
      "[CV]  criterion=gini, max_depth=107, max_features=auto, random_state=3, score=0.556, total=   0.0s\n",
      "[CV] criterion=gini, max_depth=107, max_features=auto, random_state=3 \n",
      "[CV]  criterion=gini, max_depth=107, max_features=auto, random_state=3, score=0.514, total=   0.0s\n",
      "[CV] criterion=gini, max_depth=107, max_features=auto, random_state=3 \n",
      "[CV]  criterion=gini, max_depth=107, max_features=auto, random_state=3, score=0.502, total=   0.0s\n",
      "[CV] criterion=gini, max_depth=107, max_features=auto, random_state=3 \n",
      "[CV]  criterion=gini, max_depth=107, max_features=auto, random_state=3, score=0.520, total=   0.0s\n",
      "[CV] criterion=gini, max_depth=107, max_features=auto, random_state=3 \n",
      "[CV]  criterion=gini, max_depth=107, max_features=auto, random_state=3, score=0.529, total=   0.1s\n",
      "[CV] criterion=gini, max_depth=107, max_features=auto, random_state=4 \n",
      "[CV]  criterion=gini, max_depth=107, max_features=auto, random_state=4, score=0.502, total=   0.0s\n",
      "[CV] criterion=gini, max_depth=107, max_features=auto, random_state=4 \n",
      "[CV]  criterion=gini, max_depth=107, max_features=auto, random_state=4, score=0.506, total=   0.0s\n",
      "[CV] criterion=gini, max_depth=107, max_features=auto, random_state=4 \n",
      "[CV]  criterion=gini, max_depth=107, max_features=auto, random_state=4, score=0.550, total=   0.0s\n",
      "[CV] criterion=gini, max_depth=107, max_features=auto, random_state=4 \n",
      "[CV]  criterion=gini, max_depth=107, max_features=auto, random_state=4, score=0.516, total=   0.0s\n",
      "[CV] criterion=gini, max_depth=107, max_features=auto, random_state=4 \n",
      "[CV]  criterion=gini, max_depth=107, max_features=auto, random_state=4, score=0.515, total=   0.0s\n",
      "[CV] criterion=gini, max_depth=107, max_features=auto, random_state=5 \n",
      "[CV]  criterion=gini, max_depth=107, max_features=auto, random_state=5, score=0.466, total=   0.0s\n",
      "[CV] criterion=gini, max_depth=107, max_features=auto, random_state=5 \n",
      "[CV]  criterion=gini, max_depth=107, max_features=auto, random_state=5, score=0.530, total=   0.0s\n",
      "[CV] criterion=gini, max_depth=107, max_features=auto, random_state=5 \n",
      "[CV]  criterion=gini, max_depth=107, max_features=auto, random_state=5, score=0.438, total=   0.0s\n",
      "[CV] criterion=gini, max_depth=107, max_features=auto, random_state=5 \n",
      "[CV]  criterion=gini, max_depth=107, max_features=auto, random_state=5, score=0.502, total=   0.0s\n",
      "[CV] criterion=gini, max_depth=107, max_features=auto, random_state=5 \n",
      "[CV]  criterion=gini, max_depth=107, max_features=auto, random_state=5, score=0.493, total=   0.0s\n",
      "[CV] criterion=gini, max_depth=107, max_features=auto, random_state=6 \n",
      "[CV]  criterion=gini, max_depth=107, max_features=auto, random_state=6, score=0.482, total=   0.0s\n",
      "[CV] criterion=gini, max_depth=107, max_features=auto, random_state=6 \n",
      "[CV]  criterion=gini, max_depth=107, max_features=auto, random_state=6, score=0.498, total=   0.0s\n",
      "[CV] criterion=gini, max_depth=107, max_features=auto, random_state=6 \n",
      "[CV]  criterion=gini, max_depth=107, max_features=auto, random_state=6, score=0.464, total=   0.0s\n",
      "[CV] criterion=gini, max_depth=107, max_features=auto, random_state=6 \n",
      "[CV]  criterion=gini, max_depth=107, max_features=auto, random_state=6, score=0.526, total=   0.0s\n",
      "[CV] criterion=gini, max_depth=107, max_features=auto, random_state=6 \n",
      "[CV]  criterion=gini, max_depth=107, max_features=auto, random_state=6, score=0.551, total=   0.0s\n",
      "[CV] criterion=gini, max_depth=107, max_features=auto, random_state=7 \n",
      "[CV]  criterion=gini, max_depth=107, max_features=auto, random_state=7, score=0.512, total=   0.0s\n",
      "[CV] criterion=gini, max_depth=107, max_features=auto, random_state=7 \n",
      "[CV]  criterion=gini, max_depth=107, max_features=auto, random_state=7, score=0.498, total=   0.0s\n",
      "[CV] criterion=gini, max_depth=107, max_features=auto, random_state=7 \n",
      "[CV]  criterion=gini, max_depth=107, max_features=auto, random_state=7, score=0.490, total=   0.0s\n",
      "[CV] criterion=gini, max_depth=107, max_features=auto, random_state=7 \n",
      "[CV]  criterion=gini, max_depth=107, max_features=auto, random_state=7, score=0.520, total=   0.0s\n",
      "[CV] criterion=gini, max_depth=107, max_features=auto, random_state=7 \n",
      "[CV]  criterion=gini, max_depth=107, max_features=auto, random_state=7, score=0.487, total=   0.0s\n",
      "[CV] criterion=gini, max_depth=107, max_features=auto, random_state=8 \n",
      "[CV]  criterion=gini, max_depth=107, max_features=auto, random_state=8, score=0.550, total=   0.0s\n",
      "[CV] criterion=gini, max_depth=107, max_features=auto, random_state=8 \n",
      "[CV]  criterion=gini, max_depth=107, max_features=auto, random_state=8, score=0.532, total=   0.0s\n",
      "[CV] criterion=gini, max_depth=107, max_features=auto, random_state=8 \n",
      "[CV]  criterion=gini, max_depth=107, max_features=auto, random_state=8, score=0.440, total=   0.0s\n",
      "[CV] criterion=gini, max_depth=107, max_features=auto, random_state=8 \n",
      "[CV]  criterion=gini, max_depth=107, max_features=auto, random_state=8, score=0.482, total=   0.0s\n",
      "[CV] criterion=gini, max_depth=107, max_features=auto, random_state=8 \n",
      "[CV]  criterion=gini, max_depth=107, max_features=auto, random_state=8, score=0.527, total=   0.0s\n",
      "[CV] criterion=gini, max_depth=107, max_features=auto, random_state=9 \n",
      "[CV]  criterion=gini, max_depth=107, max_features=auto, random_state=9, score=0.544, total=   0.0s\n",
      "[CV] criterion=gini, max_depth=107, max_features=auto, random_state=9 \n",
      "[CV]  criterion=gini, max_depth=107, max_features=auto, random_state=9, score=0.542, total=   0.0s\n",
      "[CV] criterion=gini, max_depth=107, max_features=auto, random_state=9 \n",
      "[CV]  criterion=gini, max_depth=107, max_features=auto, random_state=9, score=0.496, total=   0.0s\n",
      "[CV] criterion=gini, max_depth=107, max_features=auto, random_state=9 \n",
      "[CV]  criterion=gini, max_depth=107, max_features=auto, random_state=9, score=0.566, total=   0.0s\n",
      "[CV] criterion=gini, max_depth=107, max_features=auto, random_state=9 \n",
      "[CV]  criterion=gini, max_depth=107, max_features=auto, random_state=9, score=0.539, total=   0.0s\n",
      "[CV] criterion=gini, max_depth=107, max_features=sqrt, random_state=1 \n",
      "[CV]  criterion=gini, max_depth=107, max_features=sqrt, random_state=1, score=0.534, total=   0.0s\n",
      "[CV] criterion=gini, max_depth=107, max_features=sqrt, random_state=1 \n",
      "[CV]  criterion=gini, max_depth=107, max_features=sqrt, random_state=1, score=0.538, total=   0.0s\n",
      "[CV] criterion=gini, max_depth=107, max_features=sqrt, random_state=1 \n",
      "[CV]  criterion=gini, max_depth=107, max_features=sqrt, random_state=1, score=0.532, total=   0.0s\n",
      "[CV] criterion=gini, max_depth=107, max_features=sqrt, random_state=1 \n",
      "[CV]  criterion=gini, max_depth=107, max_features=sqrt, random_state=1, score=0.506, total=   0.0s\n",
      "[CV] criterion=gini, max_depth=107, max_features=sqrt, random_state=1 \n",
      "[CV]  criterion=gini, max_depth=107, max_features=sqrt, random_state=1, score=0.551, total=   0.0s\n",
      "[CV] criterion=gini, max_depth=107, max_features=sqrt, random_state=2 \n",
      "[CV]  criterion=gini, max_depth=107, max_features=sqrt, random_state=2, score=0.554, total=   0.0s\n",
      "[CV] criterion=gini, max_depth=107, max_features=sqrt, random_state=2 \n",
      "[CV]  criterion=gini, max_depth=107, max_features=sqrt, random_state=2, score=0.494, total=   0.0s\n",
      "[CV] criterion=gini, max_depth=107, max_features=sqrt, random_state=2 \n",
      "[CV]  criterion=gini, max_depth=107, max_features=sqrt, random_state=2, score=0.548, total=   0.0s\n",
      "[CV] criterion=gini, max_depth=107, max_features=sqrt, random_state=2 \n",
      "[CV]  criterion=gini, max_depth=107, max_features=sqrt, random_state=2, score=0.540, total=   0.0s\n",
      "[CV] criterion=gini, max_depth=107, max_features=sqrt, random_state=2 \n",
      "[CV]  criterion=gini, max_depth=107, max_features=sqrt, random_state=2, score=0.521, total=   0.0s\n",
      "[CV] criterion=gini, max_depth=107, max_features=sqrt, random_state=3 \n",
      "[CV]  criterion=gini, max_depth=107, max_features=sqrt, random_state=3, score=0.556, total=   0.0s\n",
      "[CV] criterion=gini, max_depth=107, max_features=sqrt, random_state=3 \n",
      "[CV]  criterion=gini, max_depth=107, max_features=sqrt, random_state=3, score=0.514, total=   0.0s\n",
      "[CV] criterion=gini, max_depth=107, max_features=sqrt, random_state=3 \n",
      "[CV]  criterion=gini, max_depth=107, max_features=sqrt, random_state=3, score=0.502, total=   0.0s\n",
      "[CV] criterion=gini, max_depth=107, max_features=sqrt, random_state=3 \n",
      "[CV]  criterion=gini, max_depth=107, max_features=sqrt, random_state=3, score=0.520, total=   0.0s\n",
      "[CV] criterion=gini, max_depth=107, max_features=sqrt, random_state=3 \n",
      "[CV]  criterion=gini, max_depth=107, max_features=sqrt, random_state=3, score=0.529, total=   0.0s\n",
      "[CV] criterion=gini, max_depth=107, max_features=sqrt, random_state=4 \n",
      "[CV]  criterion=gini, max_depth=107, max_features=sqrt, random_state=4, score=0.502, total=   0.0s\n",
      "[CV] criterion=gini, max_depth=107, max_features=sqrt, random_state=4 \n",
      "[CV]  criterion=gini, max_depth=107, max_features=sqrt, random_state=4, score=0.506, total=   0.0s\n",
      "[CV] criterion=gini, max_depth=107, max_features=sqrt, random_state=4 \n",
      "[CV]  criterion=gini, max_depth=107, max_features=sqrt, random_state=4, score=0.550, total=   0.0s\n",
      "[CV] criterion=gini, max_depth=107, max_features=sqrt, random_state=4 \n",
      "[CV]  criterion=gini, max_depth=107, max_features=sqrt, random_state=4, score=0.516, total=   0.0s\n",
      "[CV] criterion=gini, max_depth=107, max_features=sqrt, random_state=4 \n",
      "[CV]  criterion=gini, max_depth=107, max_features=sqrt, random_state=4, score=0.515, total=   0.0s\n",
      "[CV] criterion=gini, max_depth=107, max_features=sqrt, random_state=5 \n"
     ]
    },
    {
     "name": "stdout",
     "output_type": "stream",
     "text": [
      "[CV]  criterion=gini, max_depth=107, max_features=sqrt, random_state=5, score=0.466, total=   0.0s\n",
      "[CV] criterion=gini, max_depth=107, max_features=sqrt, random_state=5 \n",
      "[CV]  criterion=gini, max_depth=107, max_features=sqrt, random_state=5, score=0.530, total=   0.0s\n",
      "[CV] criterion=gini, max_depth=107, max_features=sqrt, random_state=5 \n",
      "[CV]  criterion=gini, max_depth=107, max_features=sqrt, random_state=5, score=0.438, total=   0.0s\n",
      "[CV] criterion=gini, max_depth=107, max_features=sqrt, random_state=5 \n",
      "[CV]  criterion=gini, max_depth=107, max_features=sqrt, random_state=5, score=0.502, total=   0.0s\n",
      "[CV] criterion=gini, max_depth=107, max_features=sqrt, random_state=5 \n",
      "[CV]  criterion=gini, max_depth=107, max_features=sqrt, random_state=5, score=0.493, total=   0.0s\n",
      "[CV] criterion=gini, max_depth=107, max_features=sqrt, random_state=6 \n",
      "[CV]  criterion=gini, max_depth=107, max_features=sqrt, random_state=6, score=0.482, total=   0.0s\n",
      "[CV] criterion=gini, max_depth=107, max_features=sqrt, random_state=6 \n",
      "[CV]  criterion=gini, max_depth=107, max_features=sqrt, random_state=6, score=0.498, total=   0.0s\n",
      "[CV] criterion=gini, max_depth=107, max_features=sqrt, random_state=6 \n",
      "[CV]  criterion=gini, max_depth=107, max_features=sqrt, random_state=6, score=0.464, total=   0.0s\n",
      "[CV] criterion=gini, max_depth=107, max_features=sqrt, random_state=6 \n",
      "[CV]  criterion=gini, max_depth=107, max_features=sqrt, random_state=6, score=0.526, total=   0.0s\n",
      "[CV] criterion=gini, max_depth=107, max_features=sqrt, random_state=6 \n",
      "[CV]  criterion=gini, max_depth=107, max_features=sqrt, random_state=6, score=0.551, total=   0.0s\n",
      "[CV] criterion=gini, max_depth=107, max_features=sqrt, random_state=7 \n",
      "[CV]  criterion=gini, max_depth=107, max_features=sqrt, random_state=7, score=0.512, total=   0.0s\n",
      "[CV] criterion=gini, max_depth=107, max_features=sqrt, random_state=7 \n",
      "[CV]  criterion=gini, max_depth=107, max_features=sqrt, random_state=7, score=0.498, total=   0.0s\n",
      "[CV] criterion=gini, max_depth=107, max_features=sqrt, random_state=7 \n",
      "[CV]  criterion=gini, max_depth=107, max_features=sqrt, random_state=7, score=0.490, total=   0.0s\n",
      "[CV] criterion=gini, max_depth=107, max_features=sqrt, random_state=7 \n",
      "[CV]  criterion=gini, max_depth=107, max_features=sqrt, random_state=7, score=0.520, total=   0.0s\n",
      "[CV] criterion=gini, max_depth=107, max_features=sqrt, random_state=7 \n",
      "[CV]  criterion=gini, max_depth=107, max_features=sqrt, random_state=7, score=0.487, total=   0.0s\n",
      "[CV] criterion=gini, max_depth=107, max_features=sqrt, random_state=8 \n",
      "[CV]  criterion=gini, max_depth=107, max_features=sqrt, random_state=8, score=0.550, total=   0.0s\n",
      "[CV] criterion=gini, max_depth=107, max_features=sqrt, random_state=8 \n",
      "[CV]  criterion=gini, max_depth=107, max_features=sqrt, random_state=8, score=0.532, total=   0.0s\n",
      "[CV] criterion=gini, max_depth=107, max_features=sqrt, random_state=8 \n",
      "[CV]  criterion=gini, max_depth=107, max_features=sqrt, random_state=8, score=0.440, total=   0.0s\n",
      "[CV] criterion=gini, max_depth=107, max_features=sqrt, random_state=8 \n",
      "[CV]  criterion=gini, max_depth=107, max_features=sqrt, random_state=8, score=0.482, total=   0.0s\n",
      "[CV] criterion=gini, max_depth=107, max_features=sqrt, random_state=8 \n",
      "[CV]  criterion=gini, max_depth=107, max_features=sqrt, random_state=8, score=0.527, total=   0.0s\n",
      "[CV] criterion=gini, max_depth=107, max_features=sqrt, random_state=9 \n",
      "[CV]  criterion=gini, max_depth=107, max_features=sqrt, random_state=9, score=0.544, total=   0.0s\n",
      "[CV] criterion=gini, max_depth=107, max_features=sqrt, random_state=9 \n",
      "[CV]  criterion=gini, max_depth=107, max_features=sqrt, random_state=9, score=0.542, total=   0.0s\n",
      "[CV] criterion=gini, max_depth=107, max_features=sqrt, random_state=9 \n",
      "[CV]  criterion=gini, max_depth=107, max_features=sqrt, random_state=9, score=0.496, total=   0.0s\n",
      "[CV] criterion=gini, max_depth=107, max_features=sqrt, random_state=9 \n",
      "[CV]  criterion=gini, max_depth=107, max_features=sqrt, random_state=9, score=0.566, total=   0.0s\n",
      "[CV] criterion=gini, max_depth=107, max_features=sqrt, random_state=9 \n",
      "[CV]  criterion=gini, max_depth=107, max_features=sqrt, random_state=9, score=0.539, total=   0.0s\n",
      "[CV] criterion=gini, max_depth=107, max_features=log2, random_state=1 \n",
      "[CV]  criterion=gini, max_depth=107, max_features=log2, random_state=1, score=0.524, total=   0.0s\n",
      "[CV] criterion=gini, max_depth=107, max_features=log2, random_state=1 \n",
      "[CV]  criterion=gini, max_depth=107, max_features=log2, random_state=1, score=0.466, total=   0.0s\n",
      "[CV] criterion=gini, max_depth=107, max_features=log2, random_state=1 \n",
      "[CV]  criterion=gini, max_depth=107, max_features=log2, random_state=1, score=0.524, total=   0.0s\n",
      "[CV] criterion=gini, max_depth=107, max_features=log2, random_state=1 \n",
      "[CV]  criterion=gini, max_depth=107, max_features=log2, random_state=1, score=0.480, total=   0.0s\n",
      "[CV] criterion=gini, max_depth=107, max_features=log2, random_state=1 \n",
      "[CV]  criterion=gini, max_depth=107, max_features=log2, random_state=1, score=0.529, total=   0.0s\n",
      "[CV] criterion=gini, max_depth=107, max_features=log2, random_state=2 \n",
      "[CV]  criterion=gini, max_depth=107, max_features=log2, random_state=2, score=0.456, total=   0.0s\n",
      "[CV] criterion=gini, max_depth=107, max_features=log2, random_state=2 \n",
      "[CV]  criterion=gini, max_depth=107, max_features=log2, random_state=2, score=0.476, total=   0.0s\n",
      "[CV] criterion=gini, max_depth=107, max_features=log2, random_state=2 \n",
      "[CV]  criterion=gini, max_depth=107, max_features=log2, random_state=2, score=0.496, total=   0.0s\n",
      "[CV] criterion=gini, max_depth=107, max_features=log2, random_state=2 \n",
      "[CV]  criterion=gini, max_depth=107, max_features=log2, random_state=2, score=0.542, total=   0.0s\n",
      "[CV] criterion=gini, max_depth=107, max_features=log2, random_state=2 \n",
      "[CV]  criterion=gini, max_depth=107, max_features=log2, random_state=2, score=0.557, total=   0.0s\n",
      "[CV] criterion=gini, max_depth=107, max_features=log2, random_state=3 \n",
      "[CV]  criterion=gini, max_depth=107, max_features=log2, random_state=3, score=0.520, total=   0.0s\n",
      "[CV] criterion=gini, max_depth=107, max_features=log2, random_state=3 \n",
      "[CV]  criterion=gini, max_depth=107, max_features=log2, random_state=3, score=0.512, total=   0.0s\n",
      "[CV] criterion=gini, max_depth=107, max_features=log2, random_state=3 \n",
      "[CV]  criterion=gini, max_depth=107, max_features=log2, random_state=3, score=0.512, total=   0.0s\n",
      "[CV] criterion=gini, max_depth=107, max_features=log2, random_state=3 \n",
      "[CV]  criterion=gini, max_depth=107, max_features=log2, random_state=3, score=0.492, total=   0.0s\n",
      "[CV] criterion=gini, max_depth=107, max_features=log2, random_state=3 \n",
      "[CV]  criterion=gini, max_depth=107, max_features=log2, random_state=3, score=0.489, total=   0.0s\n",
      "[CV] criterion=gini, max_depth=107, max_features=log2, random_state=4 \n",
      "[CV]  criterion=gini, max_depth=107, max_features=log2, random_state=4, score=0.504, total=   0.0s\n",
      "[CV] criterion=gini, max_depth=107, max_features=log2, random_state=4 \n",
      "[CV]  criterion=gini, max_depth=107, max_features=log2, random_state=4, score=0.446, total=   0.0s\n",
      "[CV] criterion=gini, max_depth=107, max_features=log2, random_state=4 \n",
      "[CV]  criterion=gini, max_depth=107, max_features=log2, random_state=4, score=0.508, total=   0.0s\n",
      "[CV] criterion=gini, max_depth=107, max_features=log2, random_state=4 \n",
      "[CV]  criterion=gini, max_depth=107, max_features=log2, random_state=4, score=0.458, total=   0.0s\n",
      "[CV] criterion=gini, max_depth=107, max_features=log2, random_state=4 \n",
      "[CV]  criterion=gini, max_depth=107, max_features=log2, random_state=4, score=0.513, total=   0.0s\n",
      "[CV] criterion=gini, max_depth=107, max_features=log2, random_state=5 \n",
      "[CV]  criterion=gini, max_depth=107, max_features=log2, random_state=5, score=0.516, total=   0.0s\n",
      "[CV] criterion=gini, max_depth=107, max_features=log2, random_state=5 \n",
      "[CV]  criterion=gini, max_depth=107, max_features=log2, random_state=5, score=0.468, total=   0.0s\n",
      "[CV] criterion=gini, max_depth=107, max_features=log2, random_state=5 \n",
      "[CV]  criterion=gini, max_depth=107, max_features=log2, random_state=5, score=0.486, total=   0.0s\n",
      "[CV] criterion=gini, max_depth=107, max_features=log2, random_state=5 \n",
      "[CV]  criterion=gini, max_depth=107, max_features=log2, random_state=5, score=0.440, total=   0.0s\n",
      "[CV] criterion=gini, max_depth=107, max_features=log2, random_state=5 \n",
      "[CV]  criterion=gini, max_depth=107, max_features=log2, random_state=5, score=0.481, total=   0.0s\n",
      "[CV] criterion=gini, max_depth=107, max_features=log2, random_state=6 \n",
      "[CV]  criterion=gini, max_depth=107, max_features=log2, random_state=6, score=0.526, total=   0.0s\n",
      "[CV] criterion=gini, max_depth=107, max_features=log2, random_state=6 \n",
      "[CV]  criterion=gini, max_depth=107, max_features=log2, random_state=6, score=0.482, total=   0.0s\n",
      "[CV] criterion=gini, max_depth=107, max_features=log2, random_state=6 \n"
     ]
    },
    {
     "name": "stdout",
     "output_type": "stream",
     "text": [
      "[CV]  criterion=gini, max_depth=107, max_features=log2, random_state=6, score=0.506, total=   0.0s\n",
      "[CV] criterion=gini, max_depth=107, max_features=log2, random_state=6 \n",
      "[CV]  criterion=gini, max_depth=107, max_features=log2, random_state=6, score=0.512, total=   0.0s\n",
      "[CV] criterion=gini, max_depth=107, max_features=log2, random_state=6 \n",
      "[CV]  criterion=gini, max_depth=107, max_features=log2, random_state=6, score=0.469, total=   0.0s\n",
      "[CV] criterion=gini, max_depth=107, max_features=log2, random_state=7 \n",
      "[CV]  criterion=gini, max_depth=107, max_features=log2, random_state=7, score=0.466, total=   0.0s\n",
      "[CV] criterion=gini, max_depth=107, max_features=log2, random_state=7 \n",
      "[CV]  criterion=gini, max_depth=107, max_features=log2, random_state=7, score=0.480, total=   0.0s\n",
      "[CV] criterion=gini, max_depth=107, max_features=log2, random_state=7 \n",
      "[CV]  criterion=gini, max_depth=107, max_features=log2, random_state=7, score=0.518, total=   0.0s\n",
      "[CV] criterion=gini, max_depth=107, max_features=log2, random_state=7 \n",
      "[CV]  criterion=gini, max_depth=107, max_features=log2, random_state=7, score=0.510, total=   0.0s\n",
      "[CV] criterion=gini, max_depth=107, max_features=log2, random_state=7 \n",
      "[CV]  criterion=gini, max_depth=107, max_features=log2, random_state=7, score=0.499, total=   0.0s\n",
      "[CV] criterion=gini, max_depth=107, max_features=log2, random_state=8 \n",
      "[CV]  criterion=gini, max_depth=107, max_features=log2, random_state=8, score=0.500, total=   0.0s\n",
      "[CV] criterion=gini, max_depth=107, max_features=log2, random_state=8 \n",
      "[CV]  criterion=gini, max_depth=107, max_features=log2, random_state=8, score=0.484, total=   0.0s\n",
      "[CV] criterion=gini, max_depth=107, max_features=log2, random_state=8 \n",
      "[CV]  criterion=gini, max_depth=107, max_features=log2, random_state=8, score=0.498, total=   0.0s\n",
      "[CV] criterion=gini, max_depth=107, max_features=log2, random_state=8 \n",
      "[CV]  criterion=gini, max_depth=107, max_features=log2, random_state=8, score=0.544, total=   0.0s\n",
      "[CV] criterion=gini, max_depth=107, max_features=log2, random_state=8 \n",
      "[CV]  criterion=gini, max_depth=107, max_features=log2, random_state=8, score=0.469, total=   0.0s\n",
      "[CV] criterion=gini, max_depth=107, max_features=log2, random_state=9 \n",
      "[CV]  criterion=gini, max_depth=107, max_features=log2, random_state=9, score=0.512, total=   0.0s\n",
      "[CV] criterion=gini, max_depth=107, max_features=log2, random_state=9 \n",
      "[CV]  criterion=gini, max_depth=107, max_features=log2, random_state=9, score=0.482, total=   0.0s\n",
      "[CV] criterion=gini, max_depth=107, max_features=log2, random_state=9 \n",
      "[CV]  criterion=gini, max_depth=107, max_features=log2, random_state=9, score=0.480, total=   0.0s\n",
      "[CV] criterion=gini, max_depth=107, max_features=log2, random_state=9 \n",
      "[CV]  criterion=gini, max_depth=107, max_features=log2, random_state=9, score=0.466, total=   0.0s\n",
      "[CV] criterion=gini, max_depth=107, max_features=log2, random_state=9 \n",
      "[CV]  criterion=gini, max_depth=107, max_features=log2, random_state=9, score=0.489, total=   0.0s\n",
      "[CV] criterion=gini, max_depth=107, max_features=, random_state=1 ....\n",
      "[CV]  criterion=gini, max_depth=107, max_features=, random_state=1, score=nan, total=   0.0s\n",
      "[CV] criterion=gini, max_depth=107, max_features=, random_state=1 ....\n",
      "[CV]  criterion=gini, max_depth=107, max_features=, random_state=1, score=nan, total=   0.0s\n",
      "[CV] criterion=gini, max_depth=107, max_features=, random_state=1 ....\n",
      "[CV]  criterion=gini, max_depth=107, max_features=, random_state=1, score=nan, total=   0.0s\n",
      "[CV] criterion=gini, max_depth=107, max_features=, random_state=1 ....\n",
      "[CV]  criterion=gini, max_depth=107, max_features=, random_state=1, score=nan, total=   0.0s\n",
      "[CV] criterion=gini, max_depth=107, max_features=, random_state=1 ....\n",
      "[CV]  criterion=gini, max_depth=107, max_features=, random_state=1, score=nan, total=   0.0s\n",
      "[CV] criterion=gini, max_depth=107, max_features=, random_state=2 ....\n",
      "[CV]  criterion=gini, max_depth=107, max_features=, random_state=2, score=nan, total=   0.0s\n",
      "[CV] criterion=gini, max_depth=107, max_features=, random_state=2 ....\n",
      "[CV]  criterion=gini, max_depth=107, max_features=, random_state=2, score=nan, total=   0.0s\n",
      "[CV] criterion=gini, max_depth=107, max_features=, random_state=2 ....\n",
      "[CV]  criterion=gini, max_depth=107, max_features=, random_state=2, score=nan, total=   0.0s\n",
      "[CV] criterion=gini, max_depth=107, max_features=, random_state=2 ....\n",
      "[CV]  criterion=gini, max_depth=107, max_features=, random_state=2, score=nan, total=   0.0s\n",
      "[CV] criterion=gini, max_depth=107, max_features=, random_state=2 ....\n",
      "[CV]  criterion=gini, max_depth=107, max_features=, random_state=2, score=nan, total=   0.0s\n",
      "[CV] criterion=gini, max_depth=107, max_features=, random_state=3 ....\n",
      "[CV]  criterion=gini, max_depth=107, max_features=, random_state=3, score=nan, total=   0.0s\n",
      "[CV] criterion=gini, max_depth=107, max_features=, random_state=3 ....\n",
      "[CV]  criterion=gini, max_depth=107, max_features=, random_state=3, score=nan, total=   0.0s\n",
      "[CV] criterion=gini, max_depth=107, max_features=, random_state=3 ....\n",
      "[CV]  criterion=gini, max_depth=107, max_features=, random_state=3, score=nan, total=   0.0s\n",
      "[CV] criterion=gini, max_depth=107, max_features=, random_state=3 ....\n",
      "[CV]  criterion=gini, max_depth=107, max_features=, random_state=3, score=nan, total=   0.0s\n",
      "[CV] criterion=gini, max_depth=107, max_features=, random_state=3 ....\n",
      "[CV]  criterion=gini, max_depth=107, max_features=, random_state=3, score=nan, total=   0.0s\n",
      "[CV] criterion=gini, max_depth=107, max_features=, random_state=4 ....\n",
      "[CV]  criterion=gini, max_depth=107, max_features=, random_state=4, score=nan, total=   0.0s\n",
      "[CV] criterion=gini, max_depth=107, max_features=, random_state=4 ....\n"
     ]
    },
    {
     "name": "stderr",
     "output_type": "stream",
     "text": [
      "C:\\Users\\Apex\\AppData\\Roaming\\Python\\Python38\\site-packages\\sklearn\\model_selection\\_validation.py:548: FitFailedWarning: Estimator fit failed. The score on this train-test partition for these parameters will be set to nan. Details: \n",
      "Traceback (most recent call last):\n",
      "  File \"C:\\Users\\Apex\\AppData\\Roaming\\Python\\Python38\\site-packages\\sklearn\\model_selection\\_validation.py\", line 531, in _fit_and_score\n",
      "    estimator.fit(X_train, y_train, **fit_params)\n",
      "  File \"C:\\Users\\Apex\\AppData\\Roaming\\Python\\Python38\\site-packages\\sklearn\\tree\\_classes.py\", line 890, in fit\n",
      "    super().fit(\n",
      "  File \"C:\\Users\\Apex\\AppData\\Roaming\\Python\\Python38\\site-packages\\sklearn\\tree\\_classes.py\", line 255, in fit\n",
      "    raise ValueError(\"Invalid value for max_features. \"\n",
      "ValueError: Invalid value for max_features. Allowed string values are 'auto', 'sqrt' or 'log2'.\n",
      "\n",
      "  warnings.warn(\"Estimator fit failed. The score on this train-test\"\n",
      "C:\\Users\\Apex\\AppData\\Roaming\\Python\\Python38\\site-packages\\sklearn\\model_selection\\_validation.py:548: FitFailedWarning: Estimator fit failed. The score on this train-test partition for these parameters will be set to nan. Details: \n",
      "Traceback (most recent call last):\n",
      "  File \"C:\\Users\\Apex\\AppData\\Roaming\\Python\\Python38\\site-packages\\sklearn\\model_selection\\_validation.py\", line 531, in _fit_and_score\n",
      "    estimator.fit(X_train, y_train, **fit_params)\n",
      "  File \"C:\\Users\\Apex\\AppData\\Roaming\\Python\\Python38\\site-packages\\sklearn\\tree\\_classes.py\", line 890, in fit\n",
      "    super().fit(\n",
      "  File \"C:\\Users\\Apex\\AppData\\Roaming\\Python\\Python38\\site-packages\\sklearn\\tree\\_classes.py\", line 255, in fit\n",
      "    raise ValueError(\"Invalid value for max_features. \"\n",
      "ValueError: Invalid value for max_features. Allowed string values are 'auto', 'sqrt' or 'log2'.\n",
      "\n",
      "  warnings.warn(\"Estimator fit failed. The score on this train-test\"\n",
      "C:\\Users\\Apex\\AppData\\Roaming\\Python\\Python38\\site-packages\\sklearn\\model_selection\\_validation.py:548: FitFailedWarning: Estimator fit failed. The score on this train-test partition for these parameters will be set to nan. Details: \n",
      "Traceback (most recent call last):\n",
      "  File \"C:\\Users\\Apex\\AppData\\Roaming\\Python\\Python38\\site-packages\\sklearn\\model_selection\\_validation.py\", line 531, in _fit_and_score\n",
      "    estimator.fit(X_train, y_train, **fit_params)\n",
      "  File \"C:\\Users\\Apex\\AppData\\Roaming\\Python\\Python38\\site-packages\\sklearn\\tree\\_classes.py\", line 890, in fit\n",
      "    super().fit(\n",
      "  File \"C:\\Users\\Apex\\AppData\\Roaming\\Python\\Python38\\site-packages\\sklearn\\tree\\_classes.py\", line 255, in fit\n",
      "    raise ValueError(\"Invalid value for max_features. \"\n",
      "ValueError: Invalid value for max_features. Allowed string values are 'auto', 'sqrt' or 'log2'.\n",
      "\n",
      "  warnings.warn(\"Estimator fit failed. The score on this train-test\"\n",
      "C:\\Users\\Apex\\AppData\\Roaming\\Python\\Python38\\site-packages\\sklearn\\model_selection\\_validation.py:548: FitFailedWarning: Estimator fit failed. The score on this train-test partition for these parameters will be set to nan. Details: \n",
      "Traceback (most recent call last):\n",
      "  File \"C:\\Users\\Apex\\AppData\\Roaming\\Python\\Python38\\site-packages\\sklearn\\model_selection\\_validation.py\", line 531, in _fit_and_score\n",
      "    estimator.fit(X_train, y_train, **fit_params)\n",
      "  File \"C:\\Users\\Apex\\AppData\\Roaming\\Python\\Python38\\site-packages\\sklearn\\tree\\_classes.py\", line 890, in fit\n",
      "    super().fit(\n",
      "  File \"C:\\Users\\Apex\\AppData\\Roaming\\Python\\Python38\\site-packages\\sklearn\\tree\\_classes.py\", line 255, in fit\n",
      "    raise ValueError(\"Invalid value for max_features. \"\n",
      "ValueError: Invalid value for max_features. Allowed string values are 'auto', 'sqrt' or 'log2'.\n",
      "\n",
      "  warnings.warn(\"Estimator fit failed. The score on this train-test\"\n",
      "C:\\Users\\Apex\\AppData\\Roaming\\Python\\Python38\\site-packages\\sklearn\\model_selection\\_validation.py:548: FitFailedWarning: Estimator fit failed. The score on this train-test partition for these parameters will be set to nan. Details: \n",
      "Traceback (most recent call last):\n",
      "  File \"C:\\Users\\Apex\\AppData\\Roaming\\Python\\Python38\\site-packages\\sklearn\\model_selection\\_validation.py\", line 531, in _fit_and_score\n",
      "    estimator.fit(X_train, y_train, **fit_params)\n",
      "  File \"C:\\Users\\Apex\\AppData\\Roaming\\Python\\Python38\\site-packages\\sklearn\\tree\\_classes.py\", line 890, in fit\n",
      "    super().fit(\n",
      "  File \"C:\\Users\\Apex\\AppData\\Roaming\\Python\\Python38\\site-packages\\sklearn\\tree\\_classes.py\", line 255, in fit\n",
      "    raise ValueError(\"Invalid value for max_features. \"\n",
      "ValueError: Invalid value for max_features. Allowed string values are 'auto', 'sqrt' or 'log2'.\n",
      "\n",
      "  warnings.warn(\"Estimator fit failed. The score on this train-test\"\n",
      "C:\\Users\\Apex\\AppData\\Roaming\\Python\\Python38\\site-packages\\sklearn\\model_selection\\_validation.py:548: FitFailedWarning: Estimator fit failed. The score on this train-test partition for these parameters will be set to nan. Details: \n",
      "Traceback (most recent call last):\n",
      "  File \"C:\\Users\\Apex\\AppData\\Roaming\\Python\\Python38\\site-packages\\sklearn\\model_selection\\_validation.py\", line 531, in _fit_and_score\n",
      "    estimator.fit(X_train, y_train, **fit_params)\n",
      "  File \"C:\\Users\\Apex\\AppData\\Roaming\\Python\\Python38\\site-packages\\sklearn\\tree\\_classes.py\", line 890, in fit\n",
      "    super().fit(\n",
      "  File \"C:\\Users\\Apex\\AppData\\Roaming\\Python\\Python38\\site-packages\\sklearn\\tree\\_classes.py\", line 255, in fit\n",
      "    raise ValueError(\"Invalid value for max_features. \"\n",
      "ValueError: Invalid value for max_features. Allowed string values are 'auto', 'sqrt' or 'log2'.\n",
      "\n",
      "  warnings.warn(\"Estimator fit failed. The score on this train-test\"\n",
      "C:\\Users\\Apex\\AppData\\Roaming\\Python\\Python38\\site-packages\\sklearn\\model_selection\\_validation.py:548: FitFailedWarning: Estimator fit failed. The score on this train-test partition for these parameters will be set to nan. Details: \n",
      "Traceback (most recent call last):\n",
      "  File \"C:\\Users\\Apex\\AppData\\Roaming\\Python\\Python38\\site-packages\\sklearn\\model_selection\\_validation.py\", line 531, in _fit_and_score\n",
      "    estimator.fit(X_train, y_train, **fit_params)\n",
      "  File \"C:\\Users\\Apex\\AppData\\Roaming\\Python\\Python38\\site-packages\\sklearn\\tree\\_classes.py\", line 890, in fit\n",
      "    super().fit(\n",
      "  File \"C:\\Users\\Apex\\AppData\\Roaming\\Python\\Python38\\site-packages\\sklearn\\tree\\_classes.py\", line 255, in fit\n",
      "    raise ValueError(\"Invalid value for max_features. \"\n",
      "ValueError: Invalid value for max_features. Allowed string values are 'auto', 'sqrt' or 'log2'.\n",
      "\n",
      "  warnings.warn(\"Estimator fit failed. The score on this train-test\"\n",
      "C:\\Users\\Apex\\AppData\\Roaming\\Python\\Python38\\site-packages\\sklearn\\model_selection\\_validation.py:548: FitFailedWarning: Estimator fit failed. The score on this train-test partition for these parameters will be set to nan. Details: \n",
      "Traceback (most recent call last):\n",
      "  File \"C:\\Users\\Apex\\AppData\\Roaming\\Python\\Python38\\site-packages\\sklearn\\model_selection\\_validation.py\", line 531, in _fit_and_score\n",
      "    estimator.fit(X_train, y_train, **fit_params)\n",
      "  File \"C:\\Users\\Apex\\AppData\\Roaming\\Python\\Python38\\site-packages\\sklearn\\tree\\_classes.py\", line 890, in fit\n",
      "    super().fit(\n",
      "  File \"C:\\Users\\Apex\\AppData\\Roaming\\Python\\Python38\\site-packages\\sklearn\\tree\\_classes.py\", line 255, in fit\n",
      "    raise ValueError(\"Invalid value for max_features. \"\n",
      "ValueError: Invalid value for max_features. Allowed string values are 'auto', 'sqrt' or 'log2'.\n",
      "\n",
      "  warnings.warn(\"Estimator fit failed. The score on this train-test\"\n",
      "C:\\Users\\Apex\\AppData\\Roaming\\Python\\Python38\\site-packages\\sklearn\\model_selection\\_validation.py:548: FitFailedWarning: Estimator fit failed. The score on this train-test partition for these parameters will be set to nan. Details: \n",
      "Traceback (most recent call last):\n",
      "  File \"C:\\Users\\Apex\\AppData\\Roaming\\Python\\Python38\\site-packages\\sklearn\\model_selection\\_validation.py\", line 531, in _fit_and_score\n",
      "    estimator.fit(X_train, y_train, **fit_params)\n",
      "  File \"C:\\Users\\Apex\\AppData\\Roaming\\Python\\Python38\\site-packages\\sklearn\\tree\\_classes.py\", line 890, in fit\n",
      "    super().fit(\n",
      "  File \"C:\\Users\\Apex\\AppData\\Roaming\\Python\\Python38\\site-packages\\sklearn\\tree\\_classes.py\", line 255, in fit\n",
      "    raise ValueError(\"Invalid value for max_features. \"\n",
      "ValueError: Invalid value for max_features. Allowed string values are 'auto', 'sqrt' or 'log2'.\n",
      "\n",
      "  warnings.warn(\"Estimator fit failed. The score on this train-test\"\n",
      "C:\\Users\\Apex\\AppData\\Roaming\\Python\\Python38\\site-packages\\sklearn\\model_selection\\_validation.py:548: FitFailedWarning: Estimator fit failed. The score on this train-test partition for these parameters will be set to nan. Details: \n",
      "Traceback (most recent call last):\n",
      "  File \"C:\\Users\\Apex\\AppData\\Roaming\\Python\\Python38\\site-packages\\sklearn\\model_selection\\_validation.py\", line 531, in _fit_and_score\n",
      "    estimator.fit(X_train, y_train, **fit_params)\n",
      "  File \"C:\\Users\\Apex\\AppData\\Roaming\\Python\\Python38\\site-packages\\sklearn\\tree\\_classes.py\", line 890, in fit\n",
      "    super().fit(\n",
      "  File \"C:\\Users\\Apex\\AppData\\Roaming\\Python\\Python38\\site-packages\\sklearn\\tree\\_classes.py\", line 255, in fit\n",
      "    raise ValueError(\"Invalid value for max_features. \"\n",
      "ValueError: Invalid value for max_features. Allowed string values are 'auto', 'sqrt' or 'log2'.\n",
      "\n",
      "  warnings.warn(\"Estimator fit failed. The score on this train-test\"\n",
      "C:\\Users\\Apex\\AppData\\Roaming\\Python\\Python38\\site-packages\\sklearn\\model_selection\\_validation.py:548: FitFailedWarning: Estimator fit failed. The score on this train-test partition for these parameters will be set to nan. Details: \n",
      "Traceback (most recent call last):\n",
      "  File \"C:\\Users\\Apex\\AppData\\Roaming\\Python\\Python38\\site-packages\\sklearn\\model_selection\\_validation.py\", line 531, in _fit_and_score\n",
      "    estimator.fit(X_train, y_train, **fit_params)\n",
      "  File \"C:\\Users\\Apex\\AppData\\Roaming\\Python\\Python38\\site-packages\\sklearn\\tree\\_classes.py\", line 890, in fit\n",
      "    super().fit(\n",
      "  File \"C:\\Users\\Apex\\AppData\\Roaming\\Python\\Python38\\site-packages\\sklearn\\tree\\_classes.py\", line 255, in fit\n",
      "    raise ValueError(\"Invalid value for max_features. \"\n",
      "ValueError: Invalid value for max_features. Allowed string values are 'auto', 'sqrt' or 'log2'.\n",
      "\n",
      "  warnings.warn(\"Estimator fit failed. The score on this train-test\"\n",
      "C:\\Users\\Apex\\AppData\\Roaming\\Python\\Python38\\site-packages\\sklearn\\model_selection\\_validation.py:548: FitFailedWarning: Estimator fit failed. The score on this train-test partition for these parameters will be set to nan. Details: \n",
      "Traceback (most recent call last):\n",
      "  File \"C:\\Users\\Apex\\AppData\\Roaming\\Python\\Python38\\site-packages\\sklearn\\model_selection\\_validation.py\", line 531, in _fit_and_score\n",
      "    estimator.fit(X_train, y_train, **fit_params)\n",
      "  File \"C:\\Users\\Apex\\AppData\\Roaming\\Python\\Python38\\site-packages\\sklearn\\tree\\_classes.py\", line 890, in fit\n",
      "    super().fit(\n",
      "  File \"C:\\Users\\Apex\\AppData\\Roaming\\Python\\Python38\\site-packages\\sklearn\\tree\\_classes.py\", line 255, in fit\n",
      "    raise ValueError(\"Invalid value for max_features. \"\n",
      "ValueError: Invalid value for max_features. Allowed string values are 'auto', 'sqrt' or 'log2'.\n",
      "\n",
      "  warnings.warn(\"Estimator fit failed. The score on this train-test\"\n",
      "C:\\Users\\Apex\\AppData\\Roaming\\Python\\Python38\\site-packages\\sklearn\\model_selection\\_validation.py:548: FitFailedWarning: Estimator fit failed. The score on this train-test partition for these parameters will be set to nan. Details: \n",
      "Traceback (most recent call last):\n",
      "  File \"C:\\Users\\Apex\\AppData\\Roaming\\Python\\Python38\\site-packages\\sklearn\\model_selection\\_validation.py\", line 531, in _fit_and_score\n",
      "    estimator.fit(X_train, y_train, **fit_params)\n",
      "  File \"C:\\Users\\Apex\\AppData\\Roaming\\Python\\Python38\\site-packages\\sklearn\\tree\\_classes.py\", line 890, in fit\n",
      "    super().fit(\n",
      "  File \"C:\\Users\\Apex\\AppData\\Roaming\\Python\\Python38\\site-packages\\sklearn\\tree\\_classes.py\", line 255, in fit\n",
      "    raise ValueError(\"Invalid value for max_features. \"\n",
      "ValueError: Invalid value for max_features. Allowed string values are 'auto', 'sqrt' or 'log2'.\n",
      "\n",
      "  warnings.warn(\"Estimator fit failed. The score on this train-test\"\n",
      "C:\\Users\\Apex\\AppData\\Roaming\\Python\\Python38\\site-packages\\sklearn\\model_selection\\_validation.py:548: FitFailedWarning: Estimator fit failed. The score on this train-test partition for these parameters will be set to nan. Details: \n",
      "Traceback (most recent call last):\n",
      "  File \"C:\\Users\\Apex\\AppData\\Roaming\\Python\\Python38\\site-packages\\sklearn\\model_selection\\_validation.py\", line 531, in _fit_and_score\n",
      "    estimator.fit(X_train, y_train, **fit_params)\n",
      "  File \"C:\\Users\\Apex\\AppData\\Roaming\\Python\\Python38\\site-packages\\sklearn\\tree\\_classes.py\", line 890, in fit\n",
      "    super().fit(\n",
      "  File \"C:\\Users\\Apex\\AppData\\Roaming\\Python\\Python38\\site-packages\\sklearn\\tree\\_classes.py\", line 255, in fit\n",
      "    raise ValueError(\"Invalid value for max_features. \"\n",
      "ValueError: Invalid value for max_features. Allowed string values are 'auto', 'sqrt' or 'log2'.\n",
      "\n",
      "  warnings.warn(\"Estimator fit failed. The score on this train-test\"\n",
      "C:\\Users\\Apex\\AppData\\Roaming\\Python\\Python38\\site-packages\\sklearn\\model_selection\\_validation.py:548: FitFailedWarning: Estimator fit failed. The score on this train-test partition for these parameters will be set to nan. Details: \n",
      "Traceback (most recent call last):\n",
      "  File \"C:\\Users\\Apex\\AppData\\Roaming\\Python\\Python38\\site-packages\\sklearn\\model_selection\\_validation.py\", line 531, in _fit_and_score\n",
      "    estimator.fit(X_train, y_train, **fit_params)\n",
      "  File \"C:\\Users\\Apex\\AppData\\Roaming\\Python\\Python38\\site-packages\\sklearn\\tree\\_classes.py\", line 890, in fit\n",
      "    super().fit(\n",
      "  File \"C:\\Users\\Apex\\AppData\\Roaming\\Python\\Python38\\site-packages\\sklearn\\tree\\_classes.py\", line 255, in fit\n",
      "    raise ValueError(\"Invalid value for max_features. \"\n",
      "ValueError: Invalid value for max_features. Allowed string values are 'auto', 'sqrt' or 'log2'.\n",
      "\n",
      "  warnings.warn(\"Estimator fit failed. The score on this train-test\"\n",
      "C:\\Users\\Apex\\AppData\\Roaming\\Python\\Python38\\site-packages\\sklearn\\model_selection\\_validation.py:548: FitFailedWarning: Estimator fit failed. The score on this train-test partition for these parameters will be set to nan. Details: \n",
      "Traceback (most recent call last):\n",
      "  File \"C:\\Users\\Apex\\AppData\\Roaming\\Python\\Python38\\site-packages\\sklearn\\model_selection\\_validation.py\", line 531, in _fit_and_score\n",
      "    estimator.fit(X_train, y_train, **fit_params)\n",
      "  File \"C:\\Users\\Apex\\AppData\\Roaming\\Python\\Python38\\site-packages\\sklearn\\tree\\_classes.py\", line 890, in fit\n",
      "    super().fit(\n",
      "  File \"C:\\Users\\Apex\\AppData\\Roaming\\Python\\Python38\\site-packages\\sklearn\\tree\\_classes.py\", line 255, in fit\n",
      "    raise ValueError(\"Invalid value for max_features. \"\n",
      "ValueError: Invalid value for max_features. Allowed string values are 'auto', 'sqrt' or 'log2'.\n",
      "\n",
      "  warnings.warn(\"Estimator fit failed. The score on this train-test\"\n",
      "C:\\Users\\Apex\\AppData\\Roaming\\Python\\Python38\\site-packages\\sklearn\\model_selection\\_validation.py:548: FitFailedWarning: Estimator fit failed. The score on this train-test partition for these parameters will be set to nan. Details: \n",
      "Traceback (most recent call last):\n",
      "  File \"C:\\Users\\Apex\\AppData\\Roaming\\Python\\Python38\\site-packages\\sklearn\\model_selection\\_validation.py\", line 531, in _fit_and_score\n",
      "    estimator.fit(X_train, y_train, **fit_params)\n",
      "  File \"C:\\Users\\Apex\\AppData\\Roaming\\Python\\Python38\\site-packages\\sklearn\\tree\\_classes.py\", line 890, in fit\n",
      "    super().fit(\n",
      "  File \"C:\\Users\\Apex\\AppData\\Roaming\\Python\\Python38\\site-packages\\sklearn\\tree\\_classes.py\", line 255, in fit\n",
      "    raise ValueError(\"Invalid value for max_features. \"\n",
      "ValueError: Invalid value for max_features. Allowed string values are 'auto', 'sqrt' or 'log2'.\n",
      "\n",
      "  warnings.warn(\"Estimator fit failed. The score on this train-test\"\n",
      "C:\\Users\\Apex\\AppData\\Roaming\\Python\\Python38\\site-packages\\sklearn\\model_selection\\_validation.py:548: FitFailedWarning: Estimator fit failed. The score on this train-test partition for these parameters will be set to nan. Details: \n",
      "Traceback (most recent call last):\n",
      "  File \"C:\\Users\\Apex\\AppData\\Roaming\\Python\\Python38\\site-packages\\sklearn\\model_selection\\_validation.py\", line 531, in _fit_and_score\n",
      "    estimator.fit(X_train, y_train, **fit_params)\n",
      "  File \"C:\\Users\\Apex\\AppData\\Roaming\\Python\\Python38\\site-packages\\sklearn\\tree\\_classes.py\", line 890, in fit\n",
      "    super().fit(\n",
      "  File \"C:\\Users\\Apex\\AppData\\Roaming\\Python\\Python38\\site-packages\\sklearn\\tree\\_classes.py\", line 255, in fit\n",
      "    raise ValueError(\"Invalid value for max_features. \"\n",
      "ValueError: Invalid value for max_features. Allowed string values are 'auto', 'sqrt' or 'log2'.\n",
      "\n",
      "  warnings.warn(\"Estimator fit failed. The score on this train-test\"\n",
      "C:\\Users\\Apex\\AppData\\Roaming\\Python\\Python38\\site-packages\\sklearn\\model_selection\\_validation.py:548: FitFailedWarning: Estimator fit failed. The score on this train-test partition for these parameters will be set to nan. Details: \n",
      "Traceback (most recent call last):\n",
      "  File \"C:\\Users\\Apex\\AppData\\Roaming\\Python\\Python38\\site-packages\\sklearn\\model_selection\\_validation.py\", line 531, in _fit_and_score\n",
      "    estimator.fit(X_train, y_train, **fit_params)\n",
      "  File \"C:\\Users\\Apex\\AppData\\Roaming\\Python\\Python38\\site-packages\\sklearn\\tree\\_classes.py\", line 890, in fit\n",
      "    super().fit(\n",
      "  File \"C:\\Users\\Apex\\AppData\\Roaming\\Python\\Python38\\site-packages\\sklearn\\tree\\_classes.py\", line 255, in fit\n",
      "    raise ValueError(\"Invalid value for max_features. \"\n",
      "ValueError: Invalid value for max_features. Allowed string values are 'auto', 'sqrt' or 'log2'.\n",
      "\n",
      "  warnings.warn(\"Estimator fit failed. The score on this train-test\"\n",
      "C:\\Users\\Apex\\AppData\\Roaming\\Python\\Python38\\site-packages\\sklearn\\model_selection\\_validation.py:548: FitFailedWarning: Estimator fit failed. The score on this train-test partition for these parameters will be set to nan. Details: \n",
      "Traceback (most recent call last):\n",
      "  File \"C:\\Users\\Apex\\AppData\\Roaming\\Python\\Python38\\site-packages\\sklearn\\model_selection\\_validation.py\", line 531, in _fit_and_score\n",
      "    estimator.fit(X_train, y_train, **fit_params)\n",
      "  File \"C:\\Users\\Apex\\AppData\\Roaming\\Python\\Python38\\site-packages\\sklearn\\tree\\_classes.py\", line 890, in fit\n",
      "    super().fit(\n",
      "  File \"C:\\Users\\Apex\\AppData\\Roaming\\Python\\Python38\\site-packages\\sklearn\\tree\\_classes.py\", line 255, in fit\n",
      "    raise ValueError(\"Invalid value for max_features. \"\n",
      "ValueError: Invalid value for max_features. Allowed string values are 'auto', 'sqrt' or 'log2'.\n",
      "\n",
      "  warnings.warn(\"Estimator fit failed. The score on this train-test\"\n",
      "C:\\Users\\Apex\\AppData\\Roaming\\Python\\Python38\\site-packages\\sklearn\\model_selection\\_validation.py:548: FitFailedWarning: Estimator fit failed. The score on this train-test partition for these parameters will be set to nan. Details: \n",
      "Traceback (most recent call last):\n",
      "  File \"C:\\Users\\Apex\\AppData\\Roaming\\Python\\Python38\\site-packages\\sklearn\\model_selection\\_validation.py\", line 531, in _fit_and_score\n",
      "    estimator.fit(X_train, y_train, **fit_params)\n",
      "  File \"C:\\Users\\Apex\\AppData\\Roaming\\Python\\Python38\\site-packages\\sklearn\\tree\\_classes.py\", line 890, in fit\n",
      "    super().fit(\n",
      "  File \"C:\\Users\\Apex\\AppData\\Roaming\\Python\\Python38\\site-packages\\sklearn\\tree\\_classes.py\", line 255, in fit\n",
      "    raise ValueError(\"Invalid value for max_features. \"\n",
      "ValueError: Invalid value for max_features. Allowed string values are 'auto', 'sqrt' or 'log2'.\n",
      "\n",
      "  warnings.warn(\"Estimator fit failed. The score on this train-test\"\n",
      "C:\\Users\\Apex\\AppData\\Roaming\\Python\\Python38\\site-packages\\sklearn\\model_selection\\_validation.py:548: FitFailedWarning: Estimator fit failed. The score on this train-test partition for these parameters will be set to nan. Details: \n",
      "Traceback (most recent call last):\n",
      "  File \"C:\\Users\\Apex\\AppData\\Roaming\\Python\\Python38\\site-packages\\sklearn\\model_selection\\_validation.py\", line 531, in _fit_and_score\n",
      "    estimator.fit(X_train, y_train, **fit_params)\n",
      "  File \"C:\\Users\\Apex\\AppData\\Roaming\\Python\\Python38\\site-packages\\sklearn\\tree\\_classes.py\", line 890, in fit\n",
      "    super().fit(\n",
      "  File \"C:\\Users\\Apex\\AppData\\Roaming\\Python\\Python38\\site-packages\\sklearn\\tree\\_classes.py\", line 255, in fit\n",
      "    raise ValueError(\"Invalid value for max_features. \"\n",
      "ValueError: Invalid value for max_features. Allowed string values are 'auto', 'sqrt' or 'log2'.\n",
      "\n",
      "  warnings.warn(\"Estimator fit failed. The score on this train-test\"\n",
      "C:\\Users\\Apex\\AppData\\Roaming\\Python\\Python38\\site-packages\\sklearn\\model_selection\\_validation.py:548: FitFailedWarning: Estimator fit failed. The score on this train-test partition for these parameters will be set to nan. Details: \n",
      "Traceback (most recent call last):\n",
      "  File \"C:\\Users\\Apex\\AppData\\Roaming\\Python\\Python38\\site-packages\\sklearn\\model_selection\\_validation.py\", line 531, in _fit_and_score\n",
      "    estimator.fit(X_train, y_train, **fit_params)\n",
      "  File \"C:\\Users\\Apex\\AppData\\Roaming\\Python\\Python38\\site-packages\\sklearn\\tree\\_classes.py\", line 890, in fit\n",
      "    super().fit(\n",
      "  File \"C:\\Users\\Apex\\AppData\\Roaming\\Python\\Python38\\site-packages\\sklearn\\tree\\_classes.py\", line 255, in fit\n",
      "    raise ValueError(\"Invalid value for max_features. \"\n",
      "ValueError: Invalid value for max_features. Allowed string values are 'auto', 'sqrt' or 'log2'.\n",
      "\n",
      "  warnings.warn(\"Estimator fit failed. The score on this train-test\"\n",
      "C:\\Users\\Apex\\AppData\\Roaming\\Python\\Python38\\site-packages\\sklearn\\model_selection\\_validation.py:548: FitFailedWarning: Estimator fit failed. The score on this train-test partition for these parameters will be set to nan. Details: \n",
      "Traceback (most recent call last):\n",
      "  File \"C:\\Users\\Apex\\AppData\\Roaming\\Python\\Python38\\site-packages\\sklearn\\model_selection\\_validation.py\", line 531, in _fit_and_score\n",
      "    estimator.fit(X_train, y_train, **fit_params)\n",
      "  File \"C:\\Users\\Apex\\AppData\\Roaming\\Python\\Python38\\site-packages\\sklearn\\tree\\_classes.py\", line 890, in fit\n",
      "    super().fit(\n",
      "  File \"C:\\Users\\Apex\\AppData\\Roaming\\Python\\Python38\\site-packages\\sklearn\\tree\\_classes.py\", line 255, in fit\n",
      "    raise ValueError(\"Invalid value for max_features. \"\n",
      "ValueError: Invalid value for max_features. Allowed string values are 'auto', 'sqrt' or 'log2'.\n",
      "\n",
      "  warnings.warn(\"Estimator fit failed. The score on this train-test\"\n",
      "C:\\Users\\Apex\\AppData\\Roaming\\Python\\Python38\\site-packages\\sklearn\\model_selection\\_validation.py:548: FitFailedWarning: Estimator fit failed. The score on this train-test partition for these parameters will be set to nan. Details: \n",
      "Traceback (most recent call last):\n",
      "  File \"C:\\Users\\Apex\\AppData\\Roaming\\Python\\Python38\\site-packages\\sklearn\\model_selection\\_validation.py\", line 531, in _fit_and_score\n",
      "    estimator.fit(X_train, y_train, **fit_params)\n",
      "  File \"C:\\Users\\Apex\\AppData\\Roaming\\Python\\Python38\\site-packages\\sklearn\\tree\\_classes.py\", line 890, in fit\n",
      "    super().fit(\n",
      "  File \"C:\\Users\\Apex\\AppData\\Roaming\\Python\\Python38\\site-packages\\sklearn\\tree\\_classes.py\", line 255, in fit\n",
      "    raise ValueError(\"Invalid value for max_features. \"\n",
      "ValueError: Invalid value for max_features. Allowed string values are 'auto', 'sqrt' or 'log2'.\n",
      "\n",
      "  warnings.warn(\"Estimator fit failed. The score on this train-test\"\n"
     ]
    },
    {
     "name": "stdout",
     "output_type": "stream",
     "text": [
      "[CV]  criterion=gini, max_depth=107, max_features=, random_state=4, score=nan, total=   0.0s\n",
      "[CV] criterion=gini, max_depth=107, max_features=, random_state=4 ....\n",
      "[CV]  criterion=gini, max_depth=107, max_features=, random_state=4, score=nan, total=   0.0s\n",
      "[CV] criterion=gini, max_depth=107, max_features=, random_state=4 ....\n",
      "[CV]  criterion=gini, max_depth=107, max_features=, random_state=4, score=nan, total=   0.0s\n",
      "[CV] criterion=gini, max_depth=107, max_features=, random_state=4 ....\n",
      "[CV]  criterion=gini, max_depth=107, max_features=, random_state=4, score=nan, total=   0.0s\n",
      "[CV] criterion=gini, max_depth=107, max_features=, random_state=5 ....\n",
      "[CV]  criterion=gini, max_depth=107, max_features=, random_state=5, score=nan, total=   0.0s\n",
      "[CV] criterion=gini, max_depth=107, max_features=, random_state=5 ....\n",
      "[CV]  criterion=gini, max_depth=107, max_features=, random_state=5, score=nan, total=   0.0s\n",
      "[CV] criterion=gini, max_depth=107, max_features=, random_state=5 ....\n",
      "[CV]  criterion=gini, max_depth=107, max_features=, random_state=5, score=nan, total=   0.0s\n",
      "[CV] criterion=gini, max_depth=107, max_features=, random_state=5 ....\n",
      "[CV]  criterion=gini, max_depth=107, max_features=, random_state=5, score=nan, total=   0.0s\n",
      "[CV] criterion=gini, max_depth=107, max_features=, random_state=5 ....\n",
      "[CV]  criterion=gini, max_depth=107, max_features=, random_state=5, score=nan, total=   0.0s\n",
      "[CV] criterion=gini, max_depth=107, max_features=, random_state=6 ....\n",
      "[CV]  criterion=gini, max_depth=107, max_features=, random_state=6, score=nan, total=   0.0s\n",
      "[CV] criterion=gini, max_depth=107, max_features=, random_state=6 ....\n",
      "[CV]  criterion=gini, max_depth=107, max_features=, random_state=6, score=nan, total=   0.0s\n",
      "[CV] criterion=gini, max_depth=107, max_features=, random_state=6 ....\n",
      "[CV]  criterion=gini, max_depth=107, max_features=, random_state=6, score=nan, total=   0.0s\n",
      "[CV] criterion=gini, max_depth=107, max_features=, random_state=6 ....\n",
      "[CV]  criterion=gini, max_depth=107, max_features=, random_state=6, score=nan, total=   0.0s\n",
      "[CV] criterion=gini, max_depth=107, max_features=, random_state=6 ....\n",
      "[CV]  criterion=gini, max_depth=107, max_features=, random_state=6, score=nan, total=   0.0s\n",
      "[CV] criterion=gini, max_depth=107, max_features=, random_state=7 ....\n",
      "[CV]  criterion=gini, max_depth=107, max_features=, random_state=7, score=nan, total=   0.0s\n",
      "[CV] criterion=gini, max_depth=107, max_features=, random_state=7 ....\n",
      "[CV]  criterion=gini, max_depth=107, max_features=, random_state=7, score=nan, total=   0.0s\n",
      "[CV] criterion=gini, max_depth=107, max_features=, random_state=7 ....\n",
      "[CV]  criterion=gini, max_depth=107, max_features=, random_state=7, score=nan, total=   0.0s\n",
      "[CV] criterion=gini, max_depth=107, max_features=, random_state=7 ....\n",
      "[CV]  criterion=gini, max_depth=107, max_features=, random_state=7, score=nan, total=   0.0s\n",
      "[CV] criterion=gini, max_depth=107, max_features=, random_state=7 ....\n"
     ]
    },
    {
     "name": "stderr",
     "output_type": "stream",
     "text": [
      "C:\\Users\\Apex\\AppData\\Roaming\\Python\\Python38\\site-packages\\sklearn\\model_selection\\_validation.py:548: FitFailedWarning: Estimator fit failed. The score on this train-test partition for these parameters will be set to nan. Details: \n",
      "Traceback (most recent call last):\n",
      "  File \"C:\\Users\\Apex\\AppData\\Roaming\\Python\\Python38\\site-packages\\sklearn\\model_selection\\_validation.py\", line 531, in _fit_and_score\n",
      "    estimator.fit(X_train, y_train, **fit_params)\n",
      "  File \"C:\\Users\\Apex\\AppData\\Roaming\\Python\\Python38\\site-packages\\sklearn\\tree\\_classes.py\", line 890, in fit\n",
      "    super().fit(\n",
      "  File \"C:\\Users\\Apex\\AppData\\Roaming\\Python\\Python38\\site-packages\\sklearn\\tree\\_classes.py\", line 255, in fit\n",
      "    raise ValueError(\"Invalid value for max_features. \"\n",
      "ValueError: Invalid value for max_features. Allowed string values are 'auto', 'sqrt' or 'log2'.\n",
      "\n",
      "  warnings.warn(\"Estimator fit failed. The score on this train-test\"\n",
      "C:\\Users\\Apex\\AppData\\Roaming\\Python\\Python38\\site-packages\\sklearn\\model_selection\\_validation.py:548: FitFailedWarning: Estimator fit failed. The score on this train-test partition for these parameters will be set to nan. Details: \n",
      "Traceback (most recent call last):\n",
      "  File \"C:\\Users\\Apex\\AppData\\Roaming\\Python\\Python38\\site-packages\\sklearn\\model_selection\\_validation.py\", line 531, in _fit_and_score\n",
      "    estimator.fit(X_train, y_train, **fit_params)\n",
      "  File \"C:\\Users\\Apex\\AppData\\Roaming\\Python\\Python38\\site-packages\\sklearn\\tree\\_classes.py\", line 890, in fit\n",
      "    super().fit(\n",
      "  File \"C:\\Users\\Apex\\AppData\\Roaming\\Python\\Python38\\site-packages\\sklearn\\tree\\_classes.py\", line 255, in fit\n",
      "    raise ValueError(\"Invalid value for max_features. \"\n",
      "ValueError: Invalid value for max_features. Allowed string values are 'auto', 'sqrt' or 'log2'.\n",
      "\n",
      "  warnings.warn(\"Estimator fit failed. The score on this train-test\"\n",
      "C:\\Users\\Apex\\AppData\\Roaming\\Python\\Python38\\site-packages\\sklearn\\model_selection\\_validation.py:548: FitFailedWarning: Estimator fit failed. The score on this train-test partition for these parameters will be set to nan. Details: \n",
      "Traceback (most recent call last):\n",
      "  File \"C:\\Users\\Apex\\AppData\\Roaming\\Python\\Python38\\site-packages\\sklearn\\model_selection\\_validation.py\", line 531, in _fit_and_score\n",
      "    estimator.fit(X_train, y_train, **fit_params)\n",
      "  File \"C:\\Users\\Apex\\AppData\\Roaming\\Python\\Python38\\site-packages\\sklearn\\tree\\_classes.py\", line 890, in fit\n",
      "    super().fit(\n",
      "  File \"C:\\Users\\Apex\\AppData\\Roaming\\Python\\Python38\\site-packages\\sklearn\\tree\\_classes.py\", line 255, in fit\n",
      "    raise ValueError(\"Invalid value for max_features. \"\n",
      "ValueError: Invalid value for max_features. Allowed string values are 'auto', 'sqrt' or 'log2'.\n",
      "\n",
      "  warnings.warn(\"Estimator fit failed. The score on this train-test\"\n",
      "C:\\Users\\Apex\\AppData\\Roaming\\Python\\Python38\\site-packages\\sklearn\\model_selection\\_validation.py:548: FitFailedWarning: Estimator fit failed. The score on this train-test partition for these parameters will be set to nan. Details: \n",
      "Traceback (most recent call last):\n",
      "  File \"C:\\Users\\Apex\\AppData\\Roaming\\Python\\Python38\\site-packages\\sklearn\\model_selection\\_validation.py\", line 531, in _fit_and_score\n",
      "    estimator.fit(X_train, y_train, **fit_params)\n",
      "  File \"C:\\Users\\Apex\\AppData\\Roaming\\Python\\Python38\\site-packages\\sklearn\\tree\\_classes.py\", line 890, in fit\n",
      "    super().fit(\n",
      "  File \"C:\\Users\\Apex\\AppData\\Roaming\\Python\\Python38\\site-packages\\sklearn\\tree\\_classes.py\", line 255, in fit\n",
      "    raise ValueError(\"Invalid value for max_features. \"\n",
      "ValueError: Invalid value for max_features. Allowed string values are 'auto', 'sqrt' or 'log2'.\n",
      "\n",
      "  warnings.warn(\"Estimator fit failed. The score on this train-test\"\n",
      "C:\\Users\\Apex\\AppData\\Roaming\\Python\\Python38\\site-packages\\sklearn\\model_selection\\_validation.py:548: FitFailedWarning: Estimator fit failed. The score on this train-test partition for these parameters will be set to nan. Details: \n",
      "Traceback (most recent call last):\n",
      "  File \"C:\\Users\\Apex\\AppData\\Roaming\\Python\\Python38\\site-packages\\sklearn\\model_selection\\_validation.py\", line 531, in _fit_and_score\n",
      "    estimator.fit(X_train, y_train, **fit_params)\n",
      "  File \"C:\\Users\\Apex\\AppData\\Roaming\\Python\\Python38\\site-packages\\sklearn\\tree\\_classes.py\", line 890, in fit\n",
      "    super().fit(\n",
      "  File \"C:\\Users\\Apex\\AppData\\Roaming\\Python\\Python38\\site-packages\\sklearn\\tree\\_classes.py\", line 255, in fit\n",
      "    raise ValueError(\"Invalid value for max_features. \"\n",
      "ValueError: Invalid value for max_features. Allowed string values are 'auto', 'sqrt' or 'log2'.\n",
      "\n",
      "  warnings.warn(\"Estimator fit failed. The score on this train-test\"\n",
      "C:\\Users\\Apex\\AppData\\Roaming\\Python\\Python38\\site-packages\\sklearn\\model_selection\\_validation.py:548: FitFailedWarning: Estimator fit failed. The score on this train-test partition for these parameters will be set to nan. Details: \n",
      "Traceback (most recent call last):\n",
      "  File \"C:\\Users\\Apex\\AppData\\Roaming\\Python\\Python38\\site-packages\\sklearn\\model_selection\\_validation.py\", line 531, in _fit_and_score\n",
      "    estimator.fit(X_train, y_train, **fit_params)\n",
      "  File \"C:\\Users\\Apex\\AppData\\Roaming\\Python\\Python38\\site-packages\\sklearn\\tree\\_classes.py\", line 890, in fit\n",
      "    super().fit(\n",
      "  File \"C:\\Users\\Apex\\AppData\\Roaming\\Python\\Python38\\site-packages\\sklearn\\tree\\_classes.py\", line 255, in fit\n",
      "    raise ValueError(\"Invalid value for max_features. \"\n",
      "ValueError: Invalid value for max_features. Allowed string values are 'auto', 'sqrt' or 'log2'.\n",
      "\n",
      "  warnings.warn(\"Estimator fit failed. The score on this train-test\"\n",
      "C:\\Users\\Apex\\AppData\\Roaming\\Python\\Python38\\site-packages\\sklearn\\model_selection\\_validation.py:548: FitFailedWarning: Estimator fit failed. The score on this train-test partition for these parameters will be set to nan. Details: \n",
      "Traceback (most recent call last):\n",
      "  File \"C:\\Users\\Apex\\AppData\\Roaming\\Python\\Python38\\site-packages\\sklearn\\model_selection\\_validation.py\", line 531, in _fit_and_score\n",
      "    estimator.fit(X_train, y_train, **fit_params)\n",
      "  File \"C:\\Users\\Apex\\AppData\\Roaming\\Python\\Python38\\site-packages\\sklearn\\tree\\_classes.py\", line 890, in fit\n",
      "    super().fit(\n",
      "  File \"C:\\Users\\Apex\\AppData\\Roaming\\Python\\Python38\\site-packages\\sklearn\\tree\\_classes.py\", line 255, in fit\n",
      "    raise ValueError(\"Invalid value for max_features. \"\n",
      "ValueError: Invalid value for max_features. Allowed string values are 'auto', 'sqrt' or 'log2'.\n",
      "\n",
      "  warnings.warn(\"Estimator fit failed. The score on this train-test\"\n",
      "C:\\Users\\Apex\\AppData\\Roaming\\Python\\Python38\\site-packages\\sklearn\\model_selection\\_validation.py:548: FitFailedWarning: Estimator fit failed. The score on this train-test partition for these parameters will be set to nan. Details: \n",
      "Traceback (most recent call last):\n",
      "  File \"C:\\Users\\Apex\\AppData\\Roaming\\Python\\Python38\\site-packages\\sklearn\\model_selection\\_validation.py\", line 531, in _fit_and_score\n",
      "    estimator.fit(X_train, y_train, **fit_params)\n",
      "  File \"C:\\Users\\Apex\\AppData\\Roaming\\Python\\Python38\\site-packages\\sklearn\\tree\\_classes.py\", line 890, in fit\n",
      "    super().fit(\n",
      "  File \"C:\\Users\\Apex\\AppData\\Roaming\\Python\\Python38\\site-packages\\sklearn\\tree\\_classes.py\", line 255, in fit\n",
      "    raise ValueError(\"Invalid value for max_features. \"\n",
      "ValueError: Invalid value for max_features. Allowed string values are 'auto', 'sqrt' or 'log2'.\n",
      "\n",
      "  warnings.warn(\"Estimator fit failed. The score on this train-test\"\n",
      "C:\\Users\\Apex\\AppData\\Roaming\\Python\\Python38\\site-packages\\sklearn\\model_selection\\_validation.py:548: FitFailedWarning: Estimator fit failed. The score on this train-test partition for these parameters will be set to nan. Details: \n",
      "Traceback (most recent call last):\n",
      "  File \"C:\\Users\\Apex\\AppData\\Roaming\\Python\\Python38\\site-packages\\sklearn\\model_selection\\_validation.py\", line 531, in _fit_and_score\n",
      "    estimator.fit(X_train, y_train, **fit_params)\n",
      "  File \"C:\\Users\\Apex\\AppData\\Roaming\\Python\\Python38\\site-packages\\sklearn\\tree\\_classes.py\", line 890, in fit\n",
      "    super().fit(\n",
      "  File \"C:\\Users\\Apex\\AppData\\Roaming\\Python\\Python38\\site-packages\\sklearn\\tree\\_classes.py\", line 255, in fit\n",
      "    raise ValueError(\"Invalid value for max_features. \"\n",
      "ValueError: Invalid value for max_features. Allowed string values are 'auto', 'sqrt' or 'log2'.\n",
      "\n",
      "  warnings.warn(\"Estimator fit failed. The score on this train-test\"\n",
      "C:\\Users\\Apex\\AppData\\Roaming\\Python\\Python38\\site-packages\\sklearn\\model_selection\\_validation.py:548: FitFailedWarning: Estimator fit failed. The score on this train-test partition for these parameters will be set to nan. Details: \n",
      "Traceback (most recent call last):\n",
      "  File \"C:\\Users\\Apex\\AppData\\Roaming\\Python\\Python38\\site-packages\\sklearn\\model_selection\\_validation.py\", line 531, in _fit_and_score\n",
      "    estimator.fit(X_train, y_train, **fit_params)\n",
      "  File \"C:\\Users\\Apex\\AppData\\Roaming\\Python\\Python38\\site-packages\\sklearn\\tree\\_classes.py\", line 890, in fit\n",
      "    super().fit(\n",
      "  File \"C:\\Users\\Apex\\AppData\\Roaming\\Python\\Python38\\site-packages\\sklearn\\tree\\_classes.py\", line 255, in fit\n",
      "    raise ValueError(\"Invalid value for max_features. \"\n",
      "ValueError: Invalid value for max_features. Allowed string values are 'auto', 'sqrt' or 'log2'.\n",
      "\n",
      "  warnings.warn(\"Estimator fit failed. The score on this train-test\"\n",
      "C:\\Users\\Apex\\AppData\\Roaming\\Python\\Python38\\site-packages\\sklearn\\model_selection\\_validation.py:548: FitFailedWarning: Estimator fit failed. The score on this train-test partition for these parameters will be set to nan. Details: \n",
      "Traceback (most recent call last):\n",
      "  File \"C:\\Users\\Apex\\AppData\\Roaming\\Python\\Python38\\site-packages\\sklearn\\model_selection\\_validation.py\", line 531, in _fit_and_score\n",
      "    estimator.fit(X_train, y_train, **fit_params)\n",
      "  File \"C:\\Users\\Apex\\AppData\\Roaming\\Python\\Python38\\site-packages\\sklearn\\tree\\_classes.py\", line 890, in fit\n",
      "    super().fit(\n",
      "  File \"C:\\Users\\Apex\\AppData\\Roaming\\Python\\Python38\\site-packages\\sklearn\\tree\\_classes.py\", line 255, in fit\n",
      "    raise ValueError(\"Invalid value for max_features. \"\n",
      "ValueError: Invalid value for max_features. Allowed string values are 'auto', 'sqrt' or 'log2'.\n",
      "\n",
      "  warnings.warn(\"Estimator fit failed. The score on this train-test\"\n",
      "C:\\Users\\Apex\\AppData\\Roaming\\Python\\Python38\\site-packages\\sklearn\\model_selection\\_validation.py:548: FitFailedWarning: Estimator fit failed. The score on this train-test partition for these parameters will be set to nan. Details: \n",
      "Traceback (most recent call last):\n",
      "  File \"C:\\Users\\Apex\\AppData\\Roaming\\Python\\Python38\\site-packages\\sklearn\\model_selection\\_validation.py\", line 531, in _fit_and_score\n",
      "    estimator.fit(X_train, y_train, **fit_params)\n",
      "  File \"C:\\Users\\Apex\\AppData\\Roaming\\Python\\Python38\\site-packages\\sklearn\\tree\\_classes.py\", line 890, in fit\n",
      "    super().fit(\n",
      "  File \"C:\\Users\\Apex\\AppData\\Roaming\\Python\\Python38\\site-packages\\sklearn\\tree\\_classes.py\", line 255, in fit\n",
      "    raise ValueError(\"Invalid value for max_features. \"\n",
      "ValueError: Invalid value for max_features. Allowed string values are 'auto', 'sqrt' or 'log2'.\n",
      "\n",
      "  warnings.warn(\"Estimator fit failed. The score on this train-test\"\n",
      "C:\\Users\\Apex\\AppData\\Roaming\\Python\\Python38\\site-packages\\sklearn\\model_selection\\_validation.py:548: FitFailedWarning: Estimator fit failed. The score on this train-test partition for these parameters will be set to nan. Details: \n",
      "Traceback (most recent call last):\n",
      "  File \"C:\\Users\\Apex\\AppData\\Roaming\\Python\\Python38\\site-packages\\sklearn\\model_selection\\_validation.py\", line 531, in _fit_and_score\n",
      "    estimator.fit(X_train, y_train, **fit_params)\n",
      "  File \"C:\\Users\\Apex\\AppData\\Roaming\\Python\\Python38\\site-packages\\sklearn\\tree\\_classes.py\", line 890, in fit\n",
      "    super().fit(\n",
      "  File \"C:\\Users\\Apex\\AppData\\Roaming\\Python\\Python38\\site-packages\\sklearn\\tree\\_classes.py\", line 255, in fit\n",
      "    raise ValueError(\"Invalid value for max_features. \"\n",
      "ValueError: Invalid value for max_features. Allowed string values are 'auto', 'sqrt' or 'log2'.\n",
      "\n",
      "  warnings.warn(\"Estimator fit failed. The score on this train-test\"\n",
      "C:\\Users\\Apex\\AppData\\Roaming\\Python\\Python38\\site-packages\\sklearn\\model_selection\\_validation.py:548: FitFailedWarning: Estimator fit failed. The score on this train-test partition for these parameters will be set to nan. Details: \n",
      "Traceback (most recent call last):\n",
      "  File \"C:\\Users\\Apex\\AppData\\Roaming\\Python\\Python38\\site-packages\\sklearn\\model_selection\\_validation.py\", line 531, in _fit_and_score\n",
      "    estimator.fit(X_train, y_train, **fit_params)\n",
      "  File \"C:\\Users\\Apex\\AppData\\Roaming\\Python\\Python38\\site-packages\\sklearn\\tree\\_classes.py\", line 890, in fit\n",
      "    super().fit(\n",
      "  File \"C:\\Users\\Apex\\AppData\\Roaming\\Python\\Python38\\site-packages\\sklearn\\tree\\_classes.py\", line 255, in fit\n",
      "    raise ValueError(\"Invalid value for max_features. \"\n",
      "ValueError: Invalid value for max_features. Allowed string values are 'auto', 'sqrt' or 'log2'.\n",
      "\n",
      "  warnings.warn(\"Estimator fit failed. The score on this train-test\"\n",
      "C:\\Users\\Apex\\AppData\\Roaming\\Python\\Python38\\site-packages\\sklearn\\model_selection\\_validation.py:548: FitFailedWarning: Estimator fit failed. The score on this train-test partition for these parameters will be set to nan. Details: \n",
      "Traceback (most recent call last):\n",
      "  File \"C:\\Users\\Apex\\AppData\\Roaming\\Python\\Python38\\site-packages\\sklearn\\model_selection\\_validation.py\", line 531, in _fit_and_score\n",
      "    estimator.fit(X_train, y_train, **fit_params)\n",
      "  File \"C:\\Users\\Apex\\AppData\\Roaming\\Python\\Python38\\site-packages\\sklearn\\tree\\_classes.py\", line 890, in fit\n",
      "    super().fit(\n",
      "  File \"C:\\Users\\Apex\\AppData\\Roaming\\Python\\Python38\\site-packages\\sklearn\\tree\\_classes.py\", line 255, in fit\n",
      "    raise ValueError(\"Invalid value for max_features. \"\n",
      "ValueError: Invalid value for max_features. Allowed string values are 'auto', 'sqrt' or 'log2'.\n",
      "\n",
      "  warnings.warn(\"Estimator fit failed. The score on this train-test\"\n",
      "C:\\Users\\Apex\\AppData\\Roaming\\Python\\Python38\\site-packages\\sklearn\\model_selection\\_validation.py:548: FitFailedWarning: Estimator fit failed. The score on this train-test partition for these parameters will be set to nan. Details: \n",
      "Traceback (most recent call last):\n",
      "  File \"C:\\Users\\Apex\\AppData\\Roaming\\Python\\Python38\\site-packages\\sklearn\\model_selection\\_validation.py\", line 531, in _fit_and_score\n",
      "    estimator.fit(X_train, y_train, **fit_params)\n",
      "  File \"C:\\Users\\Apex\\AppData\\Roaming\\Python\\Python38\\site-packages\\sklearn\\tree\\_classes.py\", line 890, in fit\n",
      "    super().fit(\n",
      "  File \"C:\\Users\\Apex\\AppData\\Roaming\\Python\\Python38\\site-packages\\sklearn\\tree\\_classes.py\", line 255, in fit\n",
      "    raise ValueError(\"Invalid value for max_features. \"\n",
      "ValueError: Invalid value for max_features. Allowed string values are 'auto', 'sqrt' or 'log2'.\n",
      "\n",
      "  warnings.warn(\"Estimator fit failed. The score on this train-test\"\n",
      "C:\\Users\\Apex\\AppData\\Roaming\\Python\\Python38\\site-packages\\sklearn\\model_selection\\_validation.py:548: FitFailedWarning: Estimator fit failed. The score on this train-test partition for these parameters will be set to nan. Details: \n",
      "Traceback (most recent call last):\n",
      "  File \"C:\\Users\\Apex\\AppData\\Roaming\\Python\\Python38\\site-packages\\sklearn\\model_selection\\_validation.py\", line 531, in _fit_and_score\n",
      "    estimator.fit(X_train, y_train, **fit_params)\n",
      "  File \"C:\\Users\\Apex\\AppData\\Roaming\\Python\\Python38\\site-packages\\sklearn\\tree\\_classes.py\", line 890, in fit\n",
      "    super().fit(\n",
      "  File \"C:\\Users\\Apex\\AppData\\Roaming\\Python\\Python38\\site-packages\\sklearn\\tree\\_classes.py\", line 255, in fit\n",
      "    raise ValueError(\"Invalid value for max_features. \"\n",
      "ValueError: Invalid value for max_features. Allowed string values are 'auto', 'sqrt' or 'log2'.\n",
      "\n",
      "  warnings.warn(\"Estimator fit failed. The score on this train-test\"\n"
     ]
    },
    {
     "name": "stdout",
     "output_type": "stream",
     "text": [
      "[CV]  criterion=gini, max_depth=107, max_features=, random_state=7, score=nan, total=   0.0s\n",
      "[CV] criterion=gini, max_depth=107, max_features=, random_state=8 ....\n",
      "[CV]  criterion=gini, max_depth=107, max_features=, random_state=8, score=nan, total=   0.0s\n",
      "[CV] criterion=gini, max_depth=107, max_features=, random_state=8 ....\n",
      "[CV]  criterion=gini, max_depth=107, max_features=, random_state=8, score=nan, total=   0.0s\n",
      "[CV] criterion=gini, max_depth=107, max_features=, random_state=8 ....\n",
      "[CV]  criterion=gini, max_depth=107, max_features=, random_state=8, score=nan, total=   0.0s\n",
      "[CV] criterion=gini, max_depth=107, max_features=, random_state=8 ....\n",
      "[CV]  criterion=gini, max_depth=107, max_features=, random_state=8, score=nan, total=   0.0s\n",
      "[CV] criterion=gini, max_depth=107, max_features=, random_state=8 ....\n",
      "[CV]  criterion=gini, max_depth=107, max_features=, random_state=8, score=nan, total=   0.0s\n",
      "[CV] criterion=gini, max_depth=107, max_features=, random_state=9 ....\n",
      "[CV]  criterion=gini, max_depth=107, max_features=, random_state=9, score=nan, total=   0.0s\n",
      "[CV] criterion=gini, max_depth=107, max_features=, random_state=9 ....\n",
      "[CV]  criterion=gini, max_depth=107, max_features=, random_state=9, score=nan, total=   0.0s\n",
      "[CV] criterion=gini, max_depth=107, max_features=, random_state=9 ....\n",
      "[CV]  criterion=gini, max_depth=107, max_features=, random_state=9, score=nan, total=   0.0s\n",
      "[CV] criterion=gini, max_depth=107, max_features=, random_state=9 ....\n",
      "[CV]  criterion=gini, max_depth=107, max_features=, random_state=9, score=nan, total=   0.0s\n",
      "[CV] criterion=gini, max_depth=107, max_features=, random_state=9 ....\n",
      "[CV]  criterion=gini, max_depth=107, max_features=, random_state=9, score=nan, total=   0.0s\n",
      "[CV] criterion=entropy, max_depth=107, max_features=auto, random_state=1 \n",
      "[CV]  criterion=entropy, max_depth=107, max_features=auto, random_state=1, score=0.504, total=   0.0s\n",
      "[CV] criterion=entropy, max_depth=107, max_features=auto, random_state=1 \n",
      "[CV]  criterion=entropy, max_depth=107, max_features=auto, random_state=1, score=0.500, total=   0.0s\n",
      "[CV] criterion=entropy, max_depth=107, max_features=auto, random_state=1 \n",
      "[CV]  criterion=entropy, max_depth=107, max_features=auto, random_state=1, score=0.510, total=   0.0s\n",
      "[CV] criterion=entropy, max_depth=107, max_features=auto, random_state=1 \n",
      "[CV]  criterion=entropy, max_depth=107, max_features=auto, random_state=1, score=0.504, total=   0.0s\n",
      "[CV] criterion=entropy, max_depth=107, max_features=auto, random_state=1 \n"
     ]
    },
    {
     "name": "stderr",
     "output_type": "stream",
     "text": [
      "C:\\Users\\Apex\\AppData\\Roaming\\Python\\Python38\\site-packages\\sklearn\\model_selection\\_validation.py:548: FitFailedWarning: Estimator fit failed. The score on this train-test partition for these parameters will be set to nan. Details: \n",
      "Traceback (most recent call last):\n",
      "  File \"C:\\Users\\Apex\\AppData\\Roaming\\Python\\Python38\\site-packages\\sklearn\\model_selection\\_validation.py\", line 531, in _fit_and_score\n",
      "    estimator.fit(X_train, y_train, **fit_params)\n",
      "  File \"C:\\Users\\Apex\\AppData\\Roaming\\Python\\Python38\\site-packages\\sklearn\\tree\\_classes.py\", line 890, in fit\n",
      "    super().fit(\n",
      "  File \"C:\\Users\\Apex\\AppData\\Roaming\\Python\\Python38\\site-packages\\sklearn\\tree\\_classes.py\", line 255, in fit\n",
      "    raise ValueError(\"Invalid value for max_features. \"\n",
      "ValueError: Invalid value for max_features. Allowed string values are 'auto', 'sqrt' or 'log2'.\n",
      "\n",
      "  warnings.warn(\"Estimator fit failed. The score on this train-test\"\n",
      "C:\\Users\\Apex\\AppData\\Roaming\\Python\\Python38\\site-packages\\sklearn\\model_selection\\_validation.py:548: FitFailedWarning: Estimator fit failed. The score on this train-test partition for these parameters will be set to nan. Details: \n",
      "Traceback (most recent call last):\n",
      "  File \"C:\\Users\\Apex\\AppData\\Roaming\\Python\\Python38\\site-packages\\sklearn\\model_selection\\_validation.py\", line 531, in _fit_and_score\n",
      "    estimator.fit(X_train, y_train, **fit_params)\n",
      "  File \"C:\\Users\\Apex\\AppData\\Roaming\\Python\\Python38\\site-packages\\sklearn\\tree\\_classes.py\", line 890, in fit\n",
      "    super().fit(\n",
      "  File \"C:\\Users\\Apex\\AppData\\Roaming\\Python\\Python38\\site-packages\\sklearn\\tree\\_classes.py\", line 255, in fit\n",
      "    raise ValueError(\"Invalid value for max_features. \"\n",
      "ValueError: Invalid value for max_features. Allowed string values are 'auto', 'sqrt' or 'log2'.\n",
      "\n",
      "  warnings.warn(\"Estimator fit failed. The score on this train-test\"\n",
      "C:\\Users\\Apex\\AppData\\Roaming\\Python\\Python38\\site-packages\\sklearn\\model_selection\\_validation.py:548: FitFailedWarning: Estimator fit failed. The score on this train-test partition for these parameters will be set to nan. Details: \n",
      "Traceback (most recent call last):\n",
      "  File \"C:\\Users\\Apex\\AppData\\Roaming\\Python\\Python38\\site-packages\\sklearn\\model_selection\\_validation.py\", line 531, in _fit_and_score\n",
      "    estimator.fit(X_train, y_train, **fit_params)\n",
      "  File \"C:\\Users\\Apex\\AppData\\Roaming\\Python\\Python38\\site-packages\\sklearn\\tree\\_classes.py\", line 890, in fit\n",
      "    super().fit(\n",
      "  File \"C:\\Users\\Apex\\AppData\\Roaming\\Python\\Python38\\site-packages\\sklearn\\tree\\_classes.py\", line 255, in fit\n",
      "    raise ValueError(\"Invalid value for max_features. \"\n",
      "ValueError: Invalid value for max_features. Allowed string values are 'auto', 'sqrt' or 'log2'.\n",
      "\n",
      "  warnings.warn(\"Estimator fit failed. The score on this train-test\"\n"
     ]
    },
    {
     "name": "stdout",
     "output_type": "stream",
     "text": [
      "[CV]  criterion=entropy, max_depth=107, max_features=auto, random_state=1, score=0.545, total=   0.0s\n",
      "[CV] criterion=entropy, max_depth=107, max_features=auto, random_state=2 \n",
      "[CV]  criterion=entropy, max_depth=107, max_features=auto, random_state=2, score=0.500, total=   0.0s\n",
      "[CV] criterion=entropy, max_depth=107, max_features=auto, random_state=2 \n",
      "[CV]  criterion=entropy, max_depth=107, max_features=auto, random_state=2, score=0.512, total=   0.0s\n",
      "[CV] criterion=entropy, max_depth=107, max_features=auto, random_state=2 \n",
      "[CV]  criterion=entropy, max_depth=107, max_features=auto, random_state=2, score=0.522, total=   0.1s\n",
      "[CV] criterion=entropy, max_depth=107, max_features=auto, random_state=2 \n",
      "[CV]  criterion=entropy, max_depth=107, max_features=auto, random_state=2, score=0.546, total=   0.0s\n",
      "[CV] criterion=entropy, max_depth=107, max_features=auto, random_state=2 \n",
      "[CV]  criterion=entropy, max_depth=107, max_features=auto, random_state=2, score=0.461, total=   0.0s\n",
      "[CV] criterion=entropy, max_depth=107, max_features=auto, random_state=3 \n",
      "[CV]  criterion=entropy, max_depth=107, max_features=auto, random_state=3, score=0.478, total=   0.0s\n",
      "[CV] criterion=entropy, max_depth=107, max_features=auto, random_state=3 \n",
      "[CV]  criterion=entropy, max_depth=107, max_features=auto, random_state=3, score=0.492, total=   0.0s\n",
      "[CV] criterion=entropy, max_depth=107, max_features=auto, random_state=3 \n",
      "[CV]  criterion=entropy, max_depth=107, max_features=auto, random_state=3, score=0.492, total=   0.0s\n",
      "[CV] criterion=entropy, max_depth=107, max_features=auto, random_state=3 \n",
      "[CV]  criterion=entropy, max_depth=107, max_features=auto, random_state=3, score=0.520, total=   0.0s\n",
      "[CV] criterion=entropy, max_depth=107, max_features=auto, random_state=3 \n",
      "[CV]  criterion=entropy, max_depth=107, max_features=auto, random_state=3, score=0.505, total=   0.0s\n",
      "[CV] criterion=entropy, max_depth=107, max_features=auto, random_state=4 \n",
      "[CV]  criterion=entropy, max_depth=107, max_features=auto, random_state=4, score=0.508, total=   0.0s\n",
      "[CV] criterion=entropy, max_depth=107, max_features=auto, random_state=4 \n",
      "[CV]  criterion=entropy, max_depth=107, max_features=auto, random_state=4, score=0.498, total=   0.0s\n",
      "[CV] criterion=entropy, max_depth=107, max_features=auto, random_state=4 \n",
      "[CV]  criterion=entropy, max_depth=107, max_features=auto, random_state=4, score=0.464, total=   0.0s\n",
      "[CV] criterion=entropy, max_depth=107, max_features=auto, random_state=4 \n",
      "[CV]  criterion=entropy, max_depth=107, max_features=auto, random_state=4, score=0.498, total=   0.0s\n",
      "[CV] criterion=entropy, max_depth=107, max_features=auto, random_state=4 \n",
      "[CV]  criterion=entropy, max_depth=107, max_features=auto, random_state=4, score=0.455, total=   0.0s\n",
      "[CV] criterion=entropy, max_depth=107, max_features=auto, random_state=5 \n",
      "[CV]  criterion=entropy, max_depth=107, max_features=auto, random_state=5, score=0.478, total=   0.0s\n",
      "[CV] criterion=entropy, max_depth=107, max_features=auto, random_state=5 \n",
      "[CV]  criterion=entropy, max_depth=107, max_features=auto, random_state=5, score=0.536, total=   0.0s\n",
      "[CV] criterion=entropy, max_depth=107, max_features=auto, random_state=5 \n",
      "[CV]  criterion=entropy, max_depth=107, max_features=auto, random_state=5, score=0.464, total=   0.0s\n",
      "[CV] criterion=entropy, max_depth=107, max_features=auto, random_state=5 \n",
      "[CV]  criterion=entropy, max_depth=107, max_features=auto, random_state=5, score=0.546, total=   0.0s\n",
      "[CV] criterion=entropy, max_depth=107, max_features=auto, random_state=5 \n",
      "[CV]  criterion=entropy, max_depth=107, max_features=auto, random_state=5, score=0.467, total=   0.0s\n",
      "[CV] criterion=entropy, max_depth=107, max_features=auto, random_state=6 \n",
      "[CV]  criterion=entropy, max_depth=107, max_features=auto, random_state=6, score=0.472, total=   0.0s\n",
      "[CV] criterion=entropy, max_depth=107, max_features=auto, random_state=6 \n",
      "[CV]  criterion=entropy, max_depth=107, max_features=auto, random_state=6, score=0.536, total=   0.0s\n",
      "[CV] criterion=entropy, max_depth=107, max_features=auto, random_state=6 \n",
      "[CV]  criterion=entropy, max_depth=107, max_features=auto, random_state=6, score=0.548, total=   0.0s\n",
      "[CV] criterion=entropy, max_depth=107, max_features=auto, random_state=6 \n",
      "[CV]  criterion=entropy, max_depth=107, max_features=auto, random_state=6, score=0.482, total=   0.0s\n",
      "[CV] criterion=entropy, max_depth=107, max_features=auto, random_state=6 \n",
      "[CV]  criterion=entropy, max_depth=107, max_features=auto, random_state=6, score=0.531, total=   0.0s\n",
      "[CV] criterion=entropy, max_depth=107, max_features=auto, random_state=7 \n",
      "[CV]  criterion=entropy, max_depth=107, max_features=auto, random_state=7, score=0.484, total=   0.0s\n",
      "[CV] criterion=entropy, max_depth=107, max_features=auto, random_state=7 \n",
      "[CV]  criterion=entropy, max_depth=107, max_features=auto, random_state=7, score=0.422, total=   0.0s\n",
      "[CV] criterion=entropy, max_depth=107, max_features=auto, random_state=7 \n",
      "[CV]  criterion=entropy, max_depth=107, max_features=auto, random_state=7, score=0.494, total=   0.0s\n",
      "[CV] criterion=entropy, max_depth=107, max_features=auto, random_state=7 \n",
      "[CV]  criterion=entropy, max_depth=107, max_features=auto, random_state=7, score=0.500, total=   0.0s\n",
      "[CV] criterion=entropy, max_depth=107, max_features=auto, random_state=7 \n",
      "[CV]  criterion=entropy, max_depth=107, max_features=auto, random_state=7, score=0.511, total=   0.0s\n",
      "[CV] criterion=entropy, max_depth=107, max_features=auto, random_state=8 \n",
      "[CV]  criterion=entropy, max_depth=107, max_features=auto, random_state=8, score=0.536, total=   0.0s\n",
      "[CV] criterion=entropy, max_depth=107, max_features=auto, random_state=8 \n",
      "[CV]  criterion=entropy, max_depth=107, max_features=auto, random_state=8, score=0.436, total=   0.0s\n",
      "[CV] criterion=entropy, max_depth=107, max_features=auto, random_state=8 \n",
      "[CV]  criterion=entropy, max_depth=107, max_features=auto, random_state=8, score=0.524, total=   0.0s\n",
      "[CV] criterion=entropy, max_depth=107, max_features=auto, random_state=8 \n",
      "[CV]  criterion=entropy, max_depth=107, max_features=auto, random_state=8, score=0.508, total=   0.0s\n",
      "[CV] criterion=entropy, max_depth=107, max_features=auto, random_state=8 \n",
      "[CV]  criterion=entropy, max_depth=107, max_features=auto, random_state=8, score=0.517, total=   0.0s\n",
      "[CV] criterion=entropy, max_depth=107, max_features=auto, random_state=9 \n",
      "[CV]  criterion=entropy, max_depth=107, max_features=auto, random_state=9, score=0.494, total=   0.0s\n",
      "[CV] criterion=entropy, max_depth=107, max_features=auto, random_state=9 \n",
      "[CV]  criterion=entropy, max_depth=107, max_features=auto, random_state=9, score=0.492, total=   0.0s\n",
      "[CV] criterion=entropy, max_depth=107, max_features=auto, random_state=9 \n",
      "[CV]  criterion=entropy, max_depth=107, max_features=auto, random_state=9, score=0.462, total=   0.0s\n",
      "[CV] criterion=entropy, max_depth=107, max_features=auto, random_state=9 \n",
      "[CV]  criterion=entropy, max_depth=107, max_features=auto, random_state=9, score=0.468, total=   0.0s\n",
      "[CV] criterion=entropy, max_depth=107, max_features=auto, random_state=9 \n",
      "[CV]  criterion=entropy, max_depth=107, max_features=auto, random_state=9, score=0.505, total=   0.0s\n",
      "[CV] criterion=entropy, max_depth=107, max_features=sqrt, random_state=1 \n",
      "[CV]  criterion=entropy, max_depth=107, max_features=sqrt, random_state=1, score=0.504, total=   0.0s\n",
      "[CV] criterion=entropy, max_depth=107, max_features=sqrt, random_state=1 \n",
      "[CV]  criterion=entropy, max_depth=107, max_features=sqrt, random_state=1, score=0.500, total=   0.0s\n",
      "[CV] criterion=entropy, max_depth=107, max_features=sqrt, random_state=1 \n",
      "[CV]  criterion=entropy, max_depth=107, max_features=sqrt, random_state=1, score=0.510, total=   0.0s\n",
      "[CV] criterion=entropy, max_depth=107, max_features=sqrt, random_state=1 \n",
      "[CV]  criterion=entropy, max_depth=107, max_features=sqrt, random_state=1, score=0.504, total=   0.0s\n",
      "[CV] criterion=entropy, max_depth=107, max_features=sqrt, random_state=1 \n",
      "[CV]  criterion=entropy, max_depth=107, max_features=sqrt, random_state=1, score=0.545, total=   0.0s\n",
      "[CV] criterion=entropy, max_depth=107, max_features=sqrt, random_state=2 \n",
      "[CV]  criterion=entropy, max_depth=107, max_features=sqrt, random_state=2, score=0.500, total=   0.0s\n",
      "[CV] criterion=entropy, max_depth=107, max_features=sqrt, random_state=2 \n",
      "[CV]  criterion=entropy, max_depth=107, max_features=sqrt, random_state=2, score=0.512, total=   0.0s\n",
      "[CV] criterion=entropy, max_depth=107, max_features=sqrt, random_state=2 \n",
      "[CV]  criterion=entropy, max_depth=107, max_features=sqrt, random_state=2, score=0.522, total=   0.0s\n",
      "[CV] criterion=entropy, max_depth=107, max_features=sqrt, random_state=2 \n",
      "[CV]  criterion=entropy, max_depth=107, max_features=sqrt, random_state=2, score=0.546, total=   0.0s\n",
      "[CV] criterion=entropy, max_depth=107, max_features=sqrt, random_state=2 \n",
      "[CV]  criterion=entropy, max_depth=107, max_features=sqrt, random_state=2, score=0.461, total=   0.0s\n",
      "[CV] criterion=entropy, max_depth=107, max_features=sqrt, random_state=3 \n",
      "[CV]  criterion=entropy, max_depth=107, max_features=sqrt, random_state=3, score=0.478, total=   0.0s\n",
      "[CV] criterion=entropy, max_depth=107, max_features=sqrt, random_state=3 \n",
      "[CV]  criterion=entropy, max_depth=107, max_features=sqrt, random_state=3, score=0.492, total=   0.0s\n",
      "[CV] criterion=entropy, max_depth=107, max_features=sqrt, random_state=3 \n",
      "[CV]  criterion=entropy, max_depth=107, max_features=sqrt, random_state=3, score=0.492, total=   0.0s\n",
      "[CV] criterion=entropy, max_depth=107, max_features=sqrt, random_state=3 \n"
     ]
    },
    {
     "name": "stdout",
     "output_type": "stream",
     "text": [
      "[CV]  criterion=entropy, max_depth=107, max_features=sqrt, random_state=3, score=0.520, total=   0.0s\n",
      "[CV] criterion=entropy, max_depth=107, max_features=sqrt, random_state=3 \n",
      "[CV]  criterion=entropy, max_depth=107, max_features=sqrt, random_state=3, score=0.505, total=   0.0s\n",
      "[CV] criterion=entropy, max_depth=107, max_features=sqrt, random_state=4 \n",
      "[CV]  criterion=entropy, max_depth=107, max_features=sqrt, random_state=4, score=0.508, total=   0.0s\n",
      "[CV] criterion=entropy, max_depth=107, max_features=sqrt, random_state=4 \n",
      "[CV]  criterion=entropy, max_depth=107, max_features=sqrt, random_state=4, score=0.498, total=   0.0s\n",
      "[CV] criterion=entropy, max_depth=107, max_features=sqrt, random_state=4 \n",
      "[CV]  criterion=entropy, max_depth=107, max_features=sqrt, random_state=4, score=0.464, total=   0.0s\n",
      "[CV] criterion=entropy, max_depth=107, max_features=sqrt, random_state=4 \n",
      "[CV]  criterion=entropy, max_depth=107, max_features=sqrt, random_state=4, score=0.498, total=   0.0s\n",
      "[CV] criterion=entropy, max_depth=107, max_features=sqrt, random_state=4 \n",
      "[CV]  criterion=entropy, max_depth=107, max_features=sqrt, random_state=4, score=0.455, total=   0.0s\n",
      "[CV] criterion=entropy, max_depth=107, max_features=sqrt, random_state=5 \n",
      "[CV]  criterion=entropy, max_depth=107, max_features=sqrt, random_state=5, score=0.478, total=   0.0s\n",
      "[CV] criterion=entropy, max_depth=107, max_features=sqrt, random_state=5 \n",
      "[CV]  criterion=entropy, max_depth=107, max_features=sqrt, random_state=5, score=0.536, total=   0.0s\n",
      "[CV] criterion=entropy, max_depth=107, max_features=sqrt, random_state=5 \n",
      "[CV]  criterion=entropy, max_depth=107, max_features=sqrt, random_state=5, score=0.464, total=   0.0s\n",
      "[CV] criterion=entropy, max_depth=107, max_features=sqrt, random_state=5 \n",
      "[CV]  criterion=entropy, max_depth=107, max_features=sqrt, random_state=5, score=0.546, total=   0.0s\n",
      "[CV] criterion=entropy, max_depth=107, max_features=sqrt, random_state=5 \n",
      "[CV]  criterion=entropy, max_depth=107, max_features=sqrt, random_state=5, score=0.467, total=   0.0s\n",
      "[CV] criterion=entropy, max_depth=107, max_features=sqrt, random_state=6 \n",
      "[CV]  criterion=entropy, max_depth=107, max_features=sqrt, random_state=6, score=0.472, total=   0.0s\n",
      "[CV] criterion=entropy, max_depth=107, max_features=sqrt, random_state=6 \n",
      "[CV]  criterion=entropy, max_depth=107, max_features=sqrt, random_state=6, score=0.536, total=   0.0s\n",
      "[CV] criterion=entropy, max_depth=107, max_features=sqrt, random_state=6 \n",
      "[CV]  criterion=entropy, max_depth=107, max_features=sqrt, random_state=6, score=0.548, total=   0.0s\n",
      "[CV] criterion=entropy, max_depth=107, max_features=sqrt, random_state=6 \n",
      "[CV]  criterion=entropy, max_depth=107, max_features=sqrt, random_state=6, score=0.482, total=   0.0s\n",
      "[CV] criterion=entropy, max_depth=107, max_features=sqrt, random_state=6 \n",
      "[CV]  criterion=entropy, max_depth=107, max_features=sqrt, random_state=6, score=0.531, total=   0.0s\n",
      "[CV] criterion=entropy, max_depth=107, max_features=sqrt, random_state=7 \n",
      "[CV]  criterion=entropy, max_depth=107, max_features=sqrt, random_state=7, score=0.484, total=   0.0s\n",
      "[CV] criterion=entropy, max_depth=107, max_features=sqrt, random_state=7 \n",
      "[CV]  criterion=entropy, max_depth=107, max_features=sqrt, random_state=7, score=0.422, total=   0.0s\n",
      "[CV] criterion=entropy, max_depth=107, max_features=sqrt, random_state=7 \n",
      "[CV]  criterion=entropy, max_depth=107, max_features=sqrt, random_state=7, score=0.494, total=   0.0s\n",
      "[CV] criterion=entropy, max_depth=107, max_features=sqrt, random_state=7 \n",
      "[CV]  criterion=entropy, max_depth=107, max_features=sqrt, random_state=7, score=0.500, total=   0.0s\n",
      "[CV] criterion=entropy, max_depth=107, max_features=sqrt, random_state=7 \n",
      "[CV]  criterion=entropy, max_depth=107, max_features=sqrt, random_state=7, score=0.511, total=   0.0s\n",
      "[CV] criterion=entropy, max_depth=107, max_features=sqrt, random_state=8 \n",
      "[CV]  criterion=entropy, max_depth=107, max_features=sqrt, random_state=8, score=0.536, total=   0.0s\n",
      "[CV] criterion=entropy, max_depth=107, max_features=sqrt, random_state=8 \n",
      "[CV]  criterion=entropy, max_depth=107, max_features=sqrt, random_state=8, score=0.436, total=   0.0s\n",
      "[CV] criterion=entropy, max_depth=107, max_features=sqrt, random_state=8 \n",
      "[CV]  criterion=entropy, max_depth=107, max_features=sqrt, random_state=8, score=0.524, total=   0.0s\n",
      "[CV] criterion=entropy, max_depth=107, max_features=sqrt, random_state=8 \n",
      "[CV]  criterion=entropy, max_depth=107, max_features=sqrt, random_state=8, score=0.508, total=   0.0s\n",
      "[CV] criterion=entropy, max_depth=107, max_features=sqrt, random_state=8 \n",
      "[CV]  criterion=entropy, max_depth=107, max_features=sqrt, random_state=8, score=0.517, total=   0.0s\n",
      "[CV] criterion=entropy, max_depth=107, max_features=sqrt, random_state=9 \n",
      "[CV]  criterion=entropy, max_depth=107, max_features=sqrt, random_state=9, score=0.494, total=   0.0s\n",
      "[CV] criterion=entropy, max_depth=107, max_features=sqrt, random_state=9 \n",
      "[CV]  criterion=entropy, max_depth=107, max_features=sqrt, random_state=9, score=0.492, total=   0.0s\n",
      "[CV] criterion=entropy, max_depth=107, max_features=sqrt, random_state=9 \n",
      "[CV]  criterion=entropy, max_depth=107, max_features=sqrt, random_state=9, score=0.462, total=   0.0s\n",
      "[CV] criterion=entropy, max_depth=107, max_features=sqrt, random_state=9 \n",
      "[CV]  criterion=entropy, max_depth=107, max_features=sqrt, random_state=9, score=0.468, total=   0.0s\n",
      "[CV] criterion=entropy, max_depth=107, max_features=sqrt, random_state=9 \n",
      "[CV]  criterion=entropy, max_depth=107, max_features=sqrt, random_state=9, score=0.505, total=   0.0s\n",
      "[CV] criterion=entropy, max_depth=107, max_features=log2, random_state=1 \n",
      "[CV]  criterion=entropy, max_depth=107, max_features=log2, random_state=1, score=0.500, total=   0.0s\n",
      "[CV] criterion=entropy, max_depth=107, max_features=log2, random_state=1 \n",
      "[CV]  criterion=entropy, max_depth=107, max_features=log2, random_state=1, score=0.476, total=   0.0s\n",
      "[CV] criterion=entropy, max_depth=107, max_features=log2, random_state=1 \n",
      "[CV]  criterion=entropy, max_depth=107, max_features=log2, random_state=1, score=0.466, total=   0.0s\n",
      "[CV] criterion=entropy, max_depth=107, max_features=log2, random_state=1 \n",
      "[CV]  criterion=entropy, max_depth=107, max_features=log2, random_state=1, score=0.438, total=   0.0s\n",
      "[CV] criterion=entropy, max_depth=107, max_features=log2, random_state=1 \n",
      "[CV]  criterion=entropy, max_depth=107, max_features=log2, random_state=1, score=0.479, total=   0.0s\n",
      "[CV] criterion=entropy, max_depth=107, max_features=log2, random_state=2 \n",
      "[CV]  criterion=entropy, max_depth=107, max_features=log2, random_state=2, score=0.494, total=   0.0s\n",
      "[CV] criterion=entropy, max_depth=107, max_features=log2, random_state=2 \n",
      "[CV]  criterion=entropy, max_depth=107, max_features=log2, random_state=2, score=0.496, total=   0.0s\n",
      "[CV] criterion=entropy, max_depth=107, max_features=log2, random_state=2 \n",
      "[CV]  criterion=entropy, max_depth=107, max_features=log2, random_state=2, score=0.432, total=   0.0s\n",
      "[CV] criterion=entropy, max_depth=107, max_features=log2, random_state=2 \n",
      "[CV]  criterion=entropy, max_depth=107, max_features=log2, random_state=2, score=0.516, total=   0.0s\n",
      "[CV] criterion=entropy, max_depth=107, max_features=log2, random_state=2 \n",
      "[CV]  criterion=entropy, max_depth=107, max_features=log2, random_state=2, score=0.515, total=   0.0s\n",
      "[CV] criterion=entropy, max_depth=107, max_features=log2, random_state=3 \n",
      "[CV]  criterion=entropy, max_depth=107, max_features=log2, random_state=3, score=0.472, total=   0.0s\n",
      "[CV] criterion=entropy, max_depth=107, max_features=log2, random_state=3 \n",
      "[CV]  criterion=entropy, max_depth=107, max_features=log2, random_state=3, score=0.500, total=   0.0s\n",
      "[CV] criterion=entropy, max_depth=107, max_features=log2, random_state=3 \n",
      "[CV]  criterion=entropy, max_depth=107, max_features=log2, random_state=3, score=0.470, total=   0.0s\n",
      "[CV] criterion=entropy, max_depth=107, max_features=log2, random_state=3 \n",
      "[CV]  criterion=entropy, max_depth=107, max_features=log2, random_state=3, score=0.482, total=   0.0s\n",
      "[CV] criterion=entropy, max_depth=107, max_features=log2, random_state=3 \n",
      "[CV]  criterion=entropy, max_depth=107, max_features=log2, random_state=3, score=0.551, total=   0.0s\n",
      "[CV] criterion=entropy, max_depth=107, max_features=log2, random_state=4 \n",
      "[CV]  criterion=entropy, max_depth=107, max_features=log2, random_state=4, score=0.440, total=   0.0s\n",
      "[CV] criterion=entropy, max_depth=107, max_features=log2, random_state=4 \n",
      "[CV]  criterion=entropy, max_depth=107, max_features=log2, random_state=4, score=0.526, total=   0.0s\n",
      "[CV] criterion=entropy, max_depth=107, max_features=log2, random_state=4 \n",
      "[CV]  criterion=entropy, max_depth=107, max_features=log2, random_state=4, score=0.378, total=   0.0s\n",
      "[CV] criterion=entropy, max_depth=107, max_features=log2, random_state=4 \n",
      "[CV]  criterion=entropy, max_depth=107, max_features=log2, random_state=4, score=0.486, total=   0.0s\n",
      "[CV] criterion=entropy, max_depth=107, max_features=log2, random_state=4 \n",
      "[CV]  criterion=entropy, max_depth=107, max_features=log2, random_state=4, score=0.407, total=   0.0s\n",
      "[CV] criterion=entropy, max_depth=107, max_features=log2, random_state=5 \n"
     ]
    },
    {
     "name": "stdout",
     "output_type": "stream",
     "text": [
      "[CV]  criterion=entropy, max_depth=107, max_features=log2, random_state=5, score=0.502, total=   0.0s\n",
      "[CV] criterion=entropy, max_depth=107, max_features=log2, random_state=5 \n",
      "[CV]  criterion=entropy, max_depth=107, max_features=log2, random_state=5, score=0.546, total=   0.0s\n",
      "[CV] criterion=entropy, max_depth=107, max_features=log2, random_state=5 \n",
      "[CV]  criterion=entropy, max_depth=107, max_features=log2, random_state=5, score=0.426, total=   0.0s\n",
      "[CV] criterion=entropy, max_depth=107, max_features=log2, random_state=5 \n",
      "[CV]  criterion=entropy, max_depth=107, max_features=log2, random_state=5, score=0.504, total=   0.0s\n",
      "[CV] criterion=entropy, max_depth=107, max_features=log2, random_state=5 \n",
      "[CV]  criterion=entropy, max_depth=107, max_features=log2, random_state=5, score=0.447, total=   0.0s\n",
      "[CV] criterion=entropy, max_depth=107, max_features=log2, random_state=6 \n",
      "[CV]  criterion=entropy, max_depth=107, max_features=log2, random_state=6, score=0.496, total=   0.0s\n",
      "[CV] criterion=entropy, max_depth=107, max_features=log2, random_state=6 \n",
      "[CV]  criterion=entropy, max_depth=107, max_features=log2, random_state=6, score=0.448, total=   0.0s\n",
      "[CV] criterion=entropy, max_depth=107, max_features=log2, random_state=6 \n",
      "[CV]  criterion=entropy, max_depth=107, max_features=log2, random_state=6, score=0.450, total=   0.0s\n",
      "[CV] criterion=entropy, max_depth=107, max_features=log2, random_state=6 \n",
      "[CV]  criterion=entropy, max_depth=107, max_features=log2, random_state=6, score=0.516, total=   0.0s\n",
      "[CV] criterion=entropy, max_depth=107, max_features=log2, random_state=6 \n",
      "[CV]  criterion=entropy, max_depth=107, max_features=log2, random_state=6, score=0.473, total=   0.0s\n",
      "[CV] criterion=entropy, max_depth=107, max_features=log2, random_state=7 \n",
      "[CV]  criterion=entropy, max_depth=107, max_features=log2, random_state=7, score=0.460, total=   0.0s\n",
      "[CV] criterion=entropy, max_depth=107, max_features=log2, random_state=7 \n",
      "[CV]  criterion=entropy, max_depth=107, max_features=log2, random_state=7, score=0.432, total=   0.0s\n",
      "[CV] criterion=entropy, max_depth=107, max_features=log2, random_state=7 \n",
      "[CV]  criterion=entropy, max_depth=107, max_features=log2, random_state=7, score=0.474, total=   0.0s\n",
      "[CV] criterion=entropy, max_depth=107, max_features=log2, random_state=7 \n",
      "[CV]  criterion=entropy, max_depth=107, max_features=log2, random_state=7, score=0.512, total=   0.0s\n",
      "[CV] criterion=entropy, max_depth=107, max_features=log2, random_state=7 \n",
      "[CV]  criterion=entropy, max_depth=107, max_features=log2, random_state=7, score=0.469, total=   0.0s\n",
      "[CV] criterion=entropy, max_depth=107, max_features=log2, random_state=8 \n",
      "[CV]  criterion=entropy, max_depth=107, max_features=log2, random_state=8, score=0.430, total=   0.0s\n",
      "[CV] criterion=entropy, max_depth=107, max_features=log2, random_state=8 \n",
      "[CV]  criterion=entropy, max_depth=107, max_features=log2, random_state=8, score=0.500, total=   0.0s\n",
      "[CV] criterion=entropy, max_depth=107, max_features=log2, random_state=8 \n",
      "[CV]  criterion=entropy, max_depth=107, max_features=log2, random_state=8, score=0.536, total=   0.0s\n",
      "[CV] criterion=entropy, max_depth=107, max_features=log2, random_state=8 \n",
      "[CV]  criterion=entropy, max_depth=107, max_features=log2, random_state=8, score=0.508, total=   0.0s\n",
      "[CV] criterion=entropy, max_depth=107, max_features=log2, random_state=8 \n",
      "[CV]  criterion=entropy, max_depth=107, max_features=log2, random_state=8, score=0.461, total=   0.0s\n",
      "[CV] criterion=entropy, max_depth=107, max_features=log2, random_state=9 \n",
      "[CV]  criterion=entropy, max_depth=107, max_features=log2, random_state=9, score=0.482, total=   0.0s\n",
      "[CV] criterion=entropy, max_depth=107, max_features=log2, random_state=9 \n",
      "[CV]  criterion=entropy, max_depth=107, max_features=log2, random_state=9, score=0.514, total=   0.0s\n",
      "[CV] criterion=entropy, max_depth=107, max_features=log2, random_state=9 \n",
      "[CV]  criterion=entropy, max_depth=107, max_features=log2, random_state=9, score=0.408, total=   0.0s\n",
      "[CV] criterion=entropy, max_depth=107, max_features=log2, random_state=9 \n",
      "[CV]  criterion=entropy, max_depth=107, max_features=log2, random_state=9, score=0.450, total=   0.0s\n",
      "[CV] criterion=entropy, max_depth=107, max_features=log2, random_state=9 \n",
      "[CV]  criterion=entropy, max_depth=107, max_features=log2, random_state=9, score=0.453, total=   0.0s\n",
      "[CV] criterion=entropy, max_depth=107, max_features=, random_state=1 .\n",
      "[CV]  criterion=entropy, max_depth=107, max_features=, random_state=1, score=nan, total=   0.0s\n",
      "[CV] criterion=entropy, max_depth=107, max_features=, random_state=1 .\n",
      "[CV]  criterion=entropy, max_depth=107, max_features=, random_state=1, score=nan, total=   0.0s\n",
      "[CV] criterion=entropy, max_depth=107, max_features=, random_state=1 .\n",
      "[CV]  criterion=entropy, max_depth=107, max_features=, random_state=1, score=nan, total=   0.0s\n",
      "[CV] criterion=entropy, max_depth=107, max_features=, random_state=1 .\n",
      "[CV]  criterion=entropy, max_depth=107, max_features=, random_state=1, score=nan, total=   0.0s\n",
      "[CV] criterion=entropy, max_depth=107, max_features=, random_state=1 .\n",
      "[CV]  criterion=entropy, max_depth=107, max_features=, random_state=1, score=nan, total=   0.0s\n",
      "[CV] criterion=entropy, max_depth=107, max_features=, random_state=2 .\n",
      "[CV]  criterion=entropy, max_depth=107, max_features=, random_state=2, score=nan, total=   0.0s\n",
      "[CV] criterion=entropy, max_depth=107, max_features=, random_state=2 .\n",
      "[CV]  criterion=entropy, max_depth=107, max_features=, random_state=2, score=nan, total=   0.0s\n",
      "[CV] criterion=entropy, max_depth=107, max_features=, random_state=2 .\n",
      "[CV]  criterion=entropy, max_depth=107, max_features=, random_state=2, score=nan, total=   0.0s\n",
      "[CV] criterion=entropy, max_depth=107, max_features=, random_state=2 .\n",
      "[CV]  criterion=entropy, max_depth=107, max_features=, random_state=2, score=nan, total=   0.0s\n",
      "[CV] criterion=entropy, max_depth=107, max_features=, random_state=2 .\n",
      "[CV]  criterion=entropy, max_depth=107, max_features=, random_state=2, score=nan, total=   0.0s\n",
      "[CV] criterion=entropy, max_depth=107, max_features=, random_state=3 .\n",
      "[CV]  criterion=entropy, max_depth=107, max_features=, random_state=3, score=nan, total=   0.0s\n",
      "[CV] criterion=entropy, max_depth=107, max_features=, random_state=3 .\n",
      "[CV]  criterion=entropy, max_depth=107, max_features=, random_state=3, score=nan, total=   0.0s\n",
      "[CV] criterion=entropy, max_depth=107, max_features=, random_state=3 .\n",
      "[CV]  criterion=entropy, max_depth=107, max_features=, random_state=3, score=nan, total=   0.0s\n",
      "[CV] criterion=entropy, max_depth=107, max_features=, random_state=3 .\n",
      "[CV]  criterion=entropy, max_depth=107, max_features=, random_state=3, score=nan, total=   0.0s\n",
      "[CV] criterion=entropy, max_depth=107, max_features=, random_state=3 .\n",
      "[CV]  criterion=entropy, max_depth=107, max_features=, random_state=3, score=nan, total=   0.0s\n",
      "[CV] criterion=entropy, max_depth=107, max_features=, random_state=4 .\n",
      "[CV]  criterion=entropy, max_depth=107, max_features=, random_state=4, score=nan, total=   0.0s\n",
      "[CV] criterion=entropy, max_depth=107, max_features=, random_state=4 .\n",
      "[CV]  criterion=entropy, max_depth=107, max_features=, random_state=4, score=nan, total=   0.0s\n",
      "[CV] criterion=entropy, max_depth=107, max_features=, random_state=4 .\n",
      "[CV]  criterion=entropy, max_depth=107, max_features=, random_state=4, score=nan, total=   0.0s\n",
      "[CV] criterion=entropy, max_depth=107, max_features=, random_state=4 .\n"
     ]
    },
    {
     "name": "stderr",
     "output_type": "stream",
     "text": [
      "C:\\Users\\Apex\\AppData\\Roaming\\Python\\Python38\\site-packages\\sklearn\\model_selection\\_validation.py:548: FitFailedWarning: Estimator fit failed. The score on this train-test partition for these parameters will be set to nan. Details: \n",
      "Traceback (most recent call last):\n",
      "  File \"C:\\Users\\Apex\\AppData\\Roaming\\Python\\Python38\\site-packages\\sklearn\\model_selection\\_validation.py\", line 531, in _fit_and_score\n",
      "    estimator.fit(X_train, y_train, **fit_params)\n",
      "  File \"C:\\Users\\Apex\\AppData\\Roaming\\Python\\Python38\\site-packages\\sklearn\\tree\\_classes.py\", line 890, in fit\n",
      "    super().fit(\n",
      "  File \"C:\\Users\\Apex\\AppData\\Roaming\\Python\\Python38\\site-packages\\sklearn\\tree\\_classes.py\", line 255, in fit\n",
      "    raise ValueError(\"Invalid value for max_features. \"\n",
      "ValueError: Invalid value for max_features. Allowed string values are 'auto', 'sqrt' or 'log2'.\n",
      "\n",
      "  warnings.warn(\"Estimator fit failed. The score on this train-test\"\n",
      "C:\\Users\\Apex\\AppData\\Roaming\\Python\\Python38\\site-packages\\sklearn\\model_selection\\_validation.py:548: FitFailedWarning: Estimator fit failed. The score on this train-test partition for these parameters will be set to nan. Details: \n",
      "Traceback (most recent call last):\n",
      "  File \"C:\\Users\\Apex\\AppData\\Roaming\\Python\\Python38\\site-packages\\sklearn\\model_selection\\_validation.py\", line 531, in _fit_and_score\n",
      "    estimator.fit(X_train, y_train, **fit_params)\n",
      "  File \"C:\\Users\\Apex\\AppData\\Roaming\\Python\\Python38\\site-packages\\sklearn\\tree\\_classes.py\", line 890, in fit\n",
      "    super().fit(\n",
      "  File \"C:\\Users\\Apex\\AppData\\Roaming\\Python\\Python38\\site-packages\\sklearn\\tree\\_classes.py\", line 255, in fit\n",
      "    raise ValueError(\"Invalid value for max_features. \"\n",
      "ValueError: Invalid value for max_features. Allowed string values are 'auto', 'sqrt' or 'log2'.\n",
      "\n",
      "  warnings.warn(\"Estimator fit failed. The score on this train-test\"\n",
      "C:\\Users\\Apex\\AppData\\Roaming\\Python\\Python38\\site-packages\\sklearn\\model_selection\\_validation.py:548: FitFailedWarning: Estimator fit failed. The score on this train-test partition for these parameters will be set to nan. Details: \n",
      "Traceback (most recent call last):\n",
      "  File \"C:\\Users\\Apex\\AppData\\Roaming\\Python\\Python38\\site-packages\\sklearn\\model_selection\\_validation.py\", line 531, in _fit_and_score\n",
      "    estimator.fit(X_train, y_train, **fit_params)\n",
      "  File \"C:\\Users\\Apex\\AppData\\Roaming\\Python\\Python38\\site-packages\\sklearn\\tree\\_classes.py\", line 890, in fit\n",
      "    super().fit(\n",
      "  File \"C:\\Users\\Apex\\AppData\\Roaming\\Python\\Python38\\site-packages\\sklearn\\tree\\_classes.py\", line 255, in fit\n",
      "    raise ValueError(\"Invalid value for max_features. \"\n",
      "ValueError: Invalid value for max_features. Allowed string values are 'auto', 'sqrt' or 'log2'.\n",
      "\n",
      "  warnings.warn(\"Estimator fit failed. The score on this train-test\"\n",
      "C:\\Users\\Apex\\AppData\\Roaming\\Python\\Python38\\site-packages\\sklearn\\model_selection\\_validation.py:548: FitFailedWarning: Estimator fit failed. The score on this train-test partition for these parameters will be set to nan. Details: \n",
      "Traceback (most recent call last):\n",
      "  File \"C:\\Users\\Apex\\AppData\\Roaming\\Python\\Python38\\site-packages\\sklearn\\model_selection\\_validation.py\", line 531, in _fit_and_score\n",
      "    estimator.fit(X_train, y_train, **fit_params)\n",
      "  File \"C:\\Users\\Apex\\AppData\\Roaming\\Python\\Python38\\site-packages\\sklearn\\tree\\_classes.py\", line 890, in fit\n",
      "    super().fit(\n",
      "  File \"C:\\Users\\Apex\\AppData\\Roaming\\Python\\Python38\\site-packages\\sklearn\\tree\\_classes.py\", line 255, in fit\n",
      "    raise ValueError(\"Invalid value for max_features. \"\n",
      "ValueError: Invalid value for max_features. Allowed string values are 'auto', 'sqrt' or 'log2'.\n",
      "\n",
      "  warnings.warn(\"Estimator fit failed. The score on this train-test\"\n",
      "C:\\Users\\Apex\\AppData\\Roaming\\Python\\Python38\\site-packages\\sklearn\\model_selection\\_validation.py:548: FitFailedWarning: Estimator fit failed. The score on this train-test partition for these parameters will be set to nan. Details: \n",
      "Traceback (most recent call last):\n",
      "  File \"C:\\Users\\Apex\\AppData\\Roaming\\Python\\Python38\\site-packages\\sklearn\\model_selection\\_validation.py\", line 531, in _fit_and_score\n",
      "    estimator.fit(X_train, y_train, **fit_params)\n",
      "  File \"C:\\Users\\Apex\\AppData\\Roaming\\Python\\Python38\\site-packages\\sklearn\\tree\\_classes.py\", line 890, in fit\n",
      "    super().fit(\n",
      "  File \"C:\\Users\\Apex\\AppData\\Roaming\\Python\\Python38\\site-packages\\sklearn\\tree\\_classes.py\", line 255, in fit\n",
      "    raise ValueError(\"Invalid value for max_features. \"\n",
      "ValueError: Invalid value for max_features. Allowed string values are 'auto', 'sqrt' or 'log2'.\n",
      "\n",
      "  warnings.warn(\"Estimator fit failed. The score on this train-test\"\n",
      "C:\\Users\\Apex\\AppData\\Roaming\\Python\\Python38\\site-packages\\sklearn\\model_selection\\_validation.py:548: FitFailedWarning: Estimator fit failed. The score on this train-test partition for these parameters will be set to nan. Details: \n",
      "Traceback (most recent call last):\n",
      "  File \"C:\\Users\\Apex\\AppData\\Roaming\\Python\\Python38\\site-packages\\sklearn\\model_selection\\_validation.py\", line 531, in _fit_and_score\n",
      "    estimator.fit(X_train, y_train, **fit_params)\n",
      "  File \"C:\\Users\\Apex\\AppData\\Roaming\\Python\\Python38\\site-packages\\sklearn\\tree\\_classes.py\", line 890, in fit\n",
      "    super().fit(\n",
      "  File \"C:\\Users\\Apex\\AppData\\Roaming\\Python\\Python38\\site-packages\\sklearn\\tree\\_classes.py\", line 255, in fit\n",
      "    raise ValueError(\"Invalid value for max_features. \"\n",
      "ValueError: Invalid value for max_features. Allowed string values are 'auto', 'sqrt' or 'log2'.\n",
      "\n",
      "  warnings.warn(\"Estimator fit failed. The score on this train-test\"\n",
      "C:\\Users\\Apex\\AppData\\Roaming\\Python\\Python38\\site-packages\\sklearn\\model_selection\\_validation.py:548: FitFailedWarning: Estimator fit failed. The score on this train-test partition for these parameters will be set to nan. Details: \n",
      "Traceback (most recent call last):\n",
      "  File \"C:\\Users\\Apex\\AppData\\Roaming\\Python\\Python38\\site-packages\\sklearn\\model_selection\\_validation.py\", line 531, in _fit_and_score\n",
      "    estimator.fit(X_train, y_train, **fit_params)\n",
      "  File \"C:\\Users\\Apex\\AppData\\Roaming\\Python\\Python38\\site-packages\\sklearn\\tree\\_classes.py\", line 890, in fit\n",
      "    super().fit(\n",
      "  File \"C:\\Users\\Apex\\AppData\\Roaming\\Python\\Python38\\site-packages\\sklearn\\tree\\_classes.py\", line 255, in fit\n",
      "    raise ValueError(\"Invalid value for max_features. \"\n",
      "ValueError: Invalid value for max_features. Allowed string values are 'auto', 'sqrt' or 'log2'.\n",
      "\n",
      "  warnings.warn(\"Estimator fit failed. The score on this train-test\"\n",
      "C:\\Users\\Apex\\AppData\\Roaming\\Python\\Python38\\site-packages\\sklearn\\model_selection\\_validation.py:548: FitFailedWarning: Estimator fit failed. The score on this train-test partition for these parameters will be set to nan. Details: \n",
      "Traceback (most recent call last):\n",
      "  File \"C:\\Users\\Apex\\AppData\\Roaming\\Python\\Python38\\site-packages\\sklearn\\model_selection\\_validation.py\", line 531, in _fit_and_score\n",
      "    estimator.fit(X_train, y_train, **fit_params)\n",
      "  File \"C:\\Users\\Apex\\AppData\\Roaming\\Python\\Python38\\site-packages\\sklearn\\tree\\_classes.py\", line 890, in fit\n",
      "    super().fit(\n",
      "  File \"C:\\Users\\Apex\\AppData\\Roaming\\Python\\Python38\\site-packages\\sklearn\\tree\\_classes.py\", line 255, in fit\n",
      "    raise ValueError(\"Invalid value for max_features. \"\n",
      "ValueError: Invalid value for max_features. Allowed string values are 'auto', 'sqrt' or 'log2'.\n",
      "\n",
      "  warnings.warn(\"Estimator fit failed. The score on this train-test\"\n",
      "C:\\Users\\Apex\\AppData\\Roaming\\Python\\Python38\\site-packages\\sklearn\\model_selection\\_validation.py:548: FitFailedWarning: Estimator fit failed. The score on this train-test partition for these parameters will be set to nan. Details: \n",
      "Traceback (most recent call last):\n",
      "  File \"C:\\Users\\Apex\\AppData\\Roaming\\Python\\Python38\\site-packages\\sklearn\\model_selection\\_validation.py\", line 531, in _fit_and_score\n",
      "    estimator.fit(X_train, y_train, **fit_params)\n",
      "  File \"C:\\Users\\Apex\\AppData\\Roaming\\Python\\Python38\\site-packages\\sklearn\\tree\\_classes.py\", line 890, in fit\n",
      "    super().fit(\n",
      "  File \"C:\\Users\\Apex\\AppData\\Roaming\\Python\\Python38\\site-packages\\sklearn\\tree\\_classes.py\", line 255, in fit\n",
      "    raise ValueError(\"Invalid value for max_features. \"\n",
      "ValueError: Invalid value for max_features. Allowed string values are 'auto', 'sqrt' or 'log2'.\n",
      "\n",
      "  warnings.warn(\"Estimator fit failed. The score on this train-test\"\n",
      "C:\\Users\\Apex\\AppData\\Roaming\\Python\\Python38\\site-packages\\sklearn\\model_selection\\_validation.py:548: FitFailedWarning: Estimator fit failed. The score on this train-test partition for these parameters will be set to nan. Details: \n",
      "Traceback (most recent call last):\n",
      "  File \"C:\\Users\\Apex\\AppData\\Roaming\\Python\\Python38\\site-packages\\sklearn\\model_selection\\_validation.py\", line 531, in _fit_and_score\n",
      "    estimator.fit(X_train, y_train, **fit_params)\n",
      "  File \"C:\\Users\\Apex\\AppData\\Roaming\\Python\\Python38\\site-packages\\sklearn\\tree\\_classes.py\", line 890, in fit\n",
      "    super().fit(\n",
      "  File \"C:\\Users\\Apex\\AppData\\Roaming\\Python\\Python38\\site-packages\\sklearn\\tree\\_classes.py\", line 255, in fit\n",
      "    raise ValueError(\"Invalid value for max_features. \"\n",
      "ValueError: Invalid value for max_features. Allowed string values are 'auto', 'sqrt' or 'log2'.\n",
      "\n",
      "  warnings.warn(\"Estimator fit failed. The score on this train-test\"\n",
      "C:\\Users\\Apex\\AppData\\Roaming\\Python\\Python38\\site-packages\\sklearn\\model_selection\\_validation.py:548: FitFailedWarning: Estimator fit failed. The score on this train-test partition for these parameters will be set to nan. Details: \n",
      "Traceback (most recent call last):\n",
      "  File \"C:\\Users\\Apex\\AppData\\Roaming\\Python\\Python38\\site-packages\\sklearn\\model_selection\\_validation.py\", line 531, in _fit_and_score\n",
      "    estimator.fit(X_train, y_train, **fit_params)\n",
      "  File \"C:\\Users\\Apex\\AppData\\Roaming\\Python\\Python38\\site-packages\\sklearn\\tree\\_classes.py\", line 890, in fit\n",
      "    super().fit(\n",
      "  File \"C:\\Users\\Apex\\AppData\\Roaming\\Python\\Python38\\site-packages\\sklearn\\tree\\_classes.py\", line 255, in fit\n",
      "    raise ValueError(\"Invalid value for max_features. \"\n",
      "ValueError: Invalid value for max_features. Allowed string values are 'auto', 'sqrt' or 'log2'.\n",
      "\n",
      "  warnings.warn(\"Estimator fit failed. The score on this train-test\"\n",
      "C:\\Users\\Apex\\AppData\\Roaming\\Python\\Python38\\site-packages\\sklearn\\model_selection\\_validation.py:548: FitFailedWarning: Estimator fit failed. The score on this train-test partition for these parameters will be set to nan. Details: \n",
      "Traceback (most recent call last):\n",
      "  File \"C:\\Users\\Apex\\AppData\\Roaming\\Python\\Python38\\site-packages\\sklearn\\model_selection\\_validation.py\", line 531, in _fit_and_score\n",
      "    estimator.fit(X_train, y_train, **fit_params)\n",
      "  File \"C:\\Users\\Apex\\AppData\\Roaming\\Python\\Python38\\site-packages\\sklearn\\tree\\_classes.py\", line 890, in fit\n",
      "    super().fit(\n",
      "  File \"C:\\Users\\Apex\\AppData\\Roaming\\Python\\Python38\\site-packages\\sklearn\\tree\\_classes.py\", line 255, in fit\n",
      "    raise ValueError(\"Invalid value for max_features. \"\n",
      "ValueError: Invalid value for max_features. Allowed string values are 'auto', 'sqrt' or 'log2'.\n",
      "\n",
      "  warnings.warn(\"Estimator fit failed. The score on this train-test\"\n",
      "C:\\Users\\Apex\\AppData\\Roaming\\Python\\Python38\\site-packages\\sklearn\\model_selection\\_validation.py:548: FitFailedWarning: Estimator fit failed. The score on this train-test partition for these parameters will be set to nan. Details: \n",
      "Traceback (most recent call last):\n",
      "  File \"C:\\Users\\Apex\\AppData\\Roaming\\Python\\Python38\\site-packages\\sklearn\\model_selection\\_validation.py\", line 531, in _fit_and_score\n",
      "    estimator.fit(X_train, y_train, **fit_params)\n",
      "  File \"C:\\Users\\Apex\\AppData\\Roaming\\Python\\Python38\\site-packages\\sklearn\\tree\\_classes.py\", line 890, in fit\n",
      "    super().fit(\n",
      "  File \"C:\\Users\\Apex\\AppData\\Roaming\\Python\\Python38\\site-packages\\sklearn\\tree\\_classes.py\", line 255, in fit\n",
      "    raise ValueError(\"Invalid value for max_features. \"\n",
      "ValueError: Invalid value for max_features. Allowed string values are 'auto', 'sqrt' or 'log2'.\n",
      "\n",
      "  warnings.warn(\"Estimator fit failed. The score on this train-test\"\n",
      "C:\\Users\\Apex\\AppData\\Roaming\\Python\\Python38\\site-packages\\sklearn\\model_selection\\_validation.py:548: FitFailedWarning: Estimator fit failed. The score on this train-test partition for these parameters will be set to nan. Details: \n",
      "Traceback (most recent call last):\n",
      "  File \"C:\\Users\\Apex\\AppData\\Roaming\\Python\\Python38\\site-packages\\sklearn\\model_selection\\_validation.py\", line 531, in _fit_and_score\n",
      "    estimator.fit(X_train, y_train, **fit_params)\n",
      "  File \"C:\\Users\\Apex\\AppData\\Roaming\\Python\\Python38\\site-packages\\sklearn\\tree\\_classes.py\", line 890, in fit\n",
      "    super().fit(\n",
      "  File \"C:\\Users\\Apex\\AppData\\Roaming\\Python\\Python38\\site-packages\\sklearn\\tree\\_classes.py\", line 255, in fit\n",
      "    raise ValueError(\"Invalid value for max_features. \"\n",
      "ValueError: Invalid value for max_features. Allowed string values are 'auto', 'sqrt' or 'log2'.\n",
      "\n",
      "  warnings.warn(\"Estimator fit failed. The score on this train-test\"\n",
      "C:\\Users\\Apex\\AppData\\Roaming\\Python\\Python38\\site-packages\\sklearn\\model_selection\\_validation.py:548: FitFailedWarning: Estimator fit failed. The score on this train-test partition for these parameters will be set to nan. Details: \n",
      "Traceback (most recent call last):\n",
      "  File \"C:\\Users\\Apex\\AppData\\Roaming\\Python\\Python38\\site-packages\\sklearn\\model_selection\\_validation.py\", line 531, in _fit_and_score\n",
      "    estimator.fit(X_train, y_train, **fit_params)\n",
      "  File \"C:\\Users\\Apex\\AppData\\Roaming\\Python\\Python38\\site-packages\\sklearn\\tree\\_classes.py\", line 890, in fit\n",
      "    super().fit(\n",
      "  File \"C:\\Users\\Apex\\AppData\\Roaming\\Python\\Python38\\site-packages\\sklearn\\tree\\_classes.py\", line 255, in fit\n",
      "    raise ValueError(\"Invalid value for max_features. \"\n",
      "ValueError: Invalid value for max_features. Allowed string values are 'auto', 'sqrt' or 'log2'.\n",
      "\n",
      "  warnings.warn(\"Estimator fit failed. The score on this train-test\"\n",
      "C:\\Users\\Apex\\AppData\\Roaming\\Python\\Python38\\site-packages\\sklearn\\model_selection\\_validation.py:548: FitFailedWarning: Estimator fit failed. The score on this train-test partition for these parameters will be set to nan. Details: \n",
      "Traceback (most recent call last):\n",
      "  File \"C:\\Users\\Apex\\AppData\\Roaming\\Python\\Python38\\site-packages\\sklearn\\model_selection\\_validation.py\", line 531, in _fit_and_score\n",
      "    estimator.fit(X_train, y_train, **fit_params)\n",
      "  File \"C:\\Users\\Apex\\AppData\\Roaming\\Python\\Python38\\site-packages\\sklearn\\tree\\_classes.py\", line 890, in fit\n",
      "    super().fit(\n",
      "  File \"C:\\Users\\Apex\\AppData\\Roaming\\Python\\Python38\\site-packages\\sklearn\\tree\\_classes.py\", line 255, in fit\n",
      "    raise ValueError(\"Invalid value for max_features. \"\n",
      "ValueError: Invalid value for max_features. Allowed string values are 'auto', 'sqrt' or 'log2'.\n",
      "\n",
      "  warnings.warn(\"Estimator fit failed. The score on this train-test\"\n",
      "C:\\Users\\Apex\\AppData\\Roaming\\Python\\Python38\\site-packages\\sklearn\\model_selection\\_validation.py:548: FitFailedWarning: Estimator fit failed. The score on this train-test partition for these parameters will be set to nan. Details: \n",
      "Traceback (most recent call last):\n",
      "  File \"C:\\Users\\Apex\\AppData\\Roaming\\Python\\Python38\\site-packages\\sklearn\\model_selection\\_validation.py\", line 531, in _fit_and_score\n",
      "    estimator.fit(X_train, y_train, **fit_params)\n",
      "  File \"C:\\Users\\Apex\\AppData\\Roaming\\Python\\Python38\\site-packages\\sklearn\\tree\\_classes.py\", line 890, in fit\n",
      "    super().fit(\n",
      "  File \"C:\\Users\\Apex\\AppData\\Roaming\\Python\\Python38\\site-packages\\sklearn\\tree\\_classes.py\", line 255, in fit\n",
      "    raise ValueError(\"Invalid value for max_features. \"\n",
      "ValueError: Invalid value for max_features. Allowed string values are 'auto', 'sqrt' or 'log2'.\n",
      "\n",
      "  warnings.warn(\"Estimator fit failed. The score on this train-test\"\n",
      "C:\\Users\\Apex\\AppData\\Roaming\\Python\\Python38\\site-packages\\sklearn\\model_selection\\_validation.py:548: FitFailedWarning: Estimator fit failed. The score on this train-test partition for these parameters will be set to nan. Details: \n",
      "Traceback (most recent call last):\n",
      "  File \"C:\\Users\\Apex\\AppData\\Roaming\\Python\\Python38\\site-packages\\sklearn\\model_selection\\_validation.py\", line 531, in _fit_and_score\n",
      "    estimator.fit(X_train, y_train, **fit_params)\n",
      "  File \"C:\\Users\\Apex\\AppData\\Roaming\\Python\\Python38\\site-packages\\sklearn\\tree\\_classes.py\", line 890, in fit\n",
      "    super().fit(\n",
      "  File \"C:\\Users\\Apex\\AppData\\Roaming\\Python\\Python38\\site-packages\\sklearn\\tree\\_classes.py\", line 255, in fit\n",
      "    raise ValueError(\"Invalid value for max_features. \"\n",
      "ValueError: Invalid value for max_features. Allowed string values are 'auto', 'sqrt' or 'log2'.\n",
      "\n",
      "  warnings.warn(\"Estimator fit failed. The score on this train-test\"\n",
      "C:\\Users\\Apex\\AppData\\Roaming\\Python\\Python38\\site-packages\\sklearn\\model_selection\\_validation.py:548: FitFailedWarning: Estimator fit failed. The score on this train-test partition for these parameters will be set to nan. Details: \n",
      "Traceback (most recent call last):\n",
      "  File \"C:\\Users\\Apex\\AppData\\Roaming\\Python\\Python38\\site-packages\\sklearn\\model_selection\\_validation.py\", line 531, in _fit_and_score\n",
      "    estimator.fit(X_train, y_train, **fit_params)\n",
      "  File \"C:\\Users\\Apex\\AppData\\Roaming\\Python\\Python38\\site-packages\\sklearn\\tree\\_classes.py\", line 890, in fit\n",
      "    super().fit(\n",
      "  File \"C:\\Users\\Apex\\AppData\\Roaming\\Python\\Python38\\site-packages\\sklearn\\tree\\_classes.py\", line 255, in fit\n",
      "    raise ValueError(\"Invalid value for max_features. \"\n",
      "ValueError: Invalid value for max_features. Allowed string values are 'auto', 'sqrt' or 'log2'.\n",
      "\n",
      "  warnings.warn(\"Estimator fit failed. The score on this train-test\"\n",
      "C:\\Users\\Apex\\AppData\\Roaming\\Python\\Python38\\site-packages\\sklearn\\model_selection\\_validation.py:548: FitFailedWarning: Estimator fit failed. The score on this train-test partition for these parameters will be set to nan. Details: \n",
      "Traceback (most recent call last):\n",
      "  File \"C:\\Users\\Apex\\AppData\\Roaming\\Python\\Python38\\site-packages\\sklearn\\model_selection\\_validation.py\", line 531, in _fit_and_score\n",
      "    estimator.fit(X_train, y_train, **fit_params)\n",
      "  File \"C:\\Users\\Apex\\AppData\\Roaming\\Python\\Python38\\site-packages\\sklearn\\tree\\_classes.py\", line 890, in fit\n",
      "    super().fit(\n",
      "  File \"C:\\Users\\Apex\\AppData\\Roaming\\Python\\Python38\\site-packages\\sklearn\\tree\\_classes.py\", line 255, in fit\n",
      "    raise ValueError(\"Invalid value for max_features. \"\n",
      "ValueError: Invalid value for max_features. Allowed string values are 'auto', 'sqrt' or 'log2'.\n",
      "\n",
      "  warnings.warn(\"Estimator fit failed. The score on this train-test\"\n",
      "C:\\Users\\Apex\\AppData\\Roaming\\Python\\Python38\\site-packages\\sklearn\\model_selection\\_validation.py:548: FitFailedWarning: Estimator fit failed. The score on this train-test partition for these parameters will be set to nan. Details: \n",
      "Traceback (most recent call last):\n",
      "  File \"C:\\Users\\Apex\\AppData\\Roaming\\Python\\Python38\\site-packages\\sklearn\\model_selection\\_validation.py\", line 531, in _fit_and_score\n",
      "    estimator.fit(X_train, y_train, **fit_params)\n",
      "  File \"C:\\Users\\Apex\\AppData\\Roaming\\Python\\Python38\\site-packages\\sklearn\\tree\\_classes.py\", line 890, in fit\n",
      "    super().fit(\n",
      "  File \"C:\\Users\\Apex\\AppData\\Roaming\\Python\\Python38\\site-packages\\sklearn\\tree\\_classes.py\", line 255, in fit\n",
      "    raise ValueError(\"Invalid value for max_features. \"\n",
      "ValueError: Invalid value for max_features. Allowed string values are 'auto', 'sqrt' or 'log2'.\n",
      "\n",
      "  warnings.warn(\"Estimator fit failed. The score on this train-test\"\n",
      "C:\\Users\\Apex\\AppData\\Roaming\\Python\\Python38\\site-packages\\sklearn\\model_selection\\_validation.py:548: FitFailedWarning: Estimator fit failed. The score on this train-test partition for these parameters will be set to nan. Details: \n",
      "Traceback (most recent call last):\n",
      "  File \"C:\\Users\\Apex\\AppData\\Roaming\\Python\\Python38\\site-packages\\sklearn\\model_selection\\_validation.py\", line 531, in _fit_and_score\n",
      "    estimator.fit(X_train, y_train, **fit_params)\n",
      "  File \"C:\\Users\\Apex\\AppData\\Roaming\\Python\\Python38\\site-packages\\sklearn\\tree\\_classes.py\", line 890, in fit\n",
      "    super().fit(\n",
      "  File \"C:\\Users\\Apex\\AppData\\Roaming\\Python\\Python38\\site-packages\\sklearn\\tree\\_classes.py\", line 255, in fit\n",
      "    raise ValueError(\"Invalid value for max_features. \"\n",
      "ValueError: Invalid value for max_features. Allowed string values are 'auto', 'sqrt' or 'log2'.\n",
      "\n",
      "  warnings.warn(\"Estimator fit failed. The score on this train-test\"\n",
      "C:\\Users\\Apex\\AppData\\Roaming\\Python\\Python38\\site-packages\\sklearn\\model_selection\\_validation.py:548: FitFailedWarning: Estimator fit failed. The score on this train-test partition for these parameters will be set to nan. Details: \n",
      "Traceback (most recent call last):\n",
      "  File \"C:\\Users\\Apex\\AppData\\Roaming\\Python\\Python38\\site-packages\\sklearn\\model_selection\\_validation.py\", line 531, in _fit_and_score\n",
      "    estimator.fit(X_train, y_train, **fit_params)\n",
      "  File \"C:\\Users\\Apex\\AppData\\Roaming\\Python\\Python38\\site-packages\\sklearn\\tree\\_classes.py\", line 890, in fit\n",
      "    super().fit(\n",
      "  File \"C:\\Users\\Apex\\AppData\\Roaming\\Python\\Python38\\site-packages\\sklearn\\tree\\_classes.py\", line 255, in fit\n",
      "    raise ValueError(\"Invalid value for max_features. \"\n",
      "ValueError: Invalid value for max_features. Allowed string values are 'auto', 'sqrt' or 'log2'.\n",
      "\n",
      "  warnings.warn(\"Estimator fit failed. The score on this train-test\"\n",
      "C:\\Users\\Apex\\AppData\\Roaming\\Python\\Python38\\site-packages\\sklearn\\model_selection\\_validation.py:548: FitFailedWarning: Estimator fit failed. The score on this train-test partition for these parameters will be set to nan. Details: \n",
      "Traceback (most recent call last):\n",
      "  File \"C:\\Users\\Apex\\AppData\\Roaming\\Python\\Python38\\site-packages\\sklearn\\model_selection\\_validation.py\", line 531, in _fit_and_score\n",
      "    estimator.fit(X_train, y_train, **fit_params)\n",
      "  File \"C:\\Users\\Apex\\AppData\\Roaming\\Python\\Python38\\site-packages\\sklearn\\tree\\_classes.py\", line 890, in fit\n",
      "    super().fit(\n",
      "  File \"C:\\Users\\Apex\\AppData\\Roaming\\Python\\Python38\\site-packages\\sklearn\\tree\\_classes.py\", line 255, in fit\n",
      "    raise ValueError(\"Invalid value for max_features. \"\n",
      "ValueError: Invalid value for max_features. Allowed string values are 'auto', 'sqrt' or 'log2'.\n",
      "\n",
      "  warnings.warn(\"Estimator fit failed. The score on this train-test\"\n",
      "C:\\Users\\Apex\\AppData\\Roaming\\Python\\Python38\\site-packages\\sklearn\\model_selection\\_validation.py:548: FitFailedWarning: Estimator fit failed. The score on this train-test partition for these parameters will be set to nan. Details: \n",
      "Traceback (most recent call last):\n",
      "  File \"C:\\Users\\Apex\\AppData\\Roaming\\Python\\Python38\\site-packages\\sklearn\\model_selection\\_validation.py\", line 531, in _fit_and_score\n",
      "    estimator.fit(X_train, y_train, **fit_params)\n",
      "  File \"C:\\Users\\Apex\\AppData\\Roaming\\Python\\Python38\\site-packages\\sklearn\\tree\\_classes.py\", line 890, in fit\n",
      "    super().fit(\n",
      "  File \"C:\\Users\\Apex\\AppData\\Roaming\\Python\\Python38\\site-packages\\sklearn\\tree\\_classes.py\", line 255, in fit\n",
      "    raise ValueError(\"Invalid value for max_features. \"\n",
      "ValueError: Invalid value for max_features. Allowed string values are 'auto', 'sqrt' or 'log2'.\n",
      "\n",
      "  warnings.warn(\"Estimator fit failed. The score on this train-test\"\n",
      "C:\\Users\\Apex\\AppData\\Roaming\\Python\\Python38\\site-packages\\sklearn\\model_selection\\_validation.py:548: FitFailedWarning: Estimator fit failed. The score on this train-test partition for these parameters will be set to nan. Details: \n",
      "Traceback (most recent call last):\n",
      "  File \"C:\\Users\\Apex\\AppData\\Roaming\\Python\\Python38\\site-packages\\sklearn\\model_selection\\_validation.py\", line 531, in _fit_and_score\n",
      "    estimator.fit(X_train, y_train, **fit_params)\n",
      "  File \"C:\\Users\\Apex\\AppData\\Roaming\\Python\\Python38\\site-packages\\sklearn\\tree\\_classes.py\", line 890, in fit\n",
      "    super().fit(\n",
      "  File \"C:\\Users\\Apex\\AppData\\Roaming\\Python\\Python38\\site-packages\\sklearn\\tree\\_classes.py\", line 255, in fit\n",
      "    raise ValueError(\"Invalid value for max_features. \"\n",
      "ValueError: Invalid value for max_features. Allowed string values are 'auto', 'sqrt' or 'log2'.\n",
      "\n",
      "  warnings.warn(\"Estimator fit failed. The score on this train-test\"\n"
     ]
    },
    {
     "name": "stdout",
     "output_type": "stream",
     "text": [
      "[CV]  criterion=entropy, max_depth=107, max_features=, random_state=4, score=nan, total=   0.0s\n",
      "[CV] criterion=entropy, max_depth=107, max_features=, random_state=4 .\n",
      "[CV]  criterion=entropy, max_depth=107, max_features=, random_state=4, score=nan, total=   0.0s\n",
      "[CV] criterion=entropy, max_depth=107, max_features=, random_state=5 .\n",
      "[CV]  criterion=entropy, max_depth=107, max_features=, random_state=5, score=nan, total=   0.0s\n",
      "[CV] criterion=entropy, max_depth=107, max_features=, random_state=5 .\n",
      "[CV]  criterion=entropy, max_depth=107, max_features=, random_state=5, score=nan, total=   0.0s\n",
      "[CV] criterion=entropy, max_depth=107, max_features=, random_state=5 .\n",
      "[CV]  criterion=entropy, max_depth=107, max_features=, random_state=5, score=nan, total=   0.0s\n",
      "[CV] criterion=entropy, max_depth=107, max_features=, random_state=5 .\n",
      "[CV]  criterion=entropy, max_depth=107, max_features=, random_state=5, score=nan, total=   0.0s\n",
      "[CV] criterion=entropy, max_depth=107, max_features=, random_state=5 .\n",
      "[CV]  criterion=entropy, max_depth=107, max_features=, random_state=5, score=nan, total=   0.0s\n",
      "[CV] criterion=entropy, max_depth=107, max_features=, random_state=6 .\n",
      "[CV]  criterion=entropy, max_depth=107, max_features=, random_state=6, score=nan, total=   0.0s\n",
      "[CV] criterion=entropy, max_depth=107, max_features=, random_state=6 .\n",
      "[CV]  criterion=entropy, max_depth=107, max_features=, random_state=6, score=nan, total=   0.0s\n",
      "[CV] criterion=entropy, max_depth=107, max_features=, random_state=6 .\n",
      "[CV]  criterion=entropy, max_depth=107, max_features=, random_state=6, score=nan, total=   0.0s\n",
      "[CV] criterion=entropy, max_depth=107, max_features=, random_state=6 .\n",
      "[CV]  criterion=entropy, max_depth=107, max_features=, random_state=6, score=nan, total=   0.0s\n",
      "[CV] criterion=entropy, max_depth=107, max_features=, random_state=6 .\n",
      "[CV]  criterion=entropy, max_depth=107, max_features=, random_state=6, score=nan, total=   0.0s\n",
      "[CV] criterion=entropy, max_depth=107, max_features=, random_state=7 .\n",
      "[CV]  criterion=entropy, max_depth=107, max_features=, random_state=7, score=nan, total=   0.0s\n",
      "[CV] criterion=entropy, max_depth=107, max_features=, random_state=7 .\n",
      "[CV]  criterion=entropy, max_depth=107, max_features=, random_state=7, score=nan, total=   0.0s\n",
      "[CV] criterion=entropy, max_depth=107, max_features=, random_state=7 .\n",
      "[CV]  criterion=entropy, max_depth=107, max_features=, random_state=7, score=nan, total=   0.0s\n",
      "[CV] criterion=entropy, max_depth=107, max_features=, random_state=7 .\n",
      "[CV]  criterion=entropy, max_depth=107, max_features=, random_state=7, score=nan, total=   0.0s\n",
      "[CV] criterion=entropy, max_depth=107, max_features=, random_state=7 .\n",
      "[CV]  criterion=entropy, max_depth=107, max_features=, random_state=7, score=nan, total=   0.0s\n",
      "[CV] criterion=entropy, max_depth=107, max_features=, random_state=8 .\n",
      "[CV]  criterion=entropy, max_depth=107, max_features=, random_state=8, score=nan, total=   0.0s\n",
      "[CV] criterion=entropy, max_depth=107, max_features=, random_state=8 .\n",
      "[CV]  criterion=entropy, max_depth=107, max_features=, random_state=8, score=nan, total=   0.0s\n",
      "[CV] criterion=entropy, max_depth=107, max_features=, random_state=8 .\n",
      "[CV]  criterion=entropy, max_depth=107, max_features=, random_state=8, score=nan, total=   0.0s\n",
      "[CV] criterion=entropy, max_depth=107, max_features=, random_state=8 .\n",
      "[CV]  criterion=entropy, max_depth=107, max_features=, random_state=8, score=nan, total=   0.0s\n",
      "[CV] criterion=entropy, max_depth=107, max_features=, random_state=8 .\n",
      "[CV]  criterion=entropy, max_depth=107, max_features=, random_state=8, score=nan, total=   0.0s\n",
      "[CV] criterion=entropy, max_depth=107, max_features=, random_state=9 .\n",
      "[CV]  criterion=entropy, max_depth=107, max_features=, random_state=9, score=nan, total=   0.0s\n",
      "[CV] criterion=entropy, max_depth=107, max_features=, random_state=9 .\n",
      "[CV]  criterion=entropy, max_depth=107, max_features=, random_state=9, score=nan, total=   0.0s\n",
      "[CV] criterion=entropy, max_depth=107, max_features=, random_state=9 .\n",
      "[CV]  criterion=entropy, max_depth=107, max_features=, random_state=9, score=nan, total=   0.0s\n",
      "[CV] criterion=entropy, max_depth=107, max_features=, random_state=9 .\n",
      "[CV]  criterion=entropy, max_depth=107, max_features=, random_state=9, score=nan, total=   0.0s\n",
      "[CV] criterion=entropy, max_depth=107, max_features=, random_state=9 .\n",
      "[CV]  criterion=entropy, max_depth=107, max_features=, random_state=9, score=nan, total=   0.0s\n",
      "0.5374156312625251\n",
      "{'ccp_alpha': 0.0, 'class_weight': None, 'criterion': 'gini', 'max_depth': 107, 'max_features': 'auto', 'max_leaf_nodes': None, 'min_impurity_decrease': 0.0, 'min_impurity_split': None, 'min_samples_leaf': 1, 'min_samples_split': 2, 'min_weight_fraction_leaf': 0.0, 'presort': 'deprecated', 'random_state': 9, 'splitter': 'best'}\n"
     ]
    },
    {
     "name": "stderr",
     "output_type": "stream",
     "text": [
      "C:\\Users\\Apex\\AppData\\Roaming\\Python\\Python38\\site-packages\\sklearn\\model_selection\\_validation.py:548: FitFailedWarning: Estimator fit failed. The score on this train-test partition for these parameters will be set to nan. Details: \n",
      "Traceback (most recent call last):\n",
      "  File \"C:\\Users\\Apex\\AppData\\Roaming\\Python\\Python38\\site-packages\\sklearn\\model_selection\\_validation.py\", line 531, in _fit_and_score\n",
      "    estimator.fit(X_train, y_train, **fit_params)\n",
      "  File \"C:\\Users\\Apex\\AppData\\Roaming\\Python\\Python38\\site-packages\\sklearn\\tree\\_classes.py\", line 890, in fit\n",
      "    super().fit(\n",
      "  File \"C:\\Users\\Apex\\AppData\\Roaming\\Python\\Python38\\site-packages\\sklearn\\tree\\_classes.py\", line 255, in fit\n",
      "    raise ValueError(\"Invalid value for max_features. \"\n",
      "ValueError: Invalid value for max_features. Allowed string values are 'auto', 'sqrt' or 'log2'.\n",
      "\n",
      "  warnings.warn(\"Estimator fit failed. The score on this train-test\"\n",
      "C:\\Users\\Apex\\AppData\\Roaming\\Python\\Python38\\site-packages\\sklearn\\model_selection\\_validation.py:548: FitFailedWarning: Estimator fit failed. The score on this train-test partition for these parameters will be set to nan. Details: \n",
      "Traceback (most recent call last):\n",
      "  File \"C:\\Users\\Apex\\AppData\\Roaming\\Python\\Python38\\site-packages\\sklearn\\model_selection\\_validation.py\", line 531, in _fit_and_score\n",
      "    estimator.fit(X_train, y_train, **fit_params)\n",
      "  File \"C:\\Users\\Apex\\AppData\\Roaming\\Python\\Python38\\site-packages\\sklearn\\tree\\_classes.py\", line 890, in fit\n",
      "    super().fit(\n",
      "  File \"C:\\Users\\Apex\\AppData\\Roaming\\Python\\Python38\\site-packages\\sklearn\\tree\\_classes.py\", line 255, in fit\n",
      "    raise ValueError(\"Invalid value for max_features. \"\n",
      "ValueError: Invalid value for max_features. Allowed string values are 'auto', 'sqrt' or 'log2'.\n",
      "\n",
      "  warnings.warn(\"Estimator fit failed. The score on this train-test\"\n",
      "C:\\Users\\Apex\\AppData\\Roaming\\Python\\Python38\\site-packages\\sklearn\\model_selection\\_validation.py:548: FitFailedWarning: Estimator fit failed. The score on this train-test partition for these parameters will be set to nan. Details: \n",
      "Traceback (most recent call last):\n",
      "  File \"C:\\Users\\Apex\\AppData\\Roaming\\Python\\Python38\\site-packages\\sklearn\\model_selection\\_validation.py\", line 531, in _fit_and_score\n",
      "    estimator.fit(X_train, y_train, **fit_params)\n",
      "  File \"C:\\Users\\Apex\\AppData\\Roaming\\Python\\Python38\\site-packages\\sklearn\\tree\\_classes.py\", line 890, in fit\n",
      "    super().fit(\n",
      "  File \"C:\\Users\\Apex\\AppData\\Roaming\\Python\\Python38\\site-packages\\sklearn\\tree\\_classes.py\", line 255, in fit\n",
      "    raise ValueError(\"Invalid value for max_features. \"\n",
      "ValueError: Invalid value for max_features. Allowed string values are 'auto', 'sqrt' or 'log2'.\n",
      "\n",
      "  warnings.warn(\"Estimator fit failed. The score on this train-test\"\n",
      "C:\\Users\\Apex\\AppData\\Roaming\\Python\\Python38\\site-packages\\sklearn\\model_selection\\_validation.py:548: FitFailedWarning: Estimator fit failed. The score on this train-test partition for these parameters will be set to nan. Details: \n",
      "Traceback (most recent call last):\n",
      "  File \"C:\\Users\\Apex\\AppData\\Roaming\\Python\\Python38\\site-packages\\sklearn\\model_selection\\_validation.py\", line 531, in _fit_and_score\n",
      "    estimator.fit(X_train, y_train, **fit_params)\n",
      "  File \"C:\\Users\\Apex\\AppData\\Roaming\\Python\\Python38\\site-packages\\sklearn\\tree\\_classes.py\", line 890, in fit\n",
      "    super().fit(\n",
      "  File \"C:\\Users\\Apex\\AppData\\Roaming\\Python\\Python38\\site-packages\\sklearn\\tree\\_classes.py\", line 255, in fit\n",
      "    raise ValueError(\"Invalid value for max_features. \"\n",
      "ValueError: Invalid value for max_features. Allowed string values are 'auto', 'sqrt' or 'log2'.\n",
      "\n",
      "  warnings.warn(\"Estimator fit failed. The score on this train-test\"\n",
      "C:\\Users\\Apex\\AppData\\Roaming\\Python\\Python38\\site-packages\\sklearn\\model_selection\\_validation.py:548: FitFailedWarning: Estimator fit failed. The score on this train-test partition for these parameters will be set to nan. Details: \n",
      "Traceback (most recent call last):\n",
      "  File \"C:\\Users\\Apex\\AppData\\Roaming\\Python\\Python38\\site-packages\\sklearn\\model_selection\\_validation.py\", line 531, in _fit_and_score\n",
      "    estimator.fit(X_train, y_train, **fit_params)\n",
      "  File \"C:\\Users\\Apex\\AppData\\Roaming\\Python\\Python38\\site-packages\\sklearn\\tree\\_classes.py\", line 890, in fit\n",
      "    super().fit(\n",
      "  File \"C:\\Users\\Apex\\AppData\\Roaming\\Python\\Python38\\site-packages\\sklearn\\tree\\_classes.py\", line 255, in fit\n",
      "    raise ValueError(\"Invalid value for max_features. \"\n",
      "ValueError: Invalid value for max_features. Allowed string values are 'auto', 'sqrt' or 'log2'.\n",
      "\n",
      "  warnings.warn(\"Estimator fit failed. The score on this train-test\"\n",
      "C:\\Users\\Apex\\AppData\\Roaming\\Python\\Python38\\site-packages\\sklearn\\model_selection\\_validation.py:548: FitFailedWarning: Estimator fit failed. The score on this train-test partition for these parameters will be set to nan. Details: \n",
      "Traceback (most recent call last):\n",
      "  File \"C:\\Users\\Apex\\AppData\\Roaming\\Python\\Python38\\site-packages\\sklearn\\model_selection\\_validation.py\", line 531, in _fit_and_score\n",
      "    estimator.fit(X_train, y_train, **fit_params)\n",
      "  File \"C:\\Users\\Apex\\AppData\\Roaming\\Python\\Python38\\site-packages\\sklearn\\tree\\_classes.py\", line 890, in fit\n",
      "    super().fit(\n",
      "  File \"C:\\Users\\Apex\\AppData\\Roaming\\Python\\Python38\\site-packages\\sklearn\\tree\\_classes.py\", line 255, in fit\n",
      "    raise ValueError(\"Invalid value for max_features. \"\n",
      "ValueError: Invalid value for max_features. Allowed string values are 'auto', 'sqrt' or 'log2'.\n",
      "\n",
      "  warnings.warn(\"Estimator fit failed. The score on this train-test\"\n",
      "C:\\Users\\Apex\\AppData\\Roaming\\Python\\Python38\\site-packages\\sklearn\\model_selection\\_validation.py:548: FitFailedWarning: Estimator fit failed. The score on this train-test partition for these parameters will be set to nan. Details: \n",
      "Traceback (most recent call last):\n",
      "  File \"C:\\Users\\Apex\\AppData\\Roaming\\Python\\Python38\\site-packages\\sklearn\\model_selection\\_validation.py\", line 531, in _fit_and_score\n",
      "    estimator.fit(X_train, y_train, **fit_params)\n",
      "  File \"C:\\Users\\Apex\\AppData\\Roaming\\Python\\Python38\\site-packages\\sklearn\\tree\\_classes.py\", line 890, in fit\n",
      "    super().fit(\n",
      "  File \"C:\\Users\\Apex\\AppData\\Roaming\\Python\\Python38\\site-packages\\sklearn\\tree\\_classes.py\", line 255, in fit\n",
      "    raise ValueError(\"Invalid value for max_features. \"\n",
      "ValueError: Invalid value for max_features. Allowed string values are 'auto', 'sqrt' or 'log2'.\n",
      "\n",
      "  warnings.warn(\"Estimator fit failed. The score on this train-test\"\n",
      "C:\\Users\\Apex\\AppData\\Roaming\\Python\\Python38\\site-packages\\sklearn\\model_selection\\_validation.py:548: FitFailedWarning: Estimator fit failed. The score on this train-test partition for these parameters will be set to nan. Details: \n",
      "Traceback (most recent call last):\n",
      "  File \"C:\\Users\\Apex\\AppData\\Roaming\\Python\\Python38\\site-packages\\sklearn\\model_selection\\_validation.py\", line 531, in _fit_and_score\n",
      "    estimator.fit(X_train, y_train, **fit_params)\n",
      "  File \"C:\\Users\\Apex\\AppData\\Roaming\\Python\\Python38\\site-packages\\sklearn\\tree\\_classes.py\", line 890, in fit\n",
      "    super().fit(\n",
      "  File \"C:\\Users\\Apex\\AppData\\Roaming\\Python\\Python38\\site-packages\\sklearn\\tree\\_classes.py\", line 255, in fit\n",
      "    raise ValueError(\"Invalid value for max_features. \"\n",
      "ValueError: Invalid value for max_features. Allowed string values are 'auto', 'sqrt' or 'log2'.\n",
      "\n",
      "  warnings.warn(\"Estimator fit failed. The score on this train-test\"\n",
      "C:\\Users\\Apex\\AppData\\Roaming\\Python\\Python38\\site-packages\\sklearn\\model_selection\\_validation.py:548: FitFailedWarning: Estimator fit failed. The score on this train-test partition for these parameters will be set to nan. Details: \n",
      "Traceback (most recent call last):\n",
      "  File \"C:\\Users\\Apex\\AppData\\Roaming\\Python\\Python38\\site-packages\\sklearn\\model_selection\\_validation.py\", line 531, in _fit_and_score\n",
      "    estimator.fit(X_train, y_train, **fit_params)\n",
      "  File \"C:\\Users\\Apex\\AppData\\Roaming\\Python\\Python38\\site-packages\\sklearn\\tree\\_classes.py\", line 890, in fit\n",
      "    super().fit(\n",
      "  File \"C:\\Users\\Apex\\AppData\\Roaming\\Python\\Python38\\site-packages\\sklearn\\tree\\_classes.py\", line 255, in fit\n",
      "    raise ValueError(\"Invalid value for max_features. \"\n",
      "ValueError: Invalid value for max_features. Allowed string values are 'auto', 'sqrt' or 'log2'.\n",
      "\n",
      "  warnings.warn(\"Estimator fit failed. The score on this train-test\"\n",
      "C:\\Users\\Apex\\AppData\\Roaming\\Python\\Python38\\site-packages\\sklearn\\model_selection\\_validation.py:548: FitFailedWarning: Estimator fit failed. The score on this train-test partition for these parameters will be set to nan. Details: \n",
      "Traceback (most recent call last):\n",
      "  File \"C:\\Users\\Apex\\AppData\\Roaming\\Python\\Python38\\site-packages\\sklearn\\model_selection\\_validation.py\", line 531, in _fit_and_score\n",
      "    estimator.fit(X_train, y_train, **fit_params)\n",
      "  File \"C:\\Users\\Apex\\AppData\\Roaming\\Python\\Python38\\site-packages\\sklearn\\tree\\_classes.py\", line 890, in fit\n",
      "    super().fit(\n",
      "  File \"C:\\Users\\Apex\\AppData\\Roaming\\Python\\Python38\\site-packages\\sklearn\\tree\\_classes.py\", line 255, in fit\n",
      "    raise ValueError(\"Invalid value for max_features. \"\n",
      "ValueError: Invalid value for max_features. Allowed string values are 'auto', 'sqrt' or 'log2'.\n",
      "\n",
      "  warnings.warn(\"Estimator fit failed. The score on this train-test\"\n",
      "C:\\Users\\Apex\\AppData\\Roaming\\Python\\Python38\\site-packages\\sklearn\\model_selection\\_validation.py:548: FitFailedWarning: Estimator fit failed. The score on this train-test partition for these parameters will be set to nan. Details: \n",
      "Traceback (most recent call last):\n",
      "  File \"C:\\Users\\Apex\\AppData\\Roaming\\Python\\Python38\\site-packages\\sklearn\\model_selection\\_validation.py\", line 531, in _fit_and_score\n",
      "    estimator.fit(X_train, y_train, **fit_params)\n",
      "  File \"C:\\Users\\Apex\\AppData\\Roaming\\Python\\Python38\\site-packages\\sklearn\\tree\\_classes.py\", line 890, in fit\n",
      "    super().fit(\n",
      "  File \"C:\\Users\\Apex\\AppData\\Roaming\\Python\\Python38\\site-packages\\sklearn\\tree\\_classes.py\", line 255, in fit\n",
      "    raise ValueError(\"Invalid value for max_features. \"\n",
      "ValueError: Invalid value for max_features. Allowed string values are 'auto', 'sqrt' or 'log2'.\n",
      "\n",
      "  warnings.warn(\"Estimator fit failed. The score on this train-test\"\n",
      "C:\\Users\\Apex\\AppData\\Roaming\\Python\\Python38\\site-packages\\sklearn\\model_selection\\_validation.py:548: FitFailedWarning: Estimator fit failed. The score on this train-test partition for these parameters will be set to nan. Details: \n",
      "Traceback (most recent call last):\n",
      "  File \"C:\\Users\\Apex\\AppData\\Roaming\\Python\\Python38\\site-packages\\sklearn\\model_selection\\_validation.py\", line 531, in _fit_and_score\n",
      "    estimator.fit(X_train, y_train, **fit_params)\n",
      "  File \"C:\\Users\\Apex\\AppData\\Roaming\\Python\\Python38\\site-packages\\sklearn\\tree\\_classes.py\", line 890, in fit\n",
      "    super().fit(\n",
      "  File \"C:\\Users\\Apex\\AppData\\Roaming\\Python\\Python38\\site-packages\\sklearn\\tree\\_classes.py\", line 255, in fit\n",
      "    raise ValueError(\"Invalid value for max_features. \"\n",
      "ValueError: Invalid value for max_features. Allowed string values are 'auto', 'sqrt' or 'log2'.\n",
      "\n",
      "  warnings.warn(\"Estimator fit failed. The score on this train-test\"\n",
      "C:\\Users\\Apex\\AppData\\Roaming\\Python\\Python38\\site-packages\\sklearn\\model_selection\\_validation.py:548: FitFailedWarning: Estimator fit failed. The score on this train-test partition for these parameters will be set to nan. Details: \n",
      "Traceback (most recent call last):\n",
      "  File \"C:\\Users\\Apex\\AppData\\Roaming\\Python\\Python38\\site-packages\\sklearn\\model_selection\\_validation.py\", line 531, in _fit_and_score\n",
      "    estimator.fit(X_train, y_train, **fit_params)\n",
      "  File \"C:\\Users\\Apex\\AppData\\Roaming\\Python\\Python38\\site-packages\\sklearn\\tree\\_classes.py\", line 890, in fit\n",
      "    super().fit(\n",
      "  File \"C:\\Users\\Apex\\AppData\\Roaming\\Python\\Python38\\site-packages\\sklearn\\tree\\_classes.py\", line 255, in fit\n",
      "    raise ValueError(\"Invalid value for max_features. \"\n",
      "ValueError: Invalid value for max_features. Allowed string values are 'auto', 'sqrt' or 'log2'.\n",
      "\n",
      "  warnings.warn(\"Estimator fit failed. The score on this train-test\"\n",
      "C:\\Users\\Apex\\AppData\\Roaming\\Python\\Python38\\site-packages\\sklearn\\model_selection\\_validation.py:548: FitFailedWarning: Estimator fit failed. The score on this train-test partition for these parameters will be set to nan. Details: \n",
      "Traceback (most recent call last):\n",
      "  File \"C:\\Users\\Apex\\AppData\\Roaming\\Python\\Python38\\site-packages\\sklearn\\model_selection\\_validation.py\", line 531, in _fit_and_score\n",
      "    estimator.fit(X_train, y_train, **fit_params)\n",
      "  File \"C:\\Users\\Apex\\AppData\\Roaming\\Python\\Python38\\site-packages\\sklearn\\tree\\_classes.py\", line 890, in fit\n",
      "    super().fit(\n",
      "  File \"C:\\Users\\Apex\\AppData\\Roaming\\Python\\Python38\\site-packages\\sklearn\\tree\\_classes.py\", line 255, in fit\n",
      "    raise ValueError(\"Invalid value for max_features. \"\n",
      "ValueError: Invalid value for max_features. Allowed string values are 'auto', 'sqrt' or 'log2'.\n",
      "\n",
      "  warnings.warn(\"Estimator fit failed. The score on this train-test\"\n",
      "C:\\Users\\Apex\\AppData\\Roaming\\Python\\Python38\\site-packages\\sklearn\\model_selection\\_validation.py:548: FitFailedWarning: Estimator fit failed. The score on this train-test partition for these parameters will be set to nan. Details: \n",
      "Traceback (most recent call last):\n",
      "  File \"C:\\Users\\Apex\\AppData\\Roaming\\Python\\Python38\\site-packages\\sklearn\\model_selection\\_validation.py\", line 531, in _fit_and_score\n",
      "    estimator.fit(X_train, y_train, **fit_params)\n",
      "  File \"C:\\Users\\Apex\\AppData\\Roaming\\Python\\Python38\\site-packages\\sklearn\\tree\\_classes.py\", line 890, in fit\n",
      "    super().fit(\n",
      "  File \"C:\\Users\\Apex\\AppData\\Roaming\\Python\\Python38\\site-packages\\sklearn\\tree\\_classes.py\", line 255, in fit\n",
      "    raise ValueError(\"Invalid value for max_features. \"\n",
      "ValueError: Invalid value for max_features. Allowed string values are 'auto', 'sqrt' or 'log2'.\n",
      "\n",
      "  warnings.warn(\"Estimator fit failed. The score on this train-test\"\n",
      "C:\\Users\\Apex\\AppData\\Roaming\\Python\\Python38\\site-packages\\sklearn\\model_selection\\_validation.py:548: FitFailedWarning: Estimator fit failed. The score on this train-test partition for these parameters will be set to nan. Details: \n",
      "Traceback (most recent call last):\n",
      "  File \"C:\\Users\\Apex\\AppData\\Roaming\\Python\\Python38\\site-packages\\sklearn\\model_selection\\_validation.py\", line 531, in _fit_and_score\n",
      "    estimator.fit(X_train, y_train, **fit_params)\n",
      "  File \"C:\\Users\\Apex\\AppData\\Roaming\\Python\\Python38\\site-packages\\sklearn\\tree\\_classes.py\", line 890, in fit\n",
      "    super().fit(\n",
      "  File \"C:\\Users\\Apex\\AppData\\Roaming\\Python\\Python38\\site-packages\\sklearn\\tree\\_classes.py\", line 255, in fit\n",
      "    raise ValueError(\"Invalid value for max_features. \"\n",
      "ValueError: Invalid value for max_features. Allowed string values are 'auto', 'sqrt' or 'log2'.\n",
      "\n",
      "  warnings.warn(\"Estimator fit failed. The score on this train-test\"\n",
      "C:\\Users\\Apex\\AppData\\Roaming\\Python\\Python38\\site-packages\\sklearn\\model_selection\\_validation.py:548: FitFailedWarning: Estimator fit failed. The score on this train-test partition for these parameters will be set to nan. Details: \n",
      "Traceback (most recent call last):\n",
      "  File \"C:\\Users\\Apex\\AppData\\Roaming\\Python\\Python38\\site-packages\\sklearn\\model_selection\\_validation.py\", line 531, in _fit_and_score\n",
      "    estimator.fit(X_train, y_train, **fit_params)\n",
      "  File \"C:\\Users\\Apex\\AppData\\Roaming\\Python\\Python38\\site-packages\\sklearn\\tree\\_classes.py\", line 890, in fit\n",
      "    super().fit(\n",
      "  File \"C:\\Users\\Apex\\AppData\\Roaming\\Python\\Python38\\site-packages\\sklearn\\tree\\_classes.py\", line 255, in fit\n",
      "    raise ValueError(\"Invalid value for max_features. \"\n",
      "ValueError: Invalid value for max_features. Allowed string values are 'auto', 'sqrt' or 'log2'.\n",
      "\n",
      "  warnings.warn(\"Estimator fit failed. The score on this train-test\"\n",
      "C:\\Users\\Apex\\AppData\\Roaming\\Python\\Python38\\site-packages\\sklearn\\model_selection\\_validation.py:548: FitFailedWarning: Estimator fit failed. The score on this train-test partition for these parameters will be set to nan. Details: \n",
      "Traceback (most recent call last):\n",
      "  File \"C:\\Users\\Apex\\AppData\\Roaming\\Python\\Python38\\site-packages\\sklearn\\model_selection\\_validation.py\", line 531, in _fit_and_score\n",
      "    estimator.fit(X_train, y_train, **fit_params)\n",
      "  File \"C:\\Users\\Apex\\AppData\\Roaming\\Python\\Python38\\site-packages\\sklearn\\tree\\_classes.py\", line 890, in fit\n",
      "    super().fit(\n",
      "  File \"C:\\Users\\Apex\\AppData\\Roaming\\Python\\Python38\\site-packages\\sklearn\\tree\\_classes.py\", line 255, in fit\n",
      "    raise ValueError(\"Invalid value for max_features. \"\n",
      "ValueError: Invalid value for max_features. Allowed string values are 'auto', 'sqrt' or 'log2'.\n",
      "\n",
      "  warnings.warn(\"Estimator fit failed. The score on this train-test\"\n",
      "C:\\Users\\Apex\\AppData\\Roaming\\Python\\Python38\\site-packages\\sklearn\\model_selection\\_validation.py:548: FitFailedWarning: Estimator fit failed. The score on this train-test partition for these parameters will be set to nan. Details: \n",
      "Traceback (most recent call last):\n",
      "  File \"C:\\Users\\Apex\\AppData\\Roaming\\Python\\Python38\\site-packages\\sklearn\\model_selection\\_validation.py\", line 531, in _fit_and_score\n",
      "    estimator.fit(X_train, y_train, **fit_params)\n",
      "  File \"C:\\Users\\Apex\\AppData\\Roaming\\Python\\Python38\\site-packages\\sklearn\\tree\\_classes.py\", line 890, in fit\n",
      "    super().fit(\n",
      "  File \"C:\\Users\\Apex\\AppData\\Roaming\\Python\\Python38\\site-packages\\sklearn\\tree\\_classes.py\", line 255, in fit\n",
      "    raise ValueError(\"Invalid value for max_features. \"\n",
      "ValueError: Invalid value for max_features. Allowed string values are 'auto', 'sqrt' or 'log2'.\n",
      "\n",
      "  warnings.warn(\"Estimator fit failed. The score on this train-test\"\n",
      "[Parallel(n_jobs=1)]: Done 360 out of 360 | elapsed:    6.1s finished\n"
     ]
    }
   ],
   "source": [
    "decision_tree=DecisionTreeClassifier()\n",
    "param_grid={\n",
    "    \"criterion\":['gini','entropy'],\n",
    "    \"max_depth\":[107],\n",
    "    \"max_features\":['auto','sqrt','log2',''],\n",
    "    \"random_state\":np.arange(1,10)   \n",
    "}\n",
    "test_model=model_selection.GridSearchCV(estimator=decision_tree,param_grid=param_grid,\n",
    "                                       scoring='accuracy',verbose=10)\n",
    "test_model.fit(X_train_2,y_train_2)\n",
    "print(test_model.best_score_)\n",
    "print(test_model.best_estimator_.get_params())\n"
   ]
  },
  {
   "cell_type": "code",
   "execution_count": 34,
   "id": "17a0602b",
   "metadata": {},
   "outputs": [],
   "source": [
    "dtree = DecisionTreeClassifier(max_depth=107, random_state=9,max_features='auto')\n",
    "dtree_2 = DecisionTreeClassifier(max_depth=107, random_state=9)\n",
    "dtree_3 = DecisionTreeClassifier(max_depth=107, random_state=9)\n",
    "dtree.fit(X_train, y_train)\n",
    "dtree_2.fit(X_train_2, y_train_2)\n",
    "dtree_3.fit(X_train_3, y_train_3)\n",
    "dtq1= dtree.predict(X_train)\n",
    "dq1 = dtree.predict(X_test)\n",
    "dtq2= dtree_2.predict(X_train_2)\n",
    "dq2 = dtree_2.predict(X_test_2)\n",
    "dtq3= dtree_3.predict(X_train_3)\n",
    "dq3 = dtree_3.predict(X_test_3)"
   ]
  },
  {
   "cell_type": "code",
   "execution_count": 35,
   "id": "458216b9",
   "metadata": {},
   "outputs": [
    {
     "name": "stdout",
     "output_type": "stream",
     "text": [
      "Accuracy via prediction on training set q1:  1.0\n",
      "Accuracy via prediction on test set q1:  0.5359712230215827\n",
      "Accuracy via prediction on training set q2:  1.0\n",
      "Accuracy via prediction on test set q2:  0.6218487394957983\n",
      "Accuracy via prediction on training set q3:  1.0\n",
      "Accuracy via prediction on test set q3:  0.6720142602495544\n"
     ]
    }
   ],
   "source": [
    "print('Accuracy via prediction on training set q1: ', accuracy_score(y_train, dtq1))\n",
    "print('Accuracy via prediction on test set q1: ', accuracy_score(y_test, dq1))\n",
    "print('Accuracy via prediction on training set q2: ', accuracy_score(y_train_2, dtq2))\n",
    "print('Accuracy via prediction on test set q2: ', accuracy_score(y_test_2, dq2))\n",
    "print('Accuracy via prediction on training set q3: ', r2_score(y_train_3, dtq3))\n",
    "print('Accuracy via prediction on test set q3: ', accuracy_score(y_test_3, dq3))"
   ]
  },
  {
   "cell_type": "code",
   "execution_count": 36,
   "id": "369473f6",
   "metadata": {},
   "outputs": [
    {
     "data": {
      "text/plain": [
       "Text(0.5, 1.0, 'Q3')"
      ]
     },
     "execution_count": 36,
     "metadata": {},
     "output_type": "execute_result"
    },
    {
     "data": {
      "image/png": "[encoded data removed]",
      "text/plain": [
       "<Figure size 1800x432 with 3 Axes>"
      ]
     },
     "metadata": {
      "needs_background": "light"
     },
     "output_type": "display_data"
    }
   ],
   "source": [
    "from sklearn.metrics import confusion_matrix  \n",
    "import seaborn as sn\n",
    "fig,axes=plt.subplots(1,3,figsize=(25,6))\n",
    "dif1=y_test-dq1\n",
    "sn.kdeplot(dif1,ax=axes[0])\n",
    "axes[0].set_title('Q1')\n",
    "dif2=y_test_2-dq2\n",
    "sn.kdeplot(dif2,ax=axes[1])\n",
    "axes[1].set_title('Q2')\n",
    "dif3=y_test_3-dq3\n",
    "sn.kdeplot(dif3,ax=axes[2])\n",
    "axes[2].set_title('Q3')"
   ]
  },
  {
   "cell_type": "code",
   "execution_count": 37,
   "id": "a3dd3621",
   "metadata": {
    "scrolled": true
   },
   "outputs": [
    {
     "data": {
      "text/plain": [
       "<AxesSubplot:>"
      ]
     },
     "execution_count": 37,
     "metadata": {},
     "output_type": "execute_result"
    },
    {
     "data": {
      "image/png": "[encoded data removed]",
      "text/plain": [
       "<Figure size 1080x1296 with 12 Axes>"
      ]
     },
     "metadata": {
      "needs_background": "light"
     },
     "output_type": "display_data"
    }
   ],
   "source": [
    "fig,axes=plt.subplots(3,2,figsize=(15,18))\n",
    "cm = pd.DataFrame(confusion_matrix(y_test, dq1))\n",
    "sn.heatmap(cm,ax=axes[0,0])\n",
    "cm1 = pd.DataFrame(confusion_matrix(y_test, y_test))\n",
    "sn.heatmap(cm1,ax=axes[0,1])\n",
    "cm3 = pd.DataFrame(confusion_matrix(y_test_2, dq2))\n",
    "sn.heatmap(cm3,ax=axes[1,0])\n",
    "cm4 = pd.DataFrame(confusion_matrix(y_test_2, y_test_2))\n",
    "sn.heatmap(cm4,ax=axes[1,1])\n",
    "cm5 = pd.DataFrame(confusion_matrix(y_test_3, dq3))\n",
    "sn.heatmap(cm5,ax=axes[2,0])\n",
    "cm6 = pd.DataFrame(confusion_matrix(y_test_3, y_test_3))\n",
    "sn.heatmap(cm6,ax=axes[2,1])\n"
   ]
  },
  {
   "cell_type": "markdown",
   "id": "9687d16a",
   "metadata": {},
   "source": [
    "## RandomForest"
   ]
  },
  {
   "cell_type": "code",
   "execution_count": 39,
   "id": "003cd510",
   "metadata": {
    "deletable": false,
    "editable": false,
    "run_control": {
     "frozen": true
    }
   },
   "outputs": [
    {
     "name": "stdout",
     "output_type": "stream",
     "text": [
      "Fitting 5 folds for each of 120 candidates, totalling 600 fits\n",
      "[CV] criterion=gini, max_depth=107, max_features=auto, min_impurity_decrease=0, n_estimators=100, random_state=1 \n"
     ]
    },
    {
     "name": "stderr",
     "output_type": "stream",
     "text": [
      "[Parallel(n_jobs=1)]: Using backend SequentialBackend with 1 concurrent workers.\n"
     ]
    },
    {
     "name": "stdout",
     "output_type": "stream",
     "text": [
      "[CV]  criterion=gini, max_depth=107, max_features=auto, min_impurity_decrease=0, n_estimators=100, random_state=1, score=0.688, total=   0.6s\n",
      "[CV] criterion=gini, max_depth=107, max_features=auto, min_impurity_decrease=0, n_estimators=100, random_state=1 \n"
     ]
    },
    {
     "name": "stderr",
     "output_type": "stream",
     "text": [
      "[Parallel(n_jobs=1)]: Done   1 out of   1 | elapsed:    0.5s remaining:    0.0s\n"
     ]
    },
    {
     "name": "stdout",
     "output_type": "stream",
     "text": [
      "[CV]  criterion=gini, max_depth=107, max_features=auto, min_impurity_decrease=0, n_estimators=100, random_state=1, score=0.690, total=   0.7s\n",
      "[CV] criterion=gini, max_depth=107, max_features=auto, min_impurity_decrease=0, n_estimators=100, random_state=1 \n"
     ]
    },
    {
     "name": "stderr",
     "output_type": "stream",
     "text": [
      "[Parallel(n_jobs=1)]: Done   2 out of   2 | elapsed:    1.2s remaining:    0.0s\n"
     ]
    },
    {
     "name": "stdout",
     "output_type": "stream",
     "text": [
      "[CV]  criterion=gini, max_depth=107, max_features=auto, min_impurity_decrease=0, n_estimators=100, random_state=1, score=0.684, total=   0.7s\n",
      "[CV] criterion=gini, max_depth=107, max_features=auto, min_impurity_decrease=0, n_estimators=100, random_state=1 \n"
     ]
    },
    {
     "name": "stderr",
     "output_type": "stream",
     "text": [
      "[Parallel(n_jobs=1)]: Done   3 out of   3 | elapsed:    1.9s remaining:    0.0s\n"
     ]
    },
    {
     "name": "stdout",
     "output_type": "stream",
     "text": [
      "[CV]  criterion=gini, max_depth=107, max_features=auto, min_impurity_decrease=0, n_estimators=100, random_state=1, score=0.662, total=   0.7s\n",
      "[CV] criterion=gini, max_depth=107, max_features=auto, min_impurity_decrease=0, n_estimators=100, random_state=1 \n"
     ]
    },
    {
     "name": "stderr",
     "output_type": "stream",
     "text": [
      "[Parallel(n_jobs=1)]: Done   4 out of   4 | elapsed:    2.7s remaining:    0.0s\n"
     ]
    },
    {
     "name": "stdout",
     "output_type": "stream",
     "text": [
      "[CV]  criterion=gini, max_depth=107, max_features=auto, min_impurity_decrease=0, n_estimators=100, random_state=1, score=0.673, total=   0.7s\n",
      "[CV] criterion=gini, max_depth=107, max_features=auto, min_impurity_decrease=0, n_estimators=200, random_state=1 \n"
     ]
    },
    {
     "name": "stderr",
     "output_type": "stream",
     "text": [
      "[Parallel(n_jobs=1)]: Done   5 out of   5 | elapsed:    3.4s remaining:    0.0s\n"
     ]
    },
    {
     "name": "stdout",
     "output_type": "stream",
     "text": [
      "[CV]  criterion=gini, max_depth=107, max_features=auto, min_impurity_decrease=0, n_estimators=200, random_state=1, score=0.672, total=   1.4s\n",
      "[CV] criterion=gini, max_depth=107, max_features=auto, min_impurity_decrease=0, n_estimators=200, random_state=1 \n"
     ]
    },
    {
     "name": "stderr",
     "output_type": "stream",
     "text": [
      "[Parallel(n_jobs=1)]: Done   6 out of   6 | elapsed:    4.8s remaining:    0.0s\n"
     ]
    },
    {
     "name": "stdout",
     "output_type": "stream",
     "text": [
      "[CV]  criterion=gini, max_depth=107, max_features=auto, min_impurity_decrease=0, n_estimators=200, random_state=1, score=0.686, total=   1.3s\n",
      "[CV] criterion=gini, max_depth=107, max_features=auto, min_impurity_decrease=0, n_estimators=200, random_state=1 \n"
     ]
    },
    {
     "name": "stderr",
     "output_type": "stream",
     "text": [
      "[Parallel(n_jobs=1)]: Done   7 out of   7 | elapsed:    6.1s remaining:    0.0s\n"
     ]
    },
    {
     "name": "stdout",
     "output_type": "stream",
     "text": [
      "[CV]  criterion=gini, max_depth=107, max_features=auto, min_impurity_decrease=0, n_estimators=200, random_state=1, score=0.684, total=   1.3s\n",
      "[CV] criterion=gini, max_depth=107, max_features=auto, min_impurity_decrease=0, n_estimators=200, random_state=1 \n"
     ]
    },
    {
     "name": "stderr",
     "output_type": "stream",
     "text": [
      "[Parallel(n_jobs=1)]: Done   8 out of   8 | elapsed:    7.5s remaining:    0.0s\n"
     ]
    },
    {
     "name": "stdout",
     "output_type": "stream",
     "text": [
      "[CV]  criterion=gini, max_depth=107, max_features=auto, min_impurity_decrease=0, n_estimators=200, random_state=1, score=0.668, total=   1.2s\n",
      "[CV] criterion=gini, max_depth=107, max_features=auto, min_impurity_decrease=0, n_estimators=200, random_state=1 \n"
     ]
    },
    {
     "name": "stderr",
     "output_type": "stream",
     "text": [
      "[Parallel(n_jobs=1)]: Done   9 out of   9 | elapsed:    8.7s remaining:    0.0s\n"
     ]
    },
    {
     "name": "stdout",
     "output_type": "stream",
     "text": [
      "[CV]  criterion=gini, max_depth=107, max_features=auto, min_impurity_decrease=0, n_estimators=200, random_state=1, score=0.669, total=   1.3s\n",
      "[CV] criterion=gini, max_depth=107, max_features=auto, min_impurity_decrease=0, n_estimators=300, random_state=1 \n",
      "[CV]  criterion=gini, max_depth=107, max_features=auto, min_impurity_decrease=0, n_estimators=300, random_state=1, score=0.682, total=   2.0s\n",
      "[CV] criterion=gini, max_depth=107, max_features=auto, min_impurity_decrease=0, n_estimators=300, random_state=1 \n",
      "[CV]  criterion=gini, max_depth=107, max_features=auto, min_impurity_decrease=0, n_estimators=300, random_state=1, score=0.692, total=   2.2s\n",
      "[CV] criterion=gini, max_depth=107, max_features=auto, min_impurity_decrease=0, n_estimators=300, random_state=1 \n",
      "[CV]  criterion=gini, max_depth=107, max_features=auto, min_impurity_decrease=0, n_estimators=300, random_state=1, score=0.682, total=   2.0s\n",
      "[CV] criterion=gini, max_depth=107, max_features=auto, min_impurity_decrease=0, n_estimators=300, random_state=1 \n",
      "[CV]  criterion=gini, max_depth=107, max_features=auto, min_impurity_decrease=0, n_estimators=300, random_state=1, score=0.670, total=   2.0s\n",
      "[CV] criterion=gini, max_depth=107, max_features=auto, min_impurity_decrease=0, n_estimators=300, random_state=1 \n",
      "[CV]  criterion=gini, max_depth=107, max_features=auto, min_impurity_decrease=0, n_estimators=300, random_state=1, score=0.669, total=   2.1s\n",
      "[CV] criterion=gini, max_depth=107, max_features=auto, min_impurity_decrease=0, n_estimators=400, random_state=1 \n",
      "[CV]  criterion=gini, max_depth=107, max_features=auto, min_impurity_decrease=0, n_estimators=400, random_state=1, score=0.680, total=   2.6s\n",
      "[CV] criterion=gini, max_depth=107, max_features=auto, min_impurity_decrease=0, n_estimators=400, random_state=1 \n",
      "[CV]  criterion=gini, max_depth=107, max_features=auto, min_impurity_decrease=0, n_estimators=400, random_state=1, score=0.686, total=   2.8s\n",
      "[CV] criterion=gini, max_depth=107, max_features=auto, min_impurity_decrease=0, n_estimators=400, random_state=1 \n",
      "[CV]  criterion=gini, max_depth=107, max_features=auto, min_impurity_decrease=0, n_estimators=400, random_state=1, score=0.682, total=   2.7s\n",
      "[CV] criterion=gini, max_depth=107, max_features=auto, min_impurity_decrease=0, n_estimators=400, random_state=1 \n",
      "[CV]  criterion=gini, max_depth=107, max_features=auto, min_impurity_decrease=0, n_estimators=400, random_state=1, score=0.670, total=   2.6s\n",
      "[CV] criterion=gini, max_depth=107, max_features=auto, min_impurity_decrease=0, n_estimators=400, random_state=1 \n",
      "[CV]  criterion=gini, max_depth=107, max_features=auto, min_impurity_decrease=0, n_estimators=400, random_state=1, score=0.671, total=   2.6s\n",
      "[CV] criterion=gini, max_depth=107, max_features=auto, min_impurity_decrease=0, n_estimators=500, random_state=1 \n",
      "[CV]  criterion=gini, max_depth=107, max_features=auto, min_impurity_decrease=0, n_estimators=500, random_state=1, score=0.684, total=   3.2s\n",
      "[CV] criterion=gini, max_depth=107, max_features=auto, min_impurity_decrease=0, n_estimators=500, random_state=1 \n",
      "[CV]  criterion=gini, max_depth=107, max_features=auto, min_impurity_decrease=0, n_estimators=500, random_state=1, score=0.688, total=   3.1s\n",
      "[CV] criterion=gini, max_depth=107, max_features=auto, min_impurity_decrease=0, n_estimators=500, random_state=1 \n",
      "[CV]  criterion=gini, max_depth=107, max_features=auto, min_impurity_decrease=0, n_estimators=500, random_state=1, score=0.688, total=   3.2s\n",
      "[CV] criterion=gini, max_depth=107, max_features=auto, min_impurity_decrease=0, n_estimators=500, random_state=1 \n",
      "[CV]  criterion=gini, max_depth=107, max_features=auto, min_impurity_decrease=0, n_estimators=500, random_state=1, score=0.670, total=   3.2s\n",
      "[CV] criterion=gini, max_depth=107, max_features=auto, min_impurity_decrease=0, n_estimators=500, random_state=1 \n"
     ]
    },
    {
     "ename": "KeyboardInterrupt",
     "evalue": "",
     "output_type": "error",
     "traceback": [
      "\u001b[1;31m---------------------------------------------------------------------------\u001b[0m",
      "\u001b[1;31mKeyboardInterrupt\u001b[0m                         Traceback (most recent call last)",
      "\u001b[1;32m<ipython-input-39-ba5299bd3eea>\u001b[0m in \u001b[0;36m<module>\u001b[1;34m\u001b[0m\n\u001b[0;32m     10\u001b[0m test_model=model_selection.GridSearchCV(estimator=random_forest,param_grid=param_grid,\n\u001b[0;32m     11\u001b[0m                                        scoring='accuracy',verbose=10)\n\u001b[1;32m---> 12\u001b[1;33m \u001b[0mtest_model\u001b[0m\u001b[1;33m.\u001b[0m\u001b[0mfit\u001b[0m\u001b[1;33m(\u001b[0m\u001b[0mX_train_2\u001b[0m\u001b[1;33m,\u001b[0m\u001b[0my_train_2\u001b[0m\u001b[1;33m)\u001b[0m\u001b[1;33m\u001b[0m\u001b[1;33m\u001b[0m\u001b[0m\n\u001b[0m\u001b[0;32m     13\u001b[0m \u001b[0mprint\u001b[0m\u001b[1;33m(\u001b[0m\u001b[0mtest_model\u001b[0m\u001b[1;33m.\u001b[0m\u001b[0mbest_score_\u001b[0m\u001b[1;33m)\u001b[0m\u001b[1;33m\u001b[0m\u001b[1;33m\u001b[0m\u001b[0m\n\u001b[0;32m     14\u001b[0m \u001b[0mprint\u001b[0m\u001b[1;33m(\u001b[0m\u001b[0mtest_model\u001b[0m\u001b[1;33m.\u001b[0m\u001b[0mbest_estimator_\u001b[0m\u001b[1;33m.\u001b[0m\u001b[0mget_params\u001b[0m\u001b[1;33m(\u001b[0m\u001b[1;33m)\u001b[0m\u001b[1;33m)\u001b[0m\u001b[1;33m\u001b[0m\u001b[1;33m\u001b[0m\u001b[0m\n",
      "\u001b[1;32m~\\AppData\\Roaming\\Python\\Python38\\site-packages\\sklearn\\utils\\validation.py\u001b[0m in \u001b[0;36minner_f\u001b[1;34m(*args, **kwargs)\u001b[0m\n\u001b[0;32m     70\u001b[0m                           FutureWarning)\n\u001b[0;32m     71\u001b[0m         \u001b[0mkwargs\u001b[0m\u001b[1;33m.\u001b[0m\u001b[0mupdate\u001b[0m\u001b[1;33m(\u001b[0m\u001b[1;33m{\u001b[0m\u001b[0mk\u001b[0m\u001b[1;33m:\u001b[0m \u001b[0marg\u001b[0m \u001b[1;32mfor\u001b[0m \u001b[0mk\u001b[0m\u001b[1;33m,\u001b[0m \u001b[0marg\u001b[0m \u001b[1;32min\u001b[0m \u001b[0mzip\u001b[0m\u001b[1;33m(\u001b[0m\u001b[0msig\u001b[0m\u001b[1;33m.\u001b[0m\u001b[0mparameters\u001b[0m\u001b[1;33m,\u001b[0m \u001b[0margs\u001b[0m\u001b[1;33m)\u001b[0m\u001b[1;33m}\u001b[0m\u001b[1;33m)\u001b[0m\u001b[1;33m\u001b[0m\u001b[1;33m\u001b[0m\u001b[0m\n\u001b[1;32m---> 72\u001b[1;33m         \u001b[1;32mreturn\u001b[0m \u001b[0mf\u001b[0m\u001b[1;33m(\u001b[0m\u001b[1;33m**\u001b[0m\u001b[0mkwargs\u001b[0m\u001b[1;33m)\u001b[0m\u001b[1;33m\u001b[0m\u001b[1;33m\u001b[0m\u001b[0m\n\u001b[0m\u001b[0;32m     73\u001b[0m     \u001b[1;32mreturn\u001b[0m \u001b[0minner_f\u001b[0m\u001b[1;33m\u001b[0m\u001b[1;33m\u001b[0m\u001b[0m\n\u001b[0;32m     74\u001b[0m \u001b[1;33m\u001b[0m\u001b[0m\n",
      "\u001b[1;32m~\\AppData\\Roaming\\Python\\Python38\\site-packages\\sklearn\\model_selection\\_search.py\u001b[0m in \u001b[0;36mfit\u001b[1;34m(self, X, y, groups, **fit_params)\u001b[0m\n\u001b[0;32m    734\u001b[0m                 \u001b[1;32mreturn\u001b[0m \u001b[0mresults\u001b[0m\u001b[1;33m\u001b[0m\u001b[1;33m\u001b[0m\u001b[0m\n\u001b[0;32m    735\u001b[0m \u001b[1;33m\u001b[0m\u001b[0m\n\u001b[1;32m--> 736\u001b[1;33m             \u001b[0mself\u001b[0m\u001b[1;33m.\u001b[0m\u001b[0m_run_search\u001b[0m\u001b[1;33m(\u001b[0m\u001b[0mevaluate_candidates\u001b[0m\u001b[1;33m)\u001b[0m\u001b[1;33m\u001b[0m\u001b[1;33m\u001b[0m\u001b[0m\n\u001b[0m\u001b[0;32m    737\u001b[0m \u001b[1;33m\u001b[0m\u001b[0m\n\u001b[0;32m    738\u001b[0m         \u001b[1;31m# For multi-metric evaluation, store the best_index_, best_params_ and\u001b[0m\u001b[1;33m\u001b[0m\u001b[1;33m\u001b[0m\u001b[1;33m\u001b[0m\u001b[0m\n",
      "\u001b[1;32m~\\AppData\\Roaming\\Python\\Python38\\site-packages\\sklearn\\model_selection\\_search.py\u001b[0m in \u001b[0;36m_run_search\u001b[1;34m(self, evaluate_candidates)\u001b[0m\n\u001b[0;32m   1186\u001b[0m     \u001b[1;32mdef\u001b[0m \u001b[0m_run_search\u001b[0m\u001b[1;33m(\u001b[0m\u001b[0mself\u001b[0m\u001b[1;33m,\u001b[0m \u001b[0mevaluate_candidates\u001b[0m\u001b[1;33m)\u001b[0m\u001b[1;33m:\u001b[0m\u001b[1;33m\u001b[0m\u001b[1;33m\u001b[0m\u001b[0m\n\u001b[0;32m   1187\u001b[0m         \u001b[1;34m\"\"\"Search all candidates in param_grid\"\"\"\u001b[0m\u001b[1;33m\u001b[0m\u001b[1;33m\u001b[0m\u001b[0m\n\u001b[1;32m-> 1188\u001b[1;33m         \u001b[0mevaluate_candidates\u001b[0m\u001b[1;33m(\u001b[0m\u001b[0mParameterGrid\u001b[0m\u001b[1;33m(\u001b[0m\u001b[0mself\u001b[0m\u001b[1;33m.\u001b[0m\u001b[0mparam_grid\u001b[0m\u001b[1;33m)\u001b[0m\u001b[1;33m)\u001b[0m\u001b[1;33m\u001b[0m\u001b[1;33m\u001b[0m\u001b[0m\n\u001b[0m\u001b[0;32m   1189\u001b[0m \u001b[1;33m\u001b[0m\u001b[0m\n\u001b[0;32m   1190\u001b[0m \u001b[1;33m\u001b[0m\u001b[0m\n",
      "\u001b[1;32m~\\AppData\\Roaming\\Python\\Python38\\site-packages\\sklearn\\model_selection\\_search.py\u001b[0m in \u001b[0;36mevaluate_candidates\u001b[1;34m(candidate_params)\u001b[0m\n\u001b[0;32m    706\u001b[0m                               n_splits, n_candidates, n_candidates * n_splits))\n\u001b[0;32m    707\u001b[0m \u001b[1;33m\u001b[0m\u001b[0m\n\u001b[1;32m--> 708\u001b[1;33m                 out = parallel(delayed(_fit_and_score)(clone(base_estimator),\n\u001b[0m\u001b[0;32m    709\u001b[0m                                                        \u001b[0mX\u001b[0m\u001b[1;33m,\u001b[0m \u001b[0my\u001b[0m\u001b[1;33m,\u001b[0m\u001b[1;33m\u001b[0m\u001b[1;33m\u001b[0m\u001b[0m\n\u001b[0;32m    710\u001b[0m                                                        \u001b[0mtrain\u001b[0m\u001b[1;33m=\u001b[0m\u001b[0mtrain\u001b[0m\u001b[1;33m,\u001b[0m \u001b[0mtest\u001b[0m\u001b[1;33m=\u001b[0m\u001b[0mtest\u001b[0m\u001b[1;33m,\u001b[0m\u001b[1;33m\u001b[0m\u001b[1;33m\u001b[0m\u001b[0m\n",
      "\u001b[1;32mC:\\ProgramData\\Anaconda3\\lib\\site-packages\\joblib\\parallel.py\u001b[0m in \u001b[0;36m__call__\u001b[1;34m(self, iterable)\u001b[0m\n\u001b[0;32m   1042\u001b[0m                 \u001b[0mself\u001b[0m\u001b[1;33m.\u001b[0m\u001b[0m_iterating\u001b[0m \u001b[1;33m=\u001b[0m \u001b[0mself\u001b[0m\u001b[1;33m.\u001b[0m\u001b[0m_original_iterator\u001b[0m \u001b[1;32mis\u001b[0m \u001b[1;32mnot\u001b[0m \u001b[1;32mNone\u001b[0m\u001b[1;33m\u001b[0m\u001b[1;33m\u001b[0m\u001b[0m\n\u001b[0;32m   1043\u001b[0m \u001b[1;33m\u001b[0m\u001b[0m\n\u001b[1;32m-> 1044\u001b[1;33m             \u001b[1;32mwhile\u001b[0m \u001b[0mself\u001b[0m\u001b[1;33m.\u001b[0m\u001b[0mdispatch_one_batch\u001b[0m\u001b[1;33m(\u001b[0m\u001b[0miterator\u001b[0m\u001b[1;33m)\u001b[0m\u001b[1;33m:\u001b[0m\u001b[1;33m\u001b[0m\u001b[1;33m\u001b[0m\u001b[0m\n\u001b[0m\u001b[0;32m   1045\u001b[0m                 \u001b[1;32mpass\u001b[0m\u001b[1;33m\u001b[0m\u001b[1;33m\u001b[0m\u001b[0m\n\u001b[0;32m   1046\u001b[0m \u001b[1;33m\u001b[0m\u001b[0m\n",
      "\u001b[1;32mC:\\ProgramData\\Anaconda3\\lib\\site-packages\\joblib\\parallel.py\u001b[0m in \u001b[0;36mdispatch_one_batch\u001b[1;34m(self, iterator)\u001b[0m\n\u001b[0;32m    857\u001b[0m                 \u001b[1;32mreturn\u001b[0m \u001b[1;32mFalse\u001b[0m\u001b[1;33m\u001b[0m\u001b[1;33m\u001b[0m\u001b[0m\n\u001b[0;32m    858\u001b[0m             \u001b[1;32melse\u001b[0m\u001b[1;33m:\u001b[0m\u001b[1;33m\u001b[0m\u001b[1;33m\u001b[0m\u001b[0m\n\u001b[1;32m--> 859\u001b[1;33m                 \u001b[0mself\u001b[0m\u001b[1;33m.\u001b[0m\u001b[0m_dispatch\u001b[0m\u001b[1;33m(\u001b[0m\u001b[0mtasks\u001b[0m\u001b[1;33m)\u001b[0m\u001b[1;33m\u001b[0m\u001b[1;33m\u001b[0m\u001b[0m\n\u001b[0m\u001b[0;32m    860\u001b[0m                 \u001b[1;32mreturn\u001b[0m \u001b[1;32mTrue\u001b[0m\u001b[1;33m\u001b[0m\u001b[1;33m\u001b[0m\u001b[0m\n\u001b[0;32m    861\u001b[0m \u001b[1;33m\u001b[0m\u001b[0m\n",
      "\u001b[1;32mC:\\ProgramData\\Anaconda3\\lib\\site-packages\\joblib\\parallel.py\u001b[0m in \u001b[0;36m_dispatch\u001b[1;34m(self, batch)\u001b[0m\n\u001b[0;32m    775\u001b[0m         \u001b[1;32mwith\u001b[0m \u001b[0mself\u001b[0m\u001b[1;33m.\u001b[0m\u001b[0m_lock\u001b[0m\u001b[1;33m:\u001b[0m\u001b[1;33m\u001b[0m\u001b[1;33m\u001b[0m\u001b[0m\n\u001b[0;32m    776\u001b[0m             \u001b[0mjob_idx\u001b[0m \u001b[1;33m=\u001b[0m \u001b[0mlen\u001b[0m\u001b[1;33m(\u001b[0m\u001b[0mself\u001b[0m\u001b[1;33m.\u001b[0m\u001b[0m_jobs\u001b[0m\u001b[1;33m)\u001b[0m\u001b[1;33m\u001b[0m\u001b[1;33m\u001b[0m\u001b[0m\n\u001b[1;32m--> 777\u001b[1;33m             \u001b[0mjob\u001b[0m \u001b[1;33m=\u001b[0m \u001b[0mself\u001b[0m\u001b[1;33m.\u001b[0m\u001b[0m_backend\u001b[0m\u001b[1;33m.\u001b[0m\u001b[0mapply_async\u001b[0m\u001b[1;33m(\u001b[0m\u001b[0mbatch\u001b[0m\u001b[1;33m,\u001b[0m \u001b[0mcallback\u001b[0m\u001b[1;33m=\u001b[0m\u001b[0mcb\u001b[0m\u001b[1;33m)\u001b[0m\u001b[1;33m\u001b[0m\u001b[1;33m\u001b[0m\u001b[0m\n\u001b[0m\u001b[0;32m    778\u001b[0m             \u001b[1;31m# A job can complete so quickly than its callback is\u001b[0m\u001b[1;33m\u001b[0m\u001b[1;33m\u001b[0m\u001b[1;33m\u001b[0m\u001b[0m\n\u001b[0;32m    779\u001b[0m             \u001b[1;31m# called before we get here, causing self._jobs to\u001b[0m\u001b[1;33m\u001b[0m\u001b[1;33m\u001b[0m\u001b[1;33m\u001b[0m\u001b[0m\n",
      "\u001b[1;32mC:\\ProgramData\\Anaconda3\\lib\\site-packages\\joblib\\_parallel_backends.py\u001b[0m in \u001b[0;36mapply_async\u001b[1;34m(self, func, callback)\u001b[0m\n\u001b[0;32m    206\u001b[0m     \u001b[1;32mdef\u001b[0m \u001b[0mapply_async\u001b[0m\u001b[1;33m(\u001b[0m\u001b[0mself\u001b[0m\u001b[1;33m,\u001b[0m \u001b[0mfunc\u001b[0m\u001b[1;33m,\u001b[0m \u001b[0mcallback\u001b[0m\u001b[1;33m=\u001b[0m\u001b[1;32mNone\u001b[0m\u001b[1;33m)\u001b[0m\u001b[1;33m:\u001b[0m\u001b[1;33m\u001b[0m\u001b[1;33m\u001b[0m\u001b[0m\n\u001b[0;32m    207\u001b[0m         \u001b[1;34m\"\"\"Schedule a func to be run\"\"\"\u001b[0m\u001b[1;33m\u001b[0m\u001b[1;33m\u001b[0m\u001b[0m\n\u001b[1;32m--> 208\u001b[1;33m         \u001b[0mresult\u001b[0m \u001b[1;33m=\u001b[0m \u001b[0mImmediateResult\u001b[0m\u001b[1;33m(\u001b[0m\u001b[0mfunc\u001b[0m\u001b[1;33m)\u001b[0m\u001b[1;33m\u001b[0m\u001b[1;33m\u001b[0m\u001b[0m\n\u001b[0m\u001b[0;32m    209\u001b[0m         \u001b[1;32mif\u001b[0m \u001b[0mcallback\u001b[0m\u001b[1;33m:\u001b[0m\u001b[1;33m\u001b[0m\u001b[1;33m\u001b[0m\u001b[0m\n\u001b[0;32m    210\u001b[0m             \u001b[0mcallback\u001b[0m\u001b[1;33m(\u001b[0m\u001b[0mresult\u001b[0m\u001b[1;33m)\u001b[0m\u001b[1;33m\u001b[0m\u001b[1;33m\u001b[0m\u001b[0m\n",
      "\u001b[1;32mC:\\ProgramData\\Anaconda3\\lib\\site-packages\\joblib\\_parallel_backends.py\u001b[0m in \u001b[0;36m__init__\u001b[1;34m(self, batch)\u001b[0m\n\u001b[0;32m    570\u001b[0m         \u001b[1;31m# Don't delay the application, to avoid keeping the input\u001b[0m\u001b[1;33m\u001b[0m\u001b[1;33m\u001b[0m\u001b[1;33m\u001b[0m\u001b[0m\n\u001b[0;32m    571\u001b[0m         \u001b[1;31m# arguments in memory\u001b[0m\u001b[1;33m\u001b[0m\u001b[1;33m\u001b[0m\u001b[1;33m\u001b[0m\u001b[0m\n\u001b[1;32m--> 572\u001b[1;33m         \u001b[0mself\u001b[0m\u001b[1;33m.\u001b[0m\u001b[0mresults\u001b[0m \u001b[1;33m=\u001b[0m \u001b[0mbatch\u001b[0m\u001b[1;33m(\u001b[0m\u001b[1;33m)\u001b[0m\u001b[1;33m\u001b[0m\u001b[1;33m\u001b[0m\u001b[0m\n\u001b[0m\u001b[0;32m    573\u001b[0m \u001b[1;33m\u001b[0m\u001b[0m\n\u001b[0;32m    574\u001b[0m     \u001b[1;32mdef\u001b[0m \u001b[0mget\u001b[0m\u001b[1;33m(\u001b[0m\u001b[0mself\u001b[0m\u001b[1;33m)\u001b[0m\u001b[1;33m:\u001b[0m\u001b[1;33m\u001b[0m\u001b[1;33m\u001b[0m\u001b[0m\n",
      "\u001b[1;32mC:\\ProgramData\\Anaconda3\\lib\\site-packages\\joblib\\parallel.py\u001b[0m in \u001b[0;36m__call__\u001b[1;34m(self)\u001b[0m\n\u001b[0;32m    260\u001b[0m         \u001b[1;31m# change the default number of processes to -1\u001b[0m\u001b[1;33m\u001b[0m\u001b[1;33m\u001b[0m\u001b[1;33m\u001b[0m\u001b[0m\n\u001b[0;32m    261\u001b[0m         \u001b[1;32mwith\u001b[0m \u001b[0mparallel_backend\u001b[0m\u001b[1;33m(\u001b[0m\u001b[0mself\u001b[0m\u001b[1;33m.\u001b[0m\u001b[0m_backend\u001b[0m\u001b[1;33m,\u001b[0m \u001b[0mn_jobs\u001b[0m\u001b[1;33m=\u001b[0m\u001b[0mself\u001b[0m\u001b[1;33m.\u001b[0m\u001b[0m_n_jobs\u001b[0m\u001b[1;33m)\u001b[0m\u001b[1;33m:\u001b[0m\u001b[1;33m\u001b[0m\u001b[1;33m\u001b[0m\u001b[0m\n\u001b[1;32m--> 262\u001b[1;33m             return [func(*args, **kwargs)\n\u001b[0m\u001b[0;32m    263\u001b[0m                     for func, args, kwargs in self.items]\n\u001b[0;32m    264\u001b[0m \u001b[1;33m\u001b[0m\u001b[0m\n",
      "\u001b[1;32mC:\\ProgramData\\Anaconda3\\lib\\site-packages\\joblib\\parallel.py\u001b[0m in \u001b[0;36m<listcomp>\u001b[1;34m(.0)\u001b[0m\n\u001b[0;32m    260\u001b[0m         \u001b[1;31m# change the default number of processes to -1\u001b[0m\u001b[1;33m\u001b[0m\u001b[1;33m\u001b[0m\u001b[1;33m\u001b[0m\u001b[0m\n\u001b[0;32m    261\u001b[0m         \u001b[1;32mwith\u001b[0m \u001b[0mparallel_backend\u001b[0m\u001b[1;33m(\u001b[0m\u001b[0mself\u001b[0m\u001b[1;33m.\u001b[0m\u001b[0m_backend\u001b[0m\u001b[1;33m,\u001b[0m \u001b[0mn_jobs\u001b[0m\u001b[1;33m=\u001b[0m\u001b[0mself\u001b[0m\u001b[1;33m.\u001b[0m\u001b[0m_n_jobs\u001b[0m\u001b[1;33m)\u001b[0m\u001b[1;33m:\u001b[0m\u001b[1;33m\u001b[0m\u001b[1;33m\u001b[0m\u001b[0m\n\u001b[1;32m--> 262\u001b[1;33m             return [func(*args, **kwargs)\n\u001b[0m\u001b[0;32m    263\u001b[0m                     for func, args, kwargs in self.items]\n\u001b[0;32m    264\u001b[0m \u001b[1;33m\u001b[0m\u001b[0m\n",
      "\u001b[1;32m~\\AppData\\Roaming\\Python\\Python38\\site-packages\\sklearn\\model_selection\\_validation.py\u001b[0m in \u001b[0;36m_fit_and_score\u001b[1;34m(estimator, X, y, scorer, train, test, verbose, parameters, fit_params, return_train_score, return_parameters, return_n_test_samples, return_times, return_estimator, error_score)\u001b[0m\n\u001b[0;32m    558\u001b[0m     \u001b[1;32melse\u001b[0m\u001b[1;33m:\u001b[0m\u001b[1;33m\u001b[0m\u001b[1;33m\u001b[0m\u001b[0m\n\u001b[0;32m    559\u001b[0m         \u001b[0mfit_time\u001b[0m \u001b[1;33m=\u001b[0m \u001b[0mtime\u001b[0m\u001b[1;33m.\u001b[0m\u001b[0mtime\u001b[0m\u001b[1;33m(\u001b[0m\u001b[1;33m)\u001b[0m \u001b[1;33m-\u001b[0m \u001b[0mstart_time\u001b[0m\u001b[1;33m\u001b[0m\u001b[1;33m\u001b[0m\u001b[0m\n\u001b[1;32m--> 560\u001b[1;33m         \u001b[0mtest_scores\u001b[0m \u001b[1;33m=\u001b[0m \u001b[0m_score\u001b[0m\u001b[1;33m(\u001b[0m\u001b[0mestimator\u001b[0m\u001b[1;33m,\u001b[0m \u001b[0mX_test\u001b[0m\u001b[1;33m,\u001b[0m \u001b[0my_test\u001b[0m\u001b[1;33m,\u001b[0m \u001b[0mscorer\u001b[0m\u001b[1;33m)\u001b[0m\u001b[1;33m\u001b[0m\u001b[1;33m\u001b[0m\u001b[0m\n\u001b[0m\u001b[0;32m    561\u001b[0m         \u001b[0mscore_time\u001b[0m \u001b[1;33m=\u001b[0m \u001b[0mtime\u001b[0m\u001b[1;33m.\u001b[0m\u001b[0mtime\u001b[0m\u001b[1;33m(\u001b[0m\u001b[1;33m)\u001b[0m \u001b[1;33m-\u001b[0m \u001b[0mstart_time\u001b[0m \u001b[1;33m-\u001b[0m \u001b[0mfit_time\u001b[0m\u001b[1;33m\u001b[0m\u001b[1;33m\u001b[0m\u001b[0m\n\u001b[0;32m    562\u001b[0m         \u001b[1;32mif\u001b[0m \u001b[0mreturn_train_score\u001b[0m\u001b[1;33m:\u001b[0m\u001b[1;33m\u001b[0m\u001b[1;33m\u001b[0m\u001b[0m\n",
      "\u001b[1;32m~\\AppData\\Roaming\\Python\\Python38\\site-packages\\sklearn\\model_selection\\_validation.py\u001b[0m in \u001b[0;36m_score\u001b[1;34m(estimator, X_test, y_test, scorer)\u001b[0m\n\u001b[0;32m    605\u001b[0m         \u001b[0mscores\u001b[0m \u001b[1;33m=\u001b[0m \u001b[0mscorer\u001b[0m\u001b[1;33m(\u001b[0m\u001b[0mestimator\u001b[0m\u001b[1;33m,\u001b[0m \u001b[0mX_test\u001b[0m\u001b[1;33m)\u001b[0m\u001b[1;33m\u001b[0m\u001b[1;33m\u001b[0m\u001b[0m\n\u001b[0;32m    606\u001b[0m     \u001b[1;32melse\u001b[0m\u001b[1;33m:\u001b[0m\u001b[1;33m\u001b[0m\u001b[1;33m\u001b[0m\u001b[0m\n\u001b[1;32m--> 607\u001b[1;33m         \u001b[0mscores\u001b[0m \u001b[1;33m=\u001b[0m \u001b[0mscorer\u001b[0m\u001b[1;33m(\u001b[0m\u001b[0mestimator\u001b[0m\u001b[1;33m,\u001b[0m \u001b[0mX_test\u001b[0m\u001b[1;33m,\u001b[0m \u001b[0my_test\u001b[0m\u001b[1;33m)\u001b[0m\u001b[1;33m\u001b[0m\u001b[1;33m\u001b[0m\u001b[0m\n\u001b[0m\u001b[0;32m    608\u001b[0m \u001b[1;33m\u001b[0m\u001b[0m\n\u001b[0;32m    609\u001b[0m     error_msg = (\"scoring must return a number, got %s (%s) \"\n",
      "\u001b[1;32m~\\AppData\\Roaming\\Python\\Python38\\site-packages\\sklearn\\metrics\\_scorer.py\u001b[0m in \u001b[0;36m__call__\u001b[1;34m(self, estimator, *args, **kwargs)\u001b[0m\n\u001b[0;32m     85\u001b[0m         \u001b[1;32mfor\u001b[0m \u001b[0mname\u001b[0m\u001b[1;33m,\u001b[0m \u001b[0mscorer\u001b[0m \u001b[1;32min\u001b[0m \u001b[0mself\u001b[0m\u001b[1;33m.\u001b[0m\u001b[0m_scorers\u001b[0m\u001b[1;33m.\u001b[0m\u001b[0mitems\u001b[0m\u001b[1;33m(\u001b[0m\u001b[1;33m)\u001b[0m\u001b[1;33m:\u001b[0m\u001b[1;33m\u001b[0m\u001b[1;33m\u001b[0m\u001b[0m\n\u001b[0;32m     86\u001b[0m             \u001b[1;32mif\u001b[0m \u001b[0misinstance\u001b[0m\u001b[1;33m(\u001b[0m\u001b[0mscorer\u001b[0m\u001b[1;33m,\u001b[0m \u001b[0m_BaseScorer\u001b[0m\u001b[1;33m)\u001b[0m\u001b[1;33m:\u001b[0m\u001b[1;33m\u001b[0m\u001b[1;33m\u001b[0m\u001b[0m\n\u001b[1;32m---> 87\u001b[1;33m                 score = scorer._score(cached_call, estimator,\n\u001b[0m\u001b[0;32m     88\u001b[0m                                       *args, **kwargs)\n\u001b[0;32m     89\u001b[0m             \u001b[1;32melse\u001b[0m\u001b[1;33m:\u001b[0m\u001b[1;33m\u001b[0m\u001b[1;33m\u001b[0m\u001b[0m\n",
      "\u001b[1;32m~\\AppData\\Roaming\\Python\\Python38\\site-packages\\sklearn\\metrics\\_scorer.py\u001b[0m in \u001b[0;36m_score\u001b[1;34m(self, method_caller, estimator, X, y_true, sample_weight)\u001b[0m\n\u001b[0;32m    204\u001b[0m         \"\"\"\n\u001b[0;32m    205\u001b[0m \u001b[1;33m\u001b[0m\u001b[0m\n\u001b[1;32m--> 206\u001b[1;33m         \u001b[0my_pred\u001b[0m \u001b[1;33m=\u001b[0m \u001b[0mmethod_caller\u001b[0m\u001b[1;33m(\u001b[0m\u001b[0mestimator\u001b[0m\u001b[1;33m,\u001b[0m \u001b[1;34m\"predict\"\u001b[0m\u001b[1;33m,\u001b[0m \u001b[0mX\u001b[0m\u001b[1;33m)\u001b[0m\u001b[1;33m\u001b[0m\u001b[1;33m\u001b[0m\u001b[0m\n\u001b[0m\u001b[0;32m    207\u001b[0m         \u001b[1;32mif\u001b[0m \u001b[0msample_weight\u001b[0m \u001b[1;32mis\u001b[0m \u001b[1;32mnot\u001b[0m \u001b[1;32mNone\u001b[0m\u001b[1;33m:\u001b[0m\u001b[1;33m\u001b[0m\u001b[1;33m\u001b[0m\u001b[0m\n\u001b[0;32m    208\u001b[0m             return self._sign * self._score_func(y_true, y_pred,\n",
      "\u001b[1;32m~\\AppData\\Roaming\\Python\\Python38\\site-packages\\sklearn\\metrics\\_scorer.py\u001b[0m in \u001b[0;36m_cached_call\u001b[1;34m(cache, estimator, method, *args, **kwargs)\u001b[0m\n\u001b[0;32m     51\u001b[0m     \u001b[1;34m\"\"\"Call estimator with method and args and kwargs.\"\"\"\u001b[0m\u001b[1;33m\u001b[0m\u001b[1;33m\u001b[0m\u001b[0m\n\u001b[0;32m     52\u001b[0m     \u001b[1;32mif\u001b[0m \u001b[0mcache\u001b[0m \u001b[1;32mis\u001b[0m \u001b[1;32mNone\u001b[0m\u001b[1;33m:\u001b[0m\u001b[1;33m\u001b[0m\u001b[1;33m\u001b[0m\u001b[0m\n\u001b[1;32m---> 53\u001b[1;33m         \u001b[1;32mreturn\u001b[0m \u001b[0mgetattr\u001b[0m\u001b[1;33m(\u001b[0m\u001b[0mestimator\u001b[0m\u001b[1;33m,\u001b[0m \u001b[0mmethod\u001b[0m\u001b[1;33m)\u001b[0m\u001b[1;33m(\u001b[0m\u001b[1;33m*\u001b[0m\u001b[0margs\u001b[0m\u001b[1;33m,\u001b[0m \u001b[1;33m**\u001b[0m\u001b[0mkwargs\u001b[0m\u001b[1;33m)\u001b[0m\u001b[1;33m\u001b[0m\u001b[1;33m\u001b[0m\u001b[0m\n\u001b[0m\u001b[0;32m     54\u001b[0m \u001b[1;33m\u001b[0m\u001b[0m\n\u001b[0;32m     55\u001b[0m     \u001b[1;32mtry\u001b[0m\u001b[1;33m:\u001b[0m\u001b[1;33m\u001b[0m\u001b[1;33m\u001b[0m\u001b[0m\n",
      "\u001b[1;32m~\\AppData\\Roaming\\Python\\Python38\\site-packages\\sklearn\\ensemble\\_forest.py\u001b[0m in \u001b[0;36mpredict\u001b[1;34m(self, X)\u001b[0m\n\u001b[0;32m    627\u001b[0m             \u001b[0mThe\u001b[0m \u001b[0mpredicted\u001b[0m \u001b[0mclasses\u001b[0m\u001b[1;33m.\u001b[0m\u001b[1;33m\u001b[0m\u001b[1;33m\u001b[0m\u001b[0m\n\u001b[0;32m    628\u001b[0m         \"\"\"\n\u001b[1;32m--> 629\u001b[1;33m         \u001b[0mproba\u001b[0m \u001b[1;33m=\u001b[0m \u001b[0mself\u001b[0m\u001b[1;33m.\u001b[0m\u001b[0mpredict_proba\u001b[0m\u001b[1;33m(\u001b[0m\u001b[0mX\u001b[0m\u001b[1;33m)\u001b[0m\u001b[1;33m\u001b[0m\u001b[1;33m\u001b[0m\u001b[0m\n\u001b[0m\u001b[0;32m    630\u001b[0m \u001b[1;33m\u001b[0m\u001b[0m\n\u001b[0;32m    631\u001b[0m         \u001b[1;32mif\u001b[0m \u001b[0mself\u001b[0m\u001b[1;33m.\u001b[0m\u001b[0mn_outputs_\u001b[0m \u001b[1;33m==\u001b[0m \u001b[1;36m1\u001b[0m\u001b[1;33m:\u001b[0m\u001b[1;33m\u001b[0m\u001b[1;33m\u001b[0m\u001b[0m\n",
      "\u001b[1;32m~\\AppData\\Roaming\\Python\\Python38\\site-packages\\sklearn\\ensemble\\_forest.py\u001b[0m in \u001b[0;36mpredict_proba\u001b[1;34m(self, X)\u001b[0m\n\u001b[0;32m    680\u001b[0m                      for j in np.atleast_1d(self.n_classes_)]\n\u001b[0;32m    681\u001b[0m         \u001b[0mlock\u001b[0m \u001b[1;33m=\u001b[0m \u001b[0mthreading\u001b[0m\u001b[1;33m.\u001b[0m\u001b[0mLock\u001b[0m\u001b[1;33m(\u001b[0m\u001b[1;33m)\u001b[0m\u001b[1;33m\u001b[0m\u001b[1;33m\u001b[0m\u001b[0m\n\u001b[1;32m--> 682\u001b[1;33m         Parallel(n_jobs=n_jobs, verbose=self.verbose,\n\u001b[0m\u001b[0;32m    683\u001b[0m                  \u001b[1;33m**\u001b[0m\u001b[0m_joblib_parallel_args\u001b[0m\u001b[1;33m(\u001b[0m\u001b[0mrequire\u001b[0m\u001b[1;33m=\u001b[0m\u001b[1;34m\"sharedmem\"\u001b[0m\u001b[1;33m)\u001b[0m\u001b[1;33m)\u001b[0m\u001b[1;33m(\u001b[0m\u001b[1;33m\u001b[0m\u001b[1;33m\u001b[0m\u001b[0m\n\u001b[0;32m    684\u001b[0m             delayed(_accumulate_prediction)(e.predict_proba, X, all_proba,\n",
      "\u001b[1;32mC:\\ProgramData\\Anaconda3\\lib\\site-packages\\joblib\\parallel.py\u001b[0m in \u001b[0;36m__call__\u001b[1;34m(self, iterable)\u001b[0m\n\u001b[0;32m   1042\u001b[0m                 \u001b[0mself\u001b[0m\u001b[1;33m.\u001b[0m\u001b[0m_iterating\u001b[0m \u001b[1;33m=\u001b[0m \u001b[0mself\u001b[0m\u001b[1;33m.\u001b[0m\u001b[0m_original_iterator\u001b[0m \u001b[1;32mis\u001b[0m \u001b[1;32mnot\u001b[0m \u001b[1;32mNone\u001b[0m\u001b[1;33m\u001b[0m\u001b[1;33m\u001b[0m\u001b[0m\n\u001b[0;32m   1043\u001b[0m \u001b[1;33m\u001b[0m\u001b[0m\n\u001b[1;32m-> 1044\u001b[1;33m             \u001b[1;32mwhile\u001b[0m \u001b[0mself\u001b[0m\u001b[1;33m.\u001b[0m\u001b[0mdispatch_one_batch\u001b[0m\u001b[1;33m(\u001b[0m\u001b[0miterator\u001b[0m\u001b[1;33m)\u001b[0m\u001b[1;33m:\u001b[0m\u001b[1;33m\u001b[0m\u001b[1;33m\u001b[0m\u001b[0m\n\u001b[0m\u001b[0;32m   1045\u001b[0m                 \u001b[1;32mpass\u001b[0m\u001b[1;33m\u001b[0m\u001b[1;33m\u001b[0m\u001b[0m\n\u001b[0;32m   1046\u001b[0m \u001b[1;33m\u001b[0m\u001b[0m\n",
      "\u001b[1;32mC:\\ProgramData\\Anaconda3\\lib\\site-packages\\joblib\\parallel.py\u001b[0m in \u001b[0;36mdispatch_one_batch\u001b[1;34m(self, iterator)\u001b[0m\n\u001b[0;32m    857\u001b[0m                 \u001b[1;32mreturn\u001b[0m \u001b[1;32mFalse\u001b[0m\u001b[1;33m\u001b[0m\u001b[1;33m\u001b[0m\u001b[0m\n\u001b[0;32m    858\u001b[0m             \u001b[1;32melse\u001b[0m\u001b[1;33m:\u001b[0m\u001b[1;33m\u001b[0m\u001b[1;33m\u001b[0m\u001b[0m\n\u001b[1;32m--> 859\u001b[1;33m                 \u001b[0mself\u001b[0m\u001b[1;33m.\u001b[0m\u001b[0m_dispatch\u001b[0m\u001b[1;33m(\u001b[0m\u001b[0mtasks\u001b[0m\u001b[1;33m)\u001b[0m\u001b[1;33m\u001b[0m\u001b[1;33m\u001b[0m\u001b[0m\n\u001b[0m\u001b[0;32m    860\u001b[0m                 \u001b[1;32mreturn\u001b[0m \u001b[1;32mTrue\u001b[0m\u001b[1;33m\u001b[0m\u001b[1;33m\u001b[0m\u001b[0m\n\u001b[0;32m    861\u001b[0m \u001b[1;33m\u001b[0m\u001b[0m\n",
      "\u001b[1;32mC:\\ProgramData\\Anaconda3\\lib\\site-packages\\joblib\\parallel.py\u001b[0m in \u001b[0;36m_dispatch\u001b[1;34m(self, batch)\u001b[0m\n\u001b[0;32m    775\u001b[0m         \u001b[1;32mwith\u001b[0m \u001b[0mself\u001b[0m\u001b[1;33m.\u001b[0m\u001b[0m_lock\u001b[0m\u001b[1;33m:\u001b[0m\u001b[1;33m\u001b[0m\u001b[1;33m\u001b[0m\u001b[0m\n\u001b[0;32m    776\u001b[0m             \u001b[0mjob_idx\u001b[0m \u001b[1;33m=\u001b[0m \u001b[0mlen\u001b[0m\u001b[1;33m(\u001b[0m\u001b[0mself\u001b[0m\u001b[1;33m.\u001b[0m\u001b[0m_jobs\u001b[0m\u001b[1;33m)\u001b[0m\u001b[1;33m\u001b[0m\u001b[1;33m\u001b[0m\u001b[0m\n\u001b[1;32m--> 777\u001b[1;33m             \u001b[0mjob\u001b[0m \u001b[1;33m=\u001b[0m \u001b[0mself\u001b[0m\u001b[1;33m.\u001b[0m\u001b[0m_backend\u001b[0m\u001b[1;33m.\u001b[0m\u001b[0mapply_async\u001b[0m\u001b[1;33m(\u001b[0m\u001b[0mbatch\u001b[0m\u001b[1;33m,\u001b[0m \u001b[0mcallback\u001b[0m\u001b[1;33m=\u001b[0m\u001b[0mcb\u001b[0m\u001b[1;33m)\u001b[0m\u001b[1;33m\u001b[0m\u001b[1;33m\u001b[0m\u001b[0m\n\u001b[0m\u001b[0;32m    778\u001b[0m             \u001b[1;31m# A job can complete so quickly than its callback is\u001b[0m\u001b[1;33m\u001b[0m\u001b[1;33m\u001b[0m\u001b[1;33m\u001b[0m\u001b[0m\n\u001b[0;32m    779\u001b[0m             \u001b[1;31m# called before we get here, causing self._jobs to\u001b[0m\u001b[1;33m\u001b[0m\u001b[1;33m\u001b[0m\u001b[1;33m\u001b[0m\u001b[0m\n",
      "\u001b[1;32mC:\\ProgramData\\Anaconda3\\lib\\site-packages\\joblib\\_parallel_backends.py\u001b[0m in \u001b[0;36mapply_async\u001b[1;34m(self, func, callback)\u001b[0m\n\u001b[0;32m    206\u001b[0m     \u001b[1;32mdef\u001b[0m \u001b[0mapply_async\u001b[0m\u001b[1;33m(\u001b[0m\u001b[0mself\u001b[0m\u001b[1;33m,\u001b[0m \u001b[0mfunc\u001b[0m\u001b[1;33m,\u001b[0m \u001b[0mcallback\u001b[0m\u001b[1;33m=\u001b[0m\u001b[1;32mNone\u001b[0m\u001b[1;33m)\u001b[0m\u001b[1;33m:\u001b[0m\u001b[1;33m\u001b[0m\u001b[1;33m\u001b[0m\u001b[0m\n\u001b[0;32m    207\u001b[0m         \u001b[1;34m\"\"\"Schedule a func to be run\"\"\"\u001b[0m\u001b[1;33m\u001b[0m\u001b[1;33m\u001b[0m\u001b[0m\n\u001b[1;32m--> 208\u001b[1;33m         \u001b[0mresult\u001b[0m \u001b[1;33m=\u001b[0m \u001b[0mImmediateResult\u001b[0m\u001b[1;33m(\u001b[0m\u001b[0mfunc\u001b[0m\u001b[1;33m)\u001b[0m\u001b[1;33m\u001b[0m\u001b[1;33m\u001b[0m\u001b[0m\n\u001b[0m\u001b[0;32m    209\u001b[0m         \u001b[1;32mif\u001b[0m \u001b[0mcallback\u001b[0m\u001b[1;33m:\u001b[0m\u001b[1;33m\u001b[0m\u001b[1;33m\u001b[0m\u001b[0m\n\u001b[0;32m    210\u001b[0m             \u001b[0mcallback\u001b[0m\u001b[1;33m(\u001b[0m\u001b[0mresult\u001b[0m\u001b[1;33m)\u001b[0m\u001b[1;33m\u001b[0m\u001b[1;33m\u001b[0m\u001b[0m\n",
      "\u001b[1;32mC:\\ProgramData\\Anaconda3\\lib\\site-packages\\joblib\\_parallel_backends.py\u001b[0m in \u001b[0;36m__init__\u001b[1;34m(self, batch)\u001b[0m\n\u001b[0;32m    570\u001b[0m         \u001b[1;31m# Don't delay the application, to avoid keeping the input\u001b[0m\u001b[1;33m\u001b[0m\u001b[1;33m\u001b[0m\u001b[1;33m\u001b[0m\u001b[0m\n\u001b[0;32m    571\u001b[0m         \u001b[1;31m# arguments in memory\u001b[0m\u001b[1;33m\u001b[0m\u001b[1;33m\u001b[0m\u001b[1;33m\u001b[0m\u001b[0m\n\u001b[1;32m--> 572\u001b[1;33m         \u001b[0mself\u001b[0m\u001b[1;33m.\u001b[0m\u001b[0mresults\u001b[0m \u001b[1;33m=\u001b[0m \u001b[0mbatch\u001b[0m\u001b[1;33m(\u001b[0m\u001b[1;33m)\u001b[0m\u001b[1;33m\u001b[0m\u001b[1;33m\u001b[0m\u001b[0m\n\u001b[0m\u001b[0;32m    573\u001b[0m \u001b[1;33m\u001b[0m\u001b[0m\n\u001b[0;32m    574\u001b[0m     \u001b[1;32mdef\u001b[0m \u001b[0mget\u001b[0m\u001b[1;33m(\u001b[0m\u001b[0mself\u001b[0m\u001b[1;33m)\u001b[0m\u001b[1;33m:\u001b[0m\u001b[1;33m\u001b[0m\u001b[1;33m\u001b[0m\u001b[0m\n",
      "\u001b[1;32mC:\\ProgramData\\Anaconda3\\lib\\site-packages\\joblib\\parallel.py\u001b[0m in \u001b[0;36m__call__\u001b[1;34m(self)\u001b[0m\n\u001b[0;32m    260\u001b[0m         \u001b[1;31m# change the default number of processes to -1\u001b[0m\u001b[1;33m\u001b[0m\u001b[1;33m\u001b[0m\u001b[1;33m\u001b[0m\u001b[0m\n\u001b[0;32m    261\u001b[0m         \u001b[1;32mwith\u001b[0m \u001b[0mparallel_backend\u001b[0m\u001b[1;33m(\u001b[0m\u001b[0mself\u001b[0m\u001b[1;33m.\u001b[0m\u001b[0m_backend\u001b[0m\u001b[1;33m,\u001b[0m \u001b[0mn_jobs\u001b[0m\u001b[1;33m=\u001b[0m\u001b[0mself\u001b[0m\u001b[1;33m.\u001b[0m\u001b[0m_n_jobs\u001b[0m\u001b[1;33m)\u001b[0m\u001b[1;33m:\u001b[0m\u001b[1;33m\u001b[0m\u001b[1;33m\u001b[0m\u001b[0m\n\u001b[1;32m--> 262\u001b[1;33m             return [func(*args, **kwargs)\n\u001b[0m\u001b[0;32m    263\u001b[0m                     for func, args, kwargs in self.items]\n\u001b[0;32m    264\u001b[0m \u001b[1;33m\u001b[0m\u001b[0m\n",
      "\u001b[1;32mC:\\ProgramData\\Anaconda3\\lib\\site-packages\\joblib\\parallel.py\u001b[0m in \u001b[0;36m<listcomp>\u001b[1;34m(.0)\u001b[0m\n\u001b[0;32m    260\u001b[0m         \u001b[1;31m# change the default number of processes to -1\u001b[0m\u001b[1;33m\u001b[0m\u001b[1;33m\u001b[0m\u001b[1;33m\u001b[0m\u001b[0m\n\u001b[0;32m    261\u001b[0m         \u001b[1;32mwith\u001b[0m \u001b[0mparallel_backend\u001b[0m\u001b[1;33m(\u001b[0m\u001b[0mself\u001b[0m\u001b[1;33m.\u001b[0m\u001b[0m_backend\u001b[0m\u001b[1;33m,\u001b[0m \u001b[0mn_jobs\u001b[0m\u001b[1;33m=\u001b[0m\u001b[0mself\u001b[0m\u001b[1;33m.\u001b[0m\u001b[0m_n_jobs\u001b[0m\u001b[1;33m)\u001b[0m\u001b[1;33m:\u001b[0m\u001b[1;33m\u001b[0m\u001b[1;33m\u001b[0m\u001b[0m\n\u001b[1;32m--> 262\u001b[1;33m             return [func(*args, **kwargs)\n\u001b[0m\u001b[0;32m    263\u001b[0m                     for func, args, kwargs in self.items]\n\u001b[0;32m    264\u001b[0m \u001b[1;33m\u001b[0m\u001b[0m\n",
      "\u001b[1;32m~\\AppData\\Roaming\\Python\\Python38\\site-packages\\sklearn\\ensemble\\_forest.py\u001b[0m in \u001b[0;36m_accumulate_prediction\u001b[1;34m(predict, X, out, lock)\u001b[0m\n\u001b[0;32m    464\u001b[0m     \u001b[0mcomplains\u001b[0m \u001b[0mthat\u001b[0m \u001b[0mit\u001b[0m \u001b[0mcannot\u001b[0m \u001b[0mpickle\u001b[0m \u001b[0mit\u001b[0m \u001b[0mwhen\u001b[0m \u001b[0mplaced\u001b[0m \u001b[0mthere\u001b[0m\u001b[1;33m.\u001b[0m\u001b[1;33m\u001b[0m\u001b[1;33m\u001b[0m\u001b[0m\n\u001b[0;32m    465\u001b[0m     \"\"\"\n\u001b[1;32m--> 466\u001b[1;33m     \u001b[0mprediction\u001b[0m \u001b[1;33m=\u001b[0m \u001b[0mpredict\u001b[0m\u001b[1;33m(\u001b[0m\u001b[0mX\u001b[0m\u001b[1;33m,\u001b[0m \u001b[0mcheck_input\u001b[0m\u001b[1;33m=\u001b[0m\u001b[1;32mFalse\u001b[0m\u001b[1;33m)\u001b[0m\u001b[1;33m\u001b[0m\u001b[1;33m\u001b[0m\u001b[0m\n\u001b[0m\u001b[0;32m    467\u001b[0m     \u001b[1;32mwith\u001b[0m \u001b[0mlock\u001b[0m\u001b[1;33m:\u001b[0m\u001b[1;33m\u001b[0m\u001b[1;33m\u001b[0m\u001b[0m\n\u001b[0;32m    468\u001b[0m         \u001b[1;32mif\u001b[0m \u001b[0mlen\u001b[0m\u001b[1;33m(\u001b[0m\u001b[0mout\u001b[0m\u001b[1;33m)\u001b[0m \u001b[1;33m==\u001b[0m \u001b[1;36m1\u001b[0m\u001b[1;33m:\u001b[0m\u001b[1;33m\u001b[0m\u001b[1;33m\u001b[0m\u001b[0m\n",
      "\u001b[1;32m~\\AppData\\Roaming\\Python\\Python38\\site-packages\\sklearn\\tree\\_classes.py\u001b[0m in \u001b[0;36mpredict_proba\u001b[1;34m(self, X, check_input)\u001b[0m\n\u001b[0;32m    921\u001b[0m         \u001b[0mcheck_is_fitted\u001b[0m\u001b[1;33m(\u001b[0m\u001b[0mself\u001b[0m\u001b[1;33m)\u001b[0m\u001b[1;33m\u001b[0m\u001b[1;33m\u001b[0m\u001b[0m\n\u001b[0;32m    922\u001b[0m         \u001b[0mX\u001b[0m \u001b[1;33m=\u001b[0m \u001b[0mself\u001b[0m\u001b[1;33m.\u001b[0m\u001b[0m_validate_X_predict\u001b[0m\u001b[1;33m(\u001b[0m\u001b[0mX\u001b[0m\u001b[1;33m,\u001b[0m \u001b[0mcheck_input\u001b[0m\u001b[1;33m)\u001b[0m\u001b[1;33m\u001b[0m\u001b[1;33m\u001b[0m\u001b[0m\n\u001b[1;32m--> 923\u001b[1;33m         \u001b[0mproba\u001b[0m \u001b[1;33m=\u001b[0m \u001b[0mself\u001b[0m\u001b[1;33m.\u001b[0m\u001b[0mtree_\u001b[0m\u001b[1;33m.\u001b[0m\u001b[0mpredict\u001b[0m\u001b[1;33m(\u001b[0m\u001b[0mX\u001b[0m\u001b[1;33m)\u001b[0m\u001b[1;33m\u001b[0m\u001b[1;33m\u001b[0m\u001b[0m\n\u001b[0m\u001b[0;32m    924\u001b[0m \u001b[1;33m\u001b[0m\u001b[0m\n\u001b[0;32m    925\u001b[0m         \u001b[1;32mif\u001b[0m \u001b[0mself\u001b[0m\u001b[1;33m.\u001b[0m\u001b[0mn_outputs_\u001b[0m \u001b[1;33m==\u001b[0m \u001b[1;36m1\u001b[0m\u001b[1;33m:\u001b[0m\u001b[1;33m\u001b[0m\u001b[1;33m\u001b[0m\u001b[0m\n",
      "\u001b[1;31mKeyboardInterrupt\u001b[0m: "
     ]
    }
   ],
   "source": [
    "random_forest=RandomForestClassifier()\n",
    "param_grid={\n",
    "    \"criterion\":['gini','entropy'],\n",
    "    \"max_depth\":[107],\n",
    "    'n_estimators':[100,200,300,400,500],\n",
    "    \"max_features\":['auto','sqrt','log2'],\n",
    "    'min_impurity_decrease':[0,0.05,0.1,0.15],\n",
    "    \"random_state\":[1]   \n",
    "}\n",
    "test_model=model_selection.GridSearchCV(estimator=random_forest,param_grid=param_grid,\n",
    "                                       scoring='accuracy',verbose=10)\n",
    "test_model.fit(X_train_2,y_train_2)\n",
    "print(test_model.best_score_)\n",
    "print(test_model.best_estimator_.get_params())"
   ]
  },
  {
   "cell_type": "code",
   "execution_count": 38,
   "id": "02c9db47",
   "metadata": {},
   "outputs": [],
   "source": [
    "rf=RandomForestClassifier(max_depth=107,random_state=8)\n",
    "rf_2=RandomForestClassifier(max_depth=107,random_state=8)\n",
    "rf_3=RandomForestClassifier(max_depth=107,random_state=8)\n",
    "rf.fit(X_train, y_train)\n",
    "rf_2.fit(X_train_2, y_train_2)\n",
    "rf_3.fit(X_train_3, y_train_3)\n",
    "rtq1= rf.predict(X_train)\n",
    "rq1 = rf.predict(X_test)\n",
    "rtq2= rf_2.predict(X_train_2)\n",
    "rq2 = rf_2.predict(X_test_2)\n",
    "rtq3= rf_3.predict(X_train_3)\n",
    "rq3 = rf_3.predict(X_test_3)"
   ]
  },
  {
   "cell_type": "code",
   "execution_count": 39,
   "id": "5001afab",
   "metadata": {},
   "outputs": [
    {
     "name": "stdout",
     "output_type": "stream",
     "text": [
      "Accuracy via prediction on training set q1:  1.0\n",
      "Accuracy via prediction on test set q1:  0.6888489208633094\n",
      "Accuracy via prediction on training set q2:  1.0\n",
      "Accuracy via prediction on test set q2:  0.695078031212485\n",
      "Accuracy via prediction on training set q3:  1.0\n",
      "Accuracy via prediction on test set q3:  0.7718360071301248\n"
     ]
    }
   ],
   "source": [
    "print('Accuracy via prediction on training set q1: ', accuracy_score(y_train, rtq1))\n",
    "print('Accuracy via prediction on test set q1: ', accuracy_score(y_test, rq1))\n",
    "print('Accuracy via prediction on training set q2: ', accuracy_score(y_train_2, rtq2))\n",
    "print('Accuracy via prediction on test set q2: ', accuracy_score(y_test_2, rq2))\n",
    "print('Accuracy via prediction on training set q3: ', r2_score(y_train_3, rtq3))\n",
    "print('Accuracy via prediction on test set q3: ', accuracy_score(y_test_3, rq3))"
   ]
  },
  {
   "cell_type": "code",
   "execution_count": 40,
   "id": "2d448943",
   "metadata": {},
   "outputs": [
    {
     "data": {
      "text/plain": [
       "Text(0.5, 1.0, 'Q3')"
      ]
     },
     "execution_count": 40,
     "metadata": {},
     "output_type": "execute_result"
    },
    {
     "data": {
      "image/png": "[encoded data removed]",
      "text/plain": [
       "<Figure size 1800x432 with 3 Axes>"
      ]
     },
     "metadata": {
      "needs_background": "light"
     },
     "output_type": "display_data"
    }
   ],
   "source": [
    "from sklearn.metrics import confusion_matrix  \n",
    "import seaborn as sn\n",
    "fig,axes=plt.subplots(1,3,figsize=(25,6))\n",
    "dif1=y_test-rq1\n",
    "sn.kdeplot(dif1,ax=axes[0])\n",
    "axes[0].set_title('Q1')\n",
    "dif2=y_test_2-rq2\n",
    "sn.kdeplot(dif2,ax=axes[1])\n",
    "axes[1].set_title('Q2')\n",
    "dif3=y_test_3-rq3\n",
    "sn.kdeplot(dif3,ax=axes[2])\n",
    "axes[2].set_title('Q3')"
   ]
  },
  {
   "cell_type": "code",
   "execution_count": 41,
   "id": "ac605080",
   "metadata": {
    "scrolled": true
   },
   "outputs": [
    {
     "data": {
      "text/plain": [
       "<AxesSubplot:>"
      ]
     },
     "execution_count": 41,
     "metadata": {},
     "output_type": "execute_result"
    },
    {
     "data": {
      "image/png": "[encoded data removed]",
      "text/plain": [
       "<Figure size 1080x1296 with 12 Axes>"
      ]
     },
     "metadata": {
      "needs_background": "light"
     },
     "output_type": "display_data"
    }
   ],
   "source": [
    "fig,axes=plt.subplots(3,2,figsize=(15,18))\n",
    "cm = pd.DataFrame(confusion_matrix(y_test, rq1))\n",
    "sn.heatmap(cm,ax=axes[0,0])\n",
    "cm1 = pd.DataFrame(confusion_matrix(y_test, y_test))\n",
    "sn.heatmap(cm1,ax=axes[0,1])\n",
    "cm3 = pd.DataFrame(confusion_matrix(y_test_2, rq2))\n",
    "sn.heatmap(cm3,ax=axes[1,0])\n",
    "cm4 = pd.DataFrame(confusion_matrix(y_test_2, y_test_2))\n",
    "sn.heatmap(cm4,ax=axes[1,1])\n",
    "cm5 = pd.DataFrame(confusion_matrix(y_test_3, rq3))\n",
    "sn.heatmap(cm5,ax=axes[2,0])\n",
    "cm6 = pd.DataFrame(confusion_matrix(y_test_3, y_test_3))\n",
    "sn.heatmap(cm6,ax=axes[2,1])\n"
   ]
  },
  {
   "cell_type": "markdown",
   "id": "07a7cc92",
   "metadata": {},
   "source": [
    "## Extra Trees"
   ]
  },
  {
   "cell_type": "code",
   "execution_count": 42,
   "id": "8c462824",
   "metadata": {},
   "outputs": [],
   "source": [
    "etc=ExtraTreesClassifier(max_depth=107)\n",
    "etc_2=ExtraTreesClassifier(max_depth=107)\n",
    "etc_3=ExtraTreesClassifier(max_depth=107)\n",
    "etc.fit(X_train, y_train)\n",
    "etc_2.fit(X_train_2, y_train_2)\n",
    "etc_3.fit(X_train_3, y_train_3)\n",
    "etq1= rf.predict(X_train)\n",
    "eq1 = rf.predict(X_test)\n",
    "etq2= rf_2.predict(X_train_2)\n",
    "eq2 = rf_2.predict(X_test_2)\n",
    "etq3= rf_3.predict(X_train_3)\n",
    "eq3 = rf_3.predict(X_test_3)"
   ]
  },
  {
   "cell_type": "code",
   "execution_count": 43,
   "id": "44573296",
   "metadata": {},
   "outputs": [
    {
     "name": "stdout",
     "output_type": "stream",
     "text": [
      "Accuracy via prediction on training set q1:  1.0\n",
      "Accuracy via prediction on test set q1:  0.6888489208633094\n",
      "Accuracy via prediction on training set q2:  1.0\n",
      "Accuracy via prediction on test set q2:  0.695078031212485\n",
      "Accuracy via prediction on training set q3:  1.0\n",
      "Accuracy via prediction on test set q3:  0.7718360071301248\n"
     ]
    }
   ],
   "source": [
    "print('Accuracy via prediction on training set q1: ', accuracy_score(y_train, etq1))\n",
    "print('Accuracy via prediction on test set q1: ', accuracy_score(y_test, eq1))\n",
    "print('Accuracy via prediction on training set q2: ', accuracy_score(y_train_2, etq2))\n",
    "print('Accuracy via prediction on test set q2: ', accuracy_score(y_test_2, eq2))\n",
    "print('Accuracy via prediction on training set q3: ', r2_score(y_train_3, etq3))\n",
    "print('Accuracy via prediction on test set q3: ', accuracy_score(y_test_3, eq3))"
   ]
  },
  {
   "cell_type": "markdown",
   "id": "e77aaed9",
   "metadata": {},
   "source": [
    "## SVM"
   ]
  },
  {
   "cell_type": "code",
   "execution_count": 44,
   "id": "82d88980",
   "metadata": {},
   "outputs": [],
   "source": [
    "clf = svm.SVC()\n",
    "param_grid={\n",
    "    \"kernel\":[ 'rbf', 'sigmoid'],\n",
    "    \"degree\":[3,4,5],\n",
    "    \"C\":(1,20),\n",
    "    \"decision_function_shape\":['ovo','ovr']\n",
    "}"
   ]
  },
  {
   "cell_type": "code",
   "execution_count": 45,
   "id": "4deed5de",
   "metadata": {
    "deletable": false,
    "editable": false,
    "run_control": {
     "frozen": true
    }
   },
   "outputs": [
    {
     "name": "stdout",
     "output_type": "stream",
     "text": [
      "Fitting 5 folds for each of 24 candidates, totalling 120 fits\n",
      "[CV] C=1, decision_function_shape=ovo, degree=3, kernel=rbf ..........\n"
     ]
    },
    {
     "name": "stderr",
     "output_type": "stream",
     "text": [
      "[Parallel(n_jobs=1)]: Using backend SequentialBackend with 1 concurrent workers.\n"
     ]
    },
    {
     "name": "stdout",
     "output_type": "stream",
     "text": [
      "[CV]  C=1, decision_function_shape=ovo, degree=3, kernel=rbf, score=0.080, total=   1.6s\n",
      "[CV] C=1, decision_function_shape=ovo, degree=3, kernel=rbf ..........\n"
     ]
    },
    {
     "name": "stderr",
     "output_type": "stream",
     "text": [
      "[Parallel(n_jobs=1)]: Done   1 out of   1 | elapsed:    1.5s remaining:    0.0s\n"
     ]
    },
    {
     "name": "stdout",
     "output_type": "stream",
     "text": [
      "[CV]  C=1, decision_function_shape=ovo, degree=3, kernel=rbf, score=0.082, total=   1.4s\n",
      "[CV] C=1, decision_function_shape=ovo, degree=3, kernel=rbf ..........\n"
     ]
    },
    {
     "name": "stderr",
     "output_type": "stream",
     "text": [
      "[Parallel(n_jobs=1)]: Done   2 out of   2 | elapsed:    2.9s remaining:    0.0s\n"
     ]
    },
    {
     "name": "stdout",
     "output_type": "stream",
     "text": [
      "[CV]  C=1, decision_function_shape=ovo, degree=3, kernel=rbf, score=0.082, total=   1.3s\n",
      "[CV] C=1, decision_function_shape=ovo, degree=3, kernel=rbf ..........\n"
     ]
    },
    {
     "name": "stderr",
     "output_type": "stream",
     "text": [
      "[Parallel(n_jobs=1)]: Done   3 out of   3 | elapsed:    4.2s remaining:    0.0s\n"
     ]
    },
    {
     "name": "stdout",
     "output_type": "stream",
     "text": [
      "[CV]  C=1, decision_function_shape=ovo, degree=3, kernel=rbf, score=0.078, total=   1.3s\n",
      "[CV] C=1, decision_function_shape=ovo, degree=3, kernel=rbf ..........\n"
     ]
    },
    {
     "name": "stderr",
     "output_type": "stream",
     "text": [
      "[Parallel(n_jobs=1)]: Done   4 out of   4 | elapsed:    5.5s remaining:    0.0s\n"
     ]
    },
    {
     "name": "stdout",
     "output_type": "stream",
     "text": [
      "[CV]  C=1, decision_function_shape=ovo, degree=3, kernel=rbf, score=0.080, total=   1.3s\n",
      "[CV] C=1, decision_function_shape=ovo, degree=3, kernel=sigmoid ......\n"
     ]
    },
    {
     "name": "stderr",
     "output_type": "stream",
     "text": [
      "[Parallel(n_jobs=1)]: Done   5 out of   5 | elapsed:    6.7s remaining:    0.0s\n"
     ]
    },
    {
     "name": "stdout",
     "output_type": "stream",
     "text": [
      "[CV]  C=1, decision_function_shape=ovo, degree=3, kernel=sigmoid, score=0.080, total=   1.2s\n",
      "[CV] C=1, decision_function_shape=ovo, degree=3, kernel=sigmoid ......\n"
     ]
    },
    {
     "name": "stderr",
     "output_type": "stream",
     "text": [
      "[Parallel(n_jobs=1)]: Done   6 out of   6 | elapsed:    7.9s remaining:    0.0s\n"
     ]
    },
    {
     "name": "stdout",
     "output_type": "stream",
     "text": [
      "[CV]  C=1, decision_function_shape=ovo, degree=3, kernel=sigmoid, score=0.078, total=   1.1s\n",
      "[CV] C=1, decision_function_shape=ovo, degree=3, kernel=sigmoid ......\n"
     ]
    },
    {
     "name": "stderr",
     "output_type": "stream",
     "text": [
      "[Parallel(n_jobs=1)]: Done   7 out of   7 | elapsed:    9.1s remaining:    0.0s\n"
     ]
    },
    {
     "name": "stdout",
     "output_type": "stream",
     "text": [
      "[CV]  C=1, decision_function_shape=ovo, degree=3, kernel=sigmoid, score=0.078, total=   1.3s\n",
      "[CV] C=1, decision_function_shape=ovo, degree=3, kernel=sigmoid ......\n"
     ]
    },
    {
     "name": "stderr",
     "output_type": "stream",
     "text": [
      "[Parallel(n_jobs=1)]: Done   8 out of   8 | elapsed:   10.3s remaining:    0.0s\n"
     ]
    },
    {
     "name": "stdout",
     "output_type": "stream",
     "text": [
      "[CV]  C=1, decision_function_shape=ovo, degree=3, kernel=sigmoid, score=0.078, total=   1.2s\n",
      "[CV] C=1, decision_function_shape=ovo, degree=3, kernel=sigmoid ......\n"
     ]
    },
    {
     "name": "stderr",
     "output_type": "stream",
     "text": [
      "[Parallel(n_jobs=1)]: Done   9 out of   9 | elapsed:   11.6s remaining:    0.0s\n"
     ]
    },
    {
     "name": "stdout",
     "output_type": "stream",
     "text": [
      "[CV]  C=1, decision_function_shape=ovo, degree=3, kernel=sigmoid, score=0.082, total=   1.2s\n",
      "[CV] C=1, decision_function_shape=ovo, degree=4, kernel=rbf ..........\n",
      "[CV]  C=1, decision_function_shape=ovo, degree=4, kernel=rbf, score=0.080, total=   1.4s\n",
      "[CV] C=1, decision_function_shape=ovo, degree=4, kernel=rbf ..........\n",
      "[CV]  C=1, decision_function_shape=ovo, degree=4, kernel=rbf, score=0.082, total=   1.4s\n",
      "[CV] C=1, decision_function_shape=ovo, degree=4, kernel=rbf ..........\n",
      "[CV]  C=1, decision_function_shape=ovo, degree=4, kernel=rbf, score=0.082, total=   1.4s\n",
      "[CV] C=1, decision_function_shape=ovo, degree=4, kernel=rbf ..........\n",
      "[CV]  C=1, decision_function_shape=ovo, degree=4, kernel=rbf, score=0.078, total=   1.4s\n",
      "[CV] C=1, decision_function_shape=ovo, degree=4, kernel=rbf ..........\n",
      "[CV]  C=1, decision_function_shape=ovo, degree=4, kernel=rbf, score=0.080, total=   1.4s\n",
      "[CV] C=1, decision_function_shape=ovo, degree=4, kernel=sigmoid ......\n",
      "[CV]  C=1, decision_function_shape=ovo, degree=4, kernel=sigmoid, score=0.080, total=   1.2s\n",
      "[CV] C=1, decision_function_shape=ovo, degree=4, kernel=sigmoid ......\n",
      "[CV]  C=1, decision_function_shape=ovo, degree=4, kernel=sigmoid, score=0.078, total=   1.2s\n",
      "[CV] C=1, decision_function_shape=ovo, degree=4, kernel=sigmoid ......\n",
      "[CV]  C=1, decision_function_shape=ovo, degree=4, kernel=sigmoid, score=0.078, total=   1.3s\n",
      "[CV] C=1, decision_function_shape=ovo, degree=4, kernel=sigmoid ......\n",
      "[CV]  C=1, decision_function_shape=ovo, degree=4, kernel=sigmoid, score=0.078, total=   1.2s\n",
      "[CV] C=1, decision_function_shape=ovo, degree=4, kernel=sigmoid ......\n",
      "[CV]  C=1, decision_function_shape=ovo, degree=4, kernel=sigmoid, score=0.082, total=   1.2s\n",
      "[CV] C=1, decision_function_shape=ovo, degree=5, kernel=rbf ..........\n",
      "[CV]  C=1, decision_function_shape=ovo, degree=5, kernel=rbf, score=0.080, total=   1.4s\n",
      "[CV] C=1, decision_function_shape=ovo, degree=5, kernel=rbf ..........\n",
      "[CV]  C=1, decision_function_shape=ovo, degree=5, kernel=rbf, score=0.082, total=   1.3s\n",
      "[CV] C=1, decision_function_shape=ovo, degree=5, kernel=rbf ..........\n",
      "[CV]  C=1, decision_function_shape=ovo, degree=5, kernel=rbf, score=0.082, total=   1.3s\n",
      "[CV] C=1, decision_function_shape=ovo, degree=5, kernel=rbf ..........\n",
      "[CV]  C=1, decision_function_shape=ovo, degree=5, kernel=rbf, score=0.078, total=   1.4s\n",
      "[CV] C=1, decision_function_shape=ovo, degree=5, kernel=rbf ..........\n",
      "[CV]  C=1, decision_function_shape=ovo, degree=5, kernel=rbf, score=0.080, total=   1.4s\n",
      "[CV] C=1, decision_function_shape=ovo, degree=5, kernel=sigmoid ......\n",
      "[CV]  C=1, decision_function_shape=ovo, degree=5, kernel=sigmoid, score=0.080, total=   1.2s\n",
      "[CV] C=1, decision_function_shape=ovo, degree=5, kernel=sigmoid ......\n",
      "[CV]  C=1, decision_function_shape=ovo, degree=5, kernel=sigmoid, score=0.078, total=   1.3s\n",
      "[CV] C=1, decision_function_shape=ovo, degree=5, kernel=sigmoid ......\n",
      "[CV]  C=1, decision_function_shape=ovo, degree=5, kernel=sigmoid, score=0.078, total=   1.2s\n",
      "[CV] C=1, decision_function_shape=ovo, degree=5, kernel=sigmoid ......\n",
      "[CV]  C=1, decision_function_shape=ovo, degree=5, kernel=sigmoid, score=0.078, total=   1.2s\n",
      "[CV] C=1, decision_function_shape=ovo, degree=5, kernel=sigmoid ......\n",
      "[CV]  C=1, decision_function_shape=ovo, degree=5, kernel=sigmoid, score=0.082, total=   1.2s\n",
      "[CV] C=1, decision_function_shape=ovr, degree=3, kernel=rbf ..........\n",
      "[CV]  C=1, decision_function_shape=ovr, degree=3, kernel=rbf, score=0.080, total=   1.3s\n",
      "[CV] C=1, decision_function_shape=ovr, degree=3, kernel=rbf ..........\n",
      "[CV]  C=1, decision_function_shape=ovr, degree=3, kernel=rbf, score=0.082, total=   1.4s\n",
      "[CV] C=1, decision_function_shape=ovr, degree=3, kernel=rbf ..........\n",
      "[CV]  C=1, decision_function_shape=ovr, degree=3, kernel=rbf, score=0.082, total=   1.3s\n",
      "[CV] C=1, decision_function_shape=ovr, degree=3, kernel=rbf ..........\n",
      "[CV]  C=1, decision_function_shape=ovr, degree=3, kernel=rbf, score=0.078, total=   1.4s\n",
      "[CV] C=1, decision_function_shape=ovr, degree=3, kernel=rbf ..........\n",
      "[CV]  C=1, decision_function_shape=ovr, degree=3, kernel=rbf, score=0.080, total=   1.4s\n",
      "[CV] C=1, decision_function_shape=ovr, degree=3, kernel=sigmoid ......\n",
      "[CV]  C=1, decision_function_shape=ovr, degree=3, kernel=sigmoid, score=0.080, total=   1.3s\n",
      "[CV] C=1, decision_function_shape=ovr, degree=3, kernel=sigmoid ......\n",
      "[CV]  C=1, decision_function_shape=ovr, degree=3, kernel=sigmoid, score=0.078, total=   1.2s\n",
      "[CV] C=1, decision_function_shape=ovr, degree=3, kernel=sigmoid ......\n",
      "[CV]  C=1, decision_function_shape=ovr, degree=3, kernel=sigmoid, score=0.078, total=   1.2s\n",
      "[CV] C=1, decision_function_shape=ovr, degree=3, kernel=sigmoid ......\n",
      "[CV]  C=1, decision_function_shape=ovr, degree=3, kernel=sigmoid, score=0.078, total=   1.3s\n",
      "[CV] C=1, decision_function_shape=ovr, degree=3, kernel=sigmoid ......\n",
      "[CV]  C=1, decision_function_shape=ovr, degree=3, kernel=sigmoid, score=0.082, total=   1.4s\n",
      "[CV] C=1, decision_function_shape=ovr, degree=4, kernel=rbf ..........\n",
      "[CV]  C=1, decision_function_shape=ovr, degree=4, kernel=rbf, score=0.080, total=   1.3s\n",
      "[CV] C=1, decision_function_shape=ovr, degree=4, kernel=rbf ..........\n",
      "[CV]  C=1, decision_function_shape=ovr, degree=4, kernel=rbf, score=0.082, total=   1.6s\n",
      "[CV] C=1, decision_function_shape=ovr, degree=4, kernel=rbf ..........\n",
      "[CV]  C=1, decision_function_shape=ovr, degree=4, kernel=rbf, score=0.082, total=   1.5s\n",
      "[CV] C=1, decision_function_shape=ovr, degree=4, kernel=rbf ..........\n",
      "[CV]  C=1, decision_function_shape=ovr, degree=4, kernel=rbf, score=0.078, total=   1.4s\n",
      "[CV] C=1, decision_function_shape=ovr, degree=4, kernel=rbf ..........\n",
      "[CV]  C=1, decision_function_shape=ovr, degree=4, kernel=rbf, score=0.080, total=   1.4s\n",
      "[CV] C=1, decision_function_shape=ovr, degree=4, kernel=sigmoid ......\n",
      "[CV]  C=1, decision_function_shape=ovr, degree=4, kernel=sigmoid, score=0.080, total=   1.3s\n",
      "[CV] C=1, decision_function_shape=ovr, degree=4, kernel=sigmoid ......\n",
      "[CV]  C=1, decision_function_shape=ovr, degree=4, kernel=sigmoid, score=0.078, total=   1.3s\n",
      "[CV] C=1, decision_function_shape=ovr, degree=4, kernel=sigmoid ......\n",
      "[CV]  C=1, decision_function_shape=ovr, degree=4, kernel=sigmoid, score=0.078, total=   1.4s\n",
      "[CV] C=1, decision_function_shape=ovr, degree=4, kernel=sigmoid ......\n",
      "[CV]  C=1, decision_function_shape=ovr, degree=4, kernel=sigmoid, score=0.078, total=   1.3s\n",
      "[CV] C=1, decision_function_shape=ovr, degree=4, kernel=sigmoid ......\n",
      "[CV]  C=1, decision_function_shape=ovr, degree=4, kernel=sigmoid, score=0.082, total=   1.2s\n",
      "[CV] C=1, decision_function_shape=ovr, degree=5, kernel=rbf ..........\n",
      "[CV]  C=1, decision_function_shape=ovr, degree=5, kernel=rbf, score=0.080, total=   1.4s\n",
      "[CV] C=1, decision_function_shape=ovr, degree=5, kernel=rbf ..........\n",
      "[CV]  C=1, decision_function_shape=ovr, degree=5, kernel=rbf, score=0.082, total=   1.4s\n",
      "[CV] C=1, decision_function_shape=ovr, degree=5, kernel=rbf ..........\n",
      "[CV]  C=1, decision_function_shape=ovr, degree=5, kernel=rbf, score=0.082, total=   1.3s\n",
      "[CV] C=1, decision_function_shape=ovr, degree=5, kernel=rbf ..........\n",
      "[CV]  C=1, decision_function_shape=ovr, degree=5, kernel=rbf, score=0.078, total=   1.3s\n",
      "[CV] C=1, decision_function_shape=ovr, degree=5, kernel=rbf ..........\n",
      "[CV]  C=1, decision_function_shape=ovr, degree=5, kernel=rbf, score=0.080, total=   1.4s\n",
      "[CV] C=1, decision_function_shape=ovr, degree=5, kernel=sigmoid ......\n",
      "[CV]  C=1, decision_function_shape=ovr, degree=5, kernel=sigmoid, score=0.080, total=   1.3s\n",
      "[CV] C=1, decision_function_shape=ovr, degree=5, kernel=sigmoid ......\n",
      "[CV]  C=1, decision_function_shape=ovr, degree=5, kernel=sigmoid, score=0.078, total=   1.2s\n",
      "[CV] C=1, decision_function_shape=ovr, degree=5, kernel=sigmoid ......\n",
      "[CV]  C=1, decision_function_shape=ovr, degree=5, kernel=sigmoid, score=0.078, total=   1.2s\n",
      "[CV] C=1, decision_function_shape=ovr, degree=5, kernel=sigmoid ......\n"
     ]
    },
    {
     "ename": "KeyboardInterrupt",
     "evalue": "",
     "output_type": "error",
     "traceback": [
      "\u001b[1;31m---------------------------------------------------------------------------\u001b[0m",
      "\u001b[1;31mKeyboardInterrupt\u001b[0m                         Traceback (most recent call last)",
      "\u001b[1;32m<ipython-input-45-ddcaad12d45d>\u001b[0m in \u001b[0;36m<module>\u001b[1;34m\u001b[0m\n\u001b[0;32m      1\u001b[0m \u001b[0ms_vm\u001b[0m\u001b[1;33m=\u001b[0m\u001b[0mmodel_selection\u001b[0m\u001b[1;33m.\u001b[0m\u001b[0mGridSearchCV\u001b[0m\u001b[1;33m(\u001b[0m\u001b[0mestimator\u001b[0m\u001b[1;33m=\u001b[0m\u001b[0mclf\u001b[0m\u001b[1;33m,\u001b[0m\u001b[0mparam_grid\u001b[0m\u001b[1;33m=\u001b[0m\u001b[0mparam_grid\u001b[0m\u001b[1;33m,\u001b[0m\u001b[0mscoring\u001b[0m\u001b[1;33m=\u001b[0m\u001b[1;34m\"accuracy\"\u001b[0m\u001b[1;33m,\u001b[0m\u001b[0mverbose\u001b[0m\u001b[1;33m=\u001b[0m\u001b[1;36m10\u001b[0m\u001b[1;33m,\u001b[0m\u001b[0mcv\u001b[0m\u001b[1;33m=\u001b[0m\u001b[1;36m5\u001b[0m\u001b[1;33m,\u001b[0m\u001b[0mn_jobs\u001b[0m\u001b[1;33m=\u001b[0m\u001b[1;36m1\u001b[0m\u001b[1;33m)\u001b[0m\u001b[1;33m\u001b[0m\u001b[1;33m\u001b[0m\u001b[0m\n\u001b[1;32m----> 2\u001b[1;33m \u001b[0ms_vm\u001b[0m\u001b[1;33m.\u001b[0m\u001b[0mfit\u001b[0m\u001b[1;33m(\u001b[0m\u001b[0mX_train_2\u001b[0m\u001b[1;33m,\u001b[0m\u001b[0my_train_2\u001b[0m\u001b[1;33m)\u001b[0m\u001b[1;33m\u001b[0m\u001b[1;33m\u001b[0m\u001b[0m\n\u001b[0m\u001b[0;32m      3\u001b[0m \u001b[0mprint\u001b[0m\u001b[1;33m(\u001b[0m\u001b[0ms_vm\u001b[0m\u001b[1;33m.\u001b[0m\u001b[0mbest_score_\u001b[0m\u001b[1;33m)\u001b[0m\u001b[1;33m\u001b[0m\u001b[1;33m\u001b[0m\u001b[0m\n\u001b[0;32m      4\u001b[0m \u001b[0mprint\u001b[0m\u001b[1;33m(\u001b[0m\u001b[0ms_vm\u001b[0m\u001b[1;33m.\u001b[0m\u001b[0mbest_estimator_\u001b[0m\u001b[1;33m.\u001b[0m\u001b[0mget_params\u001b[0m\u001b[1;33m(\u001b[0m\u001b[1;33m)\u001b[0m\u001b[1;33m)\u001b[0m\u001b[1;33m\u001b[0m\u001b[1;33m\u001b[0m\u001b[0m\n",
      "\u001b[1;32m~\\AppData\\Roaming\\Python\\Python38\\site-packages\\sklearn\\utils\\validation.py\u001b[0m in \u001b[0;36minner_f\u001b[1;34m(*args, **kwargs)\u001b[0m\n\u001b[0;32m     70\u001b[0m                           FutureWarning)\n\u001b[0;32m     71\u001b[0m         \u001b[0mkwargs\u001b[0m\u001b[1;33m.\u001b[0m\u001b[0mupdate\u001b[0m\u001b[1;33m(\u001b[0m\u001b[1;33m{\u001b[0m\u001b[0mk\u001b[0m\u001b[1;33m:\u001b[0m \u001b[0marg\u001b[0m \u001b[1;32mfor\u001b[0m \u001b[0mk\u001b[0m\u001b[1;33m,\u001b[0m \u001b[0marg\u001b[0m \u001b[1;32min\u001b[0m \u001b[0mzip\u001b[0m\u001b[1;33m(\u001b[0m\u001b[0msig\u001b[0m\u001b[1;33m.\u001b[0m\u001b[0mparameters\u001b[0m\u001b[1;33m,\u001b[0m \u001b[0margs\u001b[0m\u001b[1;33m)\u001b[0m\u001b[1;33m}\u001b[0m\u001b[1;33m)\u001b[0m\u001b[1;33m\u001b[0m\u001b[1;33m\u001b[0m\u001b[0m\n\u001b[1;32m---> 72\u001b[1;33m         \u001b[1;32mreturn\u001b[0m \u001b[0mf\u001b[0m\u001b[1;33m(\u001b[0m\u001b[1;33m**\u001b[0m\u001b[0mkwargs\u001b[0m\u001b[1;33m)\u001b[0m\u001b[1;33m\u001b[0m\u001b[1;33m\u001b[0m\u001b[0m\n\u001b[0m\u001b[0;32m     73\u001b[0m     \u001b[1;32mreturn\u001b[0m \u001b[0minner_f\u001b[0m\u001b[1;33m\u001b[0m\u001b[1;33m\u001b[0m\u001b[0m\n\u001b[0;32m     74\u001b[0m \u001b[1;33m\u001b[0m\u001b[0m\n",
      "\u001b[1;32m~\\AppData\\Roaming\\Python\\Python38\\site-packages\\sklearn\\model_selection\\_search.py\u001b[0m in \u001b[0;36mfit\u001b[1;34m(self, X, y, groups, **fit_params)\u001b[0m\n\u001b[0;32m    734\u001b[0m                 \u001b[1;32mreturn\u001b[0m \u001b[0mresults\u001b[0m\u001b[1;33m\u001b[0m\u001b[1;33m\u001b[0m\u001b[0m\n\u001b[0;32m    735\u001b[0m \u001b[1;33m\u001b[0m\u001b[0m\n\u001b[1;32m--> 736\u001b[1;33m             \u001b[0mself\u001b[0m\u001b[1;33m.\u001b[0m\u001b[0m_run_search\u001b[0m\u001b[1;33m(\u001b[0m\u001b[0mevaluate_candidates\u001b[0m\u001b[1;33m)\u001b[0m\u001b[1;33m\u001b[0m\u001b[1;33m\u001b[0m\u001b[0m\n\u001b[0m\u001b[0;32m    737\u001b[0m \u001b[1;33m\u001b[0m\u001b[0m\n\u001b[0;32m    738\u001b[0m         \u001b[1;31m# For multi-metric evaluation, store the best_index_, best_params_ and\u001b[0m\u001b[1;33m\u001b[0m\u001b[1;33m\u001b[0m\u001b[1;33m\u001b[0m\u001b[0m\n",
      "\u001b[1;32m~\\AppData\\Roaming\\Python\\Python38\\site-packages\\sklearn\\model_selection\\_search.py\u001b[0m in \u001b[0;36m_run_search\u001b[1;34m(self, evaluate_candidates)\u001b[0m\n\u001b[0;32m   1186\u001b[0m     \u001b[1;32mdef\u001b[0m \u001b[0m_run_search\u001b[0m\u001b[1;33m(\u001b[0m\u001b[0mself\u001b[0m\u001b[1;33m,\u001b[0m \u001b[0mevaluate_candidates\u001b[0m\u001b[1;33m)\u001b[0m\u001b[1;33m:\u001b[0m\u001b[1;33m\u001b[0m\u001b[1;33m\u001b[0m\u001b[0m\n\u001b[0;32m   1187\u001b[0m         \u001b[1;34m\"\"\"Search all candidates in param_grid\"\"\"\u001b[0m\u001b[1;33m\u001b[0m\u001b[1;33m\u001b[0m\u001b[0m\n\u001b[1;32m-> 1188\u001b[1;33m         \u001b[0mevaluate_candidates\u001b[0m\u001b[1;33m(\u001b[0m\u001b[0mParameterGrid\u001b[0m\u001b[1;33m(\u001b[0m\u001b[0mself\u001b[0m\u001b[1;33m.\u001b[0m\u001b[0mparam_grid\u001b[0m\u001b[1;33m)\u001b[0m\u001b[1;33m)\u001b[0m\u001b[1;33m\u001b[0m\u001b[1;33m\u001b[0m\u001b[0m\n\u001b[0m\u001b[0;32m   1189\u001b[0m \u001b[1;33m\u001b[0m\u001b[0m\n\u001b[0;32m   1190\u001b[0m \u001b[1;33m\u001b[0m\u001b[0m\n",
      "\u001b[1;32m~\\AppData\\Roaming\\Python\\Python38\\site-packages\\sklearn\\model_selection\\_search.py\u001b[0m in \u001b[0;36mevaluate_candidates\u001b[1;34m(candidate_params)\u001b[0m\n\u001b[0;32m    706\u001b[0m                               n_splits, n_candidates, n_candidates * n_splits))\n\u001b[0;32m    707\u001b[0m \u001b[1;33m\u001b[0m\u001b[0m\n\u001b[1;32m--> 708\u001b[1;33m                 out = parallel(delayed(_fit_and_score)(clone(base_estimator),\n\u001b[0m\u001b[0;32m    709\u001b[0m                                                        \u001b[0mX\u001b[0m\u001b[1;33m,\u001b[0m \u001b[0my\u001b[0m\u001b[1;33m,\u001b[0m\u001b[1;33m\u001b[0m\u001b[1;33m\u001b[0m\u001b[0m\n\u001b[0;32m    710\u001b[0m                                                        \u001b[0mtrain\u001b[0m\u001b[1;33m=\u001b[0m\u001b[0mtrain\u001b[0m\u001b[1;33m,\u001b[0m \u001b[0mtest\u001b[0m\u001b[1;33m=\u001b[0m\u001b[0mtest\u001b[0m\u001b[1;33m,\u001b[0m\u001b[1;33m\u001b[0m\u001b[1;33m\u001b[0m\u001b[0m\n",
      "\u001b[1;32mC:\\ProgramData\\Anaconda3\\lib\\site-packages\\joblib\\parallel.py\u001b[0m in \u001b[0;36m__call__\u001b[1;34m(self, iterable)\u001b[0m\n\u001b[0;32m   1042\u001b[0m                 \u001b[0mself\u001b[0m\u001b[1;33m.\u001b[0m\u001b[0m_iterating\u001b[0m \u001b[1;33m=\u001b[0m \u001b[0mself\u001b[0m\u001b[1;33m.\u001b[0m\u001b[0m_original_iterator\u001b[0m \u001b[1;32mis\u001b[0m \u001b[1;32mnot\u001b[0m \u001b[1;32mNone\u001b[0m\u001b[1;33m\u001b[0m\u001b[1;33m\u001b[0m\u001b[0m\n\u001b[0;32m   1043\u001b[0m \u001b[1;33m\u001b[0m\u001b[0m\n\u001b[1;32m-> 1044\u001b[1;33m             \u001b[1;32mwhile\u001b[0m \u001b[0mself\u001b[0m\u001b[1;33m.\u001b[0m\u001b[0mdispatch_one_batch\u001b[0m\u001b[1;33m(\u001b[0m\u001b[0miterator\u001b[0m\u001b[1;33m)\u001b[0m\u001b[1;33m:\u001b[0m\u001b[1;33m\u001b[0m\u001b[1;33m\u001b[0m\u001b[0m\n\u001b[0m\u001b[0;32m   1045\u001b[0m                 \u001b[1;32mpass\u001b[0m\u001b[1;33m\u001b[0m\u001b[1;33m\u001b[0m\u001b[0m\n\u001b[0;32m   1046\u001b[0m \u001b[1;33m\u001b[0m\u001b[0m\n",
      "\u001b[1;32mC:\\ProgramData\\Anaconda3\\lib\\site-packages\\joblib\\parallel.py\u001b[0m in \u001b[0;36mdispatch_one_batch\u001b[1;34m(self, iterator)\u001b[0m\n\u001b[0;32m    857\u001b[0m                 \u001b[1;32mreturn\u001b[0m \u001b[1;32mFalse\u001b[0m\u001b[1;33m\u001b[0m\u001b[1;33m\u001b[0m\u001b[0m\n\u001b[0;32m    858\u001b[0m             \u001b[1;32melse\u001b[0m\u001b[1;33m:\u001b[0m\u001b[1;33m\u001b[0m\u001b[1;33m\u001b[0m\u001b[0m\n\u001b[1;32m--> 859\u001b[1;33m                 \u001b[0mself\u001b[0m\u001b[1;33m.\u001b[0m\u001b[0m_dispatch\u001b[0m\u001b[1;33m(\u001b[0m\u001b[0mtasks\u001b[0m\u001b[1;33m)\u001b[0m\u001b[1;33m\u001b[0m\u001b[1;33m\u001b[0m\u001b[0m\n\u001b[0m\u001b[0;32m    860\u001b[0m                 \u001b[1;32mreturn\u001b[0m \u001b[1;32mTrue\u001b[0m\u001b[1;33m\u001b[0m\u001b[1;33m\u001b[0m\u001b[0m\n\u001b[0;32m    861\u001b[0m \u001b[1;33m\u001b[0m\u001b[0m\n",
      "\u001b[1;32mC:\\ProgramData\\Anaconda3\\lib\\site-packages\\joblib\\parallel.py\u001b[0m in \u001b[0;36m_dispatch\u001b[1;34m(self, batch)\u001b[0m\n\u001b[0;32m    775\u001b[0m         \u001b[1;32mwith\u001b[0m \u001b[0mself\u001b[0m\u001b[1;33m.\u001b[0m\u001b[0m_lock\u001b[0m\u001b[1;33m:\u001b[0m\u001b[1;33m\u001b[0m\u001b[1;33m\u001b[0m\u001b[0m\n\u001b[0;32m    776\u001b[0m             \u001b[0mjob_idx\u001b[0m \u001b[1;33m=\u001b[0m \u001b[0mlen\u001b[0m\u001b[1;33m(\u001b[0m\u001b[0mself\u001b[0m\u001b[1;33m.\u001b[0m\u001b[0m_jobs\u001b[0m\u001b[1;33m)\u001b[0m\u001b[1;33m\u001b[0m\u001b[1;33m\u001b[0m\u001b[0m\n\u001b[1;32m--> 777\u001b[1;33m             \u001b[0mjob\u001b[0m \u001b[1;33m=\u001b[0m \u001b[0mself\u001b[0m\u001b[1;33m.\u001b[0m\u001b[0m_backend\u001b[0m\u001b[1;33m.\u001b[0m\u001b[0mapply_async\u001b[0m\u001b[1;33m(\u001b[0m\u001b[0mbatch\u001b[0m\u001b[1;33m,\u001b[0m \u001b[0mcallback\u001b[0m\u001b[1;33m=\u001b[0m\u001b[0mcb\u001b[0m\u001b[1;33m)\u001b[0m\u001b[1;33m\u001b[0m\u001b[1;33m\u001b[0m\u001b[0m\n\u001b[0m\u001b[0;32m    778\u001b[0m             \u001b[1;31m# A job can complete so quickly than its callback is\u001b[0m\u001b[1;33m\u001b[0m\u001b[1;33m\u001b[0m\u001b[1;33m\u001b[0m\u001b[0m\n\u001b[0;32m    779\u001b[0m             \u001b[1;31m# called before we get here, causing self._jobs to\u001b[0m\u001b[1;33m\u001b[0m\u001b[1;33m\u001b[0m\u001b[1;33m\u001b[0m\u001b[0m\n",
      "\u001b[1;32mC:\\ProgramData\\Anaconda3\\lib\\site-packages\\joblib\\_parallel_backends.py\u001b[0m in \u001b[0;36mapply_async\u001b[1;34m(self, func, callback)\u001b[0m\n\u001b[0;32m    206\u001b[0m     \u001b[1;32mdef\u001b[0m \u001b[0mapply_async\u001b[0m\u001b[1;33m(\u001b[0m\u001b[0mself\u001b[0m\u001b[1;33m,\u001b[0m \u001b[0mfunc\u001b[0m\u001b[1;33m,\u001b[0m \u001b[0mcallback\u001b[0m\u001b[1;33m=\u001b[0m\u001b[1;32mNone\u001b[0m\u001b[1;33m)\u001b[0m\u001b[1;33m:\u001b[0m\u001b[1;33m\u001b[0m\u001b[1;33m\u001b[0m\u001b[0m\n\u001b[0;32m    207\u001b[0m         \u001b[1;34m\"\"\"Schedule a func to be run\"\"\"\u001b[0m\u001b[1;33m\u001b[0m\u001b[1;33m\u001b[0m\u001b[0m\n\u001b[1;32m--> 208\u001b[1;33m         \u001b[0mresult\u001b[0m \u001b[1;33m=\u001b[0m \u001b[0mImmediateResult\u001b[0m\u001b[1;33m(\u001b[0m\u001b[0mfunc\u001b[0m\u001b[1;33m)\u001b[0m\u001b[1;33m\u001b[0m\u001b[1;33m\u001b[0m\u001b[0m\n\u001b[0m\u001b[0;32m    209\u001b[0m         \u001b[1;32mif\u001b[0m \u001b[0mcallback\u001b[0m\u001b[1;33m:\u001b[0m\u001b[1;33m\u001b[0m\u001b[1;33m\u001b[0m\u001b[0m\n\u001b[0;32m    210\u001b[0m             \u001b[0mcallback\u001b[0m\u001b[1;33m(\u001b[0m\u001b[0mresult\u001b[0m\u001b[1;33m)\u001b[0m\u001b[1;33m\u001b[0m\u001b[1;33m\u001b[0m\u001b[0m\n",
      "\u001b[1;32mC:\\ProgramData\\Anaconda3\\lib\\site-packages\\joblib\\_parallel_backends.py\u001b[0m in \u001b[0;36m__init__\u001b[1;34m(self, batch)\u001b[0m\n\u001b[0;32m    570\u001b[0m         \u001b[1;31m# Don't delay the application, to avoid keeping the input\u001b[0m\u001b[1;33m\u001b[0m\u001b[1;33m\u001b[0m\u001b[1;33m\u001b[0m\u001b[0m\n\u001b[0;32m    571\u001b[0m         \u001b[1;31m# arguments in memory\u001b[0m\u001b[1;33m\u001b[0m\u001b[1;33m\u001b[0m\u001b[1;33m\u001b[0m\u001b[0m\n\u001b[1;32m--> 572\u001b[1;33m         \u001b[0mself\u001b[0m\u001b[1;33m.\u001b[0m\u001b[0mresults\u001b[0m \u001b[1;33m=\u001b[0m \u001b[0mbatch\u001b[0m\u001b[1;33m(\u001b[0m\u001b[1;33m)\u001b[0m\u001b[1;33m\u001b[0m\u001b[1;33m\u001b[0m\u001b[0m\n\u001b[0m\u001b[0;32m    573\u001b[0m \u001b[1;33m\u001b[0m\u001b[0m\n\u001b[0;32m    574\u001b[0m     \u001b[1;32mdef\u001b[0m \u001b[0mget\u001b[0m\u001b[1;33m(\u001b[0m\u001b[0mself\u001b[0m\u001b[1;33m)\u001b[0m\u001b[1;33m:\u001b[0m\u001b[1;33m\u001b[0m\u001b[1;33m\u001b[0m\u001b[0m\n",
      "\u001b[1;32mC:\\ProgramData\\Anaconda3\\lib\\site-packages\\joblib\\parallel.py\u001b[0m in \u001b[0;36m__call__\u001b[1;34m(self)\u001b[0m\n\u001b[0;32m    260\u001b[0m         \u001b[1;31m# change the default number of processes to -1\u001b[0m\u001b[1;33m\u001b[0m\u001b[1;33m\u001b[0m\u001b[1;33m\u001b[0m\u001b[0m\n\u001b[0;32m    261\u001b[0m         \u001b[1;32mwith\u001b[0m \u001b[0mparallel_backend\u001b[0m\u001b[1;33m(\u001b[0m\u001b[0mself\u001b[0m\u001b[1;33m.\u001b[0m\u001b[0m_backend\u001b[0m\u001b[1;33m,\u001b[0m \u001b[0mn_jobs\u001b[0m\u001b[1;33m=\u001b[0m\u001b[0mself\u001b[0m\u001b[1;33m.\u001b[0m\u001b[0m_n_jobs\u001b[0m\u001b[1;33m)\u001b[0m\u001b[1;33m:\u001b[0m\u001b[1;33m\u001b[0m\u001b[1;33m\u001b[0m\u001b[0m\n\u001b[1;32m--> 262\u001b[1;33m             return [func(*args, **kwargs)\n\u001b[0m\u001b[0;32m    263\u001b[0m                     for func, args, kwargs in self.items]\n\u001b[0;32m    264\u001b[0m \u001b[1;33m\u001b[0m\u001b[0m\n",
      "\u001b[1;32mC:\\ProgramData\\Anaconda3\\lib\\site-packages\\joblib\\parallel.py\u001b[0m in \u001b[0;36m<listcomp>\u001b[1;34m(.0)\u001b[0m\n\u001b[0;32m    260\u001b[0m         \u001b[1;31m# change the default number of processes to -1\u001b[0m\u001b[1;33m\u001b[0m\u001b[1;33m\u001b[0m\u001b[1;33m\u001b[0m\u001b[0m\n\u001b[0;32m    261\u001b[0m         \u001b[1;32mwith\u001b[0m \u001b[0mparallel_backend\u001b[0m\u001b[1;33m(\u001b[0m\u001b[0mself\u001b[0m\u001b[1;33m.\u001b[0m\u001b[0m_backend\u001b[0m\u001b[1;33m,\u001b[0m \u001b[0mn_jobs\u001b[0m\u001b[1;33m=\u001b[0m\u001b[0mself\u001b[0m\u001b[1;33m.\u001b[0m\u001b[0m_n_jobs\u001b[0m\u001b[1;33m)\u001b[0m\u001b[1;33m:\u001b[0m\u001b[1;33m\u001b[0m\u001b[1;33m\u001b[0m\u001b[0m\n\u001b[1;32m--> 262\u001b[1;33m             return [func(*args, **kwargs)\n\u001b[0m\u001b[0;32m    263\u001b[0m                     for func, args, kwargs in self.items]\n\u001b[0;32m    264\u001b[0m \u001b[1;33m\u001b[0m\u001b[0m\n",
      "\u001b[1;32m~\\AppData\\Roaming\\Python\\Python38\\site-packages\\sklearn\\model_selection\\_validation.py\u001b[0m in \u001b[0;36m_fit_and_score\u001b[1;34m(estimator, X, y, scorer, train, test, verbose, parameters, fit_params, return_train_score, return_parameters, return_n_test_samples, return_times, return_estimator, error_score)\u001b[0m\n\u001b[0;32m    529\u001b[0m             \u001b[0mestimator\u001b[0m\u001b[1;33m.\u001b[0m\u001b[0mfit\u001b[0m\u001b[1;33m(\u001b[0m\u001b[0mX_train\u001b[0m\u001b[1;33m,\u001b[0m \u001b[1;33m**\u001b[0m\u001b[0mfit_params\u001b[0m\u001b[1;33m)\u001b[0m\u001b[1;33m\u001b[0m\u001b[1;33m\u001b[0m\u001b[0m\n\u001b[0;32m    530\u001b[0m         \u001b[1;32melse\u001b[0m\u001b[1;33m:\u001b[0m\u001b[1;33m\u001b[0m\u001b[1;33m\u001b[0m\u001b[0m\n\u001b[1;32m--> 531\u001b[1;33m             \u001b[0mestimator\u001b[0m\u001b[1;33m.\u001b[0m\u001b[0mfit\u001b[0m\u001b[1;33m(\u001b[0m\u001b[0mX_train\u001b[0m\u001b[1;33m,\u001b[0m \u001b[0my_train\u001b[0m\u001b[1;33m,\u001b[0m \u001b[1;33m**\u001b[0m\u001b[0mfit_params\u001b[0m\u001b[1;33m)\u001b[0m\u001b[1;33m\u001b[0m\u001b[1;33m\u001b[0m\u001b[0m\n\u001b[0m\u001b[0;32m    532\u001b[0m \u001b[1;33m\u001b[0m\u001b[0m\n\u001b[0;32m    533\u001b[0m     \u001b[1;32mexcept\u001b[0m \u001b[0mException\u001b[0m \u001b[1;32mas\u001b[0m \u001b[0me\u001b[0m\u001b[1;33m:\u001b[0m\u001b[1;33m\u001b[0m\u001b[1;33m\u001b[0m\u001b[0m\n",
      "\u001b[1;32m~\\AppData\\Roaming\\Python\\Python38\\site-packages\\sklearn\\svm\\_base.py\u001b[0m in \u001b[0;36mfit\u001b[1;34m(self, X, y, sample_weight)\u001b[0m\n\u001b[0;32m    215\u001b[0m \u001b[1;33m\u001b[0m\u001b[0m\n\u001b[0;32m    216\u001b[0m         \u001b[0mseed\u001b[0m \u001b[1;33m=\u001b[0m \u001b[0mrnd\u001b[0m\u001b[1;33m.\u001b[0m\u001b[0mrandint\u001b[0m\u001b[1;33m(\u001b[0m\u001b[0mnp\u001b[0m\u001b[1;33m.\u001b[0m\u001b[0miinfo\u001b[0m\u001b[1;33m(\u001b[0m\u001b[1;34m'i'\u001b[0m\u001b[1;33m)\u001b[0m\u001b[1;33m.\u001b[0m\u001b[0mmax\u001b[0m\u001b[1;33m)\u001b[0m\u001b[1;33m\u001b[0m\u001b[1;33m\u001b[0m\u001b[0m\n\u001b[1;32m--> 217\u001b[1;33m         \u001b[0mfit\u001b[0m\u001b[1;33m(\u001b[0m\u001b[0mX\u001b[0m\u001b[1;33m,\u001b[0m \u001b[0my\u001b[0m\u001b[1;33m,\u001b[0m \u001b[0msample_weight\u001b[0m\u001b[1;33m,\u001b[0m \u001b[0msolver_type\u001b[0m\u001b[1;33m,\u001b[0m \u001b[0mkernel\u001b[0m\u001b[1;33m,\u001b[0m \u001b[0mrandom_seed\u001b[0m\u001b[1;33m=\u001b[0m\u001b[0mseed\u001b[0m\u001b[1;33m)\u001b[0m\u001b[1;33m\u001b[0m\u001b[1;33m\u001b[0m\u001b[0m\n\u001b[0m\u001b[0;32m    218\u001b[0m         \u001b[1;31m# see comment on the other call to np.iinfo in this file\u001b[0m\u001b[1;33m\u001b[0m\u001b[1;33m\u001b[0m\u001b[1;33m\u001b[0m\u001b[0m\n\u001b[0;32m    219\u001b[0m \u001b[1;33m\u001b[0m\u001b[0m\n",
      "\u001b[1;32m~\\AppData\\Roaming\\Python\\Python38\\site-packages\\sklearn\\svm\\_base.py\u001b[0m in \u001b[0;36m_dense_fit\u001b[1;34m(self, X, y, sample_weight, solver_type, kernel, random_seed)\u001b[0m\n\u001b[0;32m    266\u001b[0m         \u001b[0mself\u001b[0m\u001b[1;33m.\u001b[0m\u001b[0msupport_\u001b[0m\u001b[1;33m,\u001b[0m \u001b[0mself\u001b[0m\u001b[1;33m.\u001b[0m\u001b[0msupport_vectors_\u001b[0m\u001b[1;33m,\u001b[0m \u001b[0mself\u001b[0m\u001b[1;33m.\u001b[0m\u001b[0m_n_support\u001b[0m\u001b[1;33m,\u001b[0m\u001b[0;31m \u001b[0m\u001b[0;31m\\\u001b[0m\u001b[1;33m\u001b[0m\u001b[1;33m\u001b[0m\u001b[0m\n\u001b[0;32m    267\u001b[0m             \u001b[0mself\u001b[0m\u001b[1;33m.\u001b[0m\u001b[0mdual_coef_\u001b[0m\u001b[1;33m,\u001b[0m \u001b[0mself\u001b[0m\u001b[1;33m.\u001b[0m\u001b[0mintercept_\u001b[0m\u001b[1;33m,\u001b[0m \u001b[0mself\u001b[0m\u001b[1;33m.\u001b[0m\u001b[0m_probA\u001b[0m\u001b[1;33m,\u001b[0m\u001b[0;31m \u001b[0m\u001b[0;31m\\\u001b[0m\u001b[1;33m\u001b[0m\u001b[1;33m\u001b[0m\u001b[0m\n\u001b[1;32m--> 268\u001b[1;33m             self._probB, self.fit_status_ = libsvm.fit(\n\u001b[0m\u001b[0;32m    269\u001b[0m                 \u001b[0mX\u001b[0m\u001b[1;33m,\u001b[0m \u001b[0my\u001b[0m\u001b[1;33m,\u001b[0m\u001b[1;33m\u001b[0m\u001b[1;33m\u001b[0m\u001b[0m\n\u001b[0;32m    270\u001b[0m                 \u001b[0msvm_type\u001b[0m\u001b[1;33m=\u001b[0m\u001b[0msolver_type\u001b[0m\u001b[1;33m,\u001b[0m \u001b[0msample_weight\u001b[0m\u001b[1;33m=\u001b[0m\u001b[0msample_weight\u001b[0m\u001b[1;33m,\u001b[0m\u001b[1;33m\u001b[0m\u001b[1;33m\u001b[0m\u001b[0m\n",
      "\u001b[1;31mKeyboardInterrupt\u001b[0m: "
     ]
    }
   ],
   "source": [
    "s_vm=model_selection.GridSearchCV(estimator=clf,param_grid=param_grid,scoring=\"accuracy\",verbose=10,cv=5,n_jobs=1)\n",
    "s_vm.fit(X_train_2,y_train_2)\n",
    "print(s_vm.best_score_)\n",
    "print(s_vm.best_estimator_.get_params())"
   ]
  },
  {
   "cell_type": "code",
   "execution_count": 45,
   "id": "baf610c5",
   "metadata": {},
   "outputs": [],
   "source": [
    "clf.fit(X_train, y_train)\n",
    "tr3=clf.predict(X_train)\n",
    "y3=clf.predict(X_test)"
   ]
  },
  {
   "cell_type": "code",
   "execution_count": 46,
   "id": "48fdd7d0",
   "metadata": {},
   "outputs": [
    {
     "name": "stdout",
     "output_type": "stream",
     "text": [
      "R squared via prediction on training set:  -0.04115740204034957\n",
      "R squared via prediction on test set:  -0.04332899681989022\n"
     ]
    }
   ],
   "source": [
    "print('R squared via prediction on training set: ', r2_score(y_train, tr3))\n",
    "print('R squared via prediction on test set: ', r2_score(y_test, y3))"
   ]
  },
  {
   "cell_type": "code",
   "execution_count": 47,
   "id": "5e2ca704",
   "metadata": {},
   "outputs": [
    {
     "data": {
      "text/plain": [
       "<AxesSubplot:xlabel='final_position', ylabel='Density'>"
      ]
     },
     "execution_count": 47,
     "metadata": {},
     "output_type": "execute_result"
    },
    {
     "data": {
      "image/png": "[encoded data removed]",
      "text/plain": [
       "<Figure size 432x288 with 1 Axes>"
      ]
     },
     "metadata": {
      "needs_background": "light"
     },
     "output_type": "display_data"
    }
   ],
   "source": [
    "difference=y_test-y3\n",
    "sns.kdeplot(difference)"
   ]
  },
  {
   "cell_type": "code",
   "execution_count": 48,
   "id": "014d8064",
   "metadata": {
    "scrolled": true
   },
   "outputs": [
    {
     "data": {
      "text/plain": [
       "0.053057553956834536"
      ]
     },
     "execution_count": 48,
     "metadata": {},
     "output_type": "execute_result"
    },
    {
     "data": {
      "image/png": "[encoded data removed]",
      "text/plain": [
       "<Figure size 1080x432 with 4 Axes>"
      ]
     },
     "metadata": {
      "needs_background": "light"
     },
     "output_type": "display_data"
    }
   ],
   "source": [
    "from sklearn.metrics import confusion_matrix  \n",
    "import seaborn as sn\n",
    "fig,axes=plt.subplots(1,2,figsize=(15,6))\n",
    "cm = pd.DataFrame(confusion_matrix(y_test, y3))\n",
    "sn.heatmap(cm,ax=axes[0])\n",
    "cm1 = pd.DataFrame(confusion_matrix(y_test, y_test))\n",
    "sn.heatmap(cm1,ax=axes[1])\n",
    "score = accuracy_score(y_test, y3)\n",
    "score"
   ]
  },
  {
   "cell_type": "markdown",
   "id": "ddd9182c",
   "metadata": {},
   "source": [
    "## HyperOpt"
   ]
  },
  {
   "cell_type": "code",
   "execution_count": 48,
   "id": "880c4158",
   "metadata": {
    "deletable": false,
    "editable": false,
    "run_control": {
     "frozen": true
    }
   },
   "outputs": [],
   "source": [
    "from sklearn.datasets import make_classification\n",
    "from sklearn.model_selection import train_test_split\n",
    "from hpsklearn import HyperoptEstimator\n",
    "from hpsklearn import any_classifier\n",
    "from hpsklearn import any_preprocessing\n",
    "from hyperopt import tpe\n",
    "from hpsklearn import random_forest,svc,knn,extra_trees"
   ]
  },
  {
   "cell_type": "code",
   "execution_count": 49,
   "id": "eb6bf173",
   "metadata": {
    "deletable": false,
    "editable": false,
    "run_control": {
     "frozen": true
    }
   },
   "outputs": [],
   "source": [
    "model = HyperoptEstimator(classifier=any_classifier('clf'), preprocessing=any_preprocessing('pre'), algo=tpe.suggest, trial_timeout=30)"
   ]
  },
  {
   "cell_type": "code",
   "execution_count": 50,
   "id": "7ee8fa09",
   "metadata": {
    "deletable": false,
    "editable": false,
    "run_control": {
     "frozen": true
    }
   },
   "outputs": [],
   "source": [
    "X_train = np.asarray(X_train).astype(np.float32)\n",
    "y_train=np.asarray(y_train).astype(np.float32)\n",
    "X_test = np.asarray(X_test).astype(np.float32)\n",
    "y_test=np.asarray(y_test).astype(np.float32)"
   ]
  },
  {
   "cell_type": "code",
   "execution_count": 51,
   "id": "84b8fede",
   "metadata": {
    "deletable": false,
    "editable": false,
    "run_control": {
     "frozen": true
    }
   },
   "outputs": [
    {
     "name": "stdout",
     "output_type": "stream",
     "text": [
      "100%|██████████████████████████████████████████████████| 1/1 [00:26<00:00, 26.69s/trial, best loss: 0.7511244377811095]\n",
      "100%|██████████████████████████████████████████████████| 2/2 [00:32<00:00, 32.39s/trial, best loss: 0.7511244377811095]\n",
      "100%|██████████████████████████████████████████████████| 3/3 [00:18<00:00, 18.40s/trial, best loss: 0.7511244377811095]\n",
      "100%|██████████████████████████████████████████████████| 4/4 [00:32<00:00, 32.44s/trial, best loss: 0.7511244377811095]\n",
      "100%|██████████████████████████████████████████████████| 5/5 [00:05<00:00,  5.24s/trial, best loss: 0.7511244377811095]\n",
      "100%|██████████████████████████████████████████████████| 6/6 [00:04<00:00,  4.35s/trial, best loss: 0.7511244377811095]\n",
      "100%|██████████████████████████████████████████████████| 7/7 [00:02<00:00,  2.49s/trial, best loss: 0.7511244377811095]\n",
      "100%|██████████████████████████████████████████████████| 8/8 [00:32<00:00, 32.26s/trial, best loss: 0.7511244377811095]\n",
      "100%|██████████████████████████████████████████████████| 9/9 [00:32<00:00, 32.44s/trial, best loss: 0.7511244377811095]\n",
      "100%|████████████████████████████████████████████████| 10/10 [00:02<00:00,  2.33s/trial, best loss: 0.7391304347826086]\n",
      "Accuracy: 0.279\n",
      "{'learner': RandomForestClassifier(max_features='log2', min_samples_leaf=7, n_estimators=37,\n",
      "                       n_jobs=1, random_state=3, verbose=False), 'preprocs': (StandardScaler(with_mean=False),), 'ex_preprocs': ()}\n"
     ]
    }
   ],
   "source": [
    "model.fit(X_train, y_train)\n",
    "# summarize performance\n",
    "acc = model.score(X_test, y_test)\n",
    "print(\"Accuracy: %.3f\" % acc)\n",
    "# summarize the best model\n",
    "print(model.best_model())"
   ]
  },
  {
   "cell_type": "code",
   "execution_count": 52,
   "id": "7eb71e1a",
   "metadata": {
    "deletable": false,
    "editable": false,
    "run_control": {
     "frozen": true
    }
   },
   "outputs": [
    {
     "name": "stdout",
     "output_type": "stream",
     "text": [
      "Accuracy: 0.279\n"
     ]
    }
   ],
   "source": [
    "y4 = model.predict(X_test)\n",
    "acc = accuracy_score(y_test, y4)\n",
    "print(\"Accuracy: %.3f\" % acc)"
   ]
  },
  {
   "cell_type": "code",
   "execution_count": 53,
   "id": "f79662f6",
   "metadata": {
    "deletable": false,
    "editable": false,
    "run_control": {
     "frozen": true
    }
   },
   "outputs": [
    {
     "data": {
      "text/plain": [
       "<AxesSubplot:ylabel='Density'>"
      ]
     },
     "execution_count": 53,
     "metadata": {},
     "output_type": "execute_result"
    },
    {
     "data": {
      "image/png": "[encoded data removed]",
      "text/plain": [
       "<Figure size 432x288 with 1 Axes>"
      ]
     },
     "metadata": {
      "needs_background": "light"
     },
     "output_type": "display_data"
    }
   ],
   "source": [
    "difference=y_test-y4\n",
    "sns.kdeplot(difference)"
   ]
  },
  {
   "cell_type": "code",
   "execution_count": 54,
   "id": "9e637ae4",
   "metadata": {
    "deletable": false,
    "editable": false,
    "run_control": {
     "frozen": true
    },
    "scrolled": true
   },
   "outputs": [
    {
     "data": {
      "text/plain": [
       "0.2787769784172662"
      ]
     },
     "execution_count": 54,
     "metadata": {},
     "output_type": "execute_result"
    },
    {
     "data": {
      "image/png": "[encoded data removed]",
      "text/plain": [
       "<Figure size 1080x432 with 4 Axes>"
      ]
     },
     "metadata": {
      "needs_background": "light"
     },
     "output_type": "display_data"
    }
   ],
   "source": [
    "from sklearn.metrics import confusion_matrix  \n",
    "import seaborn as sn\n",
    "fig,axes=plt.subplots(1,2,figsize=(15,6))\n",
    "cm = pd.DataFrame(confusion_matrix(y_test, y4))\n",
    "sn.heatmap(cm,ax=axes[0])\n",
    "cm1 = pd.DataFrame(confusion_matrix(y_test, y_test))\n",
    "sn.heatmap(cm1,ax=axes[1])\n",
    "score = accuracy_score(y_test, y4)\n",
    "score"
   ]
  },
  {
   "cell_type": "markdown",
   "id": "9612897e",
   "metadata": {
    "deletable": false,
    "editable": false,
    "run_control": {
     "frozen": true
    }
   },
   "source": [
    "## ANN"
   ]
  },
  {
   "cell_type": "code",
   "execution_count": 49,
   "id": "d5edb212",
   "metadata": {},
   "outputs": [],
   "source": [
    "import tensorflow as tf\n",
    "from tensorflow.keras.layers import Input, Dense, Activation, Dropout\n",
    "from tensorflow.keras.models import Model"
   ]
  },
  {
   "cell_type": "code",
   "execution_count": 50,
   "id": "749a0993",
   "metadata": {},
   "outputs": [],
   "source": [
    "import keras\n",
    "from keras.models import Sequential\n",
    "from keras.layers import Dense"
   ]
  },
  {
   "cell_type": "code",
   "execution_count": null,
   "id": "7e6c688e",
   "metadata": {},
   "outputs": [],
   "source": []
  },
  {
   "cell_type": "code",
   "execution_count": 72,
   "id": "26e63547",
   "metadata": {},
   "outputs": [],
   "source": [
    "X_train = np.asarray(X_train).astype(np.float32)\n",
    "y_train=np.asarray(y_train).astype(np.float32)\n",
    "X_test = np.asarray(X_test).astype(np.float32)\n",
    "y_test=np.asarray(y_test).astype(np.float32)\n",
    "from sklearn.preprocessing import StandardScaler\n",
    "sc = StandardScaler()\n",
    "X_train = sc.fit_transform(X_train)\n",
    "X_test = sc.transform(X_test)"
   ]
  },
  {
   "cell_type": "code",
   "execution_count": 99,
   "id": "ab0daf2c",
   "metadata": {},
   "outputs": [
    {
     "data": {
      "text/plain": [
       "(3333, 103)"
      ]
     },
     "execution_count": 99,
     "metadata": {},
     "output_type": "execute_result"
    }
   ],
   "source": [
    "X_train.shape"
   ]
  },
  {
   "cell_type": "code",
   "execution_count": 136,
   "id": "489d933b",
   "metadata": {},
   "outputs": [],
   "source": [
    "ann = tf.keras.models.Sequential()\n",
    "ann.add(tf.keras.layers.Dense(103, activation='relu', input_shape=[X_train.shape[1],]))\n",
    "ann.add(tf.keras.layers.Dense(1024, activation='relu'))\n",
    "ann.add(tf.keras.layers.Dense(1024, activation='relu'))\n",
    "ann.add(tf.keras.layers.Dense(512, activation='relu'))\n",
    "ann.add(tf.keras.layers.Dense(25, activation='relu'))\n",
    "ann.add(tf.keras.layers.Dense(1, activation='softmax'))\n",
    "\n"
   ]
  },
  {
   "cell_type": "code",
   "execution_count": 139,
   "id": "7a0fbf1a",
   "metadata": {},
   "outputs": [
    {
     "name": "stdout",
     "output_type": "stream",
     "text": [
      "Model: \"sequential_18\"\n",
      "_________________________________________________________________\n",
      "Layer (type)                 Output Shape              Param #   \n",
      "=================================================================\n",
      "dense_81 (Dense)             (None, 103)               10712     \n",
      "_________________________________________________________________\n",
      "dense_82 (Dense)             (None, 1024)              106496    \n",
      "_________________________________________________________________\n",
      "dense_83 (Dense)             (None, 1024)              1049600   \n",
      "_________________________________________________________________\n",
      "dense_84 (Dense)             (None, 512)               524800    \n",
      "_________________________________________________________________\n",
      "dense_85 (Dense)             (None, 25)                12825     \n",
      "_________________________________________________________________\n",
      "dense_86 (Dense)             (None, 1)                 26        \n",
      "=================================================================\n",
      "Total params: 1,704,459\n",
      "Trainable params: 1,704,459\n",
      "Non-trainable params: 0\n",
      "_________________________________________________________________\n"
     ]
    }
   ],
   "source": [
    "ann.compile(loss='CategoricalCrossentropy', optimizer='adam', metrics=['accuracy'])\n",
    "ann.summary()"
   ]
  },
  {
   "cell_type": "code",
   "execution_count": 140,
   "id": "f519f07d",
   "metadata": {},
   "outputs": [
    {
     "name": "stdout",
     "output_type": "stream",
     "text": [
      "Epoch 1/100\n",
      "105/105 [==============================] - 2s 15ms/step - loss: 0.0000e+00 - accuracy: 0.0546\n",
      "Epoch 2/100\n",
      "105/105 [==============================] - 2s 16ms/step - loss: 0.0000e+00 - accuracy: 0.0546\n",
      "Epoch 3/100\n",
      "105/105 [==============================] - 2s 16ms/step - loss: 0.0000e+00 - accuracy: 0.0546\n",
      "Epoch 4/100\n",
      "105/105 [==============================] - 2s 16ms/step - loss: 0.0000e+00 - accuracy: 0.0546\n",
      "Epoch 5/100\n",
      "105/105 [==============================] - 2s 18ms/step - loss: 0.0000e+00 - accuracy: 0.0546\n",
      "Epoch 6/100\n",
      "105/105 [==============================] - 2s 17ms/step - loss: 0.0000e+00 - accuracy: 0.0546\n",
      "Epoch 7/100\n",
      "105/105 [==============================] - 2s 16ms/step - loss: 0.0000e+00 - accuracy: 0.0546\n",
      "Epoch 8/100\n",
      "105/105 [==============================] - 2s 17ms/step - loss: 0.0000e+00 - accuracy: 0.0546\n",
      "Epoch 9/100\n",
      "105/105 [==============================] - 2s 16ms/step - loss: 0.0000e+00 - accuracy: 0.0546\n",
      "Epoch 10/100\n",
      "105/105 [==============================] - 2s 16ms/step - loss: 0.0000e+00 - accuracy: 0.0546\n",
      "Epoch 11/100\n",
      "105/105 [==============================] - 2s 15ms/step - loss: 0.0000e+00 - accuracy: 0.0546\n",
      "Epoch 12/100\n",
      "105/105 [==============================] - 2s 16ms/step - loss: 0.0000e+00 - accuracy: 0.0546\n",
      "Epoch 13/100\n",
      "105/105 [==============================] - 2s 18ms/step - loss: 0.0000e+00 - accuracy: 0.0546\n",
      "Epoch 14/100\n",
      "105/105 [==============================] - 2s 16ms/step - loss: 0.0000e+00 - accuracy: 0.0546\n",
      "Epoch 15/100\n",
      "105/105 [==============================] - 2s 17ms/step - loss: 0.0000e+00 - accuracy: 0.0546\n",
      "Epoch 16/100\n",
      "105/105 [==============================] - 2s 16ms/step - loss: 0.0000e+00 - accuracy: 0.0546\n",
      "Epoch 17/100\n",
      "105/105 [==============================] - 2s 17ms/step - loss: 0.0000e+00 - accuracy: 0.0546\n",
      "Epoch 18/100\n",
      "105/105 [==============================] - 2s 17ms/step - loss: 0.0000e+00 - accuracy: 0.0546\n",
      "Epoch 19/100\n",
      "105/105 [==============================] - 2s 15ms/step - loss: 0.0000e+00 - accuracy: 0.0546\n",
      "Epoch 20/100\n",
      "105/105 [==============================] - 2s 16ms/step - loss: 0.0000e+00 - accuracy: 0.0546\n",
      "Epoch 21/100\n",
      "105/105 [==============================] - 2s 16ms/step - loss: 0.0000e+00 - accuracy: 0.0546\n",
      "Epoch 22/100\n",
      "105/105 [==============================] - 2s 17ms/step - loss: 0.0000e+00 - accuracy: 0.0546\n",
      "Epoch 23/100\n",
      "105/105 [==============================] - 2s 17ms/step - loss: 0.0000e+00 - accuracy: 0.0546\n",
      "Epoch 24/100\n",
      "105/105 [==============================] - 2s 17ms/step - loss: 0.0000e+00 - accuracy: 0.0546\n",
      "Epoch 25/100\n",
      "105/105 [==============================] - 2s 16ms/step - loss: 0.0000e+00 - accuracy: 0.0546\n",
      "Epoch 26/100\n",
      "105/105 [==============================] - 2s 17ms/step - loss: 0.0000e+00 - accuracy: 0.0546\n",
      "Epoch 27/100\n",
      "105/105 [==============================] - 2s 18ms/step - loss: 0.0000e+00 - accuracy: 0.0546\n",
      "Epoch 28/100\n",
      " 34/105 [========>.....................] - ETA: 1s - loss: 0.0000e+00 - accuracy: 0.05"
     ]
    },
    {
     "ename": "KeyboardInterrupt",
     "evalue": "",
     "output_type": "error",
     "traceback": [
      "\u001b[1;31m---------------------------------------------------------------------------\u001b[0m",
      "\u001b[1;31mKeyboardInterrupt\u001b[0m                         Traceback (most recent call last)",
      "\u001b[1;32m<ipython-input-140-dda2d2b4d255>\u001b[0m in \u001b[0;36m<module>\u001b[1;34m\u001b[0m\n\u001b[1;32m----> 1\u001b[1;33m \u001b[0mann\u001b[0m\u001b[1;33m.\u001b[0m\u001b[0mfit\u001b[0m\u001b[1;33m(\u001b[0m\u001b[0mX_train\u001b[0m\u001b[1;33m,\u001b[0m \u001b[0my_train\u001b[0m\u001b[1;33m,\u001b[0m \u001b[0mepochs\u001b[0m\u001b[1;33m=\u001b[0m\u001b[1;36m100\u001b[0m\u001b[1;33m)\u001b[0m\u001b[1;33m\u001b[0m\u001b[1;33m\u001b[0m\u001b[0m\n\u001b[0m",
      "\u001b[1;32mC:\\ProgramData\\Anaconda3\\lib\\site-packages\\tensorflow\\python\\keras\\engine\\training.py\u001b[0m in \u001b[0;36m_method_wrapper\u001b[1;34m(self, *args, **kwargs)\u001b[0m\n\u001b[0;32m    106\u001b[0m   \u001b[1;32mdef\u001b[0m \u001b[0m_method_wrapper\u001b[0m\u001b[1;33m(\u001b[0m\u001b[0mself\u001b[0m\u001b[1;33m,\u001b[0m \u001b[1;33m*\u001b[0m\u001b[0margs\u001b[0m\u001b[1;33m,\u001b[0m \u001b[1;33m**\u001b[0m\u001b[0mkwargs\u001b[0m\u001b[1;33m)\u001b[0m\u001b[1;33m:\u001b[0m\u001b[1;33m\u001b[0m\u001b[1;33m\u001b[0m\u001b[0m\n\u001b[0;32m    107\u001b[0m     \u001b[1;32mif\u001b[0m \u001b[1;32mnot\u001b[0m \u001b[0mself\u001b[0m\u001b[1;33m.\u001b[0m\u001b[0m_in_multi_worker_mode\u001b[0m\u001b[1;33m(\u001b[0m\u001b[1;33m)\u001b[0m\u001b[1;33m:\u001b[0m  \u001b[1;31m# pylint: disable=protected-access\u001b[0m\u001b[1;33m\u001b[0m\u001b[1;33m\u001b[0m\u001b[0m\n\u001b[1;32m--> 108\u001b[1;33m       \u001b[1;32mreturn\u001b[0m \u001b[0mmethod\u001b[0m\u001b[1;33m(\u001b[0m\u001b[0mself\u001b[0m\u001b[1;33m,\u001b[0m \u001b[1;33m*\u001b[0m\u001b[0margs\u001b[0m\u001b[1;33m,\u001b[0m \u001b[1;33m**\u001b[0m\u001b[0mkwargs\u001b[0m\u001b[1;33m)\u001b[0m\u001b[1;33m\u001b[0m\u001b[1;33m\u001b[0m\u001b[0m\n\u001b[0m\u001b[0;32m    109\u001b[0m \u001b[1;33m\u001b[0m\u001b[0m\n\u001b[0;32m    110\u001b[0m     \u001b[1;31m# Running inside `run_distribute_coordinator` already.\u001b[0m\u001b[1;33m\u001b[0m\u001b[1;33m\u001b[0m\u001b[1;33m\u001b[0m\u001b[0m\n",
      "\u001b[1;32mC:\\ProgramData\\Anaconda3\\lib\\site-packages\\tensorflow\\python\\keras\\engine\\training.py\u001b[0m in \u001b[0;36mfit\u001b[1;34m(self, x, y, batch_size, epochs, verbose, callbacks, validation_split, validation_data, shuffle, class_weight, sample_weight, initial_epoch, steps_per_epoch, validation_steps, validation_batch_size, validation_freq, max_queue_size, workers, use_multiprocessing)\u001b[0m\n\u001b[0;32m   1101\u001b[0m               \u001b[0mlogs\u001b[0m \u001b[1;33m=\u001b[0m \u001b[0mtmp_logs\u001b[0m  \u001b[1;31m# No error, now safe to assign to logs.\u001b[0m\u001b[1;33m\u001b[0m\u001b[1;33m\u001b[0m\u001b[0m\n\u001b[0;32m   1102\u001b[0m               \u001b[0mend_step\u001b[0m \u001b[1;33m=\u001b[0m \u001b[0mstep\u001b[0m \u001b[1;33m+\u001b[0m \u001b[0mdata_handler\u001b[0m\u001b[1;33m.\u001b[0m\u001b[0mstep_increment\u001b[0m\u001b[1;33m\u001b[0m\u001b[1;33m\u001b[0m\u001b[0m\n\u001b[1;32m-> 1103\u001b[1;33m               \u001b[0mcallbacks\u001b[0m\u001b[1;33m.\u001b[0m\u001b[0mon_train_batch_end\u001b[0m\u001b[1;33m(\u001b[0m\u001b[0mend_step\u001b[0m\u001b[1;33m,\u001b[0m \u001b[0mlogs\u001b[0m\u001b[1;33m)\u001b[0m\u001b[1;33m\u001b[0m\u001b[1;33m\u001b[0m\u001b[0m\n\u001b[0m\u001b[0;32m   1104\u001b[0m         \u001b[0mepoch_logs\u001b[0m \u001b[1;33m=\u001b[0m \u001b[0mcopy\u001b[0m\u001b[1;33m.\u001b[0m\u001b[0mcopy\u001b[0m\u001b[1;33m(\u001b[0m\u001b[0mlogs\u001b[0m\u001b[1;33m)\u001b[0m\u001b[1;33m\u001b[0m\u001b[1;33m\u001b[0m\u001b[0m\n\u001b[0;32m   1105\u001b[0m \u001b[1;33m\u001b[0m\u001b[0m\n",
      "\u001b[1;32mC:\\ProgramData\\Anaconda3\\lib\\site-packages\\tensorflow\\python\\keras\\callbacks.py\u001b[0m in \u001b[0;36mon_train_batch_end\u001b[1;34m(self, batch, logs)\u001b[0m\n\u001b[0;32m    438\u001b[0m     \"\"\"\n\u001b[0;32m    439\u001b[0m     \u001b[1;32mif\u001b[0m \u001b[0mself\u001b[0m\u001b[1;33m.\u001b[0m\u001b[0m_should_call_train_batch_hooks\u001b[0m\u001b[1;33m:\u001b[0m\u001b[1;33m\u001b[0m\u001b[1;33m\u001b[0m\u001b[0m\n\u001b[1;32m--> 440\u001b[1;33m       \u001b[0mself\u001b[0m\u001b[1;33m.\u001b[0m\u001b[0m_call_batch_hook\u001b[0m\u001b[1;33m(\u001b[0m\u001b[0mModeKeys\u001b[0m\u001b[1;33m.\u001b[0m\u001b[0mTRAIN\u001b[0m\u001b[1;33m,\u001b[0m \u001b[1;34m'end'\u001b[0m\u001b[1;33m,\u001b[0m \u001b[0mbatch\u001b[0m\u001b[1;33m,\u001b[0m \u001b[0mlogs\u001b[0m\u001b[1;33m=\u001b[0m\u001b[0mlogs\u001b[0m\u001b[1;33m)\u001b[0m\u001b[1;33m\u001b[0m\u001b[1;33m\u001b[0m\u001b[0m\n\u001b[0m\u001b[0;32m    441\u001b[0m \u001b[1;33m\u001b[0m\u001b[0m\n\u001b[0;32m    442\u001b[0m   \u001b[1;32mdef\u001b[0m \u001b[0mon_test_batch_begin\u001b[0m\u001b[1;33m(\u001b[0m\u001b[0mself\u001b[0m\u001b[1;33m,\u001b[0m \u001b[0mbatch\u001b[0m\u001b[1;33m,\u001b[0m \u001b[0mlogs\u001b[0m\u001b[1;33m=\u001b[0m\u001b[1;32mNone\u001b[0m\u001b[1;33m)\u001b[0m\u001b[1;33m:\u001b[0m\u001b[1;33m\u001b[0m\u001b[1;33m\u001b[0m\u001b[0m\n",
      "\u001b[1;32mC:\\ProgramData\\Anaconda3\\lib\\site-packages\\tensorflow\\python\\keras\\callbacks.py\u001b[0m in \u001b[0;36m_call_batch_hook\u001b[1;34m(self, mode, hook, batch, logs)\u001b[0m\n\u001b[0;32m    287\u001b[0m       \u001b[0mself\u001b[0m\u001b[1;33m.\u001b[0m\u001b[0m_call_batch_begin_hook\u001b[0m\u001b[1;33m(\u001b[0m\u001b[0mmode\u001b[0m\u001b[1;33m,\u001b[0m \u001b[0mbatch\u001b[0m\u001b[1;33m,\u001b[0m \u001b[0mlogs\u001b[0m\u001b[1;33m)\u001b[0m\u001b[1;33m\u001b[0m\u001b[1;33m\u001b[0m\u001b[0m\n\u001b[0;32m    288\u001b[0m     \u001b[1;32melif\u001b[0m \u001b[0mhook\u001b[0m \u001b[1;33m==\u001b[0m \u001b[1;34m'end'\u001b[0m\u001b[1;33m:\u001b[0m\u001b[1;33m\u001b[0m\u001b[1;33m\u001b[0m\u001b[0m\n\u001b[1;32m--> 289\u001b[1;33m       \u001b[0mself\u001b[0m\u001b[1;33m.\u001b[0m\u001b[0m_call_batch_end_hook\u001b[0m\u001b[1;33m(\u001b[0m\u001b[0mmode\u001b[0m\u001b[1;33m,\u001b[0m \u001b[0mbatch\u001b[0m\u001b[1;33m,\u001b[0m \u001b[0mlogs\u001b[0m\u001b[1;33m)\u001b[0m\u001b[1;33m\u001b[0m\u001b[1;33m\u001b[0m\u001b[0m\n\u001b[0m\u001b[0;32m    290\u001b[0m     \u001b[1;32melse\u001b[0m\u001b[1;33m:\u001b[0m\u001b[1;33m\u001b[0m\u001b[1;33m\u001b[0m\u001b[0m\n\u001b[0;32m    291\u001b[0m       \u001b[1;32mraise\u001b[0m \u001b[0mValueError\u001b[0m\u001b[1;33m(\u001b[0m\u001b[1;34m'Unrecognized hook: {}'\u001b[0m\u001b[1;33m.\u001b[0m\u001b[0mformat\u001b[0m\u001b[1;33m(\u001b[0m\u001b[0mhook\u001b[0m\u001b[1;33m)\u001b[0m\u001b[1;33m)\u001b[0m\u001b[1;33m\u001b[0m\u001b[1;33m\u001b[0m\u001b[0m\n",
      "\u001b[1;32mC:\\ProgramData\\Anaconda3\\lib\\site-packages\\tensorflow\\python\\keras\\callbacks.py\u001b[0m in \u001b[0;36m_call_batch_end_hook\u001b[1;34m(self, mode, batch, logs)\u001b[0m\n\u001b[0;32m    307\u001b[0m       \u001b[0mbatch_time\u001b[0m \u001b[1;33m=\u001b[0m \u001b[0mtime\u001b[0m\u001b[1;33m.\u001b[0m\u001b[0mtime\u001b[0m\u001b[1;33m(\u001b[0m\u001b[1;33m)\u001b[0m \u001b[1;33m-\u001b[0m \u001b[0mself\u001b[0m\u001b[1;33m.\u001b[0m\u001b[0m_batch_start_time\u001b[0m\u001b[1;33m\u001b[0m\u001b[1;33m\u001b[0m\u001b[0m\n\u001b[0;32m    308\u001b[0m \u001b[1;33m\u001b[0m\u001b[0m\n\u001b[1;32m--> 309\u001b[1;33m     \u001b[0mself\u001b[0m\u001b[1;33m.\u001b[0m\u001b[0m_call_batch_hook_helper\u001b[0m\u001b[1;33m(\u001b[0m\u001b[0mhook_name\u001b[0m\u001b[1;33m,\u001b[0m \u001b[0mbatch\u001b[0m\u001b[1;33m,\u001b[0m \u001b[0mlogs\u001b[0m\u001b[1;33m)\u001b[0m\u001b[1;33m\u001b[0m\u001b[1;33m\u001b[0m\u001b[0m\n\u001b[0m\u001b[0;32m    310\u001b[0m \u001b[1;33m\u001b[0m\u001b[0m\n\u001b[0;32m    311\u001b[0m     \u001b[1;32mif\u001b[0m \u001b[0mself\u001b[0m\u001b[1;33m.\u001b[0m\u001b[0m_check_timing\u001b[0m\u001b[1;33m:\u001b[0m\u001b[1;33m\u001b[0m\u001b[1;33m\u001b[0m\u001b[0m\n",
      "\u001b[1;32mC:\\ProgramData\\Anaconda3\\lib\\site-packages\\tensorflow\\python\\keras\\callbacks.py\u001b[0m in \u001b[0;36m_call_batch_hook_helper\u001b[1;34m(self, hook_name, batch, logs)\u001b[0m\n\u001b[0;32m    340\u001b[0m       \u001b[0mhook\u001b[0m \u001b[1;33m=\u001b[0m \u001b[0mgetattr\u001b[0m\u001b[1;33m(\u001b[0m\u001b[0mcallback\u001b[0m\u001b[1;33m,\u001b[0m \u001b[0mhook_name\u001b[0m\u001b[1;33m)\u001b[0m\u001b[1;33m\u001b[0m\u001b[1;33m\u001b[0m\u001b[0m\n\u001b[0;32m    341\u001b[0m       \u001b[1;32mif\u001b[0m \u001b[0mgetattr\u001b[0m\u001b[1;33m(\u001b[0m\u001b[0mcallback\u001b[0m\u001b[1;33m,\u001b[0m \u001b[1;34m'_supports_tf_logs'\u001b[0m\u001b[1;33m,\u001b[0m \u001b[1;32mFalse\u001b[0m\u001b[1;33m)\u001b[0m\u001b[1;33m:\u001b[0m\u001b[1;33m\u001b[0m\u001b[1;33m\u001b[0m\u001b[0m\n\u001b[1;32m--> 342\u001b[1;33m         \u001b[0mhook\u001b[0m\u001b[1;33m(\u001b[0m\u001b[0mbatch\u001b[0m\u001b[1;33m,\u001b[0m \u001b[0mlogs\u001b[0m\u001b[1;33m)\u001b[0m\u001b[1;33m\u001b[0m\u001b[1;33m\u001b[0m\u001b[0m\n\u001b[0m\u001b[0;32m    343\u001b[0m       \u001b[1;32melse\u001b[0m\u001b[1;33m:\u001b[0m\u001b[1;33m\u001b[0m\u001b[1;33m\u001b[0m\u001b[0m\n\u001b[0;32m    344\u001b[0m         \u001b[1;32mif\u001b[0m \u001b[0mnumpy_logs\u001b[0m \u001b[1;32mis\u001b[0m \u001b[1;32mNone\u001b[0m\u001b[1;33m:\u001b[0m  \u001b[1;31m# Only convert once.\u001b[0m\u001b[1;33m\u001b[0m\u001b[1;33m\u001b[0m\u001b[0m\n",
      "\u001b[1;32mC:\\ProgramData\\Anaconda3\\lib\\site-packages\\tensorflow\\python\\keras\\callbacks.py\u001b[0m in \u001b[0;36mon_train_batch_end\u001b[1;34m(self, batch, logs)\u001b[0m\n\u001b[0;32m    959\u001b[0m \u001b[1;33m\u001b[0m\u001b[0m\n\u001b[0;32m    960\u001b[0m   \u001b[1;32mdef\u001b[0m \u001b[0mon_train_batch_end\u001b[0m\u001b[1;33m(\u001b[0m\u001b[0mself\u001b[0m\u001b[1;33m,\u001b[0m \u001b[0mbatch\u001b[0m\u001b[1;33m,\u001b[0m \u001b[0mlogs\u001b[0m\u001b[1;33m=\u001b[0m\u001b[1;32mNone\u001b[0m\u001b[1;33m)\u001b[0m\u001b[1;33m:\u001b[0m\u001b[1;33m\u001b[0m\u001b[1;33m\u001b[0m\u001b[0m\n\u001b[1;32m--> 961\u001b[1;33m     \u001b[0mself\u001b[0m\u001b[1;33m.\u001b[0m\u001b[0m_batch_update_progbar\u001b[0m\u001b[1;33m(\u001b[0m\u001b[0mbatch\u001b[0m\u001b[1;33m,\u001b[0m \u001b[0mlogs\u001b[0m\u001b[1;33m)\u001b[0m\u001b[1;33m\u001b[0m\u001b[1;33m\u001b[0m\u001b[0m\n\u001b[0m\u001b[0;32m    962\u001b[0m \u001b[1;33m\u001b[0m\u001b[0m\n\u001b[0;32m    963\u001b[0m   \u001b[1;32mdef\u001b[0m \u001b[0mon_test_batch_end\u001b[0m\u001b[1;33m(\u001b[0m\u001b[0mself\u001b[0m\u001b[1;33m,\u001b[0m \u001b[0mbatch\u001b[0m\u001b[1;33m,\u001b[0m \u001b[0mlogs\u001b[0m\u001b[1;33m=\u001b[0m\u001b[1;32mNone\u001b[0m\u001b[1;33m)\u001b[0m\u001b[1;33m:\u001b[0m\u001b[1;33m\u001b[0m\u001b[1;33m\u001b[0m\u001b[0m\n",
      "\u001b[1;32mC:\\ProgramData\\Anaconda3\\lib\\site-packages\\tensorflow\\python\\keras\\callbacks.py\u001b[0m in \u001b[0;36m_batch_update_progbar\u001b[1;34m(self, batch, logs)\u001b[0m\n\u001b[0;32m   1015\u001b[0m       \u001b[1;31m# Only block async when verbose = 1.\u001b[0m\u001b[1;33m\u001b[0m\u001b[1;33m\u001b[0m\u001b[1;33m\u001b[0m\u001b[0m\n\u001b[0;32m   1016\u001b[0m       \u001b[0mlogs\u001b[0m \u001b[1;33m=\u001b[0m \u001b[0mtf_utils\u001b[0m\u001b[1;33m.\u001b[0m\u001b[0mto_numpy_or_python_type\u001b[0m\u001b[1;33m(\u001b[0m\u001b[0mlogs\u001b[0m\u001b[1;33m)\u001b[0m\u001b[1;33m\u001b[0m\u001b[1;33m\u001b[0m\u001b[0m\n\u001b[1;32m-> 1017\u001b[1;33m       \u001b[0mself\u001b[0m\u001b[1;33m.\u001b[0m\u001b[0mprogbar\u001b[0m\u001b[1;33m.\u001b[0m\u001b[0mupdate\u001b[0m\u001b[1;33m(\u001b[0m\u001b[0mself\u001b[0m\u001b[1;33m.\u001b[0m\u001b[0mseen\u001b[0m\u001b[1;33m,\u001b[0m \u001b[0mlist\u001b[0m\u001b[1;33m(\u001b[0m\u001b[0mlogs\u001b[0m\u001b[1;33m.\u001b[0m\u001b[0mitems\u001b[0m\u001b[1;33m(\u001b[0m\u001b[1;33m)\u001b[0m\u001b[1;33m)\u001b[0m\u001b[1;33m,\u001b[0m \u001b[0mfinalize\u001b[0m\u001b[1;33m=\u001b[0m\u001b[1;32mFalse\u001b[0m\u001b[1;33m)\u001b[0m\u001b[1;33m\u001b[0m\u001b[1;33m\u001b[0m\u001b[0m\n\u001b[0m\u001b[0;32m   1018\u001b[0m \u001b[1;33m\u001b[0m\u001b[0m\n\u001b[0;32m   1019\u001b[0m   \u001b[1;32mdef\u001b[0m \u001b[0m_finalize_progbar\u001b[0m\u001b[1;33m(\u001b[0m\u001b[0mself\u001b[0m\u001b[1;33m,\u001b[0m \u001b[0mlogs\u001b[0m\u001b[1;33m)\u001b[0m\u001b[1;33m:\u001b[0m\u001b[1;33m\u001b[0m\u001b[1;33m\u001b[0m\u001b[0m\n",
      "\u001b[1;32mC:\\ProgramData\\Anaconda3\\lib\\site-packages\\tensorflow\\python\\keras\\utils\\generic_utils.py\u001b[0m in \u001b[0;36mupdate\u001b[1;34m(self, current, values, finalize)\u001b[0m\n\u001b[0;32m    573\u001b[0m       \u001b[0mprev_total_width\u001b[0m \u001b[1;33m=\u001b[0m \u001b[0mself\u001b[0m\u001b[1;33m.\u001b[0m\u001b[0m_total_width\u001b[0m\u001b[1;33m\u001b[0m\u001b[1;33m\u001b[0m\u001b[0m\n\u001b[0;32m    574\u001b[0m       \u001b[1;32mif\u001b[0m \u001b[0mself\u001b[0m\u001b[1;33m.\u001b[0m\u001b[0m_dynamic_display\u001b[0m\u001b[1;33m:\u001b[0m\u001b[1;33m\u001b[0m\u001b[1;33m\u001b[0m\u001b[0m\n\u001b[1;32m--> 575\u001b[1;33m         \u001b[0msys\u001b[0m\u001b[1;33m.\u001b[0m\u001b[0mstdout\u001b[0m\u001b[1;33m.\u001b[0m\u001b[0mwrite\u001b[0m\u001b[1;33m(\u001b[0m\u001b[1;34m'\\b'\u001b[0m \u001b[1;33m*\u001b[0m \u001b[0mprev_total_width\u001b[0m\u001b[1;33m)\u001b[0m\u001b[1;33m\u001b[0m\u001b[1;33m\u001b[0m\u001b[0m\n\u001b[0m\u001b[0;32m    576\u001b[0m         \u001b[0msys\u001b[0m\u001b[1;33m.\u001b[0m\u001b[0mstdout\u001b[0m\u001b[1;33m.\u001b[0m\u001b[0mwrite\u001b[0m\u001b[1;33m(\u001b[0m\u001b[1;34m'\\r'\u001b[0m\u001b[1;33m)\u001b[0m\u001b[1;33m\u001b[0m\u001b[1;33m\u001b[0m\u001b[0m\n\u001b[0;32m    577\u001b[0m       \u001b[1;32melse\u001b[0m\u001b[1;33m:\u001b[0m\u001b[1;33m\u001b[0m\u001b[1;33m\u001b[0m\u001b[0m\n",
      "\u001b[1;32mC:\\ProgramData\\Anaconda3\\lib\\site-packages\\ipykernel\\iostream.py\u001b[0m in \u001b[0;36mwrite\u001b[1;34m(self, string)\u001b[0m\n\u001b[0;32m    402\u001b[0m             \u001b[0mis_child\u001b[0m \u001b[1;33m=\u001b[0m \u001b[1;33m(\u001b[0m\u001b[1;32mnot\u001b[0m \u001b[0mself\u001b[0m\u001b[1;33m.\u001b[0m\u001b[0m_is_master_process\u001b[0m\u001b[1;33m(\u001b[0m\u001b[1;33m)\u001b[0m\u001b[1;33m)\u001b[0m\u001b[1;33m\u001b[0m\u001b[1;33m\u001b[0m\u001b[0m\n\u001b[0;32m    403\u001b[0m             \u001b[1;31m# only touch the buffer in the IO thread to avoid races\u001b[0m\u001b[1;33m\u001b[0m\u001b[1;33m\u001b[0m\u001b[1;33m\u001b[0m\u001b[0m\n\u001b[1;32m--> 404\u001b[1;33m             \u001b[0mself\u001b[0m\u001b[1;33m.\u001b[0m\u001b[0mpub_thread\u001b[0m\u001b[1;33m.\u001b[0m\u001b[0mschedule\u001b[0m\u001b[1;33m(\u001b[0m\u001b[1;32mlambda\u001b[0m \u001b[1;33m:\u001b[0m \u001b[0mself\u001b[0m\u001b[1;33m.\u001b[0m\u001b[0m_buffer\u001b[0m\u001b[1;33m.\u001b[0m\u001b[0mwrite\u001b[0m\u001b[1;33m(\u001b[0m\u001b[0mstring\u001b[0m\u001b[1;33m)\u001b[0m\u001b[1;33m)\u001b[0m\u001b[1;33m\u001b[0m\u001b[1;33m\u001b[0m\u001b[0m\n\u001b[0m\u001b[0;32m    405\u001b[0m             \u001b[1;32mif\u001b[0m \u001b[0mis_child\u001b[0m\u001b[1;33m:\u001b[0m\u001b[1;33m\u001b[0m\u001b[1;33m\u001b[0m\u001b[0m\n\u001b[0;32m    406\u001b[0m                 \u001b[1;31m# mp.Pool cannot be trusted to flush promptly (or ever),\u001b[0m\u001b[1;33m\u001b[0m\u001b[1;33m\u001b[0m\u001b[1;33m\u001b[0m\u001b[0m\n",
      "\u001b[1;32mC:\\ProgramData\\Anaconda3\\lib\\site-packages\\ipykernel\\iostream.py\u001b[0m in \u001b[0;36mschedule\u001b[1;34m(self, f)\u001b[0m\n\u001b[0;32m    203\u001b[0m             \u001b[0mself\u001b[0m\u001b[1;33m.\u001b[0m\u001b[0m_events\u001b[0m\u001b[1;33m.\u001b[0m\u001b[0mappend\u001b[0m\u001b[1;33m(\u001b[0m\u001b[0mf\u001b[0m\u001b[1;33m)\u001b[0m\u001b[1;33m\u001b[0m\u001b[1;33m\u001b[0m\u001b[0m\n\u001b[0;32m    204\u001b[0m             \u001b[1;31m# wake event thread (message content is ignored)\u001b[0m\u001b[1;33m\u001b[0m\u001b[1;33m\u001b[0m\u001b[1;33m\u001b[0m\u001b[0m\n\u001b[1;32m--> 205\u001b[1;33m             \u001b[0mself\u001b[0m\u001b[1;33m.\u001b[0m\u001b[0m_event_pipe\u001b[0m\u001b[1;33m.\u001b[0m\u001b[0msend\u001b[0m\u001b[1;33m(\u001b[0m\u001b[1;34mb''\u001b[0m\u001b[1;33m)\u001b[0m\u001b[1;33m\u001b[0m\u001b[1;33m\u001b[0m\u001b[0m\n\u001b[0m\u001b[0;32m    206\u001b[0m         \u001b[1;32melse\u001b[0m\u001b[1;33m:\u001b[0m\u001b[1;33m\u001b[0m\u001b[1;33m\u001b[0m\u001b[0m\n\u001b[0;32m    207\u001b[0m             \u001b[0mf\u001b[0m\u001b[1;33m(\u001b[0m\u001b[1;33m)\u001b[0m\u001b[1;33m\u001b[0m\u001b[1;33m\u001b[0m\u001b[0m\n",
      "\u001b[1;32mC:\\ProgramData\\Anaconda3\\lib\\site-packages\\zmq\\sugar\\socket.py\u001b[0m in \u001b[0;36msend\u001b[1;34m(self, data, flags, copy, track, routing_id, group)\u001b[0m\n\u001b[0;32m    489\u001b[0m                                  copy_threshold=self.copy_threshold)\n\u001b[0;32m    490\u001b[0m             \u001b[0mdata\u001b[0m\u001b[1;33m.\u001b[0m\u001b[0mgroup\u001b[0m \u001b[1;33m=\u001b[0m \u001b[0mgroup\u001b[0m\u001b[1;33m\u001b[0m\u001b[1;33m\u001b[0m\u001b[0m\n\u001b[1;32m--> 491\u001b[1;33m         \u001b[1;32mreturn\u001b[0m \u001b[0msuper\u001b[0m\u001b[1;33m(\u001b[0m\u001b[0mSocket\u001b[0m\u001b[1;33m,\u001b[0m \u001b[0mself\u001b[0m\u001b[1;33m)\u001b[0m\u001b[1;33m.\u001b[0m\u001b[0msend\u001b[0m\u001b[1;33m(\u001b[0m\u001b[0mdata\u001b[0m\u001b[1;33m,\u001b[0m \u001b[0mflags\u001b[0m\u001b[1;33m=\u001b[0m\u001b[0mflags\u001b[0m\u001b[1;33m,\u001b[0m \u001b[0mcopy\u001b[0m\u001b[1;33m=\u001b[0m\u001b[0mcopy\u001b[0m\u001b[1;33m,\u001b[0m \u001b[0mtrack\u001b[0m\u001b[1;33m=\u001b[0m\u001b[0mtrack\u001b[0m\u001b[1;33m)\u001b[0m\u001b[1;33m\u001b[0m\u001b[1;33m\u001b[0m\u001b[0m\n\u001b[0m\u001b[0;32m    492\u001b[0m \u001b[1;33m\u001b[0m\u001b[0m\n\u001b[0;32m    493\u001b[0m     \u001b[1;32mdef\u001b[0m \u001b[0msend_multipart\u001b[0m\u001b[1;33m(\u001b[0m\u001b[0mself\u001b[0m\u001b[1;33m,\u001b[0m \u001b[0mmsg_parts\u001b[0m\u001b[1;33m,\u001b[0m \u001b[0mflags\u001b[0m\u001b[1;33m=\u001b[0m\u001b[1;36m0\u001b[0m\u001b[1;33m,\u001b[0m \u001b[0mcopy\u001b[0m\u001b[1;33m=\u001b[0m\u001b[1;32mTrue\u001b[0m\u001b[1;33m,\u001b[0m \u001b[0mtrack\u001b[0m\u001b[1;33m=\u001b[0m\u001b[1;32mFalse\u001b[0m\u001b[1;33m,\u001b[0m \u001b[1;33m**\u001b[0m\u001b[0mkwargs\u001b[0m\u001b[1;33m)\u001b[0m\u001b[1;33m:\u001b[0m\u001b[1;33m\u001b[0m\u001b[1;33m\u001b[0m\u001b[0m\n",
      "\u001b[1;32mzmq/backend/cython/socket.pyx\u001b[0m in \u001b[0;36mzmq.backend.cython.socket.Socket.send\u001b[1;34m()\u001b[0m\n",
      "\u001b[1;32mzmq/backend/cython/socket.pyx\u001b[0m in \u001b[0;36mzmq.backend.cython.socket.Socket.send\u001b[1;34m()\u001b[0m\n",
      "\u001b[1;32mzmq/backend/cython/socket.pyx\u001b[0m in \u001b[0;36mzmq.backend.cython.socket._send_copy\u001b[1;34m()\u001b[0m\n",
      "\u001b[1;32mC:\\ProgramData\\Anaconda3\\lib\\site-packages\\zmq\\backend\\cython\\checkrc.pxd\u001b[0m in \u001b[0;36mzmq.backend.cython.checkrc._check_rc\u001b[1;34m()\u001b[0m\n",
      "\u001b[1;31mKeyboardInterrupt\u001b[0m: "
     ]
    }
   ],
   "source": [
    "ann.fit(X_train, y_train, epochs=100)\n"
   ]
  },
  {
   "cell_type": "code",
   "execution_count": 118,
   "id": "347655bc",
   "metadata": {},
   "outputs": [],
   "source": [
    "y_pred = ann.predict(X_test)\n",
    "y_pred = np.round(y_pred)\n",
    "y_pred_train=ann.predict(X_train)\n",
    "y_pred_train=np.round(y_train)"
   ]
  },
  {
   "cell_type": "code",
   "execution_count": 120,
   "id": "cfb9ba3b",
   "metadata": {},
   "outputs": [
    {
     "name": "stdout",
     "output_type": "stream",
     "text": [
      "R squared via prediction on training set:  1.0\n"
     ]
    },
    {
     "ename": "TypeError",
     "evalue": "Singleton array 250 cannot be considered a valid collection.",
     "output_type": "error",
     "traceback": [
      "\u001b[1;31m---------------------------------------------------------------------------\u001b[0m",
      "\u001b[1;31mTypeError\u001b[0m                                 Traceback (most recent call last)",
      "\u001b[1;32m<ipython-input-120-68e992ea94c9>\u001b[0m in \u001b[0;36m<module>\u001b[1;34m\u001b[0m\n\u001b[0;32m      1\u001b[0m \u001b[0mprint\u001b[0m\u001b[1;33m(\u001b[0m\u001b[1;34m'R squared via prediction on training set: '\u001b[0m\u001b[1;33m,\u001b[0m \u001b[0maccuracy_score\u001b[0m\u001b[1;33m(\u001b[0m\u001b[0my_train\u001b[0m\u001b[1;33m,\u001b[0m \u001b[0my_pred_train\u001b[0m\u001b[1;33m)\u001b[0m\u001b[1;33m)\u001b[0m\u001b[1;33m\u001b[0m\u001b[1;33m\u001b[0m\u001b[0m\n\u001b[1;32m----> 2\u001b[1;33m \u001b[0mprint\u001b[0m\u001b[1;33m(\u001b[0m\u001b[1;34m'R squared via prediction on test set: '\u001b[0m\u001b[1;33m,\u001b[0m \u001b[0maccuracy_score\u001b[0m\u001b[1;33m(\u001b[0m\u001b[0my_test\u001b[0m\u001b[1;33m,\u001b[0m\u001b[0mnp\u001b[0m\u001b[1;33m.\u001b[0m\u001b[0margmax\u001b[0m\u001b[1;33m(\u001b[0m\u001b[0my_pred\u001b[0m\u001b[1;33m)\u001b[0m\u001b[1;33m)\u001b[0m\u001b[1;33m)\u001b[0m\u001b[1;33m\u001b[0m\u001b[1;33m\u001b[0m\u001b[0m\n\u001b[0m",
      "\u001b[1;32m~\\AppData\\Roaming\\Python\\Python38\\site-packages\\sklearn\\utils\\validation.py\u001b[0m in \u001b[0;36minner_f\u001b[1;34m(*args, **kwargs)\u001b[0m\n\u001b[0;32m     70\u001b[0m                           FutureWarning)\n\u001b[0;32m     71\u001b[0m         \u001b[0mkwargs\u001b[0m\u001b[1;33m.\u001b[0m\u001b[0mupdate\u001b[0m\u001b[1;33m(\u001b[0m\u001b[1;33m{\u001b[0m\u001b[0mk\u001b[0m\u001b[1;33m:\u001b[0m \u001b[0marg\u001b[0m \u001b[1;32mfor\u001b[0m \u001b[0mk\u001b[0m\u001b[1;33m,\u001b[0m \u001b[0marg\u001b[0m \u001b[1;32min\u001b[0m \u001b[0mzip\u001b[0m\u001b[1;33m(\u001b[0m\u001b[0msig\u001b[0m\u001b[1;33m.\u001b[0m\u001b[0mparameters\u001b[0m\u001b[1;33m,\u001b[0m \u001b[0margs\u001b[0m\u001b[1;33m)\u001b[0m\u001b[1;33m}\u001b[0m\u001b[1;33m)\u001b[0m\u001b[1;33m\u001b[0m\u001b[1;33m\u001b[0m\u001b[0m\n\u001b[1;32m---> 72\u001b[1;33m         \u001b[1;32mreturn\u001b[0m \u001b[0mf\u001b[0m\u001b[1;33m(\u001b[0m\u001b[1;33m**\u001b[0m\u001b[0mkwargs\u001b[0m\u001b[1;33m)\u001b[0m\u001b[1;33m\u001b[0m\u001b[1;33m\u001b[0m\u001b[0m\n\u001b[0m\u001b[0;32m     73\u001b[0m     \u001b[1;32mreturn\u001b[0m \u001b[0minner_f\u001b[0m\u001b[1;33m\u001b[0m\u001b[1;33m\u001b[0m\u001b[0m\n\u001b[0;32m     74\u001b[0m \u001b[1;33m\u001b[0m\u001b[0m\n",
      "\u001b[1;32m~\\AppData\\Roaming\\Python\\Python38\\site-packages\\sklearn\\metrics\\_classification.py\u001b[0m in \u001b[0;36maccuracy_score\u001b[1;34m(y_true, y_pred, normalize, sample_weight)\u001b[0m\n\u001b[0;32m    185\u001b[0m \u001b[1;33m\u001b[0m\u001b[0m\n\u001b[0;32m    186\u001b[0m     \u001b[1;31m# Compute accuracy for each possible representation\u001b[0m\u001b[1;33m\u001b[0m\u001b[1;33m\u001b[0m\u001b[1;33m\u001b[0m\u001b[0m\n\u001b[1;32m--> 187\u001b[1;33m     \u001b[0my_type\u001b[0m\u001b[1;33m,\u001b[0m \u001b[0my_true\u001b[0m\u001b[1;33m,\u001b[0m \u001b[0my_pred\u001b[0m \u001b[1;33m=\u001b[0m \u001b[0m_check_targets\u001b[0m\u001b[1;33m(\u001b[0m\u001b[0my_true\u001b[0m\u001b[1;33m,\u001b[0m \u001b[0my_pred\u001b[0m\u001b[1;33m)\u001b[0m\u001b[1;33m\u001b[0m\u001b[1;33m\u001b[0m\u001b[0m\n\u001b[0m\u001b[0;32m    188\u001b[0m     \u001b[0mcheck_consistent_length\u001b[0m\u001b[1;33m(\u001b[0m\u001b[0my_true\u001b[0m\u001b[1;33m,\u001b[0m \u001b[0my_pred\u001b[0m\u001b[1;33m,\u001b[0m \u001b[0msample_weight\u001b[0m\u001b[1;33m)\u001b[0m\u001b[1;33m\u001b[0m\u001b[1;33m\u001b[0m\u001b[0m\n\u001b[0;32m    189\u001b[0m     \u001b[1;32mif\u001b[0m \u001b[0my_type\u001b[0m\u001b[1;33m.\u001b[0m\u001b[0mstartswith\u001b[0m\u001b[1;33m(\u001b[0m\u001b[1;34m'multilabel'\u001b[0m\u001b[1;33m)\u001b[0m\u001b[1;33m:\u001b[0m\u001b[1;33m\u001b[0m\u001b[1;33m\u001b[0m\u001b[0m\n",
      "\u001b[1;32m~\\AppData\\Roaming\\Python\\Python38\\site-packages\\sklearn\\metrics\\_classification.py\u001b[0m in \u001b[0;36m_check_targets\u001b[1;34m(y_true, y_pred)\u001b[0m\n\u001b[0;32m     79\u001b[0m     \u001b[0my_pred\u001b[0m \u001b[1;33m:\u001b[0m \u001b[0marray\u001b[0m \u001b[1;32mor\u001b[0m \u001b[0mindicator\u001b[0m \u001b[0mmatrix\u001b[0m\u001b[1;33m\u001b[0m\u001b[1;33m\u001b[0m\u001b[0m\n\u001b[0;32m     80\u001b[0m     \"\"\"\n\u001b[1;32m---> 81\u001b[1;33m     \u001b[0mcheck_consistent_length\u001b[0m\u001b[1;33m(\u001b[0m\u001b[0my_true\u001b[0m\u001b[1;33m,\u001b[0m \u001b[0my_pred\u001b[0m\u001b[1;33m)\u001b[0m\u001b[1;33m\u001b[0m\u001b[1;33m\u001b[0m\u001b[0m\n\u001b[0m\u001b[0;32m     82\u001b[0m     \u001b[0mtype_true\u001b[0m \u001b[1;33m=\u001b[0m \u001b[0mtype_of_target\u001b[0m\u001b[1;33m(\u001b[0m\u001b[0my_true\u001b[0m\u001b[1;33m)\u001b[0m\u001b[1;33m\u001b[0m\u001b[1;33m\u001b[0m\u001b[0m\n\u001b[0;32m     83\u001b[0m     \u001b[0mtype_pred\u001b[0m \u001b[1;33m=\u001b[0m \u001b[0mtype_of_target\u001b[0m\u001b[1;33m(\u001b[0m\u001b[0my_pred\u001b[0m\u001b[1;33m)\u001b[0m\u001b[1;33m\u001b[0m\u001b[1;33m\u001b[0m\u001b[0m\n",
      "\u001b[1;32m~\\AppData\\Roaming\\Python\\Python38\\site-packages\\sklearn\\utils\\validation.py\u001b[0m in \u001b[0;36mcheck_consistent_length\u001b[1;34m(*arrays)\u001b[0m\n\u001b[0;32m    250\u001b[0m     \"\"\"\n\u001b[0;32m    251\u001b[0m \u001b[1;33m\u001b[0m\u001b[0m\n\u001b[1;32m--> 252\u001b[1;33m     \u001b[0mlengths\u001b[0m \u001b[1;33m=\u001b[0m \u001b[1;33m[\u001b[0m\u001b[0m_num_samples\u001b[0m\u001b[1;33m(\u001b[0m\u001b[0mX\u001b[0m\u001b[1;33m)\u001b[0m \u001b[1;32mfor\u001b[0m \u001b[0mX\u001b[0m \u001b[1;32min\u001b[0m \u001b[0marrays\u001b[0m \u001b[1;32mif\u001b[0m \u001b[0mX\u001b[0m \u001b[1;32mis\u001b[0m \u001b[1;32mnot\u001b[0m \u001b[1;32mNone\u001b[0m\u001b[1;33m]\u001b[0m\u001b[1;33m\u001b[0m\u001b[1;33m\u001b[0m\u001b[0m\n\u001b[0m\u001b[0;32m    253\u001b[0m     \u001b[0muniques\u001b[0m \u001b[1;33m=\u001b[0m \u001b[0mnp\u001b[0m\u001b[1;33m.\u001b[0m\u001b[0munique\u001b[0m\u001b[1;33m(\u001b[0m\u001b[0mlengths\u001b[0m\u001b[1;33m)\u001b[0m\u001b[1;33m\u001b[0m\u001b[1;33m\u001b[0m\u001b[0m\n\u001b[0;32m    254\u001b[0m     \u001b[1;32mif\u001b[0m \u001b[0mlen\u001b[0m\u001b[1;33m(\u001b[0m\u001b[0muniques\u001b[0m\u001b[1;33m)\u001b[0m \u001b[1;33m>\u001b[0m \u001b[1;36m1\u001b[0m\u001b[1;33m:\u001b[0m\u001b[1;33m\u001b[0m\u001b[1;33m\u001b[0m\u001b[0m\n",
      "\u001b[1;32m~\\AppData\\Roaming\\Python\\Python38\\site-packages\\sklearn\\utils\\validation.py\u001b[0m in \u001b[0;36m<listcomp>\u001b[1;34m(.0)\u001b[0m\n\u001b[0;32m    250\u001b[0m     \"\"\"\n\u001b[0;32m    251\u001b[0m \u001b[1;33m\u001b[0m\u001b[0m\n\u001b[1;32m--> 252\u001b[1;33m     \u001b[0mlengths\u001b[0m \u001b[1;33m=\u001b[0m \u001b[1;33m[\u001b[0m\u001b[0m_num_samples\u001b[0m\u001b[1;33m(\u001b[0m\u001b[0mX\u001b[0m\u001b[1;33m)\u001b[0m \u001b[1;32mfor\u001b[0m \u001b[0mX\u001b[0m \u001b[1;32min\u001b[0m \u001b[0marrays\u001b[0m \u001b[1;32mif\u001b[0m \u001b[0mX\u001b[0m \u001b[1;32mis\u001b[0m \u001b[1;32mnot\u001b[0m \u001b[1;32mNone\u001b[0m\u001b[1;33m]\u001b[0m\u001b[1;33m\u001b[0m\u001b[1;33m\u001b[0m\u001b[0m\n\u001b[0m\u001b[0;32m    253\u001b[0m     \u001b[0muniques\u001b[0m \u001b[1;33m=\u001b[0m \u001b[0mnp\u001b[0m\u001b[1;33m.\u001b[0m\u001b[0munique\u001b[0m\u001b[1;33m(\u001b[0m\u001b[0mlengths\u001b[0m\u001b[1;33m)\u001b[0m\u001b[1;33m\u001b[0m\u001b[1;33m\u001b[0m\u001b[0m\n\u001b[0;32m    254\u001b[0m     \u001b[1;32mif\u001b[0m \u001b[0mlen\u001b[0m\u001b[1;33m(\u001b[0m\u001b[0muniques\u001b[0m\u001b[1;33m)\u001b[0m \u001b[1;33m>\u001b[0m \u001b[1;36m1\u001b[0m\u001b[1;33m:\u001b[0m\u001b[1;33m\u001b[0m\u001b[1;33m\u001b[0m\u001b[0m\n",
      "\u001b[1;32m~\\AppData\\Roaming\\Python\\Python38\\site-packages\\sklearn\\utils\\validation.py\u001b[0m in \u001b[0;36m_num_samples\u001b[1;34m(x)\u001b[0m\n\u001b[0;32m    193\u001b[0m     \u001b[1;32mif\u001b[0m \u001b[0mhasattr\u001b[0m\u001b[1;33m(\u001b[0m\u001b[0mx\u001b[0m\u001b[1;33m,\u001b[0m \u001b[1;34m'shape'\u001b[0m\u001b[1;33m)\u001b[0m \u001b[1;32mand\u001b[0m \u001b[0mx\u001b[0m\u001b[1;33m.\u001b[0m\u001b[0mshape\u001b[0m \u001b[1;32mis\u001b[0m \u001b[1;32mnot\u001b[0m \u001b[1;32mNone\u001b[0m\u001b[1;33m:\u001b[0m\u001b[1;33m\u001b[0m\u001b[1;33m\u001b[0m\u001b[0m\n\u001b[0;32m    194\u001b[0m         \u001b[1;32mif\u001b[0m \u001b[0mlen\u001b[0m\u001b[1;33m(\u001b[0m\u001b[0mx\u001b[0m\u001b[1;33m.\u001b[0m\u001b[0mshape\u001b[0m\u001b[1;33m)\u001b[0m \u001b[1;33m==\u001b[0m \u001b[1;36m0\u001b[0m\u001b[1;33m:\u001b[0m\u001b[1;33m\u001b[0m\u001b[1;33m\u001b[0m\u001b[0m\n\u001b[1;32m--> 195\u001b[1;33m             raise TypeError(\"Singleton array %r cannot be considered\"\n\u001b[0m\u001b[0;32m    196\u001b[0m                             \" a valid collection.\" % x)\n\u001b[0;32m    197\u001b[0m         \u001b[1;31m# Check that shape is returning an integer or default to len\u001b[0m\u001b[1;33m\u001b[0m\u001b[1;33m\u001b[0m\u001b[1;33m\u001b[0m\u001b[0m\n",
      "\u001b[1;31mTypeError\u001b[0m: Singleton array 250 cannot be considered a valid collection."
     ]
    }
   ],
   "source": [
    "print('R squared via prediction on training set: ', accuracy_score(y_train, y_pred_train))\n",
    "print('R squared via prediction on test set: ', accuracy_score(y_test,np.argmax(y_pred)))"
   ]
  },
  {
   "cell_type": "code",
   "execution_count": 129,
   "id": "986ecdd3",
   "metadata": {},
   "outputs": [],
   "source": [
    "y_pred = ann.predict(X_test)\n",
    "\n"
   ]
  },
  {
   "cell_type": "code",
   "execution_count": 133,
   "id": "979352aa",
   "metadata": {},
   "outputs": [
    {
     "data": {
      "text/plain": [
       "5.0"
      ]
     },
     "execution_count": 133,
     "metadata": {},
     "output_type": "execute_result"
    }
   ],
   "source": [
    "y_test[0]"
   ]
  },
  {
   "cell_type": "code",
   "execution_count": 132,
   "id": "8fa6cef2",
   "metadata": {},
   "outputs": [
    {
     "data": {
      "text/plain": [
       "array([4.582387 , 4.5346417, 4.5981855, 4.545918 , 4.5311975, 4.509545 ,\n",
       "       4.554289 , 4.5583715, 4.572542 , 4.575747 , 4.527005 , 4.5620933,\n",
       "       4.5639925, 4.5770106, 4.558955 , 4.5381594, 4.5352135, 4.531415 ,\n",
       "       4.554719 , 4.5067735, 4.546607 , 4.557655 , 4.560762 , 0.       ,\n",
       "       4.5255947], dtype=float32)"
      ]
     },
     "execution_count": 132,
     "metadata": {},
     "output_type": "execute_result"
    }
   ],
   "source": [
    "y_pred[0]"
   ]
  }
 ],
 "metadata": {
  "kernelspec": {
   "display_name": "Python 3",
   "language": "python",
   "name": "python3"
  },
  "language_info": {
   "codemirror_mode": {
    "name": "ipython",
    "version": 3
   },
   "file_extension": ".py",
   "mimetype": "text/x-python",
   "name": "python",
   "nbconvert_exporter": "python",
   "pygments_lexer": "ipython3",
   "version": "3.8.8"
  },
  "toc": {
   "base_numbering": 1,
   "nav_menu": {},
   "number_sections": true,
   "sideBar": true,
   "skip_h1_title": false,
   "title_cell": "Table of Contents",
   "title_sidebar": "Contents",
   "toc_cell": false,
   "toc_position": {},
   "toc_section_display": true,
   "toc_window_display": false
  },
  "varInspector": {
   "cols": {
    "lenName": 16,
    "lenType": 16,
    "lenVar": 40
   },
   "kernels_config": {
    "python": {
     "delete_cmd_postfix": "",
     "delete_cmd_prefix": "del ",
     "library": "var_list.py",
     "varRefreshCmd": "print(var_dic_list())"
    },
    "r": {
     "delete_cmd_postfix": ") ",
     "delete_cmd_prefix": "rm(",
     "library": "var_list.r",
     "varRefreshCmd": "cat(var_dic_list()) "
    }
   },
   "types_to_exclude": [
    "module",
    "function",
    "builtin_function_or_method",
    "instance",
    "_Feature"
   ],
   "window_display": false
  }
 },
 "nbformat": 4,
 "nbformat_minor": 5
}
