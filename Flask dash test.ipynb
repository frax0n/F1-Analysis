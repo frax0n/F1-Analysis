{
 "cells": [
  {
   "cell_type": "code",
   "execution_count": 37,
   "id": "4e3f33f5",
   "metadata": {},
   "outputs": [],
   "source": [
    "import dash\n",
    "import dash_bootstrap_components as dbc\n",
    "import dash_html_components as html\n",
    "import dash_core_components as doc\n",
    "import plotly.express as px\n",
    "from dash.dependencies import Input,Output\n",
    "import pandas as pd     #(version 1.0.0)\n",
    "import plotly           #(version 4.5.0)\n",
    "import plotly.express as px\n",
    "import numpy as numpy\n",
    "import jupyter_dash             #(version 1.8.0)\n",
    "import dash_core_components as dcc\n",
    "import dash_html_components as html\n",
    "from dash.dependencies import Input, Output, State"
   ]
  },
  {
   "cell_type": "code",
   "execution_count": 3,
   "id": "84cb15de",
   "metadata": {
    "deletable": false,
    "editable": false,
    "run_control": {
     "frozen": true
    }
   },
   "outputs": [
    {
     "name": "stdout",
     "output_type": "stream",
     "text": [
      "Requirement already satisfied: dash in c:\\programdata\\anaconda3\\lib\\site-packages (1.21.0)\n",
      "Requirement already satisfied: dash-core-components==1.17.1 in c:\\programdata\\anaconda3\\lib\\site-packages (from dash) (1.17.1)\n",
      "Requirement already satisfied: future in c:\\programdata\\anaconda3\\lib\\site-packages (from dash) (0.18.2)\n",
      "Requirement already satisfied: dash-table==4.12.0 in c:\\programdata\\anaconda3\\lib\\site-packages (from dash) (4.12.0)\n",
      "Requirement already satisfied: flask-compress in c:\\programdata\\anaconda3\\lib\\site-packages (from dash) (1.10.1)\n",
      "Requirement already satisfied: plotly in c:\\programdata\\anaconda3\\lib\\site-packages (from dash) (5.1.0)\n",
      "Requirement already satisfied: dash-html-components==1.1.4 in c:\\programdata\\anaconda3\\lib\\site-packages (from dash) (1.1.4)\n",
      "Requirement already satisfied: Flask>=1.0.4 in c:\\programdata\\anaconda3\\lib\\site-packages (from dash) (1.1.2)\n",
      "Requirement already satisfied: itsdangerous>=0.24 in c:\\programdata\\anaconda3\\lib\\site-packages (from Flask>=1.0.4->dash) (1.1.0)\n",
      "Requirement already satisfied: Werkzeug>=0.15 in c:\\programdata\\anaconda3\\lib\\site-packages (from Flask>=1.0.4->dash) (1.0.1)\n",
      "Requirement already satisfied: Jinja2>=2.10.1 in c:\\programdata\\anaconda3\\lib\\site-packages (from Flask>=1.0.4->dash) (2.11.3)\n",
      "Requirement already satisfied: click>=5.1 in c:\\programdata\\anaconda3\\lib\\site-packages (from Flask>=1.0.4->dash) (7.1.2)\n",
      "Requirement already satisfied: MarkupSafe>=0.23 in c:\\programdata\\anaconda3\\lib\\site-packages (from Jinja2>=2.10.1->Flask>=1.0.4->dash) (1.1.1)\n",
      "Requirement already satisfied: brotli in c:\\programdata\\anaconda3\\lib\\site-packages (from flask-compress->dash) (1.0.9)\n",
      "Requirement already satisfied: tenacity>=6.2.0 in c:\\programdata\\anaconda3\\lib\\site-packages (from plotly->dash) (7.0.0)\n",
      "Requirement already satisfied: six in c:\\programdata\\anaconda3\\lib\\site-packages (from plotly->dash) (1.15.0)\n",
      "Requirement already satisfied: dash-bootstrap-components in c:\\programdata\\anaconda3\\lib\\site-packages (0.13.0)\n",
      "Requirement already satisfied: dash>=1.9.0 in c:\\programdata\\anaconda3\\lib\\site-packages (from dash-bootstrap-components) (1.21.0)\n",
      "Requirement already satisfied: Flask>=1.0.4 in c:\\programdata\\anaconda3\\lib\\site-packages (from dash>=1.9.0->dash-bootstrap-components) (1.1.2)\n",
      "Requirement already satisfied: dash-table==4.12.0 in c:\\programdata\\anaconda3\\lib\\site-packages (from dash>=1.9.0->dash-bootstrap-components) (4.12.0)\n",
      "Requirement already satisfied: dash-html-components==1.1.4 in c:\\programdata\\anaconda3\\lib\\site-packages (from dash>=1.9.0->dash-bootstrap-components) (1.1.4)\n",
      "Requirement already satisfied: future in c:\\programdata\\anaconda3\\lib\\site-packages (from dash>=1.9.0->dash-bootstrap-components) (0.18.2)\n",
      "Requirement already satisfied: dash-core-components==1.17.1 in c:\\programdata\\anaconda3\\lib\\site-packages (from dash>=1.9.0->dash-bootstrap-components) (1.17.1)\n",
      "Requirement already satisfied: flask-compress in c:\\programdata\\anaconda3\\lib\\site-packages (from dash>=1.9.0->dash-bootstrap-components) (1.10.1)\n",
      "Requirement already satisfied: plotly in c:\\programdata\\anaconda3\\lib\\site-packages (from dash>=1.9.0->dash-bootstrap-components) (5.1.0)\n",
      "Requirement already satisfied: itsdangerous>=0.24 in c:\\programdata\\anaconda3\\lib\\site-packages (from Flask>=1.0.4->dash>=1.9.0->dash-bootstrap-components) (1.1.0)\n",
      "Requirement already satisfied: Jinja2>=2.10.1 in c:\\programdata\\anaconda3\\lib\\site-packages (from Flask>=1.0.4->dash>=1.9.0->dash-bootstrap-components) (2.11.3)\n",
      "Requirement already satisfied: click>=5.1 in c:\\programdata\\anaconda3\\lib\\site-packages (from Flask>=1.0.4->dash>=1.9.0->dash-bootstrap-components) (7.1.2)\n",
      "Requirement already satisfied: Werkzeug>=0.15 in c:\\programdata\\anaconda3\\lib\\site-packages (from Flask>=1.0.4->dash>=1.9.0->dash-bootstrap-components) (1.0.1)\n",
      "Requirement already satisfied: MarkupSafe>=0.23 in c:\\programdata\\anaconda3\\lib\\site-packages (from Jinja2>=2.10.1->Flask>=1.0.4->dash>=1.9.0->dash-bootstrap-components) (1.1.1)\n",
      "Requirement already satisfied: brotli in c:\\programdata\\anaconda3\\lib\\site-packages (from flask-compress->dash>=1.9.0->dash-bootstrap-components) (1.0.9)\n",
      "Requirement already satisfied: tenacity>=6.2.0 in c:\\programdata\\anaconda3\\lib\\site-packages (from plotly->dash>=1.9.0->dash-bootstrap-components) (7.0.0)\n",
      "Requirement already satisfied: six in c:\\programdata\\anaconda3\\lib\\site-packages (from plotly->dash>=1.9.0->dash-bootstrap-components) (1.15.0)\n",
      "Requirement already satisfied: plotly in c:\\programdata\\anaconda3\\lib\\site-packages (5.1.0)\n",
      "Requirement already satisfied: tenacity>=6.2.0 in c:\\programdata\\anaconda3\\lib\\site-packages (from plotly) (7.0.0)\n",
      "Requirement already satisfied: six in c:\\programdata\\anaconda3\\lib\\site-packages (from plotly) (1.15.0)\n",
      "Requirement already satisfied: jupyter-dash in c:\\programdata\\anaconda3\\lib\\site-packages (0.4.0)\n",
      "Requirement already satisfied: requests in c:\\programdata\\anaconda3\\lib\\site-packages (from jupyter-dash) (2.25.1)\n",
      "Requirement already satisfied: dash in c:\\programdata\\anaconda3\\lib\\site-packages (from jupyter-dash) (1.21.0)\n",
      "Requirement already satisfied: flask in c:\\programdata\\anaconda3\\lib\\site-packages (from jupyter-dash) (1.1.2)\n",
      "Requirement already satisfied: retrying in c:\\programdata\\anaconda3\\lib\\site-packages (from jupyter-dash) (1.3.3)\n",
      "Requirement already satisfied: ipython in c:\\programdata\\anaconda3\\lib\\site-packages (from jupyter-dash) (7.22.0)\n",
      "Requirement already satisfied: ansi2html in c:\\programdata\\anaconda3\\lib\\site-packages (from jupyter-dash) (1.6.0)\n",
      "Requirement already satisfied: ipykernel in c:\\programdata\\anaconda3\\lib\\site-packages (from jupyter-dash) (5.3.4)\n",
      "Requirement already satisfied: dash-core-components==1.17.1 in c:\\programdata\\anaconda3\\lib\\site-packages (from dash->jupyter-dash) (1.17.1)\n",
      "Requirement already satisfied: flask-compress in c:\\programdata\\anaconda3\\lib\\site-packages (from dash->jupyter-dash) (1.10.1)\n",
      "Requirement already satisfied: future in c:\\programdata\\anaconda3\\lib\\site-packages (from dash->jupyter-dash) (0.18.2)\n",
      "Requirement already satisfied: dash-html-components==1.1.4 in c:\\programdata\\anaconda3\\lib\\site-packages (from dash->jupyter-dash) (1.1.4)\n",
      "Requirement already satisfied: dash-table==4.12.0 in c:\\programdata\\anaconda3\\lib\\site-packages (from dash->jupyter-dash) (4.12.0)\n",
      "Requirement already satisfied: plotly in c:\\programdata\\anaconda3\\lib\\site-packages (from dash->jupyter-dash) (5.1.0)\n",
      "Requirement already satisfied: click>=5.1 in c:\\programdata\\anaconda3\\lib\\site-packages (from flask->jupyter-dash) (7.1.2)\n",
      "Requirement already satisfied: itsdangerous>=0.24 in c:\\programdata\\anaconda3\\lib\\site-packages (from flask->jupyter-dash) (1.1.0)\n",
      "Requirement already satisfied: Jinja2>=2.10.1 in c:\\programdata\\anaconda3\\lib\\site-packages (from flask->jupyter-dash) (2.11.3)\n",
      "Requirement already satisfied: Werkzeug>=0.15 in c:\\programdata\\anaconda3\\lib\\site-packages (from flask->jupyter-dash) (1.0.1)\n",
      "Requirement already satisfied: MarkupSafe>=0.23 in c:\\programdata\\anaconda3\\lib\\site-packages (from Jinja2>=2.10.1->flask->jupyter-dash) (1.1.1)\n",
      "Requirement already satisfied: brotli in c:\\programdata\\anaconda3\\lib\\site-packages (from flask-compress->dash->jupyter-dash) (1.0.9)\n",
      "Requirement already satisfied: traitlets>=4.1.0 in c:\\programdata\\anaconda3\\lib\\site-packages (from ipykernel->jupyter-dash) (5.0.5)\n",
      "Requirement already satisfied: tornado>=4.2 in c:\\programdata\\anaconda3\\lib\\site-packages (from ipykernel->jupyter-dash) (6.1)\n",
      "Requirement already satisfied: jupyter-client in c:\\programdata\\anaconda3\\lib\\site-packages (from ipykernel->jupyter-dash) (6.1.12)\n",
      "Requirement already satisfied: decorator in c:\\programdata\\anaconda3\\lib\\site-packages (from ipython->jupyter-dash) (5.0.6)\n",
      "Requirement already satisfied: pygments in c:\\programdata\\anaconda3\\lib\\site-packages (from ipython->jupyter-dash) (2.8.1)\n",
      "Requirement already satisfied: setuptools>=18.5 in c:\\programdata\\anaconda3\\lib\\site-packages (from ipython->jupyter-dash) (52.0.0.post20210125)\n",
      "Requirement already satisfied: prompt-toolkit!=3.0.0,!=3.0.1,<3.1.0,>=2.0.0 in c:\\programdata\\anaconda3\\lib\\site-packages (from ipython->jupyter-dash) (3.0.17)\n",
      "Requirement already satisfied: jedi>=0.16 in c:\\programdata\\anaconda3\\lib\\site-packages (from ipython->jupyter-dash) (0.17.2)\n",
      "Requirement already satisfied: colorama in c:\\programdata\\anaconda3\\lib\\site-packages (from ipython->jupyter-dash) (0.4.4)\n",
      "Requirement already satisfied: backcall in c:\\programdata\\anaconda3\\lib\\site-packages (from ipython->jupyter-dash) (0.2.0)\n",
      "Requirement already satisfied: pickleshare in c:\\programdata\\anaconda3\\lib\\site-packages (from ipython->jupyter-dash) (0.7.5)\n",
      "Requirement already satisfied: parso<0.8.0,>=0.7.0 in c:\\programdata\\anaconda3\\lib\\site-packages (from jedi>=0.16->ipython->jupyter-dash) (0.7.0)\n",
      "Requirement already satisfied: wcwidth in c:\\programdata\\anaconda3\\lib\\site-packages (from prompt-toolkit!=3.0.0,!=3.0.1,<3.1.0,>=2.0.0->ipython->jupyter-dash) (0.2.5)\n",
      "Requirement already satisfied: ipython-genutils in c:\\programdata\\anaconda3\\lib\\site-packages (from traitlets>=4.1.0->ipykernel->jupyter-dash) (0.2.0)\n",
      "Requirement already satisfied: jupyter-core>=4.6.0 in c:\\programdata\\anaconda3\\lib\\site-packages (from jupyter-client->ipykernel->jupyter-dash) (4.7.1)\n",
      "Requirement already satisfied: pyzmq>=13 in c:\\programdata\\anaconda3\\lib\\site-packages (from jupyter-client->ipykernel->jupyter-dash) (20.0.0)\n",
      "Requirement already satisfied: python-dateutil>=2.1 in c:\\programdata\\anaconda3\\lib\\site-packages (from jupyter-client->ipykernel->jupyter-dash) (2.8.1)\n",
      "Requirement already satisfied: pywin32>=1.0 in c:\\programdata\\anaconda3\\lib\\site-packages (from jupyter-core>=4.6.0->jupyter-client->ipykernel->jupyter-dash) (227)\n",
      "Requirement already satisfied: six>=1.5 in c:\\programdata\\anaconda3\\lib\\site-packages (from python-dateutil>=2.1->jupyter-client->ipykernel->jupyter-dash) (1.15.0)\n",
      "Requirement already satisfied: tenacity>=6.2.0 in c:\\programdata\\anaconda3\\lib\\site-packages (from plotly->dash->jupyter-dash) (7.0.0)\n",
      "Requirement already satisfied: chardet<5,>=3.0.2 in c:\\programdata\\anaconda3\\lib\\site-packages (from requests->jupyter-dash) (4.0.0)\n",
      "Requirement already satisfied: certifi>=2017.4.17 in c:\\programdata\\anaconda3\\lib\\site-packages (from requests->jupyter-dash) (2020.12.5)\n",
      "Requirement already satisfied: idna<3,>=2.5 in c:\\programdata\\anaconda3\\lib\\site-packages (from requests->jupyter-dash) (2.10)\n",
      "Requirement already satisfied: urllib3<1.27,>=1.21.1 in c:\\programdata\\anaconda3\\lib\\site-packages (from requests->jupyter-dash) (1.26.4)\n"
     ]
    }
   ],
   "source": [
    "!pip install dash\n",
    "!pip install dash-bootstrap-components\n",
    "!pip install plotly\n",
    "!pip install jupyter-dash"
   ]
  },
  {
   "cell_type": "code",
   "execution_count": 38,
   "id": "43644678",
   "metadata": {},
   "outputs": [],
   "source": [
    "circuits=pd.read_csv('datasets/circuits.csv')\n",
    "constructor_results=pd.read_csv('datasets/constructor_results.csv')\n",
    "constructor_standings=pd.read_csv('datasets/constructor_standings.csv')\n",
    "constructors=pd.read_csv('datasets/constructors.csv')\n",
    "driver_standings=pd.read_csv('datasets/driver_standings.csv')\n",
    "drivers=pd.read_csv('datasets/drivers.csv')\n",
    "lap_times=pd.read_csv('datasets/lap_times.csv')\n",
    "pit_stops=pd.read_csv('datasets/pit_stops.csv')\n",
    "qualifying=pd.read_csv('datasets/qualifying.csv')\n",
    "races=pd.read_csv('datasets/races.csv')\n",
    "results=pd.read_csv('datasets/results.csv')\n",
    "seasons=pd.read_csv('datasets/seasons.csv')\n",
    "status=pd.read_csv('datasets/status.csv')"
   ]
  },
  {
   "cell_type": "code",
   "execution_count": 39,
   "id": "38bb1d27",
   "metadata": {},
   "outputs": [],
   "source": [
    "turbohybrid=races.loc[races['year']>=2014]\n",
    "turbohybrid=turbohybrid.merge(results,left_on='raceId',right_on='raceId')\n",
    "turbohybrid=turbohybrid.merge(drivers,left_on='driverId',right_on='driverId')\n",
    "turbohybrid=turbohybrid.merge(constructors,left_on='constructorId',right_on='constructorId')"
   ]
  },
  {
   "cell_type": "code",
   "execution_count": 40,
   "id": "577e6d31",
   "metadata": {},
   "outputs": [],
   "source": [
    "turbohybridwinner=turbohybrid.loc[turbohybrid['position']=='1']\n",
    "turbohybridwinner=turbohybridwinner.sort_values(by='raceId')\n",
    "turbohybridwinner.drop(columns=['date', 'time_x',\n",
    "       'url_x','number_x','url_y','url'],inplace=True)"
   ]
  },
  {
   "cell_type": "code",
   "execution_count": 41,
   "id": "94035986",
   "metadata": {},
   "outputs": [],
   "source": [
    "racelaptimes=races.merge(lap_times,left_on='raceId',right_on='raceId')\n",
    "racelaptimes=racelaptimes.loc[racelaptimes['year']>=2014]\n",
    "racelaptimes=racelaptimes.merge(drivers,left_on='driverId',right_on='driverId')"
   ]
  },
  {
   "cell_type": "code",
   "execution_count": null,
   "id": "03068e88",
   "metadata": {},
   "outputs": [],
   "source": []
  },
  {
   "cell_type": "code",
   "execution_count": 75,
   "id": "1a824f81",
   "metadata": {
    "scrolled": false
   },
   "outputs": [
    {
     "data": {
      "text/html": [
       "\n",
       "        <iframe\n",
       "            width=\"100%\"\n",
       "            height=\"650\"\n",
       "            src=\"http://127.0.0.1:8089/\"\n",
       "            frameborder=\"0\"\n",
       "            allowfullscreen\n",
       "        ></iframe>\n",
       "        "
      ],
      "text/plain": [
       "<IPython.lib.display.IFrame at 0x228e9969eb0>"
      ]
     },
     "metadata": {},
     "output_type": "display_data"
    }
   ],
   "source": [
    "import pandas as pd     #(version 1.0.0)\n",
    "import plotly           #(version 4.5.0)\n",
    "import plotly.express as px\n",
    "import dash_bootstrap_components as dbc\n",
    "import jupyter_dash             #(version 1.8.0)\n",
    "import dash_core_components as dcc\n",
    "import dash_html_components as html\n",
    "from dash.dependencies import Input, Output, State\n",
    "df=racelaptimes\n",
    "card_main =  dbc.Card([\n",
    "    html.Div([\n",
    "    html.Div([\n",
    "        dcc.Graph(id='our_graph')\n",
    "    ],className='something'),\n",
    "\n",
    "    html.Div([\n",
    "\n",
    "        html.Br(),\n",
    "        html.Label(['Choose year and grandprix:'],style={'font-weight': 'bold', \"text-align\": \"center\"}),\n",
    "        dcc.Dropdown(id='year_one',\n",
    "            options=[{'label':x, 'value':x} for x in df.sort_values('year')['year'].unique()],\n",
    "            value=2014,\n",
    "            multi=False,\n",
    "            disabled=False,\n",
    "            clearable=True,\n",
    "            searchable=True,\n",
    "            placeholder='Choose year...',\n",
    "            className='form-dropdown',\n",
    "            style={'width':\"90%\"},\n",
    "            persistence='string',\n",
    "            persistence_type='memory'),\n",
    "               \n",
    "        dcc.Dropdown(id='gp name',\n",
    "            options=[{'label':x, 'value':x} for x in df.sort_values('name')['name'].unique()],\n",
    "            value='Australian Grand Prix',\n",
    "            multi=False,\n",
    "            disabled=False,\n",
    "            clearable=True,\n",
    "            searchable=True,\n",
    "            placeholder='Choose gp name...',\n",
    "            className='form-dropdown',\n",
    "            style={'width':\"90%\"},\n",
    "            persistence='string',\n",
    "            persistence_type='memory'),        \n",
    "    ],className='two columns'),\n",
    "\n",
    "])],color=\"dark\",   # https://bootswatch.com/default/ for more card colors\n",
    "    inverse=True,   # change color of text (black or white)\n",
    "    outline=False, )\n",
    "\n",
    "app = jupyter_dash.JupyterDash(__name__, external_stylesheets=[dbc.themes.BOOTSTRAP])\n",
    "app.layout = html.Div([\n",
    "    dbc.Row([dbc.Col(card_main, width=9)\n",
    "            ], justify=\"around\")\n",
    "])\n",
    "@app.callback(\n",
    "    Output('our_graph','figure'),    \n",
    "    [Input('year_one','value'),\n",
    "    Input('gp name','value'),]\n",
    ")\n",
    "\n",
    "def build_graph(first_year,name):\n",
    "    dff=df.loc[(df['year']==first_year)&(df['name']==name)]\n",
    "    dff=dff.loc[dff['milliseconds']<200000]    \n",
    "    fig=px.scatter(dff,x='lap',y='milliseconds',color='surname')\n",
    "    fig.update_layout()\n",
    "    return fig\n",
    "\n",
    "#---------------------------------------------------------------\n",
    "\n",
    "if __name__ == '__main__':\n",
    "    app.run_server(mode='inline', port = 8089, threaded=True)"
   ]
  },
  {
   "cell_type": "code",
   "execution_count": 55,
   "id": "faf8474a",
   "metadata": {},
   "outputs": [
    {
     "ename": "SystemExit",
     "evalue": "1",
     "output_type": "error",
     "traceback": [
      "An exception has occurred, use %tb to see the full traceback.\n",
      "\u001b[1;31mSystemExit\u001b[0m\u001b[1;31m:\u001b[0m 1\n"
     ]
    },
    {
     "name": "stderr",
     "output_type": "stream",
     "text": [
      "C:\\ProgramData\\Anaconda3\\lib\\site-packages\\IPython\\core\\interactiveshell.py:3445: UserWarning:\n",
      "\n",
      "To exit: use 'exit', 'quit', or Ctrl-D.\n",
      "\n"
     ]
    }
   ],
   "source": [
    "import dash\n",
    "import dash_bootstrap_components as dbc\n",
    "import dash_html_components as html\n",
    "import dash_core_components as dcc\n",
    "import plotly.express as px\n",
    "from dash.dependencies import Input, Output\n",
    "\n",
    "df = px.data.gapminder()\n",
    "\n",
    "app = dash.Dash(__name__, external_stylesheets=[dbc.themes.BOOTSTRAP])\n",
    "\n",
    "card_main = dbc.Card(\n",
    "    [\n",
    "        dbc.CardImg(src=\"/assets/ball_of_sun.jpg\", top=True, bottom=False,\n",
    "                    title=\"Image by Kevin Dinkel\", alt='Learn Dash Bootstrap Card Component'),\n",
    "        dbc.CardBody(\n",
    "            [\n",
    "                html.H4(\"Learn Dash with Charming Data\", className=\"card-title\"),\n",
    "                html.H6(\"Lesson 1:\", className=\"card-subtitle\"),\n",
    "                html.P(\n",
    "                    \"Choose the year you would like to see on the bubble chart.\",\n",
    "                    className=\"card-text\",\n",
    "                ),\n",
    "                dcc.Dropdown(id='user_choice', options=[{'label': yr, \"value\": yr} for yr in df.year.unique()],\n",
    "                             value=2007, clearable=False, style={\"color\": \"#000000\"}),\n",
    "                # dbc.Button(\"Press me\", color=\"primary\"),\n",
    "                # dbc.CardLink(\"GirlsWhoCode\", href=\"https://girlswhocode.com/\", target=\"_blank\"),\n",
    "            ]\n",
    "        ),\n",
    "    ],\n",
    "    color=\"dark\",   # https://bootswatch.com/default/ for more card colors\n",
    "    inverse=True,   # change color of text (black or white)\n",
    "    outline=False,  # True = remove the block colors from the background and header\n",
    ")\n",
    "\n",
    "card_question = dbc.Card(\n",
    "    [\n",
    "        dbc.CardBody([\n",
    "            html.H4(\"Question 1\", className=\"card-title\"),\n",
    "            html.P(\"What was India's life expectancy in 1952?\", className=\"card-text\"),\n",
    "            dbc.ListGroup(\n",
    "                [\n",
    "                    dbc.ListGroupItem(\"A. 55 years\"),\n",
    "                    dbc.ListGroupItem(\"B. 37 years\"),\n",
    "                    dbc.ListGroupItem(\"C. 49 years\"),\n",
    "                ], flush=True)\n",
    "        ]),\n",
    "    ], color=\"warning\",\n",
    ")\n",
    "\n",
    "card_graph = dbc.Card(\n",
    "        dcc.Graph(id='my_bar', figure={}), body=True, color=\"secondary\",\n",
    ")\n",
    "\n",
    "\n",
    "app.layout = html.Div([\n",
    "    dbc.Row([dbc.Col(card_main, width=3),\n",
    "             dbc.Col(card_question, width=3),\n",
    "             dbc.Col(card_graph, width=5)], justify=\"around\"),  # justify=\"start\", \"center\", \"end\", \"between\", \"around\"\n",
    "\n",
    "    # dbc.CardGroup([card_main, card_question, card_graph])   # attaches cards with equal width and height columns\n",
    "    # dbc.CardDeck([card_main, card_question, card_graph])    # same as CardGroup but with gutter in between cards\n",
    "\n",
    "    # dbc.CardColumns([                        # Cards organised into Masonry-like columns\n",
    "    #         card_main,\n",
    "    #         card_question,\n",
    "    #         card_graph,\n",
    "    #         card_question,\n",
    "    #         card_question,\n",
    "    # ])\n",
    "\n",
    "])\n",
    "\n",
    "\n",
    "@app.callback(\n",
    "    Output(\"my_bar\", \"figure\"),\n",
    "    [Input(\"user_choice\", \"value\")]\n",
    ")\n",
    "def update_graph(value):\n",
    "    fig = px.scatter(df.query(\"year=={}\".format(str(value))), x=\"gdpPercap\", y=\"lifeExp\",\n",
    "                     size=\"pop\", color=\"continent\", title=str(value),\n",
    "                     hover_name=\"country\", log_x=True, size_max=60).update_layout(showlegend=True, title_x=0.5)\n",
    "    return fig\n",
    "\n",
    "\n",
    "if __name__ == \"__main__\":\n",
    "    app.run_server(debug=True ,port = 8094)\n",
    "    "
   ]
  },
  {
   "cell_type": "code",
   "execution_count": 5,
   "id": "7d003e0d",
   "metadata": {},
   "outputs": [
    {
     "name": "stdout",
     "output_type": "stream",
     "text": [
      "C:\\ProgramData\\Anaconda3\\python.exe\n",
      "3.8.8 (default, Apr 13 2021, 15:08:03) [MSC v.1916 64 bit (AMD64)]\n",
      "sys.version_info(major=3, minor=8, micro=8, releaselevel='final', serial=0)\n"
     ]
    }
   ],
   "source": [
    "import sys\n",
    "print(sys.executable)\n",
    "print(sys.version)\n",
    "print(sys.version_info)"
   ]
  }
 ],
 "metadata": {
  "kernelspec": {
   "display_name": "Python 3",
   "language": "python",
   "name": "python3"
  },
  "language_info": {
   "codemirror_mode": {
    "name": "ipython",
    "version": 3
   },
   "file_extension": ".py",
   "mimetype": "text/x-python",
   "name": "python",
   "nbconvert_exporter": "python",
   "pygments_lexer": "ipython3",
   "version": "3.8.8"
  },
  "latex_envs": {
   "LaTeX_envs_menu_present": true,
   "autoclose": false,
   "autocomplete": true,
   "bibliofile": "biblio.bib",
   "cite_by": "apalike",
   "current_citInitial": 1,
   "eqLabelWithNumbers": true,
   "eqNumInitial": 1,
   "hotkeys": {
    "equation": "Ctrl-E",
    "itemize": "Ctrl-I"
   },
   "labels_anchors": false,
   "latex_user_defs": false,
   "report_style_numbering": false,
   "user_envs_cfg": false
  },
  "toc": {
   "base_numbering": 1,
   "nav_menu": {},
   "number_sections": true,
   "sideBar": true,
   "skip_h1_title": false,
   "title_cell": "Table of Contents",
   "title_sidebar": "Contents",
   "toc_cell": false,
   "toc_position": {},
   "toc_section_display": true,
   "toc_window_display": false
  },
  "varInspector": {
   "cols": {
    "lenName": 16,
    "lenType": 16,
    "lenVar": 40
   },
   "kernels_config": {
    "python": {
     "delete_cmd_postfix": "",
     "delete_cmd_prefix": "del ",
     "library": "var_list.py",
     "varRefreshCmd": "print(var_dic_list())"
    },
    "r": {
     "delete_cmd_postfix": ") ",
     "delete_cmd_prefix": "rm(",
     "library": "var_list.r",
     "varRefreshCmd": "cat(var_dic_list()) "
    }
   },
   "types_to_exclude": [
    "module",
    "function",
    "builtin_function_or_method",
    "instance",
    "_Feature"
   ],
   "window_display": false
  }
 },
 "nbformat": 4,
 "nbformat_minor": 5
}
