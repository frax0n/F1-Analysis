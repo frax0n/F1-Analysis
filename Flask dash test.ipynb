{
 "cells": [
  {
   "cell_type": "code",
   "execution_count": 1,
   "id": "4e3f33f5",
   "metadata": {},
   "outputs": [],
   "source": [
    "import dash\n",
    "import dash_bootstrap_components as dbc\n",
    "import dash_html_components as html\n",
    "import dash_core_components as doc\n",
    "import plotly.express as px\n",
    "from dash.dependencies import Input,Output\n",
    "import pandas as pd     #(version 1.0.0)\n",
    "import plotly           #(version 4.5.0)\n",
    "import plotly.express as px\n",
    "\n",
    "import jupyter_dash             #(version 1.8.0)\n",
    "import dash_core_components as dcc\n",
    "import dash_html_components as html\n",
    "from dash.dependencies import Input, Output, State"
   ]
  },
  {
   "cell_type": "code",
   "execution_count": 6,
   "id": "43644678",
   "metadata": {},
   "outputs": [],
   "source": [
    "circuits=pd.read_csv('datasets/circuits.csv')\n",
    "constructor_results=pd.read_csv('datasets/constructor_results.csv')\n",
    "constructor_standings=pd.read_csv('datasets/constructor_standings.csv')\n",
    "constructors=pd.read_csv('datasets/constructors.csv')\n",
    "driver_standings=pd.read_csv('datasets/driver_standings.csv')\n",
    "drivers=pd.read_csv('datasets/drivers.csv')\n",
    "lap_times=pd.read_csv('datasets/lap_times.csv')\n",
    "pit_stops=pd.read_csv('datasets/pit_stops.csv')\n",
    "qualifying=pd.read_csv('datasets/qualifying.csv')\n",
    "races=pd.read_csv('datasets/races.csv')\n",
    "results=pd.read_csv('datasets/results.csv')\n",
    "seasons=pd.read_csv('datasets/seasons.csv')\n",
    "status=pd.read_csv('datasets/status.csv')"
   ]
  },
  {
   "cell_type": "code",
   "execution_count": 7,
   "id": "38bb1d27",
   "metadata": {},
   "outputs": [],
   "source": [
    "turbohybrid=races.loc[races['year']>=2014]\n",
    "turbohybrid=turbohybrid.merge(results,left_on='raceId',right_on='raceId')\n",
    "turbohybrid=turbohybrid.merge(drivers,left_on='driverId',right_on='driverId')\n",
    "turbohybrid=turbohybrid.merge(constructors,left_on='constructorId',right_on='constructorId')"
   ]
  },
  {
   "cell_type": "code",
   "execution_count": 8,
   "id": "577e6d31",
   "metadata": {},
   "outputs": [],
   "source": [
    "turbohybridwinner=turbohybrid.loc[turbohybrid['position']=='1']\n",
    "turbohybridwinner=turbohybridwinner.sort_values(by='raceId')\n",
    "turbohybridwinner.drop(columns=['date', 'time_x',\n",
    "       'url_x','number_x','url_y','url'],inplace=True)"
   ]
  },
  {
   "cell_type": "code",
   "execution_count": 9,
   "id": "94035986",
   "metadata": {},
   "outputs": [],
   "source": [
    "racelaptimes=races.merge(lap_times,left_on='raceId',right_on='raceId')\n",
    "racelaptimes=racelaptimes.loc[racelaptimes['year']>=2014]\n",
    "racelaptimes=racelaptimes.merge(drivers,left_on='driverId',right_on='driverId')"
   ]
  },
  {
   "cell_type": "code",
   "execution_count": 5,
   "id": "6b9b1371",
   "metadata": {},
   "outputs": [],
   "source": [
    "df = px.data.gapminder()\n",
    "\n",
    "app = jupyter_dash.JupyterDash(__name__, external_stylesheets=[dbc.themes.SOLAR])\n",
    "#app = dash.Dash(__name__, external_stylesheets=[dbc.themes.BOOTSTRAP])\n",
    "\n",
    "card_main = dbc.Card(\n",
    "    [\n",
    "        dbc.CardImg(src=\"/assets/ball_of_sun.jpg\", top=True, bottom=False,\n",
    "                    title=\"Image by Kevin Dinkel\", alt='Learn Dash Bootstrap Card Component'),\n",
    "        dbc.CardBody(\n",
    "            [\n",
    "                html.H4(\"Learn Dash with Charming Data\", className=\"card-title\"),\n",
    "                html.H6(\"Lesson 1:\", className=\"card-subtitle\"),\n",
    "                html.P(\n",
    "                    \"Choose the year you would like to see on the bubble chart.\",\n",
    "                    className=\"card-text\",\n",
    "                ),\n",
    "                dcc.Dropdown(id='user_choice', options=[{'label': yr, \"value\": yr} for yr in df.year.unique()],\n",
    "                             value=2007, clearable=False, style={\"color\": \"#000000\"}),\n",
    "                # dbc.Button(\"Press me\", color=\"primary\"),\n",
    "                # dbc.CardLink(\"GirlsWhoCode\", href=\"https://girlswhocode.com/\", target=\"_blank\"),\n",
    "            ]\n",
    "        ),\n",
    "    ],\n",
    "    color=\"dark\",   # https://bootswatch.com/default/ for more card colors\n",
    "    inverse=True,   # change color of text (black or white)\n",
    "    outline=False,  # True = remove the block colors from the background and header\n",
    ")\n",
    "\n",
    "card_question = dbc.Card(\n",
    "    [\n",
    "        dbc.CardBody([\n",
    "            html.H4(\"Question 1\", className=\"card-title\"),\n",
    "            html.P(\"What was India's life expectancy in 1952?\", className=\"card-text\"),\n",
    "            dbc.ListGroup(\n",
    "                [\n",
    "                    dbc.ListGroupItem(\"A. 55 years\"),\n",
    "                    dbc.ListGroupItem(\"B. 37 years\"),\n",
    "                    dbc.ListGroupItem(\"C. 49 years\"),\n",
    "                ], flush=True)\n",
    "        ]),\n",
    "    ], color=\"warning\",\n",
    "         inverse=True,\n",
    ")\n",
    "\n",
    "card_graph = dbc.Card(\n",
    "        dcc.Graph(id='my_bar', figure={}), body=True, color=\"secondary\",\n",
    ")\n",
    "\n",
    "\n"
   ]
  },
  {
   "cell_type": "code",
   "execution_count": 4,
   "id": "cbe1dca0",
   "metadata": {},
   "outputs": [
    {
     "data": {
      "text/html": [
       "\n",
       "        <iframe\n",
       "            width=\"100%\"\n",
       "            height=\"650\"\n",
       "            src=\"http://127.0.0.1:8095/\"\n",
       "            frameborder=\"0\"\n",
       "            allowfullscreen\n",
       "        ></iframe>\n",
       "        "
      ],
      "text/plain": [
       "<IPython.lib.display.IFrame at 0x2014fd4dfd0>"
      ]
     },
     "metadata": {},
     "output_type": "display_data"
    }
   ],
   "source": [
    "app.layout = html.Div([\n",
    "#     dbc.Row([dbc.Col(card_main, width=3),\n",
    "#              dbc.Col(card_question, width=3),\n",
    "#              dbc.Col(card_graph, width=5)], justify=\"around\"),  # justify=\"start\", \"center\", \"end\", \"between\", \"around\"\n",
    "\n",
    "    #dbc.CardGroup([card_main, card_question, card_graph])   # attaches cards with equal width and height columns\n",
    "     dbc.CardDeck([card_main, card_question, card_graph])    # same as CardGroup but with gutter in between cards\n",
    "\n",
    "    # dbc.CardColumns([                        # Cards organised into Masonry-like columns\n",
    "    #         card_main,\n",
    "    #         card_question,\n",
    "    #         card_graph,\n",
    "    #         card_question,\n",
    "    #         card_question,\n",
    "    # ])\n",
    "\n",
    "])\n",
    "\n",
    "\n",
    "@app.callback(\n",
    "    Output(\"my_bar\", \"figure\"),\n",
    "    [Input(\"user_choice\", \"value\")]\n",
    ")\n",
    "def update_graph(value):\n",
    "    fig = px.scatter(df.query(\"year=={}\".format(str(value))), x=\"gdpPercap\", y=\"lifeExp\",\n",
    "                     size=\"pop\", color=\"continent\", title=str(value),\n",
    "                     hover_name=\"country\", log_x=True, size_max=60).update_layout(showlegend=True, title_x=0.5)\n",
    "    return fig\n",
    "\n",
    "\n",
    "\n",
    "if __name__ == \"__main__\":\n",
    "    app.run_server(mode='inline', port = 8095, threaded=True)"
   ]
  }
 ],
 "metadata": {
  "kernelspec": {
   "display_name": "Python 3",
   "language": "python",
   "name": "python3"
  },
  "language_info": {
   "codemirror_mode": {
    "name": "ipython",
    "version": 3
   },
   "file_extension": ".py",
   "mimetype": "text/x-python",
   "name": "python",
   "nbconvert_exporter": "python",
   "pygments_lexer": "ipython3",
   "version": "3.8.8"
  },
  "toc": {
   "base_numbering": 1,
   "nav_menu": {},
   "number_sections": true,
   "sideBar": true,
   "skip_h1_title": false,
   "title_cell": "Table of Contents",
   "title_sidebar": "Contents",
   "toc_cell": false,
   "toc_position": {},
   "toc_section_display": true,
   "toc_window_display": false
  },
  "varInspector": {
   "cols": {
    "lenName": 16,
    "lenType": 16,
    "lenVar": 40
   },
   "kernels_config": {
    "python": {
     "delete_cmd_postfix": "",
     "delete_cmd_prefix": "del ",
     "library": "var_list.py",
     "varRefreshCmd": "print(var_dic_list())"
    },
    "r": {
     "delete_cmd_postfix": ") ",
     "delete_cmd_prefix": "rm(",
     "library": "var_list.r",
     "varRefreshCmd": "cat(var_dic_list()) "
    }
   },
   "types_to_exclude": [
    "module",
    "function",
    "builtin_function_or_method",
    "instance",
    "_Feature"
   ],
   "window_display": false
  }
 },
 "nbformat": 4,
 "nbformat_minor": 5
}
