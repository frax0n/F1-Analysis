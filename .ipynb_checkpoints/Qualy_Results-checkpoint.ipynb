{
 "cells": [
  {
   "cell_type": "markdown",
   "id": "1863eb3b",
   "metadata": {
    "id": "1863eb3b"
   },
   "source": [
    "# Working with the dataset"
   ]
  },
  {
   "cell_type": "code",
   "execution_count": 1,
   "id": "149f2d31",
   "metadata": {
    "id": "149f2d31"
   },
   "outputs": [],
   "source": [
    "import pandas as pd\n",
    "import numpy as np\n",
    "pd.set_option(\"display.max_columns\", None)\n",
    "#pd.set_option('display.max_rows', None)"
   ]
  },
  {
   "cell_type": "code",
   "execution_count": 2,
   "id": "fda81325",
   "metadata": {
    "id": "fda81325"
   },
   "outputs": [],
   "source": [
    "import plotly.graph_objects as go\n",
    "import seaborn as sns\n",
    "import plotly.express as px\n",
    "import plotly.io as pio\n",
    "import matplotlib.pyplot as plt\n",
    "pio.templates.default = \"plotly_dark\""
   ]
  },
  {
   "cell_type": "code",
   "execution_count": 3,
   "id": "f80269d9",
   "metadata": {
    "id": "f80269d9"
   },
   "outputs": [],
   "source": [
    "circuits              = pd.read_csv('https://raw.githubusercontent.com/frax0n/F1-Analysis/Frax/datasets/circuits.csv')\n",
    "constructor_results   = pd.read_csv('https://raw.githubusercontent.com/frax0n/F1-Analysis/Frax/datasets/constructor_results.csv')\n",
    "constructor_standings = pd.read_csv('https://raw.githubusercontent.com/frax0n/F1-Analysis/Frax/datasets/constructor_standings.csv')\n",
    "constructors=pd.read_csv('https://raw.githubusercontent.com/frax0n/F1-Analysis/Frax/datasets/constructors.csv')\n",
    "driver_standings=pd.read_csv('https://raw.githubusercontent.com/frax0n/F1-Analysis/Frax/datasets/driver_standings.csv')\n",
    "drivers=pd.read_csv('https://raw.githubusercontent.com/frax0n/F1-Analysis/Frax/datasets/drivers.csv')\n",
    "lap_times=pd.read_csv('https://raw.githubusercontent.com/frax0n/F1-Analysis/Frax/datasets/lap_times.csv')\n",
    "pit_stops=pd.read_csv('https://raw.githubusercontent.com/frax0n/F1-Analysis/Frax/datasets/pit_stops.csv')\n",
    "qualifying=pd.read_csv('https://raw.githubusercontent.com/frax0n/F1-Analysis/Frax/datasets/qualifying.csv')\n",
    "races=pd.read_csv('https://raw.githubusercontent.com/frax0n/F1-Analysis/Frax/datasets/races.csv')\n",
    "results=pd.read_csv('https://raw.githubusercontent.com/frax0n/F1-Analysis/Frax/datasets/results.csv')\n",
    "seasons=pd.read_csv('https://raw.githubusercontent.com/frax0n/F1-Analysis/Frax/datasets/seasons.csv')\n",
    "status=pd.read_csv('https://raw.githubusercontent.com/frax0n/F1-Analysis/Frax/datasets/status.csv')"
   ]
  },
  {
   "cell_type": "code",
   "execution_count": 4,
   "id": "3cb6ee9d",
   "metadata": {
    "id": "3cb6ee9d"
   },
   "outputs": [],
   "source": [
    "TH_races=races.loc[races['year']>=2014]"
   ]
  },
  {
   "cell_type": "code",
   "execution_count": 5,
   "id": "a6fb7e3f",
   "metadata": {
    "id": "a6fb7e3f"
   },
   "outputs": [],
   "source": [
    "qualifying=qualifying.rename(columns={\"position\":\"qualifying_pos\"})"
   ]
  },
  {
   "cell_type": "code",
   "execution_count": 6,
   "id": "b3da6b22",
   "metadata": {
    "id": "b3da6b22"
   },
   "outputs": [],
   "source": [
    "qualifying=qualifying.replace(\"\\\\N\",np.nan)"
   ]
  },
  {
   "cell_type": "code",
   "execution_count": 7,
   "id": "b7470dde",
   "metadata": {
    "id": "b7470dde"
   },
   "outputs": [],
   "source": [
    "qualifying['q1']=pd.to_datetime(qualifying['q1'],format=\"%M:%S.%f\")\n",
    "qualifying['q2']=pd.to_datetime(qualifying['q2'],format=\"%M:%S.%f\")\n",
    "qualifying['q3']=pd.to_datetime(qualifying['q3'],format=\"%M:%S.%f\")"
   ]
  },
  {
   "cell_type": "code",
   "execution_count": 8,
   "id": "34084877",
   "metadata": {
    "id": "34084877",
    "scrolled": false
   },
   "outputs": [],
   "source": [
    "qualifying['q1_s']=qualifying['q1'].dt.minute*60+qualifying['q1'].dt.second+qualifying['q1'].dt.microsecond*0.000001\n",
    "qualifying['q2_s']=qualifying['q2'].dt.minute*60+qualifying['q2'].dt.second+qualifying['q2'].dt.microsecond*0.000001\n",
    "qualifying['q3_s']=qualifying['q3'].dt.minute*60+qualifying['q3'].dt.second+qualifying['q3'].dt.microsecond*0.000001"
   ]
  },
  {
   "cell_type": "code",
   "execution_count": 9,
   "id": "78e39565",
   "metadata": {
    "id": "78e39565"
   },
   "outputs": [],
   "source": [
    "qualifying.drop(columns=['q1', 'q2', 'q3'],inplace=True)"
   ]
  },
  {
   "cell_type": "code",
   "execution_count": 10,
   "id": "5dd80bad",
   "metadata": {
    "id": "5dd80bad"
   },
   "outputs": [],
   "source": [
    "qualifying['q1min']=qualifying['q1_s']\n",
    "qualifying['q2min']=qualifying['q2_s']\n",
    "qualifying['q3min']=qualifying['q3_s']"
   ]
  },
  {
   "cell_type": "code",
   "execution_count": 11,
   "id": "9062dd36",
   "metadata": {
    "id": "9062dd36"
   },
   "outputs": [],
   "source": [
    "qualifying=qualifying.merge(qualifying.groupby('raceId').aggregate({'q1min':'min','q2min':'min','q3min':'min'}),left_on='raceId',right_on='raceId')"
   ]
  },
  {
   "cell_type": "code",
   "execution_count": 12,
   "id": "6fba595a",
   "metadata": {
    "id": "6fba595a"
   },
   "outputs": [],
   "source": [
    "qualifying=qualifying.rename(columns={\"q1min_y\":\"q1min\",\"q2min_y\":\"q2min\",\"q3min_y\":\"q3min\"})"
   ]
  },
  {
   "cell_type": "code",
   "execution_count": 13,
   "id": "40f2cae6",
   "metadata": {
    "id": "40f2cae6"
   },
   "outputs": [],
   "source": [
    "qualifying.drop(columns=['q1min_x','q2min_x','q3min_x'],inplace=True)"
   ]
  },
  {
   "cell_type": "code",
   "execution_count": 14,
   "id": "237b6bf8",
   "metadata": {
    "id": "237b6bf8"
   },
   "outputs": [],
   "source": [
    "qualifying['q1_delta']=qualifying['q1min']\n",
    "qualifying['q2_delta']=qualifying['q2min']\n",
    "qualifying['q3_delta']=qualifying['q3min']"
   ]
  },
  {
   "cell_type": "code",
   "execution_count": 15,
   "id": "a25c2486",
   "metadata": {
    "id": "a25c2486"
   },
   "outputs": [],
   "source": [
    "qualifying['q1_delta']=qualifying['q1_s']-qualifying['q1min']\n",
    "qualifying['q2_delta']=qualifying['q2_s']-qualifying['q2min']\n",
    "qualifying['q3_delta']=qualifying['q3_s']-qualifying['q3min']"
   ]
  },
  {
   "cell_type": "code",
   "execution_count": 16,
   "id": "ddc22fdf",
   "metadata": {
    "colab": {
     "base_uri": "https://localhost:8080/"
    },
    "id": "ddc22fdf",
    "outputId": "a15924ac-aca4-4e59-f223-344e6b8ca8b8"
   },
   "outputs": [
    {
     "data": {
      "text/plain": [
       "Index(['qualifyId', 'raceId', 'driverId', 'constructorId', 'number',\n",
       "       'qualifying_pos', 'q1_s', 'q2_s', 'q3_s', 'q1min', 'q2min', 'q3min',\n",
       "       'q1_delta', 'q2_delta', 'q3_delta'],\n",
       "      dtype='object')"
      ]
     },
     "execution_count": 16,
     "metadata": {},
     "output_type": "execute_result"
    }
   ],
   "source": [
    "qualifying.columns"
   ]
  },
  {
   "cell_type": "code",
   "execution_count": 17,
   "id": "8d40cc0e",
   "metadata": {
    "id": "8d40cc0e"
   },
   "outputs": [],
   "source": [
    "qualifyingq1=qualifying[['qualifyId', 'raceId', 'driverId', 'constructorId', 'number',\n",
    "       'qualifying_pos','q1_s','q1_delta']]\n",
    "qualifyingq2=qualifying[['qualifyId', 'raceId', 'driverId', 'constructorId', 'number',\n",
    "       'qualifying_pos','q2_s','q2_delta']]\n",
    "\n",
    "qualifyingq3=qualifying[['qualifyId', 'raceId', 'driverId', 'constructorId', 'number',\n",
    "       'qualifying_pos','q3_s','q3_delta']]\n"
   ]
  },
  {
   "cell_type": "code",
   "execution_count": 18,
   "id": "b31edbb6",
   "metadata": {
    "colab": {
     "base_uri": "https://localhost:8080/"
    },
    "id": "b31edbb6",
    "outputId": "92f62b7e-842d-4d04-a2a1-fea971533d3a"
   },
   "outputs": [
    {
     "name": "stderr",
     "output_type": "stream",
     "text": [
      "C:\\ProgramData\\Anaconda3\\lib\\site-packages\\pandas\\core\\frame.py:4441: SettingWithCopyWarning: \n",
      "A value is trying to be set on a copy of a slice from a DataFrame\n",
      "\n",
      "See the caveats in the documentation: https://pandas.pydata.org/pandas-docs/stable/user_guide/indexing.html#returning-a-view-versus-a-copy\n",
      "  return super().rename(\n"
     ]
    }
   ],
   "source": [
    "results_temp=results[['resultId', 'raceId', 'driverId', 'constructorId','position','statusId','rank']]\n",
    "results_temp.rename(columns={'rank':'driverRanking','position':'final_position',},inplace=True)"
   ]
  },
  {
   "cell_type": "code",
   "execution_count": 19,
   "id": "d36fd61a",
   "metadata": {
    "id": "d36fd61a"
   },
   "outputs": [],
   "source": [
    "TH_races_temp=TH_races[['raceId','year','circuitId']]"
   ]
  },
  {
   "cell_type": "code",
   "execution_count": 20,
   "id": "70274c0e",
   "metadata": {
    "colab": {
     "base_uri": "https://localhost:8080/",
     "height": 318
    },
    "id": "70274c0e",
    "outputId": "54eac9ad-91b3-4386-bf8d-13879d875a4e"
   },
   "outputs": [
    {
     "data": {
      "text/html": [
       "<div>\n",
       "<style scoped>\n",
       "    .dataframe tbody tr th:only-of-type {\n",
       "        vertical-align: middle;\n",
       "    }\n",
       "\n",
       "    .dataframe tbody tr th {\n",
       "        vertical-align: top;\n",
       "    }\n",
       "\n",
       "    .dataframe thead th {\n",
       "        text-align: right;\n",
       "    }\n",
       "</style>\n",
       "<table border=\"1\" class=\"dataframe\">\n",
       "  <thead>\n",
       "    <tr style=\"text-align: right;\">\n",
       "      <th></th>\n",
       "      <th>constructorStandingsId</th>\n",
       "      <th>raceId</th>\n",
       "      <th>constructorId</th>\n",
       "      <th>constructor_ranking</th>\n",
       "    </tr>\n",
       "  </thead>\n",
       "  <tbody>\n",
       "    <tr>\n",
       "      <th>0</th>\n",
       "      <td>1</td>\n",
       "      <td>18</td>\n",
       "      <td>1</td>\n",
       "      <td>1</td>\n",
       "    </tr>\n",
       "    <tr>\n",
       "      <th>1</th>\n",
       "      <td>2</td>\n",
       "      <td>18</td>\n",
       "      <td>2</td>\n",
       "      <td>3</td>\n",
       "    </tr>\n",
       "    <tr>\n",
       "      <th>2</th>\n",
       "      <td>3</td>\n",
       "      <td>18</td>\n",
       "      <td>3</td>\n",
       "      <td>2</td>\n",
       "    </tr>\n",
       "    <tr>\n",
       "      <th>3</th>\n",
       "      <td>4</td>\n",
       "      <td>18</td>\n",
       "      <td>4</td>\n",
       "      <td>4</td>\n",
       "    </tr>\n",
       "    <tr>\n",
       "      <th>4</th>\n",
       "      <td>5</td>\n",
       "      <td>18</td>\n",
       "      <td>5</td>\n",
       "      <td>5</td>\n",
       "    </tr>\n",
       "  </tbody>\n",
       "</table>\n",
       "</div>"
      ],
      "text/plain": [
       "   constructorStandingsId  raceId  constructorId  constructor_ranking\n",
       "0                       1      18              1                    1\n",
       "1                       2      18              2                    3\n",
       "2                       3      18              3                    2\n",
       "3                       4      18              4                    4\n",
       "4                       5      18              5                    5"
      ]
     },
     "execution_count": 20,
     "metadata": {},
     "output_type": "execute_result"
    }
   ],
   "source": [
    "constructor_standings_temp=constructor_standings[['constructorStandingsId', 'raceId', 'constructorId','position']]\n",
    "constructor_standings_temp.rename(columns={'position':'constructor_ranking'},inplace=True)\n",
    "constructor_standings_temp.head()"
   ]
  },
  {
   "cell_type": "code",
   "execution_count": 21,
   "id": "8529335d",
   "metadata": {
    "colab": {
     "base_uri": "https://localhost:8080/",
     "height": 195
    },
    "id": "8529335d",
    "outputId": "80d11922-b02d-42f5-9abd-5787bd12cbb0"
   },
   "outputs": [
    {
     "data": {
      "text/html": [
       "<div>\n",
       "<style scoped>\n",
       "    .dataframe tbody tr th:only-of-type {\n",
       "        vertical-align: middle;\n",
       "    }\n",
       "\n",
       "    .dataframe tbody tr th {\n",
       "        vertical-align: top;\n",
       "    }\n",
       "\n",
       "    .dataframe thead th {\n",
       "        text-align: right;\n",
       "    }\n",
       "</style>\n",
       "<table border=\"1\" class=\"dataframe\">\n",
       "  <thead>\n",
       "    <tr style=\"text-align: right;\">\n",
       "      <th></th>\n",
       "      <th>raceId</th>\n",
       "      <th>driverId</th>\n",
       "      <th>stop</th>\n",
       "      <th>lap</th>\n",
       "      <th>milliseconds</th>\n",
       "    </tr>\n",
       "  </thead>\n",
       "  <tbody>\n",
       "    <tr>\n",
       "      <th>0</th>\n",
       "      <td>841</td>\n",
       "      <td>153</td>\n",
       "      <td>1</td>\n",
       "      <td>1</td>\n",
       "      <td>26898</td>\n",
       "    </tr>\n",
       "    <tr>\n",
       "      <th>1</th>\n",
       "      <td>841</td>\n",
       "      <td>30</td>\n",
       "      <td>1</td>\n",
       "      <td>1</td>\n",
       "      <td>25021</td>\n",
       "    </tr>\n",
       "    <tr>\n",
       "      <th>2</th>\n",
       "      <td>841</td>\n",
       "      <td>17</td>\n",
       "      <td>1</td>\n",
       "      <td>11</td>\n",
       "      <td>23426</td>\n",
       "    </tr>\n",
       "    <tr>\n",
       "      <th>3</th>\n",
       "      <td>841</td>\n",
       "      <td>4</td>\n",
       "      <td>1</td>\n",
       "      <td>12</td>\n",
       "      <td>23251</td>\n",
       "    </tr>\n",
       "    <tr>\n",
       "      <th>4</th>\n",
       "      <td>841</td>\n",
       "      <td>13</td>\n",
       "      <td>1</td>\n",
       "      <td>13</td>\n",
       "      <td>23842</td>\n",
       "    </tr>\n",
       "  </tbody>\n",
       "</table>\n",
       "</div>"
      ],
      "text/plain": [
       "   raceId  driverId  stop  lap  milliseconds\n",
       "0     841       153     1    1         26898\n",
       "1     841        30     1    1         25021\n",
       "2     841        17     1   11         23426\n",
       "3     841         4     1   12         23251\n",
       "4     841        13     1   13         23842"
      ]
     },
     "execution_count": 21,
     "metadata": {},
     "output_type": "execute_result"
    }
   ],
   "source": [
    "pit_stops_temp=pit_stops.drop(columns=['time','duration'])\n",
    "pit_stops_temp.head()"
   ]
  },
  {
   "cell_type": "code",
   "execution_count": null,
   "id": "c5e1e8aa",
   "metadata": {},
   "outputs": [],
   "source": [
    "def pitassign(s):\n",
    "    "
   ]
  },
  {
   "cell_type": "code",
   "execution_count": 88,
   "id": "a36a2df1",
   "metadata": {},
   "outputs": [
    {
     "name": "stdout",
     "output_type": "stream",
     "text": [
      "[1, 2, 12, 38, 24331, 23673]\n"
     ]
    }
   ],
   "source": [
    "k = pit_stops_temp.loc[(pit_stops_temp['raceId']==900) & (pit_stops_temp['driverId']==3)]\n",
    "p=[]\n",
    "p.append(k['stop'].iloc[0])\n",
    "p.append(k['stop'].iloc[1])\n",
    "p.append(k['lap'].iloc[0])\n",
    "p.append(k['lap'].iloc[1])\n",
    "p.append(k['milliseconds'].iloc[0])\n",
    "p.append(k['milliseconds'].iloc[1])\n",
    "print(p)"
   ]
  },
  {
   "cell_type": "code",
   "execution_count": 22,
   "id": "524f04a9",
   "metadata": {
    "id": "524f04a9"
   },
   "outputs": [],
   "source": [
    "temp=qualifyingq2\n",
    "temp=temp.dropna()\n",
    "qualifyingq2=temp\n"
   ]
  },
  {
   "cell_type": "code",
   "execution_count": 23,
   "id": "b2678456",
   "metadata": {
    "id": "b2678456"
   },
   "outputs": [],
   "source": [
    "temp=qualifyingq3\n",
    "temp=temp.dropna()\n",
    "qualifyingq3=temp\n"
   ]
  },
  {
   "cell_type": "code",
   "execution_count": 24,
   "id": "45306346",
   "metadata": {
    "colab": {
     "base_uri": "https://localhost:8080/",
     "height": 215
    },
    "id": "45306346",
    "outputId": "11a3401e-7a9e-46f7-afd2-d29cf2629d07"
   },
   "outputs": [
    {
     "data": {
      "text/html": [
       "<div>\n",
       "<style scoped>\n",
       "    .dataframe tbody tr th:only-of-type {\n",
       "        vertical-align: middle;\n",
       "    }\n",
       "\n",
       "    .dataframe tbody tr th {\n",
       "        vertical-align: top;\n",
       "    }\n",
       "\n",
       "    .dataframe thead th {\n",
       "        text-align: right;\n",
       "    }\n",
       "</style>\n",
       "<table border=\"1\" class=\"dataframe\">\n",
       "  <thead>\n",
       "    <tr style=\"text-align: right;\">\n",
       "      <th></th>\n",
       "      <th>qualifyId</th>\n",
       "      <th>raceId</th>\n",
       "      <th>driverId</th>\n",
       "      <th>constructorId</th>\n",
       "      <th>number</th>\n",
       "      <th>qualifying_pos</th>\n",
       "      <th>q1_s</th>\n",
       "      <th>q1_delta</th>\n",
       "      <th>resultId</th>\n",
       "      <th>final_position</th>\n",
       "      <th>statusId</th>\n",
       "      <th>driverRanking</th>\n",
       "      <th>constructorStandingsId</th>\n",
       "      <th>constructor_ranking</th>\n",
       "      <th>year</th>\n",
       "      <th>circuitId</th>\n",
       "      <th>stop</th>\n",
       "      <th>lap</th>\n",
       "      <th>milliseconds</th>\n",
       "    </tr>\n",
       "  </thead>\n",
       "  <tbody>\n",
       "    <tr>\n",
       "      <th>0</th>\n",
       "      <td>5862</td>\n",
       "      <td>900</td>\n",
       "      <td>3</td>\n",
       "      <td>131</td>\n",
       "      <td>6</td>\n",
       "      <td>3</td>\n",
       "      <td>92.564</td>\n",
       "      <td>1.789</td>\n",
       "      <td>22130</td>\n",
       "      <td>1</td>\n",
       "      <td>1</td>\n",
       "      <td>1</td>\n",
       "      <td>25931</td>\n",
       "      <td>2</td>\n",
       "      <td>2014</td>\n",
       "      <td>1</td>\n",
       "      <td>1</td>\n",
       "      <td>12</td>\n",
       "      <td>24331</td>\n",
       "    </tr>\n",
       "    <tr>\n",
       "      <th>1</th>\n",
       "      <td>5862</td>\n",
       "      <td>900</td>\n",
       "      <td>3</td>\n",
       "      <td>131</td>\n",
       "      <td>6</td>\n",
       "      <td>3</td>\n",
       "      <td>92.564</td>\n",
       "      <td>1.789</td>\n",
       "      <td>22130</td>\n",
       "      <td>1</td>\n",
       "      <td>1</td>\n",
       "      <td>1</td>\n",
       "      <td>25931</td>\n",
       "      <td>2</td>\n",
       "      <td>2014</td>\n",
       "      <td>1</td>\n",
       "      <td>2</td>\n",
       "      <td>38</td>\n",
       "      <td>23673</td>\n",
       "    </tr>\n",
       "    <tr>\n",
       "      <th>4</th>\n",
       "      <td>5863</td>\n",
       "      <td>900</td>\n",
       "      <td>825</td>\n",
       "      <td>1</td>\n",
       "      <td>20</td>\n",
       "      <td>4</td>\n",
       "      <td>90.949</td>\n",
       "      <td>0.174</td>\n",
       "      <td>22131</td>\n",
       "      <td>2</td>\n",
       "      <td>1</td>\n",
       "      <td>6</td>\n",
       "      <td>25932</td>\n",
       "      <td>1</td>\n",
       "      <td>2014</td>\n",
       "      <td>1</td>\n",
       "      <td>1</td>\n",
       "      <td>12</td>\n",
       "      <td>23150</td>\n",
       "    </tr>\n",
       "    <tr>\n",
       "      <th>5</th>\n",
       "      <td>5863</td>\n",
       "      <td>900</td>\n",
       "      <td>825</td>\n",
       "      <td>1</td>\n",
       "      <td>20</td>\n",
       "      <td>4</td>\n",
       "      <td>90.949</td>\n",
       "      <td>0.174</td>\n",
       "      <td>22131</td>\n",
       "      <td>2</td>\n",
       "      <td>1</td>\n",
       "      <td>6</td>\n",
       "      <td>25932</td>\n",
       "      <td>1</td>\n",
       "      <td>2014</td>\n",
       "      <td>1</td>\n",
       "      <td>2</td>\n",
       "      <td>37</td>\n",
       "      <td>22273</td>\n",
       "    </tr>\n",
       "    <tr>\n",
       "      <th>6</th>\n",
       "      <td>5870</td>\n",
       "      <td>900</td>\n",
       "      <td>18</td>\n",
       "      <td>1</td>\n",
       "      <td>22</td>\n",
       "      <td>11</td>\n",
       "      <td>91.396</td>\n",
       "      <td>0.621</td>\n",
       "      <td>22132</td>\n",
       "      <td>3</td>\n",
       "      <td>1</td>\n",
       "      <td>5</td>\n",
       "      <td>25932</td>\n",
       "      <td>1</td>\n",
       "      <td>2014</td>\n",
       "      <td>1</td>\n",
       "      <td>1</td>\n",
       "      <td>11</td>\n",
       "      <td>22411</td>\n",
       "    </tr>\n",
       "  </tbody>\n",
       "</table>\n",
       "</div>"
      ],
      "text/plain": [
       "   qualifyId  raceId  driverId  constructorId  number  qualifying_pos    q1_s  \\\n",
       "0       5862     900         3            131       6               3  92.564   \n",
       "1       5862     900         3            131       6               3  92.564   \n",
       "4       5863     900       825              1      20               4  90.949   \n",
       "5       5863     900       825              1      20               4  90.949   \n",
       "6       5870     900        18              1      22              11  91.396   \n",
       "\n",
       "   q1_delta  resultId final_position  statusId driverRanking  \\\n",
       "0     1.789     22130              1         1             1   \n",
       "1     1.789     22130              1         1             1   \n",
       "4     0.174     22131              2         1             6   \n",
       "5     0.174     22131              2         1             6   \n",
       "6     0.621     22132              3         1             5   \n",
       "\n",
       "   constructorStandingsId  constructor_ranking  year  circuitId  stop  lap  \\\n",
       "0                   25931                    2  2014          1     1   12   \n",
       "1                   25931                    2  2014          1     2   38   \n",
       "4                   25932                    1  2014          1     1   12   \n",
       "5                   25932                    1  2014          1     2   37   \n",
       "6                   25932                    1  2014          1     1   11   \n",
       "\n",
       "   milliseconds  \n",
       "0         24331  \n",
       "1         23673  \n",
       "4         23150  \n",
       "5         22273  \n",
       "6         22411  "
      ]
     },
     "execution_count": 24,
     "metadata": {},
     "output_type": "execute_result"
    }
   ],
   "source": [
    "q1=qualifyingq1.merge(results_temp,left_on=['raceId','driverId','constructorId'],right_on=['raceId','driverId','constructorId'])\n",
    "q1=q1.merge(constructor_standings_temp,left_on=['raceId','constructorId'],right_on=['raceId','constructorId'])\n",
    "q1=q1.merge(TH_races_temp,left_on=['raceId'],right_on=['raceId'])\n",
    "q1=q1.merge(pit_stops_temp,left_on=['raceId','driverId'],right_on=['raceId','driverId'])\n",
    "q1=q1.loc[(q1['statusId']==1) | (q1['statusId']==11) | (q1['statusId']==12)]\n",
    "q1.head()"
   ]
  },
  {
   "cell_type": "code",
   "execution_count": 25,
   "id": "8adbe4b9",
   "metadata": {},
   "outputs": [
    {
     "data": {
      "text/plain": [
       "(4502, 19)"
      ]
     },
     "execution_count": 25,
     "metadata": {},
     "output_type": "execute_result"
    }
   ],
   "source": [
    "q1.shape"
   ]
  },
  {
   "cell_type": "code",
   "execution_count": 26,
   "id": "c50944cf",
   "metadata": {
    "id": "c50944cf"
   },
   "outputs": [],
   "source": [
    "q2=qualifyingq2.merge(results_temp,left_on=['raceId','driverId','constructorId'],right_on=['raceId','driverId','constructorId'])\n",
    "q2=q2.merge(constructor_standings_temp,left_on=['raceId','constructorId'],right_on=['raceId','constructorId'])\n",
    "q2=q2.merge(TH_races_temp,left_on=['raceId'],right_on=['raceId'])\n",
    "q2=q2.merge(pit_stops_temp,left_on=['raceId','driverId'],right_on=['raceId','driverId'])\n",
    "q2=q2.loc[(q2['statusId']==1) | (q2['statusId']==11) | (q2['statusId']==12)]"
   ]
  },
  {
   "cell_type": "code",
   "execution_count": 27,
   "id": "bbd0dddf",
   "metadata": {
    "id": "bbd0dddf"
   },
   "outputs": [],
   "source": [
    "q3=qualifyingq3.merge(results_temp,left_on=['raceId','driverId','constructorId'],right_on=['raceId','driverId','constructorId'])\n",
    "q3=q3.merge(constructor_standings_temp,left_on=['raceId','constructorId'],right_on=['raceId','constructorId'])\n",
    "q3=q3.merge(TH_races_temp,left_on=['raceId'],right_on=['raceId'])\n",
    "q3=q3.merge(pit_stops_temp,left_on=['raceId','driverId'],right_on=['raceId','driverId'])\n",
    "q3=q3.loc[(q3['statusId']==1) | (q3['statusId']==11) | (q3['statusId']==12)]"
   ]
  },
  {
   "cell_type": "code",
   "execution_count": 28,
   "id": "94cebae6",
   "metadata": {
    "scrolled": true
   },
   "outputs": [
    {
     "data": {
      "text/html": [
       "<div>\n",
       "<style scoped>\n",
       "    .dataframe tbody tr th:only-of-type {\n",
       "        vertical-align: middle;\n",
       "    }\n",
       "\n",
       "    .dataframe tbody tr th {\n",
       "        vertical-align: top;\n",
       "    }\n",
       "\n",
       "    .dataframe thead th {\n",
       "        text-align: right;\n",
       "    }\n",
       "</style>\n",
       "<table border=\"1\" class=\"dataframe\">\n",
       "  <thead>\n",
       "    <tr style=\"text-align: right;\">\n",
       "      <th></th>\n",
       "      <th>qualifyId</th>\n",
       "      <th>raceId</th>\n",
       "      <th>driverId</th>\n",
       "      <th>constructorId</th>\n",
       "      <th>number</th>\n",
       "      <th>qualifying_pos</th>\n",
       "      <th>q1_s</th>\n",
       "      <th>q1_delta</th>\n",
       "      <th>resultId</th>\n",
       "      <th>final_position</th>\n",
       "      <th>statusId</th>\n",
       "      <th>driverRanking</th>\n",
       "      <th>constructorStandingsId</th>\n",
       "      <th>constructor_ranking</th>\n",
       "      <th>year</th>\n",
       "      <th>circuitId</th>\n",
       "      <th>stop</th>\n",
       "      <th>lap</th>\n",
       "      <th>milliseconds</th>\n",
       "    </tr>\n",
       "  </thead>\n",
       "  <tbody>\n",
       "    <tr>\n",
       "      <th>0</th>\n",
       "      <td>5862</td>\n",
       "      <td>900</td>\n",
       "      <td>3</td>\n",
       "      <td>131</td>\n",
       "      <td>6</td>\n",
       "      <td>3</td>\n",
       "      <td>92.564</td>\n",
       "      <td>1.789</td>\n",
       "      <td>22130</td>\n",
       "      <td>1</td>\n",
       "      <td>1</td>\n",
       "      <td>1</td>\n",
       "      <td>25931</td>\n",
       "      <td>2</td>\n",
       "      <td>2014</td>\n",
       "      <td>1</td>\n",
       "      <td>1</td>\n",
       "      <td>12</td>\n",
       "      <td>24331</td>\n",
       "    </tr>\n",
       "    <tr>\n",
       "      <th>1</th>\n",
       "      <td>5862</td>\n",
       "      <td>900</td>\n",
       "      <td>3</td>\n",
       "      <td>131</td>\n",
       "      <td>6</td>\n",
       "      <td>3</td>\n",
       "      <td>92.564</td>\n",
       "      <td>1.789</td>\n",
       "      <td>22130</td>\n",
       "      <td>1</td>\n",
       "      <td>1</td>\n",
       "      <td>1</td>\n",
       "      <td>25931</td>\n",
       "      <td>2</td>\n",
       "      <td>2014</td>\n",
       "      <td>1</td>\n",
       "      <td>2</td>\n",
       "      <td>38</td>\n",
       "      <td>23673</td>\n",
       "    </tr>\n",
       "    <tr>\n",
       "      <th>4</th>\n",
       "      <td>5863</td>\n",
       "      <td>900</td>\n",
       "      <td>825</td>\n",
       "      <td>1</td>\n",
       "      <td>20</td>\n",
       "      <td>4</td>\n",
       "      <td>90.949</td>\n",
       "      <td>0.174</td>\n",
       "      <td>22131</td>\n",
       "      <td>2</td>\n",
       "      <td>1</td>\n",
       "      <td>6</td>\n",
       "      <td>25932</td>\n",
       "      <td>1</td>\n",
       "      <td>2014</td>\n",
       "      <td>1</td>\n",
       "      <td>1</td>\n",
       "      <td>12</td>\n",
       "      <td>23150</td>\n",
       "    </tr>\n",
       "    <tr>\n",
       "      <th>5</th>\n",
       "      <td>5863</td>\n",
       "      <td>900</td>\n",
       "      <td>825</td>\n",
       "      <td>1</td>\n",
       "      <td>20</td>\n",
       "      <td>4</td>\n",
       "      <td>90.949</td>\n",
       "      <td>0.174</td>\n",
       "      <td>22131</td>\n",
       "      <td>2</td>\n",
       "      <td>1</td>\n",
       "      <td>6</td>\n",
       "      <td>25932</td>\n",
       "      <td>1</td>\n",
       "      <td>2014</td>\n",
       "      <td>1</td>\n",
       "      <td>2</td>\n",
       "      <td>37</td>\n",
       "      <td>22273</td>\n",
       "    </tr>\n",
       "    <tr>\n",
       "      <th>6</th>\n",
       "      <td>5870</td>\n",
       "      <td>900</td>\n",
       "      <td>18</td>\n",
       "      <td>1</td>\n",
       "      <td>22</td>\n",
       "      <td>11</td>\n",
       "      <td>91.396</td>\n",
       "      <td>0.621</td>\n",
       "      <td>22132</td>\n",
       "      <td>3</td>\n",
       "      <td>1</td>\n",
       "      <td>5</td>\n",
       "      <td>25932</td>\n",
       "      <td>1</td>\n",
       "      <td>2014</td>\n",
       "      <td>1</td>\n",
       "      <td>1</td>\n",
       "      <td>11</td>\n",
       "      <td>22411</td>\n",
       "    </tr>\n",
       "    <tr>\n",
       "      <th>...</th>\n",
       "      <td>...</td>\n",
       "      <td>...</td>\n",
       "      <td>...</td>\n",
       "      <td>...</td>\n",
       "      <td>...</td>\n",
       "      <td>...</td>\n",
       "      <td>...</td>\n",
       "      <td>...</td>\n",
       "      <td>...</td>\n",
       "      <td>...</td>\n",
       "      <td>...</td>\n",
       "      <td>...</td>\n",
       "      <td>...</td>\n",
       "      <td>...</td>\n",
       "      <td>...</td>\n",
       "      <td>...</td>\n",
       "      <td>...</td>\n",
       "      <td>...</td>\n",
       "      <td>...</td>\n",
       "    </tr>\n",
       "    <tr>\n",
       "      <th>5171</th>\n",
       "      <td>8813</td>\n",
       "      <td>1055</td>\n",
       "      <td>849</td>\n",
       "      <td>3</td>\n",
       "      <td>6</td>\n",
       "      <td>19</td>\n",
       "      <td>79.219</td>\n",
       "      <td>1.398</td>\n",
       "      <td>25041</td>\n",
       "      <td>16</td>\n",
       "      <td>11</td>\n",
       "      <td>16</td>\n",
       "      <td>27731</td>\n",
       "      <td>9</td>\n",
       "      <td>2021</td>\n",
       "      <td>4</td>\n",
       "      <td>3</td>\n",
       "      <td>50</td>\n",
       "      <td>22405</td>\n",
       "    </tr>\n",
       "    <tr>\n",
       "      <th>5172</th>\n",
       "      <td>8812</td>\n",
       "      <td>1055</td>\n",
       "      <td>854</td>\n",
       "      <td>210</td>\n",
       "      <td>47</td>\n",
       "      <td>18</td>\n",
       "      <td>79.117</td>\n",
       "      <td>1.296</td>\n",
       "      <td>25043</td>\n",
       "      <td>18</td>\n",
       "      <td>12</td>\n",
       "      <td>12</td>\n",
       "      <td>27732</td>\n",
       "      <td>10</td>\n",
       "      <td>2021</td>\n",
       "      <td>4</td>\n",
       "      <td>1</td>\n",
       "      <td>23</td>\n",
       "      <td>24006</td>\n",
       "    </tr>\n",
       "    <tr>\n",
       "      <th>5173</th>\n",
       "      <td>8812</td>\n",
       "      <td>1055</td>\n",
       "      <td>854</td>\n",
       "      <td>210</td>\n",
       "      <td>47</td>\n",
       "      <td>18</td>\n",
       "      <td>79.117</td>\n",
       "      <td>1.296</td>\n",
       "      <td>25043</td>\n",
       "      <td>18</td>\n",
       "      <td>12</td>\n",
       "      <td>12</td>\n",
       "      <td>27732</td>\n",
       "      <td>10</td>\n",
       "      <td>2021</td>\n",
       "      <td>4</td>\n",
       "      <td>2</td>\n",
       "      <td>50</td>\n",
       "      <td>22310</td>\n",
       "    </tr>\n",
       "    <tr>\n",
       "      <th>5174</th>\n",
       "      <td>8814</td>\n",
       "      <td>1055</td>\n",
       "      <td>853</td>\n",
       "      <td>210</td>\n",
       "      <td>9</td>\n",
       "      <td>20</td>\n",
       "      <td>79.807</td>\n",
       "      <td>1.986</td>\n",
       "      <td>25044</td>\n",
       "      <td>19</td>\n",
       "      <td>12</td>\n",
       "      <td>19</td>\n",
       "      <td>27732</td>\n",
       "      <td>10</td>\n",
       "      <td>2021</td>\n",
       "      <td>4</td>\n",
       "      <td>1</td>\n",
       "      <td>22</td>\n",
       "      <td>23098</td>\n",
       "    </tr>\n",
       "    <tr>\n",
       "      <th>5175</th>\n",
       "      <td>8814</td>\n",
       "      <td>1055</td>\n",
       "      <td>853</td>\n",
       "      <td>210</td>\n",
       "      <td>9</td>\n",
       "      <td>20</td>\n",
       "      <td>79.807</td>\n",
       "      <td>1.986</td>\n",
       "      <td>25044</td>\n",
       "      <td>19</td>\n",
       "      <td>12</td>\n",
       "      <td>19</td>\n",
       "      <td>27732</td>\n",
       "      <td>10</td>\n",
       "      <td>2021</td>\n",
       "      <td>4</td>\n",
       "      <td>2</td>\n",
       "      <td>42</td>\n",
       "      <td>22502</td>\n",
       "    </tr>\n",
       "  </tbody>\n",
       "</table>\n",
       "<p>4502 rows × 19 columns</p>\n",
       "</div>"
      ],
      "text/plain": [
       "      qualifyId  raceId  driverId  constructorId  number  qualifying_pos  \\\n",
       "0          5862     900         3            131       6               3   \n",
       "1          5862     900         3            131       6               3   \n",
       "4          5863     900       825              1      20               4   \n",
       "5          5863     900       825              1      20               4   \n",
       "6          5870     900        18              1      22              11   \n",
       "...         ...     ...       ...            ...     ...             ...   \n",
       "5171       8813    1055       849              3       6              19   \n",
       "5172       8812    1055       854            210      47              18   \n",
       "5173       8812    1055       854            210      47              18   \n",
       "5174       8814    1055       853            210       9              20   \n",
       "5175       8814    1055       853            210       9              20   \n",
       "\n",
       "        q1_s  q1_delta  resultId final_position  statusId driverRanking  \\\n",
       "0     92.564     1.789     22130              1         1             1   \n",
       "1     92.564     1.789     22130              1         1             1   \n",
       "4     90.949     0.174     22131              2         1             6   \n",
       "5     90.949     0.174     22131              2         1             6   \n",
       "6     91.396     0.621     22132              3         1             5   \n",
       "...      ...       ...       ...            ...       ...           ...   \n",
       "5171  79.219     1.398     25041             16        11            16   \n",
       "5172  79.117     1.296     25043             18        12            12   \n",
       "5173  79.117     1.296     25043             18        12            12   \n",
       "5174  79.807     1.986     25044             19        12            19   \n",
       "5175  79.807     1.986     25044             19        12            19   \n",
       "\n",
       "      constructorStandingsId  constructor_ranking  year  circuitId  stop  lap  \\\n",
       "0                      25931                    2  2014          1     1   12   \n",
       "1                      25931                    2  2014          1     2   38   \n",
       "4                      25932                    1  2014          1     1   12   \n",
       "5                      25932                    1  2014          1     2   37   \n",
       "6                      25932                    1  2014          1     1   11   \n",
       "...                      ...                  ...   ...        ...   ...  ...   \n",
       "5171                   27731                    9  2021          4     3   50   \n",
       "5172                   27732                   10  2021          4     1   23   \n",
       "5173                   27732                   10  2021          4     2   50   \n",
       "5174                   27732                   10  2021          4     1   22   \n",
       "5175                   27732                   10  2021          4     2   42   \n",
       "\n",
       "      milliseconds  \n",
       "0            24331  \n",
       "1            23673  \n",
       "4            23150  \n",
       "5            22273  \n",
       "6            22411  \n",
       "...            ...  \n",
       "5171         22405  \n",
       "5172         24006  \n",
       "5173         22310  \n",
       "5174         23098  \n",
       "5175         22502  \n",
       "\n",
       "[4502 rows x 19 columns]"
      ]
     },
     "execution_count": 28,
     "metadata": {},
     "output_type": "execute_result"
    }
   ],
   "source": [
    "q1"
   ]
  },
  {
   "cell_type": "code",
   "execution_count": 9,
   "id": "6bff3212",
   "metadata": {
    "deletable": false,
    "editable": false,
    "run_control": {
     "frozen": true
    }
   },
   "outputs": [],
   "source": [
    "for i in range(circuits.shape[0]):\n",
    "    tracks_code[circuits['name'].iloc[i]] = circuits['circuitId'].iloc[i]"
   ]
  },
  {
   "cell_type": "code",
   "execution_count": 60,
   "id": "1a5479a1",
   "metadata": {
    "deletable": false,
    "editable": false,
    "run_control": {
     "frozen": true
    }
   },
   "outputs": [],
   "source": [
    "driver_name_code = {}\n",
    "for i in range(quali.shape[0]):\n",
    "    driver_name_code[quali['Full Name'].iloc[i]] = quali['driverId'].iloc[i]"
   ]
  },
  {
   "cell_type": "code",
   "execution_count": 10,
   "id": "872509d9",
   "metadata": {
    "deletable": false,
    "editable": false,
    "run_control": {
     "frozen": true
    }
   },
   "outputs": [],
   "source": [
    "np.save('circuit_code.npy', tracks_code) "
   ]
  },
  {
   "cell_type": "code",
   "execution_count": null,
   "id": "4c6539d3",
   "metadata": {
    "deletable": false,
    "editable": false,
    "run_control": {
     "frozen": true
    }
   },
   "outputs": [],
   "source": [
    "read_dictionary = np.load('my_file.npy',allow_pickle='TRUE').item()\n",
    "print(read_dictionary['hello']) # displays \"world\""
   ]
  },
  {
   "cell_type": "markdown",
   "id": "4dbc1145",
   "metadata": {
    "id": "4dbc1145"
   },
   "source": [
    "# Machine Learning"
   ]
  },
  {
   "cell_type": "code",
   "execution_count": 29,
   "id": "61e2fcfa",
   "metadata": {
    "id": "61e2fcfa"
   },
   "outputs": [],
   "source": [
    "from sklearn import model_selection\n",
    "from sklearn.linear_model import LinearRegression, Ridge, Lasso, ElasticNet\n",
    "from sklearn.neighbors import KNeighborsRegressor\n",
    "from sklearn.tree import DecisionTreeRegressor\n",
    "from sklearn.tree import DecisionTreeClassifier\n",
    "from sklearn.ensemble  import RandomForestClassifier\n",
    "from sklearn.ensemble import ExtraTreesRegressor\n",
    "from sklearn.svm import SVR\n",
    "from sklearn.ensemble import RandomForestRegressor\n",
    "from sklearn.ensemble import ExtraTreesClassifier\n",
    "from sklearn.metrics import mean_squared_error, r2_score\n",
    "from sklearn.model_selection import train_test_split\n",
    "from sklearn.svm import SVR\n",
    "from sklearn.metrics import precision_score, recall_score, f1_score, accuracy_score\n",
    "from sklearn.metrics import mean_squared_error, r2_score, mean_absolute_error\n",
    "import plotly.express as px\n",
    "import plotly.graph_objects as go\n",
    "from sklearn.metrics import mean_absolute_error\n",
    "from sklearn.preprocessing import StandardScaler\n",
    "import pandas as pd\n",
    "import numpy as np\n",
    "from sklearn.model_selection import train_test_split\n",
    "import plotly.graph_objects as go\n",
    "from sklearn.metrics import accuracy_score\n",
    "from sklearn.metrics import average_precision_score\n",
    "from sklearn.metrics import precision_recall_curve\n",
    "from sklearn.metrics import plot_precision_recall_curve\n",
    "import matplotlib.pyplot as plt\n",
    "from sklearn import svm"
   ]
  },
  {
   "cell_type": "code",
   "execution_count": 30,
   "id": "41cf1531",
   "metadata": {
    "id": "41cf1531",
    "scrolled": false
   },
   "outputs": [],
   "source": [
    "q1.drop(columns=['qualifyId','resultId','constructorStandingsId','raceId','q1_s','year'],inplace=True)\n",
    "q2.drop(columns=['qualifyId','resultId','constructorStandingsId','raceId','q2_s','year'],inplace=True)\n",
    "q3.drop(columns=['qualifyId','resultId','constructorStandingsId','raceId','q3_s','year'],inplace=True)"
   ]
  },
  {
   "cell_type": "code",
   "execution_count": 31,
   "id": "ad72cb16",
   "metadata": {},
   "outputs": [
    {
     "data": {
      "text/html": [
       "<div>\n",
       "<style scoped>\n",
       "    .dataframe tbody tr th:only-of-type {\n",
       "        vertical-align: middle;\n",
       "    }\n",
       "\n",
       "    .dataframe tbody tr th {\n",
       "        vertical-align: top;\n",
       "    }\n",
       "\n",
       "    .dataframe thead th {\n",
       "        text-align: right;\n",
       "    }\n",
       "</style>\n",
       "<table border=\"1\" class=\"dataframe\">\n",
       "  <thead>\n",
       "    <tr style=\"text-align: right;\">\n",
       "      <th></th>\n",
       "      <th>driverId</th>\n",
       "      <th>constructorId</th>\n",
       "      <th>number</th>\n",
       "      <th>qualifying_pos</th>\n",
       "      <th>q3_delta</th>\n",
       "      <th>final_position</th>\n",
       "      <th>statusId</th>\n",
       "      <th>driverRanking</th>\n",
       "      <th>constructor_ranking</th>\n",
       "      <th>circuitId</th>\n",
       "      <th>stop</th>\n",
       "      <th>lap</th>\n",
       "      <th>milliseconds</th>\n",
       "    </tr>\n",
       "  </thead>\n",
       "  <tbody>\n",
       "    <tr>\n",
       "      <th>0</th>\n",
       "      <td>3</td>\n",
       "      <td>131</td>\n",
       "      <td>6</td>\n",
       "      <td>3</td>\n",
       "      <td>0.364</td>\n",
       "      <td>1</td>\n",
       "      <td>1</td>\n",
       "      <td>1</td>\n",
       "      <td>2</td>\n",
       "      <td>1</td>\n",
       "      <td>1</td>\n",
       "      <td>12</td>\n",
       "      <td>24331</td>\n",
       "    </tr>\n",
       "    <tr>\n",
       "      <th>1</th>\n",
       "      <td>3</td>\n",
       "      <td>131</td>\n",
       "      <td>6</td>\n",
       "      <td>3</td>\n",
       "      <td>0.364</td>\n",
       "      <td>1</td>\n",
       "      <td>1</td>\n",
       "      <td>1</td>\n",
       "      <td>2</td>\n",
       "      <td>1</td>\n",
       "      <td>2</td>\n",
       "      <td>38</td>\n",
       "      <td>23673</td>\n",
       "    </tr>\n",
       "    <tr>\n",
       "      <th>4</th>\n",
       "      <td>825</td>\n",
       "      <td>1</td>\n",
       "      <td>20</td>\n",
       "      <td>4</td>\n",
       "      <td>1.514</td>\n",
       "      <td>2</td>\n",
       "      <td>1</td>\n",
       "      <td>6</td>\n",
       "      <td>1</td>\n",
       "      <td>1</td>\n",
       "      <td>1</td>\n",
       "      <td>12</td>\n",
       "      <td>23150</td>\n",
       "    </tr>\n",
       "    <tr>\n",
       "      <th>5</th>\n",
       "      <td>825</td>\n",
       "      <td>1</td>\n",
       "      <td>20</td>\n",
       "      <td>4</td>\n",
       "      <td>1.514</td>\n",
       "      <td>2</td>\n",
       "      <td>1</td>\n",
       "      <td>6</td>\n",
       "      <td>1</td>\n",
       "      <td>1</td>\n",
       "      <td>2</td>\n",
       "      <td>37</td>\n",
       "      <td>22273</td>\n",
       "    </tr>\n",
       "    <tr>\n",
       "      <th>6</th>\n",
       "      <td>4</td>\n",
       "      <td>6</td>\n",
       "      <td>14</td>\n",
       "      <td>5</td>\n",
       "      <td>1.588</td>\n",
       "      <td>4</td>\n",
       "      <td>1</td>\n",
       "      <td>7</td>\n",
       "      <td>3</td>\n",
       "      <td>1</td>\n",
       "      <td>1</td>\n",
       "      <td>12</td>\n",
       "      <td>22887</td>\n",
       "    </tr>\n",
       "    <tr>\n",
       "      <th>...</th>\n",
       "      <td>...</td>\n",
       "      <td>...</td>\n",
       "      <td>...</td>\n",
       "      <td>...</td>\n",
       "      <td>...</td>\n",
       "      <td>...</td>\n",
       "      <td>...</td>\n",
       "      <td>...</td>\n",
       "      <td>...</td>\n",
       "      <td>...</td>\n",
       "      <td>...</td>\n",
       "      <td>...</td>\n",
       "      <td>...</td>\n",
       "    </tr>\n",
       "    <tr>\n",
       "      <th>2456</th>\n",
       "      <td>4</td>\n",
       "      <td>214</td>\n",
       "      <td>14</td>\n",
       "      <td>10</td>\n",
       "      <td>1.406</td>\n",
       "      <td>17</td>\n",
       "      <td>11</td>\n",
       "      <td>6</td>\n",
       "      <td>5</td>\n",
       "      <td>4</td>\n",
       "      <td>2</td>\n",
       "      <td>61</td>\n",
       "      <td>23479</td>\n",
       "    </tr>\n",
       "    <tr>\n",
       "      <th>2457</th>\n",
       "      <td>817</td>\n",
       "      <td>1</td>\n",
       "      <td>3</td>\n",
       "      <td>7</td>\n",
       "      <td>0.881</td>\n",
       "      <td>6</td>\n",
       "      <td>1</td>\n",
       "      <td>10</td>\n",
       "      <td>3</td>\n",
       "      <td>4</td>\n",
       "      <td>1</td>\n",
       "      <td>25</td>\n",
       "      <td>22406</td>\n",
       "    </tr>\n",
       "    <tr>\n",
       "      <th>2458</th>\n",
       "      <td>817</td>\n",
       "      <td>1</td>\n",
       "      <td>3</td>\n",
       "      <td>7</td>\n",
       "      <td>0.881</td>\n",
       "      <td>6</td>\n",
       "      <td>1</td>\n",
       "      <td>10</td>\n",
       "      <td>3</td>\n",
       "      <td>4</td>\n",
       "      <td>2</td>\n",
       "      <td>46</td>\n",
       "      <td>21762</td>\n",
       "    </tr>\n",
       "    <tr>\n",
       "      <th>2459</th>\n",
       "      <td>846</td>\n",
       "      <td>1</td>\n",
       "      <td>4</td>\n",
       "      <td>9</td>\n",
       "      <td>1.269</td>\n",
       "      <td>8</td>\n",
       "      <td>11</td>\n",
       "      <td>7</td>\n",
       "      <td>3</td>\n",
       "      <td>4</td>\n",
       "      <td>1</td>\n",
       "      <td>23</td>\n",
       "      <td>21864</td>\n",
       "    </tr>\n",
       "    <tr>\n",
       "      <th>2460</th>\n",
       "      <td>846</td>\n",
       "      <td>1</td>\n",
       "      <td>4</td>\n",
       "      <td>9</td>\n",
       "      <td>1.269</td>\n",
       "      <td>8</td>\n",
       "      <td>11</td>\n",
       "      <td>7</td>\n",
       "      <td>3</td>\n",
       "      <td>4</td>\n",
       "      <td>2</td>\n",
       "      <td>51</td>\n",
       "      <td>22467</td>\n",
       "    </tr>\n",
       "  </tbody>\n",
       "</table>\n",
       "<p>2242 rows × 13 columns</p>\n",
       "</div>"
      ],
      "text/plain": [
       "      driverId  constructorId  number  qualifying_pos  q3_delta  \\\n",
       "0            3            131       6               3     0.364   \n",
       "1            3            131       6               3     0.364   \n",
       "4          825              1      20               4     1.514   \n",
       "5          825              1      20               4     1.514   \n",
       "6            4              6      14               5     1.588   \n",
       "...        ...            ...     ...             ...       ...   \n",
       "2456         4            214      14              10     1.406   \n",
       "2457       817              1       3               7     0.881   \n",
       "2458       817              1       3               7     0.881   \n",
       "2459       846              1       4               9     1.269   \n",
       "2460       846              1       4               9     1.269   \n",
       "\n",
       "     final_position  statusId driverRanking  constructor_ranking  circuitId  \\\n",
       "0                 1         1             1                    2          1   \n",
       "1                 1         1             1                    2          1   \n",
       "4                 2         1             6                    1          1   \n",
       "5                 2         1             6                    1          1   \n",
       "6                 4         1             7                    3          1   \n",
       "...             ...       ...           ...                  ...        ...   \n",
       "2456             17        11             6                    5          4   \n",
       "2457              6         1            10                    3          4   \n",
       "2458              6         1            10                    3          4   \n",
       "2459              8        11             7                    3          4   \n",
       "2460              8        11             7                    3          4   \n",
       "\n",
       "      stop  lap  milliseconds  \n",
       "0        1   12         24331  \n",
       "1        2   38         23673  \n",
       "4        1   12         23150  \n",
       "5        2   37         22273  \n",
       "6        1   12         22887  \n",
       "...    ...  ...           ...  \n",
       "2456     2   61         23479  \n",
       "2457     1   25         22406  \n",
       "2458     2   46         21762  \n",
       "2459     1   23         21864  \n",
       "2460     2   51         22467  \n",
       "\n",
       "[2242 rows x 13 columns]"
      ]
     },
     "execution_count": 31,
     "metadata": {},
     "output_type": "execute_result"
    }
   ],
   "source": [
    "q3"
   ]
  },
  {
   "cell_type": "code",
   "execution_count": 32,
   "id": "edff72ee",
   "metadata": {
    "id": "edff72ee"
   },
   "outputs": [],
   "source": [
    "q1['final_position']=q1['final_position'].astype(int)\n",
    "q1['driverRanking']=q1['driverRanking'].astype(int)\n",
    "q2['final_position']=q2['final_position'].astype(int)\n",
    "q2['driverRanking']=q2['driverRanking'].astype(int)\n",
    "q3['final_position']=q3['final_position'].astype(int)\n",
    "q3['driverRanking']=q3['driverRanking'].astype(int)"
   ]
  },
  {
   "cell_type": "code",
   "execution_count": 63,
   "id": "24f083ed",
   "metadata": {
    "deletable": false,
    "editable": false,
    "run_control": {
     "frozen": true
    }
   },
   "outputs": [],
   "source": [
    "quali = q1.merge(drivers,right_on='driverId',left_on='driverId')\n",
    "quali = quali.merge(constructors , right_on = 'constructorId', left_on = 'constructorId')\n"
   ]
  },
  {
   "cell_type": "code",
   "execution_count": 33,
   "id": "e4696226",
   "metadata": {
    "id": "e4696226"
   },
   "outputs": [],
   "source": [
    "test2=q2.merge(q1[['q1_delta','driverId', 'constructorId', 'number', 'circuitId', 'stop', 'lap',\n",
    "                   'milliseconds']],left_on=['driverId', 'constructorId', 'number', 'circuitId', 'stop', 'lap',\n",
    "                   'milliseconds'],right_on=['driverId', 'constructorId', 'number', 'circuitId', 'stop', 'lap',\n",
    "                   'milliseconds'])\n",
    "test3=q3.merge(test2[['q1_delta','driverId', 'constructorId', 'number','circuitId', 'stop', 'lap',\n",
    "                   'milliseconds','q2_delta']],\n",
    "              left_on=['driverId', 'constructorId', 'number','circuitId', 'stop', 'lap',\n",
    "                   'milliseconds'],\n",
    "              right_on=['driverId', 'constructorId', 'number', 'circuitId', 'stop', 'lap',\n",
    "                   'milliseconds'])"
   ]
  },
  {
   "cell_type": "code",
   "execution_count": 34,
   "id": "9cfc5c99",
   "metadata": {
    "id": "9cfc5c99"
   },
   "outputs": [],
   "source": [
    "test=q1"
   ]
  },
  {
   "cell_type": "code",
   "execution_count": 35,
   "id": "6e6fd5af",
   "metadata": {
    "id": "6e6fd5af"
   },
   "outputs": [],
   "source": [
    "#test=pd.get_dummies(q1,columns=['driverId','constructorId','circuitId'])\n",
    "#test2=pd.get_dummies(test2,columns=['driverId','constructorId','circuitId'])\n",
    "#test3=pd.get_dummies(test3,columns=['driverId','constructorId','circuitId'])"
   ]
  },
  {
   "cell_type": "code",
   "execution_count": 36,
   "id": "c748a930",
   "metadata": {
    "id": "c748a930"
   },
   "outputs": [],
   "source": [
    "test=test.dropna()\n",
    "test2=test2.dropna()\n",
    "test3=test3.dropna()"
   ]
  },
  {
   "cell_type": "code",
   "execution_count": 37,
   "id": "8120682b",
   "metadata": {},
   "outputs": [
    {
     "data": {
      "text/html": [
       "<div>\n",
       "<style scoped>\n",
       "    .dataframe tbody tr th:only-of-type {\n",
       "        vertical-align: middle;\n",
       "    }\n",
       "\n",
       "    .dataframe tbody tr th {\n",
       "        vertical-align: top;\n",
       "    }\n",
       "\n",
       "    .dataframe thead th {\n",
       "        text-align: right;\n",
       "    }\n",
       "</style>\n",
       "<table border=\"1\" class=\"dataframe\">\n",
       "  <thead>\n",
       "    <tr style=\"text-align: right;\">\n",
       "      <th></th>\n",
       "      <th>driverId</th>\n",
       "      <th>constructorId</th>\n",
       "      <th>number</th>\n",
       "      <th>qualifying_pos</th>\n",
       "      <th>q3_delta</th>\n",
       "      <th>final_position</th>\n",
       "      <th>statusId</th>\n",
       "      <th>driverRanking</th>\n",
       "      <th>constructor_ranking</th>\n",
       "      <th>circuitId</th>\n",
       "      <th>stop</th>\n",
       "      <th>lap</th>\n",
       "      <th>milliseconds</th>\n",
       "      <th>q1_delta</th>\n",
       "      <th>q2_delta</th>\n",
       "    </tr>\n",
       "  </thead>\n",
       "  <tbody>\n",
       "    <tr>\n",
       "      <th>0</th>\n",
       "      <td>3</td>\n",
       "      <td>131</td>\n",
       "      <td>6</td>\n",
       "      <td>3</td>\n",
       "      <td>0.364</td>\n",
       "      <td>1</td>\n",
       "      <td>1</td>\n",
       "      <td>1</td>\n",
       "      <td>2</td>\n",
       "      <td>1</td>\n",
       "      <td>1</td>\n",
       "      <td>12</td>\n",
       "      <td>24331</td>\n",
       "      <td>1.789</td>\n",
       "      <td>0.000</td>\n",
       "    </tr>\n",
       "    <tr>\n",
       "      <th>1</th>\n",
       "      <td>3</td>\n",
       "      <td>131</td>\n",
       "      <td>6</td>\n",
       "      <td>3</td>\n",
       "      <td>0.364</td>\n",
       "      <td>1</td>\n",
       "      <td>1</td>\n",
       "      <td>1</td>\n",
       "      <td>2</td>\n",
       "      <td>1</td>\n",
       "      <td>2</td>\n",
       "      <td>38</td>\n",
       "      <td>23673</td>\n",
       "      <td>1.789</td>\n",
       "      <td>0.000</td>\n",
       "    </tr>\n",
       "    <tr>\n",
       "      <th>2</th>\n",
       "      <td>825</td>\n",
       "      <td>1</td>\n",
       "      <td>20</td>\n",
       "      <td>4</td>\n",
       "      <td>1.514</td>\n",
       "      <td>2</td>\n",
       "      <td>1</td>\n",
       "      <td>6</td>\n",
       "      <td>1</td>\n",
       "      <td>1</td>\n",
       "      <td>1</td>\n",
       "      <td>12</td>\n",
       "      <td>23150</td>\n",
       "      <td>0.174</td>\n",
       "      <td>0.983</td>\n",
       "    </tr>\n",
       "    <tr>\n",
       "      <th>3</th>\n",
       "      <td>825</td>\n",
       "      <td>1</td>\n",
       "      <td>20</td>\n",
       "      <td>4</td>\n",
       "      <td>1.514</td>\n",
       "      <td>2</td>\n",
       "      <td>1</td>\n",
       "      <td>6</td>\n",
       "      <td>1</td>\n",
       "      <td>1</td>\n",
       "      <td>2</td>\n",
       "      <td>37</td>\n",
       "      <td>22273</td>\n",
       "      <td>0.174</td>\n",
       "      <td>0.983</td>\n",
       "    </tr>\n",
       "    <tr>\n",
       "      <th>4</th>\n",
       "      <td>4</td>\n",
       "      <td>6</td>\n",
       "      <td>14</td>\n",
       "      <td>5</td>\n",
       "      <td>1.588</td>\n",
       "      <td>4</td>\n",
       "      <td>1</td>\n",
       "      <td>7</td>\n",
       "      <td>3</td>\n",
       "      <td>1</td>\n",
       "      <td>1</td>\n",
       "      <td>12</td>\n",
       "      <td>22887</td>\n",
       "      <td>0.613</td>\n",
       "      <td>0.541</td>\n",
       "    </tr>\n",
       "    <tr>\n",
       "      <th>...</th>\n",
       "      <td>...</td>\n",
       "      <td>...</td>\n",
       "      <td>...</td>\n",
       "      <td>...</td>\n",
       "      <td>...</td>\n",
       "      <td>...</td>\n",
       "      <td>...</td>\n",
       "      <td>...</td>\n",
       "      <td>...</td>\n",
       "      <td>...</td>\n",
       "      <td>...</td>\n",
       "      <td>...</td>\n",
       "      <td>...</td>\n",
       "      <td>...</td>\n",
       "      <td>...</td>\n",
       "    </tr>\n",
       "    <tr>\n",
       "      <th>2237</th>\n",
       "      <td>4</td>\n",
       "      <td>214</td>\n",
       "      <td>14</td>\n",
       "      <td>10</td>\n",
       "      <td>1.406</td>\n",
       "      <td>17</td>\n",
       "      <td>11</td>\n",
       "      <td>6</td>\n",
       "      <td>5</td>\n",
       "      <td>4</td>\n",
       "      <td>2</td>\n",
       "      <td>61</td>\n",
       "      <td>23479</td>\n",
       "      <td>0.460</td>\n",
       "      <td>1.044</td>\n",
       "    </tr>\n",
       "    <tr>\n",
       "      <th>2238</th>\n",
       "      <td>817</td>\n",
       "      <td>1</td>\n",
       "      <td>3</td>\n",
       "      <td>7</td>\n",
       "      <td>0.881</td>\n",
       "      <td>6</td>\n",
       "      <td>1</td>\n",
       "      <td>10</td>\n",
       "      <td>3</td>\n",
       "      <td>4</td>\n",
       "      <td>1</td>\n",
       "      <td>25</td>\n",
       "      <td>22406</td>\n",
       "      <td>0.443</td>\n",
       "      <td>0.797</td>\n",
       "    </tr>\n",
       "    <tr>\n",
       "      <th>2239</th>\n",
       "      <td>817</td>\n",
       "      <td>1</td>\n",
       "      <td>3</td>\n",
       "      <td>7</td>\n",
       "      <td>0.881</td>\n",
       "      <td>6</td>\n",
       "      <td>1</td>\n",
       "      <td>10</td>\n",
       "      <td>3</td>\n",
       "      <td>4</td>\n",
       "      <td>2</td>\n",
       "      <td>46</td>\n",
       "      <td>21762</td>\n",
       "      <td>0.443</td>\n",
       "      <td>0.797</td>\n",
       "    </tr>\n",
       "    <tr>\n",
       "      <th>2240</th>\n",
       "      <td>846</td>\n",
       "      <td>1</td>\n",
       "      <td>4</td>\n",
       "      <td>9</td>\n",
       "      <td>1.269</td>\n",
       "      <td>8</td>\n",
       "      <td>11</td>\n",
       "      <td>7</td>\n",
       "      <td>3</td>\n",
       "      <td>4</td>\n",
       "      <td>1</td>\n",
       "      <td>23</td>\n",
       "      <td>21864</td>\n",
       "      <td>0.000</td>\n",
       "      <td>0.774</td>\n",
       "    </tr>\n",
       "    <tr>\n",
       "      <th>2241</th>\n",
       "      <td>846</td>\n",
       "      <td>1</td>\n",
       "      <td>4</td>\n",
       "      <td>9</td>\n",
       "      <td>1.269</td>\n",
       "      <td>8</td>\n",
       "      <td>11</td>\n",
       "      <td>7</td>\n",
       "      <td>3</td>\n",
       "      <td>4</td>\n",
       "      <td>2</td>\n",
       "      <td>51</td>\n",
       "      <td>22467</td>\n",
       "      <td>0.000</td>\n",
       "      <td>0.774</td>\n",
       "    </tr>\n",
       "  </tbody>\n",
       "</table>\n",
       "<p>2242 rows × 15 columns</p>\n",
       "</div>"
      ],
      "text/plain": [
       "      driverId  constructorId  number  qualifying_pos  q3_delta  \\\n",
       "0            3            131       6               3     0.364   \n",
       "1            3            131       6               3     0.364   \n",
       "2          825              1      20               4     1.514   \n",
       "3          825              1      20               4     1.514   \n",
       "4            4              6      14               5     1.588   \n",
       "...        ...            ...     ...             ...       ...   \n",
       "2237         4            214      14              10     1.406   \n",
       "2238       817              1       3               7     0.881   \n",
       "2239       817              1       3               7     0.881   \n",
       "2240       846              1       4               9     1.269   \n",
       "2241       846              1       4               9     1.269   \n",
       "\n",
       "      final_position  statusId  driverRanking  constructor_ranking  circuitId  \\\n",
       "0                  1         1              1                    2          1   \n",
       "1                  1         1              1                    2          1   \n",
       "2                  2         1              6                    1          1   \n",
       "3                  2         1              6                    1          1   \n",
       "4                  4         1              7                    3          1   \n",
       "...              ...       ...            ...                  ...        ...   \n",
       "2237              17        11              6                    5          4   \n",
       "2238               6         1             10                    3          4   \n",
       "2239               6         1             10                    3          4   \n",
       "2240               8        11              7                    3          4   \n",
       "2241               8        11              7                    3          4   \n",
       "\n",
       "      stop  lap  milliseconds  q1_delta  q2_delta  \n",
       "0        1   12         24331     1.789     0.000  \n",
       "1        2   38         23673     1.789     0.000  \n",
       "2        1   12         23150     0.174     0.983  \n",
       "3        2   37         22273     0.174     0.983  \n",
       "4        1   12         22887     0.613     0.541  \n",
       "...    ...  ...           ...       ...       ...  \n",
       "2237     2   61         23479     0.460     1.044  \n",
       "2238     1   25         22406     0.443     0.797  \n",
       "2239     2   46         21762     0.443     0.797  \n",
       "2240     1   23         21864     0.000     0.774  \n",
       "2241     2   51         22467     0.000     0.774  \n",
       "\n",
       "[2242 rows x 15 columns]"
      ]
     },
     "execution_count": 37,
     "metadata": {},
     "output_type": "execute_result"
    }
   ],
   "source": [
    "test3"
   ]
  },
  {
   "cell_type": "code",
   "execution_count": 38,
   "id": "9abea1fa",
   "metadata": {
    "id": "9abea1fa"
   },
   "outputs": [],
   "source": [
    "X_train, X_test, y_train, y_test = train_test_split(test.drop(columns=['final_position','qualifying_pos','number','statusId']), test['final_position'], test_size = 0.25, random_state=8)\n",
    "X_train_2, X_test_2, y_train_2, y_test_2 = train_test_split(test2.drop(columns=['final_position','qualifying_pos','number','statusId']), test2['final_position'], test_size = 0.25, random_state=8)\n",
    "X_train_3, X_test_3, y_train_3, y_test_3 = train_test_split(test3.drop(columns=['final_position','qualifying_pos','number','statusId']), test3['final_position'], test_size = 0.25, random_state=8)"
   ]
  },
  {
   "cell_type": "markdown",
   "id": "8d2b6bbf",
   "metadata": {
    "id": "8d2b6bbf"
   },
   "source": [
    "## Decision Tree"
   ]
  },
  {
   "cell_type": "code",
   "execution_count": 35,
   "id": "a72d1714",
   "metadata": {
    "colab": {
     "base_uri": "https://localhost:8080/"
    },
    "deletable": false,
    "editable": false,
    "id": "a72d1714",
    "outputId": "692730a8-80bb-48f4-b120-b010fdeb1ea8",
    "run_control": {
     "frozen": true
    }
   },
   "outputs": [
    {
     "name": "stdout",
     "output_type": "stream",
     "text": [
      "Fitting 5 folds for each of 72 candidates, totalling 360 fits\n",
      "[CV] criterion=gini, max_depth=107, max_features=auto, random_state=1 \n",
      "[CV]  criterion=gini, max_depth=107, max_features=auto, random_state=1, score=0.520, total=   0.0s\n",
      "[CV] criterion=gini, max_depth=107, max_features=auto, random_state=1 \n",
      "[CV]  criterion=gini, max_depth=107, max_features=auto, random_state=1, score=0.542, total=   0.0s\n",
      "[CV] criterion=gini, max_depth=107, max_features=auto, random_state=1 \n",
      "[CV]  criterion=gini, max_depth=107, max_features=auto, random_state=1, score=0.536, total=   0.0s\n",
      "[CV] criterion=gini, max_depth=107, max_features=auto, random_state=1 \n",
      "[CV]  criterion=gini, max_depth=107, max_features=auto, random_state=1, score=0.516, total=   0.0s\n",
      "[CV] criterion=gini, max_depth=107, max_features=auto, random_state=1 \n",
      "[CV]  criterion=gini, max_depth=107, max_features=auto, random_state=1, score=0.501, total=   0.0s\n",
      "[CV] criterion=gini, max_depth=107, max_features=auto, random_state=2 \n",
      "[CV]  criterion=gini, max_depth=107, max_features=auto, random_state=2, score=0.536, total=   0.0s\n",
      "[CV] criterion=gini, max_depth=107, max_features=auto, random_state=2 \n",
      "[CV]  criterion=gini, max_depth=107, max_features=auto, random_state=2, score=0.420, total=   0.0s\n",
      "[CV] criterion=gini, max_depth=107, max_features=auto, random_state=2 \n",
      "[CV]  criterion=gini, max_depth=107, max_features=auto, random_state=2, score=0.496, total=   0.0s\n",
      "[CV] criterion=gini, max_depth=107, max_features=auto, random_state=2 \n",
      "[CV]  criterion=gini, max_depth=107, max_features=auto, random_state=2, score=0.532, total=   0.0s\n",
      "[CV] criterion=gini, max_depth=107, max_features=auto, random_state=2 \n",
      "[CV]  criterion=gini, max_depth=107, max_features=auto, random_state=2, score=0.507, total=   0.0s\n",
      "[CV] criterion=gini, max_depth=107, max_features=auto, random_state=3 \n",
      "[CV]  criterion=gini, max_depth=107, max_features=auto, random_state=3, score=0.522, total=   0.0s\n",
      "[CV] criterion=gini, max_depth=107, max_features=auto, random_state=3 \n",
      "[CV]  criterion=gini, max_depth=107, max_features=auto, random_state=3, score=0.522, total=   0.0s\n",
      "[CV] criterion=gini, max_depth=107, max_features=auto, random_state=3 \n",
      "[CV]  criterion=gini, max_depth=107, max_features=auto, random_state=3, score=0.510, total=   0.0s\n",
      "[CV] criterion=gini, max_depth=107, max_features=auto, random_state=3 \n",
      "[CV]  criterion=gini, max_depth=107, max_features=auto, random_state=3, score=0.550, total=   0.0s\n",
      "[CV] criterion=gini, max_depth=107, max_features=auto, random_state=3 \n",
      "[CV]  criterion=gini, max_depth=107, max_features=auto, random_state=3, score=0.557, total=   0.0s\n",
      "[CV] criterion=gini, max_depth=107, max_features=auto, random_state=4 \n",
      "[CV]  criterion=gini, max_depth=107, max_features=auto, random_state=4, score=0.542, total=   0.0s\n",
      "[CV] criterion=gini, max_depth=107, max_features=auto, random_state=4 \n",
      "[CV]  criterion=gini, max_depth=107, max_features=auto, random_state=4, score=0.538, total=   0.0s\n",
      "[CV] criterion=gini, max_depth=107, max_features=auto, random_state=4 \n"
     ]
    },
    {
     "name": "stderr",
     "output_type": "stream",
     "text": [
      "[Parallel(n_jobs=1)]: Using backend SequentialBackend with 1 concurrent workers.\n",
      "[Parallel(n_jobs=1)]: Done   1 out of   1 | elapsed:    0.0s remaining:    0.0s\n",
      "[Parallel(n_jobs=1)]: Done   2 out of   2 | elapsed:    0.0s remaining:    0.0s\n",
      "[Parallel(n_jobs=1)]: Done   3 out of   3 | elapsed:    0.0s remaining:    0.0s\n",
      "[Parallel(n_jobs=1)]: Done   4 out of   4 | elapsed:    0.0s remaining:    0.0s\n",
      "[Parallel(n_jobs=1)]: Done   5 out of   5 | elapsed:    0.0s remaining:    0.0s\n",
      "[Parallel(n_jobs=1)]: Done   6 out of   6 | elapsed:    0.1s remaining:    0.0s\n",
      "[Parallel(n_jobs=1)]: Done   7 out of   7 | elapsed:    0.1s remaining:    0.0s\n",
      "[Parallel(n_jobs=1)]: Done   8 out of   8 | elapsed:    0.1s remaining:    0.0s\n",
      "[Parallel(n_jobs=1)]: Done   9 out of   9 | elapsed:    0.1s remaining:    0.0s\n"
     ]
    },
    {
     "name": "stdout",
     "output_type": "stream",
     "text": [
      "[CV]  criterion=gini, max_depth=107, max_features=auto, random_state=4, score=0.516, total=   0.0s\n",
      "[CV] criterion=gini, max_depth=107, max_features=auto, random_state=4 \n",
      "[CV]  criterion=gini, max_depth=107, max_features=auto, random_state=4, score=0.538, total=   0.0s\n",
      "[CV] criterion=gini, max_depth=107, max_features=auto, random_state=4 \n",
      "[CV]  criterion=gini, max_depth=107, max_features=auto, random_state=4, score=0.535, total=   0.0s\n",
      "[CV] criterion=gini, max_depth=107, max_features=auto, random_state=5 \n",
      "[CV]  criterion=gini, max_depth=107, max_features=auto, random_state=5, score=0.574, total=   0.0s\n",
      "[CV] criterion=gini, max_depth=107, max_features=auto, random_state=5 \n",
      "[CV]  criterion=gini, max_depth=107, max_features=auto, random_state=5, score=0.540, total=   0.0s\n",
      "[CV] criterion=gini, max_depth=107, max_features=auto, random_state=5 \n",
      "[CV]  criterion=gini, max_depth=107, max_features=auto, random_state=5, score=0.506, total=   0.0s\n",
      "[CV] criterion=gini, max_depth=107, max_features=auto, random_state=5 \n",
      "[CV]  criterion=gini, max_depth=107, max_features=auto, random_state=5, score=0.560, total=   0.0s\n",
      "[CV] criterion=gini, max_depth=107, max_features=auto, random_state=5 \n",
      "[CV]  criterion=gini, max_depth=107, max_features=auto, random_state=5, score=0.553, total=   0.0s\n",
      "[CV] criterion=gini, max_depth=107, max_features=auto, random_state=6 \n",
      "[CV]  criterion=gini, max_depth=107, max_features=auto, random_state=6, score=0.496, total=   0.0s\n",
      "[CV] criterion=gini, max_depth=107, max_features=auto, random_state=6 \n",
      "[CV]  criterion=gini, max_depth=107, max_features=auto, random_state=6, score=0.544, total=   0.0s\n",
      "[CV] criterion=gini, max_depth=107, max_features=auto, random_state=6 \n",
      "[CV]  criterion=gini, max_depth=107, max_features=auto, random_state=6, score=0.514, total=   0.0s\n",
      "[CV] criterion=gini, max_depth=107, max_features=auto, random_state=6 \n",
      "[CV]  criterion=gini, max_depth=107, max_features=auto, random_state=6, score=0.508, total=   0.0s\n",
      "[CV] criterion=gini, max_depth=107, max_features=auto, random_state=6 \n",
      "[CV]  criterion=gini, max_depth=107, max_features=auto, random_state=6, score=0.555, total=   0.0s\n",
      "[CV] criterion=gini, max_depth=107, max_features=auto, random_state=7 \n",
      "[CV]  criterion=gini, max_depth=107, max_features=auto, random_state=7, score=0.526, total=   0.0s\n",
      "[CV] criterion=gini, max_depth=107, max_features=auto, random_state=7 \n",
      "[CV]  criterion=gini, max_depth=107, max_features=auto, random_state=7, score=0.540, total=   0.0s\n",
      "[CV] criterion=gini, max_depth=107, max_features=auto, random_state=7 \n",
      "[CV]  criterion=gini, max_depth=107, max_features=auto, random_state=7, score=0.474, total=   0.0s\n",
      "[CV] criterion=gini, max_depth=107, max_features=auto, random_state=7 \n",
      "[CV]  criterion=gini, max_depth=107, max_features=auto, random_state=7, score=0.534, total=   0.0s\n",
      "[CV] criterion=gini, max_depth=107, max_features=auto, random_state=7 \n",
      "[CV]  criterion=gini, max_depth=107, max_features=auto, random_state=7, score=0.475, total=   0.0s\n",
      "[CV] criterion=gini, max_depth=107, max_features=auto, random_state=8 \n",
      "[CV]  criterion=gini, max_depth=107, max_features=auto, random_state=8, score=0.526, total=   0.0s\n",
      "[CV] criterion=gini, max_depth=107, max_features=auto, random_state=8 \n",
      "[CV]  criterion=gini, max_depth=107, max_features=auto, random_state=8, score=0.532, total=   0.0s\n",
      "[CV] criterion=gini, max_depth=107, max_features=auto, random_state=8 \n",
      "[CV]  criterion=gini, max_depth=107, max_features=auto, random_state=8, score=0.554, total=   0.0s\n",
      "[CV] criterion=gini, max_depth=107, max_features=auto, random_state=8 \n",
      "[CV]  criterion=gini, max_depth=107, max_features=auto, random_state=8, score=0.534, total=   0.0s\n",
      "[CV] criterion=gini, max_depth=107, max_features=auto, random_state=8 \n",
      "[CV]  criterion=gini, max_depth=107, max_features=auto, random_state=8, score=0.525, total=   0.0s\n",
      "[CV] criterion=gini, max_depth=107, max_features=auto, random_state=9 \n",
      "[CV]  criterion=gini, max_depth=107, max_features=auto, random_state=9, score=0.528, total=   0.0s\n",
      "[CV] criterion=gini, max_depth=107, max_features=auto, random_state=9 \n",
      "[CV]  criterion=gini, max_depth=107, max_features=auto, random_state=9, score=0.558, total=   0.0s\n",
      "[CV] criterion=gini, max_depth=107, max_features=auto, random_state=9 \n",
      "[CV]  criterion=gini, max_depth=107, max_features=auto, random_state=9, score=0.508, total=   0.0s\n",
      "[CV] criterion=gini, max_depth=107, max_features=auto, random_state=9 \n",
      "[CV]  criterion=gini, max_depth=107, max_features=auto, random_state=9, score=0.542, total=   0.0s\n",
      "[CV] criterion=gini, max_depth=107, max_features=auto, random_state=9 \n",
      "[CV]  criterion=gini, max_depth=107, max_features=auto, random_state=9, score=0.549, total=   0.0s\n",
      "[CV] criterion=gini, max_depth=107, max_features=sqrt, random_state=1 \n",
      "[CV]  criterion=gini, max_depth=107, max_features=sqrt, random_state=1, score=0.520, total=   0.0s\n",
      "[CV] criterion=gini, max_depth=107, max_features=sqrt, random_state=1 \n",
      "[CV]  criterion=gini, max_depth=107, max_features=sqrt, random_state=1, score=0.542, total=   0.0s\n",
      "[CV] criterion=gini, max_depth=107, max_features=sqrt, random_state=1 \n",
      "[CV]  criterion=gini, max_depth=107, max_features=sqrt, random_state=1, score=0.536, total=   0.0s\n",
      "[CV] criterion=gini, max_depth=107, max_features=sqrt, random_state=1 \n",
      "[CV]  criterion=gini, max_depth=107, max_features=sqrt, random_state=1, score=0.516, total=   0.0s\n",
      "[CV] criterion=gini, max_depth=107, max_features=sqrt, random_state=1 \n",
      "[CV]  criterion=gini, max_depth=107, max_features=sqrt, random_state=1, score=0.501, total=   0.0s\n",
      "[CV] criterion=gini, max_depth=107, max_features=sqrt, random_state=2 \n",
      "[CV]  criterion=gini, max_depth=107, max_features=sqrt, random_state=2, score=0.536, total=   0.0s\n",
      "[CV] criterion=gini, max_depth=107, max_features=sqrt, random_state=2 \n",
      "[CV]  criterion=gini, max_depth=107, max_features=sqrt, random_state=2, score=0.420, total=   0.0s\n",
      "[CV] criterion=gini, max_depth=107, max_features=sqrt, random_state=2 \n",
      "[CV]  criterion=gini, max_depth=107, max_features=sqrt, random_state=2, score=0.496, total=   0.0s\n",
      "[CV] criterion=gini, max_depth=107, max_features=sqrt, random_state=2 \n",
      "[CV]  criterion=gini, max_depth=107, max_features=sqrt, random_state=2, score=0.532, total=   0.0s\n",
      "[CV] criterion=gini, max_depth=107, max_features=sqrt, random_state=2 \n",
      "[CV]  criterion=gini, max_depth=107, max_features=sqrt, random_state=2, score=0.507, total=   0.0s\n",
      "[CV] criterion=gini, max_depth=107, max_features=sqrt, random_state=3 \n",
      "[CV]  criterion=gini, max_depth=107, max_features=sqrt, random_state=3, score=0.522, total=   0.0s\n",
      "[CV] criterion=gini, max_depth=107, max_features=sqrt, random_state=3 \n",
      "[CV]  criterion=gini, max_depth=107, max_features=sqrt, random_state=3, score=0.522, total=   0.0s\n",
      "[CV] criterion=gini, max_depth=107, max_features=sqrt, random_state=3 \n",
      "[CV]  criterion=gini, max_depth=107, max_features=sqrt, random_state=3, score=0.510, total=   0.0s\n",
      "[CV] criterion=gini, max_depth=107, max_features=sqrt, random_state=3 \n",
      "[CV]  criterion=gini, max_depth=107, max_features=sqrt, random_state=3, score=0.550, total=   0.0s\n",
      "[CV] criterion=gini, max_depth=107, max_features=sqrt, random_state=3 \n",
      "[CV]  criterion=gini, max_depth=107, max_features=sqrt, random_state=3, score=0.557, total=   0.0s\n",
      "[CV] criterion=gini, max_depth=107, max_features=sqrt, random_state=4 \n",
      "[CV]  criterion=gini, max_depth=107, max_features=sqrt, random_state=4, score=0.542, total=   0.0s\n",
      "[CV] criterion=gini, max_depth=107, max_features=sqrt, random_state=4 \n",
      "[CV]  criterion=gini, max_depth=107, max_features=sqrt, random_state=4, score=0.538, total=   0.0s\n",
      "[CV] criterion=gini, max_depth=107, max_features=sqrt, random_state=4 \n",
      "[CV]  criterion=gini, max_depth=107, max_features=sqrt, random_state=4, score=0.516, total=   0.0s\n",
      "[CV] criterion=gini, max_depth=107, max_features=sqrt, random_state=4 \n",
      "[CV]  criterion=gini, max_depth=107, max_features=sqrt, random_state=4, score=0.538, total=   0.0s\n",
      "[CV] criterion=gini, max_depth=107, max_features=sqrt, random_state=4 \n",
      "[CV]  criterion=gini, max_depth=107, max_features=sqrt, random_state=4, score=0.535, total=   0.0s\n",
      "[CV] criterion=gini, max_depth=107, max_features=sqrt, random_state=5 \n",
      "[CV]  criterion=gini, max_depth=107, max_features=sqrt, random_state=5, score=0.574, total=   0.0s\n",
      "[CV] criterion=gini, max_depth=107, max_features=sqrt, random_state=5 \n",
      "[CV]  criterion=gini, max_depth=107, max_features=sqrt, random_state=5, score=0.540, total=   0.0s\n",
      "[CV] criterion=gini, max_depth=107, max_features=sqrt, random_state=5 \n",
      "[CV]  criterion=gini, max_depth=107, max_features=sqrt, random_state=5, score=0.506, total=   0.0s\n",
      "[CV] criterion=gini, max_depth=107, max_features=sqrt, random_state=5 \n",
      "[CV]  criterion=gini, max_depth=107, max_features=sqrt, random_state=5, score=0.560, total=   0.0s\n",
      "[CV] criterion=gini, max_depth=107, max_features=sqrt, random_state=5 \n",
      "[CV]  criterion=gini, max_depth=107, max_features=sqrt, random_state=5, score=0.553, total=   0.0s\n",
      "[CV] criterion=gini, max_depth=107, max_features=sqrt, random_state=6 \n",
      "[CV]  criterion=gini, max_depth=107, max_features=sqrt, random_state=6, score=0.496, total=   0.0s\n",
      "[CV] criterion=gini, max_depth=107, max_features=sqrt, random_state=6 \n",
      "[CV]  criterion=gini, max_depth=107, max_features=sqrt, random_state=6, score=0.544, total=   0.0s\n",
      "[CV] criterion=gini, max_depth=107, max_features=sqrt, random_state=6 \n",
      "[CV]  criterion=gini, max_depth=107, max_features=sqrt, random_state=6, score=0.514, total=   0.0s\n",
      "[CV] criterion=gini, max_depth=107, max_features=sqrt, random_state=6 \n",
      "[CV]  criterion=gini, max_depth=107, max_features=sqrt, random_state=6, score=0.508, total=   0.0s\n",
      "[CV] criterion=gini, max_depth=107, max_features=sqrt, random_state=6 \n",
      "[CV]  criterion=gini, max_depth=107, max_features=sqrt, random_state=6, score=0.555, total=   0.0s\n",
      "[CV] criterion=gini, max_depth=107, max_features=sqrt, random_state=7 \n",
      "[CV]  criterion=gini, max_depth=107, max_features=sqrt, random_state=7, score=0.526, total=   0.0s\n",
      "[CV] criterion=gini, max_depth=107, max_features=sqrt, random_state=7 \n",
      "[CV]  criterion=gini, max_depth=107, max_features=sqrt, random_state=7, score=0.540, total=   0.0s\n",
      "[CV] criterion=gini, max_depth=107, max_features=sqrt, random_state=7 \n",
      "[CV]  criterion=gini, max_depth=107, max_features=sqrt, random_state=7, score=0.474, total=   0.0s\n",
      "[CV] criterion=gini, max_depth=107, max_features=sqrt, random_state=7 \n",
      "[CV]  criterion=gini, max_depth=107, max_features=sqrt, random_state=7, score=0.534, total=   0.0s\n",
      "[CV] criterion=gini, max_depth=107, max_features=sqrt, random_state=7 \n",
      "[CV]  criterion=gini, max_depth=107, max_features=sqrt, random_state=7, score=0.475, total=   0.0s\n",
      "[CV] criterion=gini, max_depth=107, max_features=sqrt, random_state=8 \n",
      "[CV]  criterion=gini, max_depth=107, max_features=sqrt, random_state=8, score=0.526, total=   0.0s\n",
      "[CV] criterion=gini, max_depth=107, max_features=sqrt, random_state=8 \n",
      "[CV]  criterion=gini, max_depth=107, max_features=sqrt, random_state=8, score=0.532, total=   0.0s\n",
      "[CV] criterion=gini, max_depth=107, max_features=sqrt, random_state=8 \n",
      "[CV]  criterion=gini, max_depth=107, max_features=sqrt, random_state=8, score=0.554, total=   0.0s\n",
      "[CV] criterion=gini, max_depth=107, max_features=sqrt, random_state=8 \n",
      "[CV]  criterion=gini, max_depth=107, max_features=sqrt, random_state=8, score=0.534, total=   0.0s\n",
      "[CV] criterion=gini, max_depth=107, max_features=sqrt, random_state=8 \n",
      "[CV]  criterion=gini, max_depth=107, max_features=sqrt, random_state=8, score=0.525, total=   0.0s\n",
      "[CV] criterion=gini, max_depth=107, max_features=sqrt, random_state=9 \n",
      "[CV]  criterion=gini, max_depth=107, max_features=sqrt, random_state=9, score=0.528, total=   0.0s\n",
      "[CV] criterion=gini, max_depth=107, max_features=sqrt, random_state=9 \n",
      "[CV]  criterion=gini, max_depth=107, max_features=sqrt, random_state=9, score=0.558, total=   0.0s\n",
      "[CV] criterion=gini, max_depth=107, max_features=sqrt, random_state=9 \n",
      "[CV]  criterion=gini, max_depth=107, max_features=sqrt, random_state=9, score=0.508, total=   0.0s\n",
      "[CV] criterion=gini, max_depth=107, max_features=sqrt, random_state=9 \n",
      "[CV]  criterion=gini, max_depth=107, max_features=sqrt, random_state=9, score=0.542, total=   0.0s\n",
      "[CV] criterion=gini, max_depth=107, max_features=sqrt, random_state=9 \n",
      "[CV]  criterion=gini, max_depth=107, max_features=sqrt, random_state=9, score=0.549, total=   0.0s\n",
      "[CV] criterion=gini, max_depth=107, max_features=log2, random_state=1 \n",
      "[CV]  criterion=gini, max_depth=107, max_features=log2, random_state=1, score=0.520, total=   0.0s\n",
      "[CV] criterion=gini, max_depth=107, max_features=log2, random_state=1 \n",
      "[CV]  criterion=gini, max_depth=107, max_features=log2, random_state=1, score=0.542, total=   0.0s\n",
      "[CV] criterion=gini, max_depth=107, max_features=log2, random_state=1 \n",
      "[CV]  criterion=gini, max_depth=107, max_features=log2, random_state=1, score=0.536, total=   0.0s\n",
      "[CV] criterion=gini, max_depth=107, max_features=log2, random_state=1 \n",
      "[CV]  criterion=gini, max_depth=107, max_features=log2, random_state=1, score=0.516, total=   0.0s\n",
      "[CV] criterion=gini, max_depth=107, max_features=log2, random_state=1 \n",
      "[CV]  criterion=gini, max_depth=107, max_features=log2, random_state=1, score=0.501, total=   0.0s\n",
      "[CV] criterion=gini, max_depth=107, max_features=log2, random_state=2 \n",
      "[CV]  criterion=gini, max_depth=107, max_features=log2, random_state=2, score=0.536, total=   0.0s\n",
      "[CV] criterion=gini, max_depth=107, max_features=log2, random_state=2 \n",
      "[CV]  criterion=gini, max_depth=107, max_features=log2, random_state=2, score=0.420, total=   0.0s\n",
      "[CV] criterion=gini, max_depth=107, max_features=log2, random_state=2 \n",
      "[CV]  criterion=gini, max_depth=107, max_features=log2, random_state=2, score=0.496, total=   0.0s\n",
      "[CV] criterion=gini, max_depth=107, max_features=log2, random_state=2 \n",
      "[CV]  criterion=gini, max_depth=107, max_features=log2, random_state=2, score=0.532, total=   0.0s\n",
      "[CV] criterion=gini, max_depth=107, max_features=log2, random_state=2 \n",
      "[CV]  criterion=gini, max_depth=107, max_features=log2, random_state=2, score=0.507, total=   0.0s\n",
      "[CV] criterion=gini, max_depth=107, max_features=log2, random_state=3 \n",
      "[CV]  criterion=gini, max_depth=107, max_features=log2, random_state=3, score=0.522, total=   0.0s\n",
      "[CV] criterion=gini, max_depth=107, max_features=log2, random_state=3 \n",
      "[CV]  criterion=gini, max_depth=107, max_features=log2, random_state=3, score=0.522, total=   0.0s\n",
      "[CV] criterion=gini, max_depth=107, max_features=log2, random_state=3 \n",
      "[CV]  criterion=gini, max_depth=107, max_features=log2, random_state=3, score=0.510, total=   0.0s\n",
      "[CV] criterion=gini, max_depth=107, max_features=log2, random_state=3 \n",
      "[CV]  criterion=gini, max_depth=107, max_features=log2, random_state=3, score=0.550, total=   0.0s\n",
      "[CV] criterion=gini, max_depth=107, max_features=log2, random_state=3 \n",
      "[CV]  criterion=gini, max_depth=107, max_features=log2, random_state=3, score=0.557, total=   0.0s\n",
      "[CV] criterion=gini, max_depth=107, max_features=log2, random_state=4 \n",
      "[CV]  criterion=gini, max_depth=107, max_features=log2, random_state=4, score=0.542, total=   0.0s\n",
      "[CV] criterion=gini, max_depth=107, max_features=log2, random_state=4 \n",
      "[CV]  criterion=gini, max_depth=107, max_features=log2, random_state=4, score=0.538, total=   0.0s\n",
      "[CV] criterion=gini, max_depth=107, max_features=log2, random_state=4 \n",
      "[CV]  criterion=gini, max_depth=107, max_features=log2, random_state=4, score=0.516, total=   0.0s\n",
      "[CV] criterion=gini, max_depth=107, max_features=log2, random_state=4 \n",
      "[CV]  criterion=gini, max_depth=107, max_features=log2, random_state=4, score=0.538, total=   0.0s\n",
      "[CV] criterion=gini, max_depth=107, max_features=log2, random_state=4 \n",
      "[CV]  criterion=gini, max_depth=107, max_features=log2, random_state=4, score=0.535, total=   0.0s\n",
      "[CV] criterion=gini, max_depth=107, max_features=log2, random_state=5 \n",
      "[CV]  criterion=gini, max_depth=107, max_features=log2, random_state=5, score=0.574, total=   0.0s\n",
      "[CV] criterion=gini, max_depth=107, max_features=log2, random_state=5 \n",
      "[CV]  criterion=gini, max_depth=107, max_features=log2, random_state=5, score=0.540, total=   0.0s\n",
      "[CV] criterion=gini, max_depth=107, max_features=log2, random_state=5 \n",
      "[CV]  criterion=gini, max_depth=107, max_features=log2, random_state=5, score=0.506, total=   0.0s\n",
      "[CV] criterion=gini, max_depth=107, max_features=log2, random_state=5 \n",
      "[CV]  criterion=gini, max_depth=107, max_features=log2, random_state=5, score=0.560, total=   0.0s\n",
      "[CV] criterion=gini, max_depth=107, max_features=log2, random_state=5 \n",
      "[CV]  criterion=gini, max_depth=107, max_features=log2, random_state=5, score=0.553, total=   0.0s\n",
      "[CV] criterion=gini, max_depth=107, max_features=log2, random_state=6 \n",
      "[CV]  criterion=gini, max_depth=107, max_features=log2, random_state=6, score=0.496, total=   0.0s\n",
      "[CV] criterion=gini, max_depth=107, max_features=log2, random_state=6 \n",
      "[CV]  criterion=gini, max_depth=107, max_features=log2, random_state=6, score=0.544, total=   0.0s\n",
      "[CV] criterion=gini, max_depth=107, max_features=log2, random_state=6 \n",
      "[CV]  criterion=gini, max_depth=107, max_features=log2, random_state=6, score=0.514, total=   0.0s\n",
      "[CV] criterion=gini, max_depth=107, max_features=log2, random_state=6 \n",
      "[CV]  criterion=gini, max_depth=107, max_features=log2, random_state=6, score=0.508, total=   0.0s\n",
      "[CV] criterion=gini, max_depth=107, max_features=log2, random_state=6 \n",
      "[CV]  criterion=gini, max_depth=107, max_features=log2, random_state=6, score=0.555, total=   0.0s\n",
      "[CV] criterion=gini, max_depth=107, max_features=log2, random_state=7 \n",
      "[CV]  criterion=gini, max_depth=107, max_features=log2, random_state=7, score=0.526, total=   0.0s\n",
      "[CV] criterion=gini, max_depth=107, max_features=log2, random_state=7 \n",
      "[CV]  criterion=gini, max_depth=107, max_features=log2, random_state=7, score=0.540, total=   0.0s\n",
      "[CV] criterion=gini, max_depth=107, max_features=log2, random_state=7 \n",
      "[CV]  criterion=gini, max_depth=107, max_features=log2, random_state=7, score=0.474, total=   0.0s\n",
      "[CV] criterion=gini, max_depth=107, max_features=log2, random_state=7 \n",
      "[CV]  criterion=gini, max_depth=107, max_features=log2, random_state=7, score=0.534, total=   0.0s\n",
      "[CV] criterion=gini, max_depth=107, max_features=log2, random_state=7 \n",
      "[CV]  criterion=gini, max_depth=107, max_features=log2, random_state=7, score=0.475, total=   0.0s\n",
      "[CV] criterion=gini, max_depth=107, max_features=log2, random_state=8 \n",
      "[CV]  criterion=gini, max_depth=107, max_features=log2, random_state=8, score=0.526, total=   0.0s\n",
      "[CV] criterion=gini, max_depth=107, max_features=log2, random_state=8 \n",
      "[CV]  criterion=gini, max_depth=107, max_features=log2, random_state=8, score=0.532, total=   0.0s\n",
      "[CV] criterion=gini, max_depth=107, max_features=log2, random_state=8 \n",
      "[CV]  criterion=gini, max_depth=107, max_features=log2, random_state=8, score=0.554, total=   0.0s\n",
      "[CV] criterion=gini, max_depth=107, max_features=log2, random_state=8 \n",
      "[CV]  criterion=gini, max_depth=107, max_features=log2, random_state=8, score=0.534, total=   0.0s\n",
      "[CV] criterion=gini, max_depth=107, max_features=log2, random_state=8 \n",
      "[CV]  criterion=gini, max_depth=107, max_features=log2, random_state=8, score=0.525, total=   0.0s\n",
      "[CV] criterion=gini, max_depth=107, max_features=log2, random_state=9 \n",
      "[CV]  criterion=gini, max_depth=107, max_features=log2, random_state=9, score=0.528, total=   0.0s\n",
      "[CV] criterion=gini, max_depth=107, max_features=log2, random_state=9 \n",
      "[CV]  criterion=gini, max_depth=107, max_features=log2, random_state=9, score=0.558, total=   0.0s\n",
      "[CV] criterion=gini, max_depth=107, max_features=log2, random_state=9 \n",
      "[CV]  criterion=gini, max_depth=107, max_features=log2, random_state=9, score=0.508, total=   0.0s\n",
      "[CV] criterion=gini, max_depth=107, max_features=log2, random_state=9 \n",
      "[CV]  criterion=gini, max_depth=107, max_features=log2, random_state=9, score=0.542, total=   0.0s\n",
      "[CV] criterion=gini, max_depth=107, max_features=log2, random_state=9 \n",
      "[CV]  criterion=gini, max_depth=107, max_features=log2, random_state=9, score=0.549, total=   0.0s\n",
      "[CV] criterion=gini, max_depth=107, max_features=, random_state=1 ....\n",
      "[CV]  criterion=gini, max_depth=107, max_features=, random_state=1, score=nan, total=   0.0s\n",
      "[CV] criterion=gini, max_depth=107, max_features=, random_state=1 ....\n",
      "[CV]  criterion=gini, max_depth=107, max_features=, random_state=1, score=nan, total=   0.0s\n",
      "[CV] criterion=gini, max_depth=107, max_features=, random_state=1 ....\n",
      "[CV]  criterion=gini, max_depth=107, max_features=, random_state=1, score=nan, total=   0.0s\n",
      "[CV] criterion=gini, max_depth=107, max_features=, random_state=1 ....\n",
      "[CV]  criterion=gini, max_depth=107, max_features=, random_state=1, score=nan, total=   0.0s\n",
      "[CV] criterion=gini, max_depth=107, max_features=, random_state=1 ....\n",
      "[CV]  criterion=gini, max_depth=107, max_features=, random_state=1, score=nan, total=   0.0s\n",
      "[CV] criterion=gini, max_depth=107, max_features=, random_state=2 ....\n",
      "[CV]  criterion=gini, max_depth=107, max_features=, random_state=2, score=nan, total=   0.0s\n",
      "[CV] criterion=gini, max_depth=107, max_features=, random_state=2 ....\n",
      "[CV]  criterion=gini, max_depth=107, max_features=, random_state=2, score=nan, total=   0.0s\n",
      "[CV] criterion=gini, max_depth=107, max_features=, random_state=2 ....\n",
      "[CV]  criterion=gini, max_depth=107, max_features=, random_state=2, score=nan, total=   0.0s\n",
      "[CV] criterion=gini, max_depth=107, max_features=, random_state=2 ....\n",
      "[CV]  criterion=gini, max_depth=107, max_features=, random_state=2, score=nan, total=   0.0s\n",
      "[CV] criterion=gini, max_depth=107, max_features=, random_state=2 ....\n",
      "[CV]  criterion=gini, max_depth=107, max_features=, random_state=2, score=nan, total=   0.0s\n",
      "[CV] criterion=gini, max_depth=107, max_features=, random_state=3 ....\n",
      "[CV]  criterion=gini, max_depth=107, max_features=, random_state=3, score=nan, total=   0.0s\n",
      "[CV] criterion=gini, max_depth=107, max_features=, random_state=3 ....\n",
      "[CV]  criterion=gini, max_depth=107, max_features=, random_state=3, score=nan, total=   0.0s\n",
      "[CV] criterion=gini, max_depth=107, max_features=, random_state=3 ....\n",
      "[CV]  criterion=gini, max_depth=107, max_features=, random_state=3, score=nan, total=   0.0s\n",
      "[CV] criterion=gini, max_depth=107, max_features=, random_state=3 ....\n",
      "[CV]  criterion=gini, max_depth=107, max_features=, random_state=3, score=nan, total=   0.0s\n",
      "[CV] criterion=gini, max_depth=107, max_features=, random_state=3 ....\n",
      "[CV]  criterion=gini, max_depth=107, max_features=, random_state=3, score=nan, total=   0.0s\n",
      "[CV] criterion=gini, max_depth=107, max_features=, random_state=4 ....\n",
      "[CV]  criterion=gini, max_depth=107, max_features=, random_state=4, score=nan, total=   0.0s\n",
      "[CV] criterion=gini, max_depth=107, max_features=, random_state=4 ....\n"
     ]
    },
    {
     "name": "stderr",
     "output_type": "stream",
     "text": [
      "/usr/local/lib/python3.7/dist-packages/sklearn/model_selection/_validation.py:536: FitFailedWarning:\n",
      "\n",
      "Estimator fit failed. The score on this train-test partition for these parameters will be set to nan. Details: \n",
      "ValueError: Invalid value for max_features. Allowed string values are 'auto', 'sqrt' or 'log2'.\n",
      "\n",
      "\n",
      "/usr/local/lib/python3.7/dist-packages/sklearn/model_selection/_validation.py:536: FitFailedWarning:\n",
      "\n",
      "Estimator fit failed. The score on this train-test partition for these parameters will be set to nan. Details: \n",
      "ValueError: Invalid value for max_features. Allowed string values are 'auto', 'sqrt' or 'log2'.\n",
      "\n",
      "\n",
      "/usr/local/lib/python3.7/dist-packages/sklearn/model_selection/_validation.py:536: FitFailedWarning:\n",
      "\n",
      "Estimator fit failed. The score on this train-test partition for these parameters will be set to nan. Details: \n",
      "ValueError: Invalid value for max_features. Allowed string values are 'auto', 'sqrt' or 'log2'.\n",
      "\n",
      "\n",
      "/usr/local/lib/python3.7/dist-packages/sklearn/model_selection/_validation.py:536: FitFailedWarning:\n",
      "\n",
      "Estimator fit failed. The score on this train-test partition for these parameters will be set to nan. Details: \n",
      "ValueError: Invalid value for max_features. Allowed string values are 'auto', 'sqrt' or 'log2'.\n",
      "\n",
      "\n",
      "/usr/local/lib/python3.7/dist-packages/sklearn/model_selection/_validation.py:536: FitFailedWarning:\n",
      "\n",
      "Estimator fit failed. The score on this train-test partition for these parameters will be set to nan. Details: \n",
      "ValueError: Invalid value for max_features. Allowed string values are 'auto', 'sqrt' or 'log2'.\n",
      "\n",
      "\n",
      "/usr/local/lib/python3.7/dist-packages/sklearn/model_selection/_validation.py:536: FitFailedWarning:\n",
      "\n",
      "Estimator fit failed. The score on this train-test partition for these parameters will be set to nan. Details: \n",
      "ValueError: Invalid value for max_features. Allowed string values are 'auto', 'sqrt' or 'log2'.\n",
      "\n",
      "\n",
      "/usr/local/lib/python3.7/dist-packages/sklearn/model_selection/_validation.py:536: FitFailedWarning:\n",
      "\n",
      "Estimator fit failed. The score on this train-test partition for these parameters will be set to nan. Details: \n",
      "ValueError: Invalid value for max_features. Allowed string values are 'auto', 'sqrt' or 'log2'.\n",
      "\n",
      "\n",
      "/usr/local/lib/python3.7/dist-packages/sklearn/model_selection/_validation.py:536: FitFailedWarning:\n",
      "\n",
      "Estimator fit failed. The score on this train-test partition for these parameters will be set to nan. Details: \n",
      "ValueError: Invalid value for max_features. Allowed string values are 'auto', 'sqrt' or 'log2'.\n",
      "\n",
      "\n",
      "/usr/local/lib/python3.7/dist-packages/sklearn/model_selection/_validation.py:536: FitFailedWarning:\n",
      "\n",
      "Estimator fit failed. The score on this train-test partition for these parameters will be set to nan. Details: \n",
      "ValueError: Invalid value for max_features. Allowed string values are 'auto', 'sqrt' or 'log2'.\n",
      "\n",
      "\n",
      "/usr/local/lib/python3.7/dist-packages/sklearn/model_selection/_validation.py:536: FitFailedWarning:\n",
      "\n",
      "Estimator fit failed. The score on this train-test partition for these parameters will be set to nan. Details: \n",
      "ValueError: Invalid value for max_features. Allowed string values are 'auto', 'sqrt' or 'log2'.\n",
      "\n",
      "\n",
      "/usr/local/lib/python3.7/dist-packages/sklearn/model_selection/_validation.py:536: FitFailedWarning:\n",
      "\n",
      "Estimator fit failed. The score on this train-test partition for these parameters will be set to nan. Details: \n",
      "ValueError: Invalid value for max_features. Allowed string values are 'auto', 'sqrt' or 'log2'.\n",
      "\n",
      "\n",
      "/usr/local/lib/python3.7/dist-packages/sklearn/model_selection/_validation.py:536: FitFailedWarning:\n",
      "\n",
      "Estimator fit failed. The score on this train-test partition for these parameters will be set to nan. Details: \n",
      "ValueError: Invalid value for max_features. Allowed string values are 'auto', 'sqrt' or 'log2'.\n",
      "\n",
      "\n",
      "/usr/local/lib/python3.7/dist-packages/sklearn/model_selection/_validation.py:536: FitFailedWarning:\n",
      "\n",
      "Estimator fit failed. The score on this train-test partition for these parameters will be set to nan. Details: \n",
      "ValueError: Invalid value for max_features. Allowed string values are 'auto', 'sqrt' or 'log2'.\n",
      "\n",
      "\n",
      "/usr/local/lib/python3.7/dist-packages/sklearn/model_selection/_validation.py:536: FitFailedWarning:\n",
      "\n",
      "Estimator fit failed. The score on this train-test partition for these parameters will be set to nan. Details: \n",
      "ValueError: Invalid value for max_features. Allowed string values are 'auto', 'sqrt' or 'log2'.\n",
      "\n",
      "\n",
      "/usr/local/lib/python3.7/dist-packages/sklearn/model_selection/_validation.py:536: FitFailedWarning:\n",
      "\n",
      "Estimator fit failed. The score on this train-test partition for these parameters will be set to nan. Details: \n",
      "ValueError: Invalid value for max_features. Allowed string values are 'auto', 'sqrt' or 'log2'.\n",
      "\n",
      "\n",
      "/usr/local/lib/python3.7/dist-packages/sklearn/model_selection/_validation.py:536: FitFailedWarning:\n",
      "\n",
      "Estimator fit failed. The score on this train-test partition for these parameters will be set to nan. Details: \n",
      "ValueError: Invalid value for max_features. Allowed string values are 'auto', 'sqrt' or 'log2'.\n",
      "\n",
      "\n",
      "/usr/local/lib/python3.7/dist-packages/sklearn/model_selection/_validation.py:536: FitFailedWarning:\n",
      "\n",
      "Estimator fit failed. The score on this train-test partition for these parameters will be set to nan. Details: \n",
      "ValueError: Invalid value for max_features. Allowed string values are 'auto', 'sqrt' or 'log2'.\n",
      "\n",
      "\n",
      "/usr/local/lib/python3.7/dist-packages/sklearn/model_selection/_validation.py:536: FitFailedWarning:\n",
      "\n",
      "Estimator fit failed. The score on this train-test partition for these parameters will be set to nan. Details: \n",
      "ValueError: Invalid value for max_features. Allowed string values are 'auto', 'sqrt' or 'log2'.\n",
      "\n",
      "\n",
      "/usr/local/lib/python3.7/dist-packages/sklearn/model_selection/_validation.py:536: FitFailedWarning:\n",
      "\n",
      "Estimator fit failed. The score on this train-test partition for these parameters will be set to nan. Details: \n",
      "ValueError: Invalid value for max_features. Allowed string values are 'auto', 'sqrt' or 'log2'.\n",
      "\n",
      "\n",
      "/usr/local/lib/python3.7/dist-packages/sklearn/model_selection/_validation.py:536: FitFailedWarning:\n",
      "\n",
      "Estimator fit failed. The score on this train-test partition for these parameters will be set to nan. Details: \n",
      "ValueError: Invalid value for max_features. Allowed string values are 'auto', 'sqrt' or 'log2'.\n",
      "\n",
      "\n",
      "/usr/local/lib/python3.7/dist-packages/sklearn/model_selection/_validation.py:536: FitFailedWarning:\n",
      "\n",
      "Estimator fit failed. The score on this train-test partition for these parameters will be set to nan. Details: \n",
      "ValueError: Invalid value for max_features. Allowed string values are 'auto', 'sqrt' or 'log2'.\n",
      "\n",
      "\n",
      "/usr/local/lib/python3.7/dist-packages/sklearn/model_selection/_validation.py:536: FitFailedWarning:\n",
      "\n",
      "Estimator fit failed. The score on this train-test partition for these parameters will be set to nan. Details: \n",
      "ValueError: Invalid value for max_features. Allowed string values are 'auto', 'sqrt' or 'log2'.\n",
      "\n",
      "\n",
      "/usr/local/lib/python3.7/dist-packages/sklearn/model_selection/_validation.py:536: FitFailedWarning:\n",
      "\n",
      "Estimator fit failed. The score on this train-test partition for these parameters will be set to nan. Details: \n",
      "ValueError: Invalid value for max_features. Allowed string values are 'auto', 'sqrt' or 'log2'.\n",
      "\n",
      "\n",
      "/usr/local/lib/python3.7/dist-packages/sklearn/model_selection/_validation.py:536: FitFailedWarning:\n",
      "\n",
      "Estimator fit failed. The score on this train-test partition for these parameters will be set to nan. Details: \n",
      "ValueError: Invalid value for max_features. Allowed string values are 'auto', 'sqrt' or 'log2'.\n",
      "\n",
      "\n",
      "/usr/local/lib/python3.7/dist-packages/sklearn/model_selection/_validation.py:536: FitFailedWarning:\n",
      "\n",
      "Estimator fit failed. The score on this train-test partition for these parameters will be set to nan. Details: \n",
      "ValueError: Invalid value for max_features. Allowed string values are 'auto', 'sqrt' or 'log2'.\n",
      "\n",
      "\n",
      "/usr/local/lib/python3.7/dist-packages/sklearn/model_selection/_validation.py:536: FitFailedWarning:\n",
      "\n",
      "Estimator fit failed. The score on this train-test partition for these parameters will be set to nan. Details: \n",
      "ValueError: Invalid value for max_features. Allowed string values are 'auto', 'sqrt' or 'log2'.\n",
      "\n",
      "\n",
      "/usr/local/lib/python3.7/dist-packages/sklearn/model_selection/_validation.py:536: FitFailedWarning:\n",
      "\n",
      "Estimator fit failed. The score on this train-test partition for these parameters will be set to nan. Details: \n",
      "ValueError: Invalid value for max_features. Allowed string values are 'auto', 'sqrt' or 'log2'.\n",
      "\n",
      "\n",
      "/usr/local/lib/python3.7/dist-packages/sklearn/model_selection/_validation.py:536: FitFailedWarning:\n",
      "\n",
      "Estimator fit failed. The score on this train-test partition for these parameters will be set to nan. Details: \n",
      "ValueError: Invalid value for max_features. Allowed string values are 'auto', 'sqrt' or 'log2'.\n",
      "\n",
      "\n",
      "/usr/local/lib/python3.7/dist-packages/sklearn/model_selection/_validation.py:536: FitFailedWarning:\n",
      "\n",
      "Estimator fit failed. The score on this train-test partition for these parameters will be set to nan. Details: \n",
      "ValueError: Invalid value for max_features. Allowed string values are 'auto', 'sqrt' or 'log2'.\n",
      "\n",
      "\n",
      "/usr/local/lib/python3.7/dist-packages/sklearn/model_selection/_validation.py:536: FitFailedWarning:\n",
      "\n",
      "Estimator fit failed. The score on this train-test partition for these parameters will be set to nan. Details: \n",
      "ValueError: Invalid value for max_features. Allowed string values are 'auto', 'sqrt' or 'log2'.\n",
      "\n",
      "\n",
      "/usr/local/lib/python3.7/dist-packages/sklearn/model_selection/_validation.py:536: FitFailedWarning:\n",
      "\n",
      "Estimator fit failed. The score on this train-test partition for these parameters will be set to nan. Details: \n",
      "ValueError: Invalid value for max_features. Allowed string values are 'auto', 'sqrt' or 'log2'.\n",
      "\n",
      "\n",
      "/usr/local/lib/python3.7/dist-packages/sklearn/model_selection/_validation.py:536: FitFailedWarning:\n",
      "\n",
      "Estimator fit failed. The score on this train-test partition for these parameters will be set to nan. Details: \n",
      "ValueError: Invalid value for max_features. Allowed string values are 'auto', 'sqrt' or 'log2'.\n",
      "\n",
      "\n",
      "/usr/local/lib/python3.7/dist-packages/sklearn/model_selection/_validation.py:536: FitFailedWarning:\n",
      "\n",
      "Estimator fit failed. The score on this train-test partition for these parameters will be set to nan. Details: \n",
      "ValueError: Invalid value for max_features. Allowed string values are 'auto', 'sqrt' or 'log2'.\n",
      "\n",
      "\n",
      "/usr/local/lib/python3.7/dist-packages/sklearn/model_selection/_validation.py:536: FitFailedWarning:\n",
      "\n",
      "Estimator fit failed. The score on this train-test partition for these parameters will be set to nan. Details: \n",
      "ValueError: Invalid value for max_features. Allowed string values are 'auto', 'sqrt' or 'log2'.\n",
      "\n",
      "\n",
      "/usr/local/lib/python3.7/dist-packages/sklearn/model_selection/_validation.py:536: FitFailedWarning:\n",
      "\n",
      "Estimator fit failed. The score on this train-test partition for these parameters will be set to nan. Details: \n",
      "ValueError: Invalid value for max_features. Allowed string values are 'auto', 'sqrt' or 'log2'.\n",
      "\n",
      "\n",
      "/usr/local/lib/python3.7/dist-packages/sklearn/model_selection/_validation.py:536: FitFailedWarning:\n",
      "\n",
      "Estimator fit failed. The score on this train-test partition for these parameters will be set to nan. Details: \n",
      "ValueError: Invalid value for max_features. Allowed string values are 'auto', 'sqrt' or 'log2'.\n",
      "\n",
      "\n",
      "/usr/local/lib/python3.7/dist-packages/sklearn/model_selection/_validation.py:536: FitFailedWarning:\n",
      "\n",
      "Estimator fit failed. The score on this train-test partition for these parameters will be set to nan. Details: \n",
      "ValueError: Invalid value for max_features. Allowed string values are 'auto', 'sqrt' or 'log2'.\n",
      "\n",
      "\n",
      "/usr/local/lib/python3.7/dist-packages/sklearn/model_selection/_validation.py:536: FitFailedWarning:\n",
      "\n",
      "Estimator fit failed. The score on this train-test partition for these parameters will be set to nan. Details: \n",
      "ValueError: Invalid value for max_features. Allowed string values are 'auto', 'sqrt' or 'log2'.\n",
      "\n",
      "\n",
      "/usr/local/lib/python3.7/dist-packages/sklearn/model_selection/_validation.py:536: FitFailedWarning:\n",
      "\n",
      "Estimator fit failed. The score on this train-test partition for these parameters will be set to nan. Details: \n",
      "ValueError: Invalid value for max_features. Allowed string values are 'auto', 'sqrt' or 'log2'.\n",
      "\n",
      "\n",
      "/usr/local/lib/python3.7/dist-packages/sklearn/model_selection/_validation.py:536: FitFailedWarning:\n",
      "\n",
      "Estimator fit failed. The score on this train-test partition for these parameters will be set to nan. Details: \n",
      "ValueError: Invalid value for max_features. Allowed string values are 'auto', 'sqrt' or 'log2'.\n",
      "\n",
      "\n",
      "/usr/local/lib/python3.7/dist-packages/sklearn/model_selection/_validation.py:536: FitFailedWarning:\n",
      "\n",
      "Estimator fit failed. The score on this train-test partition for these parameters will be set to nan. Details: \n",
      "ValueError: Invalid value for max_features. Allowed string values are 'auto', 'sqrt' or 'log2'.\n",
      "\n",
      "\n",
      "/usr/local/lib/python3.7/dist-packages/sklearn/model_selection/_validation.py:536: FitFailedWarning:\n",
      "\n",
      "Estimator fit failed. The score on this train-test partition for these parameters will be set to nan. Details: \n",
      "ValueError: Invalid value for max_features. Allowed string values are 'auto', 'sqrt' or 'log2'.\n",
      "\n",
      "\n",
      "/usr/local/lib/python3.7/dist-packages/sklearn/model_selection/_validation.py:536: FitFailedWarning:\n",
      "\n",
      "Estimator fit failed. The score on this train-test partition for these parameters will be set to nan. Details: \n",
      "ValueError: Invalid value for max_features. Allowed string values are 'auto', 'sqrt' or 'log2'.\n",
      "\n",
      "\n",
      "/usr/local/lib/python3.7/dist-packages/sklearn/model_selection/_validation.py:536: FitFailedWarning:\n",
      "\n",
      "Estimator fit failed. The score on this train-test partition for these parameters will be set to nan. Details: \n",
      "ValueError: Invalid value for max_features. Allowed string values are 'auto', 'sqrt' or 'log2'.\n",
      "\n",
      "\n",
      "/usr/local/lib/python3.7/dist-packages/sklearn/model_selection/_validation.py:536: FitFailedWarning:\n",
      "\n",
      "Estimator fit failed. The score on this train-test partition for these parameters will be set to nan. Details: \n",
      "ValueError: Invalid value for max_features. Allowed string values are 'auto', 'sqrt' or 'log2'.\n",
      "\n",
      "\n"
     ]
    },
    {
     "name": "stdout",
     "output_type": "stream",
     "text": [
      "[CV]  criterion=gini, max_depth=107, max_features=, random_state=4, score=nan, total=   0.0s\n",
      "[CV] criterion=gini, max_depth=107, max_features=, random_state=4 ....\n",
      "[CV]  criterion=gini, max_depth=107, max_features=, random_state=4, score=nan, total=   0.0s\n",
      "[CV] criterion=gini, max_depth=107, max_features=, random_state=4 ....\n",
      "[CV]  criterion=gini, max_depth=107, max_features=, random_state=4, score=nan, total=   0.0s\n",
      "[CV] criterion=gini, max_depth=107, max_features=, random_state=4 ....\n",
      "[CV]  criterion=gini, max_depth=107, max_features=, random_state=4, score=nan, total=   0.0s\n",
      "[CV] criterion=gini, max_depth=107, max_features=, random_state=5 ....\n",
      "[CV]  criterion=gini, max_depth=107, max_features=, random_state=5, score=nan, total=   0.0s\n",
      "[CV] criterion=gini, max_depth=107, max_features=, random_state=5 ....\n",
      "[CV]  criterion=gini, max_depth=107, max_features=, random_state=5, score=nan, total=   0.0s\n",
      "[CV] criterion=gini, max_depth=107, max_features=, random_state=5 ....\n",
      "[CV]  criterion=gini, max_depth=107, max_features=, random_state=5, score=nan, total=   0.0s\n",
      "[CV] criterion=gini, max_depth=107, max_features=, random_state=5 ....\n",
      "[CV]  criterion=gini, max_depth=107, max_features=, random_state=5, score=nan, total=   0.0s\n",
      "[CV] criterion=gini, max_depth=107, max_features=, random_state=5 ....\n",
      "[CV]  criterion=gini, max_depth=107, max_features=, random_state=5, score=nan, total=   0.0s\n",
      "[CV] criterion=gini, max_depth=107, max_features=, random_state=6 ....\n",
      "[CV]  criterion=gini, max_depth=107, max_features=, random_state=6, score=nan, total=   0.0s\n",
      "[CV] criterion=gini, max_depth=107, max_features=, random_state=6 ....\n",
      "[CV]  criterion=gini, max_depth=107, max_features=, random_state=6, score=nan, total=   0.0s\n",
      "[CV] criterion=gini, max_depth=107, max_features=, random_state=6 ....\n",
      "[CV]  criterion=gini, max_depth=107, max_features=, random_state=6, score=nan, total=   0.0s\n",
      "[CV] criterion=gini, max_depth=107, max_features=, random_state=6 ....\n",
      "[CV]  criterion=gini, max_depth=107, max_features=, random_state=6, score=nan, total=   0.0s\n",
      "[CV] criterion=gini, max_depth=107, max_features=, random_state=6 ....\n",
      "[CV]  criterion=gini, max_depth=107, max_features=, random_state=6, score=nan, total=   0.0s\n",
      "[CV] criterion=gini, max_depth=107, max_features=, random_state=7 ....\n",
      "[CV]  criterion=gini, max_depth=107, max_features=, random_state=7, score=nan, total=   0.0s\n",
      "[CV] criterion=gini, max_depth=107, max_features=, random_state=7 ....\n",
      "[CV]  criterion=gini, max_depth=107, max_features=, random_state=7, score=nan, total=   0.0s\n",
      "[CV] criterion=gini, max_depth=107, max_features=, random_state=7 ....\n",
      "[CV]  criterion=gini, max_depth=107, max_features=, random_state=7, score=nan, total=   0.0s\n",
      "[CV] criterion=gini, max_depth=107, max_features=, random_state=7 ....\n",
      "[CV]  criterion=gini, max_depth=107, max_features=, random_state=7, score=nan, total=   0.0s\n",
      "[CV] criterion=gini, max_depth=107, max_features=, random_state=7 ....\n",
      "[CV]  criterion=gini, max_depth=107, max_features=, random_state=7, score=nan, total=   0.0s\n",
      "[CV] criterion=gini, max_depth=107, max_features=, random_state=8 ....\n",
      "[CV]  criterion=gini, max_depth=107, max_features=, random_state=8, score=nan, total=   0.0s\n",
      "[CV] criterion=gini, max_depth=107, max_features=, random_state=8 ....\n",
      "[CV]  criterion=gini, max_depth=107, max_features=, random_state=8, score=nan, total=   0.0s\n",
      "[CV] criterion=gini, max_depth=107, max_features=, random_state=8 ....\n",
      "[CV]  criterion=gini, max_depth=107, max_features=, random_state=8, score=nan, total=   0.0s\n",
      "[CV] criterion=gini, max_depth=107, max_features=, random_state=8 ....\n",
      "[CV]  criterion=gini, max_depth=107, max_features=, random_state=8, score=nan, total=   0.0s\n",
      "[CV] criterion=gini, max_depth=107, max_features=, random_state=8 ....\n",
      "[CV]  criterion=gini, max_depth=107, max_features=, random_state=8, score=nan, total=   0.0s\n",
      "[CV] criterion=gini, max_depth=107, max_features=, random_state=9 ....\n",
      "[CV]  criterion=gini, max_depth=107, max_features=, random_state=9, score=nan, total=   0.0s\n",
      "[CV] criterion=gini, max_depth=107, max_features=, random_state=9 ....\n",
      "[CV]  criterion=gini, max_depth=107, max_features=, random_state=9, score=nan, total=   0.0s\n",
      "[CV] criterion=gini, max_depth=107, max_features=, random_state=9 ....\n",
      "[CV]  criterion=gini, max_depth=107, max_features=, random_state=9, score=nan, total=   0.0s\n",
      "[CV] criterion=gini, max_depth=107, max_features=, random_state=9 ....\n",
      "[CV]  criterion=gini, max_depth=107, max_features=, random_state=9, score=nan, total=   0.0s\n",
      "[CV] criterion=gini, max_depth=107, max_features=, random_state=9 ....\n",
      "[CV]  criterion=gini, max_depth=107, max_features=, random_state=9, score=nan, total=   0.0s\n",
      "[CV] criterion=entropy, max_depth=107, max_features=auto, random_state=1 \n",
      "[CV]  criterion=entropy, max_depth=107, max_features=auto, random_state=1, score=0.552, total=   0.0s\n",
      "[CV] criterion=entropy, max_depth=107, max_features=auto, random_state=1 \n",
      "[CV]  criterion=entropy, max_depth=107, max_features=auto, random_state=1, score=0.550, total=   0.0s\n",
      "[CV] criterion=entropy, max_depth=107, max_features=auto, random_state=1 \n",
      "[CV]  criterion=entropy, max_depth=107, max_features=auto, random_state=1, score=0.382, total=   0.0s\n",
      "[CV] criterion=entropy, max_depth=107, max_features=auto, random_state=1 \n",
      "[CV]  criterion=entropy, max_depth=107, max_features=auto, random_state=1, score=0.504, total=   0.0s\n",
      "[CV] criterion=entropy, max_depth=107, max_features=auto, random_state=1 \n",
      "[CV]  criterion=entropy, max_depth=107, max_features=auto, random_state=1, score=0.539, total=   0.0s\n",
      "[CV] criterion=entropy, max_depth=107, max_features=auto, random_state=2 \n",
      "[CV]  criterion=entropy, max_depth=107, max_features=auto, random_state=2, score=0.512, total=   0.0s\n",
      "[CV] criterion=entropy, max_depth=107, max_features=auto, random_state=2 \n",
      "[CV]  criterion=entropy, max_depth=107, max_features=auto, random_state=2, score=0.376, total=   0.0s\n",
      "[CV] criterion=entropy, max_depth=107, max_features=auto, random_state=2 \n",
      "[CV]  criterion=entropy, max_depth=107, max_features=auto, random_state=2, score=0.388, total=   0.0s\n",
      "[CV] criterion=entropy, max_depth=107, max_features=auto, random_state=2 \n",
      "[CV]  criterion=entropy, max_depth=107, max_features=auto, random_state=2, score=0.556, total=   0.0s\n",
      "[CV] criterion=entropy, max_depth=107, max_features=auto, random_state=2 \n",
      "[CV]  criterion=entropy, max_depth=107, max_features=auto, random_state=2, score=0.557, total=   0.0s\n",
      "[CV] criterion=entropy, max_depth=107, max_features=auto, random_state=3 \n",
      "[CV]  criterion=entropy, max_depth=107, max_features=auto, random_state=3, score=0.526, total=   0.0s\n",
      "[CV] criterion=entropy, max_depth=107, max_features=auto, random_state=3 \n",
      "[CV]  criterion=entropy, max_depth=107, max_features=auto, random_state=3, score=0.546, total=   0.0s\n",
      "[CV] criterion=entropy, max_depth=107, max_features=auto, random_state=3 \n",
      "[CV]  criterion=entropy, max_depth=107, max_features=auto, random_state=3, score=0.532, total=   0.0s\n",
      "[CV] criterion=entropy, max_depth=107, max_features=auto, random_state=3 \n",
      "[CV]  criterion=entropy, max_depth=107, max_features=auto, random_state=3, score=0.534, total=   0.0s\n",
      "[CV] criterion=entropy, max_depth=107, max_features=auto, random_state=3 \n",
      "[CV]  criterion=entropy, max_depth=107, max_features=auto, random_state=3, score=0.531, total=   0.0s\n",
      "[CV] criterion=entropy, max_depth=107, max_features=auto, random_state=4 \n",
      "[CV]  criterion=entropy, max_depth=107, max_features=auto, random_state=4, score=0.538, total=   0.0s\n",
      "[CV] criterion=entropy, max_depth=107, max_features=auto, random_state=4 \n",
      "[CV]  criterion=entropy, max_depth=107, max_features=auto, random_state=4, score=0.558, total=   0.0s\n",
      "[CV] criterion=entropy, max_depth=107, max_features=auto, random_state=4 \n",
      "[CV]  criterion=entropy, max_depth=107, max_features=auto, random_state=4, score=0.548, total=   0.0s\n",
      "[CV] criterion=entropy, max_depth=107, max_features=auto, random_state=4 \n",
      "[CV]  criterion=entropy, max_depth=107, max_features=auto, random_state=4, score=0.582, total=   0.0s\n",
      "[CV] criterion=entropy, max_depth=107, max_features=auto, random_state=4 \n",
      "[CV]  criterion=entropy, max_depth=107, max_features=auto, random_state=4, score=0.549, total=   0.0s\n",
      "[CV] criterion=entropy, max_depth=107, max_features=auto, random_state=5 \n",
      "[CV]  criterion=entropy, max_depth=107, max_features=auto, random_state=5, score=0.506, total=   0.0s\n",
      "[CV] criterion=entropy, max_depth=107, max_features=auto, random_state=5 \n",
      "[CV]  criterion=entropy, max_depth=107, max_features=auto, random_state=5, score=0.472, total=   0.0s\n",
      "[CV] criterion=entropy, max_depth=107, max_features=auto, random_state=5 \n",
      "[CV]  criterion=entropy, max_depth=107, max_features=auto, random_state=5, score=0.492, total=   0.0s\n",
      "[CV] criterion=entropy, max_depth=107, max_features=auto, random_state=5 \n",
      "[CV]  criterion=entropy, max_depth=107, max_features=auto, random_state=5, score=0.542, total=   0.0s\n",
      "[CV] criterion=entropy, max_depth=107, max_features=auto, random_state=5 \n",
      "[CV]  criterion=entropy, max_depth=107, max_features=auto, random_state=5, score=0.531, total=   0.0s\n",
      "[CV] criterion=entropy, max_depth=107, max_features=auto, random_state=6 \n",
      "[CV]  criterion=entropy, max_depth=107, max_features=auto, random_state=6, score=0.504, total=   0.0s\n",
      "[CV] criterion=entropy, max_depth=107, max_features=auto, random_state=6 \n",
      "[CV]  criterion=entropy, max_depth=107, max_features=auto, random_state=6, score=0.576, total=   0.0s\n",
      "[CV] criterion=entropy, max_depth=107, max_features=auto, random_state=6 \n",
      "[CV]  criterion=entropy, max_depth=107, max_features=auto, random_state=6, score=0.532, total=   0.0s\n",
      "[CV] criterion=entropy, max_depth=107, max_features=auto, random_state=6 \n",
      "[CV]  criterion=entropy, max_depth=107, max_features=auto, random_state=6, score=0.532, total=   0.0s\n",
      "[CV] criterion=entropy, max_depth=107, max_features=auto, random_state=6 \n",
      "[CV]  criterion=entropy, max_depth=107, max_features=auto, random_state=6, score=0.557, total=   0.0s\n",
      "[CV] criterion=entropy, max_depth=107, max_features=auto, random_state=7 \n",
      "[CV]  criterion=entropy, max_depth=107, max_features=auto, random_state=7, score=0.528, total=   0.0s\n",
      "[CV] criterion=entropy, max_depth=107, max_features=auto, random_state=7 \n",
      "[CV]  criterion=entropy, max_depth=107, max_features=auto, random_state=7, score=0.542, total=   0.0s\n",
      "[CV] criterion=entropy, max_depth=107, max_features=auto, random_state=7 \n",
      "[CV]  criterion=entropy, max_depth=107, max_features=auto, random_state=7, score=0.496, total=   0.0s\n",
      "[CV] criterion=entropy, max_depth=107, max_features=auto, random_state=7 \n",
      "[CV]  criterion=entropy, max_depth=107, max_features=auto, random_state=7, score=0.576, total=   0.0s\n",
      "[CV] criterion=entropy, max_depth=107, max_features=auto, random_state=7 \n",
      "[CV]  criterion=entropy, max_depth=107, max_features=auto, random_state=7, score=0.545, total=   0.0s\n",
      "[CV] criterion=entropy, max_depth=107, max_features=auto, random_state=8 \n",
      "[CV]  criterion=entropy, max_depth=107, max_features=auto, random_state=8, score=0.546, total=   0.0s\n",
      "[CV] criterion=entropy, max_depth=107, max_features=auto, random_state=8 \n",
      "[CV]  criterion=entropy, max_depth=107, max_features=auto, random_state=8, score=0.544, total=   0.0s\n",
      "[CV] criterion=entropy, max_depth=107, max_features=auto, random_state=8 \n",
      "[CV]  criterion=entropy, max_depth=107, max_features=auto, random_state=8, score=0.572, total=   0.0s\n",
      "[CV] criterion=entropy, max_depth=107, max_features=auto, random_state=8 \n",
      "[CV]  criterion=entropy, max_depth=107, max_features=auto, random_state=8, score=0.560, total=   0.0s\n",
      "[CV] criterion=entropy, max_depth=107, max_features=auto, random_state=8 \n",
      "[CV]  criterion=entropy, max_depth=107, max_features=auto, random_state=8, score=0.559, total=   0.0s\n",
      "[CV] criterion=entropy, max_depth=107, max_features=auto, random_state=9 \n",
      "[CV]  criterion=entropy, max_depth=107, max_features=auto, random_state=9, score=0.554, total=   0.0s\n",
      "[CV] criterion=entropy, max_depth=107, max_features=auto, random_state=9 \n",
      "[CV]  criterion=entropy, max_depth=107, max_features=auto, random_state=9, score=0.534, total=   0.0s\n",
      "[CV] criterion=entropy, max_depth=107, max_features=auto, random_state=9 \n",
      "[CV]  criterion=entropy, max_depth=107, max_features=auto, random_state=9, score=0.552, total=   0.0s\n",
      "[CV] criterion=entropy, max_depth=107, max_features=auto, random_state=9 \n",
      "[CV]  criterion=entropy, max_depth=107, max_features=auto, random_state=9, score=0.568, total=   0.0s\n",
      "[CV] criterion=entropy, max_depth=107, max_features=auto, random_state=9 \n",
      "[CV]  criterion=entropy, max_depth=107, max_features=auto, random_state=9, score=0.553, total=   0.0s\n",
      "[CV] criterion=entropy, max_depth=107, max_features=sqrt, random_state=1 \n",
      "[CV]  criterion=entropy, max_depth=107, max_features=sqrt, random_state=1, score=0.552, total=   0.0s\n",
      "[CV] criterion=entropy, max_depth=107, max_features=sqrt, random_state=1 \n",
      "[CV]  criterion=entropy, max_depth=107, max_features=sqrt, random_state=1, score=0.550, total=   0.0s\n",
      "[CV] criterion=entropy, max_depth=107, max_features=sqrt, random_state=1 \n",
      "[CV]  criterion=entropy, max_depth=107, max_features=sqrt, random_state=1, score=0.382, total=   0.0s\n",
      "[CV] criterion=entropy, max_depth=107, max_features=sqrt, random_state=1 \n",
      "[CV]  criterion=entropy, max_depth=107, max_features=sqrt, random_state=1, score=0.504, total=   0.0s\n",
      "[CV] criterion=entropy, max_depth=107, max_features=sqrt, random_state=1 \n",
      "[CV]  criterion=entropy, max_depth=107, max_features=sqrt, random_state=1, score=0.539, total=   0.0s\n",
      "[CV] criterion=entropy, max_depth=107, max_features=sqrt, random_state=2 \n",
      "[CV]  criterion=entropy, max_depth=107, max_features=sqrt, random_state=2, score=0.512, total=   0.0s\n",
      "[CV] criterion=entropy, max_depth=107, max_features=sqrt, random_state=2 \n",
      "[CV]  criterion=entropy, max_depth=107, max_features=sqrt, random_state=2, score=0.376, total=   0.0s\n",
      "[CV] criterion=entropy, max_depth=107, max_features=sqrt, random_state=2 \n",
      "[CV]  criterion=entropy, max_depth=107, max_features=sqrt, random_state=2, score=0.388, total=   0.0s\n",
      "[CV] criterion=entropy, max_depth=107, max_features=sqrt, random_state=2 \n",
      "[CV]  criterion=entropy, max_depth=107, max_features=sqrt, random_state=2, score=0.556, total=   0.0s\n",
      "[CV] criterion=entropy, max_depth=107, max_features=sqrt, random_state=2 \n",
      "[CV]  criterion=entropy, max_depth=107, max_features=sqrt, random_state=2, score=0.557, total=   0.0s\n",
      "[CV] criterion=entropy, max_depth=107, max_features=sqrt, random_state=3 \n",
      "[CV]  criterion=entropy, max_depth=107, max_features=sqrt, random_state=3, score=0.526, total=   0.0s\n",
      "[CV] criterion=entropy, max_depth=107, max_features=sqrt, random_state=3 \n",
      "[CV]  criterion=entropy, max_depth=107, max_features=sqrt, random_state=3, score=0.546, total=   0.0s\n",
      "[CV] criterion=entropy, max_depth=107, max_features=sqrt, random_state=3 \n",
      "[CV]  criterion=entropy, max_depth=107, max_features=sqrt, random_state=3, score=0.532, total=   0.0s\n",
      "[CV] criterion=entropy, max_depth=107, max_features=sqrt, random_state=3 \n",
      "[CV]  criterion=entropy, max_depth=107, max_features=sqrt, random_state=3, score=0.534, total=   0.0s\n",
      "[CV] criterion=entropy, max_depth=107, max_features=sqrt, random_state=3 \n",
      "[CV]  criterion=entropy, max_depth=107, max_features=sqrt, random_state=3, score=0.531, total=   0.0s\n",
      "[CV] criterion=entropy, max_depth=107, max_features=sqrt, random_state=4 \n",
      "[CV]  criterion=entropy, max_depth=107, max_features=sqrt, random_state=4, score=0.538, total=   0.0s\n",
      "[CV] criterion=entropy, max_depth=107, max_features=sqrt, random_state=4 \n",
      "[CV]  criterion=entropy, max_depth=107, max_features=sqrt, random_state=4, score=0.558, total=   0.0s\n",
      "[CV] criterion=entropy, max_depth=107, max_features=sqrt, random_state=4 \n",
      "[CV]  criterion=entropy, max_depth=107, max_features=sqrt, random_state=4, score=0.548, total=   0.0s\n",
      "[CV] criterion=entropy, max_depth=107, max_features=sqrt, random_state=4 \n",
      "[CV]  criterion=entropy, max_depth=107, max_features=sqrt, random_state=4, score=0.582, total=   0.0s\n",
      "[CV] criterion=entropy, max_depth=107, max_features=sqrt, random_state=4 \n",
      "[CV]  criterion=entropy, max_depth=107, max_features=sqrt, random_state=4, score=0.549, total=   0.0s\n",
      "[CV] criterion=entropy, max_depth=107, max_features=sqrt, random_state=5 \n",
      "[CV]  criterion=entropy, max_depth=107, max_features=sqrt, random_state=5, score=0.506, total=   0.0s\n",
      "[CV] criterion=entropy, max_depth=107, max_features=sqrt, random_state=5 \n",
      "[CV]  criterion=entropy, max_depth=107, max_features=sqrt, random_state=5, score=0.472, total=   0.0s\n",
      "[CV] criterion=entropy, max_depth=107, max_features=sqrt, random_state=5 \n",
      "[CV]  criterion=entropy, max_depth=107, max_features=sqrt, random_state=5, score=0.492, total=   0.0s\n",
      "[CV] criterion=entropy, max_depth=107, max_features=sqrt, random_state=5 \n",
      "[CV]  criterion=entropy, max_depth=107, max_features=sqrt, random_state=5, score=0.542, total=   0.0s\n",
      "[CV] criterion=entropy, max_depth=107, max_features=sqrt, random_state=5 \n",
      "[CV]  criterion=entropy, max_depth=107, max_features=sqrt, random_state=5, score=0.531, total=   0.0s\n",
      "[CV] criterion=entropy, max_depth=107, max_features=sqrt, random_state=6 \n",
      "[CV]  criterion=entropy, max_depth=107, max_features=sqrt, random_state=6, score=0.504, total=   0.0s\n",
      "[CV] criterion=entropy, max_depth=107, max_features=sqrt, random_state=6 \n",
      "[CV]  criterion=entropy, max_depth=107, max_features=sqrt, random_state=6, score=0.576, total=   0.0s\n",
      "[CV] criterion=entropy, max_depth=107, max_features=sqrt, random_state=6 \n",
      "[CV]  criterion=entropy, max_depth=107, max_features=sqrt, random_state=6, score=0.532, total=   0.0s\n",
      "[CV] criterion=entropy, max_depth=107, max_features=sqrt, random_state=6 \n",
      "[CV]  criterion=entropy, max_depth=107, max_features=sqrt, random_state=6, score=0.532, total=   0.0s\n",
      "[CV] criterion=entropy, max_depth=107, max_features=sqrt, random_state=6 \n",
      "[CV]  criterion=entropy, max_depth=107, max_features=sqrt, random_state=6, score=0.557, total=   0.0s\n",
      "[CV] criterion=entropy, max_depth=107, max_features=sqrt, random_state=7 \n",
      "[CV]  criterion=entropy, max_depth=107, max_features=sqrt, random_state=7, score=0.528, total=   0.0s\n",
      "[CV] criterion=entropy, max_depth=107, max_features=sqrt, random_state=7 \n",
      "[CV]  criterion=entropy, max_depth=107, max_features=sqrt, random_state=7, score=0.542, total=   0.0s\n",
      "[CV] criterion=entropy, max_depth=107, max_features=sqrt, random_state=7 \n",
      "[CV]  criterion=entropy, max_depth=107, max_features=sqrt, random_state=7, score=0.496, total=   0.0s\n",
      "[CV] criterion=entropy, max_depth=107, max_features=sqrt, random_state=7 \n",
      "[CV]  criterion=entropy, max_depth=107, max_features=sqrt, random_state=7, score=0.576, total=   0.0s\n",
      "[CV] criterion=entropy, max_depth=107, max_features=sqrt, random_state=7 \n",
      "[CV]  criterion=entropy, max_depth=107, max_features=sqrt, random_state=7, score=0.545, total=   0.0s\n",
      "[CV] criterion=entropy, max_depth=107, max_features=sqrt, random_state=8 \n",
      "[CV]  criterion=entropy, max_depth=107, max_features=sqrt, random_state=8, score=0.546, total=   0.0s\n",
      "[CV] criterion=entropy, max_depth=107, max_features=sqrt, random_state=8 \n",
      "[CV]  criterion=entropy, max_depth=107, max_features=sqrt, random_state=8, score=0.544, total=   0.0s\n",
      "[CV] criterion=entropy, max_depth=107, max_features=sqrt, random_state=8 \n",
      "[CV]  criterion=entropy, max_depth=107, max_features=sqrt, random_state=8, score=0.572, total=   0.0s\n",
      "[CV] criterion=entropy, max_depth=107, max_features=sqrt, random_state=8 \n",
      "[CV]  criterion=entropy, max_depth=107, max_features=sqrt, random_state=8, score=0.560, total=   0.0s\n",
      "[CV] criterion=entropy, max_depth=107, max_features=sqrt, random_state=8 \n",
      "[CV]  criterion=entropy, max_depth=107, max_features=sqrt, random_state=8, score=0.559, total=   0.0s\n",
      "[CV] criterion=entropy, max_depth=107, max_features=sqrt, random_state=9 \n",
      "[CV]  criterion=entropy, max_depth=107, max_features=sqrt, random_state=9, score=0.554, total=   0.0s\n",
      "[CV] criterion=entropy, max_depth=107, max_features=sqrt, random_state=9 \n",
      "[CV]  criterion=entropy, max_depth=107, max_features=sqrt, random_state=9, score=0.534, total=   0.0s\n",
      "[CV] criterion=entropy, max_depth=107, max_features=sqrt, random_state=9 \n",
      "[CV]  criterion=entropy, max_depth=107, max_features=sqrt, random_state=9, score=0.552, total=   0.0s\n",
      "[CV] criterion=entropy, max_depth=107, max_features=sqrt, random_state=9 \n",
      "[CV]  criterion=entropy, max_depth=107, max_features=sqrt, random_state=9, score=0.568, total=   0.0s\n",
      "[CV] criterion=entropy, max_depth=107, max_features=sqrt, random_state=9 \n",
      "[CV]  criterion=entropy, max_depth=107, max_features=sqrt, random_state=9, score=0.553, total=   0.0s\n",
      "[CV] criterion=entropy, max_depth=107, max_features=log2, random_state=1 \n",
      "[CV]  criterion=entropy, max_depth=107, max_features=log2, random_state=1, score=0.552, total=   0.0s\n",
      "[CV] criterion=entropy, max_depth=107, max_features=log2, random_state=1 \n",
      "[CV]  criterion=entropy, max_depth=107, max_features=log2, random_state=1, score=0.550, total=   0.0s\n",
      "[CV] criterion=entropy, max_depth=107, max_features=log2, random_state=1 \n",
      "[CV]  criterion=entropy, max_depth=107, max_features=log2, random_state=1, score=0.382, total=   0.0s\n",
      "[CV] criterion=entropy, max_depth=107, max_features=log2, random_state=1 \n",
      "[CV]  criterion=entropy, max_depth=107, max_features=log2, random_state=1, score=0.504, total=   0.0s\n",
      "[CV] criterion=entropy, max_depth=107, max_features=log2, random_state=1 \n",
      "[CV]  criterion=entropy, max_depth=107, max_features=log2, random_state=1, score=0.539, total=   0.0s\n",
      "[CV] criterion=entropy, max_depth=107, max_features=log2, random_state=2 \n",
      "[CV]  criterion=entropy, max_depth=107, max_features=log2, random_state=2, score=0.512, total=   0.0s\n",
      "[CV] criterion=entropy, max_depth=107, max_features=log2, random_state=2 \n",
      "[CV]  criterion=entropy, max_depth=107, max_features=log2, random_state=2, score=0.376, total=   0.0s\n",
      "[CV] criterion=entropy, max_depth=107, max_features=log2, random_state=2 \n",
      "[CV]  criterion=entropy, max_depth=107, max_features=log2, random_state=2, score=0.388, total=   0.0s\n",
      "[CV] criterion=entropy, max_depth=107, max_features=log2, random_state=2 \n",
      "[CV]  criterion=entropy, max_depth=107, max_features=log2, random_state=2, score=0.556, total=   0.0s\n",
      "[CV] criterion=entropy, max_depth=107, max_features=log2, random_state=2 \n",
      "[CV]  criterion=entropy, max_depth=107, max_features=log2, random_state=2, score=0.557, total=   0.0s\n",
      "[CV] criterion=entropy, max_depth=107, max_features=log2, random_state=3 \n",
      "[CV]  criterion=entropy, max_depth=107, max_features=log2, random_state=3, score=0.526, total=   0.0s\n",
      "[CV] criterion=entropy, max_depth=107, max_features=log2, random_state=3 \n",
      "[CV]  criterion=entropy, max_depth=107, max_features=log2, random_state=3, score=0.546, total=   0.0s\n",
      "[CV] criterion=entropy, max_depth=107, max_features=log2, random_state=3 \n",
      "[CV]  criterion=entropy, max_depth=107, max_features=log2, random_state=3, score=0.532, total=   0.0s\n",
      "[CV] criterion=entropy, max_depth=107, max_features=log2, random_state=3 \n",
      "[CV]  criterion=entropy, max_depth=107, max_features=log2, random_state=3, score=0.534, total=   0.0s\n",
      "[CV] criterion=entropy, max_depth=107, max_features=log2, random_state=3 \n",
      "[CV]  criterion=entropy, max_depth=107, max_features=log2, random_state=3, score=0.531, total=   0.0s\n",
      "[CV] criterion=entropy, max_depth=107, max_features=log2, random_state=4 \n",
      "[CV]  criterion=entropy, max_depth=107, max_features=log2, random_state=4, score=0.538, total=   0.0s\n",
      "[CV] criterion=entropy, max_depth=107, max_features=log2, random_state=4 \n",
      "[CV]  criterion=entropy, max_depth=107, max_features=log2, random_state=4, score=0.558, total=   0.0s\n",
      "[CV] criterion=entropy, max_depth=107, max_features=log2, random_state=4 \n",
      "[CV]  criterion=entropy, max_depth=107, max_features=log2, random_state=4, score=0.548, total=   0.0s\n",
      "[CV] criterion=entropy, max_depth=107, max_features=log2, random_state=4 \n",
      "[CV]  criterion=entropy, max_depth=107, max_features=log2, random_state=4, score=0.582, total=   0.0s\n",
      "[CV] criterion=entropy, max_depth=107, max_features=log2, random_state=4 \n",
      "[CV]  criterion=entropy, max_depth=107, max_features=log2, random_state=4, score=0.549, total=   0.0s\n",
      "[CV] criterion=entropy, max_depth=107, max_features=log2, random_state=5 \n",
      "[CV]  criterion=entropy, max_depth=107, max_features=log2, random_state=5, score=0.506, total=   0.0s\n",
      "[CV] criterion=entropy, max_depth=107, max_features=log2, random_state=5 \n",
      "[CV]  criterion=entropy, max_depth=107, max_features=log2, random_state=5, score=0.472, total=   0.0s\n",
      "[CV] criterion=entropy, max_depth=107, max_features=log2, random_state=5 \n",
      "[CV]  criterion=entropy, max_depth=107, max_features=log2, random_state=5, score=0.492, total=   0.0s\n",
      "[CV] criterion=entropy, max_depth=107, max_features=log2, random_state=5 \n",
      "[CV]  criterion=entropy, max_depth=107, max_features=log2, random_state=5, score=0.542, total=   0.0s\n",
      "[CV] criterion=entropy, max_depth=107, max_features=log2, random_state=5 \n",
      "[CV]  criterion=entropy, max_depth=107, max_features=log2, random_state=5, score=0.531, total=   0.0s\n",
      "[CV] criterion=entropy, max_depth=107, max_features=log2, random_state=6 \n",
      "[CV]  criterion=entropy, max_depth=107, max_features=log2, random_state=6, score=0.504, total=   0.0s\n",
      "[CV] criterion=entropy, max_depth=107, max_features=log2, random_state=6 \n",
      "[CV]  criterion=entropy, max_depth=107, max_features=log2, random_state=6, score=0.576, total=   0.0s\n",
      "[CV] criterion=entropy, max_depth=107, max_features=log2, random_state=6 \n",
      "[CV]  criterion=entropy, max_depth=107, max_features=log2, random_state=6, score=0.532, total=   0.0s\n",
      "[CV] criterion=entropy, max_depth=107, max_features=log2, random_state=6 \n",
      "[CV]  criterion=entropy, max_depth=107, max_features=log2, random_state=6, score=0.532, total=   0.0s\n",
      "[CV] criterion=entropy, max_depth=107, max_features=log2, random_state=6 \n",
      "[CV]  criterion=entropy, max_depth=107, max_features=log2, random_state=6, score=0.557, total=   0.0s\n",
      "[CV] criterion=entropy, max_depth=107, max_features=log2, random_state=7 \n",
      "[CV]  criterion=entropy, max_depth=107, max_features=log2, random_state=7, score=0.528, total=   0.0s\n",
      "[CV] criterion=entropy, max_depth=107, max_features=log2, random_state=7 \n",
      "[CV]  criterion=entropy, max_depth=107, max_features=log2, random_state=7, score=0.542, total=   0.0s\n",
      "[CV] criterion=entropy, max_depth=107, max_features=log2, random_state=7 \n",
      "[CV]  criterion=entropy, max_depth=107, max_features=log2, random_state=7, score=0.496, total=   0.0s\n",
      "[CV] criterion=entropy, max_depth=107, max_features=log2, random_state=7 \n",
      "[CV]  criterion=entropy, max_depth=107, max_features=log2, random_state=7, score=0.576, total=   0.0s\n",
      "[CV] criterion=entropy, max_depth=107, max_features=log2, random_state=7 \n",
      "[CV]  criterion=entropy, max_depth=107, max_features=log2, random_state=7, score=0.545, total=   0.0s\n",
      "[CV] criterion=entropy, max_depth=107, max_features=log2, random_state=8 \n",
      "[CV]  criterion=entropy, max_depth=107, max_features=log2, random_state=8, score=0.546, total=   0.0s\n",
      "[CV] criterion=entropy, max_depth=107, max_features=log2, random_state=8 \n",
      "[CV]  criterion=entropy, max_depth=107, max_features=log2, random_state=8, score=0.544, total=   0.0s\n",
      "[CV] criterion=entropy, max_depth=107, max_features=log2, random_state=8 \n",
      "[CV]  criterion=entropy, max_depth=107, max_features=log2, random_state=8, score=0.572, total=   0.0s\n",
      "[CV] criterion=entropy, max_depth=107, max_features=log2, random_state=8 \n",
      "[CV]  criterion=entropy, max_depth=107, max_features=log2, random_state=8, score=0.560, total=   0.0s\n",
      "[CV] criterion=entropy, max_depth=107, max_features=log2, random_state=8 \n",
      "[CV]  criterion=entropy, max_depth=107, max_features=log2, random_state=8, score=0.559, total=   0.0s\n",
      "[CV] criterion=entropy, max_depth=107, max_features=log2, random_state=9 \n",
      "[CV]  criterion=entropy, max_depth=107, max_features=log2, random_state=9, score=0.554, total=   0.0s\n",
      "[CV] criterion=entropy, max_depth=107, max_features=log2, random_state=9 \n",
      "[CV]  criterion=entropy, max_depth=107, max_features=log2, random_state=9, score=0.534, total=   0.0s\n",
      "[CV] criterion=entropy, max_depth=107, max_features=log2, random_state=9 \n",
      "[CV]  criterion=entropy, max_depth=107, max_features=log2, random_state=9, score=0.552, total=   0.0s\n",
      "[CV] criterion=entropy, max_depth=107, max_features=log2, random_state=9 \n",
      "[CV]  criterion=entropy, max_depth=107, max_features=log2, random_state=9, score=0.568, total=   0.0s\n",
      "[CV] criterion=entropy, max_depth=107, max_features=log2, random_state=9 \n",
      "[CV]  criterion=entropy, max_depth=107, max_features=log2, random_state=9, score=0.553, total=   0.0s\n",
      "[CV] criterion=entropy, max_depth=107, max_features=, random_state=1 .\n",
      "[CV]  criterion=entropy, max_depth=107, max_features=, random_state=1, score=nan, total=   0.0s\n",
      "[CV] criterion=entropy, max_depth=107, max_features=, random_state=1 .\n",
      "[CV]  criterion=entropy, max_depth=107, max_features=, random_state=1, score=nan, total=   0.0s\n",
      "[CV] criterion=entropy, max_depth=107, max_features=, random_state=1 .\n",
      "[CV]  criterion=entropy, max_depth=107, max_features=, random_state=1, score=nan, total=   0.0s\n",
      "[CV] criterion=entropy, max_depth=107, max_features=, random_state=1 .\n",
      "[CV]  criterion=entropy, max_depth=107, max_features=, random_state=1, score=nan, total=   0.0s\n",
      "[CV] criterion=entropy, max_depth=107, max_features=, random_state=1 .\n",
      "[CV]  criterion=entropy, max_depth=107, max_features=, random_state=1, score=nan, total=   0.0s\n",
      "[CV] criterion=entropy, max_depth=107, max_features=, random_state=2 .\n",
      "[CV]  criterion=entropy, max_depth=107, max_features=, random_state=2, score=nan, total=   0.0s\n",
      "[CV] criterion=entropy, max_depth=107, max_features=, random_state=2 .\n",
      "[CV]  criterion=entropy, max_depth=107, max_features=, random_state=2, score=nan, total=   0.0s\n",
      "[CV] criterion=entropy, max_depth=107, max_features=, random_state=2 .\n",
      "[CV]  criterion=entropy, max_depth=107, max_features=, random_state=2, score=nan, total=   0.0s\n",
      "[CV] criterion=entropy, max_depth=107, max_features=, random_state=2 .\n",
      "[CV]  criterion=entropy, max_depth=107, max_features=, random_state=2, score=nan, total=   0.0s\n",
      "[CV] criterion=entropy, max_depth=107, max_features=, random_state=2 .\n",
      "[CV]  criterion=entropy, max_depth=107, max_features=, random_state=2, score=nan, total=   0.0s\n",
      "[CV] criterion=entropy, max_depth=107, max_features=, random_state=3 .\n",
      "[CV]  criterion=entropy, max_depth=107, max_features=, random_state=3, score=nan, total=   0.0s\n",
      "[CV] criterion=entropy, max_depth=107, max_features=, random_state=3 .\n",
      "[CV]  criterion=entropy, max_depth=107, max_features=, random_state=3, score=nan, total=   0.0s\n",
      "[CV] criterion=entropy, max_depth=107, max_features=, random_state=3 .\n",
      "[CV]  criterion=entropy, max_depth=107, max_features=, random_state=3, score=nan, total=   0.0s\n",
      "[CV] criterion=entropy, max_depth=107, max_features=, random_state=3 .\n",
      "[CV]  criterion=entropy, max_depth=107, max_features=, random_state=3, score=nan, total=   0.0s\n",
      "[CV] criterion=entropy, max_depth=107, max_features=, random_state=3 .\n",
      "[CV]  criterion=entropy, max_depth=107, max_features=, random_state=3, score=nan, total=   0.0s\n",
      "[CV] criterion=entropy, max_depth=107, max_features=, random_state=4 .\n",
      "[CV]  criterion=entropy, max_depth=107, max_features=, random_state=4, score=nan, total=   0.0s\n",
      "[CV] criterion=entropy, max_depth=107, max_features=, random_state=4 .\n",
      "[CV]  criterion=entropy, max_depth=107, max_features=, random_state=4, score=nan, total=   0.0s\n",
      "[CV] criterion=entropy, max_depth=107, max_features=, random_state=4 .\n",
      "[CV]  criterion=entropy, max_depth=107, max_features=, random_state=4, score=nan, total=   0.0s\n",
      "[CV] criterion=entropy, max_depth=107, max_features=, random_state=4 .\n",
      "[CV]  criterion=entropy, max_depth=107, max_features=, random_state=4, score=nan, total=   0.0s\n",
      "[CV] criterion=entropy, max_depth=107, max_features=, random_state=4 .\n",
      "[CV]  criterion=entropy, max_depth=107, max_features=, random_state=4, score=nan, total=   0.0s\n",
      "[CV] criterion=entropy, max_depth=107, max_features=, random_state=5 .\n",
      "[CV]  criterion=entropy, max_depth=107, max_features=, random_state=5, score=nan, total=   0.0s\n",
      "[CV] criterion=entropy, max_depth=107, max_features=, random_state=5 .\n",
      "[CV]  criterion=entropy, max_depth=107, max_features=, random_state=5, score=nan, total=   0.0s\n",
      "[CV] criterion=entropy, max_depth=107, max_features=, random_state=5 .\n",
      "[CV]  criterion=entropy, max_depth=107, max_features=, random_state=5, score=nan, total=   0.0s\n",
      "[CV] criterion=entropy, max_depth=107, max_features=, random_state=5 .\n",
      "[CV]  criterion=entropy, max_depth=107, max_features=, random_state=5, score=nan, total=   0.0s\n",
      "[CV] criterion=entropy, max_depth=107, max_features=, random_state=5 .\n",
      "[CV]  criterion=entropy, max_depth=107, max_features=, random_state=5, score=nan, total=   0.0s\n",
      "[CV] criterion=entropy, max_depth=107, max_features=, random_state=6 .\n",
      "[CV]  criterion=entropy, max_depth=107, max_features=, random_state=6, score=nan, total=   0.0s\n",
      "[CV] criterion=entropy, max_depth=107, max_features=, random_state=6 .\n",
      "[CV]  criterion=entropy, max_depth=107, max_features=, random_state=6, score=nan, total=   0.0s\n",
      "[CV] criterion=entropy, max_depth=107, max_features=, random_state=6 .\n",
      "[CV]  criterion=entropy, max_depth=107, max_features=, random_state=6, score=nan, total=   0.0s\n",
      "[CV] criterion=entropy, max_depth=107, max_features=, random_state=6 .\n",
      "[CV]  criterion=entropy, max_depth=107, max_features=, random_state=6, score=nan, total=   0.0s\n",
      "[CV] criterion=entropy, max_depth=107, max_features=, random_state=6 .\n",
      "[CV]  criterion=entropy, max_depth=107, max_features=, random_state=6, score=nan, total=   0.0s\n",
      "[CV] criterion=entropy, max_depth=107, max_features=, random_state=7 .\n",
      "[CV]  criterion=entropy, max_depth=107, max_features=, random_state=7, score=nan, total=   0.0s\n",
      "[CV] criterion=entropy, max_depth=107, max_features=, random_state=7 .\n",
      "[CV]  criterion=entropy, max_depth=107, max_features=, random_state=7, score=nan, total=   0.0s\n",
      "[CV] criterion=entropy, max_depth=107, max_features=, random_state=7 .\n",
      "[CV]  criterion=entropy, max_depth=107, max_features=, random_state=7, score=nan, total=   0.0s\n",
      "[CV] criterion=entropy, max_depth=107, max_features=, random_state=7 .\n",
      "[CV]  criterion=entropy, max_depth=107, max_features=, random_state=7, score=nan, total=   0.0s\n",
      "[CV] criterion=entropy, max_depth=107, max_features=, random_state=7 .\n",
      "[CV]  criterion=entropy, max_depth=107, max_features=, random_state=7, score=nan, total=   0.0s\n",
      "[CV] criterion=entropy, max_depth=107, max_features=, random_state=8 .\n",
      "[CV]  criterion=entropy, max_depth=107, max_features=, random_state=8, score=nan, total=   0.0s\n",
      "[CV] criterion=entropy, max_depth=107, max_features=, random_state=8 .\n",
      "[CV]  criterion=entropy, max_depth=107, max_features=, random_state=8, score=nan, total=   0.0s\n",
      "[CV] criterion=entropy, max_depth=107, max_features=, random_state=8 .\n",
      "[CV]  criterion=entropy, max_depth=107, max_features=, random_state=8, score=nan, total=   0.0s\n",
      "[CV] criterion=entropy, max_depth=107, max_features=, random_state=8 .\n",
      "[CV]  criterion=entropy, max_depth=107, max_features=, random_state=8, score=nan, total=   0.0s\n",
      "[CV] criterion=entropy, max_depth=107, max_features=, random_state=8 .\n",
      "[CV]  criterion=entropy, max_depth=107, max_features=, random_state=8, score=nan, total=   0.0s\n",
      "[CV] criterion=entropy, max_depth=107, max_features=, random_state=9 .\n",
      "[CV]  criterion=entropy, max_depth=107, max_features=, random_state=9, score=nan, total=   0.0s\n",
      "[CV] criterion=entropy, max_depth=107, max_features=, random_state=9 .\n",
      "[CV]  criterion=entropy, max_depth=107, max_features=, random_state=9, score=nan, total=   0.0s\n",
      "[CV] criterion=entropy, max_depth=107, max_features=, random_state=9 .\n",
      "[CV]  criterion=entropy, max_depth=107, max_features=, random_state=9, score=nan, total=   0.0s\n",
      "[CV] criterion=entropy, max_depth=107, max_features=, random_state=9 .\n",
      "[CV]  criterion=entropy, max_depth=107, max_features=, random_state=9, score=nan, total=   0.0s\n",
      "[CV] criterion=entropy, max_depth=107, max_features=, random_state=9 .\n",
      "[CV]  criterion=entropy, max_depth=107, max_features=, random_state=9, score=nan, total=   0.0s\n",
      "0.5562236472945892\n",
      "{'ccp_alpha': 0.0, 'class_weight': None, 'criterion': 'entropy', 'max_depth': 107, 'max_features': 'auto', 'max_leaf_nodes': None, 'min_impurity_decrease': 0.0, 'min_impurity_split': None, 'min_samples_leaf': 1, 'min_samples_split': 2, 'min_weight_fraction_leaf': 0.0, 'presort': 'deprecated', 'random_state': 8, 'splitter': 'best'}\n"
     ]
    },
    {
     "name": "stderr",
     "output_type": "stream",
     "text": [
      "/usr/local/lib/python3.7/dist-packages/sklearn/model_selection/_validation.py:536: FitFailedWarning:\n",
      "\n",
      "Estimator fit failed. The score on this train-test partition for these parameters will be set to nan. Details: \n",
      "ValueError: Invalid value for max_features. Allowed string values are 'auto', 'sqrt' or 'log2'.\n",
      "\n",
      "\n",
      "/usr/local/lib/python3.7/dist-packages/sklearn/model_selection/_validation.py:536: FitFailedWarning:\n",
      "\n",
      "Estimator fit failed. The score on this train-test partition for these parameters will be set to nan. Details: \n",
      "ValueError: Invalid value for max_features. Allowed string values are 'auto', 'sqrt' or 'log2'.\n",
      "\n",
      "\n",
      "/usr/local/lib/python3.7/dist-packages/sklearn/model_selection/_validation.py:536: FitFailedWarning:\n",
      "\n",
      "Estimator fit failed. The score on this train-test partition for these parameters will be set to nan. Details: \n",
      "ValueError: Invalid value for max_features. Allowed string values are 'auto', 'sqrt' or 'log2'.\n",
      "\n",
      "\n",
      "/usr/local/lib/python3.7/dist-packages/sklearn/model_selection/_validation.py:536: FitFailedWarning:\n",
      "\n",
      "Estimator fit failed. The score on this train-test partition for these parameters will be set to nan. Details: \n",
      "ValueError: Invalid value for max_features. Allowed string values are 'auto', 'sqrt' or 'log2'.\n",
      "\n",
      "\n",
      "/usr/local/lib/python3.7/dist-packages/sklearn/model_selection/_validation.py:536: FitFailedWarning:\n",
      "\n",
      "Estimator fit failed. The score on this train-test partition for these parameters will be set to nan. Details: \n",
      "ValueError: Invalid value for max_features. Allowed string values are 'auto', 'sqrt' or 'log2'.\n",
      "\n",
      "\n",
      "/usr/local/lib/python3.7/dist-packages/sklearn/model_selection/_validation.py:536: FitFailedWarning:\n",
      "\n",
      "Estimator fit failed. The score on this train-test partition for these parameters will be set to nan. Details: \n",
      "ValueError: Invalid value for max_features. Allowed string values are 'auto', 'sqrt' or 'log2'.\n",
      "\n",
      "\n",
      "/usr/local/lib/python3.7/dist-packages/sklearn/model_selection/_validation.py:536: FitFailedWarning:\n",
      "\n",
      "Estimator fit failed. The score on this train-test partition for these parameters will be set to nan. Details: \n",
      "ValueError: Invalid value for max_features. Allowed string values are 'auto', 'sqrt' or 'log2'.\n",
      "\n",
      "\n",
      "/usr/local/lib/python3.7/dist-packages/sklearn/model_selection/_validation.py:536: FitFailedWarning:\n",
      "\n",
      "Estimator fit failed. The score on this train-test partition for these parameters will be set to nan. Details: \n",
      "ValueError: Invalid value for max_features. Allowed string values are 'auto', 'sqrt' or 'log2'.\n",
      "\n",
      "\n",
      "/usr/local/lib/python3.7/dist-packages/sklearn/model_selection/_validation.py:536: FitFailedWarning:\n",
      "\n",
      "Estimator fit failed. The score on this train-test partition for these parameters will be set to nan. Details: \n",
      "ValueError: Invalid value for max_features. Allowed string values are 'auto', 'sqrt' or 'log2'.\n",
      "\n",
      "\n",
      "/usr/local/lib/python3.7/dist-packages/sklearn/model_selection/_validation.py:536: FitFailedWarning:\n",
      "\n",
      "Estimator fit failed. The score on this train-test partition for these parameters will be set to nan. Details: \n",
      "ValueError: Invalid value for max_features. Allowed string values are 'auto', 'sqrt' or 'log2'.\n",
      "\n",
      "\n",
      "/usr/local/lib/python3.7/dist-packages/sklearn/model_selection/_validation.py:536: FitFailedWarning:\n",
      "\n",
      "Estimator fit failed. The score on this train-test partition for these parameters will be set to nan. Details: \n",
      "ValueError: Invalid value for max_features. Allowed string values are 'auto', 'sqrt' or 'log2'.\n",
      "\n",
      "\n",
      "/usr/local/lib/python3.7/dist-packages/sklearn/model_selection/_validation.py:536: FitFailedWarning:\n",
      "\n",
      "Estimator fit failed. The score on this train-test partition for these parameters will be set to nan. Details: \n",
      "ValueError: Invalid value for max_features. Allowed string values are 'auto', 'sqrt' or 'log2'.\n",
      "\n",
      "\n",
      "/usr/local/lib/python3.7/dist-packages/sklearn/model_selection/_validation.py:536: FitFailedWarning:\n",
      "\n",
      "Estimator fit failed. The score on this train-test partition for these parameters will be set to nan. Details: \n",
      "ValueError: Invalid value for max_features. Allowed string values are 'auto', 'sqrt' or 'log2'.\n",
      "\n",
      "\n",
      "/usr/local/lib/python3.7/dist-packages/sklearn/model_selection/_validation.py:536: FitFailedWarning:\n",
      "\n",
      "Estimator fit failed. The score on this train-test partition for these parameters will be set to nan. Details: \n",
      "ValueError: Invalid value for max_features. Allowed string values are 'auto', 'sqrt' or 'log2'.\n",
      "\n",
      "\n",
      "/usr/local/lib/python3.7/dist-packages/sklearn/model_selection/_validation.py:536: FitFailedWarning:\n",
      "\n",
      "Estimator fit failed. The score on this train-test partition for these parameters will be set to nan. Details: \n",
      "ValueError: Invalid value for max_features. Allowed string values are 'auto', 'sqrt' or 'log2'.\n",
      "\n",
      "\n",
      "/usr/local/lib/python3.7/dist-packages/sklearn/model_selection/_validation.py:536: FitFailedWarning:\n",
      "\n",
      "Estimator fit failed. The score on this train-test partition for these parameters will be set to nan. Details: \n",
      "ValueError: Invalid value for max_features. Allowed string values are 'auto', 'sqrt' or 'log2'.\n",
      "\n",
      "\n",
      "/usr/local/lib/python3.7/dist-packages/sklearn/model_selection/_validation.py:536: FitFailedWarning:\n",
      "\n",
      "Estimator fit failed. The score on this train-test partition for these parameters will be set to nan. Details: \n",
      "ValueError: Invalid value for max_features. Allowed string values are 'auto', 'sqrt' or 'log2'.\n",
      "\n",
      "\n",
      "/usr/local/lib/python3.7/dist-packages/sklearn/model_selection/_validation.py:536: FitFailedWarning:\n",
      "\n",
      "Estimator fit failed. The score on this train-test partition for these parameters will be set to nan. Details: \n",
      "ValueError: Invalid value for max_features. Allowed string values are 'auto', 'sqrt' or 'log2'.\n",
      "\n",
      "\n",
      "/usr/local/lib/python3.7/dist-packages/sklearn/model_selection/_validation.py:536: FitFailedWarning:\n",
      "\n",
      "Estimator fit failed. The score on this train-test partition for these parameters will be set to nan. Details: \n",
      "ValueError: Invalid value for max_features. Allowed string values are 'auto', 'sqrt' or 'log2'.\n",
      "\n",
      "\n",
      "/usr/local/lib/python3.7/dist-packages/sklearn/model_selection/_validation.py:536: FitFailedWarning:\n",
      "\n",
      "Estimator fit failed. The score on this train-test partition for these parameters will be set to nan. Details: \n",
      "ValueError: Invalid value for max_features. Allowed string values are 'auto', 'sqrt' or 'log2'.\n",
      "\n",
      "\n",
      "/usr/local/lib/python3.7/dist-packages/sklearn/model_selection/_validation.py:536: FitFailedWarning:\n",
      "\n",
      "Estimator fit failed. The score on this train-test partition for these parameters will be set to nan. Details: \n",
      "ValueError: Invalid value for max_features. Allowed string values are 'auto', 'sqrt' or 'log2'.\n",
      "\n",
      "\n",
      "/usr/local/lib/python3.7/dist-packages/sklearn/model_selection/_validation.py:536: FitFailedWarning:\n",
      "\n",
      "Estimator fit failed. The score on this train-test partition for these parameters will be set to nan. Details: \n",
      "ValueError: Invalid value for max_features. Allowed string values are 'auto', 'sqrt' or 'log2'.\n",
      "\n",
      "\n",
      "/usr/local/lib/python3.7/dist-packages/sklearn/model_selection/_validation.py:536: FitFailedWarning:\n",
      "\n",
      "Estimator fit failed. The score on this train-test partition for these parameters will be set to nan. Details: \n",
      "ValueError: Invalid value for max_features. Allowed string values are 'auto', 'sqrt' or 'log2'.\n",
      "\n",
      "\n",
      "/usr/local/lib/python3.7/dist-packages/sklearn/model_selection/_validation.py:536: FitFailedWarning:\n",
      "\n",
      "Estimator fit failed. The score on this train-test partition for these parameters will be set to nan. Details: \n",
      "ValueError: Invalid value for max_features. Allowed string values are 'auto', 'sqrt' or 'log2'.\n",
      "\n",
      "\n",
      "/usr/local/lib/python3.7/dist-packages/sklearn/model_selection/_validation.py:536: FitFailedWarning:\n",
      "\n",
      "Estimator fit failed. The score on this train-test partition for these parameters will be set to nan. Details: \n",
      "ValueError: Invalid value for max_features. Allowed string values are 'auto', 'sqrt' or 'log2'.\n",
      "\n",
      "\n",
      "/usr/local/lib/python3.7/dist-packages/sklearn/model_selection/_validation.py:536: FitFailedWarning:\n",
      "\n",
      "Estimator fit failed. The score on this train-test partition for these parameters will be set to nan. Details: \n",
      "ValueError: Invalid value for max_features. Allowed string values are 'auto', 'sqrt' or 'log2'.\n",
      "\n",
      "\n",
      "/usr/local/lib/python3.7/dist-packages/sklearn/model_selection/_validation.py:536: FitFailedWarning:\n",
      "\n",
      "Estimator fit failed. The score on this train-test partition for these parameters will be set to nan. Details: \n",
      "ValueError: Invalid value for max_features. Allowed string values are 'auto', 'sqrt' or 'log2'.\n",
      "\n",
      "\n",
      "/usr/local/lib/python3.7/dist-packages/sklearn/model_selection/_validation.py:536: FitFailedWarning:\n",
      "\n",
      "Estimator fit failed. The score on this train-test partition for these parameters will be set to nan. Details: \n",
      "ValueError: Invalid value for max_features. Allowed string values are 'auto', 'sqrt' or 'log2'.\n",
      "\n",
      "\n",
      "/usr/local/lib/python3.7/dist-packages/sklearn/model_selection/_validation.py:536: FitFailedWarning:\n",
      "\n",
      "Estimator fit failed. The score on this train-test partition for these parameters will be set to nan. Details: \n",
      "ValueError: Invalid value for max_features. Allowed string values are 'auto', 'sqrt' or 'log2'.\n",
      "\n",
      "\n",
      "/usr/local/lib/python3.7/dist-packages/sklearn/model_selection/_validation.py:536: FitFailedWarning:\n",
      "\n",
      "Estimator fit failed. The score on this train-test partition for these parameters will be set to nan. Details: \n",
      "ValueError: Invalid value for max_features. Allowed string values are 'auto', 'sqrt' or 'log2'.\n",
      "\n",
      "\n",
      "/usr/local/lib/python3.7/dist-packages/sklearn/model_selection/_validation.py:536: FitFailedWarning:\n",
      "\n",
      "Estimator fit failed. The score on this train-test partition for these parameters will be set to nan. Details: \n",
      "ValueError: Invalid value for max_features. Allowed string values are 'auto', 'sqrt' or 'log2'.\n",
      "\n",
      "\n",
      "/usr/local/lib/python3.7/dist-packages/sklearn/model_selection/_validation.py:536: FitFailedWarning:\n",
      "\n",
      "Estimator fit failed. The score on this train-test partition for these parameters will be set to nan. Details: \n",
      "ValueError: Invalid value for max_features. Allowed string values are 'auto', 'sqrt' or 'log2'.\n",
      "\n",
      "\n",
      "/usr/local/lib/python3.7/dist-packages/sklearn/model_selection/_validation.py:536: FitFailedWarning:\n",
      "\n",
      "Estimator fit failed. The score on this train-test partition for these parameters will be set to nan. Details: \n",
      "ValueError: Invalid value for max_features. Allowed string values are 'auto', 'sqrt' or 'log2'.\n",
      "\n",
      "\n",
      "/usr/local/lib/python3.7/dist-packages/sklearn/model_selection/_validation.py:536: FitFailedWarning:\n",
      "\n",
      "Estimator fit failed. The score on this train-test partition for these parameters will be set to nan. Details: \n",
      "ValueError: Invalid value for max_features. Allowed string values are 'auto', 'sqrt' or 'log2'.\n",
      "\n",
      "\n",
      "/usr/local/lib/python3.7/dist-packages/sklearn/model_selection/_validation.py:536: FitFailedWarning:\n",
      "\n",
      "Estimator fit failed. The score on this train-test partition for these parameters will be set to nan. Details: \n",
      "ValueError: Invalid value for max_features. Allowed string values are 'auto', 'sqrt' or 'log2'.\n",
      "\n",
      "\n",
      "/usr/local/lib/python3.7/dist-packages/sklearn/model_selection/_validation.py:536: FitFailedWarning:\n",
      "\n",
      "Estimator fit failed. The score on this train-test partition for these parameters will be set to nan. Details: \n",
      "ValueError: Invalid value for max_features. Allowed string values are 'auto', 'sqrt' or 'log2'.\n",
      "\n",
      "\n",
      "/usr/local/lib/python3.7/dist-packages/sklearn/model_selection/_validation.py:536: FitFailedWarning:\n",
      "\n",
      "Estimator fit failed. The score on this train-test partition for these parameters will be set to nan. Details: \n",
      "ValueError: Invalid value for max_features. Allowed string values are 'auto', 'sqrt' or 'log2'.\n",
      "\n",
      "\n",
      "/usr/local/lib/python3.7/dist-packages/sklearn/model_selection/_validation.py:536: FitFailedWarning:\n",
      "\n",
      "Estimator fit failed. The score on this train-test partition for these parameters will be set to nan. Details: \n",
      "ValueError: Invalid value for max_features. Allowed string values are 'auto', 'sqrt' or 'log2'.\n",
      "\n",
      "\n",
      "/usr/local/lib/python3.7/dist-packages/sklearn/model_selection/_validation.py:536: FitFailedWarning:\n",
      "\n",
      "Estimator fit failed. The score on this train-test partition for these parameters will be set to nan. Details: \n",
      "ValueError: Invalid value for max_features. Allowed string values are 'auto', 'sqrt' or 'log2'.\n",
      "\n",
      "\n",
      "/usr/local/lib/python3.7/dist-packages/sklearn/model_selection/_validation.py:536: FitFailedWarning:\n",
      "\n",
      "Estimator fit failed. The score on this train-test partition for these parameters will be set to nan. Details: \n",
      "ValueError: Invalid value for max_features. Allowed string values are 'auto', 'sqrt' or 'log2'.\n",
      "\n",
      "\n",
      "/usr/local/lib/python3.7/dist-packages/sklearn/model_selection/_validation.py:536: FitFailedWarning:\n",
      "\n",
      "Estimator fit failed. The score on this train-test partition for these parameters will be set to nan. Details: \n",
      "ValueError: Invalid value for max_features. Allowed string values are 'auto', 'sqrt' or 'log2'.\n",
      "\n",
      "\n",
      "/usr/local/lib/python3.7/dist-packages/sklearn/model_selection/_validation.py:536: FitFailedWarning:\n",
      "\n",
      "Estimator fit failed. The score on this train-test partition for these parameters will be set to nan. Details: \n",
      "ValueError: Invalid value for max_features. Allowed string values are 'auto', 'sqrt' or 'log2'.\n",
      "\n",
      "\n",
      "/usr/local/lib/python3.7/dist-packages/sklearn/model_selection/_validation.py:536: FitFailedWarning:\n",
      "\n",
      "Estimator fit failed. The score on this train-test partition for these parameters will be set to nan. Details: \n",
      "ValueError: Invalid value for max_features. Allowed string values are 'auto', 'sqrt' or 'log2'.\n",
      "\n",
      "\n",
      "/usr/local/lib/python3.7/dist-packages/sklearn/model_selection/_validation.py:536: FitFailedWarning:\n",
      "\n",
      "Estimator fit failed. The score on this train-test partition for these parameters will be set to nan. Details: \n",
      "ValueError: Invalid value for max_features. Allowed string values are 'auto', 'sqrt' or 'log2'.\n",
      "\n",
      "\n",
      "/usr/local/lib/python3.7/dist-packages/sklearn/model_selection/_validation.py:536: FitFailedWarning:\n",
      "\n",
      "Estimator fit failed. The score on this train-test partition for these parameters will be set to nan. Details: \n",
      "ValueError: Invalid value for max_features. Allowed string values are 'auto', 'sqrt' or 'log2'.\n",
      "\n",
      "\n",
      "[Parallel(n_jobs=1)]: Done 360 out of 360 | elapsed:    4.5s finished\n"
     ]
    }
   ],
   "source": [
    "decision_tree=DecisionTreeClassifier()\n",
    "param_grid={\n",
    "    \"criterion\":['gini','entropy'],\n",
    "    \"max_depth\":[107],\n",
    "    \"max_features\":['auto','sqrt','log2',''],\n",
    "    \"random_state\":np.arange(1,10)   \n",
    "}\n",
    "test_model=model_selection.GridSearchCV(estimator=decision_tree,param_grid=param_grid,\n",
    "                                       scoring='accuracy',verbose=10)\n",
    "test_model.fit(X_train_2,y_train_2)\n",
    "print(test_model.best_score_)\n",
    "print(test_model.best_estimator_.get_params())\n"
   ]
  },
  {
   "cell_type": "code",
   "execution_count": 39,
   "id": "17a0602b",
   "metadata": {
    "id": "17a0602b"
   },
   "outputs": [],
   "source": [
    "dtree = DecisionTreeClassifier(max_depth=107, random_state=9,max_features='auto')\n",
    "dtree_2 = DecisionTreeClassifier(max_depth=107, random_state=9)\n",
    "dtree_3 = DecisionTreeClassifier(max_depth=107, random_state=9)\n",
    "dtree.fit(X_train, y_train)\n",
    "dtree_2.fit(X_train_2, y_train_2)\n",
    "dtree_3.fit(X_train_3, y_train_3)\n",
    "dtq1= dtree.predict(X_train)\n",
    "dq1 = dtree.predict(X_test)\n",
    "dtq2= dtree_2.predict(X_train_2)\n",
    "dq2 = dtree_2.predict(X_test_2)\n",
    "dtq3= dtree_3.predict(X_train_3)\n",
    "dq3 = dtree_3.predict(X_test_3)"
   ]
  },
  {
   "cell_type": "code",
   "execution_count": 40,
   "id": "458216b9",
   "metadata": {
    "colab": {
     "base_uri": "https://localhost:8080/"
    },
    "id": "458216b9",
    "outputId": "ee8b46ac-ce05-4eac-ec02-d3348d2a02a8"
   },
   "outputs": [
    {
     "name": "stdout",
     "output_type": "stream",
     "text": [
      "Accuracy via prediction on training set q1:  1.0\n",
      "Accuracy via prediction on test set q1:  0.47751798561151076\n",
      "Accuracy via prediction on training set q2:  1.0\n",
      "Accuracy via prediction on test set q2:  0.5654261704681873\n",
      "Accuracy via prediction on training set q3:  1.0\n",
      "Accuracy via prediction on test set q3:  0.6274509803921569\n"
     ]
    }
   ],
   "source": [
    "print('Accuracy via prediction on training set q1: ', accuracy_score(y_train, dtq1))\n",
    "print('Accuracy via prediction on test set q1: ', accuracy_score(y_test, dq1))\n",
    "print('Accuracy via prediction on training set q2: ', accuracy_score(y_train_2, dtq2))\n",
    "print('Accuracy via prediction on test set q2: ', accuracy_score(y_test_2, dq2))\n",
    "print('Accuracy via prediction on training set q3: ', r2_score(y_train_3, dtq3))\n",
    "print('Accuracy via prediction on test set q3: ', accuracy_score(y_test_3, dq3))"
   ]
  },
  {
   "cell_type": "code",
   "execution_count": 41,
   "id": "369473f6",
   "metadata": {
    "colab": {
     "base_uri": "https://localhost:8080/",
     "height": 413
    },
    "id": "369473f6",
    "outputId": "c5338ee7-256a-4877-ca75-730e97184812"
   },
   "outputs": [
    {
     "data": {
      "text/plain": [
       "Text(0.5, 1.0, 'Q3')"
      ]
     },
     "execution_count": 41,
     "metadata": {},
     "output_type": "execute_result"
    },
    {
     "data": {
      "image/png": "[encoded data removed]",
      "text/plain": [
       "<Figure size 1800x432 with 3 Axes>"
      ]
     },
     "metadata": {
      "needs_background": "light"
     },
     "output_type": "display_data"
    }
   ],
   "source": [
    "from sklearn.metrics import confusion_matrix  \n",
    "import seaborn as sn\n",
    "fig,axes=plt.subplots(1,3,figsize=(25,6))\n",
    "dif1=y_test-dq1\n",
    "sn.kdeplot(dif1,ax=axes[0])\n",
    "axes[0].set_title('Q1')\n",
    "dif2=y_test_2-dq2\n",
    "sn.kdeplot(dif2,ax=axes[1])\n",
    "axes[1].set_title('Q2')\n",
    "dif3=y_test_3-dq3\n",
    "sn.kdeplot(dif3,ax=axes[2])\n",
    "axes[2].set_title('Q3')"
   ]
  },
  {
   "cell_type": "code",
   "execution_count": 42,
   "id": "a3dd3621",
   "metadata": {
    "colab": {
     "base_uri": "https://localhost:8080/",
     "height": 1000
    },
    "id": "a3dd3621",
    "outputId": "f7815733-99fa-4a89-9a4f-7a8db3ece902",
    "scrolled": true
   },
   "outputs": [
    {
     "data": {
      "text/plain": [
       "<AxesSubplot:>"
      ]
     },
     "execution_count": 42,
     "metadata": {},
     "output_type": "execute_result"
    },
    {
     "data": {
      "image/png": "[encoded data removed]",
      "text/plain": [
       "<Figure size 1080x1296 with 12 Axes>"
      ]
     },
     "metadata": {
      "needs_background": "light"
     },
     "output_type": "display_data"
    }
   ],
   "source": [
    "fig,axes=plt.subplots(3,2,figsize=(15,18))\n",
    "cm = pd.DataFrame(confusion_matrix(y_test, dq1))\n",
    "sn.heatmap(cm,ax=axes[0,0], vmin=0,vmax=70 )\n",
    "cm1 = pd.DataFrame(confusion_matrix(y_test, y_test))\n",
    "sn.heatmap(cm1,ax=axes[0,1], vmin=0,vmax=70 )\n",
    "cm3 = pd.DataFrame(confusion_matrix(y_test_2, dq2))\n",
    "sn.heatmap(cm3,ax=axes[1,0], vmin=0,vmax=70 )\n",
    "cm4 = pd.DataFrame(confusion_matrix(y_test_2, y_test_2))\n",
    "sn.heatmap(cm4,ax=axes[1,1], vmin=0,vmax=70 )\n",
    "cm5 = pd.DataFrame(confusion_matrix(y_test_3, dq3))\n",
    "sn.heatmap(cm5,ax=axes[2,0], vmin=0,vmax=70 )\n",
    "cm6 = pd.DataFrame(confusion_matrix(y_test_3, y_test_3))\n",
    "sn.heatmap(cm6,ax=axes[2,1], vmin=0,vmax=70 )\n"
   ]
  },
  {
   "cell_type": "markdown",
   "id": "9687d16a",
   "metadata": {
    "id": "9687d16a"
   },
   "source": [
    "## RandomForest"
   ]
  },
  {
   "cell_type": "code",
   "execution_count": 39,
   "id": "003cd510",
   "metadata": {
    "colab": {
     "base_uri": "https://localhost:8080/",
     "height": 1000
    },
    "deletable": false,
    "editable": false,
    "id": "003cd510",
    "outputId": "a7ebed74-b607-4b54-d529-577085cdb2d3",
    "run_control": {
     "frozen": true
    }
   },
   "outputs": [
    {
     "name": "stdout",
     "output_type": "stream",
     "text": [
      "Fitting 5 folds for each of 120 candidates, totalling 600 fits\n",
      "[CV] criterion=gini, max_depth=107, max_features=auto, min_impurity_decrease=0, n_estimators=100, random_state=1 \n"
     ]
    },
    {
     "name": "stderr",
     "output_type": "stream",
     "text": [
      "[Parallel(n_jobs=1)]: Using backend SequentialBackend with 1 concurrent workers.\n"
     ]
    },
    {
     "name": "stdout",
     "output_type": "stream",
     "text": [
      "[CV]  criterion=gini, max_depth=107, max_features=auto, min_impurity_decrease=0, n_estimators=100, random_state=1, score=0.654, total=   0.5s\n",
      "[CV] criterion=gini, max_depth=107, max_features=auto, min_impurity_decrease=0, n_estimators=100, random_state=1 \n"
     ]
    },
    {
     "name": "stderr",
     "output_type": "stream",
     "text": [
      "[Parallel(n_jobs=1)]: Done   1 out of   1 | elapsed:    0.4s remaining:    0.0s\n"
     ]
    },
    {
     "name": "stdout",
     "output_type": "stream",
     "text": [
      "[CV]  criterion=gini, max_depth=107, max_features=auto, min_impurity_decrease=0, n_estimators=100, random_state=1, score=0.674, total=   0.5s\n",
      "[CV] criterion=gini, max_depth=107, max_features=auto, min_impurity_decrease=0, n_estimators=100, random_state=1 \n"
     ]
    },
    {
     "name": "stderr",
     "output_type": "stream",
     "text": [
      "[Parallel(n_jobs=1)]: Done   2 out of   2 | elapsed:    0.9s remaining:    0.0s\n"
     ]
    },
    {
     "name": "stdout",
     "output_type": "stream",
     "text": [
      "[CV]  criterion=gini, max_depth=107, max_features=auto, min_impurity_decrease=0, n_estimators=100, random_state=1, score=0.674, total=   0.5s\n",
      "[CV] criterion=gini, max_depth=107, max_features=auto, min_impurity_decrease=0, n_estimators=100, random_state=1 \n"
     ]
    },
    {
     "name": "stderr",
     "output_type": "stream",
     "text": [
      "[Parallel(n_jobs=1)]: Done   3 out of   3 | elapsed:    1.4s remaining:    0.0s\n"
     ]
    },
    {
     "name": "stdout",
     "output_type": "stream",
     "text": [
      "[CV]  criterion=gini, max_depth=107, max_features=auto, min_impurity_decrease=0, n_estimators=100, random_state=1, score=0.664, total=   0.5s\n",
      "[CV] criterion=gini, max_depth=107, max_features=auto, min_impurity_decrease=0, n_estimators=100, random_state=1 \n"
     ]
    },
    {
     "name": "stderr",
     "output_type": "stream",
     "text": [
      "[Parallel(n_jobs=1)]: Done   4 out of   4 | elapsed:    1.9s remaining:    0.0s\n"
     ]
    },
    {
     "name": "stdout",
     "output_type": "stream",
     "text": [
      "[CV]  criterion=gini, max_depth=107, max_features=auto, min_impurity_decrease=0, n_estimators=100, random_state=1, score=0.651, total=   0.5s\n",
      "[CV] criterion=gini, max_depth=107, max_features=auto, min_impurity_decrease=0, n_estimators=200, random_state=1 \n"
     ]
    },
    {
     "name": "stderr",
     "output_type": "stream",
     "text": [
      "[Parallel(n_jobs=1)]: Done   5 out of   5 | elapsed:    2.4s remaining:    0.0s\n"
     ]
    },
    {
     "name": "stdout",
     "output_type": "stream",
     "text": [
      "[CV]  criterion=gini, max_depth=107, max_features=auto, min_impurity_decrease=0, n_estimators=200, random_state=1, score=0.658, total=   1.0s\n",
      "[CV] criterion=gini, max_depth=107, max_features=auto, min_impurity_decrease=0, n_estimators=200, random_state=1 \n"
     ]
    },
    {
     "name": "stderr",
     "output_type": "stream",
     "text": [
      "[Parallel(n_jobs=1)]: Done   6 out of   6 | elapsed:    3.3s remaining:    0.0s\n"
     ]
    },
    {
     "name": "stdout",
     "output_type": "stream",
     "text": [
      "[CV]  criterion=gini, max_depth=107, max_features=auto, min_impurity_decrease=0, n_estimators=200, random_state=1, score=0.692, total=   0.9s\n",
      "[CV] criterion=gini, max_depth=107, max_features=auto, min_impurity_decrease=0, n_estimators=200, random_state=1 \n"
     ]
    },
    {
     "name": "stderr",
     "output_type": "stream",
     "text": [
      "[Parallel(n_jobs=1)]: Done   7 out of   7 | elapsed:    4.3s remaining:    0.0s\n"
     ]
    },
    {
     "name": "stdout",
     "output_type": "stream",
     "text": [
      "[CV]  criterion=gini, max_depth=107, max_features=auto, min_impurity_decrease=0, n_estimators=200, random_state=1, score=0.676, total=   1.0s\n",
      "[CV] criterion=gini, max_depth=107, max_features=auto, min_impurity_decrease=0, n_estimators=200, random_state=1 \n"
     ]
    },
    {
     "name": "stderr",
     "output_type": "stream",
     "text": [
      "[Parallel(n_jobs=1)]: Done   8 out of   8 | elapsed:    5.3s remaining:    0.0s\n"
     ]
    },
    {
     "name": "stdout",
     "output_type": "stream",
     "text": [
      "[CV]  criterion=gini, max_depth=107, max_features=auto, min_impurity_decrease=0, n_estimators=200, random_state=1, score=0.670, total=   1.0s\n",
      "[CV] criterion=gini, max_depth=107, max_features=auto, min_impurity_decrease=0, n_estimators=200, random_state=1 \n"
     ]
    },
    {
     "name": "stderr",
     "output_type": "stream",
     "text": [
      "[Parallel(n_jobs=1)]: Done   9 out of   9 | elapsed:    6.2s remaining:    0.0s\n"
     ]
    },
    {
     "name": "stdout",
     "output_type": "stream",
     "text": [
      "[CV]  criterion=gini, max_depth=107, max_features=auto, min_impurity_decrease=0, n_estimators=200, random_state=1, score=0.651, total=   1.0s\n",
      "[CV] criterion=gini, max_depth=107, max_features=auto, min_impurity_decrease=0, n_estimators=300, random_state=1 \n",
      "[CV]  criterion=gini, max_depth=107, max_features=auto, min_impurity_decrease=0, n_estimators=300, random_state=1, score=0.668, total=   1.4s\n",
      "[CV] criterion=gini, max_depth=107, max_features=auto, min_impurity_decrease=0, n_estimators=300, random_state=1 \n",
      "[CV]  criterion=gini, max_depth=107, max_features=auto, min_impurity_decrease=0, n_estimators=300, random_state=1, score=0.682, total=   1.5s\n",
      "[CV] criterion=gini, max_depth=107, max_features=auto, min_impurity_decrease=0, n_estimators=300, random_state=1 \n",
      "[CV]  criterion=gini, max_depth=107, max_features=auto, min_impurity_decrease=0, n_estimators=300, random_state=1, score=0.684, total=   1.4s\n",
      "[CV] criterion=gini, max_depth=107, max_features=auto, min_impurity_decrease=0, n_estimators=300, random_state=1 \n",
      "[CV]  criterion=gini, max_depth=107, max_features=auto, min_impurity_decrease=0, n_estimators=300, random_state=1, score=0.666, total=   1.4s\n",
      "[CV] criterion=gini, max_depth=107, max_features=auto, min_impurity_decrease=0, n_estimators=300, random_state=1 \n",
      "[CV]  criterion=gini, max_depth=107, max_features=auto, min_impurity_decrease=0, n_estimators=300, random_state=1, score=0.659, total=   1.4s\n",
      "[CV] criterion=gini, max_depth=107, max_features=auto, min_impurity_decrease=0, n_estimators=400, random_state=1 \n",
      "[CV]  criterion=gini, max_depth=107, max_features=auto, min_impurity_decrease=0, n_estimators=400, random_state=1, score=0.672, total=   1.9s\n",
      "[CV] criterion=gini, max_depth=107, max_features=auto, min_impurity_decrease=0, n_estimators=400, random_state=1 \n",
      "[CV]  criterion=gini, max_depth=107, max_features=auto, min_impurity_decrease=0, n_estimators=400, random_state=1, score=0.690, total=   1.9s\n",
      "[CV] criterion=gini, max_depth=107, max_features=auto, min_impurity_decrease=0, n_estimators=400, random_state=1 \n",
      "[CV]  criterion=gini, max_depth=107, max_features=auto, min_impurity_decrease=0, n_estimators=400, random_state=1, score=0.688, total=   1.9s\n",
      "[CV] criterion=gini, max_depth=107, max_features=auto, min_impurity_decrease=0, n_estimators=400, random_state=1 \n",
      "[CV]  criterion=gini, max_depth=107, max_features=auto, min_impurity_decrease=0, n_estimators=400, random_state=1, score=0.670, total=   1.9s\n",
      "[CV] criterion=gini, max_depth=107, max_features=auto, min_impurity_decrease=0, n_estimators=400, random_state=1 \n",
      "[CV]  criterion=gini, max_depth=107, max_features=auto, min_impurity_decrease=0, n_estimators=400, random_state=1, score=0.661, total=   1.9s\n",
      "[CV] criterion=gini, max_depth=107, max_features=auto, min_impurity_decrease=0, n_estimators=500, random_state=1 \n",
      "[CV]  criterion=gini, max_depth=107, max_features=auto, min_impurity_decrease=0, n_estimators=500, random_state=1, score=0.672, total=   2.4s\n",
      "[CV] criterion=gini, max_depth=107, max_features=auto, min_impurity_decrease=0, n_estimators=500, random_state=1 \n",
      "[CV]  criterion=gini, max_depth=107, max_features=auto, min_impurity_decrease=0, n_estimators=500, random_state=1, score=0.688, total=   2.4s\n",
      "[CV] criterion=gini, max_depth=107, max_features=auto, min_impurity_decrease=0, n_estimators=500, random_state=1 \n",
      "[CV]  criterion=gini, max_depth=107, max_features=auto, min_impurity_decrease=0, n_estimators=500, random_state=1, score=0.694, total=   2.4s\n",
      "[CV] criterion=gini, max_depth=107, max_features=auto, min_impurity_decrease=0, n_estimators=500, random_state=1 \n",
      "[CV]  criterion=gini, max_depth=107, max_features=auto, min_impurity_decrease=0, n_estimators=500, random_state=1, score=0.672, total=   2.4s\n",
      "[CV] criterion=gini, max_depth=107, max_features=auto, min_impurity_decrease=0, n_estimators=500, random_state=1 \n",
      "[CV]  criterion=gini, max_depth=107, max_features=auto, min_impurity_decrease=0, n_estimators=500, random_state=1, score=0.667, total=   2.4s\n",
      "[CV] criterion=gini, max_depth=107, max_features=auto, min_impurity_decrease=0.05, n_estimators=100, random_state=1 \n",
      "[CV]  criterion=gini, max_depth=107, max_features=auto, min_impurity_decrease=0.05, n_estimators=100, random_state=1, score=0.082, total=   0.2s\n",
      "[CV] criterion=gini, max_depth=107, max_features=auto, min_impurity_decrease=0.05, n_estimators=100, random_state=1 \n",
      "[CV]  criterion=gini, max_depth=107, max_features=auto, min_impurity_decrease=0.05, n_estimators=100, random_state=1, score=0.082, total=   0.2s\n",
      "[CV] criterion=gini, max_depth=107, max_features=auto, min_impurity_decrease=0.05, n_estimators=100, random_state=1 \n",
      "[CV]  criterion=gini, max_depth=107, max_features=auto, min_impurity_decrease=0.05, n_estimators=100, random_state=1, score=0.082, total=   0.2s\n",
      "[CV] criterion=gini, max_depth=107, max_features=auto, min_impurity_decrease=0.05, n_estimators=100, random_state=1 \n",
      "[CV]  criterion=gini, max_depth=107, max_features=auto, min_impurity_decrease=0.05, n_estimators=100, random_state=1, score=0.082, total=   0.2s\n",
      "[CV] criterion=gini, max_depth=107, max_features=auto, min_impurity_decrease=0.05, n_estimators=100, random_state=1 \n",
      "[CV]  criterion=gini, max_depth=107, max_features=auto, min_impurity_decrease=0.05, n_estimators=100, random_state=1, score=0.084, total=   0.2s\n",
      "[CV] criterion=gini, max_depth=107, max_features=auto, min_impurity_decrease=0.05, n_estimators=200, random_state=1 \n",
      "[CV]  criterion=gini, max_depth=107, max_features=auto, min_impurity_decrease=0.05, n_estimators=200, random_state=1, score=0.082, total=   0.3s\n",
      "[CV] criterion=gini, max_depth=107, max_features=auto, min_impurity_decrease=0.05, n_estimators=200, random_state=1 \n",
      "[CV]  criterion=gini, max_depth=107, max_features=auto, min_impurity_decrease=0.05, n_estimators=200, random_state=1, score=0.082, total=   0.3s\n",
      "[CV] criterion=gini, max_depth=107, max_features=auto, min_impurity_decrease=0.05, n_estimators=200, random_state=1 \n",
      "[CV]  criterion=gini, max_depth=107, max_features=auto, min_impurity_decrease=0.05, n_estimators=200, random_state=1, score=0.082, total=   0.3s\n",
      "[CV] criterion=gini, max_depth=107, max_features=auto, min_impurity_decrease=0.05, n_estimators=200, random_state=1 \n",
      "[CV]  criterion=gini, max_depth=107, max_features=auto, min_impurity_decrease=0.05, n_estimators=200, random_state=1, score=0.082, total=   0.3s\n",
      "[CV] criterion=gini, max_depth=107, max_features=auto, min_impurity_decrease=0.05, n_estimators=200, random_state=1 \n",
      "[CV]  criterion=gini, max_depth=107, max_features=auto, min_impurity_decrease=0.05, n_estimators=200, random_state=1, score=0.084, total=   0.3s\n",
      "[CV] criterion=gini, max_depth=107, max_features=auto, min_impurity_decrease=0.05, n_estimators=300, random_state=1 \n",
      "[CV]  criterion=gini, max_depth=107, max_features=auto, min_impurity_decrease=0.05, n_estimators=300, random_state=1, score=0.082, total=   0.5s\n",
      "[CV] criterion=gini, max_depth=107, max_features=auto, min_impurity_decrease=0.05, n_estimators=300, random_state=1 \n",
      "[CV]  criterion=gini, max_depth=107, max_features=auto, min_impurity_decrease=0.05, n_estimators=300, random_state=1, score=0.082, total=   0.5s\n",
      "[CV] criterion=gini, max_depth=107, max_features=auto, min_impurity_decrease=0.05, n_estimators=300, random_state=1 \n",
      "[CV]  criterion=gini, max_depth=107, max_features=auto, min_impurity_decrease=0.05, n_estimators=300, random_state=1, score=0.082, total=   0.4s\n",
      "[CV] criterion=gini, max_depth=107, max_features=auto, min_impurity_decrease=0.05, n_estimators=300, random_state=1 \n",
      "[CV]  criterion=gini, max_depth=107, max_features=auto, min_impurity_decrease=0.05, n_estimators=300, random_state=1, score=0.082, total=   0.5s\n",
      "[CV] criterion=gini, max_depth=107, max_features=auto, min_impurity_decrease=0.05, n_estimators=300, random_state=1 \n",
      "[CV]  criterion=gini, max_depth=107, max_features=auto, min_impurity_decrease=0.05, n_estimators=300, random_state=1, score=0.084, total=   0.5s\n",
      "[CV] criterion=gini, max_depth=107, max_features=auto, min_impurity_decrease=0.05, n_estimators=400, random_state=1 \n",
      "[CV]  criterion=gini, max_depth=107, max_features=auto, min_impurity_decrease=0.05, n_estimators=400, random_state=1, score=0.082, total=   0.6s\n",
      "[CV] criterion=gini, max_depth=107, max_features=auto, min_impurity_decrease=0.05, n_estimators=400, random_state=1 \n"
     ]
    },
    {
     "name": "stdout",
     "output_type": "stream",
     "text": [
      "[CV]  criterion=gini, max_depth=107, max_features=auto, min_impurity_decrease=0.05, n_estimators=400, random_state=1, score=0.082, total=   0.6s\n",
      "[CV] criterion=gini, max_depth=107, max_features=auto, min_impurity_decrease=0.05, n_estimators=400, random_state=1 \n",
      "[CV]  criterion=gini, max_depth=107, max_features=auto, min_impurity_decrease=0.05, n_estimators=400, random_state=1, score=0.082, total=   0.6s\n",
      "[CV] criterion=gini, max_depth=107, max_features=auto, min_impurity_decrease=0.05, n_estimators=400, random_state=1 \n",
      "[CV]  criterion=gini, max_depth=107, max_features=auto, min_impurity_decrease=0.05, n_estimators=400, random_state=1, score=0.082, total=   0.6s\n",
      "[CV] criterion=gini, max_depth=107, max_features=auto, min_impurity_decrease=0.05, n_estimators=400, random_state=1 \n",
      "[CV]  criterion=gini, max_depth=107, max_features=auto, min_impurity_decrease=0.05, n_estimators=400, random_state=1, score=0.084, total=   0.6s\n",
      "[CV] criterion=gini, max_depth=107, max_features=auto, min_impurity_decrease=0.05, n_estimators=500, random_state=1 \n",
      "[CV]  criterion=gini, max_depth=107, max_features=auto, min_impurity_decrease=0.05, n_estimators=500, random_state=1, score=0.082, total=   0.8s\n",
      "[CV] criterion=gini, max_depth=107, max_features=auto, min_impurity_decrease=0.05, n_estimators=500, random_state=1 \n",
      "[CV]  criterion=gini, max_depth=107, max_features=auto, min_impurity_decrease=0.05, n_estimators=500, random_state=1, score=0.082, total=   0.8s\n",
      "[CV] criterion=gini, max_depth=107, max_features=auto, min_impurity_decrease=0.05, n_estimators=500, random_state=1 \n",
      "[CV]  criterion=gini, max_depth=107, max_features=auto, min_impurity_decrease=0.05, n_estimators=500, random_state=1, score=0.082, total=   0.7s\n",
      "[CV] criterion=gini, max_depth=107, max_features=auto, min_impurity_decrease=0.05, n_estimators=500, random_state=1 \n",
      "[CV]  criterion=gini, max_depth=107, max_features=auto, min_impurity_decrease=0.05, n_estimators=500, random_state=1, score=0.082, total=   0.8s\n",
      "[CV] criterion=gini, max_depth=107, max_features=auto, min_impurity_decrease=0.05, n_estimators=500, random_state=1 \n",
      "[CV]  criterion=gini, max_depth=107, max_features=auto, min_impurity_decrease=0.05, n_estimators=500, random_state=1, score=0.084, total=   0.8s\n",
      "[CV] criterion=gini, max_depth=107, max_features=auto, min_impurity_decrease=0.1, n_estimators=100, random_state=1 \n",
      "[CV]  criterion=gini, max_depth=107, max_features=auto, min_impurity_decrease=0.1, n_estimators=100, random_state=1, score=0.082, total=   0.2s\n",
      "[CV] criterion=gini, max_depth=107, max_features=auto, min_impurity_decrease=0.1, n_estimators=100, random_state=1 \n",
      "[CV]  criterion=gini, max_depth=107, max_features=auto, min_impurity_decrease=0.1, n_estimators=100, random_state=1, score=0.082, total=   0.2s\n",
      "[CV] criterion=gini, max_depth=107, max_features=auto, min_impurity_decrease=0.1, n_estimators=100, random_state=1 \n",
      "[CV]  criterion=gini, max_depth=107, max_features=auto, min_impurity_decrease=0.1, n_estimators=100, random_state=1, score=0.082, total=   0.2s\n",
      "[CV] criterion=gini, max_depth=107, max_features=auto, min_impurity_decrease=0.1, n_estimators=100, random_state=1 \n",
      "[CV]  criterion=gini, max_depth=107, max_features=auto, min_impurity_decrease=0.1, n_estimators=100, random_state=1, score=0.082, total=   0.2s\n",
      "[CV] criterion=gini, max_depth=107, max_features=auto, min_impurity_decrease=0.1, n_estimators=100, random_state=1 \n",
      "[CV]  criterion=gini, max_depth=107, max_features=auto, min_impurity_decrease=0.1, n_estimators=100, random_state=1, score=0.084, total=   0.2s\n",
      "[CV] criterion=gini, max_depth=107, max_features=auto, min_impurity_decrease=0.1, n_estimators=200, random_state=1 \n",
      "[CV]  criterion=gini, max_depth=107, max_features=auto, min_impurity_decrease=0.1, n_estimators=200, random_state=1, score=0.082, total=   0.3s\n",
      "[CV] criterion=gini, max_depth=107, max_features=auto, min_impurity_decrease=0.1, n_estimators=200, random_state=1 \n",
      "[CV]  criterion=gini, max_depth=107, max_features=auto, min_impurity_decrease=0.1, n_estimators=200, random_state=1, score=0.082, total=   0.3s\n",
      "[CV] criterion=gini, max_depth=107, max_features=auto, min_impurity_decrease=0.1, n_estimators=200, random_state=1 \n",
      "[CV]  criterion=gini, max_depth=107, max_features=auto, min_impurity_decrease=0.1, n_estimators=200, random_state=1, score=0.082, total=   0.3s\n",
      "[CV] criterion=gini, max_depth=107, max_features=auto, min_impurity_decrease=0.1, n_estimators=200, random_state=1 \n",
      "[CV]  criterion=gini, max_depth=107, max_features=auto, min_impurity_decrease=0.1, n_estimators=200, random_state=1, score=0.082, total=   0.3s\n",
      "[CV] criterion=gini, max_depth=107, max_features=auto, min_impurity_decrease=0.1, n_estimators=200, random_state=1 \n",
      "[CV]  criterion=gini, max_depth=107, max_features=auto, min_impurity_decrease=0.1, n_estimators=200, random_state=1, score=0.084, total=   0.3s\n",
      "[CV] criterion=gini, max_depth=107, max_features=auto, min_impurity_decrease=0.1, n_estimators=300, random_state=1 \n",
      "[CV]  criterion=gini, max_depth=107, max_features=auto, min_impurity_decrease=0.1, n_estimators=300, random_state=1, score=0.082, total=   0.5s\n",
      "[CV] criterion=gini, max_depth=107, max_features=auto, min_impurity_decrease=0.1, n_estimators=300, random_state=1 \n",
      "[CV]  criterion=gini, max_depth=107, max_features=auto, min_impurity_decrease=0.1, n_estimators=300, random_state=1, score=0.082, total=   0.4s\n",
      "[CV] criterion=gini, max_depth=107, max_features=auto, min_impurity_decrease=0.1, n_estimators=300, random_state=1 \n",
      "[CV]  criterion=gini, max_depth=107, max_features=auto, min_impurity_decrease=0.1, n_estimators=300, random_state=1, score=0.082, total=   0.4s\n",
      "[CV] criterion=gini, max_depth=107, max_features=auto, min_impurity_decrease=0.1, n_estimators=300, random_state=1 \n",
      "[CV]  criterion=gini, max_depth=107, max_features=auto, min_impurity_decrease=0.1, n_estimators=300, random_state=1, score=0.082, total=   0.4s\n",
      "[CV] criterion=gini, max_depth=107, max_features=auto, min_impurity_decrease=0.1, n_estimators=300, random_state=1 \n",
      "[CV]  criterion=gini, max_depth=107, max_features=auto, min_impurity_decrease=0.1, n_estimators=300, random_state=1, score=0.084, total=   0.5s\n",
      "[CV] criterion=gini, max_depth=107, max_features=auto, min_impurity_decrease=0.1, n_estimators=400, random_state=1 \n",
      "[CV]  criterion=gini, max_depth=107, max_features=auto, min_impurity_decrease=0.1, n_estimators=400, random_state=1, score=0.082, total=   0.6s\n",
      "[CV] criterion=gini, max_depth=107, max_features=auto, min_impurity_decrease=0.1, n_estimators=400, random_state=1 \n",
      "[CV]  criterion=gini, max_depth=107, max_features=auto, min_impurity_decrease=0.1, n_estimators=400, random_state=1, score=0.082, total=   0.6s\n",
      "[CV] criterion=gini, max_depth=107, max_features=auto, min_impurity_decrease=0.1, n_estimators=400, random_state=1 \n",
      "[CV]  criterion=gini, max_depth=107, max_features=auto, min_impurity_decrease=0.1, n_estimators=400, random_state=1, score=0.082, total=   0.7s\n",
      "[CV] criterion=gini, max_depth=107, max_features=auto, min_impurity_decrease=0.1, n_estimators=400, random_state=1 \n",
      "[CV]  criterion=gini, max_depth=107, max_features=auto, min_impurity_decrease=0.1, n_estimators=400, random_state=1, score=0.082, total=   0.6s\n",
      "[CV] criterion=gini, max_depth=107, max_features=auto, min_impurity_decrease=0.1, n_estimators=400, random_state=1 \n",
      "[CV]  criterion=gini, max_depth=107, max_features=auto, min_impurity_decrease=0.1, n_estimators=400, random_state=1, score=0.084, total=   0.6s\n",
      "[CV] criterion=gini, max_depth=107, max_features=auto, min_impurity_decrease=0.1, n_estimators=500, random_state=1 \n",
      "[CV]  criterion=gini, max_depth=107, max_features=auto, min_impurity_decrease=0.1, n_estimators=500, random_state=1, score=0.082, total=   0.8s\n",
      "[CV] criterion=gini, max_depth=107, max_features=auto, min_impurity_decrease=0.1, n_estimators=500, random_state=1 \n",
      "[CV]  criterion=gini, max_depth=107, max_features=auto, min_impurity_decrease=0.1, n_estimators=500, random_state=1, score=0.082, total=   0.8s\n",
      "[CV] criterion=gini, max_depth=107, max_features=auto, min_impurity_decrease=0.1, n_estimators=500, random_state=1 \n",
      "[CV]  criterion=gini, max_depth=107, max_features=auto, min_impurity_decrease=0.1, n_estimators=500, random_state=1, score=0.082, total=   0.8s\n",
      "[CV] criterion=gini, max_depth=107, max_features=auto, min_impurity_decrease=0.1, n_estimators=500, random_state=1 \n"
     ]
    },
    {
     "name": "stdout",
     "output_type": "stream",
     "text": [
      "[CV]  criterion=gini, max_depth=107, max_features=auto, min_impurity_decrease=0.1, n_estimators=500, random_state=1, score=0.082, total=   0.8s\n",
      "[CV] criterion=gini, max_depth=107, max_features=auto, min_impurity_decrease=0.1, n_estimators=500, random_state=1 \n",
      "[CV]  criterion=gini, max_depth=107, max_features=auto, min_impurity_decrease=0.1, n_estimators=500, random_state=1, score=0.084, total=   0.8s\n",
      "[CV] criterion=gini, max_depth=107, max_features=auto, min_impurity_decrease=0.15, n_estimators=100, random_state=1 \n",
      "[CV]  criterion=gini, max_depth=107, max_features=auto, min_impurity_decrease=0.15, n_estimators=100, random_state=1, score=0.082, total=   0.2s\n",
      "[CV] criterion=gini, max_depth=107, max_features=auto, min_impurity_decrease=0.15, n_estimators=100, random_state=1 \n",
      "[CV]  criterion=gini, max_depth=107, max_features=auto, min_impurity_decrease=0.15, n_estimators=100, random_state=1, score=0.082, total=   0.2s\n",
      "[CV] criterion=gini, max_depth=107, max_features=auto, min_impurity_decrease=0.15, n_estimators=100, random_state=1 \n",
      "[CV]  criterion=gini, max_depth=107, max_features=auto, min_impurity_decrease=0.15, n_estimators=100, random_state=1, score=0.082, total=   0.2s\n",
      "[CV] criterion=gini, max_depth=107, max_features=auto, min_impurity_decrease=0.15, n_estimators=100, random_state=1 \n",
      "[CV]  criterion=gini, max_depth=107, max_features=auto, min_impurity_decrease=0.15, n_estimators=100, random_state=1, score=0.082, total=   0.2s\n",
      "[CV] criterion=gini, max_depth=107, max_features=auto, min_impurity_decrease=0.15, n_estimators=100, random_state=1 \n",
      "[CV]  criterion=gini, max_depth=107, max_features=auto, min_impurity_decrease=0.15, n_estimators=100, random_state=1, score=0.084, total=   0.2s\n",
      "[CV] criterion=gini, max_depth=107, max_features=auto, min_impurity_decrease=0.15, n_estimators=200, random_state=1 \n",
      "[CV]  criterion=gini, max_depth=107, max_features=auto, min_impurity_decrease=0.15, n_estimators=200, random_state=1, score=0.082, total=   0.3s\n",
      "[CV] criterion=gini, max_depth=107, max_features=auto, min_impurity_decrease=0.15, n_estimators=200, random_state=1 \n",
      "[CV]  criterion=gini, max_depth=107, max_features=auto, min_impurity_decrease=0.15, n_estimators=200, random_state=1, score=0.082, total=   0.3s\n",
      "[CV] criterion=gini, max_depth=107, max_features=auto, min_impurity_decrease=0.15, n_estimators=200, random_state=1 \n",
      "[CV]  criterion=gini, max_depth=107, max_features=auto, min_impurity_decrease=0.15, n_estimators=200, random_state=1, score=0.082, total=   0.3s\n",
      "[CV] criterion=gini, max_depth=107, max_features=auto, min_impurity_decrease=0.15, n_estimators=200, random_state=1 \n",
      "[CV]  criterion=gini, max_depth=107, max_features=auto, min_impurity_decrease=0.15, n_estimators=200, random_state=1, score=0.082, total=   0.3s\n",
      "[CV] criterion=gini, max_depth=107, max_features=auto, min_impurity_decrease=0.15, n_estimators=200, random_state=1 \n",
      "[CV]  criterion=gini, max_depth=107, max_features=auto, min_impurity_decrease=0.15, n_estimators=200, random_state=1, score=0.084, total=   0.3s\n",
      "[CV] criterion=gini, max_depth=107, max_features=auto, min_impurity_decrease=0.15, n_estimators=300, random_state=1 \n",
      "[CV]  criterion=gini, max_depth=107, max_features=auto, min_impurity_decrease=0.15, n_estimators=300, random_state=1, score=0.082, total=   0.4s\n",
      "[CV] criterion=gini, max_depth=107, max_features=auto, min_impurity_decrease=0.15, n_estimators=300, random_state=1 \n",
      "[CV]  criterion=gini, max_depth=107, max_features=auto, min_impurity_decrease=0.15, n_estimators=300, random_state=1, score=0.082, total=   0.5s\n",
      "[CV] criterion=gini, max_depth=107, max_features=auto, min_impurity_decrease=0.15, n_estimators=300, random_state=1 \n",
      "[CV]  criterion=gini, max_depth=107, max_features=auto, min_impurity_decrease=0.15, n_estimators=300, random_state=1, score=0.082, total=   0.5s\n",
      "[CV] criterion=gini, max_depth=107, max_features=auto, min_impurity_decrease=0.15, n_estimators=300, random_state=1 \n",
      "[CV]  criterion=gini, max_depth=107, max_features=auto, min_impurity_decrease=0.15, n_estimators=300, random_state=1, score=0.082, total=   0.5s\n",
      "[CV] criterion=gini, max_depth=107, max_features=auto, min_impurity_decrease=0.15, n_estimators=300, random_state=1 \n",
      "[CV]  criterion=gini, max_depth=107, max_features=auto, min_impurity_decrease=0.15, n_estimators=300, random_state=1, score=0.084, total=   0.5s\n",
      "[CV] criterion=gini, max_depth=107, max_features=auto, min_impurity_decrease=0.15, n_estimators=400, random_state=1 \n",
      "[CV]  criterion=gini, max_depth=107, max_features=auto, min_impurity_decrease=0.15, n_estimators=400, random_state=1, score=0.082, total=   0.6s\n",
      "[CV] criterion=gini, max_depth=107, max_features=auto, min_impurity_decrease=0.15, n_estimators=400, random_state=1 \n",
      "[CV]  criterion=gini, max_depth=107, max_features=auto, min_impurity_decrease=0.15, n_estimators=400, random_state=1, score=0.082, total=   0.6s\n",
      "[CV] criterion=gini, max_depth=107, max_features=auto, min_impurity_decrease=0.15, n_estimators=400, random_state=1 \n",
      "[CV]  criterion=gini, max_depth=107, max_features=auto, min_impurity_decrease=0.15, n_estimators=400, random_state=1, score=0.082, total=   0.6s\n",
      "[CV] criterion=gini, max_depth=107, max_features=auto, min_impurity_decrease=0.15, n_estimators=400, random_state=1 \n",
      "[CV]  criterion=gini, max_depth=107, max_features=auto, min_impurity_decrease=0.15, n_estimators=400, random_state=1, score=0.082, total=   0.6s\n",
      "[CV] criterion=gini, max_depth=107, max_features=auto, min_impurity_decrease=0.15, n_estimators=400, random_state=1 \n",
      "[CV]  criterion=gini, max_depth=107, max_features=auto, min_impurity_decrease=0.15, n_estimators=400, random_state=1, score=0.084, total=   0.6s\n",
      "[CV] criterion=gini, max_depth=107, max_features=auto, min_impurity_decrease=0.15, n_estimators=500, random_state=1 \n",
      "[CV]  criterion=gini, max_depth=107, max_features=auto, min_impurity_decrease=0.15, n_estimators=500, random_state=1, score=0.082, total=   0.8s\n",
      "[CV] criterion=gini, max_depth=107, max_features=auto, min_impurity_decrease=0.15, n_estimators=500, random_state=1 \n",
      "[CV]  criterion=gini, max_depth=107, max_features=auto, min_impurity_decrease=0.15, n_estimators=500, random_state=1, score=0.082, total=   0.8s\n",
      "[CV] criterion=gini, max_depth=107, max_features=auto, min_impurity_decrease=0.15, n_estimators=500, random_state=1 \n",
      "[CV]  criterion=gini, max_depth=107, max_features=auto, min_impurity_decrease=0.15, n_estimators=500, random_state=1, score=0.082, total=   0.8s\n",
      "[CV] criterion=gini, max_depth=107, max_features=auto, min_impurity_decrease=0.15, n_estimators=500, random_state=1 \n",
      "[CV]  criterion=gini, max_depth=107, max_features=auto, min_impurity_decrease=0.15, n_estimators=500, random_state=1, score=0.082, total=   0.8s\n",
      "[CV] criterion=gini, max_depth=107, max_features=auto, min_impurity_decrease=0.15, n_estimators=500, random_state=1 \n",
      "[CV]  criterion=gini, max_depth=107, max_features=auto, min_impurity_decrease=0.15, n_estimators=500, random_state=1, score=0.084, total=   0.8s\n",
      "[CV] criterion=gini, max_depth=107, max_features=sqrt, min_impurity_decrease=0, n_estimators=100, random_state=1 \n",
      "[CV]  criterion=gini, max_depth=107, max_features=sqrt, min_impurity_decrease=0, n_estimators=100, random_state=1, score=0.654, total=   0.5s\n",
      "[CV] criterion=gini, max_depth=107, max_features=sqrt, min_impurity_decrease=0, n_estimators=100, random_state=1 \n",
      "[CV]  criterion=gini, max_depth=107, max_features=sqrt, min_impurity_decrease=0, n_estimators=100, random_state=1, score=0.674, total=   0.5s\n",
      "[CV] criterion=gini, max_depth=107, max_features=sqrt, min_impurity_decrease=0, n_estimators=100, random_state=1 \n",
      "[CV]  criterion=gini, max_depth=107, max_features=sqrt, min_impurity_decrease=0, n_estimators=100, random_state=1, score=0.674, total=   0.5s\n",
      "[CV] criterion=gini, max_depth=107, max_features=sqrt, min_impurity_decrease=0, n_estimators=100, random_state=1 \n",
      "[CV]  criterion=gini, max_depth=107, max_features=sqrt, min_impurity_decrease=0, n_estimators=100, random_state=1, score=0.664, total=   0.5s\n",
      "[CV] criterion=gini, max_depth=107, max_features=sqrt, min_impurity_decrease=0, n_estimators=100, random_state=1 \n",
      "[CV]  criterion=gini, max_depth=107, max_features=sqrt, min_impurity_decrease=0, n_estimators=100, random_state=1, score=0.651, total=   0.5s\n",
      "[CV] criterion=gini, max_depth=107, max_features=sqrt, min_impurity_decrease=0, n_estimators=200, random_state=1 \n"
     ]
    },
    {
     "name": "stdout",
     "output_type": "stream",
     "text": [
      "[CV]  criterion=gini, max_depth=107, max_features=sqrt, min_impurity_decrease=0, n_estimators=200, random_state=1, score=0.658, total=   0.9s\n",
      "[CV] criterion=gini, max_depth=107, max_features=sqrt, min_impurity_decrease=0, n_estimators=200, random_state=1 \n",
      "[CV]  criterion=gini, max_depth=107, max_features=sqrt, min_impurity_decrease=0, n_estimators=200, random_state=1, score=0.692, total=   0.9s\n",
      "[CV] criterion=gini, max_depth=107, max_features=sqrt, min_impurity_decrease=0, n_estimators=200, random_state=1 \n",
      "[CV]  criterion=gini, max_depth=107, max_features=sqrt, min_impurity_decrease=0, n_estimators=200, random_state=1, score=0.676, total=   1.0s\n",
      "[CV] criterion=gini, max_depth=107, max_features=sqrt, min_impurity_decrease=0, n_estimators=200, random_state=1 \n",
      "[CV]  criterion=gini, max_depth=107, max_features=sqrt, min_impurity_decrease=0, n_estimators=200, random_state=1, score=0.670, total=   1.0s\n",
      "[CV] criterion=gini, max_depth=107, max_features=sqrt, min_impurity_decrease=0, n_estimators=200, random_state=1 \n",
      "[CV]  criterion=gini, max_depth=107, max_features=sqrt, min_impurity_decrease=0, n_estimators=200, random_state=1, score=0.651, total=   0.9s\n",
      "[CV] criterion=gini, max_depth=107, max_features=sqrt, min_impurity_decrease=0, n_estimators=300, random_state=1 \n",
      "[CV]  criterion=gini, max_depth=107, max_features=sqrt, min_impurity_decrease=0, n_estimators=300, random_state=1, score=0.668, total=   1.4s\n",
      "[CV] criterion=gini, max_depth=107, max_features=sqrt, min_impurity_decrease=0, n_estimators=300, random_state=1 \n",
      "[CV]  criterion=gini, max_depth=107, max_features=sqrt, min_impurity_decrease=0, n_estimators=300, random_state=1, score=0.682, total=   1.4s\n",
      "[CV] criterion=gini, max_depth=107, max_features=sqrt, min_impurity_decrease=0, n_estimators=300, random_state=1 \n",
      "[CV]  criterion=gini, max_depth=107, max_features=sqrt, min_impurity_decrease=0, n_estimators=300, random_state=1, score=0.684, total=   1.4s\n",
      "[CV] criterion=gini, max_depth=107, max_features=sqrt, min_impurity_decrease=0, n_estimators=300, random_state=1 \n",
      "[CV]  criterion=gini, max_depth=107, max_features=sqrt, min_impurity_decrease=0, n_estimators=300, random_state=1, score=0.666, total=   1.4s\n",
      "[CV] criterion=gini, max_depth=107, max_features=sqrt, min_impurity_decrease=0, n_estimators=300, random_state=1 \n",
      "[CV]  criterion=gini, max_depth=107, max_features=sqrt, min_impurity_decrease=0, n_estimators=300, random_state=1, score=0.659, total=   1.4s\n",
      "[CV] criterion=gini, max_depth=107, max_features=sqrt, min_impurity_decrease=0, n_estimators=400, random_state=1 \n",
      "[CV]  criterion=gini, max_depth=107, max_features=sqrt, min_impurity_decrease=0, n_estimators=400, random_state=1, score=0.672, total=   1.9s\n",
      "[CV] criterion=gini, max_depth=107, max_features=sqrt, min_impurity_decrease=0, n_estimators=400, random_state=1 \n",
      "[CV]  criterion=gini, max_depth=107, max_features=sqrt, min_impurity_decrease=0, n_estimators=400, random_state=1, score=0.690, total=   1.9s\n",
      "[CV] criterion=gini, max_depth=107, max_features=sqrt, min_impurity_decrease=0, n_estimators=400, random_state=1 \n",
      "[CV]  criterion=gini, max_depth=107, max_features=sqrt, min_impurity_decrease=0, n_estimators=400, random_state=1, score=0.688, total=   1.9s\n",
      "[CV] criterion=gini, max_depth=107, max_features=sqrt, min_impurity_decrease=0, n_estimators=400, random_state=1 \n",
      "[CV]  criterion=gini, max_depth=107, max_features=sqrt, min_impurity_decrease=0, n_estimators=400, random_state=1, score=0.670, total=   1.9s\n",
      "[CV] criterion=gini, max_depth=107, max_features=sqrt, min_impurity_decrease=0, n_estimators=400, random_state=1 \n",
      "[CV]  criterion=gini, max_depth=107, max_features=sqrt, min_impurity_decrease=0, n_estimators=400, random_state=1, score=0.661, total=   1.9s\n",
      "[CV] criterion=gini, max_depth=107, max_features=sqrt, min_impurity_decrease=0, n_estimators=500, random_state=1 \n",
      "[CV]  criterion=gini, max_depth=107, max_features=sqrt, min_impurity_decrease=0, n_estimators=500, random_state=1, score=0.672, total=   2.4s\n",
      "[CV] criterion=gini, max_depth=107, max_features=sqrt, min_impurity_decrease=0, n_estimators=500, random_state=1 \n",
      "[CV]  criterion=gini, max_depth=107, max_features=sqrt, min_impurity_decrease=0, n_estimators=500, random_state=1, score=0.688, total=   2.4s\n",
      "[CV] criterion=gini, max_depth=107, max_features=sqrt, min_impurity_decrease=0, n_estimators=500, random_state=1 \n",
      "[CV]  criterion=gini, max_depth=107, max_features=sqrt, min_impurity_decrease=0, n_estimators=500, random_state=1, score=0.694, total=   2.4s\n",
      "[CV] criterion=gini, max_depth=107, max_features=sqrt, min_impurity_decrease=0, n_estimators=500, random_state=1 \n",
      "[CV]  criterion=gini, max_depth=107, max_features=sqrt, min_impurity_decrease=0, n_estimators=500, random_state=1, score=0.672, total=   2.4s\n",
      "[CV] criterion=gini, max_depth=107, max_features=sqrt, min_impurity_decrease=0, n_estimators=500, random_state=1 \n",
      "[CV]  criterion=gini, max_depth=107, max_features=sqrt, min_impurity_decrease=0, n_estimators=500, random_state=1, score=0.667, total=   2.4s\n",
      "[CV] criterion=gini, max_depth=107, max_features=sqrt, min_impurity_decrease=0.05, n_estimators=100, random_state=1 \n",
      "[CV]  criterion=gini, max_depth=107, max_features=sqrt, min_impurity_decrease=0.05, n_estimators=100, random_state=1, score=0.082, total=   0.2s\n",
      "[CV] criterion=gini, max_depth=107, max_features=sqrt, min_impurity_decrease=0.05, n_estimators=100, random_state=1 \n",
      "[CV]  criterion=gini, max_depth=107, max_features=sqrt, min_impurity_decrease=0.05, n_estimators=100, random_state=1, score=0.082, total=   0.2s\n",
      "[CV] criterion=gini, max_depth=107, max_features=sqrt, min_impurity_decrease=0.05, n_estimators=100, random_state=1 \n",
      "[CV]  criterion=gini, max_depth=107, max_features=sqrt, min_impurity_decrease=0.05, n_estimators=100, random_state=1, score=0.082, total=   0.2s\n",
      "[CV] criterion=gini, max_depth=107, max_features=sqrt, min_impurity_decrease=0.05, n_estimators=100, random_state=1 \n",
      "[CV]  criterion=gini, max_depth=107, max_features=sqrt, min_impurity_decrease=0.05, n_estimators=100, random_state=1, score=0.082, total=   0.2s\n",
      "[CV] criterion=gini, max_depth=107, max_features=sqrt, min_impurity_decrease=0.05, n_estimators=100, random_state=1 \n",
      "[CV]  criterion=gini, max_depth=107, max_features=sqrt, min_impurity_decrease=0.05, n_estimators=100, random_state=1, score=0.084, total=   0.2s\n",
      "[CV] criterion=gini, max_depth=107, max_features=sqrt, min_impurity_decrease=0.05, n_estimators=200, random_state=1 \n",
      "[CV]  criterion=gini, max_depth=107, max_features=sqrt, min_impurity_decrease=0.05, n_estimators=200, random_state=1, score=0.082, total=   0.3s\n",
      "[CV] criterion=gini, max_depth=107, max_features=sqrt, min_impurity_decrease=0.05, n_estimators=200, random_state=1 \n",
      "[CV]  criterion=gini, max_depth=107, max_features=sqrt, min_impurity_decrease=0.05, n_estimators=200, random_state=1, score=0.082, total=   0.3s\n",
      "[CV] criterion=gini, max_depth=107, max_features=sqrt, min_impurity_decrease=0.05, n_estimators=200, random_state=1 \n",
      "[CV]  criterion=gini, max_depth=107, max_features=sqrt, min_impurity_decrease=0.05, n_estimators=200, random_state=1, score=0.082, total=   0.3s\n",
      "[CV] criterion=gini, max_depth=107, max_features=sqrt, min_impurity_decrease=0.05, n_estimators=200, random_state=1 \n",
      "[CV]  criterion=gini, max_depth=107, max_features=sqrt, min_impurity_decrease=0.05, n_estimators=200, random_state=1, score=0.082, total=   0.3s\n",
      "[CV] criterion=gini, max_depth=107, max_features=sqrt, min_impurity_decrease=0.05, n_estimators=200, random_state=1 \n",
      "[CV]  criterion=gini, max_depth=107, max_features=sqrt, min_impurity_decrease=0.05, n_estimators=200, random_state=1, score=0.084, total=   0.3s\n",
      "[CV] criterion=gini, max_depth=107, max_features=sqrt, min_impurity_decrease=0.05, n_estimators=300, random_state=1 \n",
      "[CV]  criterion=gini, max_depth=107, max_features=sqrt, min_impurity_decrease=0.05, n_estimators=300, random_state=1, score=0.082, total=   0.5s\n",
      "[CV] criterion=gini, max_depth=107, max_features=sqrt, min_impurity_decrease=0.05, n_estimators=300, random_state=1 \n",
      "[CV]  criterion=gini, max_depth=107, max_features=sqrt, min_impurity_decrease=0.05, n_estimators=300, random_state=1, score=0.082, total=   0.4s\n",
      "[CV] criterion=gini, max_depth=107, max_features=sqrt, min_impurity_decrease=0.05, n_estimators=300, random_state=1 \n"
     ]
    },
    {
     "name": "stdout",
     "output_type": "stream",
     "text": [
      "[CV]  criterion=gini, max_depth=107, max_features=sqrt, min_impurity_decrease=0.05, n_estimators=300, random_state=1, score=0.082, total=   0.5s\n",
      "[CV] criterion=gini, max_depth=107, max_features=sqrt, min_impurity_decrease=0.05, n_estimators=300, random_state=1 \n",
      "[CV]  criterion=gini, max_depth=107, max_features=sqrt, min_impurity_decrease=0.05, n_estimators=300, random_state=1, score=0.082, total=   0.5s\n",
      "[CV] criterion=gini, max_depth=107, max_features=sqrt, min_impurity_decrease=0.05, n_estimators=300, random_state=1 \n",
      "[CV]  criterion=gini, max_depth=107, max_features=sqrt, min_impurity_decrease=0.05, n_estimators=300, random_state=1, score=0.084, total=   0.5s\n",
      "[CV] criterion=gini, max_depth=107, max_features=sqrt, min_impurity_decrease=0.05, n_estimators=400, random_state=1 \n",
      "[CV]  criterion=gini, max_depth=107, max_features=sqrt, min_impurity_decrease=0.05, n_estimators=400, random_state=1, score=0.082, total=   0.6s\n",
      "[CV] criterion=gini, max_depth=107, max_features=sqrt, min_impurity_decrease=0.05, n_estimators=400, random_state=1 \n",
      "[CV]  criterion=gini, max_depth=107, max_features=sqrt, min_impurity_decrease=0.05, n_estimators=400, random_state=1, score=0.082, total=   0.6s\n",
      "[CV] criterion=gini, max_depth=107, max_features=sqrt, min_impurity_decrease=0.05, n_estimators=400, random_state=1 \n",
      "[CV]  criterion=gini, max_depth=107, max_features=sqrt, min_impurity_decrease=0.05, n_estimators=400, random_state=1, score=0.082, total=   0.6s\n",
      "[CV] criterion=gini, max_depth=107, max_features=sqrt, min_impurity_decrease=0.05, n_estimators=400, random_state=1 \n",
      "[CV]  criterion=gini, max_depth=107, max_features=sqrt, min_impurity_decrease=0.05, n_estimators=400, random_state=1, score=0.082, total=   0.6s\n",
      "[CV] criterion=gini, max_depth=107, max_features=sqrt, min_impurity_decrease=0.05, n_estimators=400, random_state=1 \n",
      "[CV]  criterion=gini, max_depth=107, max_features=sqrt, min_impurity_decrease=0.05, n_estimators=400, random_state=1, score=0.084, total=   0.6s\n",
      "[CV] criterion=gini, max_depth=107, max_features=sqrt, min_impurity_decrease=0.05, n_estimators=500, random_state=1 \n",
      "[CV]  criterion=gini, max_depth=107, max_features=sqrt, min_impurity_decrease=0.05, n_estimators=500, random_state=1, score=0.082, total=   0.8s\n",
      "[CV] criterion=gini, max_depth=107, max_features=sqrt, min_impurity_decrease=0.05, n_estimators=500, random_state=1 \n",
      "[CV]  criterion=gini, max_depth=107, max_features=sqrt, min_impurity_decrease=0.05, n_estimators=500, random_state=1, score=0.082, total=   0.8s\n",
      "[CV] criterion=gini, max_depth=107, max_features=sqrt, min_impurity_decrease=0.05, n_estimators=500, random_state=1 \n",
      "[CV]  criterion=gini, max_depth=107, max_features=sqrt, min_impurity_decrease=0.05, n_estimators=500, random_state=1, score=0.082, total=   0.8s\n",
      "[CV] criterion=gini, max_depth=107, max_features=sqrt, min_impurity_decrease=0.05, n_estimators=500, random_state=1 \n",
      "[CV]  criterion=gini, max_depth=107, max_features=sqrt, min_impurity_decrease=0.05, n_estimators=500, random_state=1, score=0.082, total=   0.8s\n",
      "[CV] criterion=gini, max_depth=107, max_features=sqrt, min_impurity_decrease=0.05, n_estimators=500, random_state=1 \n",
      "[CV]  criterion=gini, max_depth=107, max_features=sqrt, min_impurity_decrease=0.05, n_estimators=500, random_state=1, score=0.084, total=   0.8s\n",
      "[CV] criterion=gini, max_depth=107, max_features=sqrt, min_impurity_decrease=0.1, n_estimators=100, random_state=1 \n",
      "[CV]  criterion=gini, max_depth=107, max_features=sqrt, min_impurity_decrease=0.1, n_estimators=100, random_state=1, score=0.082, total=   0.2s\n",
      "[CV] criterion=gini, max_depth=107, max_features=sqrt, min_impurity_decrease=0.1, n_estimators=100, random_state=1 \n",
      "[CV]  criterion=gini, max_depth=107, max_features=sqrt, min_impurity_decrease=0.1, n_estimators=100, random_state=1, score=0.082, total=   0.2s\n",
      "[CV] criterion=gini, max_depth=107, max_features=sqrt, min_impurity_decrease=0.1, n_estimators=100, random_state=1 \n",
      "[CV]  criterion=gini, max_depth=107, max_features=sqrt, min_impurity_decrease=0.1, n_estimators=100, random_state=1, score=0.082, total=   0.2s\n",
      "[CV] criterion=gini, max_depth=107, max_features=sqrt, min_impurity_decrease=0.1, n_estimators=100, random_state=1 \n",
      "[CV]  criterion=gini, max_depth=107, max_features=sqrt, min_impurity_decrease=0.1, n_estimators=100, random_state=1, score=0.082, total=   0.2s\n",
      "[CV] criterion=gini, max_depth=107, max_features=sqrt, min_impurity_decrease=0.1, n_estimators=100, random_state=1 \n",
      "[CV]  criterion=gini, max_depth=107, max_features=sqrt, min_impurity_decrease=0.1, n_estimators=100, random_state=1, score=0.084, total=   0.2s\n",
      "[CV] criterion=gini, max_depth=107, max_features=sqrt, min_impurity_decrease=0.1, n_estimators=200, random_state=1 \n",
      "[CV]  criterion=gini, max_depth=107, max_features=sqrt, min_impurity_decrease=0.1, n_estimators=200, random_state=1, score=0.082, total=   0.4s\n",
      "[CV] criterion=gini, max_depth=107, max_features=sqrt, min_impurity_decrease=0.1, n_estimators=200, random_state=1 \n",
      "[CV]  criterion=gini, max_depth=107, max_features=sqrt, min_impurity_decrease=0.1, n_estimators=200, random_state=1, score=0.082, total=   0.3s\n",
      "[CV] criterion=gini, max_depth=107, max_features=sqrt, min_impurity_decrease=0.1, n_estimators=200, random_state=1 \n",
      "[CV]  criterion=gini, max_depth=107, max_features=sqrt, min_impurity_decrease=0.1, n_estimators=200, random_state=1, score=0.082, total=   0.3s\n",
      "[CV] criterion=gini, max_depth=107, max_features=sqrt, min_impurity_decrease=0.1, n_estimators=200, random_state=1 \n",
      "[CV]  criterion=gini, max_depth=107, max_features=sqrt, min_impurity_decrease=0.1, n_estimators=200, random_state=1, score=0.082, total=   0.4s\n",
      "[CV] criterion=gini, max_depth=107, max_features=sqrt, min_impurity_decrease=0.1, n_estimators=200, random_state=1 \n",
      "[CV]  criterion=gini, max_depth=107, max_features=sqrt, min_impurity_decrease=0.1, n_estimators=200, random_state=1, score=0.084, total=   0.5s\n",
      "[CV] criterion=gini, max_depth=107, max_features=sqrt, min_impurity_decrease=0.1, n_estimators=300, random_state=1 \n",
      "[CV]  criterion=gini, max_depth=107, max_features=sqrt, min_impurity_decrease=0.1, n_estimators=300, random_state=1, score=0.082, total=   0.5s\n",
      "[CV] criterion=gini, max_depth=107, max_features=sqrt, min_impurity_decrease=0.1, n_estimators=300, random_state=1 \n",
      "[CV]  criterion=gini, max_depth=107, max_features=sqrt, min_impurity_decrease=0.1, n_estimators=300, random_state=1, score=0.082, total=   0.5s\n",
      "[CV] criterion=gini, max_depth=107, max_features=sqrt, min_impurity_decrease=0.1, n_estimators=300, random_state=1 \n",
      "[CV]  criterion=gini, max_depth=107, max_features=sqrt, min_impurity_decrease=0.1, n_estimators=300, random_state=1, score=0.082, total=   0.5s\n",
      "[CV] criterion=gini, max_depth=107, max_features=sqrt, min_impurity_decrease=0.1, n_estimators=300, random_state=1 \n",
      "[CV]  criterion=gini, max_depth=107, max_features=sqrt, min_impurity_decrease=0.1, n_estimators=300, random_state=1, score=0.082, total=   0.6s\n",
      "[CV] criterion=gini, max_depth=107, max_features=sqrt, min_impurity_decrease=0.1, n_estimators=300, random_state=1 \n",
      "[CV]  criterion=gini, max_depth=107, max_features=sqrt, min_impurity_decrease=0.1, n_estimators=300, random_state=1, score=0.084, total=   0.6s\n",
      "[CV] criterion=gini, max_depth=107, max_features=sqrt, min_impurity_decrease=0.1, n_estimators=400, random_state=1 \n",
      "[CV]  criterion=gini, max_depth=107, max_features=sqrt, min_impurity_decrease=0.1, n_estimators=400, random_state=1, score=0.082, total=   0.8s\n",
      "[CV] criterion=gini, max_depth=107, max_features=sqrt, min_impurity_decrease=0.1, n_estimators=400, random_state=1 \n",
      "[CV]  criterion=gini, max_depth=107, max_features=sqrt, min_impurity_decrease=0.1, n_estimators=400, random_state=1, score=0.082, total=   0.8s\n",
      "[CV] criterion=gini, max_depth=107, max_features=sqrt, min_impurity_decrease=0.1, n_estimators=400, random_state=1 \n",
      "[CV]  criterion=gini, max_depth=107, max_features=sqrt, min_impurity_decrease=0.1, n_estimators=400, random_state=1, score=0.082, total=   0.8s\n",
      "[CV] criterion=gini, max_depth=107, max_features=sqrt, min_impurity_decrease=0.1, n_estimators=400, random_state=1 \n",
      "[CV]  criterion=gini, max_depth=107, max_features=sqrt, min_impurity_decrease=0.1, n_estimators=400, random_state=1, score=0.082, total=   0.7s\n",
      "[CV] criterion=gini, max_depth=107, max_features=sqrt, min_impurity_decrease=0.1, n_estimators=400, random_state=1 \n"
     ]
    },
    {
     "name": "stdout",
     "output_type": "stream",
     "text": [
      "[CV]  criterion=gini, max_depth=107, max_features=sqrt, min_impurity_decrease=0.1, n_estimators=400, random_state=1, score=0.084, total=   0.9s\n",
      "[CV] criterion=gini, max_depth=107, max_features=sqrt, min_impurity_decrease=0.1, n_estimators=500, random_state=1 \n",
      "[CV]  criterion=gini, max_depth=107, max_features=sqrt, min_impurity_decrease=0.1, n_estimators=500, random_state=1, score=0.082, total=   1.1s\n",
      "[CV] criterion=gini, max_depth=107, max_features=sqrt, min_impurity_decrease=0.1, n_estimators=500, random_state=1 \n",
      "[CV]  criterion=gini, max_depth=107, max_features=sqrt, min_impurity_decrease=0.1, n_estimators=500, random_state=1, score=0.082, total=   1.1s\n",
      "[CV] criterion=gini, max_depth=107, max_features=sqrt, min_impurity_decrease=0.1, n_estimators=500, random_state=1 \n",
      "[CV]  criterion=gini, max_depth=107, max_features=sqrt, min_impurity_decrease=0.1, n_estimators=500, random_state=1, score=0.082, total=   1.0s\n",
      "[CV] criterion=gini, max_depth=107, max_features=sqrt, min_impurity_decrease=0.1, n_estimators=500, random_state=1 \n",
      "[CV]  criterion=gini, max_depth=107, max_features=sqrt, min_impurity_decrease=0.1, n_estimators=500, random_state=1, score=0.082, total=   0.9s\n",
      "[CV] criterion=gini, max_depth=107, max_features=sqrt, min_impurity_decrease=0.1, n_estimators=500, random_state=1 \n",
      "[CV]  criterion=gini, max_depth=107, max_features=sqrt, min_impurity_decrease=0.1, n_estimators=500, random_state=1, score=0.084, total=   0.8s\n",
      "[CV] criterion=gini, max_depth=107, max_features=sqrt, min_impurity_decrease=0.15, n_estimators=100, random_state=1 \n",
      "[CV]  criterion=gini, max_depth=107, max_features=sqrt, min_impurity_decrease=0.15, n_estimators=100, random_state=1, score=0.082, total=   0.2s\n",
      "[CV] criterion=gini, max_depth=107, max_features=sqrt, min_impurity_decrease=0.15, n_estimators=100, random_state=1 \n",
      "[CV]  criterion=gini, max_depth=107, max_features=sqrt, min_impurity_decrease=0.15, n_estimators=100, random_state=1, score=0.082, total=   0.2s\n",
      "[CV] criterion=gini, max_depth=107, max_features=sqrt, min_impurity_decrease=0.15, n_estimators=100, random_state=1 \n",
      "[CV]  criterion=gini, max_depth=107, max_features=sqrt, min_impurity_decrease=0.15, n_estimators=100, random_state=1, score=0.082, total=   0.2s\n",
      "[CV] criterion=gini, max_depth=107, max_features=sqrt, min_impurity_decrease=0.15, n_estimators=100, random_state=1 \n",
      "[CV]  criterion=gini, max_depth=107, max_features=sqrt, min_impurity_decrease=0.15, n_estimators=100, random_state=1, score=0.082, total=   0.2s\n",
      "[CV] criterion=gini, max_depth=107, max_features=sqrt, min_impurity_decrease=0.15, n_estimators=100, random_state=1 \n",
      "[CV]  criterion=gini, max_depth=107, max_features=sqrt, min_impurity_decrease=0.15, n_estimators=100, random_state=1, score=0.084, total=   0.2s\n",
      "[CV] criterion=gini, max_depth=107, max_features=sqrt, min_impurity_decrease=0.15, n_estimators=200, random_state=1 \n",
      "[CV]  criterion=gini, max_depth=107, max_features=sqrt, min_impurity_decrease=0.15, n_estimators=200, random_state=1, score=0.082, total=   0.3s\n",
      "[CV] criterion=gini, max_depth=107, max_features=sqrt, min_impurity_decrease=0.15, n_estimators=200, random_state=1 \n",
      "[CV]  criterion=gini, max_depth=107, max_features=sqrt, min_impurity_decrease=0.15, n_estimators=200, random_state=1, score=0.082, total=   0.3s\n",
      "[CV] criterion=gini, max_depth=107, max_features=sqrt, min_impurity_decrease=0.15, n_estimators=200, random_state=1 \n",
      "[CV]  criterion=gini, max_depth=107, max_features=sqrt, min_impurity_decrease=0.15, n_estimators=200, random_state=1, score=0.082, total=   0.4s\n",
      "[CV] criterion=gini, max_depth=107, max_features=sqrt, min_impurity_decrease=0.15, n_estimators=200, random_state=1 \n",
      "[CV]  criterion=gini, max_depth=107, max_features=sqrt, min_impurity_decrease=0.15, n_estimators=200, random_state=1, score=0.082, total=   0.4s\n",
      "[CV] criterion=gini, max_depth=107, max_features=sqrt, min_impurity_decrease=0.15, n_estimators=200, random_state=1 \n",
      "[CV]  criterion=gini, max_depth=107, max_features=sqrt, min_impurity_decrease=0.15, n_estimators=200, random_state=1, score=0.084, total=   0.4s\n",
      "[CV] criterion=gini, max_depth=107, max_features=sqrt, min_impurity_decrease=0.15, n_estimators=300, random_state=1 \n",
      "[CV]  criterion=gini, max_depth=107, max_features=sqrt, min_impurity_decrease=0.15, n_estimators=300, random_state=1, score=0.082, total=   0.6s\n",
      "[CV] criterion=gini, max_depth=107, max_features=sqrt, min_impurity_decrease=0.15, n_estimators=300, random_state=1 \n",
      "[CV]  criterion=gini, max_depth=107, max_features=sqrt, min_impurity_decrease=0.15, n_estimators=300, random_state=1, score=0.082, total=   0.5s\n",
      "[CV] criterion=gini, max_depth=107, max_features=sqrt, min_impurity_decrease=0.15, n_estimators=300, random_state=1 \n",
      "[CV]  criterion=gini, max_depth=107, max_features=sqrt, min_impurity_decrease=0.15, n_estimators=300, random_state=1, score=0.082, total=   0.5s\n",
      "[CV] criterion=gini, max_depth=107, max_features=sqrt, min_impurity_decrease=0.15, n_estimators=300, random_state=1 \n",
      "[CV]  criterion=gini, max_depth=107, max_features=sqrt, min_impurity_decrease=0.15, n_estimators=300, random_state=1, score=0.082, total=   0.5s\n",
      "[CV] criterion=gini, max_depth=107, max_features=sqrt, min_impurity_decrease=0.15, n_estimators=300, random_state=1 \n",
      "[CV]  criterion=gini, max_depth=107, max_features=sqrt, min_impurity_decrease=0.15, n_estimators=300, random_state=1, score=0.084, total=   0.5s\n",
      "[CV] criterion=gini, max_depth=107, max_features=sqrt, min_impurity_decrease=0.15, n_estimators=400, random_state=1 \n",
      "[CV]  criterion=gini, max_depth=107, max_features=sqrt, min_impurity_decrease=0.15, n_estimators=400, random_state=1, score=0.082, total=   0.6s\n",
      "[CV] criterion=gini, max_depth=107, max_features=sqrt, min_impurity_decrease=0.15, n_estimators=400, random_state=1 \n",
      "[CV]  criterion=gini, max_depth=107, max_features=sqrt, min_impurity_decrease=0.15, n_estimators=400, random_state=1, score=0.082, total=   0.7s\n",
      "[CV] criterion=gini, max_depth=107, max_features=sqrt, min_impurity_decrease=0.15, n_estimators=400, random_state=1 \n",
      "[CV]  criterion=gini, max_depth=107, max_features=sqrt, min_impurity_decrease=0.15, n_estimators=400, random_state=1, score=0.082, total=   0.7s\n",
      "[CV] criterion=gini, max_depth=107, max_features=sqrt, min_impurity_decrease=0.15, n_estimators=400, random_state=1 \n",
      "[CV]  criterion=gini, max_depth=107, max_features=sqrt, min_impurity_decrease=0.15, n_estimators=400, random_state=1, score=0.082, total=   0.8s\n",
      "[CV] criterion=gini, max_depth=107, max_features=sqrt, min_impurity_decrease=0.15, n_estimators=400, random_state=1 \n",
      "[CV]  criterion=gini, max_depth=107, max_features=sqrt, min_impurity_decrease=0.15, n_estimators=400, random_state=1, score=0.084, total=   0.7s\n",
      "[CV] criterion=gini, max_depth=107, max_features=sqrt, min_impurity_decrease=0.15, n_estimators=500, random_state=1 \n",
      "[CV]  criterion=gini, max_depth=107, max_features=sqrt, min_impurity_decrease=0.15, n_estimators=500, random_state=1, score=0.082, total=   0.8s\n",
      "[CV] criterion=gini, max_depth=107, max_features=sqrt, min_impurity_decrease=0.15, n_estimators=500, random_state=1 \n",
      "[CV]  criterion=gini, max_depth=107, max_features=sqrt, min_impurity_decrease=0.15, n_estimators=500, random_state=1, score=0.082, total=   0.8s\n",
      "[CV] criterion=gini, max_depth=107, max_features=sqrt, min_impurity_decrease=0.15, n_estimators=500, random_state=1 \n",
      "[CV]  criterion=gini, max_depth=107, max_features=sqrt, min_impurity_decrease=0.15, n_estimators=500, random_state=1, score=0.082, total=   0.8s\n",
      "[CV] criterion=gini, max_depth=107, max_features=sqrt, min_impurity_decrease=0.15, n_estimators=500, random_state=1 \n",
      "[CV]  criterion=gini, max_depth=107, max_features=sqrt, min_impurity_decrease=0.15, n_estimators=500, random_state=1, score=0.082, total=   0.8s\n",
      "[CV] criterion=gini, max_depth=107, max_features=sqrt, min_impurity_decrease=0.15, n_estimators=500, random_state=1 \n",
      "[CV]  criterion=gini, max_depth=107, max_features=sqrt, min_impurity_decrease=0.15, n_estimators=500, random_state=1, score=0.084, total=   0.8s\n",
      "[CV] criterion=gini, max_depth=107, max_features=log2, min_impurity_decrease=0, n_estimators=100, random_state=1 \n",
      "[CV]  criterion=gini, max_depth=107, max_features=log2, min_impurity_decrease=0, n_estimators=100, random_state=1, score=0.654, total=   0.5s\n",
      "[CV] criterion=gini, max_depth=107, max_features=log2, min_impurity_decrease=0, n_estimators=100, random_state=1 \n"
     ]
    },
    {
     "name": "stdout",
     "output_type": "stream",
     "text": [
      "[CV]  criterion=gini, max_depth=107, max_features=log2, min_impurity_decrease=0, n_estimators=100, random_state=1, score=0.674, total=   0.5s\n",
      "[CV] criterion=gini, max_depth=107, max_features=log2, min_impurity_decrease=0, n_estimators=100, random_state=1 \n",
      "[CV]  criterion=gini, max_depth=107, max_features=log2, min_impurity_decrease=0, n_estimators=100, random_state=1, score=0.674, total=   0.5s\n",
      "[CV] criterion=gini, max_depth=107, max_features=log2, min_impurity_decrease=0, n_estimators=100, random_state=1 \n",
      "[CV]  criterion=gini, max_depth=107, max_features=log2, min_impurity_decrease=0, n_estimators=100, random_state=1, score=0.664, total=   0.5s\n",
      "[CV] criterion=gini, max_depth=107, max_features=log2, min_impurity_decrease=0, n_estimators=100, random_state=1 \n",
      "[CV]  criterion=gini, max_depth=107, max_features=log2, min_impurity_decrease=0, n_estimators=100, random_state=1, score=0.651, total=   0.5s\n",
      "[CV] criterion=gini, max_depth=107, max_features=log2, min_impurity_decrease=0, n_estimators=200, random_state=1 \n",
      "[CV]  criterion=gini, max_depth=107, max_features=log2, min_impurity_decrease=0, n_estimators=200, random_state=1, score=0.658, total=   1.0s\n",
      "[CV] criterion=gini, max_depth=107, max_features=log2, min_impurity_decrease=0, n_estimators=200, random_state=1 \n",
      "[CV]  criterion=gini, max_depth=107, max_features=log2, min_impurity_decrease=0, n_estimators=200, random_state=1, score=0.692, total=   1.0s\n",
      "[CV] criterion=gini, max_depth=107, max_features=log2, min_impurity_decrease=0, n_estimators=200, random_state=1 \n",
      "[CV]  criterion=gini, max_depth=107, max_features=log2, min_impurity_decrease=0, n_estimators=200, random_state=1, score=0.676, total=   1.0s\n",
      "[CV] criterion=gini, max_depth=107, max_features=log2, min_impurity_decrease=0, n_estimators=200, random_state=1 \n",
      "[CV]  criterion=gini, max_depth=107, max_features=log2, min_impurity_decrease=0, n_estimators=200, random_state=1, score=0.670, total=   1.0s\n",
      "[CV] criterion=gini, max_depth=107, max_features=log2, min_impurity_decrease=0, n_estimators=200, random_state=1 \n",
      "[CV]  criterion=gini, max_depth=107, max_features=log2, min_impurity_decrease=0, n_estimators=200, random_state=1, score=0.651, total=   1.1s\n",
      "[CV] criterion=gini, max_depth=107, max_features=log2, min_impurity_decrease=0, n_estimators=300, random_state=1 \n",
      "[CV]  criterion=gini, max_depth=107, max_features=log2, min_impurity_decrease=0, n_estimators=300, random_state=1, score=0.668, total=   1.6s\n",
      "[CV] criterion=gini, max_depth=107, max_features=log2, min_impurity_decrease=0, n_estimators=300, random_state=1 \n",
      "[CV]  criterion=gini, max_depth=107, max_features=log2, min_impurity_decrease=0, n_estimators=300, random_state=1, score=0.682, total=   1.6s\n",
      "[CV] criterion=gini, max_depth=107, max_features=log2, min_impurity_decrease=0, n_estimators=300, random_state=1 \n"
     ]
    },
    {
     "ename": "KeyboardInterrupt",
     "evalue": "",
     "output_type": "error",
     "traceback": [
      "\u001b[1;31m---------------------------------------------------------------------------\u001b[0m",
      "\u001b[1;31mKeyboardInterrupt\u001b[0m                         Traceback (most recent call last)",
      "\u001b[1;32m<ipython-input-39-ba5299bd3eea>\u001b[0m in \u001b[0;36m<module>\u001b[1;34m\u001b[0m\n\u001b[0;32m     10\u001b[0m test_model=model_selection.GridSearchCV(estimator=random_forest,param_grid=param_grid,\n\u001b[0;32m     11\u001b[0m                                        scoring='accuracy',verbose=10)\n\u001b[1;32m---> 12\u001b[1;33m \u001b[0mtest_model\u001b[0m\u001b[1;33m.\u001b[0m\u001b[0mfit\u001b[0m\u001b[1;33m(\u001b[0m\u001b[0mX_train_2\u001b[0m\u001b[1;33m,\u001b[0m\u001b[0my_train_2\u001b[0m\u001b[1;33m)\u001b[0m\u001b[1;33m\u001b[0m\u001b[1;33m\u001b[0m\u001b[0m\n\u001b[0m\u001b[0;32m     13\u001b[0m \u001b[0mprint\u001b[0m\u001b[1;33m(\u001b[0m\u001b[0mtest_model\u001b[0m\u001b[1;33m.\u001b[0m\u001b[0mbest_score_\u001b[0m\u001b[1;33m)\u001b[0m\u001b[1;33m\u001b[0m\u001b[1;33m\u001b[0m\u001b[0m\n\u001b[0;32m     14\u001b[0m \u001b[0mprint\u001b[0m\u001b[1;33m(\u001b[0m\u001b[0mtest_model\u001b[0m\u001b[1;33m.\u001b[0m\u001b[0mbest_estimator_\u001b[0m\u001b[1;33m.\u001b[0m\u001b[0mget_params\u001b[0m\u001b[1;33m(\u001b[0m\u001b[1;33m)\u001b[0m\u001b[1;33m)\u001b[0m\u001b[1;33m\u001b[0m\u001b[1;33m\u001b[0m\u001b[0m\n",
      "\u001b[1;32m~\\AppData\\Roaming\\Python\\Python38\\site-packages\\sklearn\\utils\\validation.py\u001b[0m in \u001b[0;36minner_f\u001b[1;34m(*args, **kwargs)\u001b[0m\n\u001b[0;32m     70\u001b[0m                           FutureWarning)\n\u001b[0;32m     71\u001b[0m         \u001b[0mkwargs\u001b[0m\u001b[1;33m.\u001b[0m\u001b[0mupdate\u001b[0m\u001b[1;33m(\u001b[0m\u001b[1;33m{\u001b[0m\u001b[0mk\u001b[0m\u001b[1;33m:\u001b[0m \u001b[0marg\u001b[0m \u001b[1;32mfor\u001b[0m \u001b[0mk\u001b[0m\u001b[1;33m,\u001b[0m \u001b[0marg\u001b[0m \u001b[1;32min\u001b[0m \u001b[0mzip\u001b[0m\u001b[1;33m(\u001b[0m\u001b[0msig\u001b[0m\u001b[1;33m.\u001b[0m\u001b[0mparameters\u001b[0m\u001b[1;33m,\u001b[0m \u001b[0margs\u001b[0m\u001b[1;33m)\u001b[0m\u001b[1;33m}\u001b[0m\u001b[1;33m)\u001b[0m\u001b[1;33m\u001b[0m\u001b[1;33m\u001b[0m\u001b[0m\n\u001b[1;32m---> 72\u001b[1;33m         \u001b[1;32mreturn\u001b[0m \u001b[0mf\u001b[0m\u001b[1;33m(\u001b[0m\u001b[1;33m**\u001b[0m\u001b[0mkwargs\u001b[0m\u001b[1;33m)\u001b[0m\u001b[1;33m\u001b[0m\u001b[1;33m\u001b[0m\u001b[0m\n\u001b[0m\u001b[0;32m     73\u001b[0m     \u001b[1;32mreturn\u001b[0m \u001b[0minner_f\u001b[0m\u001b[1;33m\u001b[0m\u001b[1;33m\u001b[0m\u001b[0m\n\u001b[0;32m     74\u001b[0m \u001b[1;33m\u001b[0m\u001b[0m\n",
      "\u001b[1;32m~\\AppData\\Roaming\\Python\\Python38\\site-packages\\sklearn\\model_selection\\_search.py\u001b[0m in \u001b[0;36mfit\u001b[1;34m(self, X, y, groups, **fit_params)\u001b[0m\n\u001b[0;32m    734\u001b[0m                 \u001b[1;32mreturn\u001b[0m \u001b[0mresults\u001b[0m\u001b[1;33m\u001b[0m\u001b[1;33m\u001b[0m\u001b[0m\n\u001b[0;32m    735\u001b[0m \u001b[1;33m\u001b[0m\u001b[0m\n\u001b[1;32m--> 736\u001b[1;33m             \u001b[0mself\u001b[0m\u001b[1;33m.\u001b[0m\u001b[0m_run_search\u001b[0m\u001b[1;33m(\u001b[0m\u001b[0mevaluate_candidates\u001b[0m\u001b[1;33m)\u001b[0m\u001b[1;33m\u001b[0m\u001b[1;33m\u001b[0m\u001b[0m\n\u001b[0m\u001b[0;32m    737\u001b[0m \u001b[1;33m\u001b[0m\u001b[0m\n\u001b[0;32m    738\u001b[0m         \u001b[1;31m# For multi-metric evaluation, store the best_index_, best_params_ and\u001b[0m\u001b[1;33m\u001b[0m\u001b[1;33m\u001b[0m\u001b[1;33m\u001b[0m\u001b[0m\n",
      "\u001b[1;32m~\\AppData\\Roaming\\Python\\Python38\\site-packages\\sklearn\\model_selection\\_search.py\u001b[0m in \u001b[0;36m_run_search\u001b[1;34m(self, evaluate_candidates)\u001b[0m\n\u001b[0;32m   1186\u001b[0m     \u001b[1;32mdef\u001b[0m \u001b[0m_run_search\u001b[0m\u001b[1;33m(\u001b[0m\u001b[0mself\u001b[0m\u001b[1;33m,\u001b[0m \u001b[0mevaluate_candidates\u001b[0m\u001b[1;33m)\u001b[0m\u001b[1;33m:\u001b[0m\u001b[1;33m\u001b[0m\u001b[1;33m\u001b[0m\u001b[0m\n\u001b[0;32m   1187\u001b[0m         \u001b[1;34m\"\"\"Search all candidates in param_grid\"\"\"\u001b[0m\u001b[1;33m\u001b[0m\u001b[1;33m\u001b[0m\u001b[0m\n\u001b[1;32m-> 1188\u001b[1;33m         \u001b[0mevaluate_candidates\u001b[0m\u001b[1;33m(\u001b[0m\u001b[0mParameterGrid\u001b[0m\u001b[1;33m(\u001b[0m\u001b[0mself\u001b[0m\u001b[1;33m.\u001b[0m\u001b[0mparam_grid\u001b[0m\u001b[1;33m)\u001b[0m\u001b[1;33m)\u001b[0m\u001b[1;33m\u001b[0m\u001b[1;33m\u001b[0m\u001b[0m\n\u001b[0m\u001b[0;32m   1189\u001b[0m \u001b[1;33m\u001b[0m\u001b[0m\n\u001b[0;32m   1190\u001b[0m \u001b[1;33m\u001b[0m\u001b[0m\n",
      "\u001b[1;32m~\\AppData\\Roaming\\Python\\Python38\\site-packages\\sklearn\\model_selection\\_search.py\u001b[0m in \u001b[0;36mevaluate_candidates\u001b[1;34m(candidate_params)\u001b[0m\n\u001b[0;32m    706\u001b[0m                               n_splits, n_candidates, n_candidates * n_splits))\n\u001b[0;32m    707\u001b[0m \u001b[1;33m\u001b[0m\u001b[0m\n\u001b[1;32m--> 708\u001b[1;33m                 out = parallel(delayed(_fit_and_score)(clone(base_estimator),\n\u001b[0m\u001b[0;32m    709\u001b[0m                                                        \u001b[0mX\u001b[0m\u001b[1;33m,\u001b[0m \u001b[0my\u001b[0m\u001b[1;33m,\u001b[0m\u001b[1;33m\u001b[0m\u001b[1;33m\u001b[0m\u001b[0m\n\u001b[0;32m    710\u001b[0m                                                        \u001b[0mtrain\u001b[0m\u001b[1;33m=\u001b[0m\u001b[0mtrain\u001b[0m\u001b[1;33m,\u001b[0m \u001b[0mtest\u001b[0m\u001b[1;33m=\u001b[0m\u001b[0mtest\u001b[0m\u001b[1;33m,\u001b[0m\u001b[1;33m\u001b[0m\u001b[1;33m\u001b[0m\u001b[0m\n",
      "\u001b[1;32mC:\\ProgramData\\Anaconda3\\lib\\site-packages\\joblib\\parallel.py\u001b[0m in \u001b[0;36m__call__\u001b[1;34m(self, iterable)\u001b[0m\n\u001b[0;32m   1042\u001b[0m                 \u001b[0mself\u001b[0m\u001b[1;33m.\u001b[0m\u001b[0m_iterating\u001b[0m \u001b[1;33m=\u001b[0m \u001b[0mself\u001b[0m\u001b[1;33m.\u001b[0m\u001b[0m_original_iterator\u001b[0m \u001b[1;32mis\u001b[0m \u001b[1;32mnot\u001b[0m \u001b[1;32mNone\u001b[0m\u001b[1;33m\u001b[0m\u001b[1;33m\u001b[0m\u001b[0m\n\u001b[0;32m   1043\u001b[0m \u001b[1;33m\u001b[0m\u001b[0m\n\u001b[1;32m-> 1044\u001b[1;33m             \u001b[1;32mwhile\u001b[0m \u001b[0mself\u001b[0m\u001b[1;33m.\u001b[0m\u001b[0mdispatch_one_batch\u001b[0m\u001b[1;33m(\u001b[0m\u001b[0miterator\u001b[0m\u001b[1;33m)\u001b[0m\u001b[1;33m:\u001b[0m\u001b[1;33m\u001b[0m\u001b[1;33m\u001b[0m\u001b[0m\n\u001b[0m\u001b[0;32m   1045\u001b[0m                 \u001b[1;32mpass\u001b[0m\u001b[1;33m\u001b[0m\u001b[1;33m\u001b[0m\u001b[0m\n\u001b[0;32m   1046\u001b[0m \u001b[1;33m\u001b[0m\u001b[0m\n",
      "\u001b[1;32mC:\\ProgramData\\Anaconda3\\lib\\site-packages\\joblib\\parallel.py\u001b[0m in \u001b[0;36mdispatch_one_batch\u001b[1;34m(self, iterator)\u001b[0m\n\u001b[0;32m    857\u001b[0m                 \u001b[1;32mreturn\u001b[0m \u001b[1;32mFalse\u001b[0m\u001b[1;33m\u001b[0m\u001b[1;33m\u001b[0m\u001b[0m\n\u001b[0;32m    858\u001b[0m             \u001b[1;32melse\u001b[0m\u001b[1;33m:\u001b[0m\u001b[1;33m\u001b[0m\u001b[1;33m\u001b[0m\u001b[0m\n\u001b[1;32m--> 859\u001b[1;33m                 \u001b[0mself\u001b[0m\u001b[1;33m.\u001b[0m\u001b[0m_dispatch\u001b[0m\u001b[1;33m(\u001b[0m\u001b[0mtasks\u001b[0m\u001b[1;33m)\u001b[0m\u001b[1;33m\u001b[0m\u001b[1;33m\u001b[0m\u001b[0m\n\u001b[0m\u001b[0;32m    860\u001b[0m                 \u001b[1;32mreturn\u001b[0m \u001b[1;32mTrue\u001b[0m\u001b[1;33m\u001b[0m\u001b[1;33m\u001b[0m\u001b[0m\n\u001b[0;32m    861\u001b[0m \u001b[1;33m\u001b[0m\u001b[0m\n",
      "\u001b[1;32mC:\\ProgramData\\Anaconda3\\lib\\site-packages\\joblib\\parallel.py\u001b[0m in \u001b[0;36m_dispatch\u001b[1;34m(self, batch)\u001b[0m\n\u001b[0;32m    775\u001b[0m         \u001b[1;32mwith\u001b[0m \u001b[0mself\u001b[0m\u001b[1;33m.\u001b[0m\u001b[0m_lock\u001b[0m\u001b[1;33m:\u001b[0m\u001b[1;33m\u001b[0m\u001b[1;33m\u001b[0m\u001b[0m\n\u001b[0;32m    776\u001b[0m             \u001b[0mjob_idx\u001b[0m \u001b[1;33m=\u001b[0m \u001b[0mlen\u001b[0m\u001b[1;33m(\u001b[0m\u001b[0mself\u001b[0m\u001b[1;33m.\u001b[0m\u001b[0m_jobs\u001b[0m\u001b[1;33m)\u001b[0m\u001b[1;33m\u001b[0m\u001b[1;33m\u001b[0m\u001b[0m\n\u001b[1;32m--> 777\u001b[1;33m             \u001b[0mjob\u001b[0m \u001b[1;33m=\u001b[0m \u001b[0mself\u001b[0m\u001b[1;33m.\u001b[0m\u001b[0m_backend\u001b[0m\u001b[1;33m.\u001b[0m\u001b[0mapply_async\u001b[0m\u001b[1;33m(\u001b[0m\u001b[0mbatch\u001b[0m\u001b[1;33m,\u001b[0m \u001b[0mcallback\u001b[0m\u001b[1;33m=\u001b[0m\u001b[0mcb\u001b[0m\u001b[1;33m)\u001b[0m\u001b[1;33m\u001b[0m\u001b[1;33m\u001b[0m\u001b[0m\n\u001b[0m\u001b[0;32m    778\u001b[0m             \u001b[1;31m# A job can complete so quickly than its callback is\u001b[0m\u001b[1;33m\u001b[0m\u001b[1;33m\u001b[0m\u001b[1;33m\u001b[0m\u001b[0m\n\u001b[0;32m    779\u001b[0m             \u001b[1;31m# called before we get here, causing self._jobs to\u001b[0m\u001b[1;33m\u001b[0m\u001b[1;33m\u001b[0m\u001b[1;33m\u001b[0m\u001b[0m\n",
      "\u001b[1;32mC:\\ProgramData\\Anaconda3\\lib\\site-packages\\joblib\\_parallel_backends.py\u001b[0m in \u001b[0;36mapply_async\u001b[1;34m(self, func, callback)\u001b[0m\n\u001b[0;32m    206\u001b[0m     \u001b[1;32mdef\u001b[0m \u001b[0mapply_async\u001b[0m\u001b[1;33m(\u001b[0m\u001b[0mself\u001b[0m\u001b[1;33m,\u001b[0m \u001b[0mfunc\u001b[0m\u001b[1;33m,\u001b[0m \u001b[0mcallback\u001b[0m\u001b[1;33m=\u001b[0m\u001b[1;32mNone\u001b[0m\u001b[1;33m)\u001b[0m\u001b[1;33m:\u001b[0m\u001b[1;33m\u001b[0m\u001b[1;33m\u001b[0m\u001b[0m\n\u001b[0;32m    207\u001b[0m         \u001b[1;34m\"\"\"Schedule a func to be run\"\"\"\u001b[0m\u001b[1;33m\u001b[0m\u001b[1;33m\u001b[0m\u001b[0m\n\u001b[1;32m--> 208\u001b[1;33m         \u001b[0mresult\u001b[0m \u001b[1;33m=\u001b[0m \u001b[0mImmediateResult\u001b[0m\u001b[1;33m(\u001b[0m\u001b[0mfunc\u001b[0m\u001b[1;33m)\u001b[0m\u001b[1;33m\u001b[0m\u001b[1;33m\u001b[0m\u001b[0m\n\u001b[0m\u001b[0;32m    209\u001b[0m         \u001b[1;32mif\u001b[0m \u001b[0mcallback\u001b[0m\u001b[1;33m:\u001b[0m\u001b[1;33m\u001b[0m\u001b[1;33m\u001b[0m\u001b[0m\n\u001b[0;32m    210\u001b[0m             \u001b[0mcallback\u001b[0m\u001b[1;33m(\u001b[0m\u001b[0mresult\u001b[0m\u001b[1;33m)\u001b[0m\u001b[1;33m\u001b[0m\u001b[1;33m\u001b[0m\u001b[0m\n",
      "\u001b[1;32mC:\\ProgramData\\Anaconda3\\lib\\site-packages\\joblib\\_parallel_backends.py\u001b[0m in \u001b[0;36m__init__\u001b[1;34m(self, batch)\u001b[0m\n\u001b[0;32m    570\u001b[0m         \u001b[1;31m# Don't delay the application, to avoid keeping the input\u001b[0m\u001b[1;33m\u001b[0m\u001b[1;33m\u001b[0m\u001b[1;33m\u001b[0m\u001b[0m\n\u001b[0;32m    571\u001b[0m         \u001b[1;31m# arguments in memory\u001b[0m\u001b[1;33m\u001b[0m\u001b[1;33m\u001b[0m\u001b[1;33m\u001b[0m\u001b[0m\n\u001b[1;32m--> 572\u001b[1;33m         \u001b[0mself\u001b[0m\u001b[1;33m.\u001b[0m\u001b[0mresults\u001b[0m \u001b[1;33m=\u001b[0m \u001b[0mbatch\u001b[0m\u001b[1;33m(\u001b[0m\u001b[1;33m)\u001b[0m\u001b[1;33m\u001b[0m\u001b[1;33m\u001b[0m\u001b[0m\n\u001b[0m\u001b[0;32m    573\u001b[0m \u001b[1;33m\u001b[0m\u001b[0m\n\u001b[0;32m    574\u001b[0m     \u001b[1;32mdef\u001b[0m \u001b[0mget\u001b[0m\u001b[1;33m(\u001b[0m\u001b[0mself\u001b[0m\u001b[1;33m)\u001b[0m\u001b[1;33m:\u001b[0m\u001b[1;33m\u001b[0m\u001b[1;33m\u001b[0m\u001b[0m\n",
      "\u001b[1;32mC:\\ProgramData\\Anaconda3\\lib\\site-packages\\joblib\\parallel.py\u001b[0m in \u001b[0;36m__call__\u001b[1;34m(self)\u001b[0m\n\u001b[0;32m    260\u001b[0m         \u001b[1;31m# change the default number of processes to -1\u001b[0m\u001b[1;33m\u001b[0m\u001b[1;33m\u001b[0m\u001b[1;33m\u001b[0m\u001b[0m\n\u001b[0;32m    261\u001b[0m         \u001b[1;32mwith\u001b[0m \u001b[0mparallel_backend\u001b[0m\u001b[1;33m(\u001b[0m\u001b[0mself\u001b[0m\u001b[1;33m.\u001b[0m\u001b[0m_backend\u001b[0m\u001b[1;33m,\u001b[0m \u001b[0mn_jobs\u001b[0m\u001b[1;33m=\u001b[0m\u001b[0mself\u001b[0m\u001b[1;33m.\u001b[0m\u001b[0m_n_jobs\u001b[0m\u001b[1;33m)\u001b[0m\u001b[1;33m:\u001b[0m\u001b[1;33m\u001b[0m\u001b[1;33m\u001b[0m\u001b[0m\n\u001b[1;32m--> 262\u001b[1;33m             return [func(*args, **kwargs)\n\u001b[0m\u001b[0;32m    263\u001b[0m                     for func, args, kwargs in self.items]\n\u001b[0;32m    264\u001b[0m \u001b[1;33m\u001b[0m\u001b[0m\n",
      "\u001b[1;32mC:\\ProgramData\\Anaconda3\\lib\\site-packages\\joblib\\parallel.py\u001b[0m in \u001b[0;36m<listcomp>\u001b[1;34m(.0)\u001b[0m\n\u001b[0;32m    260\u001b[0m         \u001b[1;31m# change the default number of processes to -1\u001b[0m\u001b[1;33m\u001b[0m\u001b[1;33m\u001b[0m\u001b[1;33m\u001b[0m\u001b[0m\n\u001b[0;32m    261\u001b[0m         \u001b[1;32mwith\u001b[0m \u001b[0mparallel_backend\u001b[0m\u001b[1;33m(\u001b[0m\u001b[0mself\u001b[0m\u001b[1;33m.\u001b[0m\u001b[0m_backend\u001b[0m\u001b[1;33m,\u001b[0m \u001b[0mn_jobs\u001b[0m\u001b[1;33m=\u001b[0m\u001b[0mself\u001b[0m\u001b[1;33m.\u001b[0m\u001b[0m_n_jobs\u001b[0m\u001b[1;33m)\u001b[0m\u001b[1;33m:\u001b[0m\u001b[1;33m\u001b[0m\u001b[1;33m\u001b[0m\u001b[0m\n\u001b[1;32m--> 262\u001b[1;33m             return [func(*args, **kwargs)\n\u001b[0m\u001b[0;32m    263\u001b[0m                     for func, args, kwargs in self.items]\n\u001b[0;32m    264\u001b[0m \u001b[1;33m\u001b[0m\u001b[0m\n",
      "\u001b[1;32m~\\AppData\\Roaming\\Python\\Python38\\site-packages\\sklearn\\model_selection\\_validation.py\u001b[0m in \u001b[0;36m_fit_and_score\u001b[1;34m(estimator, X, y, scorer, train, test, verbose, parameters, fit_params, return_train_score, return_parameters, return_n_test_samples, return_times, return_estimator, error_score)\u001b[0m\n\u001b[0;32m    529\u001b[0m             \u001b[0mestimator\u001b[0m\u001b[1;33m.\u001b[0m\u001b[0mfit\u001b[0m\u001b[1;33m(\u001b[0m\u001b[0mX_train\u001b[0m\u001b[1;33m,\u001b[0m \u001b[1;33m**\u001b[0m\u001b[0mfit_params\u001b[0m\u001b[1;33m)\u001b[0m\u001b[1;33m\u001b[0m\u001b[1;33m\u001b[0m\u001b[0m\n\u001b[0;32m    530\u001b[0m         \u001b[1;32melse\u001b[0m\u001b[1;33m:\u001b[0m\u001b[1;33m\u001b[0m\u001b[1;33m\u001b[0m\u001b[0m\n\u001b[1;32m--> 531\u001b[1;33m             \u001b[0mestimator\u001b[0m\u001b[1;33m.\u001b[0m\u001b[0mfit\u001b[0m\u001b[1;33m(\u001b[0m\u001b[0mX_train\u001b[0m\u001b[1;33m,\u001b[0m \u001b[0my_train\u001b[0m\u001b[1;33m,\u001b[0m \u001b[1;33m**\u001b[0m\u001b[0mfit_params\u001b[0m\u001b[1;33m)\u001b[0m\u001b[1;33m\u001b[0m\u001b[1;33m\u001b[0m\u001b[0m\n\u001b[0m\u001b[0;32m    532\u001b[0m \u001b[1;33m\u001b[0m\u001b[0m\n\u001b[0;32m    533\u001b[0m     \u001b[1;32mexcept\u001b[0m \u001b[0mException\u001b[0m \u001b[1;32mas\u001b[0m \u001b[0me\u001b[0m\u001b[1;33m:\u001b[0m\u001b[1;33m\u001b[0m\u001b[1;33m\u001b[0m\u001b[0m\n",
      "\u001b[1;32m~\\AppData\\Roaming\\Python\\Python38\\site-packages\\sklearn\\ensemble\\_forest.py\u001b[0m in \u001b[0;36mfit\u001b[1;34m(self, X, y, sample_weight)\u001b[0m\n\u001b[0;32m    384\u001b[0m             \u001b[1;31m# parallel_backend contexts set at a higher level,\u001b[0m\u001b[1;33m\u001b[0m\u001b[1;33m\u001b[0m\u001b[1;33m\u001b[0m\u001b[0m\n\u001b[0;32m    385\u001b[0m             \u001b[1;31m# since correctness does not rely on using threads.\u001b[0m\u001b[1;33m\u001b[0m\u001b[1;33m\u001b[0m\u001b[1;33m\u001b[0m\u001b[0m\n\u001b[1;32m--> 386\u001b[1;33m             trees = Parallel(n_jobs=self.n_jobs, verbose=self.verbose,\n\u001b[0m\u001b[0;32m    387\u001b[0m                              \u001b[1;33m**\u001b[0m\u001b[0m_joblib_parallel_args\u001b[0m\u001b[1;33m(\u001b[0m\u001b[0mprefer\u001b[0m\u001b[1;33m=\u001b[0m\u001b[1;34m'threads'\u001b[0m\u001b[1;33m)\u001b[0m\u001b[1;33m)\u001b[0m\u001b[1;33m(\u001b[0m\u001b[1;33m\u001b[0m\u001b[1;33m\u001b[0m\u001b[0m\n\u001b[0;32m    388\u001b[0m                 delayed(_parallel_build_trees)(\n",
      "\u001b[1;32mC:\\ProgramData\\Anaconda3\\lib\\site-packages\\joblib\\parallel.py\u001b[0m in \u001b[0;36m__call__\u001b[1;34m(self, iterable)\u001b[0m\n\u001b[0;32m   1042\u001b[0m                 \u001b[0mself\u001b[0m\u001b[1;33m.\u001b[0m\u001b[0m_iterating\u001b[0m \u001b[1;33m=\u001b[0m \u001b[0mself\u001b[0m\u001b[1;33m.\u001b[0m\u001b[0m_original_iterator\u001b[0m \u001b[1;32mis\u001b[0m \u001b[1;32mnot\u001b[0m \u001b[1;32mNone\u001b[0m\u001b[1;33m\u001b[0m\u001b[1;33m\u001b[0m\u001b[0m\n\u001b[0;32m   1043\u001b[0m \u001b[1;33m\u001b[0m\u001b[0m\n\u001b[1;32m-> 1044\u001b[1;33m             \u001b[1;32mwhile\u001b[0m \u001b[0mself\u001b[0m\u001b[1;33m.\u001b[0m\u001b[0mdispatch_one_batch\u001b[0m\u001b[1;33m(\u001b[0m\u001b[0miterator\u001b[0m\u001b[1;33m)\u001b[0m\u001b[1;33m:\u001b[0m\u001b[1;33m\u001b[0m\u001b[1;33m\u001b[0m\u001b[0m\n\u001b[0m\u001b[0;32m   1045\u001b[0m                 \u001b[1;32mpass\u001b[0m\u001b[1;33m\u001b[0m\u001b[1;33m\u001b[0m\u001b[0m\n\u001b[0;32m   1046\u001b[0m \u001b[1;33m\u001b[0m\u001b[0m\n",
      "\u001b[1;32mC:\\ProgramData\\Anaconda3\\lib\\site-packages\\joblib\\parallel.py\u001b[0m in \u001b[0;36mdispatch_one_batch\u001b[1;34m(self, iterator)\u001b[0m\n\u001b[0;32m    857\u001b[0m                 \u001b[1;32mreturn\u001b[0m \u001b[1;32mFalse\u001b[0m\u001b[1;33m\u001b[0m\u001b[1;33m\u001b[0m\u001b[0m\n\u001b[0;32m    858\u001b[0m             \u001b[1;32melse\u001b[0m\u001b[1;33m:\u001b[0m\u001b[1;33m\u001b[0m\u001b[1;33m\u001b[0m\u001b[0m\n\u001b[1;32m--> 859\u001b[1;33m                 \u001b[0mself\u001b[0m\u001b[1;33m.\u001b[0m\u001b[0m_dispatch\u001b[0m\u001b[1;33m(\u001b[0m\u001b[0mtasks\u001b[0m\u001b[1;33m)\u001b[0m\u001b[1;33m\u001b[0m\u001b[1;33m\u001b[0m\u001b[0m\n\u001b[0m\u001b[0;32m    860\u001b[0m                 \u001b[1;32mreturn\u001b[0m \u001b[1;32mTrue\u001b[0m\u001b[1;33m\u001b[0m\u001b[1;33m\u001b[0m\u001b[0m\n\u001b[0;32m    861\u001b[0m \u001b[1;33m\u001b[0m\u001b[0m\n",
      "\u001b[1;32mC:\\ProgramData\\Anaconda3\\lib\\site-packages\\joblib\\parallel.py\u001b[0m in \u001b[0;36m_dispatch\u001b[1;34m(self, batch)\u001b[0m\n\u001b[0;32m    775\u001b[0m         \u001b[1;32mwith\u001b[0m \u001b[0mself\u001b[0m\u001b[1;33m.\u001b[0m\u001b[0m_lock\u001b[0m\u001b[1;33m:\u001b[0m\u001b[1;33m\u001b[0m\u001b[1;33m\u001b[0m\u001b[0m\n\u001b[0;32m    776\u001b[0m             \u001b[0mjob_idx\u001b[0m \u001b[1;33m=\u001b[0m \u001b[0mlen\u001b[0m\u001b[1;33m(\u001b[0m\u001b[0mself\u001b[0m\u001b[1;33m.\u001b[0m\u001b[0m_jobs\u001b[0m\u001b[1;33m)\u001b[0m\u001b[1;33m\u001b[0m\u001b[1;33m\u001b[0m\u001b[0m\n\u001b[1;32m--> 777\u001b[1;33m             \u001b[0mjob\u001b[0m \u001b[1;33m=\u001b[0m \u001b[0mself\u001b[0m\u001b[1;33m.\u001b[0m\u001b[0m_backend\u001b[0m\u001b[1;33m.\u001b[0m\u001b[0mapply_async\u001b[0m\u001b[1;33m(\u001b[0m\u001b[0mbatch\u001b[0m\u001b[1;33m,\u001b[0m \u001b[0mcallback\u001b[0m\u001b[1;33m=\u001b[0m\u001b[0mcb\u001b[0m\u001b[1;33m)\u001b[0m\u001b[1;33m\u001b[0m\u001b[1;33m\u001b[0m\u001b[0m\n\u001b[0m\u001b[0;32m    778\u001b[0m             \u001b[1;31m# A job can complete so quickly than its callback is\u001b[0m\u001b[1;33m\u001b[0m\u001b[1;33m\u001b[0m\u001b[1;33m\u001b[0m\u001b[0m\n\u001b[0;32m    779\u001b[0m             \u001b[1;31m# called before we get here, causing self._jobs to\u001b[0m\u001b[1;33m\u001b[0m\u001b[1;33m\u001b[0m\u001b[1;33m\u001b[0m\u001b[0m\n",
      "\u001b[1;32mC:\\ProgramData\\Anaconda3\\lib\\site-packages\\joblib\\_parallel_backends.py\u001b[0m in \u001b[0;36mapply_async\u001b[1;34m(self, func, callback)\u001b[0m\n\u001b[0;32m    206\u001b[0m     \u001b[1;32mdef\u001b[0m \u001b[0mapply_async\u001b[0m\u001b[1;33m(\u001b[0m\u001b[0mself\u001b[0m\u001b[1;33m,\u001b[0m \u001b[0mfunc\u001b[0m\u001b[1;33m,\u001b[0m \u001b[0mcallback\u001b[0m\u001b[1;33m=\u001b[0m\u001b[1;32mNone\u001b[0m\u001b[1;33m)\u001b[0m\u001b[1;33m:\u001b[0m\u001b[1;33m\u001b[0m\u001b[1;33m\u001b[0m\u001b[0m\n\u001b[0;32m    207\u001b[0m         \u001b[1;34m\"\"\"Schedule a func to be run\"\"\"\u001b[0m\u001b[1;33m\u001b[0m\u001b[1;33m\u001b[0m\u001b[0m\n\u001b[1;32m--> 208\u001b[1;33m         \u001b[0mresult\u001b[0m \u001b[1;33m=\u001b[0m \u001b[0mImmediateResult\u001b[0m\u001b[1;33m(\u001b[0m\u001b[0mfunc\u001b[0m\u001b[1;33m)\u001b[0m\u001b[1;33m\u001b[0m\u001b[1;33m\u001b[0m\u001b[0m\n\u001b[0m\u001b[0;32m    209\u001b[0m         \u001b[1;32mif\u001b[0m \u001b[0mcallback\u001b[0m\u001b[1;33m:\u001b[0m\u001b[1;33m\u001b[0m\u001b[1;33m\u001b[0m\u001b[0m\n\u001b[0;32m    210\u001b[0m             \u001b[0mcallback\u001b[0m\u001b[1;33m(\u001b[0m\u001b[0mresult\u001b[0m\u001b[1;33m)\u001b[0m\u001b[1;33m\u001b[0m\u001b[1;33m\u001b[0m\u001b[0m\n",
      "\u001b[1;32mC:\\ProgramData\\Anaconda3\\lib\\site-packages\\joblib\\_parallel_backends.py\u001b[0m in \u001b[0;36m__init__\u001b[1;34m(self, batch)\u001b[0m\n\u001b[0;32m    570\u001b[0m         \u001b[1;31m# Don't delay the application, to avoid keeping the input\u001b[0m\u001b[1;33m\u001b[0m\u001b[1;33m\u001b[0m\u001b[1;33m\u001b[0m\u001b[0m\n\u001b[0;32m    571\u001b[0m         \u001b[1;31m# arguments in memory\u001b[0m\u001b[1;33m\u001b[0m\u001b[1;33m\u001b[0m\u001b[1;33m\u001b[0m\u001b[0m\n\u001b[1;32m--> 572\u001b[1;33m         \u001b[0mself\u001b[0m\u001b[1;33m.\u001b[0m\u001b[0mresults\u001b[0m \u001b[1;33m=\u001b[0m \u001b[0mbatch\u001b[0m\u001b[1;33m(\u001b[0m\u001b[1;33m)\u001b[0m\u001b[1;33m\u001b[0m\u001b[1;33m\u001b[0m\u001b[0m\n\u001b[0m\u001b[0;32m    573\u001b[0m \u001b[1;33m\u001b[0m\u001b[0m\n\u001b[0;32m    574\u001b[0m     \u001b[1;32mdef\u001b[0m \u001b[0mget\u001b[0m\u001b[1;33m(\u001b[0m\u001b[0mself\u001b[0m\u001b[1;33m)\u001b[0m\u001b[1;33m:\u001b[0m\u001b[1;33m\u001b[0m\u001b[1;33m\u001b[0m\u001b[0m\n",
      "\u001b[1;32mC:\\ProgramData\\Anaconda3\\lib\\site-packages\\joblib\\parallel.py\u001b[0m in \u001b[0;36m__call__\u001b[1;34m(self)\u001b[0m\n\u001b[0;32m    260\u001b[0m         \u001b[1;31m# change the default number of processes to -1\u001b[0m\u001b[1;33m\u001b[0m\u001b[1;33m\u001b[0m\u001b[1;33m\u001b[0m\u001b[0m\n\u001b[0;32m    261\u001b[0m         \u001b[1;32mwith\u001b[0m \u001b[0mparallel_backend\u001b[0m\u001b[1;33m(\u001b[0m\u001b[0mself\u001b[0m\u001b[1;33m.\u001b[0m\u001b[0m_backend\u001b[0m\u001b[1;33m,\u001b[0m \u001b[0mn_jobs\u001b[0m\u001b[1;33m=\u001b[0m\u001b[0mself\u001b[0m\u001b[1;33m.\u001b[0m\u001b[0m_n_jobs\u001b[0m\u001b[1;33m)\u001b[0m\u001b[1;33m:\u001b[0m\u001b[1;33m\u001b[0m\u001b[1;33m\u001b[0m\u001b[0m\n\u001b[1;32m--> 262\u001b[1;33m             return [func(*args, **kwargs)\n\u001b[0m\u001b[0;32m    263\u001b[0m                     for func, args, kwargs in self.items]\n\u001b[0;32m    264\u001b[0m \u001b[1;33m\u001b[0m\u001b[0m\n",
      "\u001b[1;32mC:\\ProgramData\\Anaconda3\\lib\\site-packages\\joblib\\parallel.py\u001b[0m in \u001b[0;36m<listcomp>\u001b[1;34m(.0)\u001b[0m\n\u001b[0;32m    260\u001b[0m         \u001b[1;31m# change the default number of processes to -1\u001b[0m\u001b[1;33m\u001b[0m\u001b[1;33m\u001b[0m\u001b[1;33m\u001b[0m\u001b[0m\n\u001b[0;32m    261\u001b[0m         \u001b[1;32mwith\u001b[0m \u001b[0mparallel_backend\u001b[0m\u001b[1;33m(\u001b[0m\u001b[0mself\u001b[0m\u001b[1;33m.\u001b[0m\u001b[0m_backend\u001b[0m\u001b[1;33m,\u001b[0m \u001b[0mn_jobs\u001b[0m\u001b[1;33m=\u001b[0m\u001b[0mself\u001b[0m\u001b[1;33m.\u001b[0m\u001b[0m_n_jobs\u001b[0m\u001b[1;33m)\u001b[0m\u001b[1;33m:\u001b[0m\u001b[1;33m\u001b[0m\u001b[1;33m\u001b[0m\u001b[0m\n\u001b[1;32m--> 262\u001b[1;33m             return [func(*args, **kwargs)\n\u001b[0m\u001b[0;32m    263\u001b[0m                     for func, args, kwargs in self.items]\n\u001b[0;32m    264\u001b[0m \u001b[1;33m\u001b[0m\u001b[0m\n",
      "\u001b[1;32m~\\AppData\\Roaming\\Python\\Python38\\site-packages\\sklearn\\ensemble\\_forest.py\u001b[0m in \u001b[0;36m_parallel_build_trees\u001b[1;34m(tree, forest, X, y, sample_weight, tree_idx, n_trees, verbose, class_weight, n_samples_bootstrap)\u001b[0m\n\u001b[0;32m    166\u001b[0m                                                         indices=indices)\n\u001b[0;32m    167\u001b[0m \u001b[1;33m\u001b[0m\u001b[0m\n\u001b[1;32m--> 168\u001b[1;33m         \u001b[0mtree\u001b[0m\u001b[1;33m.\u001b[0m\u001b[0mfit\u001b[0m\u001b[1;33m(\u001b[0m\u001b[0mX\u001b[0m\u001b[1;33m,\u001b[0m \u001b[0my\u001b[0m\u001b[1;33m,\u001b[0m \u001b[0msample_weight\u001b[0m\u001b[1;33m=\u001b[0m\u001b[0mcurr_sample_weight\u001b[0m\u001b[1;33m,\u001b[0m \u001b[0mcheck_input\u001b[0m\u001b[1;33m=\u001b[0m\u001b[1;32mFalse\u001b[0m\u001b[1;33m)\u001b[0m\u001b[1;33m\u001b[0m\u001b[1;33m\u001b[0m\u001b[0m\n\u001b[0m\u001b[0;32m    169\u001b[0m     \u001b[1;32melse\u001b[0m\u001b[1;33m:\u001b[0m\u001b[1;33m\u001b[0m\u001b[1;33m\u001b[0m\u001b[0m\n\u001b[0;32m    170\u001b[0m         \u001b[0mtree\u001b[0m\u001b[1;33m.\u001b[0m\u001b[0mfit\u001b[0m\u001b[1;33m(\u001b[0m\u001b[0mX\u001b[0m\u001b[1;33m,\u001b[0m \u001b[0my\u001b[0m\u001b[1;33m,\u001b[0m \u001b[0msample_weight\u001b[0m\u001b[1;33m=\u001b[0m\u001b[0msample_weight\u001b[0m\u001b[1;33m,\u001b[0m \u001b[0mcheck_input\u001b[0m\u001b[1;33m=\u001b[0m\u001b[1;32mFalse\u001b[0m\u001b[1;33m)\u001b[0m\u001b[1;33m\u001b[0m\u001b[1;33m\u001b[0m\u001b[0m\n",
      "\u001b[1;32m~\\AppData\\Roaming\\Python\\Python38\\site-packages\\sklearn\\tree\\_classes.py\u001b[0m in \u001b[0;36mfit\u001b[1;34m(self, X, y, sample_weight, check_input, X_idx_sorted)\u001b[0m\n\u001b[0;32m    888\u001b[0m         \"\"\"\n\u001b[0;32m    889\u001b[0m \u001b[1;33m\u001b[0m\u001b[0m\n\u001b[1;32m--> 890\u001b[1;33m         super().fit(\n\u001b[0m\u001b[0;32m    891\u001b[0m             \u001b[0mX\u001b[0m\u001b[1;33m,\u001b[0m \u001b[0my\u001b[0m\u001b[1;33m,\u001b[0m\u001b[1;33m\u001b[0m\u001b[1;33m\u001b[0m\u001b[0m\n\u001b[0;32m    892\u001b[0m             \u001b[0msample_weight\u001b[0m\u001b[1;33m=\u001b[0m\u001b[0msample_weight\u001b[0m\u001b[1;33m,\u001b[0m\u001b[1;33m\u001b[0m\u001b[1;33m\u001b[0m\u001b[0m\n",
      "\u001b[1;32m~\\AppData\\Roaming\\Python\\Python38\\site-packages\\sklearn\\tree\\_classes.py\u001b[0m in \u001b[0;36mfit\u001b[1;34m(self, X, y, sample_weight, check_input, X_idx_sorted)\u001b[0m\n\u001b[0;32m    348\u001b[0m \u001b[1;33m\u001b[0m\u001b[0m\n\u001b[0;32m    349\u001b[0m         \u001b[1;32mif\u001b[0m \u001b[0mis_classifier\u001b[0m\u001b[1;33m(\u001b[0m\u001b[0mself\u001b[0m\u001b[1;33m)\u001b[0m\u001b[1;33m:\u001b[0m\u001b[1;33m\u001b[0m\u001b[1;33m\u001b[0m\u001b[0m\n\u001b[1;32m--> 350\u001b[1;33m             self.tree_ = Tree(self.n_features_,\n\u001b[0m\u001b[0;32m    351\u001b[0m                               self.n_classes_, self.n_outputs_)\n\u001b[0;32m    352\u001b[0m         \u001b[1;32melse\u001b[0m\u001b[1;33m:\u001b[0m\u001b[1;33m\u001b[0m\u001b[1;33m\u001b[0m\u001b[0m\n",
      "\u001b[1;32msklearn\\tree\\_tree.pyx\u001b[0m in \u001b[0;36msklearn.tree._tree.Tree.__cinit__\u001b[1;34m()\u001b[0m\n",
      "\u001b[1;32m<__array_function__ internals>\u001b[0m in \u001b[0;36mamax\u001b[1;34m(*args, **kwargs)\u001b[0m\n",
      "\u001b[1;32m~\\AppData\\Roaming\\Python\\Python38\\site-packages\\numpy\\core\\fromnumeric.py\u001b[0m in \u001b[0;36mamax\u001b[1;34m(a, axis, out, keepdims, initial, where)\u001b[0m\n\u001b[0;32m   2703\u001b[0m     \u001b[1;36m5\u001b[0m\u001b[1;33m\u001b[0m\u001b[1;33m\u001b[0m\u001b[0m\n\u001b[0;32m   2704\u001b[0m     \"\"\"\n\u001b[1;32m-> 2705\u001b[1;33m     return _wrapreduction(a, np.maximum, 'max', axis, None, out,\n\u001b[0m\u001b[0;32m   2706\u001b[0m                           keepdims=keepdims, initial=initial, where=where)\n\u001b[0;32m   2707\u001b[0m \u001b[1;33m\u001b[0m\u001b[0m\n",
      "\u001b[1;32m~\\AppData\\Roaming\\Python\\Python38\\site-packages\\numpy\\core\\fromnumeric.py\u001b[0m in \u001b[0;36m_wrapreduction\u001b[1;34m(obj, ufunc, method, axis, dtype, out, **kwargs)\u001b[0m\n\u001b[0;32m     85\u001b[0m                 \u001b[1;32mreturn\u001b[0m \u001b[0mreduction\u001b[0m\u001b[1;33m(\u001b[0m\u001b[0maxis\u001b[0m\u001b[1;33m=\u001b[0m\u001b[0maxis\u001b[0m\u001b[1;33m,\u001b[0m \u001b[0mout\u001b[0m\u001b[1;33m=\u001b[0m\u001b[0mout\u001b[0m\u001b[1;33m,\u001b[0m \u001b[1;33m**\u001b[0m\u001b[0mpasskwargs\u001b[0m\u001b[1;33m)\u001b[0m\u001b[1;33m\u001b[0m\u001b[1;33m\u001b[0m\u001b[0m\n\u001b[0;32m     86\u001b[0m \u001b[1;33m\u001b[0m\u001b[0m\n\u001b[1;32m---> 87\u001b[1;33m     \u001b[1;32mreturn\u001b[0m \u001b[0mufunc\u001b[0m\u001b[1;33m.\u001b[0m\u001b[0mreduce\u001b[0m\u001b[1;33m(\u001b[0m\u001b[0mobj\u001b[0m\u001b[1;33m,\u001b[0m \u001b[0maxis\u001b[0m\u001b[1;33m,\u001b[0m \u001b[0mdtype\u001b[0m\u001b[1;33m,\u001b[0m \u001b[0mout\u001b[0m\u001b[1;33m,\u001b[0m \u001b[1;33m**\u001b[0m\u001b[0mpasskwargs\u001b[0m\u001b[1;33m)\u001b[0m\u001b[1;33m\u001b[0m\u001b[1;33m\u001b[0m\u001b[0m\n\u001b[0m\u001b[0;32m     88\u001b[0m \u001b[1;33m\u001b[0m\u001b[0m\n\u001b[0;32m     89\u001b[0m \u001b[1;33m\u001b[0m\u001b[0m\n",
      "\u001b[1;31mKeyboardInterrupt\u001b[0m: "
     ]
    }
   ],
   "source": [
    "random_forest=RandomForestClassifier()\n",
    "param_grid={\n",
    "    \"criterion\":['gini','entropy'],\n",
    "    \"max_depth\":[107],\n",
    "    'n_estimators':[100,200,300,400,500],\n",
    "    \"max_features\":['auto','sqrt','log2'],\n",
    "    'min_impurity_decrease':[0,0.05,0.1,0.15],\n",
    "    \"random_state\":[1]   \n",
    "}\n",
    "test_model=model_selection.GridSearchCV(estimator=random_forest,param_grid=param_grid,\n",
    "                                       scoring='accuracy',verbose=10)\n",
    "test_model.fit(X_train_2,y_train_2)\n",
    "print(test_model.best_score_)\n",
    "print(test_model.best_estimator_.get_params())"
   ]
  },
  {
   "cell_type": "code",
   "execution_count": 43,
   "id": "02c9db47",
   "metadata": {
    "id": "02c9db47"
   },
   "outputs": [],
   "source": [
    "rf=RandomForestClassifier(max_depth=107,random_state=8)\n",
    "rf_2=RandomForestClassifier(max_depth=107,random_state=8)\n",
    "rf_3=RandomForestClassifier(max_depth=107,random_state=8)\n",
    "rf.fit(X_train, y_train)\n",
    "rf_2.fit(X_train_2, y_train_2)\n",
    "rf_3.fit(X_train_3, y_train_3)\n",
    "rtq1= rf.predict(X_train)\n",
    "rq1 = rf.predict(X_test)\n",
    "rtq2= rf_2.predict(X_train_2)\n",
    "rq2 = rf_2.predict(X_test_2)\n",
    "rtq3= rf_3.predict(X_train_3)\n",
    "rq3 = rf_3.predict(X_test_3)"
   ]
  },
  {
   "cell_type": "code",
   "execution_count": 44,
   "id": "5001afab",
   "metadata": {
    "colab": {
     "base_uri": "https://localhost:8080/"
    },
    "id": "5001afab",
    "outputId": "4e1db407-aa9a-46ad-a593-0c6de305af8b"
   },
   "outputs": [
    {
     "name": "stdout",
     "output_type": "stream",
     "text": [
      "Accuracy via prediction on training set q1:  1.0\n",
      "Accuracy via prediction on test set q1:  0.6294964028776978\n",
      "Accuracy via prediction on training set q2:  1.0\n",
      "Accuracy via prediction on test set q2:  0.673469387755102\n",
      "Accuracy via prediction on training set q3:  1.0\n",
      "Accuracy via prediction on test set q3:  0.7629233511586453\n"
     ]
    }
   ],
   "source": [
    "print('Accuracy via prediction on training set q1: ', accuracy_score(y_train, rtq1))\n",
    "print('Accuracy via prediction on test set q1: ', accuracy_score(y_test, rq1))\n",
    "print('Accuracy via prediction on training set q2: ', accuracy_score(y_train_2, rtq2))\n",
    "print('Accuracy via prediction on test set q2: ', accuracy_score(y_test_2, rq2))\n",
    "print('Accuracy via prediction on training set q3: ', r2_score(y_train_3, rtq3))\n",
    "print('Accuracy via prediction on test set q3: ', accuracy_score(y_test_3, rq3))"
   ]
  },
  {
   "cell_type": "code",
   "execution_count": 45,
   "id": "2d448943",
   "metadata": {
    "colab": {
     "base_uri": "https://localhost:8080/",
     "height": 414
    },
    "id": "2d448943",
    "outputId": "04586cc9-3bf4-40cb-e4db-4b715b679884"
   },
   "outputs": [
    {
     "data": {
      "text/plain": [
       "Text(0.5, 1.0, 'Q3')"
      ]
     },
     "execution_count": 45,
     "metadata": {},
     "output_type": "execute_result"
    },
    {
     "data": {
      "image/png": "[encoded data removed]",
      "text/plain": [
       "<Figure size 1800x432 with 3 Axes>"
      ]
     },
     "metadata": {
      "needs_background": "light"
     },
     "output_type": "display_data"
    }
   ],
   "source": [
    "from sklearn.metrics import confusion_matrix  \n",
    "import seaborn as sn\n",
    "fig,axes=plt.subplots(1,3,figsize=(25,6))\n",
    "dif1=y_test-rq1\n",
    "sn.kdeplot(dif1,ax=axes[0])\n",
    "axes[0].set_title('Q1')\n",
    "dif2=y_test_2-rq2\n",
    "sn.kdeplot(dif2,ax=axes[1])\n",
    "axes[1].set_title('Q2')\n",
    "dif3=y_test_3-rq3\n",
    "sn.kdeplot(dif3,ax=axes[2])\n",
    "axes[2].set_title('Q3')"
   ]
  },
  {
   "cell_type": "code",
   "execution_count": 46,
   "id": "ac605080",
   "metadata": {
    "colab": {
     "base_uri": "https://localhost:8080/",
     "height": 1000
    },
    "id": "ac605080",
    "outputId": "d4ad39c9-0a82-47de-f2d9-bc8234aad69d",
    "scrolled": true
   },
   "outputs": [
    {
     "data": {
      "text/plain": [
       "<AxesSubplot:>"
      ]
     },
     "execution_count": 46,
     "metadata": {},
     "output_type": "execute_result"
    },
    {
     "data": {
      "image/png": "[encoded data removed]",
      "text/plain": [
       "<Figure size 1080x1296 with 12 Axes>"
      ]
     },
     "metadata": {
      "needs_background": "light"
     },
     "output_type": "display_data"
    }
   ],
   "source": [
    "fig,axes=plt.subplots(3,2,figsize=(15,18))\n",
    "cm = pd.DataFrame(confusion_matrix(y_test, rq1))\n",
    "sn.heatmap(cm,ax=axes[0,0])\n",
    "cm1 = pd.DataFrame(confusion_matrix(y_test, y_test))\n",
    "sn.heatmap(cm1,ax=axes[0,1])\n",
    "cm3 = pd.DataFrame(confusion_matrix(y_test_2, rq2))\n",
    "sn.heatmap(cm3,ax=axes[1,0])\n",
    "cm4 = pd.DataFrame(confusion_matrix(y_test_2, y_test_2))\n",
    "sn.heatmap(cm4,ax=axes[1,1])\n",
    "cm5 = pd.DataFrame(confusion_matrix(y_test_3, rq3))\n",
    "sn.heatmap(cm5,ax=axes[2,0])\n",
    "cm6 = pd.DataFrame(confusion_matrix(y_test_3, y_test_3))\n",
    "sn.heatmap(cm6,ax=axes[2,1])\n"
   ]
  },
  {
   "cell_type": "markdown",
   "id": "07a7cc92",
   "metadata": {
    "id": "07a7cc92"
   },
   "source": [
    "## Extra Trees"
   ]
  },
  {
   "cell_type": "code",
   "execution_count": 47,
   "id": "8c462824",
   "metadata": {
    "id": "8c462824"
   },
   "outputs": [],
   "source": [
    "etc=ExtraTreesClassifier(max_depth=107)\n",
    "etc_2=ExtraTreesClassifier(max_depth=107)\n",
    "etc_3=ExtraTreesClassifier(max_depth=107)\n",
    "etc.fit(X_train, y_train)\n",
    "etc_2.fit(X_train_2, y_train_2)\n",
    "etc_3.fit(X_train_3, y_train_3)\n",
    "etq1= etc.predict(X_train)\n",
    "eq1 = etc.predict(X_test)\n",
    "etq2= etc_2.predict(X_train_2)\n",
    "eq2 = etc_2.predict(X_test_2)\n",
    "etq3= etc_3.predict(X_train_3)\n",
    "eq3 = etc_3.predict(X_test_3)"
   ]
  },
  {
   "cell_type": "code",
   "execution_count": 48,
   "id": "cc9506ad",
   "metadata": {},
   "outputs": [],
   "source": [
    "import pickle"
   ]
  },
  {
   "cell_type": "code",
   "execution_count": 49,
   "id": "aa705482",
   "metadata": {},
   "outputs": [],
   "source": [
    "pickle.dump(etc  , open('q1_ExtraTrees', 'wb'))\n",
    "pickle.dump(etc_2, open('q2_ExtraTrees', 'wb'))\n",
    "pickle.dump(etc_3, open('q3_ExtraTrees', 'wb'))"
   ]
  },
  {
   "cell_type": "code",
   "execution_count": 82,
   "id": "bc9f5de5",
   "metadata": {
    "deletable": false,
    "editable": false,
    "run_control": {
     "frozen": true
    }
   },
   "outputs": [],
   "source": [
    "etc=ExtraTreesRegressor(max_depth=107)\n",
    "etc_2=ExtraTreesRegressor(max_depth=107)\n",
    "etc_3=ExtraTreesRegressor(max_depth=107)\n",
    "etc.fit(X_train, y_train)\n",
    "etc_2.fit(X_train_2, y_train_2)\n",
    "etc_3.fit(X_train_3, y_train_3)\n",
    "etq1= etc.predict(X_train)\n",
    "eq1 = etc.predict(X_test)\n",
    "etq2= etc_2.predict(X_train_2)\n",
    "eq2 = etc_2.predict(X_test_2)\n",
    "etq3= etc_3.predict(X_train_3)\n",
    "eq3 = etc_3.predict(X_test_3)"
   ]
  },
  {
   "cell_type": "code",
   "execution_count": 50,
   "id": "44573296",
   "metadata": {
    "colab": {
     "base_uri": "https://localhost:8080/"
    },
    "id": "44573296",
    "outputId": "c78731e6-6cb8-4ab7-af28-0f0886081562"
   },
   "outputs": [
    {
     "name": "stdout",
     "output_type": "stream",
     "text": [
      "Accuracy via prediction on training set q1:  1.0\n",
      "Accuracy via prediction on test set q1:  0.6789568345323741\n",
      "Accuracy via prediction on training set q2:  1.0\n",
      "Accuracy via prediction on test set q2:  0.6962785114045619\n",
      "Accuracy via prediction on training set q3:  1.0\n",
      "Accuracy via prediction on test set q3:  0.7807486631016043\n"
     ]
    }
   ],
   "source": [
    "print('Accuracy via prediction on training set q1: ', accuracy_score(y_train, etq1))\n",
    "print('Accuracy via prediction on test set q1: ', accuracy_score(y_test, eq1))\n",
    "print('Accuracy via prediction on training set q2: ', accuracy_score(y_train_2, etq2))\n",
    "print('Accuracy via prediction on test set q2: ', accuracy_score(y_test_2, eq2))\n",
    "print('Accuracy via prediction on training set q3: ', r2_score(y_train_3, etq3))\n",
    "print('Accuracy via prediction on test set q3: ', accuracy_score(y_test_3, eq3))"
   ]
  },
  {
   "cell_type": "markdown",
   "id": "e77aaed9",
   "metadata": {
    "id": "e77aaed9"
   },
   "source": [
    "## SVM"
   ]
  },
  {
   "cell_type": "code",
   "execution_count": 51,
   "id": "82d88980",
   "metadata": {
    "id": "82d88980"
   },
   "outputs": [],
   "source": [
    "clf = svm.SVC()\n",
    "param_grid={\n",
    "    \"kernel\":[ 'rbf', 'sigmoid'],\n",
    "    \"degree\":[3,4,5],\n",
    "    \"C\":(1,20),\n",
    "    \"decision_function_shape\":['ovo','ovr']\n",
    "}"
   ]
  },
  {
   "cell_type": "code",
   "execution_count": null,
   "id": "4deed5de",
   "metadata": {
    "deletable": false,
    "editable": false,
    "id": "4deed5de",
    "run_control": {
     "frozen": true
    }
   },
   "outputs": [],
   "source": [
    "s_vm=model_selection.GridSearchCV(estimator=clf,param_grid=param_grid,scoring=\"accuracy\",verbose=10,cv=5,n_jobs=1)\n",
    "s_vm.fit(X_train_2,y_train_2)\n",
    "print(s_vm.best_score_)\n",
    "print(s_vm.best_estimator_.get_params())"
   ]
  },
  {
   "cell_type": "code",
   "execution_count": 52,
   "id": "baf610c5",
   "metadata": {
    "id": "baf610c5"
   },
   "outputs": [],
   "source": [
    "clf.fit(X_train, y_train)\n",
    "tr3=clf.predict(X_train)\n",
    "y3=clf.predict(X_test)"
   ]
  },
  {
   "cell_type": "code",
   "execution_count": 53,
   "id": "48fdd7d0",
   "metadata": {
    "id": "48fdd7d0"
   },
   "outputs": [
    {
     "name": "stdout",
     "output_type": "stream",
     "text": [
      "R squared via prediction on training set:  -0.04115740204034957\n",
      "R squared via prediction on test set:  -0.04332899681989022\n"
     ]
    }
   ],
   "source": [
    "print('R squared via prediction on training set: ', r2_score(y_train, tr3))\n",
    "print('R squared via prediction on test set: ', r2_score(y_test, y3))"
   ]
  },
  {
   "cell_type": "code",
   "execution_count": 54,
   "id": "5e2ca704",
   "metadata": {
    "id": "5e2ca704"
   },
   "outputs": [
    {
     "data": {
      "text/plain": [
       "<AxesSubplot:xlabel='final_position', ylabel='Density'>"
      ]
     },
     "execution_count": 54,
     "metadata": {},
     "output_type": "execute_result"
    },
    {
     "data": {
      "image/png": "[encoded data removed]",
      "text/plain": [
       "<Figure size 432x288 with 1 Axes>"
      ]
     },
     "metadata": {
      "needs_background": "light"
     },
     "output_type": "display_data"
    }
   ],
   "source": [
    "difference=y_test-y3\n",
    "sns.kdeplot(difference)"
   ]
  },
  {
   "cell_type": "code",
   "execution_count": 55,
   "id": "014d8064",
   "metadata": {
    "id": "014d8064",
    "scrolled": true
   },
   "outputs": [
    {
     "data": {
      "text/plain": [
       "0.053057553956834536"
      ]
     },
     "execution_count": 55,
     "metadata": {},
     "output_type": "execute_result"
    },
    {
     "data": {
      "image/png": "[encoded data removed]",
      "text/plain": [
       "<Figure size 1080x432 with 4 Axes>"
      ]
     },
     "metadata": {
      "needs_background": "light"
     },
     "output_type": "display_data"
    }
   ],
   "source": [
    "from sklearn.metrics import confusion_matrix  \n",
    "import seaborn as sn\n",
    "fig,axes=plt.subplots(1,2,figsize=(15,6))\n",
    "cm = pd.DataFrame(confusion_matrix(y_test, y3))\n",
    "sn.heatmap(cm,ax=axes[0])\n",
    "cm1 = pd.DataFrame(confusion_matrix(y_test, y_test))\n",
    "sn.heatmap(cm1,ax=axes[1])\n",
    "score = accuracy_score(y_test, y3)\n",
    "score"
   ]
  },
  {
   "cell_type": "markdown",
   "id": "ddd9182c",
   "metadata": {
    "heading_collapsed": true,
    "id": "ddd9182c"
   },
   "source": [
    "## HyperOpt"
   ]
  },
  {
   "cell_type": "code",
   "execution_count": 56,
   "id": "5lEJjulubW3D",
   "metadata": {
    "colab": {
     "base_uri": "https://localhost:8080/"
    },
    "hidden": true,
    "id": "5lEJjulubW3D",
    "outputId": "63fcf09a-c03e-4de6-b5b0-ecbb76f5ae91"
   },
   "outputs": [
    {
     "name": "stdout",
     "output_type": "stream",
     "text": [
      "Collecting git+https://github.com/hyperopt/hyperopt-sklearn\n",
      "  Cloning https://github.com/hyperopt/hyperopt-sklearn to c:\\users\\apex\\appdata\\local\\temp\\pip-req-build-6mpgt5zb\n",
      "Requirement already satisfied: hyperopt in c:\\programdata\\anaconda3\\lib\\site-packages (from hpsklearn==0.0.3) (0.2.5)\n",
      "Requirement already satisfied: nose in c:\\programdata\\anaconda3\\lib\\site-packages (from hpsklearn==0.0.3) (1.3.7)"
     ]
    },
    {
     "name": "stderr",
     "output_type": "stream",
     "text": [
      "  Running command git clone -q https://github.com/hyperopt/hyperopt-sklearn 'C:\\Users\\Apex\\AppData\\Local\\Temp\\pip-req-build-6mpgt5zb'\n"
     ]
    },
    {
     "name": "stdout",
     "output_type": "stream",
     "text": [
      "\n",
      "Requirement already satisfied: numpy in c:\\users\\apex\\appdata\\roaming\\python\\python38\\site-packages (from hpsklearn==0.0.3) (1.19.5)\n",
      "Requirement already satisfied: scikit-learn in c:\\users\\apex\\appdata\\roaming\\python\\python38\\site-packages (from hpsklearn==0.0.3) (0.23.2)\n",
      "Requirement already satisfied: scipy in c:\\users\\apex\\appdata\\roaming\\python\\python38\\site-packages (from hpsklearn==0.0.3) (1.5.4)\n",
      "Requirement already satisfied: cloudpickle in c:\\programdata\\anaconda3\\lib\\site-packages (from hyperopt->hpsklearn==0.0.3) (1.6.0)\n",
      "Requirement already satisfied: six in c:\\programdata\\anaconda3\\lib\\site-packages (from hyperopt->hpsklearn==0.0.3) (1.15.0)\n",
      "Requirement already satisfied: networkx>=2.2 in c:\\programdata\\anaconda3\\lib\\site-packages (from hyperopt->hpsklearn==0.0.3) (2.5)\n",
      "Requirement already satisfied: tqdm in c:\\programdata\\anaconda3\\lib\\site-packages (from hyperopt->hpsklearn==0.0.3) (4.59.0)\n",
      "Requirement already satisfied: future in c:\\programdata\\anaconda3\\lib\\site-packages (from hyperopt->hpsklearn==0.0.3) (0.18.2)\n",
      "Requirement already satisfied: decorator>=4.3.0 in c:\\programdata\\anaconda3\\lib\\site-packages (from networkx>=2.2->hyperopt->hpsklearn==0.0.3) (5.0.6)\n",
      "Requirement already satisfied: joblib>=0.11 in c:\\programdata\\anaconda3\\lib\\site-packages (from scikit-learn->hpsklearn==0.0.3) (1.0.1)\n",
      "Requirement already satisfied: threadpoolctl>=2.0.0 in c:\\programdata\\anaconda3\\lib\\site-packages (from scikit-learn->hpsklearn==0.0.3) (2.1.0)\n"
     ]
    }
   ],
   "source": [
    "!pip install git+https://github.com/hyperopt/hyperopt-sklearn"
   ]
  },
  {
   "cell_type": "code",
   "execution_count": 51,
   "id": "880c4158",
   "metadata": {
    "colab": {
     "base_uri": "https://localhost:8080/"
    },
    "deletable": false,
    "editable": false,
    "hidden": true,
    "id": "880c4158",
    "outputId": "55430236-3f26-4a60-ef36-80c56c5d28d5",
    "run_control": {
     "frozen": true
    }
   },
   "outputs": [
    {
     "name": "stdout",
     "output_type": "stream",
     "text": [
      "WARN: OMP_NUM_THREADS=None =>\n",
      "... If you are using openblas if you are using openblas set OMP_NUM_THREADS=1 or risk subprocess calls hanging indefinitely\n"
     ]
    }
   ],
   "source": [
    "from sklearn.datasets import make_classification\n",
    "from sklearn.model_selection import train_test_split\n",
    "from hpsklearn import HyperoptEstimator\n",
    "from hpsklearn import any_classifier\n",
    "from hpsklearn import any_preprocessing\n",
    "from hyperopt import tpe\n",
    "from hpsklearn import random_forest,svc,knn,extra_trees"
   ]
  },
  {
   "cell_type": "code",
   "execution_count": 52,
   "id": "eb6bf173",
   "metadata": {
    "deletable": false,
    "editable": false,
    "hidden": true,
    "id": "eb6bf173",
    "run_control": {
     "frozen": true
    }
   },
   "outputs": [],
   "source": [
    "model = HyperoptEstimator(classifier=any_classifier('clf'), preprocessing=any_preprocessing('pre'), algo=tpe.suggest, trial_timeout=30)"
   ]
  },
  {
   "cell_type": "code",
   "execution_count": 53,
   "id": "7ee8fa09",
   "metadata": {
    "deletable": false,
    "editable": false,
    "hidden": true,
    "id": "7ee8fa09",
    "run_control": {
     "frozen": true
    }
   },
   "outputs": [],
   "source": [
    "X_train = np.asarray(X_train).astype(np.float32)\n",
    "y_train=np.asarray(y_train).astype(np.float32)\n",
    "X_test = np.asarray(X_test).astype(np.float32)\n",
    "y_test=np.asarray(y_test).astype(np.float32)"
   ]
  },
  {
   "cell_type": "code",
   "execution_count": 54,
   "id": "84b8fede",
   "metadata": {
    "colab": {
     "base_uri": "https://localhost:8080/"
    },
    "deletable": false,
    "editable": false,
    "hidden": true,
    "id": "84b8fede",
    "outputId": "f0ca32a4-badb-4620-ca77-fa509ad3c5d9",
    "run_control": {
     "frozen": true
    }
   },
   "outputs": [
    {
     "name": "stdout",
     "output_type": "stream",
     "text": [
      "100%|██████████| 1/1 [00:29<00:00, 29.66s/it, best loss: 0.7661169415292354]\n",
      "100%|██████████| 1/1 [00:30<00:00, 30.11s/it, best loss: 0.7661169415292354]\n",
      "100%|██████████| 1/1 [00:00<00:00,  8.81it/s, best loss: 0.7481259370314843]\n",
      "100%|██████████| 1/1 [00:30<00:00, 30.24s/it, best loss: 0.7481259370314843]\n",
      "100%|██████████| 1/1 [00:00<00:00,  1.60it/s, best loss: 0.7481259370314843]\n",
      "100%|██████████| 1/1 [00:00<00:00,  1.39it/s, best loss: 0.7481259370314843]\n",
      "100%|██████████| 1/1 [00:00<00:00,  1.04it/s, best loss: 0.7481259370314843]\n",
      "100%|██████████| 1/1 [00:30<00:00, 30.09s/it, best loss: 0.7481259370314843]\n",
      "100%|██████████| 1/1 [00:04<00:00,  4.98s/it, best loss: 0.5367316341829085]\n",
      "100%|██████████| 1/1 [00:00<00:00,  8.71it/s, best loss: 0.5367316341829085]\n",
      "Accuracy: 0.522\n",
      "{'learner': ExtraTreesClassifier(bootstrap=False, ccp_alpha=0.0, class_weight=None,\n",
      "                     criterion='gini', max_depth=None,\n",
      "                     max_features=0.17072140485094556, max_leaf_nodes=None,\n",
      "                     max_samples=None, min_impurity_decrease=0.0,\n",
      "                     min_impurity_split=None, min_samples_leaf=1,\n",
      "                     min_samples_split=2, min_weight_fraction_leaf=0.0,\n",
      "                     n_estimators=622, n_jobs=1, oob_score=False,\n",
      "                     random_state=0, verbose=False, warm_start=False), 'preprocs': (StandardScaler(copy=True, with_mean=True, with_std=True),), 'ex_preprocs': ()}\n"
     ]
    }
   ],
   "source": [
    "model.fit(X_train, y_train)\n",
    "# summarize performance\n",
    "acc = model.score(X_test, y_test)\n",
    "print(\"Accuracy: %.3f\" % acc)\n",
    "# summarize the best model\n",
    "print(model.best_model())"
   ]
  },
  {
   "cell_type": "code",
   "execution_count": 55,
   "id": "7eb71e1a",
   "metadata": {
    "colab": {
     "base_uri": "https://localhost:8080/"
    },
    "deletable": false,
    "editable": false,
    "hidden": true,
    "id": "7eb71e1a",
    "outputId": "45ace826-6bd1-4c95-dede-ef0351e31ec4",
    "run_control": {
     "frozen": true
    }
   },
   "outputs": [
    {
     "name": "stdout",
     "output_type": "stream",
     "text": [
      "Accuracy: 0.522\n"
     ]
    }
   ],
   "source": [
    "y4 = model.predict(X_test)\n",
    "acc = accuracy_score(y_test, y4)\n",
    "print(\"Accuracy: %.3f\" % acc)"
   ]
  },
  {
   "cell_type": "code",
   "execution_count": 56,
   "id": "f79662f6",
   "metadata": {
    "colab": {
     "base_uri": "https://localhost:8080/",
     "height": 282
    },
    "deletable": false,
    "editable": false,
    "hidden": true,
    "id": "f79662f6",
    "outputId": "f656cf66-2313-4f5a-d42a-809d72a4f3e6",
    "run_control": {
     "frozen": true
    }
   },
   "outputs": [
    {
     "data": {
      "text/plain": [
       "<matplotlib.axes._subplots.AxesSubplot at 0x7f7d3b98c690>"
      ]
     },
     "execution_count": 56,
     "metadata": {
      "tags": []
     },
     "output_type": "execute_result"
    },
    {
     "data": {
      "image/png": "[encoded data removed]",
      "text/plain": [
       "<Figure size 432x288 with 1 Axes>"
      ]
     },
     "metadata": {
      "needs_background": "light",
      "tags": []
     },
     "output_type": "display_data"
    }
   ],
   "source": [
    "difference=y_test-y4\n",
    "sns.kdeplot(difference)"
   ]
  },
  {
   "cell_type": "code",
   "execution_count": 57,
   "id": "9e637ae4",
   "metadata": {
    "colab": {
     "base_uri": "https://localhost:8080/",
     "height": 392
    },
    "deletable": false,
    "editable": false,
    "hidden": true,
    "id": "9e637ae4",
    "outputId": "ca19b892-a76b-40ae-8c0d-c2b27cc3a761",
    "run_control": {
     "frozen": true
    },
    "scrolled": true
   },
   "outputs": [
    {
     "data": {
      "text/plain": [
       "0.5215827338129496"
      ]
     },
     "execution_count": 57,
     "metadata": {
      "tags": []
     },
     "output_type": "execute_result"
    },
    {
     "data": {
      "image/png": "[encoded data removed]",
      "text/plain": [
       "<Figure size 1080x432 with 4 Axes>"
      ]
     },
     "metadata": {
      "needs_background": "light",
      "tags": []
     },
     "output_type": "display_data"
    }
   ],
   "source": [
    "from sklearn.metrics import confusion_matrix  \n",
    "import seaborn as sn\n",
    "fig,axes=plt.subplots(1,2,figsize=(15,6))\n",
    "cm = pd.DataFrame(confusion_matrix(y_test, y4))\n",
    "sn.heatmap(cm,ax=axes[0])\n",
    "cm1 = pd.DataFrame(confusion_matrix(y_test, y_test))\n",
    "sn.heatmap(cm1,ax=axes[1])\n",
    "score = accuracy_score(y_test, y4)\n",
    "score"
   ]
  },
  {
   "cell_type": "markdown",
   "id": "9612897e",
   "metadata": {
    "id": "9612897e"
   },
   "source": [
    "# ANN"
   ]
  },
  {
   "cell_type": "code",
   "execution_count": 57,
   "id": "b8525540",
   "metadata": {
    "id": "b8525540"
   },
   "outputs": [],
   "source": [
    "import tensorflow as tf\n",
    "from tensorflow.keras.layers import Input, Dense, Activation, Dropout\n",
    "from tensorflow.keras.models import Model\n",
    "import keras\n",
    "from keras.models import Sequential\n",
    "from keras.layers import Dense\n",
    "from sklearn.preprocessing import StandardScaler"
   ]
  },
  {
   "cell_type": "markdown",
   "id": "522c9df2",
   "metadata": {
    "id": "522c9df2"
   },
   "source": [
    "## Q1 "
   ]
  },
  {
   "cell_type": "code",
   "execution_count": 58,
   "id": "26e63547",
   "metadata": {
    "id": "26e63547"
   },
   "outputs": [],
   "source": [
    "X_train = np.asarray(X_train).astype(np.float32)\n",
    "X_test = np.asarray(X_test).astype(np.float32)\n",
    "sc = StandardScaler()\n",
    "X_train = sc.fit_transform(X_train)\n",
    "X_test = sc.transform(X_test)"
   ]
  },
  {
   "cell_type": "code",
   "execution_count": 59,
   "id": "ab0daf2c",
   "metadata": {
    "colab": {
     "base_uri": "https://localhost:8080/"
    },
    "id": "ab0daf2c",
    "outputId": "95f006d6-cdc7-4ecd-bc68-4e0c0dabe83a"
   },
   "outputs": [
    {
     "data": {
      "text/plain": [
       "(3333, 9)"
      ]
     },
     "execution_count": 59,
     "metadata": {},
     "output_type": "execute_result"
    }
   ],
   "source": [
    "X_train.shape"
   ]
  },
  {
   "cell_type": "code",
   "execution_count": 60,
   "id": "77ab33bd",
   "metadata": {
    "id": "77ab33bd"
   },
   "outputs": [],
   "source": [
    "y_train=pd.get_dummies(y_train)"
   ]
  },
  {
   "cell_type": "code",
   "execution_count": 61,
   "id": "489d933b",
   "metadata": {
    "id": "489d933b"
   },
   "outputs": [],
   "source": [
    "ann = tf.keras.models.Sequential()\n",
    "ann.add(tf.keras.layers.Dense(103, activation='relu', input_shape=[X_train.shape[1],]))\n",
    "ann.add(tf.keras.layers.Dense(1024, activation='relu'))\n",
    "ann.add(tf.keras.layers.Dense(1024, activation='relu'))\n",
    "ann.add(tf.keras.layers.Dense(512, activation='relu'))\n",
    "ann.add(tf.keras.layers.Dense(256, activation='relu'))\n",
    "ann.add(tf.keras.layers.Dense(1, activation='softmax'))"
   ]
  },
  {
   "cell_type": "code",
   "execution_count": 62,
   "id": "7a0fbf1a",
   "metadata": {
    "colab": {
     "base_uri": "https://localhost:8080/"
    },
    "id": "7a0fbf1a",
    "outputId": "2c5c0c6d-06dd-443d-861f-efc1c81f906b"
   },
   "outputs": [
    {
     "name": "stdout",
     "output_type": "stream",
     "text": [
      "Model: \"sequential\"\n",
      "_________________________________________________________________\n",
      "Layer (type)                 Output Shape              Param #   \n",
      "=================================================================\n",
      "dense (Dense)                (None, 103)               1030      \n",
      "_________________________________________________________________\n",
      "dense_1 (Dense)              (None, 1024)              106496    \n",
      "_________________________________________________________________\n",
      "dense_2 (Dense)              (None, 1024)              1049600   \n",
      "_________________________________________________________________\n",
      "dense_3 (Dense)              (None, 512)               524800    \n",
      "_________________________________________________________________\n",
      "dense_4 (Dense)              (None, 256)               131328    \n",
      "_________________________________________________________________\n",
      "dense_5 (Dense)              (None, 1)                 257       \n",
      "=================================================================\n",
      "Total params: 1,813,511\n",
      "Trainable params: 1,813,511\n",
      "Non-trainable params: 0\n",
      "_________________________________________________________________\n"
     ]
    }
   ],
   "source": [
    "ann.compile(loss='mean_absolute_error', optimizer='adam', metrics=['accuracy'])\n",
    "ann.summary()"
   ]
  },
  {
   "cell_type": "code",
   "execution_count": 63,
   "id": "f519f07d",
   "metadata": {
    "colab": {
     "base_uri": "https://localhost:8080/"
    },
    "id": "f519f07d",
    "outputId": "19058bff-0bd6-47f8-8065-c91522806c0f"
   },
   "outputs": [
    {
     "name": "stdout",
     "output_type": "stream",
     "text": [
      "Epoch 1/100\n",
      "105/105 [==============================] - 2s 5ms/step - loss: 0.9545 - accuracy: 0.0455\n",
      "Epoch 2/100\n",
      "105/105 [==============================] - 1s 5ms/step - loss: 0.9545 - accuracy: 0.0455\n",
      "Epoch 3/100\n",
      "105/105 [==============================] - 1s 5ms/step - loss: 0.9545 - accuracy: 0.0455\n",
      "Epoch 4/100\n",
      "105/105 [==============================] - 1s 5ms/step - loss: 0.9545 - accuracy: 0.0455\n",
      "Epoch 5/100\n",
      "105/105 [==============================] - 1s 5ms/step - loss: 0.9545 - accuracy: 0.0455\n",
      "Epoch 6/100\n",
      "105/105 [==============================] - 1s 5ms/step - loss: 0.9545 - accuracy: 0.0455\n",
      "Epoch 7/100\n",
      "105/105 [==============================] - 1s 5ms/step - loss: 0.9545 - accuracy: 0.0455\n",
      "Epoch 8/100\n",
      "105/105 [==============================] - 1s 5ms/step - loss: 0.9545 - accuracy: 0.0455\n",
      "Epoch 9/100\n",
      "105/105 [==============================] - 1s 5ms/step - loss: 0.9545 - accuracy: 0.0455\n",
      "Epoch 10/100\n",
      "105/105 [==============================] - 1s 5ms/step - loss: 0.9545 - accuracy: 0.0455\n",
      "Epoch 11/100\n",
      "105/105 [==============================] - 1s 5ms/step - loss: 0.9545 - accuracy: 0.0455\n",
      "Epoch 12/100\n",
      "105/105 [==============================] - 1s 5ms/step - loss: 0.9545 - accuracy: 0.0455\n",
      "Epoch 13/100\n",
      "105/105 [==============================] - 1s 5ms/step - loss: 0.9545 - accuracy: 0.0455\n",
      "Epoch 14/100\n",
      "105/105 [==============================] - 1s 5ms/step - loss: 0.9545 - accuracy: 0.0455\n",
      "Epoch 15/100\n",
      "105/105 [==============================] - 1s 5ms/step - loss: 0.9545 - accuracy: 0.0455\n",
      "Epoch 16/100\n",
      "105/105 [==============================] - 1s 5ms/step - loss: 0.9545 - accuracy: 0.0455\n",
      "Epoch 17/100\n",
      "105/105 [==============================] - 1s 5ms/step - loss: 0.9545 - accuracy: 0.0455\n",
      "Epoch 18/100\n",
      "105/105 [==============================] - 1s 5ms/step - loss: 0.9545 - accuracy: 0.0455\n",
      "Epoch 19/100\n",
      "105/105 [==============================] - 1s 5ms/step - loss: 0.9545 - accuracy: 0.0455\n",
      "Epoch 20/100\n",
      "105/105 [==============================] - 1s 5ms/step - loss: 0.9545 - accuracy: 0.0455\n",
      "Epoch 21/100\n",
      "105/105 [==============================] - 1s 5ms/step - loss: 0.9545 - accuracy: 0.0455\n",
      "Epoch 22/100\n",
      "105/105 [==============================] - 1s 5ms/step - loss: 0.9545 - accuracy: 0.0455\n",
      "Epoch 23/100\n",
      "105/105 [==============================] - 1s 5ms/step - loss: 0.9545 - accuracy: 0.0455\n",
      "Epoch 24/100\n",
      "105/105 [==============================] - 1s 5ms/step - loss: 0.9545 - accuracy: 0.0455\n",
      "Epoch 25/100\n",
      "105/105 [==============================] - 1s 5ms/step - loss: 0.9545 - accuracy: 0.0455\n",
      "Epoch 26/100\n",
      "105/105 [==============================] - 1s 5ms/step - loss: 0.9545 - accuracy: 0.0455\n",
      "Epoch 27/100\n",
      "105/105 [==============================] - 1s 5ms/step - loss: 0.9545 - accuracy: 0.0455\n",
      "Epoch 28/100\n",
      "105/105 [==============================] - 1s 5ms/step - loss: 0.9545 - accuracy: 0.0455: 0s - loss: 0.9545 - accuracy: 0.\n",
      "Epoch 29/100\n",
      "105/105 [==============================] - 1s 5ms/step - loss: 0.9545 - accuracy: 0.0455: 0s - loss: 0.9545 - accura\n",
      "Epoch 30/100\n",
      "105/105 [==============================] - 1s 5ms/step - loss: 0.9545 - accuracy: 0.0455\n",
      "Epoch 31/100\n",
      "105/105 [==============================] - ETA: 0s - loss: 0.9545 - accuracy: 0.04 - 1s 5ms/step - loss: 0.9545 - accuracy: 0.0455\n",
      "Epoch 32/100\n",
      "105/105 [==============================] - 1s 5ms/step - loss: 0.9545 - accuracy: 0.0455\n",
      "Epoch 33/100\n",
      "105/105 [==============================] - 1s 5ms/step - loss: 0.9545 - accuracy: 0.0455\n",
      "Epoch 34/100\n",
      "105/105 [==============================] - 1s 5ms/step - loss: 0.9545 - accuracy: 0.0455\n",
      "Epoch 35/100\n",
      "105/105 [==============================] - 1s 5ms/step - loss: 0.9545 - accuracy: 0.0455\n",
      "Epoch 36/100\n",
      "105/105 [==============================] - 1s 5ms/step - loss: 0.9545 - accuracy: 0.0455\n",
      "Epoch 37/100\n",
      "105/105 [==============================] - 1s 5ms/step - loss: 0.9545 - accuracy: 0.0455\n",
      "Epoch 38/100\n",
      "105/105 [==============================] - 1s 5ms/step - loss: 0.9545 - accuracy: 0.0455\n",
      "Epoch 39/100\n",
      "105/105 [==============================] - 1s 5ms/step - loss: 0.9545 - accuracy: 0.0455\n",
      "Epoch 40/100\n",
      "105/105 [==============================] - 1s 5ms/step - loss: 0.9545 - accuracy: 0.0455\n",
      "Epoch 41/100\n",
      "105/105 [==============================] - 1s 5ms/step - loss: 0.9545 - accuracy: 0.0455\n",
      "Epoch 42/100\n",
      "105/105 [==============================] - 1s 5ms/step - loss: 0.9545 - accuracy: 0.0455\n",
      "Epoch 43/100\n",
      "105/105 [==============================] - 1s 5ms/step - loss: 0.9545 - accuracy: 0.0455\n",
      "Epoch 44/100\n",
      "105/105 [==============================] - 1s 5ms/step - loss: 0.9545 - accuracy: 0.0455\n",
      "Epoch 45/100\n",
      "105/105 [==============================] - 1s 5ms/step - loss: 0.9545 - accuracy: 0.0455\n",
      "Epoch 46/100\n",
      "105/105 [==============================] - 1s 5ms/step - loss: 0.9545 - accuracy: 0.0455\n",
      "Epoch 47/100\n",
      "105/105 [==============================] - 1s 5ms/step - loss: 0.9545 - accuracy: 0.0455\n",
      "Epoch 48/100\n",
      "105/105 [==============================] - 1s 5ms/step - loss: 0.9545 - accuracy: 0.0455\n",
      "Epoch 49/100\n",
      "105/105 [==============================] - 1s 5ms/step - loss: 0.9545 - accuracy: 0.0455\n",
      "Epoch 50/100\n",
      "105/105 [==============================] - 1s 5ms/step - loss: 0.9545 - accuracy: 0.0455\n",
      "Epoch 51/100\n",
      "105/105 [==============================] - 1s 5ms/step - loss: 0.9545 - accuracy: 0.0455\n",
      "Epoch 52/100\n",
      "105/105 [==============================] - 1s 5ms/step - loss: 0.9545 - accuracy: 0.0455\n",
      "Epoch 53/100\n",
      "105/105 [==============================] - 1s 5ms/step - loss: 0.9545 - accuracy: 0.0455\n",
      "Epoch 54/100\n",
      "105/105 [==============================] - 1s 5ms/step - loss: 0.9545 - accuracy: 0.0455\n",
      "Epoch 55/100\n",
      "105/105 [==============================] - 1s 5ms/step - loss: 0.9545 - accuracy: 0.0455\n",
      "Epoch 56/100\n",
      "105/105 [==============================] - 1s 5ms/step - loss: 0.9545 - accuracy: 0.0455\n",
      "Epoch 57/100\n",
      "105/105 [==============================] - 1s 5ms/step - loss: 0.9545 - accuracy: 0.0455\n",
      "Epoch 58/100\n",
      "105/105 [==============================] - 1s 5ms/step - loss: 0.9545 - accuracy: 0.0455\n",
      "Epoch 59/100\n",
      "105/105 [==============================] - 1s 6ms/step - loss: 0.9545 - accuracy: 0.0455\n",
      "Epoch 60/100\n",
      "105/105 [==============================] - 1s 5ms/step - loss: 0.9545 - accuracy: 0.0455\n",
      "Epoch 61/100\n",
      "105/105 [==============================] - 1s 5ms/step - loss: 0.9545 - accuracy: 0.0455\n",
      "Epoch 62/100\n",
      "105/105 [==============================] - 1s 6ms/step - loss: 0.9545 - accuracy: 0.0455\n",
      "Epoch 63/100\n",
      "105/105 [==============================] - 1s 6ms/step - loss: 0.9545 - accuracy: 0.0455\n",
      "Epoch 64/100\n",
      "105/105 [==============================] - 1s 6ms/step - loss: 0.9545 - accuracy: 0.0455\n",
      "Epoch 65/100\n",
      "105/105 [==============================] - 1s 6ms/step - loss: 0.9545 - accuracy: 0.0455\n",
      "Epoch 66/100\n",
      "105/105 [==============================] - 1s 6ms/step - loss: 0.9545 - accuracy: 0.0455\n",
      "Epoch 67/100\n",
      "105/105 [==============================] - 1s 6ms/step - loss: 0.9545 - accuracy: 0.0455: 0s - loss: 0.9545 - accuracy: 0.\n",
      "Epoch 68/100\n",
      "105/105 [==============================] - 1s 6ms/step - loss: 0.9545 - accuracy: 0.0455\n",
      "Epoch 69/100\n",
      "105/105 [==============================] - 1s 6ms/step - loss: 0.9545 - accuracy: 0.0455\n",
      "Epoch 70/100\n",
      "105/105 [==============================] - 1s 6ms/step - loss: 0.9545 - accuracy: 0.0455\n",
      "Epoch 71/100\n",
      "105/105 [==============================] - 1s 6ms/step - loss: 0.9545 - accuracy: 0.0455\n",
      "Epoch 72/100\n",
      "105/105 [==============================] - 1s 6ms/step - loss: 0.9545 - accuracy: 0.0455\n",
      "Epoch 73/100\n",
      "105/105 [==============================] - 1s 6ms/step - loss: 0.9545 - accuracy: 0.0455\n",
      "Epoch 74/100\n",
      "105/105 [==============================] - 1s 6ms/step - loss: 0.9545 - accuracy: 0.0455\n",
      "Epoch 75/100\n",
      "105/105 [==============================] - 1s 6ms/step - loss: 0.9545 - accuracy: 0.0455\n",
      "Epoch 76/100\n",
      "105/105 [==============================] - 1s 6ms/step - loss: 0.9545 - accuracy: 0.0455\n",
      "Epoch 77/100\n",
      "105/105 [==============================] - 1s 6ms/step - loss: 0.9545 - accuracy: 0.0455\n",
      "Epoch 78/100\n",
      "105/105 [==============================] - 1s 6ms/step - loss: 0.9545 - accuracy: 0.0455\n",
      "Epoch 79/100\n",
      "105/105 [==============================] - 1s 6ms/step - loss: 0.9545 - accuracy: 0.0455\n",
      "Epoch 80/100\n"
     ]
    },
    {
     "name": "stdout",
     "output_type": "stream",
     "text": [
      "105/105 [==============================] - 1s 6ms/step - loss: 0.9545 - accuracy: 0.0455\n",
      "Epoch 81/100\n",
      "105/105 [==============================] - 1s 6ms/step - loss: 0.9545 - accuracy: 0.0455\n",
      "Epoch 82/100\n",
      "105/105 [==============================] - 1s 6ms/step - loss: 0.9545 - accuracy: 0.0455\n",
      "Epoch 83/100\n",
      "105/105 [==============================] - 1s 6ms/step - loss: 0.9545 - accuracy: 0.0455\n",
      "Epoch 84/100\n",
      "105/105 [==============================] - 1s 6ms/step - loss: 0.9545 - accuracy: 0.0455\n",
      "Epoch 85/100\n",
      "105/105 [==============================] - 1s 6ms/step - loss: 0.9545 - accuracy: 0.0455\n",
      "Epoch 86/100\n",
      "105/105 [==============================] - 1s 6ms/step - loss: 0.9545 - accuracy: 0.0455\n",
      "Epoch 87/100\n",
      "105/105 [==============================] - 1s 6ms/step - loss: 0.9545 - accuracy: 0.0455\n",
      "Epoch 88/100\n",
      "105/105 [==============================] - 1s 6ms/step - loss: 0.9545 - accuracy: 0.0455\n",
      "Epoch 89/100\n",
      "105/105 [==============================] - 1s 6ms/step - loss: 0.9545 - accuracy: 0.0455\n",
      "Epoch 90/100\n",
      "105/105 [==============================] - 1s 6ms/step - loss: 0.9545 - accuracy: 0.0455\n",
      "Epoch 91/100\n",
      "105/105 [==============================] - 1s 6ms/step - loss: 0.9545 - accuracy: 0.0455\n",
      "Epoch 92/100\n",
      "105/105 [==============================] - 1s 6ms/step - loss: 0.9545 - accuracy: 0.0455\n",
      "Epoch 93/100\n",
      "105/105 [==============================] - 1s 6ms/step - loss: 0.9545 - accuracy: 0.0455\n",
      "Epoch 94/100\n",
      "105/105 [==============================] - 1s 6ms/step - loss: 0.9545 - accuracy: 0.0455\n",
      "Epoch 95/100\n",
      "105/105 [==============================] - 1s 6ms/step - loss: 0.9545 - accuracy: 0.0455\n",
      "Epoch 96/100\n",
      "105/105 [==============================] - 1s 6ms/step - loss: 0.9545 - accuracy: 0.0455\n",
      "Epoch 97/100\n",
      "105/105 [==============================] - 1s 6ms/step - loss: 0.9545 - accuracy: 0.0455\n",
      "Epoch 98/100\n",
      "105/105 [==============================] - 1s 6ms/step - loss: 0.9545 - accuracy: 0.0455\n",
      "Epoch 99/100\n",
      "105/105 [==============================] - 1s 6ms/step - loss: 0.9545 - accuracy: 0.0455\n",
      "Epoch 100/100\n",
      "105/105 [==============================] - 1s 6ms/step - loss: 0.9545 - accuracy: 0.0455\n"
     ]
    },
    {
     "data": {
      "text/plain": [
       "<keras.callbacks.History at 0x1f40bcfa340>"
      ]
     },
     "execution_count": 63,
     "metadata": {},
     "output_type": "execute_result"
    }
   ],
   "source": [
    "ann.fit(X_train, y_train, epochs=100)"
   ]
  },
  {
   "cell_type": "code",
   "execution_count": 64,
   "id": "347655bc",
   "metadata": {
    "id": "347655bc"
   },
   "outputs": [],
   "source": [
    "y_pred = ann.predict(X_test)\n",
    "\n",
    "y_pred_train=ann.predict(X_train)\n"
   ]
  },
  {
   "cell_type": "code",
   "execution_count": 65,
   "id": "606c677a",
   "metadata": {
    "id": "606c677a"
   },
   "outputs": [],
   "source": [
    "predictions=[0]*y_pred.shape[0]\n",
    "\n",
    "for i in range(y_pred.shape[0]):\n",
    "    predictions[i]=np.argmax(y_pred[i])+1"
   ]
  },
  {
   "cell_type": "code",
   "execution_count": 66,
   "id": "cfb9ba3b",
   "metadata": {
    "colab": {
     "base_uri": "https://localhost:8080/"
    },
    "id": "cfb9ba3b",
    "outputId": "010adb82-9312-486d-d729-7eafd4f38914"
   },
   "outputs": [
    {
     "name": "stdout",
     "output_type": "stream",
     "text": [
      "R squared via prediction on test set:  0.05935251798561151\n"
     ]
    }
   ],
   "source": [
    "\n",
    "print('R squared via prediction on test set: ', accuracy_score(y_test,predictions))"
   ]
  },
  {
   "cell_type": "markdown",
   "id": "cd149912",
   "metadata": {
    "id": "cd149912"
   },
   "source": [
    "## Q2"
   ]
  },
  {
   "cell_type": "code",
   "execution_count": 67,
   "id": "b2c9efe6",
   "metadata": {
    "id": "b2c9efe6"
   },
   "outputs": [],
   "source": [
    "X_train = np.asarray(X_train_2).astype(np.float32)\n",
    "X_test = np.asarray(X_test_2).astype(np.float32)\n",
    "sc = StandardScaler()\n",
    "X_train = sc.fit_transform(X_train)\n",
    "X_test = sc.transform(X_test)"
   ]
  },
  {
   "cell_type": "code",
   "execution_count": 68,
   "id": "7c22bcfa",
   "metadata": {
    "id": "7c22bcfa"
   },
   "outputs": [],
   "source": [
    "y_train=pd.get_dummies(y_train_2)"
   ]
  },
  {
   "cell_type": "code",
   "execution_count": 69,
   "id": "1fb4fbfc",
   "metadata": {
    "id": "1fb4fbfc"
   },
   "outputs": [],
   "source": [
    "ann = tf.keras.models.Sequential()\n",
    "ann.add(tf.keras.layers.Dense(103, activation='relu', input_shape=[X_train.shape[1],]))\n",
    "ann.add(tf.keras.layers.Dense(1024, activation='relu'))\n",
    "ann.add(tf.keras.layers.Dense(1024, activation='relu'))\n",
    "ann.add(tf.keras.layers.Dense(512, activation='relu'))\n",
    "ann.add(tf.keras.layers.Dense(256, activation='relu'))\n",
    "ann.add(tf.keras.layers.Dense(20, activation='softmax'))"
   ]
  },
  {
   "cell_type": "code",
   "execution_count": 70,
   "id": "12cc7e14",
   "metadata": {
    "colab": {
     "base_uri": "https://localhost:8080/"
    },
    "id": "12cc7e14",
    "outputId": "788a0272-fdcf-46d5-87b6-9ff438d1e10a",
    "scrolled": true
   },
   "outputs": [
    {
     "name": "stdout",
     "output_type": "stream",
     "text": [
      "Model: \"sequential_1\"\n",
      "_________________________________________________________________\n",
      "Layer (type)                 Output Shape              Param #   \n",
      "=================================================================\n",
      "dense_6 (Dense)              (None, 103)               1133      \n",
      "_________________________________________________________________\n",
      "dense_7 (Dense)              (None, 1024)              106496    \n",
      "_________________________________________________________________\n",
      "dense_8 (Dense)              (None, 1024)              1049600   \n",
      "_________________________________________________________________\n",
      "dense_9 (Dense)              (None, 512)               524800    \n",
      "_________________________________________________________________\n",
      "dense_10 (Dense)             (None, 256)               131328    \n",
      "_________________________________________________________________\n",
      "dense_11 (Dense)             (None, 20)                5140      \n",
      "=================================================================\n",
      "Total params: 1,818,497\n",
      "Trainable params: 1,818,497\n",
      "Non-trainable params: 0\n",
      "_________________________________________________________________\n"
     ]
    }
   ],
   "source": [
    "ann.compile(loss='categorical_crossentropy', optimizer='adam', metrics=['accuracy'])\n",
    "ann.summary()"
   ]
  },
  {
   "cell_type": "code",
   "execution_count": 71,
   "id": "6dd505ba",
   "metadata": {
    "colab": {
     "base_uri": "https://localhost:8080/"
    },
    "id": "6dd505ba",
    "outputId": "fafab96e-3f41-4252-b287-21aefde8232d",
    "scrolled": true
   },
   "outputs": [
    {
     "name": "stdout",
     "output_type": "stream",
     "text": [
      "Epoch 1/100\n",
      "79/79 [==============================] - ETA: 0s - loss: 2.4830 - accuracy: 0.17 - 1s 5ms/step - loss: 2.4846 - accuracy: 0.1733\n",
      "Epoch 2/100\n",
      "79/79 [==============================] - 0s 5ms/step - loss: 2.3366 - accuracy: 0.1889\n",
      "Epoch 3/100\n",
      "79/79 [==============================] - 0s 5ms/step - loss: 2.2569 - accuracy: 0.2053\n",
      "Epoch 4/100\n",
      "79/79 [==============================] - 0s 5ms/step - loss: 2.2254 - accuracy: 0.2261\n",
      "Epoch 5/100\n",
      "79/79 [==============================] - 0s 5ms/step - loss: 2.1641 - accuracy: 0.2461: 0s - loss: 2.1582 - accuracy: 0.\n",
      "Epoch 6/100\n",
      "79/79 [==============================] - 0s 5ms/step - loss: 2.1254 - accuracy: 0.2457\n",
      "Epoch 7/100\n",
      "79/79 [==============================] - 0s 5ms/step - loss: 2.0699 - accuracy: 0.2649\n",
      "Epoch 8/100\n",
      "79/79 [==============================] - 0s 5ms/step - loss: 2.0151 - accuracy: 0.2949\n",
      "Epoch 9/100\n",
      "79/79 [==============================] - 0s 5ms/step - loss: 1.9145 - accuracy: 0.3197\n",
      "Epoch 10/100\n",
      "79/79 [==============================] - 0s 5ms/step - loss: 1.8575 - accuracy: 0.3281\n",
      "Epoch 11/100\n",
      "79/79 [==============================] - 0s 5ms/step - loss: 1.7714 - accuracy: 0.3569\n",
      "Epoch 12/100\n",
      "79/79 [==============================] - 0s 5ms/step - loss: 1.6967 - accuracy: 0.3842\n",
      "Epoch 13/100\n",
      "79/79 [==============================] - 0s 5ms/step - loss: 1.6132 - accuracy: 0.4226\n",
      "Epoch 14/100\n",
      "79/79 [==============================] - 0s 5ms/step - loss: 1.5103 - accuracy: 0.4614\n",
      "Epoch 15/100\n",
      "79/79 [==============================] - 0s 5ms/step - loss: 1.4455 - accuracy: 0.4954\n",
      "Epoch 16/100\n",
      "79/79 [==============================] - 0s 5ms/step - loss: 1.3448 - accuracy: 0.5198\n",
      "Epoch 17/100\n",
      "79/79 [==============================] - 0s 5ms/step - loss: 1.2498 - accuracy: 0.5462\n",
      "Epoch 18/100\n",
      "79/79 [==============================] - 0s 5ms/step - loss: 1.1852 - accuracy: 0.5702\n",
      "Epoch 19/100\n",
      "79/79 [==============================] - 0s 5ms/step - loss: 1.1253 - accuracy: 0.5934\n",
      "Epoch 20/100\n",
      "79/79 [==============================] - 0s 5ms/step - loss: 1.0342 - accuracy: 0.6275\n",
      "Epoch 21/100\n",
      "79/79 [==============================] - 0s 5ms/step - loss: 0.9982 - accuracy: 0.6363\n",
      "Epoch 22/100\n",
      "79/79 [==============================] - 0s 5ms/step - loss: 0.8570 - accuracy: 0.6863\n",
      "Epoch 23/100\n",
      "79/79 [==============================] - 0s 5ms/step - loss: 0.8688 - accuracy: 0.6807\n",
      "Epoch 24/100\n",
      "79/79 [==============================] - 0s 5ms/step - loss: 0.7758 - accuracy: 0.7315\n",
      "Epoch 25/100\n",
      "79/79 [==============================] - 0s 5ms/step - loss: 0.6525 - accuracy: 0.7691\n",
      "Epoch 26/100\n",
      "79/79 [==============================] - 0s 5ms/step - loss: 0.5988 - accuracy: 0.7931\n",
      "Epoch 27/100\n",
      "79/79 [==============================] - 0s 5ms/step - loss: 0.5153 - accuracy: 0.8151\n",
      "Epoch 28/100\n",
      "79/79 [==============================] - 0s 5ms/step - loss: 0.4894 - accuracy: 0.8231\n",
      "Epoch 29/100\n",
      "79/79 [==============================] - 0s 5ms/step - loss: 0.5187 - accuracy: 0.8191\n",
      "Epoch 30/100\n",
      "79/79 [==============================] - 0s 5ms/step - loss: 0.3832 - accuracy: 0.8631\n",
      "Epoch 31/100\n",
      "79/79 [==============================] - 0s 5ms/step - loss: 0.6087 - accuracy: 0.8023\n",
      "Epoch 32/100\n",
      "79/79 [==============================] - 0s 5ms/step - loss: 0.4271 - accuracy: 0.8559\n",
      "Epoch 33/100\n",
      "79/79 [==============================] - 0s 5ms/step - loss: 0.5999 - accuracy: 0.8067\n",
      "Epoch 34/100\n",
      "79/79 [==============================] - 0s 5ms/step - loss: 0.4039 - accuracy: 0.8731\n",
      "Epoch 35/100\n",
      "79/79 [==============================] - 0s 5ms/step - loss: 0.2667 - accuracy: 0.9112\n",
      "Epoch 36/100\n",
      "79/79 [==============================] - 0s 5ms/step - loss: 0.2456 - accuracy: 0.9144\n",
      "Epoch 37/100\n",
      "79/79 [==============================] - 0s 5ms/step - loss: 0.2364 - accuracy: 0.9176\n",
      "Epoch 38/100\n",
      "79/79 [==============================] - 0s 5ms/step - loss: 0.3727 - accuracy: 0.8800\n",
      "Epoch 39/100\n",
      "79/79 [==============================] - 0s 5ms/step - loss: 0.2162 - accuracy: 0.9280\n",
      "Epoch 40/100\n",
      "79/79 [==============================] - 0s 5ms/step - loss: 0.1741 - accuracy: 0.9400\n",
      "Epoch 41/100\n",
      "79/79 [==============================] - 0s 5ms/step - loss: 0.3101 - accuracy: 0.9044\n",
      "Epoch 42/100\n",
      "79/79 [==============================] - 0s 5ms/step - loss: 0.2172 - accuracy: 0.9316\n",
      "Epoch 43/100\n",
      "79/79 [==============================] - 0s 5ms/step - loss: 0.1289 - accuracy: 0.9564\n",
      "Epoch 44/100\n",
      "79/79 [==============================] - 0s 5ms/step - loss: 0.1350 - accuracy: 0.9636\n",
      "Epoch 45/100\n",
      "79/79 [==============================] - 0s 5ms/step - loss: 0.0988 - accuracy: 0.9640\n",
      "Epoch 46/100\n",
      "79/79 [==============================] - 0s 5ms/step - loss: 0.1615 - accuracy: 0.9532\n",
      "Epoch 47/100\n",
      "79/79 [==============================] - 0s 5ms/step - loss: 0.1258 - accuracy: 0.9548\n",
      "Epoch 48/100\n",
      "79/79 [==============================] - 0s 5ms/step - loss: 0.1287 - accuracy: 0.9540\n",
      "Epoch 49/100\n",
      "79/79 [==============================] - 0s 5ms/step - loss: 0.1528 - accuracy: 0.9528\n",
      "Epoch 50/100\n",
      "79/79 [==============================] - 0s 5ms/step - loss: 0.1153 - accuracy: 0.9664\n",
      "Epoch 51/100\n",
      "79/79 [==============================] - 0s 5ms/step - loss: 0.1284 - accuracy: 0.9584\n",
      "Epoch 52/100\n",
      "79/79 [==============================] - 0s 5ms/step - loss: 0.2164 - accuracy: 0.9340\n",
      "Epoch 53/100\n",
      "79/79 [==============================] - 0s 5ms/step - loss: 0.2177 - accuracy: 0.9352\n",
      "Epoch 54/100\n",
      "79/79 [==============================] - 0s 5ms/step - loss: 0.1998 - accuracy: 0.9424\n",
      "Epoch 55/100\n",
      "79/79 [==============================] - 0s 5ms/step - loss: 0.2024 - accuracy: 0.9412\n",
      "Epoch 56/100\n",
      "79/79 [==============================] - 0s 5ms/step - loss: 0.0935 - accuracy: 0.9696\n",
      "Epoch 57/100\n",
      "79/79 [==============================] - 0s 5ms/step - loss: 0.1504 - accuracy: 0.9528\n",
      "Epoch 58/100\n",
      "79/79 [==============================] - 0s 5ms/step - loss: 0.1236 - accuracy: 0.9612\n",
      "Epoch 59/100\n",
      "79/79 [==============================] - 0s 5ms/step - loss: 0.1055 - accuracy: 0.9704\n",
      "Epoch 60/100\n",
      "79/79 [==============================] - 0s 5ms/step - loss: 0.1105 - accuracy: 0.9700\n",
      "Epoch 61/100\n",
      "79/79 [==============================] - 0s 6ms/step - loss: 0.1284 - accuracy: 0.9688\n",
      "Epoch 62/100\n",
      "79/79 [==============================] - 0s 5ms/step - loss: 0.1043 - accuracy: 0.9680\n",
      "Epoch 63/100\n",
      "79/79 [==============================] - 0s 5ms/step - loss: 0.1654 - accuracy: 0.9508\n",
      "Epoch 64/100\n",
      "79/79 [==============================] - 0s 5ms/step - loss: 0.1176 - accuracy: 0.9652\n",
      "Epoch 65/100\n",
      "79/79 [==============================] - 0s 5ms/step - loss: 0.1134 - accuracy: 0.9680\n",
      "Epoch 66/100\n",
      "79/79 [==============================] - 0s 5ms/step - loss: 0.1197 - accuracy: 0.9716\n",
      "Epoch 67/100\n",
      "79/79 [==============================] - 0s 5ms/step - loss: 0.0813 - accuracy: 0.9756: 0s - loss: 0.0738 - accu\n",
      "Epoch 68/100\n",
      "79/79 [==============================] - 0s 6ms/step - loss: 0.0630 - accuracy: 0.9832\n",
      "Epoch 69/100\n",
      "79/79 [==============================] - 0s 5ms/step - loss: 0.0713 - accuracy: 0.9752\n",
      "Epoch 70/100\n",
      "79/79 [==============================] - 0s 5ms/step - loss: 0.0693 - accuracy: 0.9788\n",
      "Epoch 71/100\n",
      "79/79 [==============================] - 0s 5ms/step - loss: 0.1227 - accuracy: 0.9648\n",
      "Epoch 72/100\n",
      "79/79 [==============================] - 0s 5ms/step - loss: 0.1088 - accuracy: 0.9684\n",
      "Epoch 73/100\n",
      "79/79 [==============================] - 0s 5ms/step - loss: 0.1003 - accuracy: 0.9712\n",
      "Epoch 74/100\n",
      "79/79 [==============================] - 0s 5ms/step - loss: 0.1127 - accuracy: 0.9696\n",
      "Epoch 75/100\n",
      "79/79 [==============================] - 0s 5ms/step - loss: 0.2376 - accuracy: 0.9340\n",
      "Epoch 76/100\n",
      "79/79 [==============================] - 0s 5ms/step - loss: 0.1667 - accuracy: 0.9512\n",
      "Epoch 77/100\n",
      "79/79 [==============================] - 0s 5ms/step - loss: 0.1259 - accuracy: 0.9676\n",
      "Epoch 78/100\n",
      "79/79 [==============================] - ETA: 0s - loss: 0.0804 - accuracy: 0.97 - 0s 5ms/step - loss: 0.0838 - accuracy: 0.9748\n",
      "Epoch 79/100\n",
      "79/79 [==============================] - 0s 5ms/step - loss: 0.0629 - accuracy: 0.9824: 0s - loss: 0.0578 - accuracy\n",
      "Epoch 80/100\n",
      "79/79 [==============================] - 0s 5ms/step - loss: 0.1086 - accuracy: 0.9700\n",
      "Epoch 81/100\n",
      "79/79 [==============================] - 0s 5ms/step - loss: 0.1075 - accuracy: 0.9660\n",
      "Epoch 82/100\n",
      "79/79 [==============================] - 0s 5ms/step - loss: 0.0991 - accuracy: 0.9720\n",
      "Epoch 83/100\n",
      "79/79 [==============================] - 0s 5ms/step - loss: 0.1044 - accuracy: 0.9712\n",
      "Epoch 84/100\n",
      "79/79 [==============================] - 0s 5ms/step - loss: 0.0984 - accuracy: 0.9740\n",
      "Epoch 85/100\n",
      "79/79 [==============================] - 0s 5ms/step - loss: 0.0628 - accuracy: 0.9780\n",
      "Epoch 86/100\n",
      "79/79 [==============================] - 0s 5ms/step - loss: 0.0468 - accuracy: 0.9852\n",
      "Epoch 87/100\n",
      "79/79 [==============================] - 0s 5ms/step - loss: 0.0404 - accuracy: 0.9868\n",
      "Epoch 88/100\n",
      "79/79 [==============================] - 0s 5ms/step - loss: 0.0401 - accuracy: 0.9880\n",
      "Epoch 89/100\n",
      "79/79 [==============================] - 0s 5ms/step - loss: 0.0377 - accuracy: 0.9888\n",
      "Epoch 90/100\n",
      "79/79 [==============================] - 0s 5ms/step - loss: 0.0572 - accuracy: 0.9812\n",
      "Epoch 91/100\n",
      "79/79 [==============================] - 0s 5ms/step - loss: 0.0822 - accuracy: 0.9760\n",
      "Epoch 92/100\n",
      "79/79 [==============================] - 0s 5ms/step - loss: 0.0784 - accuracy: 0.9760\n",
      "Epoch 93/100\n",
      "79/79 [==============================] - 0s 5ms/step - loss: 0.1292 - accuracy: 0.9656\n",
      "Epoch 94/100\n",
      "79/79 [==============================] - 0s 5ms/step - loss: 0.1434 - accuracy: 0.9596\n",
      "Epoch 95/100\n",
      "79/79 [==============================] - 0s 5ms/step - loss: 0.0964 - accuracy: 0.9736\n",
      "Epoch 96/100\n",
      "79/79 [==============================] - 0s 5ms/step - loss: 0.1719 - accuracy: 0.9528\n",
      "Epoch 97/100\n",
      "79/79 [==============================] - 0s 5ms/step - loss: 0.1774 - accuracy: 0.9460\n",
      "Epoch 98/100\n",
      "79/79 [==============================] - 0s 5ms/step - loss: 0.1659 - accuracy: 0.9552\n",
      "Epoch 99/100\n",
      "79/79 [==============================] - 0s 5ms/step - loss: 0.1498 - accuracy: 0.9604\n",
      "Epoch 100/100\n",
      "79/79 [==============================] - 0s 5ms/step - loss: 0.1067 - accuracy: 0.9748\n"
     ]
    },
    {
     "data": {
      "text/plain": [
       "<keras.callbacks.History at 0x1f41f82ffa0>"
      ]
     },
     "execution_count": 71,
     "metadata": {},
     "output_type": "execute_result"
    }
   ],
   "source": [
    "ann.fit(X_train, y_train, epochs=100)"
   ]
  },
  {
   "cell_type": "code",
   "execution_count": 72,
   "id": "2f765f5a",
   "metadata": {
    "id": "2f765f5a"
   },
   "outputs": [],
   "source": [
    "y_pred = ann.predict(X_test)\n",
    "y_pred_train=ann.predict(X_train)"
   ]
  },
  {
   "cell_type": "code",
   "execution_count": 73,
   "id": "35c76446",
   "metadata": {
    "id": "35c76446"
   },
   "outputs": [],
   "source": [
    "test_predictions=[0]*y_pred.shape[0]\n",
    "for i in range(y_pred.shape[0]):\n",
    "    test_predictions[i]=np.argmax(y_pred[i])+1\n",
    "train_predictions=[0]*y_pred_train.shape[0]\n",
    "for i in range(y_pred_train.shape[0]):\n",
    "    train_predictions[i]=np.argmax(y_pred_train[i])+1"
   ]
  },
  {
   "cell_type": "code",
   "execution_count": 74,
   "id": "d43a4a42",
   "metadata": {
    "colab": {
     "base_uri": "https://localhost:8080/"
    },
    "id": "d43a4a42",
    "outputId": "f1b42fed-84e3-41cd-d971-7fc32e067826"
   },
   "outputs": [
    {
     "name": "stdout",
     "output_type": "stream",
     "text": [
      "Accuracy via prediction on test set:  0.4381752701080432\n",
      "Accuracy via prediction on test set:  0.9851940776310524\n"
     ]
    }
   ],
   "source": [
    "print('Accuracy via prediction on test set: ', accuracy_score(y_test_2,test_predictions))\n",
    "print('Accuracy via prediction on test set: ', accuracy_score(y_train_2,train_predictions))"
   ]
  },
  {
   "cell_type": "markdown",
   "id": "9c0988d4",
   "metadata": {
    "id": "9c0988d4"
   },
   "source": [
    "## Q3 "
   ]
  },
  {
   "cell_type": "code",
   "execution_count": 75,
   "id": "f1a21659",
   "metadata": {
    "id": "f1a21659"
   },
   "outputs": [],
   "source": [
    "X_train = np.asarray(X_train_3).astype(np.float32)\n",
    "X_test = np.asarray(X_test_3).astype(np.float32)\n",
    "sc = StandardScaler()\n",
    "X_train = sc.fit_transform(X_train)\n",
    "X_test = sc.transform(X_test)"
   ]
  },
  {
   "cell_type": "code",
   "execution_count": 76,
   "id": "054a4f40",
   "metadata": {
    "id": "054a4f40"
   },
   "outputs": [],
   "source": [
    "y_train=pd.get_dummies(y_train_3)"
   ]
  },
  {
   "cell_type": "code",
   "execution_count": 77,
   "id": "62975565",
   "metadata": {
    "id": "62975565"
   },
   "outputs": [],
   "source": [
    "ann = tf.keras.models.Sequential()\n",
    "ann.add(tf.keras.layers.Dense(103, activation='relu', input_shape=[X_train.shape[1],]))\n",
    "ann.add(tf.keras.layers.Dense(1024, activation='relu'))\n",
    "ann.add(tf.keras.layers.Dense(1024, activation='relu'))\n",
    "ann.add(tf.keras.layers.Dense(512, activation='relu'))\n",
    "ann.add(tf.keras.layers.Dense(256, activation='relu'))\n",
    "ann.add(tf.keras.layers.Dense(19, activation='softmax'))"
   ]
  },
  {
   "cell_type": "code",
   "execution_count": 78,
   "id": "dbca67ea",
   "metadata": {
    "colab": {
     "base_uri": "https://localhost:8080/"
    },
    "id": "dbca67ea",
    "outputId": "c3f9be28-8674-4348-c335-fb5fdc08d2d3"
   },
   "outputs": [
    {
     "name": "stdout",
     "output_type": "stream",
     "text": [
      "Model: \"sequential_2\"\n",
      "_________________________________________________________________\n",
      "Layer (type)                 Output Shape              Param #   \n",
      "=================================================================\n",
      "dense_12 (Dense)             (None, 103)               1236      \n",
      "_________________________________________________________________\n",
      "dense_13 (Dense)             (None, 1024)              106496    \n",
      "_________________________________________________________________\n",
      "dense_14 (Dense)             (None, 1024)              1049600   \n",
      "_________________________________________________________________\n",
      "dense_15 (Dense)             (None, 512)               524800    \n",
      "_________________________________________________________________\n",
      "dense_16 (Dense)             (None, 256)               131328    \n",
      "_________________________________________________________________\n",
      "dense_17 (Dense)             (None, 19)                4883      \n",
      "=================================================================\n",
      "Total params: 1,818,343\n",
      "Trainable params: 1,818,343\n",
      "Non-trainable params: 0\n",
      "_________________________________________________________________\n"
     ]
    }
   ],
   "source": [
    "ann.compile(loss='categorical_crossentropy', optimizer='adam', metrics=['accuracy'])\n",
    "ann.summary()"
   ]
  },
  {
   "cell_type": "code",
   "execution_count": 79,
   "id": "87f75356",
   "metadata": {
    "colab": {
     "base_uri": "https://localhost:8080/"
    },
    "id": "87f75356",
    "outputId": "109fd80f-e1fe-4a74-daa7-61bbe6eb9c11"
   },
   "outputs": [
    {
     "name": "stdout",
     "output_type": "stream",
     "text": [
      "Epoch 1/75\n",
      "53/53 [==============================] - 1s 5ms/step - loss: 2.4050 - accuracy: 0.1874\n",
      "Epoch 2/75\n",
      "53/53 [==============================] - 0s 4ms/step - loss: 2.1960 - accuracy: 0.2290\n",
      "Epoch 3/75\n",
      "53/53 [==============================] - 0s 5ms/step - loss: 2.1367 - accuracy: 0.2493\n",
      "Epoch 4/75\n",
      "53/53 [==============================] - 0s 4ms/step - loss: 2.0641 - accuracy: 0.2623\n",
      "Epoch 5/75\n",
      "53/53 [==============================] - 0s 4ms/step - loss: 1.9919 - accuracy: 0.2980\n",
      "Epoch 6/75\n",
      "53/53 [==============================] - 0s 4ms/step - loss: 1.9179 - accuracy: 0.3171\n",
      "Epoch 7/75\n",
      "53/53 [==============================] - 0s 4ms/step - loss: 1.8451 - accuracy: 0.3296\n",
      "Epoch 8/75\n",
      "53/53 [==============================] - 0s 4ms/step - loss: 1.7541 - accuracy: 0.3676\n",
      "Epoch 9/75\n",
      "53/53 [==============================] - 0s 5ms/step - loss: 1.6462 - accuracy: 0.3980\n",
      "Epoch 10/75\n",
      "53/53 [==============================] - 0s 4ms/step - loss: 1.5516 - accuracy: 0.4343\n",
      "Epoch 11/75\n",
      "53/53 [==============================] - 0s 4ms/step - loss: 1.4825 - accuracy: 0.4587\n",
      "Epoch 12/75\n",
      "53/53 [==============================] - 0s 4ms/step - loss: 1.4049 - accuracy: 0.4706\n",
      "Epoch 13/75\n",
      "53/53 [==============================] - 0s 5ms/step - loss: 1.2970 - accuracy: 0.5294\n",
      "Epoch 14/75\n",
      "53/53 [==============================] - 0s 5ms/step - loss: 1.1921 - accuracy: 0.5693\n",
      "Epoch 15/75\n",
      "53/53 [==============================] - 0s 5ms/step - loss: 1.0849 - accuracy: 0.6175\n",
      "Epoch 16/75\n",
      "53/53 [==============================] - 0s 5ms/step - loss: 1.0010 - accuracy: 0.6258\n",
      "Epoch 17/75\n",
      "53/53 [==============================] - 0s 5ms/step - loss: 0.9677 - accuracy: 0.6443\n",
      "Epoch 18/75\n",
      "53/53 [==============================] - 0s 5ms/step - loss: 0.7933 - accuracy: 0.7127\n",
      "Epoch 19/75\n",
      "53/53 [==============================] - 0s 5ms/step - loss: 0.7583 - accuracy: 0.7198\n",
      "Epoch 20/75\n",
      "53/53 [==============================] - 0s 5ms/step - loss: 0.6428 - accuracy: 0.7733\n",
      "Epoch 21/75\n",
      "53/53 [==============================] - 0s 5ms/step - loss: 0.6051 - accuracy: 0.7793\n",
      "Epoch 22/75\n",
      "53/53 [==============================] - 0s 5ms/step - loss: 0.5817 - accuracy: 0.7900\n",
      "Epoch 23/75\n",
      "53/53 [==============================] - 0s 5ms/step - loss: 0.4654 - accuracy: 0.8299\n",
      "Epoch 24/75\n",
      "53/53 [==============================] - 0s 5ms/step - loss: 0.3981 - accuracy: 0.8519\n",
      "Epoch 25/75\n",
      "53/53 [==============================] - 0s 5ms/step - loss: 0.4371 - accuracy: 0.8459\n",
      "Epoch 26/75\n",
      "53/53 [==============================] - 0s 5ms/step - loss: 0.3538 - accuracy: 0.8751\n",
      "Epoch 27/75\n",
      "53/53 [==============================] - 0s 5ms/step - loss: 0.3926 - accuracy: 0.8697\n",
      "Epoch 28/75\n",
      "53/53 [==============================] - 0s 5ms/step - loss: 0.3100 - accuracy: 0.8876\n",
      "Epoch 29/75\n",
      "53/53 [==============================] - 0s 5ms/step - loss: 0.3102 - accuracy: 0.8858\n",
      "Epoch 30/75\n",
      "53/53 [==============================] - 0s 5ms/step - loss: 0.3413 - accuracy: 0.8905\n",
      "Epoch 31/75\n",
      "53/53 [==============================] - 0s 5ms/step - loss: 0.2856 - accuracy: 0.9030: 0s - loss: 0.2619 - accuracy: 0.\n",
      "Epoch 32/75\n",
      "53/53 [==============================] - 0s 5ms/step - loss: 0.2944 - accuracy: 0.8947\n",
      "Epoch 33/75\n",
      "53/53 [==============================] - 0s 5ms/step - loss: 0.2481 - accuracy: 0.9131\n",
      "Epoch 34/75\n",
      "53/53 [==============================] - 0s 5ms/step - loss: 0.2211 - accuracy: 0.9233\n",
      "Epoch 35/75\n",
      "53/53 [==============================] - 0s 5ms/step - loss: 0.1486 - accuracy: 0.9453\n",
      "Epoch 36/75\n",
      "53/53 [==============================] - 0s 5ms/step - loss: 0.1768 - accuracy: 0.9411\n",
      "Epoch 37/75\n",
      "53/53 [==============================] - 0s 5ms/step - loss: 0.1724 - accuracy: 0.9405\n",
      "Epoch 38/75\n",
      "53/53 [==============================] - 0s 5ms/step - loss: 0.2378 - accuracy: 0.9239\n",
      "Epoch 39/75\n",
      "53/53 [==============================] - 0s 5ms/step - loss: 0.2432 - accuracy: 0.9143\n",
      "Epoch 40/75\n",
      "53/53 [==============================] - 0s 5ms/step - loss: 0.1495 - accuracy: 0.9477\n",
      "Epoch 41/75\n",
      "53/53 [==============================] - 0s 5ms/step - loss: 0.1110 - accuracy: 0.9643\n",
      "Epoch 42/75\n",
      "53/53 [==============================] - 0s 5ms/step - loss: 0.1000 - accuracy: 0.9637\n",
      "Epoch 43/75\n",
      "53/53 [==============================] - 0s 5ms/step - loss: 0.1623 - accuracy: 0.9524\n",
      "Epoch 44/75\n",
      "53/53 [==============================] - 0s 5ms/step - loss: 0.1844 - accuracy: 0.9387\n",
      "Epoch 45/75\n",
      "53/53 [==============================] - 0s 5ms/step - loss: 0.1666 - accuracy: 0.9477\n",
      "Epoch 46/75\n",
      "53/53 [==============================] - 0s 5ms/step - loss: 0.1677 - accuracy: 0.9471\n",
      "Epoch 47/75\n",
      "53/53 [==============================] - 0s 5ms/step - loss: 0.1243 - accuracy: 0.9595\n",
      "Epoch 48/75\n",
      "53/53 [==============================] - 0s 5ms/step - loss: 0.1230 - accuracy: 0.9578\n",
      "Epoch 49/75\n",
      "53/53 [==============================] - 0s 5ms/step - loss: 0.0984 - accuracy: 0.9691\n",
      "Epoch 50/75\n",
      "53/53 [==============================] - 0s 5ms/step - loss: 0.0747 - accuracy: 0.9774\n",
      "Epoch 51/75\n",
      "53/53 [==============================] - 0s 5ms/step - loss: 0.0627 - accuracy: 0.9756\n",
      "Epoch 52/75\n",
      "53/53 [==============================] - 0s 5ms/step - loss: 0.0676 - accuracy: 0.9762\n",
      "Epoch 53/75\n",
      "53/53 [==============================] - 0s 5ms/step - loss: 0.0508 - accuracy: 0.9827\n",
      "Epoch 54/75\n",
      "53/53 [==============================] - 0s 5ms/step - loss: 0.0985 - accuracy: 0.9685\n",
      "Epoch 55/75\n",
      "53/53 [==============================] - 0s 5ms/step - loss: 0.1047 - accuracy: 0.9685\n",
      "Epoch 56/75\n",
      "53/53 [==============================] - 0s 5ms/step - loss: 0.0743 - accuracy: 0.9810\n",
      "Epoch 57/75\n",
      "53/53 [==============================] - 0s 5ms/step - loss: 0.0916 - accuracy: 0.9673\n",
      "Epoch 58/75\n",
      "53/53 [==============================] - 0s 5ms/step - loss: 0.0886 - accuracy: 0.9714\n",
      "Epoch 59/75\n",
      "53/53 [==============================] - 0s 5ms/step - loss: 0.0865 - accuracy: 0.9732\n",
      "Epoch 60/75\n",
      "53/53 [==============================] - 0s 5ms/step - loss: 0.1046 - accuracy: 0.9720\n",
      "Epoch 61/75\n",
      "53/53 [==============================] - 0s 5ms/step - loss: 0.1219 - accuracy: 0.9631\n",
      "Epoch 62/75\n",
      "53/53 [==============================] - 0s 5ms/step - loss: 0.1351 - accuracy: 0.9566\n",
      "Epoch 63/75\n",
      "53/53 [==============================] - 0s 5ms/step - loss: 0.2301 - accuracy: 0.9387\n",
      "Epoch 64/75\n",
      "53/53 [==============================] - 0s 5ms/step - loss: 0.1892 - accuracy: 0.9572\n",
      "Epoch 65/75\n",
      "53/53 [==============================] - 0s 5ms/step - loss: 0.1655 - accuracy: 0.9572\n",
      "Epoch 66/75\n",
      "53/53 [==============================] - 0s 5ms/step - loss: 0.1079 - accuracy: 0.9673\n",
      "Epoch 67/75\n",
      "53/53 [==============================] - 0s 5ms/step - loss: 0.1192 - accuracy: 0.9685\n",
      "Epoch 68/75\n",
      "53/53 [==============================] - 0s 5ms/step - loss: 0.0579 - accuracy: 0.9827\n",
      "Epoch 69/75\n",
      "53/53 [==============================] - 0s 5ms/step - loss: 0.0472 - accuracy: 0.9875\n",
      "Epoch 70/75\n",
      "53/53 [==============================] - 0s 5ms/step - loss: 0.0303 - accuracy: 0.9887\n",
      "Epoch 71/75\n",
      "53/53 [==============================] - 0s 5ms/step - loss: 0.0445 - accuracy: 0.9905\n",
      "Epoch 72/75\n",
      "53/53 [==============================] - 0s 5ms/step - loss: 0.0662 - accuracy: 0.9810\n",
      "Epoch 73/75\n",
      "53/53 [==============================] - 0s 5ms/step - loss: 0.0847 - accuracy: 0.9756\n",
      "Epoch 74/75\n",
      "53/53 [==============================] - 0s 5ms/step - loss: 0.0432 - accuracy: 0.9851\n",
      "Epoch 75/75\n",
      "53/53 [==============================] - 0s 5ms/step - loss: 0.0330 - accuracy: 0.9917\n"
     ]
    },
    {
     "data": {
      "text/plain": [
       "<keras.callbacks.History at 0x1f4ee894fd0>"
      ]
     },
     "execution_count": 79,
     "metadata": {},
     "output_type": "execute_result"
    }
   ],
   "source": [
    "ann.fit(X_train, y_train, epochs=75)"
   ]
  },
  {
   "cell_type": "code",
   "execution_count": 80,
   "id": "da4175ff",
   "metadata": {
    "id": "da4175ff"
   },
   "outputs": [],
   "source": [
    "y_pred=ann.predict(X_test)\n",
    "y_pred_train=ann.predict(X_train)"
   ]
  },
  {
   "cell_type": "code",
   "execution_count": 81,
   "id": "730b4ac2",
   "metadata": {
    "id": "730b4ac2"
   },
   "outputs": [],
   "source": [
    "test_predictions=[0]*y_pred.shape[0]\n",
    "for i in range(y_pred.shape[0]):\n",
    "    test_predictions[i]=np.argmax(y_pred[i])+1\n",
    "train_predictions=[0]*y_pred_train.shape[0]\n",
    "for i in range(y_pred_train.shape[0]):\n",
    "    train_predictions[i]=np.argmax(y_pred_train[i])+1"
   ]
  },
  {
   "cell_type": "code",
   "execution_count": 82,
   "id": "3a4a8c48",
   "metadata": {
    "colab": {
     "base_uri": "https://localhost:8080/"
    },
    "id": "3a4a8c48",
    "outputId": "3e7e3b89-0575-4097-df02-7668d0087cd7",
    "scrolled": false
   },
   "outputs": [
    {
     "name": "stdout",
     "output_type": "stream",
     "text": [
      "Accuracy via prediction on test set:  0.5044563279857398\n",
      "Accuracy via prediction on test set:  0.9904818560380726\n"
     ]
    }
   ],
   "source": [
    "print('Accuracy via prediction on test set: ', accuracy_score(y_test_3,test_predictions))\n",
    "print('Accuracy via prediction on test set: ', accuracy_score(y_train_3,train_predictions))"
   ]
  },
  {
   "cell_type": "code",
   "execution_count": 83,
   "id": "05886ae5",
   "metadata": {},
   "outputs": [
    {
     "name": "stdout",
     "output_type": "stream",
     "text": [
      "0 0\n",
      "0 1\n",
      "0 2\n",
      "1 0\n",
      "1 1\n",
      "1 2\n",
      "2 0\n",
      "2 1\n",
      "2 2\n",
      "3 0\n",
      "3 1\n",
      "3 2\n",
      "4 0\n",
      "4 1\n",
      "4 2\n"
     ]
    }
   ],
   "source": [
    "for i in range(5):\n",
    "    for j in range(4):\n",
    "        if j==3:\n",
    "            break\n",
    "        print(i,j)"
   ]
  },
  {
   "cell_type": "code",
   "execution_count": 4,
   "id": "95446e9c",
   "metadata": {},
   "outputs": [],
   "source": [
    "data = [['tom', 10], ['nick', 15], ['juli', 14]]\n",
    "import pandas as pd"
   ]
  },
  {
   "cell_type": "code",
   "execution_count": 5,
   "id": "546a48e5",
   "metadata": {},
   "outputs": [],
   "source": [
    "df = pd.DataFrame(data, columns = ['Name', 'Age'])"
   ]
  },
  {
   "cell_type": "code",
   "execution_count": 10,
   "id": "405986a5",
   "metadata": {},
   "outputs": [],
   "source": [
    "df['Age'] = df['Age'].astype(int)"
   ]
  },
  {
   "cell_type": "code",
   "execution_count": 29,
   "id": "c0773b20",
   "metadata": {},
   "outputs": [],
   "source": [
    "def tt(s):\n",
    "    if s>0:\n",
    "        p=[]\n",
    "        i=1\n",
    "        j=2\n",
    "        return i,j"
   ]
  },
  {
   "cell_type": "code",
   "execution_count": 27,
   "id": "8f2a8997",
   "metadata": {},
   "outputs": [
    {
     "data": {
      "text/html": [
       "<div>\n",
       "<style scoped>\n",
       "    .dataframe tbody tr th:only-of-type {\n",
       "        vertical-align: middle;\n",
       "    }\n",
       "\n",
       "    .dataframe tbody tr th {\n",
       "        vertical-align: top;\n",
       "    }\n",
       "\n",
       "    .dataframe thead th {\n",
       "        text-align: right;\n",
       "    }\n",
       "</style>\n",
       "<table border=\"1\" class=\"dataframe\">\n",
       "  <thead>\n",
       "    <tr style=\"text-align: right;\">\n",
       "      <th></th>\n",
       "      <th>Name</th>\n",
       "      <th>Age</th>\n",
       "      <th>A</th>\n",
       "      <th>B</th>\n",
       "    </tr>\n",
       "  </thead>\n",
       "  <tbody>\n",
       "    <tr>\n",
       "      <th>0</th>\n",
       "      <td>tom</td>\n",
       "      <td>10</td>\n",
       "      <td>NaN</td>\n",
       "      <td>NaN</td>\n",
       "    </tr>\n",
       "    <tr>\n",
       "      <th>1</th>\n",
       "      <td>nick</td>\n",
       "      <td>15</td>\n",
       "      <td>NaN</td>\n",
       "      <td>NaN</td>\n",
       "    </tr>\n",
       "    <tr>\n",
       "      <th>2</th>\n",
       "      <td>juli</td>\n",
       "      <td>14</td>\n",
       "      <td>NaN</td>\n",
       "      <td>NaN</td>\n",
       "    </tr>\n",
       "  </tbody>\n",
       "</table>\n",
       "</div>"
      ],
      "text/plain": [
       "   Name  Age   A   B\n",
       "0   tom   10 NaN NaN\n",
       "1  nick   15 NaN NaN\n",
       "2  juli   14 NaN NaN"
      ]
     },
     "execution_count": 27,
     "metadata": {},
     "output_type": "execute_result"
    }
   ],
   "source": [
    "df"
   ]
  },
  {
   "cell_type": "code",
   "execution_count": 30,
   "id": "f37d0378",
   "metadata": {},
   "outputs": [
    {
     "ename": "ValueError",
     "evalue": "Must have equal len keys and value when setting with an iterable",
     "output_type": "error",
     "traceback": [
      "\u001b[1;31m---------------------------------------------------------------------------\u001b[0m",
      "\u001b[1;31mValueError\u001b[0m                                Traceback (most recent call last)",
      "\u001b[1;32m<ipython-input-30-4e062d07211d>\u001b[0m in \u001b[0;36m<module>\u001b[1;34m\u001b[0m\n\u001b[1;32m----> 1\u001b[1;33m \u001b[0mdf\u001b[0m\u001b[1;33m[\u001b[0m\u001b[1;33m[\u001b[0m\u001b[1;34m'A'\u001b[0m\u001b[1;33m,\u001b[0m\u001b[1;34m'B'\u001b[0m\u001b[1;33m]\u001b[0m\u001b[1;33m]\u001b[0m \u001b[1;33m=\u001b[0m \u001b[0mdf\u001b[0m\u001b[1;33m[\u001b[0m\u001b[1;34m'Age'\u001b[0m\u001b[1;33m]\u001b[0m\u001b[1;33m.\u001b[0m\u001b[0mapply\u001b[0m\u001b[1;33m(\u001b[0m\u001b[0mtt\u001b[0m\u001b[1;33m)\u001b[0m\u001b[1;33m\u001b[0m\u001b[1;33m\u001b[0m\u001b[0m\n\u001b[0m",
      "\u001b[1;32mC:\\ProgramData\\Anaconda3\\lib\\site-packages\\pandas\\core\\frame.py\u001b[0m in \u001b[0;36m__setitem__\u001b[1;34m(self, key, value)\u001b[0m\n\u001b[0;32m   3158\u001b[0m             \u001b[0mself\u001b[0m\u001b[1;33m.\u001b[0m\u001b[0m_setitem_frame\u001b[0m\u001b[1;33m(\u001b[0m\u001b[0mkey\u001b[0m\u001b[1;33m,\u001b[0m \u001b[0mvalue\u001b[0m\u001b[1;33m)\u001b[0m\u001b[1;33m\u001b[0m\u001b[1;33m\u001b[0m\u001b[0m\n\u001b[0;32m   3159\u001b[0m         \u001b[1;32melif\u001b[0m \u001b[0misinstance\u001b[0m\u001b[1;33m(\u001b[0m\u001b[0mkey\u001b[0m\u001b[1;33m,\u001b[0m \u001b[1;33m(\u001b[0m\u001b[0mSeries\u001b[0m\u001b[1;33m,\u001b[0m \u001b[0mnp\u001b[0m\u001b[1;33m.\u001b[0m\u001b[0mndarray\u001b[0m\u001b[1;33m,\u001b[0m \u001b[0mlist\u001b[0m\u001b[1;33m,\u001b[0m \u001b[0mIndex\u001b[0m\u001b[1;33m)\u001b[0m\u001b[1;33m)\u001b[0m\u001b[1;33m:\u001b[0m\u001b[1;33m\u001b[0m\u001b[1;33m\u001b[0m\u001b[0m\n\u001b[1;32m-> 3160\u001b[1;33m             \u001b[0mself\u001b[0m\u001b[1;33m.\u001b[0m\u001b[0m_setitem_array\u001b[0m\u001b[1;33m(\u001b[0m\u001b[0mkey\u001b[0m\u001b[1;33m,\u001b[0m \u001b[0mvalue\u001b[0m\u001b[1;33m)\u001b[0m\u001b[1;33m\u001b[0m\u001b[1;33m\u001b[0m\u001b[0m\n\u001b[0m\u001b[0;32m   3161\u001b[0m         \u001b[1;32melse\u001b[0m\u001b[1;33m:\u001b[0m\u001b[1;33m\u001b[0m\u001b[1;33m\u001b[0m\u001b[0m\n\u001b[0;32m   3162\u001b[0m             \u001b[1;31m# set column\u001b[0m\u001b[1;33m\u001b[0m\u001b[1;33m\u001b[0m\u001b[1;33m\u001b[0m\u001b[0m\n",
      "\u001b[1;32mC:\\ProgramData\\Anaconda3\\lib\\site-packages\\pandas\\core\\frame.py\u001b[0m in \u001b[0;36m_setitem_array\u001b[1;34m(self, key, value)\u001b[0m\n\u001b[0;32m   3196\u001b[0m                 )[1]\n\u001b[0;32m   3197\u001b[0m                 \u001b[0mself\u001b[0m\u001b[1;33m.\u001b[0m\u001b[0m_check_setitem_copy\u001b[0m\u001b[1;33m(\u001b[0m\u001b[1;33m)\u001b[0m\u001b[1;33m\u001b[0m\u001b[1;33m\u001b[0m\u001b[0m\n\u001b[1;32m-> 3198\u001b[1;33m                 \u001b[0mself\u001b[0m\u001b[1;33m.\u001b[0m\u001b[0miloc\u001b[0m\u001b[1;33m[\u001b[0m\u001b[1;33m:\u001b[0m\u001b[1;33m,\u001b[0m \u001b[0mindexer\u001b[0m\u001b[1;33m]\u001b[0m \u001b[1;33m=\u001b[0m \u001b[0mvalue\u001b[0m\u001b[1;33m\u001b[0m\u001b[1;33m\u001b[0m\u001b[0m\n\u001b[0m\u001b[0;32m   3199\u001b[0m \u001b[1;33m\u001b[0m\u001b[0m\n\u001b[0;32m   3200\u001b[0m     \u001b[1;32mdef\u001b[0m \u001b[0m_setitem_frame\u001b[0m\u001b[1;33m(\u001b[0m\u001b[0mself\u001b[0m\u001b[1;33m,\u001b[0m \u001b[0mkey\u001b[0m\u001b[1;33m,\u001b[0m \u001b[0mvalue\u001b[0m\u001b[1;33m)\u001b[0m\u001b[1;33m:\u001b[0m\u001b[1;33m\u001b[0m\u001b[1;33m\u001b[0m\u001b[0m\n",
      "\u001b[1;32mC:\\ProgramData\\Anaconda3\\lib\\site-packages\\pandas\\core\\indexing.py\u001b[0m in \u001b[0;36m__setitem__\u001b[1;34m(self, key, value)\u001b[0m\n\u001b[0;32m    690\u001b[0m \u001b[1;33m\u001b[0m\u001b[0m\n\u001b[0;32m    691\u001b[0m         \u001b[0miloc\u001b[0m \u001b[1;33m=\u001b[0m \u001b[0mself\u001b[0m \u001b[1;32mif\u001b[0m \u001b[0mself\u001b[0m\u001b[1;33m.\u001b[0m\u001b[0mname\u001b[0m \u001b[1;33m==\u001b[0m \u001b[1;34m\"iloc\"\u001b[0m \u001b[1;32melse\u001b[0m \u001b[0mself\u001b[0m\u001b[1;33m.\u001b[0m\u001b[0mobj\u001b[0m\u001b[1;33m.\u001b[0m\u001b[0miloc\u001b[0m\u001b[1;33m\u001b[0m\u001b[1;33m\u001b[0m\u001b[0m\n\u001b[1;32m--> 692\u001b[1;33m         \u001b[0miloc\u001b[0m\u001b[1;33m.\u001b[0m\u001b[0m_setitem_with_indexer\u001b[0m\u001b[1;33m(\u001b[0m\u001b[0mindexer\u001b[0m\u001b[1;33m,\u001b[0m \u001b[0mvalue\u001b[0m\u001b[1;33m,\u001b[0m \u001b[0mself\u001b[0m\u001b[1;33m.\u001b[0m\u001b[0mname\u001b[0m\u001b[1;33m)\u001b[0m\u001b[1;33m\u001b[0m\u001b[1;33m\u001b[0m\u001b[0m\n\u001b[0m\u001b[0;32m    693\u001b[0m \u001b[1;33m\u001b[0m\u001b[0m\n\u001b[0;32m    694\u001b[0m     \u001b[1;32mdef\u001b[0m \u001b[0m_validate_key\u001b[0m\u001b[1;33m(\u001b[0m\u001b[0mself\u001b[0m\u001b[1;33m,\u001b[0m \u001b[0mkey\u001b[0m\u001b[1;33m,\u001b[0m \u001b[0maxis\u001b[0m\u001b[1;33m:\u001b[0m \u001b[0mint\u001b[0m\u001b[1;33m)\u001b[0m\u001b[1;33m:\u001b[0m\u001b[1;33m\u001b[0m\u001b[1;33m\u001b[0m\u001b[0m\n",
      "\u001b[1;32mC:\\ProgramData\\Anaconda3\\lib\\site-packages\\pandas\\core\\indexing.py\u001b[0m in \u001b[0;36m_setitem_with_indexer\u001b[1;34m(self, indexer, value, name)\u001b[0m\n\u001b[0;32m   1633\u001b[0m         \u001b[1;32mif\u001b[0m \u001b[0mtake_split_path\u001b[0m\u001b[1;33m:\u001b[0m\u001b[1;33m\u001b[0m\u001b[1;33m\u001b[0m\u001b[0m\n\u001b[0;32m   1634\u001b[0m             \u001b[1;31m# We have to operate column-wise\u001b[0m\u001b[1;33m\u001b[0m\u001b[1;33m\u001b[0m\u001b[1;33m\u001b[0m\u001b[0m\n\u001b[1;32m-> 1635\u001b[1;33m             \u001b[0mself\u001b[0m\u001b[1;33m.\u001b[0m\u001b[0m_setitem_with_indexer_split_path\u001b[0m\u001b[1;33m(\u001b[0m\u001b[0mindexer\u001b[0m\u001b[1;33m,\u001b[0m \u001b[0mvalue\u001b[0m\u001b[1;33m,\u001b[0m \u001b[0mname\u001b[0m\u001b[1;33m)\u001b[0m\u001b[1;33m\u001b[0m\u001b[1;33m\u001b[0m\u001b[0m\n\u001b[0m\u001b[0;32m   1636\u001b[0m         \u001b[1;32melse\u001b[0m\u001b[1;33m:\u001b[0m\u001b[1;33m\u001b[0m\u001b[1;33m\u001b[0m\u001b[0m\n\u001b[0;32m   1637\u001b[0m             \u001b[0mself\u001b[0m\u001b[1;33m.\u001b[0m\u001b[0m_setitem_single_block\u001b[0m\u001b[1;33m(\u001b[0m\u001b[0mindexer\u001b[0m\u001b[1;33m,\u001b[0m \u001b[0mvalue\u001b[0m\u001b[1;33m,\u001b[0m \u001b[0mname\u001b[0m\u001b[1;33m)\u001b[0m\u001b[1;33m\u001b[0m\u001b[1;33m\u001b[0m\u001b[0m\n",
      "\u001b[1;32mC:\\ProgramData\\Anaconda3\\lib\\site-packages\\pandas\\core\\indexing.py\u001b[0m in \u001b[0;36m_setitem_with_indexer_split_path\u001b[1;34m(self, indexer, value, name)\u001b[0m\n\u001b[0;32m   1709\u001b[0m \u001b[1;33m\u001b[0m\u001b[0m\n\u001b[0;32m   1710\u001b[0m             \u001b[1;32melse\u001b[0m\u001b[1;33m:\u001b[0m\u001b[1;33m\u001b[0m\u001b[1;33m\u001b[0m\u001b[0m\n\u001b[1;32m-> 1711\u001b[1;33m                 raise ValueError(\n\u001b[0m\u001b[0;32m   1712\u001b[0m                     \u001b[1;34m\"Must have equal len keys and value \"\u001b[0m\u001b[1;33m\u001b[0m\u001b[1;33m\u001b[0m\u001b[0m\n\u001b[0;32m   1713\u001b[0m                     \u001b[1;34m\"when setting with an iterable\"\u001b[0m\u001b[1;33m\u001b[0m\u001b[1;33m\u001b[0m\u001b[0m\n",
      "\u001b[1;31mValueError\u001b[0m: Must have equal len keys and value when setting with an iterable"
     ]
    }
   ],
   "source": [
    "df[['A','B']] = df['Age'].apply(tt)"
   ]
  },
  {
   "cell_type": "code",
   "execution_count": 34,
   "id": "7d1a9f5c",
   "metadata": {},
   "outputs": [
    {
     "data": {
      "text/plain": [
       "pandas.core.series.Series"
      ]
     },
     "execution_count": 34,
     "metadata": {},
     "output_type": "execute_result"
    }
   ],
   "source": [
    "type(df[['Name','Age']].iloc[0])"
   ]
  },
  {
   "cell_type": "code",
   "execution_count": 24,
   "id": "df9adfed",
   "metadata": {},
   "outputs": [
    {
     "data": {
      "text/html": [
       "<div>\n",
       "<style scoped>\n",
       "    .dataframe tbody tr th:only-of-type {\n",
       "        vertical-align: middle;\n",
       "    }\n",
       "\n",
       "    .dataframe tbody tr th {\n",
       "        vertical-align: top;\n",
       "    }\n",
       "\n",
       "    .dataframe thead th {\n",
       "        text-align: right;\n",
       "    }\n",
       "</style>\n",
       "<table border=\"1\" class=\"dataframe\">\n",
       "  <thead>\n",
       "    <tr style=\"text-align: right;\">\n",
       "      <th></th>\n",
       "      <th>Name</th>\n",
       "      <th>Age</th>\n",
       "      <th>A</th>\n",
       "      <th>B</th>\n",
       "    </tr>\n",
       "  </thead>\n",
       "  <tbody>\n",
       "    <tr>\n",
       "      <th>0</th>\n",
       "      <td>tom</td>\n",
       "      <td>10</td>\n",
       "      <td>NaN</td>\n",
       "      <td>NaN</td>\n",
       "    </tr>\n",
       "    <tr>\n",
       "      <th>1</th>\n",
       "      <td>nick</td>\n",
       "      <td>15</td>\n",
       "      <td>NaN</td>\n",
       "      <td>NaN</td>\n",
       "    </tr>\n",
       "    <tr>\n",
       "      <th>2</th>\n",
       "      <td>juli</td>\n",
       "      <td>14</td>\n",
       "      <td>NaN</td>\n",
       "      <td>NaN</td>\n",
       "    </tr>\n",
       "  </tbody>\n",
       "</table>\n",
       "</div>"
      ],
      "text/plain": [
       "   Name  Age   A   B\n",
       "0   tom   10 NaN NaN\n",
       "1  nick   15 NaN NaN\n",
       "2  juli   14 NaN NaN"
      ]
     },
     "execution_count": 24,
     "metadata": {},
     "output_type": "execute_result"
    }
   ],
   "source": [
    "df"
   ]
  },
  {
   "cell_type": "code",
   "execution_count": 3,
   "id": "d0455b4c",
   "metadata": {},
   "outputs": [],
   "source": [
    "def printrotatedstring(s):\n",
    "    n = len(s)\n",
    "    temp =''\n",
    "    for i in range(n):\n",
    "        j=i\n",
    "        k=0\n",
    "        while j<n:\n",
    "            temp[k]=s[j]\n",
    "            k+=1\n",
    "            j+=1\n",
    "        j=0\n",
    "        while(j<i):\n",
    "            temp[k]=s[j]\n",
    "            j+=1\n",
    "            k+=1\n",
    "        if temp[0]=='p':\n",
    "            print(temp)"
   ]
  },
  {
   "cell_type": "code",
   "execution_count": null,
   "id": "b4b7bf63",
   "metadata": {},
   "outputs": [],
   "source": []
  }
 ],
 "metadata": {
  "accelerator": "GPU",
  "colab": {
   "name": "Qualy_Results.ipynb",
   "provenance": []
  },
  "kernelspec": {
   "display_name": "Python 3",
   "language": "python",
   "name": "python3"
  },
  "language_info": {
   "codemirror_mode": {
    "name": "ipython",
    "version": 3
   },
   "file_extension": ".py",
   "mimetype": "text/x-python",
   "name": "python",
   "nbconvert_exporter": "python",
   "pygments_lexer": "ipython3",
   "version": "3.8.8"
  },
  "toc": {
   "base_numbering": 1,
   "nav_menu": {},
   "number_sections": true,
   "sideBar": true,
   "skip_h1_title": false,
   "title_cell": "Table of Contents",
   "title_sidebar": "Contents",
   "toc_cell": false,
   "toc_position": {
    "height": "calc(100% - 180px)",
    "left": "10px",
    "top": "150px",
    "width": "165px"
   },
   "toc_section_display": true,
   "toc_window_display": true
  },
  "varInspector": {
   "cols": {
    "lenName": 16,
    "lenType": 16,
    "lenVar": 40
   },
   "kernels_config": {
    "python": {
     "delete_cmd_postfix": "",
     "delete_cmd_prefix": "del ",
     "library": "var_list.py",
     "varRefreshCmd": "print(var_dic_list())"
    },
    "r": {
     "delete_cmd_postfix": ") ",
     "delete_cmd_prefix": "rm(",
     "library": "var_list.r",
     "varRefreshCmd": "cat(var_dic_list()) "
    }
   },
   "types_to_exclude": [
    "module",
    "function",
    "builtin_function_or_method",
    "instance",
    "_Feature"
   ],
   "window_display": false
  }
 },
 "nbformat": 4,
 "nbformat_minor": 5
}
